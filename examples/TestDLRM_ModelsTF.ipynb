{
 "cells": [
  {
   "cell_type": "markdown",
   "id": "4a7a4b28",
   "metadata": {},
   "source": [
    "To run this POC:\n",
    "1. Download and uncompress TenRec preprocessed dataset: https://drive.google.com/file/d/1OW6zIk2jUOyYiugr4fNDOCiYF86Nz4-O/view?usp=sharing  \n",
    "\n",
    "2. Run a Merlin TF Docker container (adjusting the paths)\n",
    "```bash\n",
    "docker run --runtime=nvidia --rm -it --ipc=host --cap-add SYS_NICE -v /home/gmoreira/projects/nvidia/nvidia_merlin/:/merlin_dev/ -v /mnt/nvme0n1/datasets:/data -p 8888:8888 nvcr.io/nvidia/merlin/merlin-tensorflow:23.06 /bin/bash\n",
    "```\n",
    "\n",
    "3. Pull latest code from main and pip install latest code from models \n",
    "```\n",
    "cd /models\n",
    "git config remote.origin.fetch \"+refs/heads/*:refs/remotes/origin/*\" && git fetch && git checkout main && pip install . --no-deps\n",
    "```\n",
    "\n",
    "4. Start Jupyter notebook\n",
    "```bash\n",
    "jupyter notebook --no-browser --ip 0.0.0.0 --no-browser --allow-root\n",
    "```"
   ]
  },
  {
   "cell_type": "code",
   "execution_count": 1,
   "id": "2bb43f63",
   "metadata": {},
   "outputs": [
    {
     "name": "stderr",
     "output_type": "stream",
     "text": [
      "2023-07-06 03:30:22.183795: I tensorflow/core/util/port.cc:110] oneDNN custom operations are on. You may see slightly different numerical results due to floating-point round-off errors from different computation orders. To turn them off, set the environment variable `TF_ENABLE_ONEDNN_OPTS=0`.\n",
      "2023-07-06 03:30:22.220282: I tensorflow/core/platform/cpu_feature_guard.cc:183] This TensorFlow binary is optimized to use available CPU instructions in performance-critical operations.\n",
      "To enable the following instructions: SSE3 SSE4.1 SSE4.2 AVX, in other operations, rebuild TensorFlow with the appropriate compiler flags.\n"
     ]
    }
   ],
   "source": [
    "import os\n",
    "from tensorflow.keras import regularizers"
   ]
  },
  {
   "cell_type": "code",
   "execution_count": 2,
   "id": "50aa652d",
   "metadata": {},
   "outputs": [],
   "source": [
    "os.environ[\"CUDA_VISIBLE_DEVICES\"] = \"0\""
   ]
  },
  {
   "cell_type": "code",
   "execution_count": 3,
   "id": "70db5278",
   "metadata": {},
   "outputs": [],
   "source": [
    "import tensorflow as tf"
   ]
  },
  {
   "cell_type": "code",
   "execution_count": 4,
   "id": "24a5bf76",
   "metadata": {},
   "outputs": [
    {
     "name": "stdout",
     "output_type": "stream",
     "text": [
      "WARNING:tensorflow:Please fix your imports. Module tensorflow.python.training.tracking.data_structures has been moved to tensorflow.python.trackable.data_structures. The old module will be deleted in version 2.11.\n"
     ]
    },
    {
     "name": "stderr",
     "output_type": "stream",
     "text": [
      "/usr/local/lib/python3.8/dist-packages/merlin/dtypes/mappings/torch.py:43: UserWarning: PyTorch dtype mappings did not load successfully due to an error: No module named 'torch'\n",
      "  warn(f\"PyTorch dtype mappings did not load successfully due to an error: {exc.msg}\")\n"
     ]
    },
    {
     "name": "stdout",
     "output_type": "stream",
     "text": [
      "[INFO]: sparse_operation_kit is imported\n",
      "WARNING:tensorflow:Please fix your imports. Module tensorflow.python.training.tracking.base has been moved to tensorflow.python.trackable.base. The old module will be deleted in version 2.11.\n",
      "[SOK INFO] Import /usr/local/lib/python3.8/dist-packages/merlin_sok-1.2.0-py3.8-linux-x86_64.egg/sparse_operation_kit/lib/libsok_experiment.so\n",
      "[SOK INFO] Import /usr/local/lib/python3.8/dist-packages/merlin_sok-1.2.0-py3.8-linux-x86_64.egg/sparse_operation_kit/lib/libsok_experiment.so\n",
      "[SOK INFO] Initialize finished, communication tool: horovod\n"
     ]
    },
    {
     "name": "stderr",
     "output_type": "stream",
     "text": [
      "2023-07-06 03:30:27.999511: W tensorflow/core/common_runtime/gpu/gpu_bfc_allocator.cc:47] Overriding orig_value setting because the TF_FORCE_GPU_ALLOW_GROWTH environment variable is set. Original config value was 0.\n",
      "2023-07-06 03:30:27.999552: I tensorflow/core/common_runtime/gpu/gpu_device.cc:1638] Created device /job:localhost/replica:0/task:0/device:GPU:0 with 16254 MB memory:  -> device: 0, name: Quadro GV100, pci bus id: 0000:15:00.0, compute capability: 7.0\n",
      "/usr/local/lib/python3.8/dist-packages/tqdm/auto.py:21: TqdmWarning: IProgress not found. Please update jupyter and ipywidgets. See https://ipywidgets.readthedocs.io/en/stable/user_install.html\n",
      "  from .autonotebook import tqdm as notebook_tqdm\n"
     ]
    }
   ],
   "source": [
    "import merlin.models.tf as mm\n",
    "from merlin.dataloader.tensorflow import Loader\n",
    "from merlin.io.dataset import Dataset\n",
    "from merlin.schema import ColumnSchema"
   ]
  },
  {
   "cell_type": "code",
   "execution_count": 5,
   "id": "f5f0c352",
   "metadata": {},
   "outputs": [],
   "source": [
    "import wandb"
   ]
  },
  {
   "cell_type": "code",
   "execution_count": 6,
   "id": "45a70d22",
   "metadata": {},
   "outputs": [],
   "source": [
    "config = dict(\n",
    "    epochs=1,\n",
    "    batch_size=16384,\n",
    "    embedding_dim = 64,\n",
    "    bottom_mlp = [64],\n",
    "    top_mlp = [256,128,64],\n",
    "    dropout = 0.18033334331720113,\n",
    "    l2_reg = 3.5665386015190466e-05,\n",
    "    LR=0.001,\n",
    "    #LR_decay_factor=0.98,\n",
    "    #LR_decay_steps=100,\n",
    "    positive_class_weight=9.0\n",
    ")"
   ]
  },
  {
   "cell_type": "code",
   "execution_count": 7,
   "id": "13fad1fd",
   "metadata": {},
   "outputs": [
    {
     "name": "stderr",
     "output_type": "stream",
     "text": [
      "\u001b[34m\u001b[1mwandb\u001b[0m: Currently logged in as: \u001b[33mgspmoreira\u001b[0m. Use \u001b[1m`wandb login --relogin`\u001b[0m to force relogin\n"
     ]
    },
    {
     "data": {
      "text/html": [
       "wandb version 0.15.5 is available!  To upgrade, please run:\n",
       " $ pip install wandb --upgrade"
      ],
      "text/plain": [
       "<IPython.core.display.HTML object>"
      ]
     },
     "metadata": {},
     "output_type": "display_data"
    },
    {
     "data": {
      "text/html": [
       "Tracking run with wandb version 0.15.4"
      ],
      "text/plain": [
       "<IPython.core.display.HTML object>"
      ]
     },
     "metadata": {},
     "output_type": "display_data"
    },
    {
     "data": {
      "text/html": [
       "Run data is saved locally in <code>/merlin_dev/models/examples/wandb/run-20230706_033030-f6d3z46i</code>"
      ],
      "text/plain": [
       "<IPython.core.display.HTML object>"
      ]
     },
     "metadata": {},
     "output_type": "display_data"
    },
    {
     "data": {
      "text/html": [
       "Syncing run <strong><a href='https://wandb.ai/gspmoreira/uncategorized/runs/f6d3z46i' target=\"_blank\">proud-oath-5</a></strong> to <a href='https://wandb.ai/gspmoreira/uncategorized' target=\"_blank\">Weights & Biases</a> (<a href='https://wandb.me/run' target=\"_blank\">docs</a>)<br/>"
      ],
      "text/plain": [
       "<IPython.core.display.HTML object>"
      ]
     },
     "metadata": {},
     "output_type": "display_data"
    },
    {
     "data": {
      "text/html": [
       " View project at <a href='https://wandb.ai/gspmoreira/uncategorized' target=\"_blank\">https://wandb.ai/gspmoreira/uncategorized</a>"
      ],
      "text/plain": [
       "<IPython.core.display.HTML object>"
      ]
     },
     "metadata": {},
     "output_type": "display_data"
    },
    {
     "data": {
      "text/html": [
       " View run at <a href='https://wandb.ai/gspmoreira/uncategorized/runs/f6d3z46i' target=\"_blank\">https://wandb.ai/gspmoreira/uncategorized/runs/f6d3z46i</a>"
      ],
      "text/plain": [
       "<IPython.core.display.HTML object>"
      ]
     },
     "metadata": {},
     "output_type": "display_data"
    },
    {
     "data": {
      "text/html": [
       "<button onClick=\"this.nextSibling.style.display='block';this.style.display='none';\">Display W&B run</button><iframe src='https://wandb.ai/gspmoreira/uncategorized/runs/f6d3z46i?jupyter=true' style='border:none;width:100%;height:420px;display:none;'></iframe>"
      ],
      "text/plain": [
       "<wandb.sdk.wandb_run.Run at 0x7fb3ac741ac0>"
      ]
     },
     "execution_count": 7,
     "metadata": {},
     "output_type": "execute_result"
    }
   ],
   "source": [
    "wandb.init(config=config)"
   ]
  },
  {
   "cell_type": "code",
   "execution_count": 8,
   "id": "a65d9898",
   "metadata": {},
   "outputs": [
    {
     "name": "stderr",
     "output_type": "stream",
     "text": [
      "\u001b[34m\u001b[1mwandb\u001b[0m: \u001b[33mWARNING\u001b[0m The save_model argument by default saves the model in the HDF5 format that cannot save custom objects like subclassed models and custom layers. This behavior will be deprecated in a future release in favor of the SavedModel format. Meanwhile, the HDF5 model is saved as W&B files and the SavedModel as W&B Artifacts.\n"
     ]
    }
   ],
   "source": [
    "wandb_callback = wandb.keras.WandbCallback(log_batch_frequency=50)"
   ]
  },
  {
   "cell_type": "code",
   "execution_count": 9,
   "id": "a2047be6",
   "metadata": {},
   "outputs": [],
   "source": [
    "train_dataset = Dataset(\"/data/tenrec/tenrec_preproc_v01/ranking/train/*.parquet\")\n",
    "valid_dataset = Dataset(\"/data/tenrec/tenrec_preproc_v01/ranking/valid/*.parquet\")\n",
    "schema = train_dataset.schema.excluding_by_name(['follow', 'like', 'share', 'watching_times'])"
   ]
  },
  {
   "cell_type": "code",
   "execution_count": 10,
   "id": "9d7cd3b6",
   "metadata": {},
   "outputs": [],
   "source": [
    "output_block = mm.BinaryOutput(\"click\", \n",
    "                               post = mm.ColumnBasedSampleWeight(\n",
    "                                    weight_column_name=\"click\",\n",
    "                                    binary_class_weights=(1.0, config[\"positive_class_weight\"]),\n",
    "                                ))\n",
    "model = mm.DLRMModel(\n",
    "    schema,\n",
    "    embedding_dim=config[\"embedding_dim\"],\n",
    "    bottom_block=mm.MLPBlock(config[\"bottom_mlp\"],\n",
    "                            kernel_regularizer=regularizers.l2(config[\"l2_reg\"]),\n",
    "                            bias_regularizer=regularizers.l2(config[\"l2_reg\"]),\n",
    "                            dropout=config[\"dropout\"]\n",
    "                            ),\n",
    "    top_block=mm.MLPBlock(config[\"top_mlp\"],\n",
    "                          kernel_regularizer=regularizers.l2(config[\"l2_reg\"]),\n",
    "                          bias_regularizer=regularizers.l2(config[\"l2_reg\"]),\n",
    "                          dropout=config[\"dropout\"]\n",
    "                         ),\n",
    "    prediction_tasks=output_block\n",
    ")"
   ]
  },
  {
   "cell_type": "code",
   "execution_count": 11,
   "id": "4cf24851",
   "metadata": {},
   "outputs": [
    {
     "data": {
      "text/plain": [
       "Model(\n",
       "  (_should_compute_train_metrics_for_batch): <tf.Variable 'should_compute_train_metrics_for_batch:0' shape=() dtype=bool, numpy=True>\n",
       "  (blocks): _TupleWrapper((SequentialBlock(\n",
       "    (layers): List(\n",
       "      (0): SequentialBlock(\n",
       "        (layers): List(\n",
       "          (0): ParallelBlock(\n",
       "            (parallel_layers): Dict(\n",
       "              (user_id): EmbeddingTable(\n",
       "                (features): Dict(\n",
       "                  (user_id): ColumnSchema(name='user_id', tags={<Tags.USER: 'user'>, <Tags.CATEGORICAL: 'categorical'>, <Tags.ID: 'id'>}, properties={'freq_threshold': 0.0, 'max_size': 0.0, 'num_buckets': None, 'start_index': 1.0, 'cat_path': './/categories/unique.user_id.parquet', 'embedding_sizes': {'cardinality': 2633851.0, 'dimension': 512.0}, 'domain': {'min': 0, 'max': 2633851, 'name': 'user_id'}}, dtype=DType(name='int32', element_type=<ElementType.Int: 'int'>, element_size=32, element_unit=None, signed=True, shape=Shape(dims=None)), is_list=False, is_ragged=False)\n",
       "                )\n",
       "                (table): Embedding()\n",
       "              )\n",
       "              (item_id): EmbeddingTable(\n",
       "                (features): Dict(\n",
       "                  (item_id): ColumnSchema(name='item_id', tags={<Tags.CATEGORICAL: 'categorical'>, <Tags.ITEM: 'item'>, <Tags.ID: 'id'>}, properties={'num_buckets': None, 'embedding_sizes': {'dimension': 512.0, 'cardinality': 179280.0}, 'start_index': 1.0, 'max_size': 0.0, 'cat_path': './/categories/unique.item_id.parquet', 'freq_threshold': 0.0, 'domain': {'min': 0, 'max': 179280, 'name': 'item_id'}}, dtype=DType(name='int32', element_type=<ElementType.Int: 'int'>, element_size=32, element_unit=None, signed=True, shape=Shape(dims=None)), is_list=False, is_ragged=False)\n",
       "                )\n",
       "                (table): Embedding()\n",
       "              )\n",
       "              (video_category): EmbeddingTable(\n",
       "                (features): Dict(\n",
       "                  (video_category): ColumnSchema(name='video_category', tags={<Tags.ITEM: 'item'>, <Tags.CATEGORICAL: 'categorical'>}, properties={'cat_path': './/categories/unique.video_category.parquet', 'embedding_sizes': {'dimension': 16.0, 'cardinality': 5.0}, 'freq_threshold': 0.0, 'start_index': 1.0, 'max_size': 0.0, 'num_buckets': None, 'domain': {'min': 0, 'max': 5, 'name': 'video_category'}}, dtype=DType(name='int32', element_type=<ElementType.Int: 'int'>, element_size=32, element_unit=None, signed=True, shape=Shape(dims=None)), is_list=False, is_ragged=False)\n",
       "                )\n",
       "                (table): Embedding()\n",
       "              )\n",
       "              (gender): EmbeddingTable(\n",
       "                (features): Dict(\n",
       "                  (gender): ColumnSchema(name='gender', tags={<Tags.USER: 'user'>, <Tags.CATEGORICAL: 'categorical'>}, properties={'embedding_sizes': {'cardinality': 5.0, 'dimension': 16.0}, 'num_buckets': None, 'start_index': 1.0, 'max_size': 0.0, 'cat_path': './/categories/unique.gender.parquet', 'freq_threshold': 0.0, 'domain': {'min': 0, 'max': 5, 'name': 'gender'}}, dtype=DType(name='int32', element_type=<ElementType.Int: 'int'>, element_size=32, element_unit=None, signed=True, shape=Shape(dims=None)), is_list=False, is_ragged=False)\n",
       "                )\n",
       "                (table): Embedding()\n",
       "              )\n",
       "              (age): EmbeddingTable(\n",
       "                (features): Dict(\n",
       "                  (age): ColumnSchema(name='age', tags={<Tags.USER: 'user'>, <Tags.CATEGORICAL: 'categorical'>}, properties={'num_buckets': None, 'cat_path': './/categories/unique.age.parquet', 'max_size': 0.0, 'start_index': 1.0, 'embedding_sizes': {'cardinality': 10.0, 'dimension': 16.0}, 'freq_threshold': 0.0, 'domain': {'min': 0, 'max': 10, 'name': 'age'}}, dtype=DType(name='int32', element_type=<ElementType.Int: 'int'>, element_size=32, element_unit=None, signed=True, shape=Shape(dims=None)), is_list=False, is_ragged=False)\n",
       "                )\n",
       "                (table): Embedding()\n",
       "              )\n",
       "            )\n",
       "          )\n",
       "          (1): Debug()\n",
       "        )\n",
       "      )\n",
       "      (1): SequentialBlock(\n",
       "        (layers): List(\n",
       "          (0): StackFeatures()\n",
       "          (1): DotProductInteraction()\n",
       "        )\n",
       "      )\n",
       "      (2): MLPBlock(\n",
       "        (layers): List(\n",
       "          (0): _Dense(\n",
       "            (dense): Dense(256, activation=relu, use_bias=True)\n",
       "          )\n",
       "          (1): Dropout()\n",
       "          (2): _Dense(\n",
       "            (dense): Dense(128, activation=relu, use_bias=True)\n",
       "          )\n",
       "          (3): Dropout()\n",
       "          (4): _Dense(\n",
       "            (dense): Dense(64, activation=relu, use_bias=True)\n",
       "          )\n",
       "          (5): Dropout()\n",
       "        )\n",
       "      )\n",
       "    )\n",
       "  ), BinaryOutput(\n",
       "    (to_call): Dense(1, activation=sigmoid, use_bias=True)\n",
       "    (post): ColumnBasedSampleWeight()\n",
       "  )))\n",
       "  (context): ModelContext()\n",
       "  (_prepare_features): PrepareFeatures(\n",
       "    (prepare_lists): PrepareListFeatures()\n",
       "  )\n",
       ")"
      ]
     },
     "execution_count": 11,
     "metadata": {},
     "output_type": "execute_result"
    }
   ],
   "source": [
    "model"
   ]
  },
  {
   "cell_type": "code",
   "execution_count": 12,
   "id": "fdc8082e",
   "metadata": {},
   "outputs": [],
   "source": [
    "optimizer = tf.keras.optimizers.Adam(learning_rate=config[\"LR\"])\n",
    "model.compile(optimizer, run_eagerly=False)"
   ]
  },
  {
   "cell_type": "code",
   "execution_count": 13,
   "id": "3758d1ac",
   "metadata": {},
   "outputs": [
    {
     "name": "stderr",
     "output_type": "stream",
     "text": [
      "2023-07-06 03:30:34.789777: I tensorflow/core/common_runtime/executor.cc:1209] [/device:CPU:0] (DEBUG INFO) Executor start aborting (this does not indicate an error and you can ignore this message): INVALID_ARGUMENT: You must feed a value for placeholder tensor 'Placeholder/_0' with dtype int32\n",
      "\t [[{{node Placeholder/_0}}]]\n",
      "2023-07-06 03:30:40.543084: I tensorflow/compiler/xla/service/service.cc:169] XLA service 0x4a1694a0 initialized for platform CUDA (this does not guarantee that XLA will be used). Devices:\n",
      "2023-07-06 03:30:40.543125: I tensorflow/compiler/xla/service/service.cc:177]   StreamExecutor device (0): Quadro GV100, Compute Capability 7.0\n",
      "2023-07-06 03:30:40.551028: I tensorflow/compiler/mlir/tensorflow/utils/dump_mlir_util.cc:269] disabling MLIR crash reproducer, set env var `MLIR_CRASH_REPRODUCER_DIRECTORY` to enable.\n",
      "2023-07-06 03:30:40.926684: I tensorflow/compiler/xla/stream_executor/cuda/cuda_dnn.cc:424] Loaded cuDNN version 8900\n",
      "2023-07-06 03:30:41.068496: I ./tensorflow/compiler/jit/device_compiler.h:180] Compiled cluster using XLA!  This line is logged at most once for the lifetime of the process.\n"
     ]
    },
    {
     "name": "stdout",
     "output_type": "stream",
     "text": [
      "9229/9229 [==============================] - 332s 35ms/step - loss: 1.4776 - precision: 0.3306 - recall: 0.9688 - binary_accuracy: 0.4221 - auc: 0.7526 - regularization_loss: 0.0013 - loss_batch: 1.4776\n",
      "CPU times: user 7min 41s, sys: 38.6 s, total: 8min 20s\n",
      "Wall time: 5min 34s\n"
     ]
    }
   ],
   "source": [
    "%%time\n",
    "with Loader(train_dataset, batch_size=config[\"batch_size\"]) as train_loader, \\\n",
    "     Loader(valid_dataset, batch_size=config[\"batch_size\"]) as valid_loader:\n",
    "     \n",
    "    model.fit(\n",
    "            train_dataset,            \n",
    "            epochs=config[\"epochs\"],\n",
    "            #steps_per_epoch=1000,\n",
    "            batch_size=config[\"batch_size\"],            \n",
    "            callbacks=[wandb_callback],      \n",
    "            train_metrics_steps=50\n",
    "            #validation_steps=100,\n",
    "            #validation_data=valid_loader,\n",
    "        )"
   ]
  },
  {
   "cell_type": "code",
   "execution_count": 14,
   "id": "afe3d059",
   "metadata": {},
   "outputs": [
    {
     "name": "stderr",
     "output_type": "stream",
     "text": [
      "2023-07-06 03:36:07.089212: I tensorflow/core/common_runtime/executor.cc:1209] [/device:CPU:0] (DEBUG INFO) Executor start aborting (this does not indicate an error and you can ignore this message): INVALID_ARGUMENT: You must feed a value for placeholder tensor 'Placeholder/_0' with dtype int32\n",
      "\t [[{{node Placeholder/_0}}]]\n"
     ]
    },
    {
     "name": "stdout",
     "output_type": "stream",
     "text": [
      "109/109 [==============================] - 2s 9ms/step - loss: 1.4808 - precision: 0.3457 - recall: 0.9655 - binary_accuracy: 0.4442 - auc: 0.7523 - regularization_loss: 8.0689e-04 - loss_batch: 1.4800\n",
      "CPU times: user 2.51 s, sys: 178 ms, total: 2.68 s\n",
      "Wall time: 1.71 s\n"
     ]
    },
    {
     "data": {
      "text/plain": [
       "{'loss': 1.4807631969451904,\n",
       " 'precision': 0.3457164764404297,\n",
       " 'recall': 0.9655006527900696,\n",
       " 'binary_accuracy': 0.4441780745983124,\n",
       " 'auc': 0.752277672290802,\n",
       " 'regularization_loss': 0.0008068884490057826,\n",
       " 'loss_batch': 1.4292196035385132}"
      ]
     },
     "execution_count": 14,
     "metadata": {},
     "output_type": "execute_result"
    }
   ],
   "source": [
    "%%time\n",
    "metrics = model.evaluate(valid_loader, return_dict=True)\n",
    "metrics"
   ]
  },
  {
   "cell_type": "code",
   "execution_count": null,
   "id": "aa8e0942",
   "metadata": {},
   "outputs": [],
   "source": []
  }
 ],
 "metadata": {
  "kernelspec": {
   "display_name": "Python 3 (ipykernel)",
   "language": "python",
   "name": "python3"
  },
  "language_info": {
   "codemirror_mode": {
    "name": "ipython",
    "version": 3
   },
   "file_extension": ".py",
   "mimetype": "text/x-python",
   "name": "python",
   "nbconvert_exporter": "python",
   "pygments_lexer": "ipython3",
   "version": "3.8.10"
  }
 },
 "nbformat": 4,
 "nbformat_minor": 5
}
