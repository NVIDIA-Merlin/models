{
 "cells": [
  {
   "cell_type": "code",
   "execution_count": null,
   "metadata": {},
   "outputs": [],
   "source": [
    "import tensorflow as tf\n",
    "\n",
    "from merlin.schema import ColumnSchema, Schema, Tags\n",
    "import merlin_models.tf as ml\n",
    "from merlin_models.data.synthetic import generate_user_item_interactions\n",
    "from merlin_models.utils.schema import create_categorical_column, create_continuous_column\n",
    "\n",
    "def data_from_schema(schema, num_items=1000) -> tf.data.Dataset:\n",
    "    data_df = generate_user_item_interactions(schema, num_items)\n",
    "\n",
    "    targets = {}\n",
    "    for target in synthetic_music_recsys_data_schema.select_by_tag(Tags.BINARY_CLASSIFICATION):\n",
    "        targets[target.name] = data_df.pop(target.name)\n",
    "\n",
    "    dataset = tf.data.Dataset.from_tensor_slices((dict(data_df), targets))\n",
    "    # dataset = dataset.batch(100)\n",
    "\n",
    "    return dataset"
   ]
  },
  {
   "cell_type": "code",
   "execution_count": null,
   "metadata": {
    "pycharm": {
     "name": "#%%\n"
    }
   },
   "outputs": [],
   "source": [
    "synthetic_music_recsys_data_schema = Schema(\n",
    "    [\n",
    "        # Item\n",
    "        create_categorical_column(\n",
    "            \"item_id\",\n",
    "            num_items=10000,\n",
    "            tags=[Tags.ITEM_ID],\n",
    "        ),\n",
    "        create_categorical_column(\n",
    "            \"item_category\",\n",
    "            num_items=100,\n",
    "            tags=[Tags.ITEM],\n",
    "        ),\n",
    "        create_continuous_column(\n",
    "            \"item_recency\",\n",
    "            min_value=0,\n",
    "            max_value=1,\n",
    "            tags=[Tags.ITEM],\n",
    "        ),\n",
    "        create_categorical_column(\n",
    "            \"item_genres\",\n",
    "            num_items=100,\n",
    "            min_value_count=1,\n",
    "            max_value_count=20,\n",
    "            tags=[Tags.ITEM],\n",
    "        ),\n",
    "\n",
    "        # User\n",
    "        create_categorical_column(\n",
    "            \"country\",\n",
    "            num_items=100,\n",
    "            tags=[Tags.USER],\n",
    "        ),\n",
    "        create_continuous_column(\n",
    "            \"user_age\",\n",
    "            dtype=\"int32\",\n",
    "            min_value=18,\n",
    "            max_value=50,\n",
    "            tags=[Tags.USER],\n",
    "        ),\n",
    "        create_categorical_column(\n",
    "            \"user_genres\",\n",
    "            num_items=100,\n",
    "            min_value_count=1,\n",
    "            max_value_count=20,\n",
    "        ),\n",
    "\n",
    "        # Targets\n",
    "        ColumnSchema(\"click\").with_tags(tags=[Tags.BINARY_CLASSIFICATION]),\n",
    "        ColumnSchema(\"play\").with_tags(tags=[Tags.BINARY_CLASSIFICATION]),\n",
    "        ColumnSchema(\"like\").with_tags(tags=[Tags.BINARY_CLASSIFICATION]),\n",
    "    ]\n",
    ")\n",
    "\n",
    "dataset = data_from_schema(synthetic_music_recsys_data_schema).batch(100)"
   ]
  },
  {
   "cell_type": "code",
   "execution_count": null,
   "metadata": {
    "pycharm": {
     "name": "#%%\n"
    }
   },
   "outputs": [],
   "source": [
    "def MMOE(expert_block, num_experts: int, output_names, gate_dim: int = 32):\n",
    "    agg = ml.StackFeatures(axis=1)\n",
    "    experts = expert_block.repeat_in_parallel(num_experts, prefix=\"expert_\", aggregation=agg)\n",
    "    gates = ml.MMOEGate(num_experts, dim=gate_dim).repeat_in_parallel(names=output_names)\n",
    "    mmoe = expert_block.add_with_shortcut(experts).add(gates, block_name=\"MMOE\")\n",
    "\n",
    "    return mmoe\n",
    "\n",
    "def build_advanced_ranking_model(schema: Schema) -> ml.Model:\n",
    "    # TODO: Change msl to be able to make this a single function call.\n",
    "    # bias_schema = schema.select_by_tag(\"bias\")\n",
    "    schema = schema.remove_by_tag(\"bias\")\n",
    "\n",
    "    body = ml.DLRMBlock(\n",
    "        schema, bottom_block=ml.MLPBlock([512, 128]), top_block=ml.MLPBlock([512, 128])\n",
    "    )\n",
    "    # bias_block = ml.MLPBlock.from_schema(bias_schema, [64])\n",
    "    # body = body.add_in_parallel(bias_block, names=[\"main\", \"bias\"])\n",
    "\n",
    "    head = ml.MMOEHead.from_schema(\n",
    "        schema,\n",
    "        body,\n",
    "        task_blocks=ml.MLPBlock([64, 32]),\n",
    "        expert_block=ml.MLPBlock([64, 32]),\n",
    "        num_experts=3,\n",
    "        # bias_block=bias_block,\n",
    "    )\n",
    "    # head.add_in_parallel()\n",
    "\n",
    "    return head.to_model()\n",
    "\n",
    "model = build_advanced_ranking_model(synthetic_music_recsys_data_schema)\n",
    "model"
   ]
  },
  {
   "cell_type": "code",
   "execution_count": null,
   "metadata": {
    "collapsed": false,
    "jupyter": {
     "outputs_hidden": false
    },
    "pycharm": {
     "name": "#%%\n"
    }
   },
   "outputs": [],
   "source": [
    "def build_dnn(schema: Schema) -> ml.Model:\n",
    "    body = ml.inputs(schema, ml.MLPBlock([512, 256]))\n",
    "\n",
    "    return ml.Head.from_schema(schema, body).to_model()\n",
    "\n",
    "model = build_dnn(synthetic_music_recsys_data_schema)\n",
    "model"
   ]
  },
  {
   "cell_type": "code",
   "execution_count": null,
   "metadata": {
    "pycharm": {
     "name": "#%%\n"
    }
   },
   "outputs": [],
   "source": [
    "def build_dlrm(schema: Schema) -> ml.Model:\n",
    "    body = ml.DLRMBlock(\n",
    "        schema, bottom_block=ml.MLPBlock([512, 128]), top_block=ml.MLPBlock([512, 128])\n",
    "    )\n",
    "\n",
    "    return ml.Head.from_schema(synthetic_music_recsys_data_schema, body).to_model()\n",
    "\n",
    "dlrm = build_dlrm(synthetic_music_recsys_data_schema)\n",
    "dlrm"
   ]
  },
  {
   "cell_type": "code",
   "execution_count": null,
   "metadata": {
    "pycharm": {
     "name": "#%%\n"
    }
   },
   "outputs": [],
   "source": [
    "def build_two_tower(schema: Schema, target=\"play\") -> ml.Model:\n",
    "    body = ml.TwoTowerBlock(schema, query_tower=ml.MLPBlock([512, 256]))\n",
    "\n",
    "    return ml.Head.from_schema(schema.select_by_name(target), body).to_model()\n",
    "\n",
    "two_tower = build_two_tower(synthetic_music_recsys_data_schema, target=\"play\")\n",
    "\n",
    "two_tower"
   ]
  }
 ],
 "metadata": {
  "kernelspec": {
   "display_name": "Python 3 (ipykernel)",
   "language": "python",
   "name": "python3"
  },
  "language_info": {
   "codemirror_mode": {
    "name": "ipython",
    "version": 3
   },
   "file_extension": ".py",
   "mimetype": "text/x-python",
   "name": "python",
   "nbconvert_exporter": "python",
   "pygments_lexer": "ipython3",
   "version": "3.8.12"
  }
 },
 "nbformat": 4,
 "nbformat_minor": 4
}
