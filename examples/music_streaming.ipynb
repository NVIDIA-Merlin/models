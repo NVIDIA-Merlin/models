{
 "cells": [
  {
   "cell_type": "code",
   "execution_count": 1,
   "metadata": {
    "collapsed": true
   },
   "outputs": [
    {
     "name": "stdout",
     "output_type": "stream",
     "text": [
      "Init Plugin\n",
      "Init Graph Optimizer\n",
      "Init Kernel\n"
     ]
    }
   ],
   "source": [
    "import tensorflow as tf\n",
    "\n",
    "import merlin_standard_lib as msl\n",
    "from merlin_standard_lib import Schema, Tag\n",
    "from transformers4rec.data.synthetic import (\n",
    "    synthetic_ecommerce_data_schema,\n",
    "    generate_item_interactions\n",
    ")\n",
    "\n",
    "import merlin_models.tf as ml\n",
    "\n",
    "from merlin_models.data.synthetic import generate_recsys_data\n",
    "\n",
    "def data_from_schema(schema, num_items=1000) -> tf.data.Dataset:\n",
    "    data_df = generate_recsys_data(num_items, schema)\n",
    "\n",
    "    targets = {}\n",
    "    for target in synthetic_music_recsys_data_schema.select_by_tag(Tag.BINARY_CLASSIFICATION):\n",
    "        targets[target.name] = data_df.pop(target.name)\n",
    "\n",
    "    dataset = tf.data.Dataset.from_tensor_slices((dict(data_df), targets))\n",
    "    # dataset = dataset.batch(100)\n",
    "\n",
    "    return dataset"
   ]
  },
  {
   "cell_type": "code",
   "execution_count": 2,
   "outputs": [
    {
     "name": "stdout",
     "output_type": "stream",
     "text": [
      "Metal device set to: Apple M1\n"
     ]
    },
    {
     "name": "stderr",
     "output_type": "stream",
     "text": [
      "2021-10-11 21:17:06.417677: I tensorflow/core/common_runtime/pluggable_device/pluggable_device_factory.cc:305] Could not identify NUMA node of platform GPU ID 0, defaulting to 0. Your kernel may not have been built with NUMA support.\n",
      "2021-10-11 21:17:06.417763: I tensorflow/core/common_runtime/pluggable_device/pluggable_device_factory.cc:271] Created TensorFlow device (/job:localhost/replica:0/task:0/device:GPU:0 with 0 MB memory) -> physical PluggableDevice (device: 0, name: METAL, pci bus id: <undefined>)\n"
     ]
    }
   ],
   "source": [
    "synthetic_music_recsys_data_schema = Schema(\n",
    "    [\n",
    "        # Item\n",
    "        msl.ColumnSchema.create_categorical(\n",
    "            \"item_id\",\n",
    "            num_items=10000,\n",
    "            tags=[Tag.ITEM_ID],\n",
    "        ),\n",
    "        msl.ColumnSchema.create_categorical(\n",
    "            \"item_category\",\n",
    "            num_items=100,\n",
    "            tags=[Tag.ITEM],\n",
    "        ),\n",
    "        msl.ColumnSchema.create_continuous(\n",
    "            \"item_recency\",\n",
    "            min_value=0,\n",
    "            max_value=1,\n",
    "            tags=[Tag.ITEM],\n",
    "        ),\n",
    "        msl.ColumnSchema.create_categorical(\n",
    "            \"item_genres\",\n",
    "            num_items=100,\n",
    "            value_count=msl.schema.ValueCount(1, 20),\n",
    "            tags=[Tag.ITEM],\n",
    "        ),\n",
    "\n",
    "        # User\n",
    "        msl.ColumnSchema.create_categorical(\n",
    "            \"country\",\n",
    "            num_items=100,\n",
    "            tags=[Tag.USER],\n",
    "        ),\n",
    "        msl.ColumnSchema.create_continuous(\n",
    "            \"user_age\",\n",
    "            is_float=False,\n",
    "            min_value=18,\n",
    "            max_value=50,\n",
    "            tags=[Tag.USER],\n",
    "        ),\n",
    "        msl.ColumnSchema.create_categorical(\n",
    "            \"user_genres\",\n",
    "            num_items=100,\n",
    "            value_count=msl.schema.ValueCount(1, 20),\n",
    "        ),\n",
    "\n",
    "        # Targets\n",
    "        msl.ColumnSchema(\"click\").with_tags(tags=[Tag.BINARY_CLASSIFICATION]),\n",
    "        msl.ColumnSchema(\"play\").with_tags(tags=[Tag.BINARY_CLASSIFICATION]),\n",
    "        msl.ColumnSchema(\"like\").with_tags(tags=[Tag.BINARY_CLASSIFICATION]),\n",
    "    ]\n",
    ")\n",
    "\n",
    "dataset = data_from_schema(synthetic_music_recsys_data_schema).batch(100)"
   ],
   "metadata": {
    "collapsed": false,
    "pycharm": {
     "name": "#%%\n"
    }
   }
  },
  {
   "cell_type": "code",
   "execution_count": 4,
   "outputs": [
    {
     "data": {
      "text/plain": "Model(\n  (heads): _TupleWrapper((Head(\n    (body): MLPBlock(\n      (layers): List(\n        (0): TabularFeatures(\n          (_aggregation): ConcatFeatures()\n          (to_merge): Dict(\n            (continuous_layer): ContinuousFeatures(item_recency, user_age)\n            (categorical_layer): EmbeddingFeatures(\n              (feature_config): Dict(\n                (item_id): TableConfig(vocabulary_size=10001, dim=64, initializer=None, optimizer=None, combiner='mean', name='item_id')\n                (item_category): TableConfig(vocabulary_size=101, dim=64, initializer=None, optimizer=None, combiner='mean', name='item_category')\n                (item_genres): TableConfig(vocabulary_size=101, dim=64, initializer=None, optimizer=None, combiner='mean', name='item_genres')\n                (country): TableConfig(vocabulary_size=101, dim=64, initializer=None, optimizer=None, combiner='mean', name='country')\n                (user_genres): TableConfig(vocabulary_size=101, dim=64, initializer=None, optimizer=None, combiner='mean', name='user_genres')\n                (click): TableConfig(vocabulary_size=4, dim=64, initializer=None, optimizer=None, combiner='mean', name='click')\n                (play): TableConfig(vocabulary_size=4, dim=64, initializer=None, optimizer=None, combiner='mean', name='play')\n                (like): TableConfig(vocabulary_size=4, dim=64, initializer=None, optimizer=None, combiner='mean', name='like')\n              )\n              (_pre): SequentialTabularTransformations(\n                (layers): List(\n                  (0): FilterFeatures(\n                    (to_include): List(\n                      (0): 'item_id'\n                      (1): 'item_category'\n                      (2): 'item_genres'\n                      (3): 'country'\n                      (4): 'user_genres'\n                      (5): 'click'\n                      (6): 'play'\n                      (7): 'like'\n                    )\n                  )\n                  (1): AsSparseFeatures()\n                )\n              )\n            )\n          )\n        )\n        (1): Dense(512, activation=relu, use_bias=True)\n        (2): Dense(256, activation=relu, use_bias=True)\n      )\n    )\n    (prediction_tasks): List(\n      (0): BinaryClassificationTask(\n        (sequence_summary): TFSequenceSummary()\n        (eval_metrics): List(\n          (0): Precision()\n          (1): Recall()\n          (2): BinaryAccuracy()\n          (3): AUC()\n        )\n        (pre): Dense(1, activation=sigmoid, use_bias=True)\n        (loss): BinaryCrossentropy()\n      )\n      (1): BinaryClassificationTask(\n        (sequence_summary): TFSequenceSummary()\n        (eval_metrics): List(\n          (0): Precision()\n          (1): Recall()\n          (2): BinaryAccuracy()\n          (3): AUC()\n        )\n        (pre): Dense(1, activation=sigmoid, use_bias=True)\n        (loss): BinaryCrossentropy()\n      )\n      (2): BinaryClassificationTask(\n        (sequence_summary): TFSequenceSummary()\n        (eval_metrics): List(\n          (0): Precision()\n          (1): Recall()\n          (2): BinaryAccuracy()\n          (3): AUC()\n        )\n        (pre): Dense(1, activation=sigmoid, use_bias=True)\n        (loss): BinaryCrossentropy()\n      )\n    )\n    (task_weights): List(\n      (0): 1.0\n      (1): 1.0\n      (2): 1.0\n    )\n    (prediction_task_dict): Dict(\n      (click/binary_classification_task): BinaryClassificationTask(\n        (sequence_summary): TFSequenceSummary()\n        (eval_metrics): List(\n          (0): Precision()\n          (1): Recall()\n          (2): BinaryAccuracy()\n          (3): AUC()\n        )\n        (pre): Dense(1, activation=sigmoid, use_bias=True)\n        (loss): BinaryCrossentropy()\n      )\n      (play/binary_classification_task): BinaryClassificationTask(\n        (sequence_summary): TFSequenceSummary()\n        (eval_metrics): List(\n          (0): Precision()\n          (1): Recall()\n          (2): BinaryAccuracy()\n          (3): AUC()\n        )\n        (pre): Dense(1, activation=sigmoid, use_bias=True)\n        (loss): BinaryCrossentropy()\n      )\n      (like/binary_classification_task): BinaryClassificationTask(\n        (sequence_summary): TFSequenceSummary()\n        (eval_metrics): List(\n          (0): Precision()\n          (1): Recall()\n          (2): BinaryAccuracy()\n          (3): AUC()\n        )\n        (pre): Dense(1, activation=sigmoid, use_bias=True)\n        (loss): BinaryCrossentropy()\n      )\n    )\n  ),))\n)"
     },
     "execution_count": 4,
     "metadata": {},
     "output_type": "execute_result"
    }
   ],
   "source": [
    "def build_dnn(schema: Schema) -> ml.Model:\n",
    "    body = ml.MLPBlock.from_schema(schema, [512, 256])\n",
    "\n",
    "    return ml.Head.from_schema(schema, body).to_model()\n",
    "\n",
    "model = build_dnn(synthetic_music_recsys_data_schema)\n",
    "model"
   ],
   "metadata": {
    "collapsed": false,
    "pycharm": {
     "name": "#%%\n"
    }
   }
  },
  {
   "cell_type": "code",
   "execution_count": null,
   "outputs": [],
   "source": [],
   "metadata": {
    "collapsed": false,
    "pycharm": {
     "name": "#%%\n"
    }
   }
  }
 ],
 "metadata": {
  "kernelspec": {
   "display_name": "Python 3",
   "language": "python",
   "name": "python3"
  },
  "language_info": {
   "codemirror_mode": {
    "name": "ipython",
    "version": 2
   },
   "file_extension": ".py",
   "mimetype": "text/x-python",
   "name": "python",
   "nbconvert_exporter": "python",
   "pygments_lexer": "ipython2",
   "version": "2.7.6"
  }
 },
 "nbformat": 4,
 "nbformat_minor": 0
}