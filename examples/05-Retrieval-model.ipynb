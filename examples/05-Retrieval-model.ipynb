{
 "cells": [
  {
   "cell_type": "code",
   "execution_count": 1,
   "id": "30b47cf4",
   "metadata": {},
   "outputs": [],
   "source": [
    "# Copyright 2021 NVIDIA Corporation. All Rights Reserved.\n",
    "#\n",
    "# Licensed under the Apache License, Version 2.0 (the \"License\");\n",
    "# you may not use this file except in compliance with the License.\n",
    "# You may obtain a copy of the License at\n",
    "#\n",
    "#     http://www.apache.org/licenses/LICENSE-2.0\n",
    "#\n",
    "# Unless required by applicable law or agreed to in writing, software\n",
    "# distributed under the License is distributed on an \"AS IS\" BASIS,\n",
    "# WITHOUT WARRANTIES OR CONDITIONS OF ANY KIND, either express or implied.\n",
    "# See the License for the specific language governing permissions and\n",
    "# limitations under the License.\n",
    "# ================================"
   ]
  },
  {
   "cell_type": "markdown",
   "id": "4dc973ba",
   "metadata": {},
   "source": [
    "<img src=\"http://developer.download.nvidia.com/compute/machine-learning/frameworks/nvidia_logo.png\" style=\"width: 90px; float: right;\">\n",
    "\n",
    "## Two-Stage Recommender Systems\n",
    "\n",
    "In large scale recommender systems pipelines, the size of the item catalog (number of unique items) might be in the order of millions. At such scale, a typical setup is having two-stage pipeline, where a faster candidate retrieval model quickly extracts thousands of relevant items and a then a more powerful ranking model (i.e. with more features and more powerful architecture) ranks the top-k items that are going to be displayed to the user. For ML-based candidate retrieval model, as it needs to quickly score millions of items for a given user, a popular choices are models that can produce recommendation scores by just computing the dot product the user embeddings and item embeddings. Popular choices of such models are **Matrix Factorization**, which learns low-rank user and item embeddings, and the **Two-Tower architecture**, which is a neural network with two MLP towers where both user and item features are fed to generate user and item embeddings in the output."
   ]
  },
  {
   "cell_type": "markdown",
   "id": "fa3fb242",
   "metadata": {},
   "source": [
    "\n",
    "### Dataset\n",
    "\n",
    "In this notebook, we are building a Two-Tower model for Item Retrieval task using synthetic datasets that are mimicking the real [Ali-CCP: Alibaba Click and Conversion Prediction](https://tianchi.aliyun.com/dataset/dataDetail?dataId=408#1) dataset.\n",
    "### Learning objectives\n",
    "- Preparing the data with NVTabular\n",
    "- Training and evaluating Two-Tower model with Merlin Models\n",
    "- Exporting the model for deployment"
   ]
  },
  {
   "cell_type": "markdown",
   "id": "21908740",
   "metadata": {},
   "source": [
    "### Importing Libraries"
   ]
  },
  {
   "cell_type": "code",
   "execution_count": 2,
   "id": "16ac3aa5",
   "metadata": {},
   "outputs": [
    {
     "name": "stderr",
     "output_type": "stream",
     "text": [
      "2022-04-05 14:59:39.671813: I tensorflow/core/platform/cpu_feature_guard.cc:151] This TensorFlow binary is optimized with oneAPI Deep Neural Network Library (oneDNN) to use the following CPU instructions in performance-critical operations:  AVX2 AVX512F FMA\n",
      "To enable them in other operations, rebuild TensorFlow with the appropriate compiler flags.\n",
      "2022-04-05 14:59:40.776440: I tensorflow/core/common_runtime/gpu/gpu_process_state.cc:214] Using CUDA malloc Async allocator for GPU: 0\n",
      "2022-04-05 14:59:40.776570: I tensorflow/core/common_runtime/gpu/gpu_device.cc:1525] Created device /job:localhost/replica:0/task:0/device:GPU:0 with 16254 MB memory:  -> device: 0, name: Quadro GV100, pci bus id: 0000:15:00.0, compute capability: 7.0\n"
     ]
    }
   ],
   "source": [
    "import os\n",
    "os.environ[\"TF_GPU_ALLOCATOR\"]=\"cuda_malloc_async\"\n",
    "import cudf\n",
    "\n",
    "import nvtabular as nvt\n",
    "from nvtabular.ops import *\n",
    "from merlin.models.utils.example_utils import workflow_fit_transform\n",
    "\n",
    "from merlin.schema.tags import Tags\n",
    "from merlin.schema import Schema\n",
    "\n",
    "import merlin.models.tf as mm\n",
    "from merlin.io.dataset import Dataset\n",
    "\n",
    "import tensorflow as tf"
   ]
  },
  {
   "cell_type": "code",
   "execution_count": 3,
   "id": "70efe31a",
   "metadata": {},
   "outputs": [],
   "source": [
    "# disable INFO and DEBUG logging everywhere\n",
    "import logging\n",
    "logging.disable(logging.WARNING)"
   ]
  },
  {
   "cell_type": "markdown",
   "id": "f428e3df",
   "metadata": {},
   "source": [
    "### Feature Engineering with NVTabular"
   ]
  },
  {
   "cell_type": "markdown",
   "id": "049948da",
   "metadata": {},
   "source": [
    "Let's generate synthetic train and validation dataset objects."
   ]
  },
  {
   "cell_type": "code",
   "execution_count": 4,
   "id": "97b18109",
   "metadata": {},
   "outputs": [],
   "source": [
    "from merlin.datasets.synthetic import generate_data\n",
    "\n",
    "DATA_FOLDER = os.environ.get(\"DATA_FOLDER\", \"/workspace/data/\")\n",
    "train, valid = generate_data(\"aliccp-raw\", 1000000, set_sizes=(0.7, 0.3))"
   ]
  },
  {
   "cell_type": "code",
   "execution_count": 5,
   "id": "6310c3b4",
   "metadata": {},
   "outputs": [],
   "source": [
    "# define output path for the processed parquet files\n",
    "output_path = os.path.join(DATA_FOLDER, \"processed\")"
   ]
  },
  {
   "cell_type": "markdown",
   "id": "eeb31da4",
   "metadata": {},
   "source": [
    "We keep only positive interactions where clicks==1 in the dataset with `Filter()` op."
   ]
  },
  {
   "cell_type": "code",
   "execution_count": 6,
   "id": "70d61bcb",
   "metadata": {},
   "outputs": [],
   "source": [
    "user_id = [\"user_id\"] >> Categorify() >> TagAsUserID()\n",
    "item_id = [\"item_id\"] >> Categorify() >> TagAsItemID()\n",
    "\n",
    "item_features = [\"item_category\", \"item_shop\", \"item_brand\"] >> Categorify() >> TagAsItemFeatures()\n",
    "\n",
    "user_features = ['user_shops', 'user_profile', 'user_group', \n",
    "       'user_gender', 'user_age', 'user_consumption_2', 'user_is_occupied',\n",
    "       'user_geography', 'user_intentions', 'user_brands', 'user_categories'] \\\n",
    "        >> Categorify() >> TagAsUserFeatures()\n",
    "\n",
    "inputs = user_id + item_id + item_features + user_features + ['click'] \n",
    "\n",
    "outputs = inputs >> Filter(f=lambda df: df[\"click\"] == 1)"
   ]
  },
  {
   "cell_type": "markdown",
   "id": "8eaae9d9",
   "metadata": {},
   "source": [
    "With `transform_aliccp` function, we can execute fit() and transform() on the raw dataset applying the operators defined in the NVTabular workflow pipeline above. The processed parquet files are saved to output_path."
   ]
  },
  {
   "cell_type": "code",
   "execution_count": 7,
   "id": "df158655",
   "metadata": {},
   "outputs": [
    {
     "name": "stderr",
     "output_type": "stream",
     "text": [
      "/usr/local/lib/python3.8/dist-packages/cudf/core/dataframe.py:1253: UserWarning: The deep parameter is ignored and is only included for pandas compatibility.\n",
      "  warnings.warn(\n"
     ]
    }
   ],
   "source": [
    "from merlin.datasets.ecommerce import transform_aliccp\n",
    "transform_aliccp((train, valid), output_path, nvt_workflow=outputs)"
   ]
  },
  {
   "cell_type": "markdown",
   "id": "8983f605",
   "metadata": {
    "tags": []
   },
   "source": [
    "## Building a Two-Tower Model with Merlin Models"
   ]
  },
  {
   "cell_type": "markdown",
   "id": "378d601e",
   "metadata": {},
   "source": [
    "We will use Two-Tower Model for item retrieval task. Real-world large scale recommender systems have hundreds of millions of items (products) and users. Thus, these systems often composed of two stages: candidate generation (retrieval) and ranking (scoring the retrieved items). At candidate generation step, a subset of relevant items from large item corpus is retrieved. You can read more about two stage Recommender Systems here. In this example, we're going to focus on the retrieval stage.\n",
    "\n",
    "A Two-Tower Model consists of item (candidate) and user (query) encoder towers. With two towers, the model can learn representations (embeddings) for queries and candidates separately. \n",
    "\n",
    "<img src=\"./images/TwoTower.png\"  width=\"30%\">\n",
    "\n",
    "Image Adapted from: [Off-policy Learning in Two-stage Recommender Systems](https://dl.acm.org/doi/abs/10.1145/3366423.3380130)"
   ]
  },
  {
   "cell_type": "markdown",
   "id": "391c55fc",
   "metadata": {},
   "source": [
    "We use the `schema` object to define our model."
   ]
  },
  {
   "cell_type": "code",
   "execution_count": 8,
   "id": "62297ebf",
   "metadata": {},
   "outputs": [
    {
     "data": {
      "text/plain": [
       "'/workspace/data/processed'"
      ]
     },
     "execution_count": 8,
     "metadata": {},
     "output_type": "execute_result"
    }
   ],
   "source": [
    "output_path"
   ]
  },
  {
   "cell_type": "code",
   "execution_count": 9,
   "id": "f9cfdb17",
   "metadata": {},
   "outputs": [],
   "source": [
    "train = Dataset(os.path.join(output_path, 'train', '*.parquet'))\n",
    "valid = Dataset(os.path.join(output_path, 'valid', '*.parquet'))\n",
    "\n",
    "schema = train.schema"
   ]
  },
  {
   "cell_type": "code",
   "execution_count": 10,
   "id": "960ff06e",
   "metadata": {},
   "outputs": [],
   "source": [
    "schema = schema.select_by_tag([Tags.ITEM_ID, Tags.USER_ID, Tags.ITEM, Tags.USER])"
   ]
  },
  {
   "cell_type": "markdown",
   "id": "9d14905e",
   "metadata": {},
   "source": [
    "We can print out the feature column names."
   ]
  },
  {
   "cell_type": "code",
   "execution_count": 11,
   "id": "f4b0cd27",
   "metadata": {},
   "outputs": [
    {
     "data": {
      "text/plain": [
       "['user_id',\n",
       " 'item_id',\n",
       " 'item_category',\n",
       " 'item_shop',\n",
       " 'item_brand',\n",
       " 'user_shops',\n",
       " 'user_profile',\n",
       " 'user_group',\n",
       " 'user_gender',\n",
       " 'user_age',\n",
       " 'user_consumption_2',\n",
       " 'user_is_occupied',\n",
       " 'user_geography',\n",
       " 'user_intentions',\n",
       " 'user_brands',\n",
       " 'user_categories']"
      ]
     },
     "execution_count": 11,
     "metadata": {},
     "output_type": "execute_result"
    }
   ],
   "source": [
    "schema.column_names"
   ]
  },
  {
   "cell_type": "markdown",
   "id": "1c93c1c7",
   "metadata": {},
   "source": [
    "We expect the label names to be empty."
   ]
  },
  {
   "cell_type": "code",
   "execution_count": 12,
   "id": "66ce9762",
   "metadata": {},
   "outputs": [
    {
     "data": {
      "text/plain": [
       "[]"
      ]
     },
     "execution_count": 12,
     "metadata": {},
     "output_type": "execute_result"
    }
   ],
   "source": [
    "label_names = schema.select_by_tag(Tags.TARGET).column_names\n",
    "label_names"
   ]
  },
  {
   "cell_type": "markdown",
   "id": "32088e08",
   "metadata": {},
   "source": [
    "### Negative sampling\n",
    "Many datasets for recommender systems contain implicit feedback with logs of user interactions like clicks, add-to-cart, purchases, music listening events, rather than explicit ratings that reflects user preferences over items. To be able to learn from implicit feedback, we use the general (and naive) assumption that the interacted items are more relevant for the user than the non-interacted ones.\n",
    "In Merlin Models we provide some scalable negative sampling algorithms for the Item Retrieval Task. In particular, we use in this example the in-batch sampling algorithm which uses the items interacted by other users as negatives within the same mini-batch."
   ]
  },
  {
   "cell_type": "markdown",
   "id": "d948256f",
   "metadata": {},
   "source": [
    "### Building the Model"
   ]
  },
  {
   "cell_type": "markdown",
   "id": "a77b89bc",
   "metadata": {},
   "source": [
    "Now, let's build our Two-Tower model. In a nutshell, we aggregate all user features to feed in user tower and feed the item features to the item tower. Then we compute the positive score by multiplying the user embedding with the item embedding and sample negative items (read more about negative sampling [here](https://openreview.net/pdf?id=824xC-SgWgU) and [here](https://medium.com/mlearning-ai/overview-negative-sampling-on-recommendation-systems-230a051c6cd7)), whose item embeddings are also multiplied by the user embedding. Then we apply the loss function on top of the positive and negative scores."
   ]
  },
  {
   "cell_type": "code",
   "execution_count": 13,
   "id": "de0d8bab",
   "metadata": {},
   "outputs": [],
   "source": [
    "model = mm.TwoTowerModel(\n",
    "    schema,\n",
    "    query_tower=mm.MLPBlock([128, 64], no_activation_last_layer=True),        \n",
    "    loss=\"categorical_crossentropy\",  \n",
    "    samplers=[mm.InBatchSampler()],\n",
    "    embedding_options = mm.EmbeddingOptions(infer_embedding_sizes=True),\n",
    "    metrics=[mm.RecallAt(10), mm.NDCGAt(10)]\n",
    ")"
   ]
  },
  {
   "cell_type": "markdown",
   "id": "1c5a7a7f",
   "metadata": {},
   "source": [
    "Let's explain the parameters in the TwoTowerModel():\n",
    "- no_activation_last_layer: when set True, no activation is used for top hidden layer. Learn more [here](https://storage.googleapis.com/pub-tools-public-publication-data/pdf/b9f4e78a8830fe5afcf2f0452862fb3c0d6584ea.pdf).\n",
    "- infer_embedding_sizes: when set True, automatically defines the embedding dimension from the feature cardinality in the schema\n",
    "\n",
    "**Metrics:**\n",
    "\n",
    "The following information retrieval metrics are used to compute the Top-10 accuracy of recommendation lists containing all items:\n",
    "\n",
    "- **Normalized Discounted Cumulative Gain (NDCG@10)**: NDCG accounts for rank of the relevant item in the recommendation list and is a more fine-grained metric than HR, which only verifies whether the relevant item is among the top-k items.\n",
    "\n",
    "- **Recall@10**: Also known as HitRate@n when there is only one relevant item in the recommendation list. Recall just verifies whether the relevant item is among the top-n items."
   ]
  },
  {
   "cell_type": "markdown",
   "id": "236cc2b2",
   "metadata": {},
   "source": [
    "We need to initialize the dataloaders."
   ]
  },
  {
   "cell_type": "code",
   "execution_count": 14,
   "id": "028f0c8b",
   "metadata": {},
   "outputs": [
    {
     "name": "stderr",
     "output_type": "stream",
     "text": [
      "2022-04-05 14:59:45.062949: W tensorflow/python/util/util.cc:368] Sets are not currently considered sequences, but this may change in the future, so consider avoiding using them.\n"
     ]
    },
    {
     "name": "stdout",
     "output_type": "stream",
     "text": [
      "Epoch 1/3\n",
      "85/86 [============================>.] - ETA: 0s - recall_at_10: 0.0126 - ndcg_10: 0.0055 - loss: 8.3001 - regularization_loss: 0.0000e+00 - total_loss: 8.3001"
     ]
    },
    {
     "name": "stderr",
     "output_type": "stream",
     "text": [
      "2022-04-05 15:00:01.603316: W tensorflow/core/grappler/optimizers/loop_optimizer.cc:907] Skipping loop optimization for Merge node with control input: cond/then/_0/cond/cond/branch_executed/_185\n"
     ]
    },
    {
     "name": "stdout",
     "output_type": "stream",
     "text": [
      "86/86 [==============================] - 16s 108ms/step - recall_at_10: 0.0127 - ndcg_10: 0.0056 - loss: 8.2735 - regularization_loss: 0.0000e+00 - total_loss: 8.2735 - val_recall_at_10: 0.0224 - val_ndcg_10: 0.0100 - val_loss: 7.7720 - val_regularization_loss: 0.0000e+00 - val_total_loss: 7.7720\n",
      "Epoch 2/3\n",
      "86/86 [==============================] - 7s 84ms/step - recall_at_10: 0.0264 - ndcg_10: 0.0161 - loss: 8.2724 - regularization_loss: 0.0000e+00 - total_loss: 8.2724 - val_recall_at_10: 0.0231 - val_ndcg_10: 0.0167 - val_loss: 7.7726 - val_regularization_loss: 0.0000e+00 - val_total_loss: 7.7726\n",
      "Epoch 3/3\n",
      "86/86 [==============================] - 7s 80ms/step - recall_at_10: 0.0219 - ndcg_10: 0.0172 - loss: 8.2719 - regularization_loss: 0.0000e+00 - total_loss: 8.2719 - val_recall_at_10: 0.0189 - val_ndcg_10: 0.0139 - val_loss: 7.7723 - val_regularization_loss: 0.0000e+00 - val_total_loss: 7.7723\n"
     ]
    },
    {
     "data": {
      "text/plain": [
       "<keras.callbacks.History at 0x7ff468430d30>"
      ]
     },
     "execution_count": 14,
     "metadata": {},
     "output_type": "execute_result"
    }
   ],
   "source": [
    "model.set_retrieval_candidates_for_evaluation(train)\n",
    "model.compile(optimizer='adam', run_eagerly=False)\n",
    "model.fit(train, validation_data=valid, batch_size=4096, epochs=3)"
   ]
  },
  {
   "cell_type": "markdown",
   "id": "162ba2f3",
   "metadata": {},
   "source": [
    "## Exporting Retrieval Models"
   ]
  },
  {
   "cell_type": "markdown",
   "id": "84e23699",
   "metadata": {},
   "source": [
    "So far we have trained and evaluated our Retrieval model. Now, the next step is to deploy our model and generate top-K recommendations given a user (query). We can efficiently serve our model by indexing the trained item embeddings into an **Approximate Nearest Neighbors (ANN)** engine. Basically, for a given user query vector, that is generated passing the user features into user tower of retrieval model, we do an ANN search query to find the ids of nearby item vectors, and at serve time, we score user embeddings over all indexed top-K item embeddings within the ANN engine.\n",
    "\n",
    "In doing so, we need to export\n",
    " \n",
    "- user (query) tower\n",
    "- item and user features\n",
    "- item embeddings"
   ]
  },
  {
   "cell_type": "markdown",
   "id": "dc8b1a56",
   "metadata": {},
   "source": [
    "#### Save User (query) tower"
   ]
  },
  {
   "cell_type": "markdown",
   "id": "a7fda7f6",
   "metadata": {},
   "source": [
    "We are able to save the user tower model as a TF model to disk. The user tower model is needed to generate a user embedding vector when a user feature vector <i>x</i> is fed into that model."
   ]
  },
  {
   "cell_type": "code",
   "execution_count": 15,
   "id": "c279a3e3",
   "metadata": {},
   "outputs": [],
   "source": [
    "query_tower = model.retrieval_block.query_block()\n",
    "query_tower.save('query_tower')"
   ]
  },
  {
   "cell_type": "markdown",
   "id": "2f4b1125",
   "metadata": {},
   "source": [
    "#### Extract and save User features"
   ]
  },
  {
   "cell_type": "markdown",
   "id": "cb5bf35b",
   "metadata": {},
   "source": [
    "With `unique_rows_by_features` utility function we can easily extract both unique user and item features tables as cuDF dataframes. Note that for user features table, we use `USER` and `USER_ID` tags."
   ]
  },
  {
   "cell_type": "code",
   "execution_count": 16,
   "id": "cd8481ce",
   "metadata": {},
   "outputs": [],
   "source": [
    "from merlin.models.utils.dataset import unique_rows_by_features\n",
    "user_features = unique_rows_by_features(train, Tags.USER, Tags.USER_ID).compute().reset_index(drop=True)"
   ]
  },
  {
   "cell_type": "code",
   "execution_count": 17,
   "id": "f76c94f3",
   "metadata": {},
   "outputs": [
    {
     "data": {
      "text/html": [
       "<div>\n",
       "<style scoped>\n",
       "    .dataframe tbody tr th:only-of-type {\n",
       "        vertical-align: middle;\n",
       "    }\n",
       "\n",
       "    .dataframe tbody tr th {\n",
       "        vertical-align: top;\n",
       "    }\n",
       "\n",
       "    .dataframe thead th {\n",
       "        text-align: right;\n",
       "    }\n",
       "</style>\n",
       "<table border=\"1\" class=\"dataframe\">\n",
       "  <thead>\n",
       "    <tr style=\"text-align: right;\">\n",
       "      <th></th>\n",
       "      <th>user_id</th>\n",
       "      <th>user_shops</th>\n",
       "      <th>user_profile</th>\n",
       "      <th>user_group</th>\n",
       "      <th>user_gender</th>\n",
       "      <th>user_age</th>\n",
       "      <th>user_consumption_2</th>\n",
       "      <th>user_is_occupied</th>\n",
       "      <th>user_geography</th>\n",
       "      <th>user_intentions</th>\n",
       "      <th>user_brands</th>\n",
       "      <th>user_categories</th>\n",
       "    </tr>\n",
       "  </thead>\n",
       "  <tbody>\n",
       "    <tr>\n",
       "      <th>0</th>\n",
       "      <td>1</td>\n",
       "      <td>1</td>\n",
       "      <td>1</td>\n",
       "      <td>1</td>\n",
       "      <td>1</td>\n",
       "      <td>1</td>\n",
       "      <td>1</td>\n",
       "      <td>1</td>\n",
       "      <td>1</td>\n",
       "      <td>1</td>\n",
       "      <td>1</td>\n",
       "      <td>1</td>\n",
       "    </tr>\n",
       "    <tr>\n",
       "      <th>1</th>\n",
       "      <td>2</td>\n",
       "      <td>2</td>\n",
       "      <td>1</td>\n",
       "      <td>1</td>\n",
       "      <td>1</td>\n",
       "      <td>1</td>\n",
       "      <td>1</td>\n",
       "      <td>1</td>\n",
       "      <td>1</td>\n",
       "      <td>2</td>\n",
       "      <td>2</td>\n",
       "      <td>2</td>\n",
       "    </tr>\n",
       "    <tr>\n",
       "      <th>2</th>\n",
       "      <td>3</td>\n",
       "      <td>3</td>\n",
       "      <td>1</td>\n",
       "      <td>1</td>\n",
       "      <td>1</td>\n",
       "      <td>1</td>\n",
       "      <td>1</td>\n",
       "      <td>1</td>\n",
       "      <td>1</td>\n",
       "      <td>3</td>\n",
       "      <td>3</td>\n",
       "      <td>3</td>\n",
       "    </tr>\n",
       "    <tr>\n",
       "      <th>3</th>\n",
       "      <td>4</td>\n",
       "      <td>4</td>\n",
       "      <td>1</td>\n",
       "      <td>1</td>\n",
       "      <td>1</td>\n",
       "      <td>1</td>\n",
       "      <td>1</td>\n",
       "      <td>1</td>\n",
       "      <td>1</td>\n",
       "      <td>4</td>\n",
       "      <td>4</td>\n",
       "      <td>4</td>\n",
       "    </tr>\n",
       "    <tr>\n",
       "      <th>4</th>\n",
       "      <td>5</td>\n",
       "      <td>5</td>\n",
       "      <td>1</td>\n",
       "      <td>1</td>\n",
       "      <td>1</td>\n",
       "      <td>1</td>\n",
       "      <td>1</td>\n",
       "      <td>1</td>\n",
       "      <td>1</td>\n",
       "      <td>5</td>\n",
       "      <td>5</td>\n",
       "      <td>5</td>\n",
       "    </tr>\n",
       "  </tbody>\n",
       "</table>\n",
       "</div>"
      ],
      "text/plain": [
       "   user_id  user_shops  user_profile  user_group  user_gender  user_age  \\\n",
       "0        1           1             1           1            1         1   \n",
       "1        2           2             1           1            1         1   \n",
       "2        3           3             1           1            1         1   \n",
       "3        4           4             1           1            1         1   \n",
       "4        5           5             1           1            1         1   \n",
       "\n",
       "   user_consumption_2  user_is_occupied  user_geography  user_intentions  \\\n",
       "0                   1                 1               1                1   \n",
       "1                   1                 1               1                2   \n",
       "2                   1                 1               1                3   \n",
       "3                   1                 1               1                4   \n",
       "4                   1                 1               1                5   \n",
       "\n",
       "   user_brands  user_categories  \n",
       "0            1                1  \n",
       "1            2                2  \n",
       "2            3                3  \n",
       "3            4                4  \n",
       "4            5                5  "
      ]
     },
     "execution_count": 17,
     "metadata": {},
     "output_type": "execute_result"
    }
   ],
   "source": [
    "user_features.head()"
   ]
  },
  {
   "cell_type": "code",
   "execution_count": 18,
   "id": "96799d50",
   "metadata": {},
   "outputs": [
    {
     "data": {
      "text/plain": [
       "(658, 12)"
      ]
     },
     "execution_count": 18,
     "metadata": {},
     "output_type": "execute_result"
    }
   ],
   "source": [
    "user_features.shape"
   ]
  },
  {
   "cell_type": "code",
   "execution_count": 19,
   "id": "26e95e7e",
   "metadata": {},
   "outputs": [],
   "source": [
    "# save to disk\n",
    "user_features.to_parquet('user_features.parquet')"
   ]
  },
  {
   "cell_type": "markdown",
   "id": "f21ef441",
   "metadata": {},
   "source": [
    "#### Extract and save Item features"
   ]
  },
  {
   "cell_type": "code",
   "execution_count": 20,
   "id": "bd6fee67",
   "metadata": {},
   "outputs": [],
   "source": [
    "item_features = unique_rows_by_features(train, Tags.ITEM, Tags.ITEM_ID).compute().reset_index(drop=True)"
   ]
  },
  {
   "cell_type": "code",
   "execution_count": 21,
   "id": "d6a745b5",
   "metadata": {},
   "outputs": [
    {
     "data": {
      "text/html": [
       "<div>\n",
       "<style scoped>\n",
       "    .dataframe tbody tr th:only-of-type {\n",
       "        vertical-align: middle;\n",
       "    }\n",
       "\n",
       "    .dataframe tbody tr th {\n",
       "        vertical-align: top;\n",
       "    }\n",
       "\n",
       "    .dataframe thead th {\n",
       "        text-align: right;\n",
       "    }\n",
       "</style>\n",
       "<table border=\"1\" class=\"dataframe\">\n",
       "  <thead>\n",
       "    <tr style=\"text-align: right;\">\n",
       "      <th></th>\n",
       "      <th>item_id</th>\n",
       "      <th>item_category</th>\n",
       "      <th>item_shop</th>\n",
       "      <th>item_brand</th>\n",
       "    </tr>\n",
       "  </thead>\n",
       "  <tbody>\n",
       "    <tr>\n",
       "      <th>0</th>\n",
       "      <td>1</td>\n",
       "      <td>1</td>\n",
       "      <td>1</td>\n",
       "      <td>1</td>\n",
       "    </tr>\n",
       "    <tr>\n",
       "      <th>1</th>\n",
       "      <td>2</td>\n",
       "      <td>2</td>\n",
       "      <td>2</td>\n",
       "      <td>2</td>\n",
       "    </tr>\n",
       "    <tr>\n",
       "      <th>2</th>\n",
       "      <td>3</td>\n",
       "      <td>3</td>\n",
       "      <td>3</td>\n",
       "      <td>3</td>\n",
       "    </tr>\n",
       "    <tr>\n",
       "      <th>3</th>\n",
       "      <td>4</td>\n",
       "      <td>4</td>\n",
       "      <td>4</td>\n",
       "      <td>4</td>\n",
       "    </tr>\n",
       "    <tr>\n",
       "      <th>4</th>\n",
       "      <td>5</td>\n",
       "      <td>5</td>\n",
       "      <td>5</td>\n",
       "      <td>5</td>\n",
       "    </tr>\n",
       "  </tbody>\n",
       "</table>\n",
       "</div>"
      ],
      "text/plain": [
       "   item_id  item_category  item_shop  item_brand\n",
       "0        1              1          1           1\n",
       "1        2              2          2           2\n",
       "2        3              3          3           3\n",
       "3        4              4          4           4\n",
       "4        5              5          5           5"
      ]
     },
     "execution_count": 21,
     "metadata": {},
     "output_type": "execute_result"
    }
   ],
   "source": [
    "item_features.head()"
   ]
  },
  {
   "cell_type": "code",
   "execution_count": 22,
   "id": "e4076343",
   "metadata": {},
   "outputs": [],
   "source": [
    "# save to disk\n",
    "item_features.to_parquet('item_features.parquet')"
   ]
  },
  {
   "cell_type": "markdown",
   "id": "2a63fd12",
   "metadata": {},
   "source": [
    "#### Extract and save Item embeddings"
   ]
  },
  {
   "cell_type": "code",
   "execution_count": 23,
   "id": "92656131",
   "metadata": {},
   "outputs": [],
   "source": [
    "item_embs = model.item_embeddings(Dataset(item_features, schema=schema), batch_size=1024)\n",
    "item_embs_df = item_embs.compute(scheduler=\"synchronous\")"
   ]
  },
  {
   "cell_type": "code",
   "execution_count": 24,
   "id": "48315f31",
   "metadata": {},
   "outputs": [
    {
     "data": {
      "text/html": [
       "<div>\n",
       "<style scoped>\n",
       "    .dataframe tbody tr th:only-of-type {\n",
       "        vertical-align: middle;\n",
       "    }\n",
       "\n",
       "    .dataframe tbody tr th {\n",
       "        vertical-align: top;\n",
       "    }\n",
       "\n",
       "    .dataframe thead th {\n",
       "        text-align: right;\n",
       "    }\n",
       "</style>\n",
       "<table border=\"1\" class=\"dataframe\">\n",
       "  <thead>\n",
       "    <tr style=\"text-align: right;\">\n",
       "      <th></th>\n",
       "      <th>item_id</th>\n",
       "      <th>item_category</th>\n",
       "      <th>item_shop</th>\n",
       "      <th>item_brand</th>\n",
       "      <th>0</th>\n",
       "      <th>1</th>\n",
       "      <th>2</th>\n",
       "      <th>3</th>\n",
       "      <th>4</th>\n",
       "      <th>5</th>\n",
       "      <th>...</th>\n",
       "      <th>54</th>\n",
       "      <th>55</th>\n",
       "      <th>56</th>\n",
       "      <th>57</th>\n",
       "      <th>58</th>\n",
       "      <th>59</th>\n",
       "      <th>60</th>\n",
       "      <th>61</th>\n",
       "      <th>62</th>\n",
       "      <th>63</th>\n",
       "    </tr>\n",
       "  </thead>\n",
       "  <tbody>\n",
       "    <tr>\n",
       "      <th>0</th>\n",
       "      <td>1</td>\n",
       "      <td>1</td>\n",
       "      <td>1</td>\n",
       "      <td>1</td>\n",
       "      <td>-0.165199</td>\n",
       "      <td>-0.121393</td>\n",
       "      <td>-0.160710</td>\n",
       "      <td>-0.075477</td>\n",
       "      <td>-0.116381</td>\n",
       "      <td>0.111168</td>\n",
       "      <td>...</td>\n",
       "      <td>-0.123700</td>\n",
       "      <td>-0.108546</td>\n",
       "      <td>-0.136383</td>\n",
       "      <td>-0.023236</td>\n",
       "      <td>0.072730</td>\n",
       "      <td>0.013725</td>\n",
       "      <td>0.177565</td>\n",
       "      <td>-0.176148</td>\n",
       "      <td>0.088683</td>\n",
       "      <td>0.022924</td>\n",
       "    </tr>\n",
       "    <tr>\n",
       "      <th>1</th>\n",
       "      <td>2</td>\n",
       "      <td>2</td>\n",
       "      <td>2</td>\n",
       "      <td>2</td>\n",
       "      <td>-0.185898</td>\n",
       "      <td>-0.013445</td>\n",
       "      <td>-0.324363</td>\n",
       "      <td>-0.066136</td>\n",
       "      <td>-0.127533</td>\n",
       "      <td>0.129603</td>\n",
       "      <td>...</td>\n",
       "      <td>-0.086148</td>\n",
       "      <td>-0.326054</td>\n",
       "      <td>-0.070692</td>\n",
       "      <td>-0.095942</td>\n",
       "      <td>0.066594</td>\n",
       "      <td>-0.116963</td>\n",
       "      <td>0.127433</td>\n",
       "      <td>-0.163001</td>\n",
       "      <td>0.218722</td>\n",
       "      <td>-0.088520</td>\n",
       "    </tr>\n",
       "    <tr>\n",
       "      <th>2</th>\n",
       "      <td>3</td>\n",
       "      <td>3</td>\n",
       "      <td>3</td>\n",
       "      <td>3</td>\n",
       "      <td>-0.098928</td>\n",
       "      <td>-0.011256</td>\n",
       "      <td>-0.377554</td>\n",
       "      <td>0.043448</td>\n",
       "      <td>-0.103632</td>\n",
       "      <td>0.114415</td>\n",
       "      <td>...</td>\n",
       "      <td>-0.143631</td>\n",
       "      <td>-0.007663</td>\n",
       "      <td>-0.167860</td>\n",
       "      <td>-0.098583</td>\n",
       "      <td>-0.012592</td>\n",
       "      <td>0.076005</td>\n",
       "      <td>0.049830</td>\n",
       "      <td>-0.143969</td>\n",
       "      <td>0.051245</td>\n",
       "      <td>-0.032230</td>\n",
       "    </tr>\n",
       "    <tr>\n",
       "      <th>3</th>\n",
       "      <td>4</td>\n",
       "      <td>4</td>\n",
       "      <td>4</td>\n",
       "      <td>4</td>\n",
       "      <td>-0.161938</td>\n",
       "      <td>-0.099693</td>\n",
       "      <td>-0.160040</td>\n",
       "      <td>0.016265</td>\n",
       "      <td>-0.072181</td>\n",
       "      <td>-0.098847</td>\n",
       "      <td>...</td>\n",
       "      <td>-0.128780</td>\n",
       "      <td>-0.166199</td>\n",
       "      <td>-0.100410</td>\n",
       "      <td>-0.040935</td>\n",
       "      <td>0.093489</td>\n",
       "      <td>-0.011991</td>\n",
       "      <td>0.122830</td>\n",
       "      <td>-0.067204</td>\n",
       "      <td>0.157118</td>\n",
       "      <td>0.063357</td>\n",
       "    </tr>\n",
       "    <tr>\n",
       "      <th>4</th>\n",
       "      <td>5</td>\n",
       "      <td>5</td>\n",
       "      <td>5</td>\n",
       "      <td>5</td>\n",
       "      <td>0.068829</td>\n",
       "      <td>-0.141979</td>\n",
       "      <td>-0.412395</td>\n",
       "      <td>0.144852</td>\n",
       "      <td>0.048520</td>\n",
       "      <td>0.031457</td>\n",
       "      <td>...</td>\n",
       "      <td>-0.075341</td>\n",
       "      <td>-0.201584</td>\n",
       "      <td>-0.112117</td>\n",
       "      <td>-0.095378</td>\n",
       "      <td>-0.033416</td>\n",
       "      <td>-0.031399</td>\n",
       "      <td>0.066684</td>\n",
       "      <td>-0.124143</td>\n",
       "      <td>0.279241</td>\n",
       "      <td>-0.067741</td>\n",
       "    </tr>\n",
       "    <tr>\n",
       "      <th>...</th>\n",
       "      <td>...</td>\n",
       "      <td>...</td>\n",
       "      <td>...</td>\n",
       "      <td>...</td>\n",
       "      <td>...</td>\n",
       "      <td>...</td>\n",
       "      <td>...</td>\n",
       "      <td>...</td>\n",
       "      <td>...</td>\n",
       "      <td>...</td>\n",
       "      <td>...</td>\n",
       "      <td>...</td>\n",
       "      <td>...</td>\n",
       "      <td>...</td>\n",
       "      <td>...</td>\n",
       "      <td>...</td>\n",
       "      <td>...</td>\n",
       "      <td>...</td>\n",
       "      <td>...</td>\n",
       "      <td>...</td>\n",
       "      <td>...</td>\n",
       "    </tr>\n",
       "    <tr>\n",
       "      <th>647</th>\n",
       "      <td>752</td>\n",
       "      <td>752</td>\n",
       "      <td>752</td>\n",
       "      <td>752</td>\n",
       "      <td>-0.134575</td>\n",
       "      <td>-0.018872</td>\n",
       "      <td>-0.306253</td>\n",
       "      <td>-0.031576</td>\n",
       "      <td>0.048828</td>\n",
       "      <td>-0.073680</td>\n",
       "      <td>...</td>\n",
       "      <td>-0.034535</td>\n",
       "      <td>0.099475</td>\n",
       "      <td>-0.244589</td>\n",
       "      <td>-0.081986</td>\n",
       "      <td>0.051391</td>\n",
       "      <td>-0.027833</td>\n",
       "      <td>0.081263</td>\n",
       "      <td>-0.103145</td>\n",
       "      <td>-0.039366</td>\n",
       "      <td>0.046257</td>\n",
       "    </tr>\n",
       "    <tr>\n",
       "      <th>648</th>\n",
       "      <td>755</td>\n",
       "      <td>755</td>\n",
       "      <td>755</td>\n",
       "      <td>755</td>\n",
       "      <td>-0.103070</td>\n",
       "      <td>-0.157866</td>\n",
       "      <td>-0.248963</td>\n",
       "      <td>0.040390</td>\n",
       "      <td>0.004921</td>\n",
       "      <td>-0.018613</td>\n",
       "      <td>...</td>\n",
       "      <td>-0.014793</td>\n",
       "      <td>-0.102390</td>\n",
       "      <td>-0.128767</td>\n",
       "      <td>-0.132631</td>\n",
       "      <td>0.052668</td>\n",
       "      <td>-0.134059</td>\n",
       "      <td>0.046914</td>\n",
       "      <td>-0.228338</td>\n",
       "      <td>0.110666</td>\n",
       "      <td>0.136639</td>\n",
       "    </tr>\n",
       "    <tr>\n",
       "      <th>649</th>\n",
       "      <td>757</td>\n",
       "      <td>757</td>\n",
       "      <td>757</td>\n",
       "      <td>757</td>\n",
       "      <td>-0.103210</td>\n",
       "      <td>0.000911</td>\n",
       "      <td>-0.267629</td>\n",
       "      <td>-0.240318</td>\n",
       "      <td>0.031521</td>\n",
       "      <td>-0.024776</td>\n",
       "      <td>...</td>\n",
       "      <td>0.030718</td>\n",
       "      <td>-0.159722</td>\n",
       "      <td>-0.028879</td>\n",
       "      <td>-0.200120</td>\n",
       "      <td>0.048034</td>\n",
       "      <td>-0.085897</td>\n",
       "      <td>0.054577</td>\n",
       "      <td>-0.175641</td>\n",
       "      <td>0.028965</td>\n",
       "      <td>0.124867</td>\n",
       "    </tr>\n",
       "    <tr>\n",
       "      <th>650</th>\n",
       "      <td>762</td>\n",
       "      <td>762</td>\n",
       "      <td>762</td>\n",
       "      <td>762</td>\n",
       "      <td>-0.040345</td>\n",
       "      <td>-0.048236</td>\n",
       "      <td>-0.285835</td>\n",
       "      <td>0.139517</td>\n",
       "      <td>-0.116722</td>\n",
       "      <td>0.075583</td>\n",
       "      <td>...</td>\n",
       "      <td>-0.032332</td>\n",
       "      <td>-0.244443</td>\n",
       "      <td>-0.179759</td>\n",
       "      <td>-0.032045</td>\n",
       "      <td>0.126963</td>\n",
       "      <td>-0.060423</td>\n",
       "      <td>0.057046</td>\n",
       "      <td>0.054539</td>\n",
       "      <td>0.207682</td>\n",
       "      <td>-0.091606</td>\n",
       "    </tr>\n",
       "    <tr>\n",
       "      <th>651</th>\n",
       "      <td>763</td>\n",
       "      <td>763</td>\n",
       "      <td>763</td>\n",
       "      <td>763</td>\n",
       "      <td>-0.039481</td>\n",
       "      <td>-0.092494</td>\n",
       "      <td>-0.234413</td>\n",
       "      <td>-0.032299</td>\n",
       "      <td>-0.027107</td>\n",
       "      <td>0.077652</td>\n",
       "      <td>...</td>\n",
       "      <td>0.074729</td>\n",
       "      <td>-0.002288</td>\n",
       "      <td>-0.073464</td>\n",
       "      <td>-0.130034</td>\n",
       "      <td>-0.104863</td>\n",
       "      <td>-0.150873</td>\n",
       "      <td>0.176175</td>\n",
       "      <td>-0.207769</td>\n",
       "      <td>0.034404</td>\n",
       "      <td>0.170061</td>\n",
       "    </tr>\n",
       "  </tbody>\n",
       "</table>\n",
       "<p>652 rows × 68 columns</p>\n",
       "</div>"
      ],
      "text/plain": [
       "     item_id  item_category  item_shop  item_brand         0         1  \\\n",
       "0          1              1          1           1 -0.165199 -0.121393   \n",
       "1          2              2          2           2 -0.185898 -0.013445   \n",
       "2          3              3          3           3 -0.098928 -0.011256   \n",
       "3          4              4          4           4 -0.161938 -0.099693   \n",
       "4          5              5          5           5  0.068829 -0.141979   \n",
       "..       ...            ...        ...         ...       ...       ...   \n",
       "647      752            752        752         752 -0.134575 -0.018872   \n",
       "648      755            755        755         755 -0.103070 -0.157866   \n",
       "649      757            757        757         757 -0.103210  0.000911   \n",
       "650      762            762        762         762 -0.040345 -0.048236   \n",
       "651      763            763        763         763 -0.039481 -0.092494   \n",
       "\n",
       "            2         3         4         5  ...        54        55  \\\n",
       "0   -0.160710 -0.075477 -0.116381  0.111168  ... -0.123700 -0.108546   \n",
       "1   -0.324363 -0.066136 -0.127533  0.129603  ... -0.086148 -0.326054   \n",
       "2   -0.377554  0.043448 -0.103632  0.114415  ... -0.143631 -0.007663   \n",
       "3   -0.160040  0.016265 -0.072181 -0.098847  ... -0.128780 -0.166199   \n",
       "4   -0.412395  0.144852  0.048520  0.031457  ... -0.075341 -0.201584   \n",
       "..        ...       ...       ...       ...  ...       ...       ...   \n",
       "647 -0.306253 -0.031576  0.048828 -0.073680  ... -0.034535  0.099475   \n",
       "648 -0.248963  0.040390  0.004921 -0.018613  ... -0.014793 -0.102390   \n",
       "649 -0.267629 -0.240318  0.031521 -0.024776  ...  0.030718 -0.159722   \n",
       "650 -0.285835  0.139517 -0.116722  0.075583  ... -0.032332 -0.244443   \n",
       "651 -0.234413 -0.032299 -0.027107  0.077652  ...  0.074729 -0.002288   \n",
       "\n",
       "           56        57        58        59        60        61        62  \\\n",
       "0   -0.136383 -0.023236  0.072730  0.013725  0.177565 -0.176148  0.088683   \n",
       "1   -0.070692 -0.095942  0.066594 -0.116963  0.127433 -0.163001  0.218722   \n",
       "2   -0.167860 -0.098583 -0.012592  0.076005  0.049830 -0.143969  0.051245   \n",
       "3   -0.100410 -0.040935  0.093489 -0.011991  0.122830 -0.067204  0.157118   \n",
       "4   -0.112117 -0.095378 -0.033416 -0.031399  0.066684 -0.124143  0.279241   \n",
       "..        ...       ...       ...       ...       ...       ...       ...   \n",
       "647 -0.244589 -0.081986  0.051391 -0.027833  0.081263 -0.103145 -0.039366   \n",
       "648 -0.128767 -0.132631  0.052668 -0.134059  0.046914 -0.228338  0.110666   \n",
       "649 -0.028879 -0.200120  0.048034 -0.085897  0.054577 -0.175641  0.028965   \n",
       "650 -0.179759 -0.032045  0.126963 -0.060423  0.057046  0.054539  0.207682   \n",
       "651 -0.073464 -0.130034 -0.104863 -0.150873  0.176175 -0.207769  0.034404   \n",
       "\n",
       "           63  \n",
       "0    0.022924  \n",
       "1   -0.088520  \n",
       "2   -0.032230  \n",
       "3    0.063357  \n",
       "4   -0.067741  \n",
       "..        ...  \n",
       "647  0.046257  \n",
       "648  0.136639  \n",
       "649  0.124867  \n",
       "650 -0.091606  \n",
       "651  0.170061  \n",
       "\n",
       "[652 rows x 68 columns]"
      ]
     },
     "execution_count": 24,
     "metadata": {},
     "output_type": "execute_result"
    }
   ],
   "source": [
    "item_embs_df"
   ]
  },
  {
   "cell_type": "code",
   "execution_count": 25,
   "id": "d6af1b71",
   "metadata": {},
   "outputs": [],
   "source": [
    "# select only embedding columns\n",
    "item_embeddings = item_embs_df.iloc[:, 4:]"
   ]
  },
  {
   "cell_type": "code",
   "execution_count": 26,
   "id": "5f3b02f8",
   "metadata": {},
   "outputs": [
    {
     "data": {
      "text/html": [
       "<div>\n",
       "<style scoped>\n",
       "    .dataframe tbody tr th:only-of-type {\n",
       "        vertical-align: middle;\n",
       "    }\n",
       "\n",
       "    .dataframe tbody tr th {\n",
       "        vertical-align: top;\n",
       "    }\n",
       "\n",
       "    .dataframe thead th {\n",
       "        text-align: right;\n",
       "    }\n",
       "</style>\n",
       "<table border=\"1\" class=\"dataframe\">\n",
       "  <thead>\n",
       "    <tr style=\"text-align: right;\">\n",
       "      <th></th>\n",
       "      <th>0</th>\n",
       "      <th>1</th>\n",
       "      <th>2</th>\n",
       "      <th>3</th>\n",
       "      <th>4</th>\n",
       "      <th>5</th>\n",
       "      <th>6</th>\n",
       "      <th>7</th>\n",
       "      <th>8</th>\n",
       "      <th>9</th>\n",
       "      <th>...</th>\n",
       "      <th>54</th>\n",
       "      <th>55</th>\n",
       "      <th>56</th>\n",
       "      <th>57</th>\n",
       "      <th>58</th>\n",
       "      <th>59</th>\n",
       "      <th>60</th>\n",
       "      <th>61</th>\n",
       "      <th>62</th>\n",
       "      <th>63</th>\n",
       "    </tr>\n",
       "  </thead>\n",
       "  <tbody>\n",
       "    <tr>\n",
       "      <th>0</th>\n",
       "      <td>-0.165199</td>\n",
       "      <td>-0.121393</td>\n",
       "      <td>-0.160710</td>\n",
       "      <td>-0.075477</td>\n",
       "      <td>-0.116381</td>\n",
       "      <td>0.111168</td>\n",
       "      <td>-0.068529</td>\n",
       "      <td>-0.043378</td>\n",
       "      <td>0.089550</td>\n",
       "      <td>-0.081458</td>\n",
       "      <td>...</td>\n",
       "      <td>-0.123700</td>\n",
       "      <td>-0.108546</td>\n",
       "      <td>-0.136383</td>\n",
       "      <td>-0.023236</td>\n",
       "      <td>0.072730</td>\n",
       "      <td>0.013725</td>\n",
       "      <td>0.177565</td>\n",
       "      <td>-0.176148</td>\n",
       "      <td>0.088683</td>\n",
       "      <td>0.022924</td>\n",
       "    </tr>\n",
       "    <tr>\n",
       "      <th>1</th>\n",
       "      <td>-0.185898</td>\n",
       "      <td>-0.013445</td>\n",
       "      <td>-0.324363</td>\n",
       "      <td>-0.066136</td>\n",
       "      <td>-0.127533</td>\n",
       "      <td>0.129603</td>\n",
       "      <td>0.052062</td>\n",
       "      <td>-0.126430</td>\n",
       "      <td>0.083904</td>\n",
       "      <td>0.168679</td>\n",
       "      <td>...</td>\n",
       "      <td>-0.086148</td>\n",
       "      <td>-0.326054</td>\n",
       "      <td>-0.070692</td>\n",
       "      <td>-0.095942</td>\n",
       "      <td>0.066594</td>\n",
       "      <td>-0.116963</td>\n",
       "      <td>0.127433</td>\n",
       "      <td>-0.163001</td>\n",
       "      <td>0.218722</td>\n",
       "      <td>-0.088520</td>\n",
       "    </tr>\n",
       "    <tr>\n",
       "      <th>2</th>\n",
       "      <td>-0.098928</td>\n",
       "      <td>-0.011256</td>\n",
       "      <td>-0.377554</td>\n",
       "      <td>0.043448</td>\n",
       "      <td>-0.103632</td>\n",
       "      <td>0.114415</td>\n",
       "      <td>-0.086191</td>\n",
       "      <td>-0.127526</td>\n",
       "      <td>0.143809</td>\n",
       "      <td>0.052314</td>\n",
       "      <td>...</td>\n",
       "      <td>-0.143631</td>\n",
       "      <td>-0.007663</td>\n",
       "      <td>-0.167860</td>\n",
       "      <td>-0.098583</td>\n",
       "      <td>-0.012592</td>\n",
       "      <td>0.076005</td>\n",
       "      <td>0.049830</td>\n",
       "      <td>-0.143969</td>\n",
       "      <td>0.051245</td>\n",
       "      <td>-0.032230</td>\n",
       "    </tr>\n",
       "    <tr>\n",
       "      <th>3</th>\n",
       "      <td>-0.161938</td>\n",
       "      <td>-0.099693</td>\n",
       "      <td>-0.160040</td>\n",
       "      <td>0.016265</td>\n",
       "      <td>-0.072181</td>\n",
       "      <td>-0.098847</td>\n",
       "      <td>0.119023</td>\n",
       "      <td>0.118284</td>\n",
       "      <td>0.180173</td>\n",
       "      <td>-0.017486</td>\n",
       "      <td>...</td>\n",
       "      <td>-0.128780</td>\n",
       "      <td>-0.166199</td>\n",
       "      <td>-0.100410</td>\n",
       "      <td>-0.040935</td>\n",
       "      <td>0.093489</td>\n",
       "      <td>-0.011991</td>\n",
       "      <td>0.122830</td>\n",
       "      <td>-0.067204</td>\n",
       "      <td>0.157118</td>\n",
       "      <td>0.063357</td>\n",
       "    </tr>\n",
       "    <tr>\n",
       "      <th>4</th>\n",
       "      <td>0.068829</td>\n",
       "      <td>-0.141979</td>\n",
       "      <td>-0.412395</td>\n",
       "      <td>0.144852</td>\n",
       "      <td>0.048520</td>\n",
       "      <td>0.031457</td>\n",
       "      <td>-0.102091</td>\n",
       "      <td>-0.072681</td>\n",
       "      <td>0.004876</td>\n",
       "      <td>0.033539</td>\n",
       "      <td>...</td>\n",
       "      <td>-0.075341</td>\n",
       "      <td>-0.201584</td>\n",
       "      <td>-0.112117</td>\n",
       "      <td>-0.095378</td>\n",
       "      <td>-0.033416</td>\n",
       "      <td>-0.031399</td>\n",
       "      <td>0.066684</td>\n",
       "      <td>-0.124143</td>\n",
       "      <td>0.279241</td>\n",
       "      <td>-0.067741</td>\n",
       "    </tr>\n",
       "  </tbody>\n",
       "</table>\n",
       "<p>5 rows × 64 columns</p>\n",
       "</div>"
      ],
      "text/plain": [
       "          0         1         2         3         4         5         6  \\\n",
       "0 -0.165199 -0.121393 -0.160710 -0.075477 -0.116381  0.111168 -0.068529   \n",
       "1 -0.185898 -0.013445 -0.324363 -0.066136 -0.127533  0.129603  0.052062   \n",
       "2 -0.098928 -0.011256 -0.377554  0.043448 -0.103632  0.114415 -0.086191   \n",
       "3 -0.161938 -0.099693 -0.160040  0.016265 -0.072181 -0.098847  0.119023   \n",
       "4  0.068829 -0.141979 -0.412395  0.144852  0.048520  0.031457 -0.102091   \n",
       "\n",
       "          7         8         9  ...        54        55        56        57  \\\n",
       "0 -0.043378  0.089550 -0.081458  ... -0.123700 -0.108546 -0.136383 -0.023236   \n",
       "1 -0.126430  0.083904  0.168679  ... -0.086148 -0.326054 -0.070692 -0.095942   \n",
       "2 -0.127526  0.143809  0.052314  ... -0.143631 -0.007663 -0.167860 -0.098583   \n",
       "3  0.118284  0.180173 -0.017486  ... -0.128780 -0.166199 -0.100410 -0.040935   \n",
       "4 -0.072681  0.004876  0.033539  ... -0.075341 -0.201584 -0.112117 -0.095378   \n",
       "\n",
       "         58        59        60        61        62        63  \n",
       "0  0.072730  0.013725  0.177565 -0.176148  0.088683  0.022924  \n",
       "1  0.066594 -0.116963  0.127433 -0.163001  0.218722 -0.088520  \n",
       "2 -0.012592  0.076005  0.049830 -0.143969  0.051245 -0.032230  \n",
       "3  0.093489 -0.011991  0.122830 -0.067204  0.157118  0.063357  \n",
       "4 -0.033416 -0.031399  0.066684 -0.124143  0.279241 -0.067741  \n",
       "\n",
       "[5 rows x 64 columns]"
      ]
     },
     "execution_count": 26,
     "metadata": {},
     "output_type": "execute_result"
    }
   ],
   "source": [
    "item_embeddings.head()"
   ]
  },
  {
   "cell_type": "code",
   "execution_count": 27,
   "id": "89739084",
   "metadata": {},
   "outputs": [],
   "source": [
    "# save to disk\n",
    "item_embeddings.to_parquet('item_embeddings.parquet')"
   ]
  },
  {
   "cell_type": "markdown",
   "id": "23664515",
   "metadata": {},
   "source": [
    "That's it. You have learned how to train and evaluate your Two-Tower retrieval model, and then how to export the required components to be able to deploy this model to generate recommendations. In order to learn more on serving a model to [Triton Inference Server](https://github.com/triton-inference-server/server), please explore the examples in the [Merlin](https://github.com/NVIDIA-Merlin/Merlin) and [Merlin Systems](https://github.com/NVIDIA-Merlin/systems) repos."
   ]
  }
 ],
 "metadata": {
  "kernelspec": {
   "display_name": "Python 3 (ipykernel)",
   "language": "python",
   "name": "python3"
  },
  "language_info": {
   "codemirror_mode": {
    "name": "ipython",
    "version": 3
   },
   "file_extension": ".py",
   "mimetype": "text/x-python",
   "name": "python",
   "nbconvert_exporter": "python",
   "pygments_lexer": "ipython3",
   "version": "3.8.10"
  }
 },
 "nbformat": 4,
 "nbformat_minor": 5
}
