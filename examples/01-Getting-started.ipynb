{
 "cells": [
  {
   "cell_type": "code",
   "execution_count": 1,
   "id": "bb28e271",
   "metadata": {},
   "outputs": [],
   "source": [
    "# Copyright 2022 NVIDIA Corporation. All Rights Reserved.\n",
    "#\n",
    "# Licensed under the Apache License, Version 2.0 (the \"License\");\n",
    "# you may not use this file except in compliance with the License.\n",
    "# You may obtain a copy of the License at\n",
    "#\n",
    "#     http://www.apache.org/licenses/LICENSE-2.0\n",
    "#\n",
    "# Unless required by applicable law or agreed to in writing, software\n",
    "# distributed under the License is distributed on an \"AS IS\" BASIS,\n",
    "# WITHOUT WARRANTIES OR CONDITIONS OF ANY KIND, either express or implied.\n",
    "# See the License for the specific language governing permissions and\n",
    "# limitations under the License.\n",
    "# ==============================================================================\n",
    "\n",
    "# Each user is responsible for checking the content of datasets and the\n",
    "# applicable licenses and determining if suitable for the intended use."
   ]
  },
  {
   "cell_type": "markdown",
   "id": "77464844",
   "metadata": {},
   "source": [
    "<img src=\"https://developer.download.nvidia.com/notebooks/dlsw-notebooks/merlin_models_01-getting-started/nvidia_logo.png\" style=\"width: 90px; float: right;\">\n",
    "\n",
    "# Getting Started with Merlin Models: Develop a Model for MovieLens\n",
    "\n",
    "This notebook is created using the latest stable [merlin-tensorflow](https://catalog.ngc.nvidia.com/orgs/nvidia/teams/merlin/containers/merlin-tensorflow/tags) container. \n",
    "\n",
    "## Overview\n",
    "\n",
    "[Merlin Models](https://github.com/NVIDIA-Merlin/models/) is a library for training recommender models. Merlin Models let Data Scientists and ML Engineers easily train standard RecSys models on their own dataset, getting GPU-accelerated models with best practices baked into the library. This will also let researchers to build custom models by incorporating standard components of deep learning recommender models, and then benchmark their new models on example offline datasets. Merlin Models is part of the [Merlin open source framework](https://developer.nvidia.com/nvidia-merlin).\n",
    "\n",
    "Core features are:\n",
    "- Many different recommender system architectures (tabular, two-tower, sequential) or tasks (binary, multi-class classification, multi-task)\n",
    "- Flexible APIs targeted to both production and research\n",
    "- Deep integration with NVIDIA Merlin platform, including NVTabular for ETL and Merlin Systems model serving\n",
    "\n",
    "\n",
    "### Learning objectives\n",
    "\n",
    "- Training [Facebook's DLRM model](https://arxiv.org/pdf/1906.00091.pdf) very easily with our high-level API.\n",
    "- Understanding Merlin Models high-level API"
   ]
  },
  {
   "cell_type": "markdown",
   "id": "1c5598ae",
   "metadata": {},
   "source": [
    "## Downloading and preparing the dataset"
   ]
  },
  {
   "cell_type": "code",
   "execution_count": 2,
   "id": "60653f70",
   "metadata": {},
   "outputs": [
    {
     "name": "stderr",
     "output_type": "stream",
     "text": [
      "2023-01-09 10:18:00.286093: I tensorflow/core/util/util.cc:169] oneDNN custom operations are on. You may see slightly different numerical results due to floating-point round-off errors from different computation orders. To turn them off, set the environment variable `TF_ENABLE_ONEDNN_OPTS=0`.\n",
      "2023-01-09 10:18:02.454892: I tensorflow/core/platform/cpu_feature_guard.cc:193] This TensorFlow binary is optimized with oneAPI Deep Neural Network Library (oneDNN) to use the following CPU instructions in performance-critical operations:  AVX2 AVX512F AVX512_VNNI FMA\n",
      "To enable them in other operations, rebuild TensorFlow with the appropriate compiler flags.\n",
      "2023-01-09 10:18:04.585508: I tensorflow/core/common_runtime/gpu/gpu_device.cc:1532] Created device /job:localhost/replica:0/task:0/device:GPU:0 with 16249 MB memory:  -> device: 0, name: Quadro GV100, pci bus id: 0000:15:00.0, compute capability: 7.0\n",
      "2023-01-09 10:18:04.586621: I tensorflow/core/common_runtime/gpu/gpu_device.cc:1532] Created device /job:localhost/replica:0/task:0/device:GPU:1 with 30625 MB memory:  -> device: 1, name: Quadro GV100, pci bus id: 0000:2d:00.0, compute capability: 7.0\n"
     ]
    }
   ],
   "source": [
    "import os\n",
    "import merlin.models.tf as mm\n",
    "\n",
    "from merlin.datasets.entertainment import get_movielens"
   ]
  },
  {
   "cell_type": "markdown",
   "id": "5327924b",
   "metadata": {},
   "source": [
    "We provide the `get_movielens()` function as a convenience to download the dataset, perform simple preprocessing, and split the data into training and validation datasets."
   ]
  },
  {
   "cell_type": "code",
   "execution_count": 3,
   "id": "9ba8b53d",
   "metadata": {},
   "outputs": [
    {
     "name": "stderr",
     "output_type": "stream",
     "text": [
      "/home/gmoreira/projects/nvidia/nvidia_merlin/core/merlin/schema/tags.py:148: UserWarning: Compound tags like Tags.USER_ID have been deprecated and will be removed in a future version. Please use the atomic versions of these tags, like [<Tags.USER: 'user'>, <Tags.ID: 'id'>].\n",
      "  warnings.warn(\n",
      "/home/gmoreira/projects/nvidia/nvidia_merlin/core/merlin/schema/tags.py:148: UserWarning: Compound tags like Tags.ITEM_ID have been deprecated and will be removed in a future version. Please use the atomic versions of these tags, like [<Tags.ITEM: 'item'>, <Tags.ID: 'id'>].\n",
      "  warnings.warn(\n"
     ]
    }
   ],
   "source": [
    "input_path = os.environ.get(\"INPUT_DATA_DIR\", os.path.expanduser(\"~/merlin-models-data/movielens/\"))\n",
    "train, valid = get_movielens(variant=\"ml-1m\", path=input_path)"
   ]
  },
  {
   "cell_type": "markdown",
   "id": "2ee5c7c2",
   "metadata": {},
   "source": [
    "## Training the DLRM Model with Merlin Models"
   ]
  },
  {
   "cell_type": "markdown",
   "id": "688b89c7",
   "metadata": {},
   "source": [
    "We define the DLRM model, whose prediction task is a binary classification. From the `schema`, the categorical features are identified (and embedded) and the target column is also automatically inferred, because of the schema tags. We talk more about the schema in the next [example notebook (02)](02-Merlin-Models-and-NVTabular-integration.ipynb),"
   ]
  },
  {
   "cell_type": "code",
   "execution_count": 5,
   "id": "d3b8942c",
   "metadata": {},
   "outputs": [],
   "source": [
    "model = mm.DLRMModel(\n",
    "    train.schema,\n",
    "    embedding_dim=64,\n",
    "    bottom_block=mm.MLPBlock([128, 64]),\n",
    "    top_block=mm.MLPBlock([128, 64, 32]),\n",
    "    prediction_tasks=mm.OutputBlock(train.schema),\n",
    ")\n",
    "\n",
    "model.compile(optimizer=\"adam\")"
   ]
  },
  {
   "cell_type": "markdown",
   "id": "64ee4cef",
   "metadata": {},
   "source": [
    "Next, we train the model."
   ]
  },
  {
   "cell_type": "code",
   "execution_count": 6,
   "id": "33343067",
   "metadata": {},
   "outputs": [
    {
     "name": "stdout",
     "output_type": "stream",
     "text": [
      "782/782 [==============================] - 21s 22ms/step - loss: 1.5975 - rating/regression_output_loss: 1.0380 - rating_binary/binary_output_loss: 0.5596 - rating/regression_output/root_mean_squared_error: 1.0188 - rating_binary/binary_output/precision: 0.7079 - rating_binary/binary_output/recall: 0.8442 - rating_binary/binary_output/binary_accuracy: 0.7098 - rating_binary/binary_output/auc: 0.7728 - regularization_loss: 0.0000e+00 - loss_batch: 1.5970\n"
     ]
    },
    {
     "data": {
      "text/plain": [
       "<keras.callbacks.History at 0x7f19c4364b50>"
      ]
     },
     "execution_count": 6,
     "metadata": {},
     "output_type": "execute_result"
    }
   ],
   "source": [
    "model.fit(train, batch_size=1024)"
   ]
  },
  {
   "cell_type": "markdown",
   "id": "4bd668ab",
   "metadata": {},
   "source": [
    "We evaluate the model..."
   ]
  },
  {
   "cell_type": "code",
   "execution_count": 7,
   "id": "13d60260",
   "metadata": {},
   "outputs": [
    {
     "name": "stderr",
     "output_type": "stream",
     "text": [
      "/home/gmoreira/projects/nvidia/nvidia_merlin/core/merlin/schema/tags.py:148: UserWarning: Compound tags like Tags.USER_ID have been deprecated and will be removed in a future version. Please use the atomic versions of these tags, like [<Tags.USER: 'user'>, <Tags.ID: 'id'>].\n",
      "  warnings.warn(\n",
      "/home/gmoreira/projects/nvidia/nvidia_merlin/core/merlin/schema/tags.py:148: UserWarning: Compound tags like Tags.ITEM_ID have been deprecated and will be removed in a future version. Please use the atomic versions of these tags, like [<Tags.ITEM: 'item'>, <Tags.ID: 'id'>].\n",
      "  warnings.warn(\n"
     ]
    },
    {
     "name": "stdout",
     "output_type": "stream",
     "text": [
      "196/196 [==============================] - 4s 14ms/step - loss: 1.3249 - rating/regression_output_loss: 0.7924 - rating_binary/binary_output_loss: 0.5326 - rating/regression_output/root_mean_squared_error: 0.8901 - rating_binary/binary_output/precision: 0.7383 - rating_binary/binary_output/recall: 0.8258 - rating_binary/binary_output/binary_accuracy: 0.7322 - rating_binary/binary_output/auc: 0.7995 - regularization_loss: 0.0000e+00 - loss_batch: 1.3255\n"
     ]
    }
   ],
   "source": [
    "metrics = model.evaluate(valid, batch_size=1024, return_dict=True)"
   ]
  },
  {
   "cell_type": "markdown",
   "id": "60b9afe7",
   "metadata": {},
   "source": [
    "... and check the evaluation metrics. We use by default typical binary classification metrics -- Precision, Recall, Accuracy and AUC. But you can also provide your own metrics list by setting `BinaryClassificationTask(..., metrics=[])`."
   ]
  },
  {
   "cell_type": "code",
   "execution_count": 8,
   "id": "4d415278",
   "metadata": {
    "tags": [
     "metrics"
    ]
   },
   "outputs": [
    {
     "data": {
      "text/plain": [
       "{'loss': 1.3249409198760986,\n",
       " 'rating/regression_output_loss': 0.7923521995544434,\n",
       " 'rating_binary/binary_output_loss': 0.5325889587402344,\n",
       " 'rating/regression_output/root_mean_squared_error': 0.8901416659355164,\n",
       " 'rating_binary/binary_output/precision': 0.7382509112358093,\n",
       " 'rating_binary/binary_output/recall': 0.8258424997329712,\n",
       " 'rating_binary/binary_output/binary_accuracy': 0.7322099208831787,\n",
       " 'rating_binary/binary_output/auc': 0.7994654178619385,\n",
       " 'regularization_loss': 0.0,\n",
       " 'loss_batch': 1.3920133113861084}"
      ]
     },
     "execution_count": 8,
     "metadata": {},
     "output_type": "execute_result"
    }
   ],
   "source": [
    "metrics"
   ]
  },
  {
   "cell_type": "markdown",
   "id": "2a6ad327",
   "metadata": {},
   "source": [
    "## Conclusion"
   ]
  },
  {
   "cell_type": "markdown",
   "id": "eeba861b",
   "metadata": {},
   "source": [
    "Merlin Models enables users to define and train a deep learning recommeder model with only 3 commands.\n",
    "\n",
    "```python\n",
    "model = mm.DLRMModel(\n",
    "    train.schema,\n",
    "    embedding_dim=64,\n",
    "    bottom_block=mm.MLPBlock([128, 64]),\n",
    "    top_block=mm.MLPBlock([128, 64, 32]),\n",
    "    prediction_tasks=mm.OutputBlock(\n",
    "        train.schema.select_by_tag(Tags.TARGET).column_names[0]\n",
    "    ),\n",
    ")\n",
    "model.compile(optimizer=\"adam\")\n",
    "model.fit(train, batch_size=1024)\n",
    "```"
   ]
  },
  {
   "cell_type": "markdown",
   "id": "c9180e84",
   "metadata": {},
   "source": [
    "## Next steps"
   ]
  },
  {
   "cell_type": "markdown",
   "id": "b9ba3102",
   "metadata": {},
   "source": [
    "In the next example notebooks, we will show how the integration with NVTabular and how to explore different recommender models."
   ]
  }
 ],
 "metadata": {
  "kernelspec": {
   "display_name": "Python 3 (ipykernel)",
   "language": "python",
   "name": "python3"
  },
  "language_info": {
   "codemirror_mode": {
    "name": "ipython",
    "version": 3
   },
   "file_extension": ".py",
   "mimetype": "text/x-python",
   "name": "python",
   "nbconvert_exporter": "python",
   "pygments_lexer": "ipython3",
   "version": "3.8.10"
  },
  "merlin": {
   "containers": [
    "nvcr.io/nvidia/merlin/merlin-tensorflow:latest"
   ]
  },
  "vscode": {
   "interpreter": {
    "hash": "ab403bb43341787581f43b51cdd291d61392c89ddb0f92179de653921d4e05db"
   }
  }
 },
 "nbformat": 4,
 "nbformat_minor": 5
}
