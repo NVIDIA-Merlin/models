{
 "cells": [
  {
   "cell_type": "code",
   "execution_count": 1,
   "id": "ec36c5a7",
   "metadata": {},
   "outputs": [],
   "source": [
    "# Copyright 2021 NVIDIA Corporation. All Rights Reserved.\n",
    "#\n",
    "# Licensed under the Apache License, Version 2.0 (the \"License\");\n",
    "# you may not use this file except in compliance with the License.\n",
    "# You may obtain a copy of the License at\n",
    "#\n",
    "#     http://www.apache.org/licenses/LICENSE-2.0\n",
    "#\n",
    "# Unless required by applicable law or agreed to in writing, software\n",
    "# distributed under the License is distributed on an \"AS IS\" BASIS,\n",
    "# WITHOUT WARRANTIES OR CONDITIONS OF ANY KIND, either express or implied.\n",
    "# See the License for the specific language governing permissions and\n",
    "# limitations under the License.\n",
    "# ================================"
   ]
  },
  {
   "cell_type": "markdown",
   "id": "268d8f35",
   "metadata": {},
   "source": [
    "## Iterating over Deep Learning Models using Merlin Models\n",
    "\n",
    "In this example notebook, we use the Ali-CCP: Alibaba Click and Conversion Prediction dataset to build our recommender system models. To download the training and test datasets visit Ali-CCP: Alibaba Click and Conversion Prediction at [tianchi.aliyun.com](https://tianchi.aliyun.com/dataset/dataDetail?dataId=408#1). We have curated the raw dataset via this [script]() and generated the parquet files that we will use in this example. Note that the `Ali-CCP` dataset has `click` and `conversion` target columns but we only focus on building different ranking models with binary target column `click`.\n",
    "\n",
    "We'll define several popular deep learning-based model architectures, train, and evaluate them and show how Merlin Models simplifies and eases this common and iterative process.\"\n",
    "\n",
    "### Learning objectives\n",
    "- Preparing the data with NVTabular\n",
    "- Training different deep learning-based recommender models with Merlin Models"
   ]
  },
  {
   "cell_type": "markdown",
   "id": "0a5810b7",
   "metadata": {},
   "source": [
    "## Importing Libraries"
   ]
  },
  {
   "cell_type": "markdown",
   "id": "f4e8f257",
   "metadata": {},
   "source": [
    "Let's start with importing the libraries that we'll use in this notebook."
   ]
  },
  {
   "cell_type": "code",
   "execution_count": 2,
   "id": "7751703e",
   "metadata": {},
   "outputs": [
    {
     "name": "stderr",
     "output_type": "stream",
     "text": [
      "2022-03-21 15:09:56.712947: I tensorflow/core/platform/cpu_feature_guard.cc:151] This TensorFlow binary is optimized with oneAPI Deep Neural Network Library (oneDNN) to use the following CPU instructions in performance-critical operations:  AVX2 AVX512F FMA\n",
      "To enable them in other operations, rebuild TensorFlow with the appropriate compiler flags.\n",
      "2022-03-21 15:09:57.822616: I tensorflow/core/common_runtime/gpu/gpu_process_state.cc:214] Using CUDA malloc Async allocator for GPU: 0\n",
      "2022-03-21 15:09:57.822746: I tensorflow/core/common_runtime/gpu/gpu_device.cc:1525] Created device /job:localhost/replica:0/task:0/device:GPU:0 with 16254 MB memory:  -> device: 0, name: Quadro GV100, pci bus id: 0000:15:00.0, compute capability: 7.0\n"
     ]
    }
   ],
   "source": [
    "import os\n",
    "os.environ[\"TF_GPU_ALLOCATOR\"]=\"cuda_malloc_async\"\n",
    "import cudf\n",
    "import glob\n",
    "import gc\n",
    "\n",
    "import nvtabular as nvt\n",
    "from nvtabular.ops import *\n",
    "from example_utils import workflow_fit_transform\n",
    "from example_utils import save_results\n",
    "\n",
    "from merlin.schema.tags import Tags\n",
    "from merlin.schema import Schema\n",
    "\n",
    "import merlin.models.tf as mm\n",
    "import merlin.models.tf.dataset as tf_dataloader\n",
    "\n",
    "from merlin.io.dataset import Dataset\n",
    "from merlin.schema.io.tensorflow_metadata import TensorflowMetadata\n",
    "from merlin.models.tf.blocks.core.aggregation import CosineSimilarity\n",
    "\n",
    "import tensorflow as tf"
   ]
  },
  {
   "cell_type": "markdown",
   "id": "67042437",
   "metadata": {},
   "source": [
    "## Feature Engineering with NVTabular"
   ]
  },
  {
   "cell_type": "markdown",
   "id": "d0fa3b20",
   "metadata": {},
   "source": [
    "When we work on a new recommender systems, we explore the dataset, first. In doing so, we define our input and output paths."
   ]
  },
  {
   "cell_type": "code",
   "execution_count": 3,
   "id": "a46c5b18",
   "metadata": {},
   "outputs": [],
   "source": [
    "DATA_FOLDER = os.environ.get(\"DATA_FOLDER\", \"/workspace/data/\")\n",
    "train_path = os.path.join(DATA_FOLDER, 'train/*.parquet')\n",
    "test_path = os.path.join(DATA_FOLDER, 'test/*.parquet')\n",
    "output_path = '/workspace/data/processed'"
   ]
  },
  {
   "cell_type": "markdown",
   "id": "a5b2a969",
   "metadata": {},
   "source": [
    "Our dataset has only categorical features. Below, we create continuous features using target encoding (TE) technique. Target Encoding calculates the statistics from a target variable grouped by the unique values of one or more categorical features. For example, in a binary classification problem, TE calculates the conditional probability that the target is true for each category value- a simple mean. To learn more about TE, visit this [medium blog](https://medium.com/rapids-ai/target-encoding-with-rapids-cuml-do-more-with-your-categorical-data-8c762c79e784)."
   ]
  },
  {
   "cell_type": "markdown",
   "id": "0a7cc0ec",
   "metadata": {},
   "source": [
    "We use a utility function, `workflow_fit_transform` perform to fit and transform steps on the raw dataset applying the operators defined in the NVTabular workflow pipeline below, and also save our workflow model. After fit and transform, the processed parquet files are saved to `output_path`."
   ]
  },
  {
   "cell_type": "code",
   "execution_count": 4,
   "id": "24bcb311",
   "metadata": {},
   "outputs": [
    {
     "name": "stderr",
     "output_type": "stream",
     "text": [
      "/usr/local/lib/python3.8/dist-packages/cudf/core/dataframe.py:1253: UserWarning: The deep parameter is ignored and is only included for pandas compatibility.\n",
      "  warnings.warn(\n"
     ]
    },
    {
     "name": "stdout",
     "output_type": "stream",
     "text": [
      "CPU times: user 24.1 s, sys: 29.7 s, total: 53.8 s\n",
      "Wall time: 58.7 s\n"
     ]
    }
   ],
   "source": [
    "%%time\n",
    "\n",
    "user_id = [\"user_id\"] >> Categorify(freq_threshold=5) >> AddMetadata(tags=[Tags.USER_ID])\n",
    "item_id = [\"item_id\"] >> Categorify(freq_threshold=5) >> AddMetadata(tags=[Tags.ITEM_ID])\n",
    "targets = [\"click\"] >> AddMetadata(tags=[str(Tags.BINARY_CLASSIFICATION), \"target\"])\n",
    "\n",
    "add_feat = [\"user_item_categories\", \"user_item_shops\", \"user_item_brands\", \"user_item_intentions\",\"item_category\", \"item_shop\", \"item_brand\"] >> nvt.ops.Categorify()\n",
    "\n",
    "te_feat = (\n",
    "    [\"user_id\", \"item_id\"] + add_feat >>\n",
    "    TargetEncoding(\n",
    "        ['click'],\n",
    "        kfold=1,\n",
    "        p_smooth=20\n",
    "    ) >>\n",
    "    Normalize()\n",
    ")\n",
    "\n",
    "outputs = user_id + item_id + targets + add_feat + te_feat\n",
    "\n",
    "# Remove rows where item_id==0 and user_id==0\n",
    "outputs = outputs>> Filter(f=lambda df: (df[\"item_id\"] != 0) & (df[\"user_id\"] != 0))\n",
    "\n",
    "workflow_fit_transform(outputs, train_path, test_path, output_path)"
   ]
  },
  {
   "cell_type": "markdown",
   "id": "12473025",
   "metadata": {
    "tags": []
   },
   "source": [
    "## Training Recommender Models"
   ]
  },
  {
   "cell_type": "markdown",
   "id": "ca22565e",
   "metadata": {},
   "source": [
    "NVTabular exported the schema file of our processed dataset. The `schema.pbtxt` is a protobuf text file contains features metadata, including statistics about features such as cardinality, min and max values and also tags based on their characteristics and dtypes (e.g., categorical, continuous, list, item_id). The metadata information is loaded from schema and their tags are used to automatically set the parameters of Merlin Models. In other words, Merlin Models relies on the schema object to automatically build all necessary input and output layers."
   ]
  },
  {
   "cell_type": "code",
   "execution_count": 5,
   "id": "7a227468",
   "metadata": {},
   "outputs": [],
   "source": [
    "# define schema object\n",
    "schema = TensorflowMetadata.from_proto_text_file(output_path + '/train/').to_merlin_schema()"
   ]
  },
  {
   "cell_type": "code",
   "execution_count": 6,
   "id": "f8837147",
   "metadata": {},
   "outputs": [
    {
     "data": {
      "text/plain": [
       "'click'"
      ]
     },
     "execution_count": 6,
     "metadata": {},
     "output_type": "execute_result"
    }
   ],
   "source": [
    "target_column = schema.select_by_tag(Tags.TARGET).column_names[0]\n",
    "target_column"
   ]
  },
  {
   "cell_type": "markdown",
   "id": "583dd767",
   "metadata": {},
   "source": [
    "We can print out all the features that are included in the `schema.pbtxt` file."
   ]
  },
  {
   "cell_type": "code",
   "execution_count": 7,
   "id": "83af151c",
   "metadata": {},
   "outputs": [
    {
     "data": {
      "text/plain": [
       "['user_id',\n",
       " 'item_id',\n",
       " 'click',\n",
       " 'user_item_categories',\n",
       " 'user_item_shops',\n",
       " 'user_item_brands',\n",
       " 'user_item_intentions',\n",
       " 'item_category',\n",
       " 'item_shop',\n",
       " 'item_brand',\n",
       " 'TE_user_item_categories_click',\n",
       " 'TE_user_item_shops_click',\n",
       " 'TE_user_item_brands_click',\n",
       " 'TE_user_item_intentions_click',\n",
       " 'TE_item_category_click',\n",
       " 'TE_item_shop_click',\n",
       " 'TE_item_brand_click',\n",
       " 'TE_user_id_click',\n",
       " 'TE_item_id_click']"
      ]
     },
     "execution_count": 7,
     "metadata": {},
     "output_type": "execute_result"
    }
   ],
   "source": [
    "schema.column_names"
   ]
  },
  {
   "cell_type": "markdown",
   "id": "955edf4e",
   "metadata": {},
   "source": [
    "### Initialize Dataloaders"
   ]
  },
  {
   "cell_type": "markdown",
   "id": "238d775a",
   "metadata": {},
   "source": [
    "We're ready to start training, for that, we create our dataset objects, and under the hood we use Merlin `BatchedDataset` class for reading chunks of parquet files. `BatchedDataset` asynchronously iterate through CSV or Parquet dataframes on GPU by leveraging an NVTabular `Dataset`. To read more about Merlin optimized dataloaders visit [here](https://github.com/NVIDIA-Merlin/models/blob/main/merlin/models/tf/dataset.py#L141)."
   ]
  },
  {
   "cell_type": "code",
   "execution_count": 8,
   "id": "f9b0d5ff",
   "metadata": {},
   "outputs": [],
   "source": [
    "batch_size = 16*1024\n",
    "LR=0.003"
   ]
  },
  {
   "cell_type": "code",
   "execution_count": 9,
   "id": "a6c824f7",
   "metadata": {},
   "outputs": [
    {
     "name": "stderr",
     "output_type": "stream",
     "text": [
      "/usr/local/lib/python3.8/dist-packages/cudf/core/dataframe.py:1253: UserWarning: The deep parameter is ignored and is only included for pandas compatibility.\n",
      "  warnings.warn(\n"
     ]
    }
   ],
   "source": [
    "train = Dataset(os.path.join(output_path + '/train/*.parquet'), part_size=\"500MB\")\n",
    "valid = Dataset(os.path.join(output_path + '/test/*.parquet'), part_size=\"500MB\")"
   ]
  },
  {
   "cell_type": "markdown",
   "id": "2f1cf614",
   "metadata": {},
   "source": [
    "### NCF Model"
   ]
  },
  {
   "cell_type": "markdown",
   "id": "c35488f9",
   "metadata": {},
   "source": [
    "We will first build and train a Neural Collaborative Filtering (NCF) model. Neural Collaborative Filtering [(NCF)](https://arxiv.org/pdf/1708.05031.pdf) Model  architecture explores neural network architectures for collaborative filtering, in other words explores the use of deep neural networks for learning the interaction function from data.\n",
    "\n",
    "NCF feed categorical features into embedding layer, concat the embedding outputs and add multiple hidden layers via its MLP layer tower as seen in the figure. GMF and MLP uses separate user and item embeddings, and then outputs of their interactions from GMF Layer and MLP Layer are concatenated and fed to the final NeuMF (Neural Matrix Factorisation) layer."
   ]
  },
  {
   "cell_type": "markdown",
   "id": "b9e61a83",
   "metadata": {},
   "source": [
    "<img src=\"./images/ncf.png\"  width=\"30%\">\n",
    "\n",
    "<a href=\"https://arxiv.org/pdf/1708.05031.pdf\">Image Source: NCF paper</a>"
   ]
  },
  {
   "cell_type": "markdown",
   "id": "4404dc22",
   "metadata": {},
   "source": [
    "With `schema` object we enable NCF model easily to recognize item_id and user_id columns (defined in the schema.pbtxt with corresponding tags). Input block of embedding layers will be generated using item_id and user_id as seen in the Figure."
   ]
  },
  {
   "cell_type": "code",
   "execution_count": 10,
   "id": "9544e3a7",
   "metadata": {},
   "outputs": [],
   "source": [
    "model = mm.benchmark.NCFModel(\n",
    "    schema,\n",
    "    embedding_dim=64,\n",
    "    mlp_block=mm.MLPBlock([128, 64]),\n",
    "    prediction_tasks=mm.BinaryClassificationTask(target_column, metrics=[tf.keras.metrics.AUC()]),\n",
    ")"
   ]
  },
  {
   "cell_type": "code",
   "execution_count": 11,
   "id": "c9ce573c",
   "metadata": {},
   "outputs": [
    {
     "name": "stderr",
     "output_type": "stream",
     "text": [
      "2022-03-21 15:10:57.618373: W tensorflow/python/util/util.cc:368] Sets are not currently considered sequences, but this may change in the future, so consider avoiding using them.\n"
     ]
    },
    {
     "name": "stdout",
     "output_type": "stream",
     "text": [
      "2209/2209 [==============================] - ETA: 0s - auc: 0.5382 - loss: 0.2374 - regularization_loss: 0.0000e+00 - total_loss: 0.2374"
     ]
    },
    {
     "name": "stderr",
     "output_type": "stream",
     "text": [
      "2022-03-21 15:12:05.558278: W tensorflow/core/grappler/optimizers/loop_optimizer.cc:907] Skipping loop optimization for Merge node with control input: cond/else/_1/cond/cond/branch_executed/_139\n"
     ]
    },
    {
     "name": "stdout",
     "output_type": "stream",
     "text": [
      "2209/2209 [==============================] - 92s 35ms/step - auc: 0.5382 - loss: 0.2373 - regularization_loss: 0.0000e+00 - total_loss: 0.2373 - val_auc: 0.5000 - val_loss: 0.1335 - val_regularization_loss: 0.0000e+00 - val_total_loss: 0.1335\n",
      "CPU times: user 2min 29s, sys: 22.9 s, total: 2min 52s\n",
      "Wall time: 1min 33s\n"
     ]
    },
    {
     "data": {
      "text/plain": [
       "<keras.callbacks.History at 0x7fc70861ffa0>"
      ]
     },
     "execution_count": 11,
     "metadata": {},
     "output_type": "execute_result"
    }
   ],
   "source": [
    "%%time\n",
    "opt = tf.keras.optimizers.Adagrad(learning_rate=LR)\n",
    "model.compile(optimizer=opt, run_eagerly=False)\n",
    "model.fit(train, validation_data=valid, batch_size=batch_size)"
   ]
  },
  {
   "cell_type": "markdown",
   "id": "c733acfb",
   "metadata": {},
   "source": [
    "Let's save our accuracy results"
   ]
  },
  {
   "cell_type": "code",
   "execution_count": 12,
   "id": "cab9b682",
   "metadata": {},
   "outputs": [],
   "source": [
    "save_results('NCF', model)"
   ]
  },
  {
   "cell_type": "markdown",
   "id": "90964e86",
   "metadata": {},
   "source": [
    "### MLP Model"
   ]
  },
  {
   "cell_type": "markdown",
   "id": "2e907696",
   "metadata": {},
   "source": [
    "Now we will change our model to Multi-Layer Percepton (MLP) model. MLP models feed categorical features into embedding layer, concat the embedding outputs and add multiple hidden layers."
   ]
  },
  {
   "cell_type": "markdown",
   "id": "fff1725b",
   "metadata": {},
   "source": [
    "<img src=\"./images/mlp.png\"  width=\"30%\">\n",
    "\n",
    "Steps:\n",
    "\n",
    "- Change the model to MLP model\n",
    "- Rerun the pipeline from there from model.fit"
   ]
  },
  {
   "cell_type": "code",
   "execution_count": 13,
   "id": "b55fc3c6",
   "metadata": {},
   "outputs": [],
   "source": [
    "# uses default embedding_dim = 64\n",
    "model = mm.MLPBlock([64, 32]).to_model(\n",
    "    schema, \n",
    "    prediction_tasks=mm.BinaryClassificationTask(target_column, metrics=[tf.keras.metrics.AUC()])\n",
    ")"
   ]
  },
  {
   "cell_type": "code",
   "execution_count": 14,
   "id": "96d39c34",
   "metadata": {},
   "outputs": [
    {
     "name": "stdout",
     "output_type": "stream",
     "text": [
      "2207/2209 [============================>.] - ETA: 0s - auc_1: 0.6084 - loss: 0.1911 - regularization_loss: 0.0000e+00 - total_loss: 0.1911"
     ]
    },
    {
     "name": "stderr",
     "output_type": "stream",
     "text": [
      "2022-03-21 15:13:32.603065: W tensorflow/core/grappler/optimizers/loop_optimizer.cc:907] Skipping loop optimization for Merge node with control input: cond/then/_0/cond/cond/branch_executed/_140\n"
     ]
    },
    {
     "name": "stdout",
     "output_type": "stream",
     "text": [
      "2209/2209 [==============================] - 89s 38ms/step - auc_1: 0.6085 - loss: 0.1910 - regularization_loss: 0.0000e+00 - total_loss: 0.1910 - val_auc_1: 0.5721 - val_loss: 0.1365 - val_regularization_loss: 0.0000e+00 - val_total_loss: 0.1365\n",
      "CPU times: user 3min 2s, sys: 32.6 s, total: 3min 34s\n",
      "Wall time: 1min 29s\n"
     ]
    },
    {
     "data": {
      "text/plain": [
       "<keras.callbacks.History at 0x7fc6c807ffa0>"
      ]
     },
     "execution_count": 14,
     "metadata": {},
     "output_type": "execute_result"
    }
   ],
   "source": [
    "%%time\n",
    "\n",
    "opt = tf.keras.optimizers.Adagrad(learning_rate=LR)\n",
    "model.compile(optimizer=opt, run_eagerly=False)\n",
    "model.fit(train, validation_data=valid, batch_size=batch_size)"
   ]
  },
  {
   "cell_type": "code",
   "execution_count": 15,
   "id": "21c6f6e9",
   "metadata": {},
   "outputs": [],
   "source": [
    "save_results('MLP', model)"
   ]
  },
  {
   "cell_type": "markdown",
   "id": "a97df4cf",
   "metadata": {},
   "source": [
    "### DLRM Model"
   ]
  },
  {
   "cell_type": "markdown",
   "id": "13c62003",
   "metadata": {},
   "source": [
    "Deep Learning Recommendation Model [(DLRM)](https://arxiv.org/abs/1906.00091) architecture is a popular neural network model originally proposed by Facebook in 2019. The model was introduced as a personalization deep learning model that uses embeddings to process sparse features that represent categorical data and a multilayer perceptron (MLP) to process dense features, then interacts these features explicitly using the statistical techniques proposed in [here](https://ieeexplore.ieee.org/stamp/stamp.jsp?tp=&arnumber=5694074).\n",
    "\n",
    "![DLRM](./images/DLRM.png)\n",
    "\n",
    "\n",
    "DLRM accepts two types of features: categorical and numerical. \n",
    "- For each categorical feature, an embedding table is used to provide dense representation to each unique value. \n",
    "- For numerical features, they are fed to model as dense features, and then transformed by a simple neural network referred to as \"bottom MLP\". This part of the network consists of a series of linear layers with ReLU activations. \n",
    "- The output of the bottom MLP and the embedding vectors are then fed into the dot product interaction operation (see Pairwise interaction step). The output of \"dot interaction\" is then concatenated with the features resulting from the bottom MLP (we apply a skip-connection there) and fed into the \"top MLP\" which is also a series of dense layers with activations ((a fully connected NN). \n",
    "- The model outputs a single number (here we use sigmoid function to generate probabilities) which can be interpreted as a likelihood of a certain user clicking on an ad, watching a movie, or viewing a news page.\n",
    "\n",
    "\n",
    "Steps:<br>\n",
    "* Change the model to `DLRMModel`\n",
    "* Rerun the pipeline from there from model.fit"
   ]
  },
  {
   "cell_type": "code",
   "execution_count": 16,
   "id": "9093047f",
   "metadata": {},
   "outputs": [],
   "source": [
    "model = mm.DLRMModel(\n",
    "    schema,\n",
    "    embedding_dim=64,\n",
    "    bottom_block=mm.MLPBlock([128, 64]),\n",
    "    top_block=mm.MLPBlock([128, 64, 32]),\n",
    "    prediction_tasks=mm.BinaryClassificationTask(target_column, metrics=[tf.keras.metrics.AUC()])\n",
    ")"
   ]
  },
  {
   "cell_type": "code",
   "execution_count": 17,
   "id": "96de65ad",
   "metadata": {},
   "outputs": [
    {
     "name": "stdout",
     "output_type": "stream",
     "text": [
      "2209/2209 [==============================] - ETA: 0s - auc_2: 0.6468 - loss: 0.1823 - regularization_loss: 0.0000e+00 - total_loss: 0.1823"
     ]
    },
    {
     "name": "stderr",
     "output_type": "stream",
     "text": [
      "2022-03-21 15:15:32.765436: W tensorflow/core/grappler/optimizers/loop_optimizer.cc:907] Skipping loop optimization for Merge node with control input: cond/then/_0/cond/cond/branch_executed/_158\n"
     ]
    },
    {
     "name": "stdout",
     "output_type": "stream",
     "text": [
      "2209/2209 [==============================] - 122s 51ms/step - auc_2: 0.6468 - loss: 0.1823 - regularization_loss: 0.0000e+00 - total_loss: 0.1823 - val_auc_2: 0.5715 - val_loss: 0.1364 - val_regularization_loss: 0.0000e+00 - val_total_loss: 0.1364\n",
      "CPU times: user 3min 52s, sys: 41.4 s, total: 4min 34s\n",
      "Wall time: 2min 2s\n"
     ]
    },
    {
     "data": {
      "text/plain": [
       "<keras.callbacks.History at 0x7fc6ba583160>"
      ]
     },
     "execution_count": 17,
     "metadata": {},
     "output_type": "execute_result"
    }
   ],
   "source": [
    "%%time\n",
    "opt = tf.keras.optimizers.Adagrad(learning_rate=LR)\n",
    "model.compile(optimizer=opt, run_eagerly=False)\n",
    "model.fit(train, validation_data=valid, batch_size=batch_size)"
   ]
  },
  {
   "cell_type": "code",
   "execution_count": 18,
   "id": "6aa0ff24",
   "metadata": {},
   "outputs": [],
   "source": [
    "save_results(\"DLRM\", model)"
   ]
  },
  {
   "cell_type": "markdown",
   "id": "5f83097e",
   "metadata": {},
   "source": [
    "### DCN Model"
   ]
  },
  {
   "cell_type": "markdown",
   "id": "3c97be55",
   "metadata": {},
   "source": [
    "DCN-V2 is an architecture proposed as an improvement upon the original [DCN model](https://arxiv.org/pdf/1708.05123.pdf). The explicit feature interactions of the inputs are learned through cross layers, and then combined with a deep network to learn complementary implicit interactions. The overall model architecture is depicted in Figure below, with two ways to combine the cross network with the deep network: (1) stacked and (2) parallel. The output of the embbedding layer is the concatenation of all the embedded vectors and the normalized dense features: x<sub>0</sub> = [x<sub>embed,1</sub>; . . . ; x<sub>embed,𝑛</sub>; 𝑥<sub>dense</sub>].\n",
    "\n",
    "![DCN](./images/DCN.png)\n",
    "\n",
    "<a href=\"https://arxiv.org/abs/2008.13535\">Image Source: DCN V2 paper</a>\n",
    "\n",
    "In this example, we build `DCN-v2 stacked` architecture. \n",
    "\n",
    "Steps:<br>\n",
    "* Change the model to `DCNModel`\n",
    "* Rerun the pipeline from there to model.fit"
   ]
  },
  {
   "cell_type": "code",
   "execution_count": 19,
   "id": "18994603",
   "metadata": {},
   "outputs": [],
   "source": [
    "model = mm.DCNModel(\n",
    "    schema,\n",
    "    depth=2,\n",
    "    deep_block=mm.MLPBlock([64, 32]),\n",
    "    prediction_tasks=mm.BinaryClassificationTask(target_column, metrics=[tf.keras.metrics.AUC()])\n",
    ")"
   ]
  },
  {
   "cell_type": "code",
   "execution_count": 20,
   "id": "00511227",
   "metadata": {},
   "outputs": [
    {
     "name": "stdout",
     "output_type": "stream",
     "text": [
      "2208/2209 [============================>.] - ETA: 0s - auc_3: 0.6551 - loss: 0.1713 - regularization_loss: 0.0000e+00 - total_loss: 0.1713"
     ]
    },
    {
     "name": "stderr",
     "output_type": "stream",
     "text": [
      "2022-03-21 15:17:25.129803: W tensorflow/core/grappler/optimizers/loop_optimizer.cc:907] Skipping loop optimization for Merge node with control input: cond/then/_0/cond/cond/branch_executed/_152\n"
     ]
    },
    {
     "name": "stdout",
     "output_type": "stream",
     "text": [
      "2209/2209 [==============================] - 111s 48ms/step - auc_3: 0.6551 - loss: 0.1713 - regularization_loss: 0.0000e+00 - total_loss: 0.1713 - val_auc_3: 0.5721 - val_loss: 0.1378 - val_regularization_loss: 0.0000e+00 - val_total_loss: 0.1378\n",
      "CPU times: user 3min 41s, sys: 40.1 s, total: 4min 21s\n",
      "Wall time: 1min 52s\n"
     ]
    },
    {
     "data": {
      "text/plain": [
       "<keras.callbacks.History at 0x7fc6b94bcfa0>"
      ]
     },
     "execution_count": 20,
     "metadata": {},
     "output_type": "execute_result"
    }
   ],
   "source": [
    "%%time\n",
    "opt = tf.keras.optimizers.Adagrad(learning_rate=0.005)\n",
    "model.compile(optimizer=opt, run_eagerly=False)\n",
    "model.fit(train, validation_data=valid, batch_size=batch_size)"
   ]
  },
  {
   "cell_type": "code",
   "execution_count": 21,
   "id": "4bb27481",
   "metadata": {},
   "outputs": [],
   "source": [
    "save_results(\"DCN\", model)"
   ]
  },
  {
   "cell_type": "markdown",
   "id": "2e859ce1",
   "metadata": {},
   "source": [
    "Let's visualize our model validation accuracy values. Since we did not do any hyper-parameter optimization or extensive feature engineering here, we do not come up with a final conclusion that one model is superior to another."
   ]
  },
  {
   "cell_type": "code",
   "execution_count": 22,
   "id": "28335080",
   "metadata": {},
   "outputs": [
    {
     "data": {
      "image/png": "[encoded data removed]",
      "text/plain": [
       "<Figure size 432x288 with 1 Axes>"
      ]
     },
     "metadata": {
      "needs_background": "light"
     },
     "output_type": "display_data"
    }
   ],
   "source": [
    "from example_utils import create_bar_chart\n",
    "models_name = [\"NCF\", \"MLP\", \"DLRM\", \"DCN\"]\n",
    "create_bar_chart(\"results.txt\", models_name)"
   ]
  }
 ],
 "metadata": {
  "kernelspec": {
   "display_name": "Python 3 (ipykernel)",
   "language": "python",
   "name": "python3"
  },
  "language_info": {
   "codemirror_mode": {
    "name": "ipython",
    "version": 3
   },
   "file_extension": ".py",
   "mimetype": "text/x-python",
   "name": "python",
   "nbconvert_exporter": "python",
   "pygments_lexer": "ipython3",
   "version": "3.8.10"
  }
 },
 "nbformat": 4,
 "nbformat_minor": 5
}
