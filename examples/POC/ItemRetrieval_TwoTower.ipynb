{
 "cells": [
  {
   "cell_type": "code",
   "execution_count": null,
   "id": "60ecd982",
   "metadata": {},
   "outputs": [],
   "source": [
    "# Copyright 2021 NVIDIA Corporation. All Rights Reserved.\n",
    "#\n",
    "# Licensed under the Apache License, Version 2.0 (the \"License\");\n",
    "# you may not use this file except in compliance with the License.\n",
    "# You may obtain a copy of the License at\n",
    "#\n",
    "#     http://www.apache.org/licenses/LICENSE-2.0\n",
    "#\n",
    "# Unless required by applicable law or agreed to in writing, software\n",
    "# distributed under the License is distributed on an \"AS IS\" BASIS,\n",
    "# WITHOUT WARRANTIES OR CONDITIONS OF ANY KIND, either express or implied.\n",
    "# See the License for the specific language governing permissions and\n",
    "# limitations under the License.\n",
    "# ================================"
   ]
  },
  {
   "cell_type": "markdown",
   "id": "32721d5b",
   "metadata": {},
   "source": [
    "## Building Recommender Systems Easily with Merlin Models\n",
    "\n",
    "In this notebook, we are building a Two-Tower model for Item Retrieval task.\n",
    "\n",
    "### Learning objectives\n",
    "- Preparing the data with NVTabular\n",
    "- Training and evaluating Two-Tower model with Merlin Models"
   ]
  },
  {
   "cell_type": "markdown",
   "id": "aafec19a",
   "metadata": {},
   "source": [
    "### Feature Engineering with NVTabular"
   ]
  },
  {
   "cell_type": "code",
   "execution_count": 2,
   "id": "10aa974d",
   "metadata": {},
   "outputs": [
    {
     "name": "stderr",
     "output_type": "stream",
     "text": [
      "2022-03-16 18:29:51.549407: I tensorflow/core/common_runtime/gpu/gpu_process_state.cc:214] Using CUDA malloc Async allocator for GPU: 0\n",
      "2022-03-16 18:29:51.549550: I tensorflow/core/common_runtime/gpu/gpu_device.cc:1525] Created device /job:localhost/replica:0/task:0/device:GPU:0 with 16254 MB memory:  -> device: 0, name: Quadro GV100, pci bus id: 0000:15:00.0, compute capability: 7.0\n"
     ]
    }
   ],
   "source": [
    "import os\n",
    "os.environ[\"TF_GPU_ALLOCATOR\"]=\"cuda_malloc_async\"\n",
    "import cudf\n",
    "import glob\n",
    "import gc\n",
    "\n",
    "import nvtabular as nvt\n",
    "from nvtabular.ops import *\n",
    "from example_utils import workflow_fit_transform\n",
    "\n",
    "from merlin.schema.tags import Tags\n",
    "from merlin.schema import Schema\n",
    "\n",
    "import merlin.models.tf as mm\n",
    "import merlin.models.tf.dataset as tf_dataloader\n",
    "\n",
    "from merlin.io.dataset import Dataset\n",
    "from merlin.schema.io.tensorflow_metadata import TensorflowMetadata\n",
    "from merlin.models.tf.blocks.core.aggregation import CosineSimilarity\n",
    "\n",
    "import tensorflow as tf"
   ]
  },
  {
   "cell_type": "markdown",
   "id": "cc573c6b",
   "metadata": {},
   "source": [
    "First, we define our input and output paths."
   ]
  },
  {
   "cell_type": "code",
   "execution_count": 3,
   "id": "47090eae",
   "metadata": {},
   "outputs": [],
   "source": [
    "train_path = '/workspace/data/train/*.parquet'\n",
    "test_path = '/workspace/data/test/*.parquet'\n",
    "output_path = '/workspace/retrieval/processed/'"
   ]
  },
  {
   "cell_type": "markdown",
   "id": "a13ce082",
   "metadata": {},
   "source": [
    "ETL Workflow"
   ]
  },
  {
   "cell_type": "markdown",
   "id": "de931791",
   "metadata": {},
   "source": [
    "We select only positive interaction rows therefore we remove rows where `click==0` from the dataset with `Filter()` op."
   ]
  },
  {
   "cell_type": "code",
   "execution_count": 4,
   "id": "78b4f019",
   "metadata": {},
   "outputs": [
    {
     "name": "stderr",
     "output_type": "stream",
     "text": [
      "/usr/local/lib/python3.8/dist-packages/cudf/core/dataframe.py:1253: UserWarning: The deep parameter is ignored and is only included for pandas compatibility.\n",
      "  warnings.warn(\n"
     ]
    }
   ],
   "source": [
    "inputs = [\"user_id\", \"item_id\", \"item_category\", \"item_shop\", \"item_brand\",\n",
    "          'user_shops', 'user_profile', 'user_group',\n",
    "          'user_gender', 'user_age', 'user_consumption_2', 'user_is_occupied',\n",
    "          'user_geography', 'user_intentions', 'user_brands', 'user_categories', 'click'] \\\n",
    "         >> Filter(f=lambda df: df[\"click\"] == 1)\n",
    "\n",
    "user_id = inputs[\"user_id\"] >> AddMetadata(tags=[Tags.USER_ID, Tags.USER]) >> Categorify()\n",
    "item_id = inputs[\"item_id\"] >> AddMetadata(tags=[Tags.ITEM_ID, Tags.ITEM]) >> Categorify()\n",
    "\n",
    "item_features = inputs[\"item_category\", \"item_shop\", \"item_brand\"] \\\n",
    "     >> AddMetadata(tags=[Tags.ITEM]) >> nvt.ops.Categorify()\n",
    "\n",
    "user_features = inputs['user_shops', 'user_profile', 'user_group', \n",
    "       'user_gender', 'user_age', 'user_consumption_2', 'user_is_occupied',\n",
    "       'user_geography', 'user_intentions', 'user_brands', 'user_categories'] \\\n",
    "    >> AddMetadata(tags=[Tags.USER]) >> nvt.ops.Categorify()\n",
    "\n",
    "outputs = user_id+item_id+item_features+user_features\n",
    "\n",
    "\n",
    "workflow_fit_transform(outputs, train_path, test_path, output_path)"
   ]
  },
  {
   "cell_type": "markdown",
   "id": "ce1b9e57",
   "metadata": {
    "tags": []
   },
   "source": [
    "## Building Two-Tower Model"
   ]
  },
  {
   "cell_type": "markdown",
   "id": "c334c4f5",
   "metadata": {},
   "source": [
    "We will use Two-Tower Model for Item retrieval task. Real-world large scale recommender systems have hundreds of millions of items (products) and users. It is Thus, these systems are often composed of two stages: candidate generation (retrieval) and ranking (scoring the retrieved items). You can read more about two stage Recommender Systems [here](https://static.googleusercontent.com/media/research.google.com/en//pubs/archive/45530.pdf). In this example, we're going to focus on the retrieval stage.\n",
    "\n",
    "A Two-Tower Model consists of item (candidate) and user (query) encoder towers. With two towers, the model can learn representations (embeddings) for queries and candidates separately. \n",
    "\n",
    "<img src=\"./images/Two-tower.png\"  width=\"30%\">\n",
    "\n",
    "Image Adapted from: [Off-policy Learning in Two-stage Recommender Systems](https://dl.acm.org/doi/abs/10.1145/3366423.3380130)\n"
   ]
  },
  {
   "cell_type": "markdown",
   "id": "681e5bad",
   "metadata": {},
   "source": [
    "We use the `schema` object to define our model."
   ]
  },
  {
   "cell_type": "code",
   "execution_count": 5,
   "id": "8774e4f4",
   "metadata": {},
   "outputs": [],
   "source": [
    "schema = TensorflowMetadata.from_proto_text_file('/workspace/retrieval/processed/train/').to_merlin_schema()"
   ]
  },
  {
   "cell_type": "code",
   "execution_count": 6,
   "id": "ee74383d",
   "metadata": {},
   "outputs": [],
   "source": [
    "schema = schema.select_by_tag([Tags.ITEM_ID, Tags.USER_ID, Tags.ITEM, Tags.USER])"
   ]
  },
  {
   "cell_type": "code",
   "execution_count": 7,
   "id": "98d516f4",
   "metadata": {},
   "outputs": [
    {
     "data": {
      "text/plain": [
       "['user_id',\n",
       " 'item_id',\n",
       " 'item_category',\n",
       " 'item_shop',\n",
       " 'item_brand',\n",
       " 'user_shops',\n",
       " 'user_profile',\n",
       " 'user_group',\n",
       " 'user_gender',\n",
       " 'user_age',\n",
       " 'user_consumption_2',\n",
       " 'user_is_occupied',\n",
       " 'user_geography',\n",
       " 'user_intentions',\n",
       " 'user_brands',\n",
       " 'user_categories']"
      ]
     },
     "execution_count": 7,
     "metadata": {},
     "output_type": "execute_result"
    }
   ],
   "source": [
    "schema.column_names"
   ]
  },
  {
   "cell_type": "markdown",
   "id": "741cc7dd",
   "metadata": {},
   "source": [
    "We expect the label names to be empty."
   ]
  },
  {
   "cell_type": "markdown",
   "id": "6b2987eb",
   "metadata": {},
   "source": [
    "Now, let's build our Two-Tower model. In a nutshell, we aggregate all user features to feed in user tower and feed the item features to the item tower. Then we compute the positive score by multiplying the user embedding with the item embedding and sample negative items (read more about negative sampling [here](https://openreview.net/pdf?id=824xC-SgWgU) and [here](https://medium.com/mlearning-ai/overview-negative-sampling-on-recommendation-systems-230a051c6cd7)), whose item embeddings are also multiplied by the user embedding. Then we apply the loss function on top of the positive and negative scores."
   ]
  },
  {
   "cell_type": "code",
   "execution_count": 8,
   "id": "60c9e890",
   "metadata": {},
   "outputs": [],
   "source": [
    "model = mm.TwoTowerModel(\n",
    "    schema,\n",
    "    query_tower=mm.MLPBlock([128, 64], no_activation_last_layer=True),        \n",
    "    loss=\"categorical_crossentropy\",  \n",
    "    samplers=[mm.InBatchSampler()],\n",
    "    embedding_options = mm.EmbeddingOptions(infer_embedding_sizes=True),\n",
    "    metrics=[mm.RecallAt(10), mm.NDCGAt(10)]\n",
    ")"
   ]
  },
  {
   "cell_type": "markdown",
   "id": "49860f8f",
   "metadata": {},
   "source": [
    "Let's explain the parameters in the TwoTowerModel():\n",
    "- no_activation_last_layer: when set True, no activation is used for top hidden layer. Learn more [here](https://storage.googleapis.com/pub-tools-public-publication-data/pdf/b9f4e78a8830fe5afcf2f0452862fb3c0d6584ea.pdf).\n",
    "- infer_embedding_sizes: when set True, automatically defines the embedding dimension from the feature cardinality in the schema\n",
    "\n",
    "**Metrics:**\n",
    "\n",
    "The following information retrieval metrics are used to compute the Top-10 accuracy of recommendation lists containing all items:\n",
    "\n",
    "- **Normalized Discounted Cumulative Gain (NDCG@10)**: NDCG accounts for rank of the relevant item in the recommendation list and is a more fine-grained metric than HR, which only verifies whether the relevant item is among the top-k items.\n",
    "\n",
    "- **Recall@10**: Also known as HitRate@n when there is only one relevant item in the recommendation list. Recall just verifies whether the relevant item is among the top-n items."
   ]
  },
  {
   "cell_type": "markdown",
   "id": "1aa26e63",
   "metadata": {},
   "source": [
    "We need to initialize the dataloaders."
   ]
  },
  {
   "cell_type": "code",
   "execution_count": 9,
   "id": "503f3fbe",
   "metadata": {},
   "outputs": [
    {
     "data": {
      "text/plain": [
       "'/workspace/retrieval/processed//train/*.parquet'"
      ]
     },
     "execution_count": 9,
     "metadata": {},
     "output_type": "execute_result"
    }
   ],
   "source": [
    "output_path + '/train/*.parquet'"
   ]
  },
  {
   "cell_type": "code",
   "execution_count": 10,
   "id": "b2389ea3",
   "metadata": {},
   "outputs": [],
   "source": [
    "batch_size = 4096\n",
    "\n",
    "train_dl = tf_dataloader.BatchedDataset(\n",
    "    Dataset(output_path + 'train/*.parquet', part_size=\"500MB\", schema=schema),\n",
    "    batch_size = batch_size,\n",
    "    shuffle= True, \n",
    ")\n",
    "\n",
    "test_dl = tf_dataloader.BatchedDataset(\n",
    "    Dataset(output_path + 'valid/*.parquet', part_size=\"500MB\", schema=schema),\n",
    "    batch_size = batch_size,\n",
    "    shuffle = False,\n",
    ")"
   ]
  },
  {
   "cell_type": "code",
   "execution_count": 11,
   "id": "3ca7811e",
   "metadata": {},
   "outputs": [
    {
     "name": "stderr",
     "output_type": "stream",
     "text": [
      "2022-03-16 18:30:21.164795: W tensorflow/python/util/util.cc:368] Sets are not currently considered sequences, but this may change in the future, so consider avoiding using them.\n"
     ]
    },
    {
     "name": "stdout",
     "output_type": "stream",
     "text": [
      "Epoch 1/5\n",
      "WARNING:tensorflow:AutoGraph could not transform <bound method Socket.send of <zmq.Socket(zmq.PUSH) at 0x7ffaec036ee0>> and will run it as-is.\n",
      "Please report this to the TensorFlow team. When filing the bug, set the verbosity to 10 (on Linux, `export AUTOGRAPH_VERBOSITY=10`) and attach the full output.\n",
      "Cause: module, class, method, function, traceback, frame, or code object was expected, got cython_function_or_method\n",
      "To silence this warning, decorate the function with @tf.autograph.experimental.do_not_convert\n",
      "WARNING: AutoGraph could not transform <bound method Socket.send of <zmq.Socket(zmq.PUSH) at 0x7ffaec036ee0>> and will run it as-is.\n",
      "Please report this to the TensorFlow team. When filing the bug, set the verbosity to 10 (on Linux, `export AUTOGRAPH_VERBOSITY=10`) and attach the full output.\n",
      "Cause: module, class, method, function, traceback, frame, or code object was expected, got cython_function_or_method\n",
      "To silence this warning, decorate the function with @tf.autograph.experimental.do_not_convert\n"
     ]
    },
    {
     "name": "stderr",
     "output_type": "stream",
     "text": [
      "The sampler InBatchSampler returned no samples for this batch.\n"
     ]
    },
    {
     "name": "stdout",
     "output_type": "stream",
     "text": [
      "382/384 [============================>.] - ETA: 0s - recall_at_10: 0.0024 - ndcg_10: 0.0011 - loss: 8.3226 - regularization_loss: 0.0000e+00 - total_loss: 8.3226"
     ]
    },
    {
     "name": "stderr",
     "output_type": "stream",
     "text": [
      "2022-03-16 18:30:41.000570: W tensorflow/core/grappler/optimizers/loop_optimizer.cc:907] Skipping loop optimization for Merge node with control input: cond/then/_0/cond/cond/branch_executed/_168\n"
     ]
    },
    {
     "name": "stdout",
     "output_type": "stream",
     "text": [
      "384/384 [==============================] - 25s 41ms/step - recall_at_10: 0.0024 - ndcg_10: 0.0011 - loss: 8.3196 - regularization_loss: 0.0000e+00 - total_loss: 8.3196 - val_recall_at_10: 0.0027 - val_ndcg_10: 0.0012 - val_loss: 7.3590 - val_regularization_loss: 0.0000e+00 - val_total_loss: 7.3590\n",
      "Epoch 2/5\n",
      "384/384 [==============================] - 14s 36ms/step - recall_at_10: 0.0024 - ndcg_10: 0.0011 - loss: 8.3188 - regularization_loss: 0.0000e+00 - total_loss: 8.3188 - val_recall_at_10: 0.0027 - val_ndcg_10: 0.0012 - val_loss: 7.3582 - val_regularization_loss: 0.0000e+00 - val_total_loss: 7.3582\n",
      "Epoch 3/5\n",
      "384/384 [==============================] - 14s 36ms/step - recall_at_10: 0.0025 - ndcg_10: 0.0011 - loss: 8.3182 - regularization_loss: 0.0000e+00 - total_loss: 8.3182 - val_recall_at_10: 0.0027 - val_ndcg_10: 0.0012 - val_loss: 7.3576 - val_regularization_loss: 0.0000e+00 - val_total_loss: 7.3576\n",
      "Epoch 4/5\n",
      "384/384 [==============================] - 14s 36ms/step - recall_at_10: 0.0025 - ndcg_10: 0.0011 - loss: 8.3177 - regularization_loss: 0.0000e+00 - total_loss: 8.3177 - val_recall_at_10: 0.0027 - val_ndcg_10: 0.0012 - val_loss: 7.3571 - val_regularization_loss: 0.0000e+00 - val_total_loss: 7.3571\n",
      "Epoch 5/5\n",
      "384/384 [==============================] - 14s 36ms/step - recall_at_10: 0.0025 - ndcg_10: 0.0011 - loss: 8.3173 - regularization_loss: 0.0000e+00 - total_loss: 8.3173 - val_recall_at_10: 0.0027 - val_ndcg_10: 0.0012 - val_loss: 7.3566 - val_regularization_loss: 0.0000e+00 - val_total_loss: 7.3566\n"
     ]
    },
    {
     "data": {
      "text/plain": [
       "<keras.callbacks.History at 0x7ff94433dc40>"
      ]
     },
     "execution_count": 11,
     "metadata": {},
     "output_type": "execute_result"
    }
   ],
   "source": [
    "opt = tf.keras.optimizers.Adagrad(learning_rate=0.003)\n",
    "model.compile(opt, run_eagerly=False)\n",
    "\n",
    "model.fit(train_dl, epochs=5, validation_data=test_dl)"
   ]
  },
  {
   "cell_type": "markdown",
   "id": "c1d73a0b",
   "metadata": {},
   "source": [
    "#### Save user tower"
   ]
  },
  {
   "cell_type": "code",
   "execution_count": 12,
   "id": "b6071fbb",
   "metadata": {},
   "outputs": [
    {
     "name": "stderr",
     "output_type": "stream",
     "text": [
      "WARNING:absl:Found untraced functions such as block_context_layer_call_fn, block_context_layer_call_and_return_conditional_losses, block_context_layer_call_fn, block_context_layer_call_and_return_conditional_losses, block_context_layer_call_and_return_conditional_losses while saving (showing 5 of 65). These functions will not be directly callable after loading.\n"
     ]
    },
    {
     "name": "stdout",
     "output_type": "stream",
     "text": [
      "INFO:tensorflow:Assets written to: query_tower/assets\n"
     ]
    },
    {
     "name": "stderr",
     "output_type": "stream",
     "text": [
      "INFO:tensorflow:Assets written to: query_tower/assets\n"
     ]
    }
   ],
   "source": [
    "query_tower = model.retrieval_block.query_block()\n",
    "query_tower.save('query_tower')"
   ]
  },
  {
   "cell_type": "markdown",
   "id": "c3291e04",
   "metadata": {},
   "source": [
    "#### Extract and save user features"
   ]
  },
  {
   "cell_type": "code",
   "execution_count": 13,
   "id": "66db617a",
   "metadata": {},
   "outputs": [
    {
     "name": "stderr",
     "output_type": "stream",
     "text": [
      "/usr/local/lib/python3.8/dist-packages/cudf/core/dataframe.py:1253: UserWarning: The deep parameter is ignored and is only included for pandas compatibility.\n",
      "  warnings.warn(\n"
     ]
    }
   ],
   "source": [
    "user_features = model._ensure_unique(Dataset('/workspace/retrieval/processed/train/*.parquet', schema=schema), tag=Tags.USER, id_tag=Tags.USER_ID).compute()"
   ]
  },
  {
   "cell_type": "code",
   "execution_count": 14,
   "id": "728b219d",
   "metadata": {},
   "outputs": [
    {
     "data": {
      "text/html": [
       "<div>\n",
       "<style scoped>\n",
       "    .dataframe tbody tr th:only-of-type {\n",
       "        vertical-align: middle;\n",
       "    }\n",
       "\n",
       "    .dataframe tbody tr th {\n",
       "        vertical-align: top;\n",
       "    }\n",
       "\n",
       "    .dataframe thead th {\n",
       "        text-align: right;\n",
       "    }\n",
       "</style>\n",
       "<table border=\"1\" class=\"dataframe\">\n",
       "  <thead>\n",
       "    <tr style=\"text-align: right;\">\n",
       "      <th></th>\n",
       "      <th>user_id</th>\n",
       "      <th>user_shops</th>\n",
       "      <th>user_profile</th>\n",
       "      <th>user_group</th>\n",
       "      <th>user_gender</th>\n",
       "      <th>user_age</th>\n",
       "      <th>user_consumption_2</th>\n",
       "      <th>user_is_occupied</th>\n",
       "      <th>user_geography</th>\n",
       "      <th>user_intentions</th>\n",
       "      <th>user_brands</th>\n",
       "      <th>user_categories</th>\n",
       "    </tr>\n",
       "  </thead>\n",
       "  <tbody>\n",
       "    <tr>\n",
       "      <th>0</th>\n",
       "      <td>0</td>\n",
       "      <td>0</td>\n",
       "      <td>1</td>\n",
       "      <td>3</td>\n",
       "      <td>1</td>\n",
       "      <td>3</td>\n",
       "      <td>2</td>\n",
       "      <td>1</td>\n",
       "      <td>0</td>\n",
       "      <td>0</td>\n",
       "      <td>0</td>\n",
       "      <td>0</td>\n",
       "    </tr>\n",
       "    <tr>\n",
       "      <th>1</th>\n",
       "      <td>1</td>\n",
       "      <td>3</td>\n",
       "      <td>0</td>\n",
       "      <td>0</td>\n",
       "      <td>0</td>\n",
       "      <td>0</td>\n",
       "      <td>0</td>\n",
       "      <td>0</td>\n",
       "      <td>0</td>\n",
       "      <td>400</td>\n",
       "      <td>19</td>\n",
       "      <td>3</td>\n",
       "    </tr>\n",
       "    <tr>\n",
       "      <th>2</th>\n",
       "      <td>2</td>\n",
       "      <td>57</td>\n",
       "      <td>5</td>\n",
       "      <td>2</td>\n",
       "      <td>1</td>\n",
       "      <td>2</td>\n",
       "      <td>1</td>\n",
       "      <td>1</td>\n",
       "      <td>2</td>\n",
       "      <td>123</td>\n",
       "      <td>60</td>\n",
       "      <td>80</td>\n",
       "    </tr>\n",
       "    <tr>\n",
       "      <th>3</th>\n",
       "      <td>3</td>\n",
       "      <td>12</td>\n",
       "      <td>4</td>\n",
       "      <td>1</td>\n",
       "      <td>1</td>\n",
       "      <td>1</td>\n",
       "      <td>1</td>\n",
       "      <td>1</td>\n",
       "      <td>2</td>\n",
       "      <td>78</td>\n",
       "      <td>19</td>\n",
       "      <td>3</td>\n",
       "    </tr>\n",
       "    <tr>\n",
       "      <th>4</th>\n",
       "      <td>4</td>\n",
       "      <td>1909</td>\n",
       "      <td>1</td>\n",
       "      <td>2</td>\n",
       "      <td>1</td>\n",
       "      <td>2</td>\n",
       "      <td>1</td>\n",
       "      <td>1</td>\n",
       "      <td>2</td>\n",
       "      <td>250</td>\n",
       "      <td>5</td>\n",
       "      <td>9</td>\n",
       "    </tr>\n",
       "  </tbody>\n",
       "</table>\n",
       "</div>"
      ],
      "text/plain": [
       "   user_id  user_shops  user_profile  user_group  user_gender  user_age  \\\n",
       "0        0           0             1           3            1         3   \n",
       "1        1           3             0           0            0         0   \n",
       "2        2          57             5           2            1         2   \n",
       "3        3          12             4           1            1         1   \n",
       "4        4        1909             1           2            1         2   \n",
       "\n",
       "   user_consumption_2  user_is_occupied  user_geography  user_intentions  \\\n",
       "0                   2                 1               0                0   \n",
       "1                   0                 0               0              400   \n",
       "2                   1                 1               2              123   \n",
       "3                   1                 1               2               78   \n",
       "4                   1                 1               2              250   \n",
       "\n",
       "   user_brands  user_categories  \n",
       "0            0                0  \n",
       "1           19                3  \n",
       "2           60               80  \n",
       "3           19                3  \n",
       "4            5                9  "
      ]
     },
     "execution_count": 14,
     "metadata": {},
     "output_type": "execute_result"
    }
   ],
   "source": [
    "user_features.head()"
   ]
  },
  {
   "cell_type": "code",
   "execution_count": 15,
   "id": "9dccb729",
   "metadata": {},
   "outputs": [
    {
     "data": {
      "text/plain": [
       "(214994, 12)"
      ]
     },
     "execution_count": 15,
     "metadata": {},
     "output_type": "execute_result"
    }
   ],
   "source": [
    "user_features.shape"
   ]
  },
  {
   "cell_type": "code",
   "execution_count": 16,
   "id": "bc825665",
   "metadata": {},
   "outputs": [],
   "source": [
    "#user_features.to_parquet('user_features.parquet')"
   ]
  },
  {
   "cell_type": "markdown",
   "id": "e9a5f8d9",
   "metadata": {},
   "source": [
    "#### Extract and save item features"
   ]
  },
  {
   "cell_type": "code",
   "execution_count": 17,
   "id": "75e22581",
   "metadata": {},
   "outputs": [
    {
     "name": "stderr",
     "output_type": "stream",
     "text": [
      "/usr/local/lib/python3.8/dist-packages/cudf/core/dataframe.py:1253: UserWarning: The deep parameter is ignored and is only included for pandas compatibility.\n",
      "  warnings.warn(\n"
     ]
    }
   ],
   "source": [
    "# train path should be the path for the processed parquet files.\n",
    "item_features = model._ensure_unique(Dataset('/workspace/retrieval/processed/train/*.parquet', schema=schema), tag=Tags.ITEM, id_tag=Tags.ITEM_ID).compute()"
   ]
  },
  {
   "cell_type": "code",
   "execution_count": 18,
   "id": "93adc213",
   "metadata": {},
   "outputs": [
    {
     "data": {
      "text/html": [
       "<div>\n",
       "<style scoped>\n",
       "    .dataframe tbody tr th:only-of-type {\n",
       "        vertical-align: middle;\n",
       "    }\n",
       "\n",
       "    .dataframe tbody tr th {\n",
       "        vertical-align: top;\n",
       "    }\n",
       "\n",
       "    .dataframe thead th {\n",
       "        text-align: right;\n",
       "    }\n",
       "</style>\n",
       "<table border=\"1\" class=\"dataframe\">\n",
       "  <thead>\n",
       "    <tr style=\"text-align: right;\">\n",
       "      <th></th>\n",
       "      <th>item_id</th>\n",
       "      <th>item_category</th>\n",
       "      <th>item_shop</th>\n",
       "      <th>item_brand</th>\n",
       "    </tr>\n",
       "  </thead>\n",
       "  <tbody>\n",
       "    <tr>\n",
       "      <th>0</th>\n",
       "      <td>0</td>\n",
       "      <td>0</td>\n",
       "      <td>0</td>\n",
       "      <td>0</td>\n",
       "    </tr>\n",
       "    <tr>\n",
       "      <th>1</th>\n",
       "      <td>1</td>\n",
       "      <td>140</td>\n",
       "      <td>380</td>\n",
       "      <td>6</td>\n",
       "    </tr>\n",
       "    <tr>\n",
       "      <th>2</th>\n",
       "      <td>2</td>\n",
       "      <td>1</td>\n",
       "      <td>4</td>\n",
       "      <td>33</td>\n",
       "    </tr>\n",
       "    <tr>\n",
       "      <th>3</th>\n",
       "      <td>3</td>\n",
       "      <td>38</td>\n",
       "      <td>57</td>\n",
       "      <td>0</td>\n",
       "    </tr>\n",
       "    <tr>\n",
       "      <th>4</th>\n",
       "      <td>4</td>\n",
       "      <td>11</td>\n",
       "      <td>65</td>\n",
       "      <td>138</td>\n",
       "    </tr>\n",
       "  </tbody>\n",
       "</table>\n",
       "</div>"
      ],
      "text/plain": [
       "   item_id  item_category  item_shop  item_brand\n",
       "0        0              0          0           0\n",
       "1        1            140        380           6\n",
       "2        2              1          4          33\n",
       "3        3             38         57           0\n",
       "4        4             11         65         138"
      ]
     },
     "execution_count": 18,
     "metadata": {},
     "output_type": "execute_result"
    }
   ],
   "source": [
    "item_features.head()"
   ]
  },
  {
   "cell_type": "code",
   "execution_count": 19,
   "id": "c4a081cc",
   "metadata": {},
   "outputs": [
    {
     "data": {
      "text/plain": [
       "(568847, 4)"
      ]
     },
     "execution_count": 19,
     "metadata": {},
     "output_type": "execute_result"
    }
   ],
   "source": [
    "item_features.shape"
   ]
  },
  {
   "cell_type": "code",
   "execution_count": 20,
   "id": "44b0e6e0",
   "metadata": {},
   "outputs": [],
   "source": [
    "#item_features.to_parquet('item_features.parquet')"
   ]
  },
  {
   "cell_type": "markdown",
   "id": "d4c05f7c",
   "metadata": {},
   "source": [
    "#### Extract and save item embeddings"
   ]
  },
  {
   "cell_type": "code",
   "execution_count": 21,
   "id": "58627f35",
   "metadata": {},
   "outputs": [
    {
     "name": "stderr",
     "output_type": "stream",
     "text": [
      "WARNING:absl:Found untraced functions such as block_context_layer_call_fn, block_context_layer_call_and_return_conditional_losses, block_context_layer_call_fn, block_context_layer_call_and_return_conditional_losses, block_context_layer_call_and_return_conditional_losses while saving (showing 5 of 65). These functions will not be directly callable after loading.\n"
     ]
    },
    {
     "name": "stdout",
     "output_type": "stream",
     "text": [
      "INFO:tensorflow:Assets written to: /tmp/tmpyl49n_um/assets\n"
     ]
    },
    {
     "name": "stderr",
     "output_type": "stream",
     "text": [
      "INFO:tensorflow:Assets written to: /tmp/tmpyl49n_um/assets\n"
     ]
    },
    {
     "name": "stdout",
     "output_type": "stream",
     "text": [
      "WARNING:tensorflow:No training configuration found in save file, so the model was *not* compiled. Compile it manually.\n"
     ]
    },
    {
     "name": "stderr",
     "output_type": "stream",
     "text": [
      "WARNING:tensorflow:No training configuration found in save file, so the model was *not* compiled. Compile it manually.\n"
     ]
    }
   ],
   "source": [
    "item_embs = model.item_embeddings(Dataset(item_features, schema=schema), batch_size=1024)\n",
    "item_embs_df = item_embs.compute(scheduler=\"synchronous\")"
   ]
  },
  {
   "cell_type": "code",
   "execution_count": 22,
   "id": "83fa216a",
   "metadata": {},
   "outputs": [
    {
     "data": {
      "text/html": [
       "<div>\n",
       "<style scoped>\n",
       "    .dataframe tbody tr th:only-of-type {\n",
       "        vertical-align: middle;\n",
       "    }\n",
       "\n",
       "    .dataframe tbody tr th {\n",
       "        vertical-align: top;\n",
       "    }\n",
       "\n",
       "    .dataframe thead th {\n",
       "        text-align: right;\n",
       "    }\n",
       "</style>\n",
       "<table border=\"1\" class=\"dataframe\">\n",
       "  <thead>\n",
       "    <tr style=\"text-align: right;\">\n",
       "      <th></th>\n",
       "      <th>item_id</th>\n",
       "      <th>item_category</th>\n",
       "      <th>item_shop</th>\n",
       "      <th>item_brand</th>\n",
       "      <th>0</th>\n",
       "      <th>1</th>\n",
       "      <th>2</th>\n",
       "      <th>3</th>\n",
       "      <th>4</th>\n",
       "      <th>5</th>\n",
       "      <th>...</th>\n",
       "      <th>54</th>\n",
       "      <th>55</th>\n",
       "      <th>56</th>\n",
       "      <th>57</th>\n",
       "      <th>58</th>\n",
       "      <th>59</th>\n",
       "      <th>60</th>\n",
       "      <th>61</th>\n",
       "      <th>62</th>\n",
       "      <th>63</th>\n",
       "    </tr>\n",
       "  </thead>\n",
       "  <tbody>\n",
       "    <tr>\n",
       "      <th>0</th>\n",
       "      <td>0</td>\n",
       "      <td>0</td>\n",
       "      <td>0</td>\n",
       "      <td>0</td>\n",
       "      <td>-0.008491</td>\n",
       "      <td>-0.102309</td>\n",
       "      <td>0.022300</td>\n",
       "      <td>0.071117</td>\n",
       "      <td>-0.092035</td>\n",
       "      <td>-0.070548</td>\n",
       "      <td>...</td>\n",
       "      <td>-0.218282</td>\n",
       "      <td>-0.088533</td>\n",
       "      <td>0.036797</td>\n",
       "      <td>0.038761</td>\n",
       "      <td>0.050474</td>\n",
       "      <td>0.138893</td>\n",
       "      <td>-0.201486</td>\n",
       "      <td>-0.096185</td>\n",
       "      <td>0.079871</td>\n",
       "      <td>-0.174671</td>\n",
       "    </tr>\n",
       "    <tr>\n",
       "      <th>1</th>\n",
       "      <td>1</td>\n",
       "      <td>140</td>\n",
       "      <td>380</td>\n",
       "      <td>6</td>\n",
       "      <td>0.028465</td>\n",
       "      <td>-0.068509</td>\n",
       "      <td>0.010098</td>\n",
       "      <td>0.126853</td>\n",
       "      <td>-0.056414</td>\n",
       "      <td>0.012849</td>\n",
       "      <td>...</td>\n",
       "      <td>-0.063118</td>\n",
       "      <td>-0.021072</td>\n",
       "      <td>0.098170</td>\n",
       "      <td>0.017988</td>\n",
       "      <td>-0.151523</td>\n",
       "      <td>0.217274</td>\n",
       "      <td>-0.102843</td>\n",
       "      <td>-0.026918</td>\n",
       "      <td>0.246797</td>\n",
       "      <td>-0.203013</td>\n",
       "    </tr>\n",
       "    <tr>\n",
       "      <th>2</th>\n",
       "      <td>2</td>\n",
       "      <td>1</td>\n",
       "      <td>4</td>\n",
       "      <td>33</td>\n",
       "      <td>-0.100939</td>\n",
       "      <td>-0.145017</td>\n",
       "      <td>0.221424</td>\n",
       "      <td>0.132817</td>\n",
       "      <td>-0.235907</td>\n",
       "      <td>0.030855</td>\n",
       "      <td>...</td>\n",
       "      <td>-0.021422</td>\n",
       "      <td>0.010133</td>\n",
       "      <td>0.066813</td>\n",
       "      <td>0.068083</td>\n",
       "      <td>-0.058502</td>\n",
       "      <td>0.083222</td>\n",
       "      <td>-0.190748</td>\n",
       "      <td>0.072131</td>\n",
       "      <td>0.154896</td>\n",
       "      <td>-0.013758</td>\n",
       "    </tr>\n",
       "    <tr>\n",
       "      <th>3</th>\n",
       "      <td>3</td>\n",
       "      <td>38</td>\n",
       "      <td>57</td>\n",
       "      <td>0</td>\n",
       "      <td>-0.104699</td>\n",
       "      <td>-0.032289</td>\n",
       "      <td>-0.077467</td>\n",
       "      <td>-0.095468</td>\n",
       "      <td>-0.181202</td>\n",
       "      <td>-0.016096</td>\n",
       "      <td>...</td>\n",
       "      <td>0.109550</td>\n",
       "      <td>0.061822</td>\n",
       "      <td>0.058454</td>\n",
       "      <td>-0.020658</td>\n",
       "      <td>-0.115805</td>\n",
       "      <td>-0.024861</td>\n",
       "      <td>-0.097081</td>\n",
       "      <td>0.015881</td>\n",
       "      <td>0.037807</td>\n",
       "      <td>-0.070464</td>\n",
       "    </tr>\n",
       "    <tr>\n",
       "      <th>4</th>\n",
       "      <td>4</td>\n",
       "      <td>11</td>\n",
       "      <td>65</td>\n",
       "      <td>138</td>\n",
       "      <td>-0.090754</td>\n",
       "      <td>0.021666</td>\n",
       "      <td>-0.073284</td>\n",
       "      <td>0.050787</td>\n",
       "      <td>-0.167716</td>\n",
       "      <td>-0.030687</td>\n",
       "      <td>...</td>\n",
       "      <td>-0.212575</td>\n",
       "      <td>0.019838</td>\n",
       "      <td>0.015235</td>\n",
       "      <td>0.188996</td>\n",
       "      <td>-0.073476</td>\n",
       "      <td>0.208819</td>\n",
       "      <td>-0.118849</td>\n",
       "      <td>-0.037156</td>\n",
       "      <td>0.112738</td>\n",
       "      <td>-0.088297</td>\n",
       "    </tr>\n",
       "    <tr>\n",
       "      <th>...</th>\n",
       "      <td>...</td>\n",
       "      <td>...</td>\n",
       "      <td>...</td>\n",
       "      <td>...</td>\n",
       "      <td>...</td>\n",
       "      <td>...</td>\n",
       "      <td>...</td>\n",
       "      <td>...</td>\n",
       "      <td>...</td>\n",
       "      <td>...</td>\n",
       "      <td>...</td>\n",
       "      <td>...</td>\n",
       "      <td>...</td>\n",
       "      <td>...</td>\n",
       "      <td>...</td>\n",
       "      <td>...</td>\n",
       "      <td>...</td>\n",
       "      <td>...</td>\n",
       "      <td>...</td>\n",
       "      <td>...</td>\n",
       "      <td>...</td>\n",
       "    </tr>\n",
       "    <tr>\n",
       "      <th>568842</th>\n",
       "      <td>568842</td>\n",
       "      <td>390</td>\n",
       "      <td>213734</td>\n",
       "      <td>77789</td>\n",
       "      <td>-0.061867</td>\n",
       "      <td>-0.053082</td>\n",
       "      <td>-0.025436</td>\n",
       "      <td>0.027425</td>\n",
       "      <td>0.079073</td>\n",
       "      <td>-0.078578</td>\n",
       "      <td>...</td>\n",
       "      <td>-0.053029</td>\n",
       "      <td>0.057309</td>\n",
       "      <td>-0.055367</td>\n",
       "      <td>0.212112</td>\n",
       "      <td>-0.151913</td>\n",
       "      <td>-0.117846</td>\n",
       "      <td>-0.190842</td>\n",
       "      <td>-0.039447</td>\n",
       "      <td>0.204167</td>\n",
       "      <td>-0.156825</td>\n",
       "    </tr>\n",
       "    <tr>\n",
       "      <th>568843</th>\n",
       "      <td>568843</td>\n",
       "      <td>137</td>\n",
       "      <td>111</td>\n",
       "      <td>161</td>\n",
       "      <td>-0.022854</td>\n",
       "      <td>-0.131354</td>\n",
       "      <td>-0.111940</td>\n",
       "      <td>0.055027</td>\n",
       "      <td>-0.026103</td>\n",
       "      <td>-0.001985</td>\n",
       "      <td>...</td>\n",
       "      <td>0.015149</td>\n",
       "      <td>0.092450</td>\n",
       "      <td>-0.006351</td>\n",
       "      <td>-0.000202</td>\n",
       "      <td>-0.031469</td>\n",
       "      <td>0.020679</td>\n",
       "      <td>-0.085500</td>\n",
       "      <td>-0.007744</td>\n",
       "      <td>0.187578</td>\n",
       "      <td>-0.043086</td>\n",
       "    </tr>\n",
       "    <tr>\n",
       "      <th>568844</th>\n",
       "      <td>568844</td>\n",
       "      <td>543</td>\n",
       "      <td>140774</td>\n",
       "      <td>56005</td>\n",
       "      <td>0.002140</td>\n",
       "      <td>-0.063220</td>\n",
       "      <td>-0.074880</td>\n",
       "      <td>0.067192</td>\n",
       "      <td>-0.149811</td>\n",
       "      <td>0.004937</td>\n",
       "      <td>...</td>\n",
       "      <td>0.024581</td>\n",
       "      <td>0.114247</td>\n",
       "      <td>-0.052914</td>\n",
       "      <td>0.043048</td>\n",
       "      <td>-0.293942</td>\n",
       "      <td>0.130539</td>\n",
       "      <td>-0.200238</td>\n",
       "      <td>0.075903</td>\n",
       "      <td>0.227444</td>\n",
       "      <td>-0.148763</td>\n",
       "    </tr>\n",
       "    <tr>\n",
       "      <th>568845</th>\n",
       "      <td>568845</td>\n",
       "      <td>803</td>\n",
       "      <td>142760</td>\n",
       "      <td>17371</td>\n",
       "      <td>0.085203</td>\n",
       "      <td>-0.008900</td>\n",
       "      <td>-0.010582</td>\n",
       "      <td>0.162580</td>\n",
       "      <td>0.104606</td>\n",
       "      <td>-0.102854</td>\n",
       "      <td>...</td>\n",
       "      <td>0.134081</td>\n",
       "      <td>0.096106</td>\n",
       "      <td>0.152253</td>\n",
       "      <td>0.202794</td>\n",
       "      <td>-0.106855</td>\n",
       "      <td>0.149472</td>\n",
       "      <td>-0.096388</td>\n",
       "      <td>0.056596</td>\n",
       "      <td>0.057033</td>\n",
       "      <td>0.039314</td>\n",
       "    </tr>\n",
       "    <tr>\n",
       "      <th>568846</th>\n",
       "      <td>568846</td>\n",
       "      <td>501</td>\n",
       "      <td>139037</td>\n",
       "      <td>422</td>\n",
       "      <td>-0.027384</td>\n",
       "      <td>-0.131797</td>\n",
       "      <td>-0.096868</td>\n",
       "      <td>0.027042</td>\n",
       "      <td>-0.196531</td>\n",
       "      <td>-0.035390</td>\n",
       "      <td>...</td>\n",
       "      <td>-0.103796</td>\n",
       "      <td>-0.044102</td>\n",
       "      <td>0.021082</td>\n",
       "      <td>0.335898</td>\n",
       "      <td>-0.009662</td>\n",
       "      <td>-0.136730</td>\n",
       "      <td>-0.188337</td>\n",
       "      <td>0.030550</td>\n",
       "      <td>0.224767</td>\n",
       "      <td>-0.227288</td>\n",
       "    </tr>\n",
       "  </tbody>\n",
       "</table>\n",
       "<p>568847 rows × 68 columns</p>\n",
       "</div>"
      ],
      "text/plain": [
       "        item_id  item_category  item_shop  item_brand         0         1  \\\n",
       "0             0              0          0           0 -0.008491 -0.102309   \n",
       "1             1            140        380           6  0.028465 -0.068509   \n",
       "2             2              1          4          33 -0.100939 -0.145017   \n",
       "3             3             38         57           0 -0.104699 -0.032289   \n",
       "4             4             11         65         138 -0.090754  0.021666   \n",
       "...         ...            ...        ...         ...       ...       ...   \n",
       "568842   568842            390     213734       77789 -0.061867 -0.053082   \n",
       "568843   568843            137        111         161 -0.022854 -0.131354   \n",
       "568844   568844            543     140774       56005  0.002140 -0.063220   \n",
       "568845   568845            803     142760       17371  0.085203 -0.008900   \n",
       "568846   568846            501     139037         422 -0.027384 -0.131797   \n",
       "\n",
       "               2         3         4         5  ...        54        55  \\\n",
       "0       0.022300  0.071117 -0.092035 -0.070548  ... -0.218282 -0.088533   \n",
       "1       0.010098  0.126853 -0.056414  0.012849  ... -0.063118 -0.021072   \n",
       "2       0.221424  0.132817 -0.235907  0.030855  ... -0.021422  0.010133   \n",
       "3      -0.077467 -0.095468 -0.181202 -0.016096  ...  0.109550  0.061822   \n",
       "4      -0.073284  0.050787 -0.167716 -0.030687  ... -0.212575  0.019838   \n",
       "...          ...       ...       ...       ...  ...       ...       ...   \n",
       "568842 -0.025436  0.027425  0.079073 -0.078578  ... -0.053029  0.057309   \n",
       "568843 -0.111940  0.055027 -0.026103 -0.001985  ...  0.015149  0.092450   \n",
       "568844 -0.074880  0.067192 -0.149811  0.004937  ...  0.024581  0.114247   \n",
       "568845 -0.010582  0.162580  0.104606 -0.102854  ...  0.134081  0.096106   \n",
       "568846 -0.096868  0.027042 -0.196531 -0.035390  ... -0.103796 -0.044102   \n",
       "\n",
       "              56        57        58        59        60        61        62  \\\n",
       "0       0.036797  0.038761  0.050474  0.138893 -0.201486 -0.096185  0.079871   \n",
       "1       0.098170  0.017988 -0.151523  0.217274 -0.102843 -0.026918  0.246797   \n",
       "2       0.066813  0.068083 -0.058502  0.083222 -0.190748  0.072131  0.154896   \n",
       "3       0.058454 -0.020658 -0.115805 -0.024861 -0.097081  0.015881  0.037807   \n",
       "4       0.015235  0.188996 -0.073476  0.208819 -0.118849 -0.037156  0.112738   \n",
       "...          ...       ...       ...       ...       ...       ...       ...   \n",
       "568842 -0.055367  0.212112 -0.151913 -0.117846 -0.190842 -0.039447  0.204167   \n",
       "568843 -0.006351 -0.000202 -0.031469  0.020679 -0.085500 -0.007744  0.187578   \n",
       "568844 -0.052914  0.043048 -0.293942  0.130539 -0.200238  0.075903  0.227444   \n",
       "568845  0.152253  0.202794 -0.106855  0.149472 -0.096388  0.056596  0.057033   \n",
       "568846  0.021082  0.335898 -0.009662 -0.136730 -0.188337  0.030550  0.224767   \n",
       "\n",
       "              63  \n",
       "0      -0.174671  \n",
       "1      -0.203013  \n",
       "2      -0.013758  \n",
       "3      -0.070464  \n",
       "4      -0.088297  \n",
       "...          ...  \n",
       "568842 -0.156825  \n",
       "568843 -0.043086  \n",
       "568844 -0.148763  \n",
       "568845  0.039314  \n",
       "568846 -0.227288  \n",
       "\n",
       "[568847 rows x 68 columns]"
      ]
     },
     "execution_count": 22,
     "metadata": {},
     "output_type": "execute_result"
    }
   ],
   "source": [
    "item_embs_df"
   ]
  },
  {
   "cell_type": "code",
   "execution_count": 23,
   "id": "ccd897a9",
   "metadata": {},
   "outputs": [],
   "source": [
    "item_embeddings = item_embs_df.iloc[:, 4:]"
   ]
  },
  {
   "cell_type": "code",
   "execution_count": 24,
   "id": "0d1a07cf",
   "metadata": {},
   "outputs": [
    {
     "data": {
      "text/html": [
       "<div>\n",
       "<style scoped>\n",
       "    .dataframe tbody tr th:only-of-type {\n",
       "        vertical-align: middle;\n",
       "    }\n",
       "\n",
       "    .dataframe tbody tr th {\n",
       "        vertical-align: top;\n",
       "    }\n",
       "\n",
       "    .dataframe thead th {\n",
       "        text-align: right;\n",
       "    }\n",
       "</style>\n",
       "<table border=\"1\" class=\"dataframe\">\n",
       "  <thead>\n",
       "    <tr style=\"text-align: right;\">\n",
       "      <th></th>\n",
       "      <th>0</th>\n",
       "      <th>1</th>\n",
       "      <th>2</th>\n",
       "      <th>3</th>\n",
       "      <th>4</th>\n",
       "      <th>5</th>\n",
       "      <th>6</th>\n",
       "      <th>7</th>\n",
       "      <th>8</th>\n",
       "      <th>9</th>\n",
       "      <th>...</th>\n",
       "      <th>54</th>\n",
       "      <th>55</th>\n",
       "      <th>56</th>\n",
       "      <th>57</th>\n",
       "      <th>58</th>\n",
       "      <th>59</th>\n",
       "      <th>60</th>\n",
       "      <th>61</th>\n",
       "      <th>62</th>\n",
       "      <th>63</th>\n",
       "    </tr>\n",
       "  </thead>\n",
       "  <tbody>\n",
       "    <tr>\n",
       "      <th>0</th>\n",
       "      <td>-0.008491</td>\n",
       "      <td>-0.102309</td>\n",
       "      <td>0.022300</td>\n",
       "      <td>0.071117</td>\n",
       "      <td>-0.092035</td>\n",
       "      <td>-0.070548</td>\n",
       "      <td>-0.054154</td>\n",
       "      <td>-0.280781</td>\n",
       "      <td>-0.054890</td>\n",
       "      <td>-0.169890</td>\n",
       "      <td>...</td>\n",
       "      <td>-0.218282</td>\n",
       "      <td>-0.088533</td>\n",
       "      <td>0.036797</td>\n",
       "      <td>0.038761</td>\n",
       "      <td>0.050474</td>\n",
       "      <td>0.138893</td>\n",
       "      <td>-0.201486</td>\n",
       "      <td>-0.096185</td>\n",
       "      <td>0.079871</td>\n",
       "      <td>-0.174671</td>\n",
       "    </tr>\n",
       "    <tr>\n",
       "      <th>1</th>\n",
       "      <td>0.028465</td>\n",
       "      <td>-0.068509</td>\n",
       "      <td>0.010098</td>\n",
       "      <td>0.126853</td>\n",
       "      <td>-0.056414</td>\n",
       "      <td>0.012849</td>\n",
       "      <td>0.013039</td>\n",
       "      <td>-0.187053</td>\n",
       "      <td>0.037774</td>\n",
       "      <td>-0.009335</td>\n",
       "      <td>...</td>\n",
       "      <td>-0.063118</td>\n",
       "      <td>-0.021072</td>\n",
       "      <td>0.098170</td>\n",
       "      <td>0.017988</td>\n",
       "      <td>-0.151523</td>\n",
       "      <td>0.217274</td>\n",
       "      <td>-0.102843</td>\n",
       "      <td>-0.026918</td>\n",
       "      <td>0.246797</td>\n",
       "      <td>-0.203013</td>\n",
       "    </tr>\n",
       "    <tr>\n",
       "      <th>2</th>\n",
       "      <td>-0.100939</td>\n",
       "      <td>-0.145017</td>\n",
       "      <td>0.221424</td>\n",
       "      <td>0.132817</td>\n",
       "      <td>-0.235907</td>\n",
       "      <td>0.030855</td>\n",
       "      <td>-0.059277</td>\n",
       "      <td>-0.132030</td>\n",
       "      <td>0.037480</td>\n",
       "      <td>-0.029862</td>\n",
       "      <td>...</td>\n",
       "      <td>-0.021422</td>\n",
       "      <td>0.010133</td>\n",
       "      <td>0.066813</td>\n",
       "      <td>0.068083</td>\n",
       "      <td>-0.058502</td>\n",
       "      <td>0.083222</td>\n",
       "      <td>-0.190748</td>\n",
       "      <td>0.072131</td>\n",
       "      <td>0.154896</td>\n",
       "      <td>-0.013758</td>\n",
       "    </tr>\n",
       "    <tr>\n",
       "      <th>3</th>\n",
       "      <td>-0.104699</td>\n",
       "      <td>-0.032289</td>\n",
       "      <td>-0.077467</td>\n",
       "      <td>-0.095468</td>\n",
       "      <td>-0.181202</td>\n",
       "      <td>-0.016096</td>\n",
       "      <td>-0.026478</td>\n",
       "      <td>-0.214329</td>\n",
       "      <td>0.149610</td>\n",
       "      <td>-0.050052</td>\n",
       "      <td>...</td>\n",
       "      <td>0.109550</td>\n",
       "      <td>0.061822</td>\n",
       "      <td>0.058454</td>\n",
       "      <td>-0.020658</td>\n",
       "      <td>-0.115805</td>\n",
       "      <td>-0.024861</td>\n",
       "      <td>-0.097081</td>\n",
       "      <td>0.015881</td>\n",
       "      <td>0.037807</td>\n",
       "      <td>-0.070464</td>\n",
       "    </tr>\n",
       "    <tr>\n",
       "      <th>4</th>\n",
       "      <td>-0.090754</td>\n",
       "      <td>0.021666</td>\n",
       "      <td>-0.073284</td>\n",
       "      <td>0.050787</td>\n",
       "      <td>-0.167716</td>\n",
       "      <td>-0.030687</td>\n",
       "      <td>-0.040895</td>\n",
       "      <td>-0.282884</td>\n",
       "      <td>-0.064349</td>\n",
       "      <td>-0.121975</td>\n",
       "      <td>...</td>\n",
       "      <td>-0.212575</td>\n",
       "      <td>0.019838</td>\n",
       "      <td>0.015235</td>\n",
       "      <td>0.188996</td>\n",
       "      <td>-0.073476</td>\n",
       "      <td>0.208819</td>\n",
       "      <td>-0.118849</td>\n",
       "      <td>-0.037156</td>\n",
       "      <td>0.112738</td>\n",
       "      <td>-0.088297</td>\n",
       "    </tr>\n",
       "  </tbody>\n",
       "</table>\n",
       "<p>5 rows × 64 columns</p>\n",
       "</div>"
      ],
      "text/plain": [
       "          0         1         2         3         4         5         6  \\\n",
       "0 -0.008491 -0.102309  0.022300  0.071117 -0.092035 -0.070548 -0.054154   \n",
       "1  0.028465 -0.068509  0.010098  0.126853 -0.056414  0.012849  0.013039   \n",
       "2 -0.100939 -0.145017  0.221424  0.132817 -0.235907  0.030855 -0.059277   \n",
       "3 -0.104699 -0.032289 -0.077467 -0.095468 -0.181202 -0.016096 -0.026478   \n",
       "4 -0.090754  0.021666 -0.073284  0.050787 -0.167716 -0.030687 -0.040895   \n",
       "\n",
       "          7         8         9  ...        54        55        56        57  \\\n",
       "0 -0.280781 -0.054890 -0.169890  ... -0.218282 -0.088533  0.036797  0.038761   \n",
       "1 -0.187053  0.037774 -0.009335  ... -0.063118 -0.021072  0.098170  0.017988   \n",
       "2 -0.132030  0.037480 -0.029862  ... -0.021422  0.010133  0.066813  0.068083   \n",
       "3 -0.214329  0.149610 -0.050052  ...  0.109550  0.061822  0.058454 -0.020658   \n",
       "4 -0.282884 -0.064349 -0.121975  ... -0.212575  0.019838  0.015235  0.188996   \n",
       "\n",
       "         58        59        60        61        62        63  \n",
       "0  0.050474  0.138893 -0.201486 -0.096185  0.079871 -0.174671  \n",
       "1 -0.151523  0.217274 -0.102843 -0.026918  0.246797 -0.203013  \n",
       "2 -0.058502  0.083222 -0.190748  0.072131  0.154896 -0.013758  \n",
       "3 -0.115805 -0.024861 -0.097081  0.015881  0.037807 -0.070464  \n",
       "4 -0.073476  0.208819 -0.118849 -0.037156  0.112738 -0.088297  \n",
       "\n",
       "[5 rows x 64 columns]"
      ]
     },
     "execution_count": 24,
     "metadata": {},
     "output_type": "execute_result"
    }
   ],
   "source": [
    "item_embeddings.head()"
   ]
  },
  {
   "cell_type": "code",
   "execution_count": 25,
   "id": "6d7811d9",
   "metadata": {},
   "outputs": [],
   "source": [
    "#item_embeddings.to_parquet('item_embeddings')"
   ]
  }
 ],
 "metadata": {
  "kernelspec": {
   "display_name": "Python 3 (ipykernel)",
   "language": "python",
   "name": "python3"
  },
  "language_info": {
   "codemirror_mode": {
    "name": "ipython",
    "version": 3
   },
   "file_extension": ".py",
   "mimetype": "text/x-python",
   "name": "python",
   "nbconvert_exporter": "python",
   "pygments_lexer": "ipython3",
   "version": "3.8.10"
  }
 },
 "nbformat": 4,
 "nbformat_minor": 5
}
