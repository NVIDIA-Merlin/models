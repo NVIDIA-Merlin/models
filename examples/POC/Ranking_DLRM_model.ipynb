{
 "cells": [
  {
   "cell_type": "code",
   "execution_count": 1,
   "id": "3dfb7b7c",
   "metadata": {},
   "outputs": [],
   "source": [
    "# Copyright 2021 NVIDIA Corporation. All Rights Reserved.\n",
    "#\n",
    "# Licensed under the Apache License, Version 2.0 (the \"License\");\n",
    "# you may not use this file except in compliance with the License.\n",
    "# You may obtain a copy of the License at\n",
    "#\n",
    "#     http://www.apache.org/licenses/LICENSE-2.0\n",
    "#\n",
    "# Unless required by applicable law or agreed to in writing, software\n",
    "# distributed under the License is distributed on an \"AS IS\" BASIS,\n",
    "# WITHOUT WARRANTIES OR CONDITIONS OF ANY KIND, either express or implied.\n",
    "# See the License for the specific language governing permissions and\n",
    "# limitations under the License.\n",
    "# ================================"
   ]
  },
  {
   "cell_type": "markdown",
   "id": "1a6b66be",
   "metadata": {},
   "source": [
    "## Building Recommender Systems Easily with Merlin Models\n",
    "\n",
    "In this example notebook, we use the [Ali-CCP: Alibaba Click and Conversion Prediction](https://tianchi.aliyun.com/dataset/dataDetail?dataId=408#1) dataset to build our recommender system models. We define different deep learning-based model architectures, and then train and evaluate the models only in couple lines of code.\n",
    "\n",
    "### Learning objectives\n",
    "- Preparing the data with NVTabular\n",
    "- Training different recommender system models with Merlin Models"
   ]
  },
  {
   "cell_type": "markdown",
   "id": "2329266e",
   "metadata": {},
   "source": [
    "## Feature Engineering with NVTabular"
   ]
  },
  {
   "cell_type": "markdown",
   "id": "7c7a15e2",
   "metadata": {},
   "source": [
    "When we work on a new recommender systems, we explore the dataset, first."
   ]
  },
  {
   "cell_type": "code",
   "execution_count": 2,
   "id": "ec6ab530",
   "metadata": {},
   "outputs": [
    {
     "name": "stderr",
     "output_type": "stream",
     "text": [
      "2022-03-16 19:30:09.143844: I tensorflow/core/common_runtime/gpu/gpu_process_state.cc:214] Using CUDA malloc Async allocator for GPU: 0\n",
      "2022-03-16 19:30:09.144044: I tensorflow/core/common_runtime/gpu/gpu_device.cc:1525] Created device /job:localhost/replica:0/task:0/device:GPU:0 with 16254 MB memory:  -> device: 0, name: Quadro GV100, pci bus id: 0000:15:00.0, compute capability: 7.0\n"
     ]
    }
   ],
   "source": [
    "import os\n",
    "os.environ[\"TF_GPU_ALLOCATOR\"]=\"cuda_malloc_async\"\n",
    "import cudf\n",
    "import glob\n",
    "import gc\n",
    "\n",
    "import nvtabular as nvt\n",
    "from nvtabular.ops import *\n",
    "from example_utils import workflow_fit_transform\n",
    "\n",
    "from merlin.schema.tags import Tags\n",
    "from merlin.schema import Schema\n",
    "\n",
    "import merlin.models.tf as mm\n",
    "import merlin.models.tf.dataset as tf_dataloader\n",
    "\n",
    "from merlin.io.dataset import Dataset\n",
    "from merlin.schema.io.tensorflow_metadata import TensorflowMetadata\n",
    "from merlin.models.tf.blocks.core.aggregation import CosineSimilarity\n",
    "\n",
    "import tensorflow as tf"
   ]
  },
  {
   "cell_type": "markdown",
   "id": "173057d7",
   "metadata": {},
   "source": [
    "First, we define our input and output paths."
   ]
  },
  {
   "cell_type": "code",
   "execution_count": 3,
   "id": "2af37628",
   "metadata": {},
   "outputs": [],
   "source": [
    "train_path = '/workspace/data/train/*.parquet'\n",
    "test_path = '/workspace/data/test/*.parquet'\n",
    "output_path = '/workspace/ranking/processed/'"
   ]
  },
  {
   "cell_type": "markdown",
   "id": "0ec5ad41",
   "metadata": {},
   "source": [
    "NVTabular has already implemented multiple calculations, called `ops`. An `op` can be applied to a `ColumnGroup` from an overloaded `>>` operator\n",
    "**Example:**<br>\n",
    "```python\n",
    "features = [ column_name, ...] >> op1 >> op2 >> ...\n",
    "```\n",
    "\n",
    "This may sounds more complicated as it is. Let's define our the pipeline."
   ]
  },
  {
   "cell_type": "markdown",
   "id": "b684dfe2",
   "metadata": {},
   "source": [
    "<a id=\"etl\"></a>\n",
    "ETL Workflow:"
   ]
  },
  {
   "cell_type": "code",
   "execution_count": 4,
   "id": "a9e04a54",
   "metadata": {},
   "outputs": [
    {
     "name": "stderr",
     "output_type": "stream",
     "text": [
      "/usr/local/lib/python3.8/dist-packages/cudf/core/dataframe.py:1253: UserWarning: The deep parameter is ignored and is only included for pandas compatibility.\n",
      "  warnings.warn(\n"
     ]
    },
    {
     "name": "stdout",
     "output_type": "stream",
     "text": [
      "CPU times: user 17.1 s, sys: 20.2 s, total: 37.3 s\n",
      "Wall time: 39.6 s\n"
     ]
    }
   ],
   "source": [
    "%%time\n",
    "\n",
    "user_id = [\"user_id\"] >> AddMetadata(tags=[Tags.USER_ID, Tags.USER]) >> Categorify()\n",
    "item_id = [\"item_id\"] >> AddMetadata(tags=[Tags.ITEM_ID, Tags.ITEM]) >> Categorify()\n",
    "\n",
    "item_features = [\"item_category\", \"item_shop\", \"item_brand\"] >> AddMetadata(tags=[Tags.ITEM]) >> nvt.ops.Categorify()\n",
    "\n",
    "user_features = ['user_shops', 'user_profile', 'user_group', \n",
    "       'user_gender', 'user_age', 'user_consumption_2', 'user_is_occupied',\n",
    "       'user_geography', 'user_intentions', 'user_brands', 'user_categories'] \\\n",
    "    >> AddMetadata(tags=[Tags.USER]) >> nvt.ops.Categorify()\n",
    "\n",
    "targets = [\"click\"] >> AddMetadata(tags=[str(Tags.BINARY_CLASSIFICATION), \"target\"])\n",
    "\n",
    "outputs = user_id+item_id+item_features+user_features+targets\n",
    "\n",
    "workflow_fit_transform(outputs, train_path, test_path, output_path)"
   ]
  },
  {
   "cell_type": "markdown",
   "id": "0b573961",
   "metadata": {},
   "source": [
    "We will also use a util function to wrap up the workflow transform to a one line of code."
   ]
  },
  {
   "cell_type": "markdown",
   "id": "36813626",
   "metadata": {
    "tags": []
   },
   "source": [
    "## Building Recommender Systems"
   ]
  },
  {
   "cell_type": "markdown",
   "id": "f6a3bc86",
   "metadata": {},
   "source": [
    "NVTabular exported the schema file of our processed dataset. Merlin Models library relies on a schema object that takes the input features as input and automatically builds all necessary layers to represent, normalize and aggregate input features. `schema.pbtxt` is a protobuf text file contains features metadata, including statistics about features such as cardinality, min and max values and also tags based on their characteristics and dtypes (e.g., categorical, continuous, list, item_id). The metadata information loaded from Schema and their tags are used to automatically set the parameters of Merlin models.\n",
    "\n",
    "We use the `schema` object to define our model."
   ]
  },
  {
   "cell_type": "code",
   "execution_count": 5,
   "id": "a4363b9b",
   "metadata": {},
   "outputs": [],
   "source": [
    "schema = TensorflowMetadata.from_proto_text_file(output_path + '/train/').to_merlin_schema()"
   ]
  },
  {
   "cell_type": "code",
   "execution_count": 6,
   "id": "6bda8134",
   "metadata": {},
   "outputs": [],
   "source": [
    "target_column = schema.select_by_tag(Tags.TARGET).column_names[0]"
   ]
  },
  {
   "cell_type": "code",
   "execution_count": 7,
   "id": "fd4dd425",
   "metadata": {},
   "outputs": [
    {
     "data": {
      "text/plain": [
       "['user_id',\n",
       " 'item_id',\n",
       " 'item_category',\n",
       " 'item_shop',\n",
       " 'item_brand',\n",
       " 'user_shops',\n",
       " 'user_profile',\n",
       " 'user_group',\n",
       " 'user_gender',\n",
       " 'user_age',\n",
       " 'user_consumption_2',\n",
       " 'user_is_occupied',\n",
       " 'user_geography',\n",
       " 'user_intentions',\n",
       " 'user_brands',\n",
       " 'user_categories',\n",
       " 'click']"
      ]
     },
     "execution_count": 7,
     "metadata": {},
     "output_type": "execute_result"
    }
   ],
   "source": [
    "schema.column_names"
   ]
  },
  {
   "cell_type": "markdown",
   "id": "071c3afa",
   "metadata": {},
   "source": [
    "### Initialize Dataloaders"
   ]
  },
  {
   "cell_type": "markdown",
   "id": "b39cb6fd",
   "metadata": {},
   "source": [
    "We're ready to start training, for that, we need to initialize the dataloaders. We'll use Merlin `BatchedDataset` class for reading chunks of parquet files. `BatchedDataset` asynchronously iterate through CSV or Parquet dataframes on GPU by leveraging an NVTabular `Dataset`. To read more about Merlin optimized dataloaders visit [here](https://github.com/NVIDIA-Merlin/models/blob/main/merlin/models/tf/dataset.py#L141)."
   ]
  },
  {
   "cell_type": "code",
   "execution_count": 8,
   "id": "ac6f2619",
   "metadata": {},
   "outputs": [],
   "source": [
    "batch_size = 16*1024\n",
    "\n",
    "train_dl = tf_dataloader.BatchedDataset(\n",
    "    Dataset(output_path + '/train/*.parquet', part_size=\"500MB\"),\n",
    "    batch_size = batch_size,\n",
    "    shuffle= True,\n",
    "    schema = schema,\n",
    ")\n",
    "\n",
    "test_dl = tf_dataloader.BatchedDataset(\n",
    "    Dataset(output_path + '/test/*.parquet', part_size=\"500MB\"),\n",
    "    batch_size = batch_size,\n",
    "    shuffle = False,\n",
    "    schema = schema,\n",
    ")"
   ]
  },
  {
   "cell_type": "markdown",
   "id": "86abd5cf",
   "metadata": {},
   "source": [
    "### DLRM Model"
   ]
  },
  {
   "cell_type": "markdown",
   "id": "78ed455e",
   "metadata": {},
   "source": [
    "Deep Learning Recommendation Model [(DLRM)](https://arxiv.org/abs/1906.00091) architecture is a popular neural network model originally proposed by Facebook in 2019. The model was introduced as a personalization deep learning model that uses embeddings to process sparse features that represent categorical data and a multilayer perceptron (MLP) to process dense features, then interacts these features explicitly using the statistical techniques proposed in [here](https://ieeexplore.ieee.org/stamp/stamp.jsp?tp=&arnumber=5694074).\n",
    "\n",
    "![DLRM](./images/DLRM.png)\n",
    "\n",
    "\n",
    "DLRM accepts two types of features: categorical and numerical. \n",
    "- For each categorical feature, an embedding table is used to provide dense representation to each unique value. \n",
    "- For numerical features, they are fed to model as dense features, and then transformed by a simple neural network referred to as \"bottom MLP\". This part of the network consists of a series of linear layers with ReLU activations. \n",
    "- The output of the bottom MLP and the embedding vectors are then fed into the dot product interaction operation (see Pairwise interaction step). The output of \"dot interaction\" is then concatenated with the features resulting from the bottom MLP (we apply a skip-connection there) and fed into the \"top MLP\" which is also a series of dense layers with activations ((a fully connected NN). \n",
    "- The model outputs a single number (here we use sigmoid function to generate probabilities) which can be interpreted as a likelihood of a certain user clicking on an ad, watching a movie, or viewing a news page.\n",
    "\n",
    "\n",
    "Steps:<br>\n",
    "* Change the model to `DLRMModel`\n",
    "* Rerun the pipeline from there from model.fit"
   ]
  },
  {
   "cell_type": "code",
   "execution_count": 9,
   "id": "bb3e59c7",
   "metadata": {},
   "outputs": [],
   "source": [
    "model = mm.DLRMModel(\n",
    "    schema,\n",
    "    embedding_dim=64,\n",
    "    bottom_block=mm.MLPBlock([128, 64]),\n",
    "    top_block=mm.MLPBlock([128, 64, 32]),\n",
    "    prediction_tasks=mm.BinaryClassificationTask(target_column, metrics=[tf.keras.metrics.AUC()])\n",
    ")\n",
    "\n",
    "model_description = \"DLRM\""
   ]
  },
  {
   "cell_type": "code",
   "execution_count": 10,
   "id": "ab0a4b2a",
   "metadata": {},
   "outputs": [
    {
     "name": "stderr",
     "output_type": "stream",
     "text": [
      "2022-03-16 19:30:49.902569: W tensorflow/python/util/util.cc:368] Sets are not currently considered sequences, but this may change in the future, so consider avoiding using them.\n"
     ]
    },
    {
     "name": "stdout",
     "output_type": "stream",
     "text": [
      "2442/2442 [==============================] - ETA: 0s - auc: 0.6469 - loss: 0.1613 - regularization_loss: 0.0000e+00 - total_loss: 0.1613"
     ]
    },
    {
     "name": "stderr",
     "output_type": "stream",
     "text": [
      "2022-03-16 19:35:03.060932: W tensorflow/core/grappler/optimizers/loop_optimizer.cc:907] Skipping loop optimization for Merge node with control input: cond/then/_0/cond/cond/branch_executed/_161\n"
     ]
    },
    {
     "name": "stdout",
     "output_type": "stream",
     "text": [
      "2442/2442 [==============================] - 304s 113ms/step - auc: 0.6469 - loss: 0.1613 - regularization_loss: 0.0000e+00 - total_loss: 0.1613 - val_auc: 0.6054 - val_loss: 0.1200 - val_regularization_loss: 0.0000e+00 - val_total_loss: 0.1200\n",
      "CPU times: user 7min 59s, sys: 1min 30s, total: 9min 29s\n",
      "Wall time: 5min 6s\n"
     ]
    },
    {
     "data": {
      "text/plain": [
       "<keras.callbacks.History at 0x7f7bc415c190>"
      ]
     },
     "execution_count": 10,
     "metadata": {},
     "output_type": "execute_result"
    }
   ],
   "source": [
    "%%time\n",
    "model.compile('adam', run_eagerly=False)  # change adam to `sgd` for faster training.\n",
    "model.fit(train_dl, validation_data=test_dl, epochs=1)"
   ]
  },
  {
   "cell_type": "markdown",
   "id": "fd6fda5e",
   "metadata": {},
   "source": [
    "Save the model"
   ]
  },
  {
   "cell_type": "code",
   "execution_count": 11,
   "id": "4e21ab88",
   "metadata": {},
   "outputs": [],
   "source": [
    "#model.save('dlrm')"
   ]
  }
 ],
 "metadata": {
  "kernelspec": {
   "display_name": "Python 3 (ipykernel)",
   "language": "python",
   "name": "python3"
  },
  "language_info": {
   "codemirror_mode": {
    "name": "ipython",
    "version": 3
   },
   "file_extension": ".py",
   "mimetype": "text/x-python",
   "name": "python",
   "nbconvert_exporter": "python",
   "pygments_lexer": "ipython3",
   "version": "3.8.10"
  }
 },
 "nbformat": 4,
 "nbformat_minor": 5
}
