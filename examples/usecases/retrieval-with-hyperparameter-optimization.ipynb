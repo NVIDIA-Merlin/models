{
 "cells": [
  {
   "cell_type": "code",
   "execution_count": 1,
   "id": "a556f660",
   "metadata": {},
   "outputs": [],
   "source": [
    "# Copyright 2022 NVIDIA Corporation. All Rights Reserved.\n",
    "#\n",
    "# Licensed under the Apache License, Version 2.0 (the \"License\");\n",
    "# you may not use this file except in compliance with the License.\n",
    "# You may obtain a copy of the License at\n",
    "#\n",
    "#     http://www.apache.org/licenses/LICENSE-2.0\n",
    "#\n",
    "# Unless required by applicable law or agreed to in writing, software\n",
    "# distributed under the License is distributed on an \"AS IS\" BASIS,\n",
    "# WITHOUT WARRANTIES OR CONDITIONS OF ANY KIND, either express or implied.\n",
    "# See the License for the specific language governing permissions anda\n",
    "# limitations under the License.\n",
    "# =============================================================================="
   ]
  },
  {
   "cell_type": "markdown",
   "id": "697d1452",
   "metadata": {},
   "source": [
    "<img src=\"https://developer.download.nvidia.com/notebooks/dlsw-notebooks/merlin_models_entertainment-with-pretrained-embeddings/nvidia_logo.png\" style=\"width: 90px; float: right;\">\n",
    "\n",
    "# Retrieval with hyperparameter optimization\n",
    "\n",
    "## Overview\n",
    "\n",
    "In this use case we will perform hyperparameter optimization using [optuna](https://optuna.org/). Optuna is an open source hyperparameter optimization framework which automates hyperparameter search and can be used across a wide set of scenarios.\n",
    "\n",
    "We will look at optimizing candidate retrieval on a dataset from a Kaggle competition, the [H&M Personalized Fashion Recommendations challenge](https://www.kaggle.com/competitions/h-and-m-personalized-fashion-recommendations).\n",
    "\n",
    "Hyperparameter optimization can be arbitrarily complex -- in this use case, we will look at optimizing the learning rate and embedding dimensionality to achieve best results on candidate generation. We will train a Matrix Factorization model on user-item pairs and maximize the hit rate at 100 (how many out of top 100 retrieved candidates were among purchased items).\n",
    "\n",
    "### Learning objectives\n",
    "\n",
    "- How to run a hyperoptimization experiment\n",
    "- Candidate generation using Merlin Models"
   ]
  },
  {
   "cell_type": "markdown",
   "id": "1cccd005",
   "metadata": {},
   "source": [
    "## Downloading and preparing the dataset"
   ]
  },
  {
   "cell_type": "markdown",
   "id": "b7a7a100",
   "metadata": {},
   "source": [
    "Let's begin by downloading the dataset. Please find the data on Kaggle [here](https://www.kaggle.com/competitions/h-and-m-personalized-fashion-recommendations/data). We will only use `transactions_train.csv` which lists items that were purchased and maps the transactions to customers.\n",
    "\n",
    "Please download the `transactions_train.csv` file and store it alongside the current notebook.\n",
    "\n",
    "Let us read in the file and look at the data."
   ]
  },
  {
   "cell_type": "code",
   "execution_count": 2,
   "id": "b1191c28",
   "metadata": {},
   "outputs": [
    {
     "name": "stderr",
     "output_type": "stream",
     "text": [
      "/usr/local/lib/python3.8/dist-packages/tqdm/auto.py:22: TqdmWarning: IProgress not found. Please update jupyter and ipywidgets. See https://ipywidgets.readthedocs.io/en/stable/user_install.html\n",
      "  from .autonotebook import tqdm as notebook_tqdm\n"
     ]
    },
    {
     "data": {
      "text/html": [
       "<div>\n",
       "<style scoped>\n",
       "    .dataframe tbody tr th:only-of-type {\n",
       "        vertical-align: middle;\n",
       "    }\n",
       "\n",
       "    .dataframe tbody tr th {\n",
       "        vertical-align: top;\n",
       "    }\n",
       "\n",
       "    .dataframe thead th {\n",
       "        text-align: right;\n",
       "    }\n",
       "</style>\n",
       "<table border=\"1\" class=\"dataframe\">\n",
       "  <thead>\n",
       "    <tr style=\"text-align: right;\">\n",
       "      <th></th>\n",
       "      <th>t_dat</th>\n",
       "      <th>customer_id</th>\n",
       "      <th>article_id</th>\n",
       "      <th>price</th>\n",
       "      <th>sales_channel_id</th>\n",
       "    </tr>\n",
       "  </thead>\n",
       "  <tbody>\n",
       "    <tr>\n",
       "      <th>0</th>\n",
       "      <td>2018-09-20</td>\n",
       "      <td>000058a12d5b43e67d225668fa1f8d618c13dc232df0ca...</td>\n",
       "      <td>663713001</td>\n",
       "      <td>0.050831</td>\n",
       "      <td>2</td>\n",
       "    </tr>\n",
       "    <tr>\n",
       "      <th>1</th>\n",
       "      <td>2018-09-20</td>\n",
       "      <td>000058a12d5b43e67d225668fa1f8d618c13dc232df0ca...</td>\n",
       "      <td>541518023</td>\n",
       "      <td>0.030492</td>\n",
       "      <td>2</td>\n",
       "    </tr>\n",
       "    <tr>\n",
       "      <th>2</th>\n",
       "      <td>2018-09-20</td>\n",
       "      <td>00007d2de826758b65a93dd24ce629ed66842531df6699...</td>\n",
       "      <td>505221004</td>\n",
       "      <td>0.015237</td>\n",
       "      <td>2</td>\n",
       "    </tr>\n",
       "    <tr>\n",
       "      <th>3</th>\n",
       "      <td>2018-09-20</td>\n",
       "      <td>00007d2de826758b65a93dd24ce629ed66842531df6699...</td>\n",
       "      <td>685687003</td>\n",
       "      <td>0.016932</td>\n",
       "      <td>2</td>\n",
       "    </tr>\n",
       "    <tr>\n",
       "      <th>4</th>\n",
       "      <td>2018-09-20</td>\n",
       "      <td>00007d2de826758b65a93dd24ce629ed66842531df6699...</td>\n",
       "      <td>685687004</td>\n",
       "      <td>0.016932</td>\n",
       "      <td>2</td>\n",
       "    </tr>\n",
       "  </tbody>\n",
       "</table>\n",
       "</div>"
      ],
      "text/plain": [
       "       t_dat                                        customer_id  article_id  \\\n",
       "0 2018-09-20  000058a12d5b43e67d225668fa1f8d618c13dc232df0ca...   663713001   \n",
       "1 2018-09-20  000058a12d5b43e67d225668fa1f8d618c13dc232df0ca...   541518023   \n",
       "2 2018-09-20  00007d2de826758b65a93dd24ce629ed66842531df6699...   505221004   \n",
       "3 2018-09-20  00007d2de826758b65a93dd24ce629ed66842531df6699...   685687003   \n",
       "4 2018-09-20  00007d2de826758b65a93dd24ce629ed66842531df6699...   685687004   \n",
       "\n",
       "      price  sales_channel_id  \n",
       "0  0.050831                 2  \n",
       "1  0.030492                 2  \n",
       "2  0.015237                 2  \n",
       "3  0.016932                 2  \n",
       "4  0.016932                 2  "
      ]
     },
     "execution_count": 2,
     "metadata": {},
     "output_type": "execute_result"
    }
   ],
   "source": [
    "import cudf\n",
    "import numpy as np\n",
    "\n",
    "transactions = cudf.read_csv('transactions_train.csv', parse_dates=['t_dat'])\n",
    "transactions.head()"
   ]
  },
  {
   "cell_type": "markdown",
   "id": "caea5470",
   "metadata": {},
   "source": [
    "Let's assign the last week to our validation set and treat the rest of that data as our train set. Additionally, let us remove purchases in our train set that were performed by customers who do not appear in our validation set."
   ]
  },
  {
   "cell_type": "code",
   "execution_count": 3,
   "id": "888db6d3",
   "metadata": {},
   "outputs": [],
   "source": [
    "seven_days_ago = transactions.t_dat.max() - np.timedelta64(7, 'D')\n",
    "\n",
    "train_set = transactions[transactions.t_dat < seven_days_ago]\n",
    "validation_set = transactions[transactions.t_dat >= seven_days_ago]\n",
    "\n",
    "validation_set_customers = validation_set.customer_id.unique()\n",
    "train_set = train_set[train_set.customer_id.isin(validation_set_customers)]"
   ]
  },
  {
   "cell_type": "markdown",
   "id": "76bd07da",
   "metadata": {},
   "source": [
    "Before we can proceed with training we need to preprocess our data.\n",
    "\n",
    "We will only use `customer_id` and `article_id` pairs. Still, a neural network expects them to be represented as continuous integers. We need to go from how they are represented in our dataset to that desired representation.\n",
    "\n",
    "In order to do so, we will leverage `nvtabular` and the `Categorify` operator."
   ]
  },
  {
   "cell_type": "code",
   "execution_count": 4,
   "id": "b7a6a7fa",
   "metadata": {},
   "outputs": [
    {
     "name": "stderr",
     "output_type": "stream",
     "text": [
      "2022-10-04 07:47:00.216818: I tensorflow/stream_executor/cuda/cuda_gpu_executor.cc:991] successful NUMA node read from SysFS had negative value (-1), but there must be at least one NUMA node, so returning NUMA node zero\n",
      "2022-10-04 07:47:00.217347: I tensorflow/stream_executor/cuda/cuda_gpu_executor.cc:991] successful NUMA node read from SysFS had negative value (-1), but there must be at least one NUMA node, so returning NUMA node zero\n",
      "2022-10-04 07:47:00.217530: I tensorflow/stream_executor/cuda/cuda_gpu_executor.cc:991] successful NUMA node read from SysFS had negative value (-1), but there must be at least one NUMA node, so returning NUMA node zero\n",
      "2022-10-04 07:47:00.229052: I tensorflow/core/platform/cpu_feature_guard.cc:194] This TensorFlow binary is optimized with oneAPI Deep Neural Network Library (oneDNN) to use the following CPU instructions in performance-critical operations:  SSE3 SSE4.1 SSE4.2 AVX\n",
      "To enable them in other operations, rebuild TensorFlow with the appropriate compiler flags.\n",
      "2022-10-04 07:47:00.229957: I tensorflow/stream_executor/cuda/cuda_gpu_executor.cc:991] successful NUMA node read from SysFS had negative value (-1), but there must be at least one NUMA node, so returning NUMA node zero\n",
      "2022-10-04 07:47:00.230150: I tensorflow/stream_executor/cuda/cuda_gpu_executor.cc:991] successful NUMA node read from SysFS had negative value (-1), but there must be at least one NUMA node, so returning NUMA node zero\n",
      "2022-10-04 07:47:00.230304: I tensorflow/stream_executor/cuda/cuda_gpu_executor.cc:991] successful NUMA node read from SysFS had negative value (-1), but there must be at least one NUMA node, so returning NUMA node zero\n",
      "2022-10-04 07:47:00.462415: I tensorflow/stream_executor/cuda/cuda_gpu_executor.cc:991] successful NUMA node read from SysFS had negative value (-1), but there must be at least one NUMA node, so returning NUMA node zero\n",
      "2022-10-04 07:47:00.462616: I tensorflow/stream_executor/cuda/cuda_gpu_executor.cc:991] successful NUMA node read from SysFS had negative value (-1), but there must be at least one NUMA node, so returning NUMA node zero\n",
      "2022-10-04 07:47:00.462771: I tensorflow/stream_executor/cuda/cuda_gpu_executor.cc:991] successful NUMA node read from SysFS had negative value (-1), but there must be at least one NUMA node, so returning NUMA node zero\n",
      "2022-10-04 07:47:00.462893: I tensorflow/core/common_runtime/gpu/gpu_device.cc:1532] Created device /job:localhost/replica:0/task:0/device:GPU:0 with 24576 MB memory:  -> device: 0, name: Quadro RTX 8000, pci bus id: 0000:08:00.0, compute capability: 7.5\n"
     ]
    }
   ],
   "source": [
    "import nvtabular as nvt\n",
    "from merlin.schema.tags import Tags\n",
    "from merlin.models.tf.dataset import BatchedDataset"
   ]
  },
  {
   "cell_type": "markdown",
   "id": "fb55697a",
   "metadata": {},
   "source": [
    "We represent our data as `Merlin` `Datasets`."
   ]
  },
  {
   "cell_type": "code",
   "execution_count": 5,
   "id": "cc65938f",
   "metadata": {},
   "outputs": [],
   "source": [
    "train_set = nvt.Dataset(train_set)\n",
    "validation_set = nvt.Dataset(validation_set)"
   ]
  },
  {
   "cell_type": "markdown",
   "id": "c996d487",
   "metadata": {},
   "source": [
    "We now define the operations we want to apply to our data."
   ]
  },
  {
   "cell_type": "code",
   "execution_count": 6,
   "id": "2211ce6b",
   "metadata": {},
   "outputs": [],
   "source": [
    "customer_id = ['customer_id'] >> nvt.ops.Categorify() >> nvt.ops.AddMetadata(tags=[Tags.USER_ID])\n",
    "article_id = ['article_id'] >> nvt.ops.Categorify() >> nvt.ops.AddMetadata(tags=[Tags.ITEM_ID])"
   ]
  },
  {
   "cell_type": "markdown",
   "id": "f5880ef5",
   "metadata": {},
   "source": [
    "And we proceed with fitting the workflow and transforming both the train and validation datasets."
   ]
  },
  {
   "cell_type": "code",
   "execution_count": 7,
   "id": "9a3cf03a",
   "metadata": {},
   "outputs": [
    {
     "name": "stderr",
     "output_type": "stream",
     "text": [
      "/usr/local/lib/python3.8/dist-packages/cudf/core/frame.py:384: UserWarning: The deep parameter is ignored and is only included for pandas compatibility.\n",
      "  warnings.warn(\n"
     ]
    }
   ],
   "source": [
    "workflow = nvt.Workflow(customer_id + article_id)\n",
    "train_set_transformed = workflow.fit_transform(train_set)\n",
    "\n",
    "validation_set_transformed = workflow.transform(validation_set)"
   ]
  },
  {
   "cell_type": "markdown",
   "id": "4e3cbd8e",
   "metadata": {},
   "source": [
    "We are now ready to train our model and perform hyperparameter optimization."
   ]
  },
  {
   "cell_type": "markdown",
   "id": "c9984c8d",
   "metadata": {},
   "source": [
    "## Hyperparameter optimization using optuna"
   ]
  },
  {
   "cell_type": "markdown",
   "id": "d1507109",
   "metadata": {},
   "source": [
    "We will train a retrieval model. Customers have performed a number of purchases in the last week of data that we are using as our validation set.\n",
    "\n",
    "Our objective will be to train a retrieval model, Matrix Factorization, and to generate 100 candidates for each customer.\n",
    "\n",
    "The goal is to maximize the count of purchases that appear among our candidates."
   ]
  },
  {
   "cell_type": "markdown",
   "id": "5e7c3c04",
   "metadata": {},
   "source": [
    "### The 3 components of hyperparemter optimization with optuna\n",
    "\n",
    "With optuna, you create a `study`. A `study` is an optimization session with a number of trials. A `trial` is a single experiment, a call of the objective function.\n",
    "\n",
    "A `parameter` is a variable whose value we will will optimize.\n",
    "\n",
    "This is a brief primer but should provide you with all the information necessary to get started with optuna. You can find further information in optuna documentation [here](https://optuna.readthedocs.io/en/stable/tutorial/index.html).\n",
    "\n",
    "Below we will run an optuna study. The hyperparameters we will optimize are:\n",
    "\n",
    "* embedding dimensionality\n",
    "* learning rate\n",
    "* number of epochs\n",
    "\n",
    "Embedding dimensionality is how we control the capacity of the model. We would like to provide it with just the right amount of expressive power. If we endow our model with too great of a capacity, our model will overfit to our training data and it's ability to generalize to unseen data will suffer.\n",
    "\n",
    "On the other hand, if we train too simple of a model, it's performance will be limited as it will not be able to capture the signal in our train data.\n",
    "\n",
    "The learning rate and number of epochs deal with the technicalities of training our model. As the model might train differently depending on it's capacity, we will perform a grid search across all these parameters in order to find a combination that will perform best."
   ]
  },
  {
   "cell_type": "markdown",
   "id": "c3369212",
   "metadata": {},
   "source": [
    "### The setup of our study"
   ]
  },
  {
   "cell_type": "markdown",
   "id": "99c80fe0",
   "metadata": {},
   "source": [
    "Below we define an `objective` function. Running it is a single `trial` in our optimization `study`.\n",
    "\n",
    "We `search_space` we define the values we would like our `study` to run `trials` with."
   ]
  },
  {
   "cell_type": "code",
   "execution_count": 8,
   "id": "40b73412",
   "metadata": {},
   "outputs": [],
   "source": [
    "import merlin.models.tf as mm\n",
    "import tensorflow as tf\n",
    "import optuna"
   ]
  },
  {
   "cell_type": "code",
   "execution_count": 9,
   "id": "cd5729b5",
   "metadata": {},
   "outputs": [],
   "source": [
    "def calcualate_hit_rate_at_100(model):\n",
    "    item_features = train_set_transformed.schema.select_by_tag(Tags.ITEM_ID).column_names\n",
    "    item_dataset = train_set_transformed.to_ddf()[item_features].drop_duplicates().compute()\n",
    "    \n",
    "    item_dataset = nvt.Dataset(item_dataset)\n",
    "    top_k_rec = model.to_top_k_recommender(item_dataset, 100)\n",
    "    \n",
    "    users_schema = train_set_transformed.schema.select_by_tag(Tags.USER_ID)\n",
    "    user_features = users_schema.column_names\n",
    "\n",
    "    unique_users = train_set_transformed.to_ddf()[user_features].drop_duplicates().compute()\n",
    "    users_dataset = nvt.Dataset(unique_users, schema=users_schema)\n",
    "    _, cls_idxs = top_k_rec.predict(BatchedDataset(users_dataset, 100, shuffle=False, schema=users_schema))\n",
    "    \n",
    "    customer_id_mapping = cudf.read_parquet('.//categories/unique.customer_id.parquet')\n",
    "    customer_ids_preds = customer_id_mapping.to_pandas().customer_id.iloc[1:].values\n",
    "    article_id_mapping = cudf.read_parquet('.//categories/unique.article_id.parquet')\n",
    "    \n",
    "    validation_set_df = validation_set.compute()\n",
    "    validation_set_df = validation_set_df.drop_duplicates(['customer_id', 'article_id'])\n",
    "    val_cust2purchases = validation_set_df.to_pandas().groupby('customer_id')['article_id'].apply(list)\n",
    "    \n",
    "    id2a = article_id_mapping.to_pandas().article_id.to_dict()\n",
    "    \n",
    "    hit_rate = 0\n",
    "    for i in range(cls_idxs.shape[0]):\n",
    "        current_cust = customer_ids_preds[i]\n",
    "        purchases = set(val_cust2purchases[current_cust])\n",
    "        candidates = set(int(id2a[c]) for c in cls_idxs[i])\n",
    "        hit_rate += len(purchases.intersection(candidates))\n",
    "        \n",
    "    return hit_rate"
   ]
  },
  {
   "cell_type": "code",
   "execution_count": 10,
   "id": "4d3e36bc",
   "metadata": {},
   "outputs": [],
   "source": [
    "def objective(trial):\n",
    "    learning_rate = trial.suggest_float('learning_rate', 1e-5, 1e-1)\n",
    "    num_epochs = trial.suggest_int('num_epochs', 1, 100)\n",
    "    embedding_dim = trial.suggest_int('embedding_dim', 4, 128)\n",
    "    \n",
    "    model = mm.MatrixFactorizationModel(train_set_transformed.schema, embedding_dim)\n",
    "\n",
    "    optimizer = tf.keras.optimizers.Adam(learning_rate=learning_rate)\n",
    "    loss = tf.keras.losses.CategoricalCrossentropy(\n",
    "        from_logits=True, label_smoothing=0,\n",
    "    )\n",
    "\n",
    "    model.compile(optimizer, loss=loss)\n",
    "\n",
    "    model.fit(train_set_transformed, validation_data=validation_set_transformed, batch_size=1024, epochs=num_epochs)\n",
    "    \n",
    "    return calcualate_hit_rate_at_100(model)"
   ]
  },
  {
   "cell_type": "code",
   "execution_count": 11,
   "id": "dddb69fd",
   "metadata": {},
   "outputs": [],
   "source": [
    "search_space = {\n",
    "    'learning_rate': [5e-3, 1e-3, 1e-4],\n",
    "    'num_epochs': [1, 3, 6, 10],\n",
    "    'embedding_dim': [8, 16, 24, 32]\n",
    "}"
   ]
  },
  {
   "cell_type": "markdown",
   "id": "59689fb0",
   "metadata": {},
   "source": [
    "Our `study` will execute 48 trials (4 * 4 * 3) for us. I am capturing the output below as otherwise the notebook would be very hard to read.\n",
    "\n",
    "We will use a `GridSampler` that will iterate over all the possible combinations of the hyperaparams we chose for our study. This is just one of the many ways supported by `Optuna` for exploring the hyperparam space.\n",
    "\n",
    "We set the `n_trials` parameter to 100. Still, `Optuna` will only run 48 runs and will terminate when it has tested all the possible hyperaparameter combinations."
   ]
  },
  {
   "cell_type": "code",
   "execution_count": 12,
   "id": "ee10a02b",
   "metadata": {},
   "outputs": [
    {
     "name": "stderr",
     "output_type": "stream",
     "text": [
      "\u001b[32m[I 2022-10-04 07:47:01,350]\u001b[0m A new study created in memory with name: no-name-5bbf326d-1160-4509-9f31-e151b817967e\u001b[0m\n"
     ]
    },
    {
     "name": "stdout",
     "output_type": "stream",
     "text": [
      "INFO:tensorflow:Assets written to: /tmp/tmp3qtqqwdb/assets\n",
      "WARNING:tensorflow:No training configuration found in save file, so the model was *not* compiled. Compile it manually.\n"
     ]
    },
    {
     "name": "stderr",
     "output_type": "stream",
     "text": [
      "\u001b[32m[I 2022-10-04 07:47:36,883]\u001b[0m Trial 0 finished with value: 2710.0 and parameters: {'learning_rate': 0.005, 'num_epochs': 1, 'embedding_dim': 8}. Best is trial 0 with value: 2710.0.\u001b[0m\n"
     ]
    },
    {
     "name": "stdout",
     "output_type": "stream",
     "text": [
      "INFO:tensorflow:Assets written to: /tmp/tmpf3l6ix__/assets\n",
      "WARNING:tensorflow:No training configuration found in save file, so the model was *not* compiled. Compile it manually.\n"
     ]
    },
    {
     "name": "stderr",
     "output_type": "stream",
     "text": [
      "\u001b[32m[I 2022-10-04 07:48:08,032]\u001b[0m Trial 1 finished with value: 4459.0 and parameters: {'learning_rate': 0.001, 'num_epochs': 1, 'embedding_dim': 8}. Best is trial 1 with value: 4459.0.\u001b[0m\n"
     ]
    },
    {
     "name": "stdout",
     "output_type": "stream",
     "text": [
      "INFO:tensorflow:Assets written to: /tmp/tmpnr242ybh/assets\n",
      "WARNING:tensorflow:No training configuration found in save file, so the model was *not* compiled. Compile it manually.\n"
     ]
    },
    {
     "name": "stderr",
     "output_type": "stream",
     "text": [
      "\u001b[32m[I 2022-10-04 07:48:39,746]\u001b[0m Trial 2 finished with value: 259.0 and parameters: {'learning_rate': 0.0001, 'num_epochs': 1, 'embedding_dim': 8}. Best is trial 1 with value: 4459.0.\u001b[0m\n"
     ]
    },
    {
     "name": "stdout",
     "output_type": "stream",
     "text": [
      "INFO:tensorflow:Assets written to: /tmp/tmpvml9jchh/assets\n",
      "WARNING:tensorflow:No training configuration found in save file, so the model was *not* compiled. Compile it manually.\n"
     ]
    },
    {
     "name": "stderr",
     "output_type": "stream",
     "text": [
      "\u001b[32m[I 2022-10-04 07:49:55,027]\u001b[0m Trial 3 finished with value: 1148.0 and parameters: {'learning_rate': 0.0001, 'num_epochs': 3, 'embedding_dim': 16}. Best is trial 1 with value: 4459.0.\u001b[0m\n"
     ]
    },
    {
     "name": "stdout",
     "output_type": "stream",
     "text": [
      "INFO:tensorflow:Assets written to: /tmp/tmpj3e8n6eo/assets\n",
      "WARNING:tensorflow:No training configuration found in save file, so the model was *not* compiled. Compile it manually.\n"
     ]
    },
    {
     "name": "stderr",
     "output_type": "stream",
     "text": [
      "\u001b[32m[I 2022-10-04 07:51:12,957]\u001b[0m Trial 4 finished with value: 5378.0 and parameters: {'learning_rate': 0.001, 'num_epochs': 3, 'embedding_dim': 16}. Best is trial 4 with value: 5378.0.\u001b[0m\n"
     ]
    },
    {
     "name": "stdout",
     "output_type": "stream",
     "text": [
      "INFO:tensorflow:Assets written to: /tmp/tmpiyovu7ui/assets\n",
      "WARNING:tensorflow:No training configuration found in save file, so the model was *not* compiled. Compile it manually.\n"
     ]
    },
    {
     "name": "stderr",
     "output_type": "stream",
     "text": [
      "\u001b[32m[I 2022-10-04 07:53:39,874]\u001b[0m Trial 5 finished with value: 4047.0 and parameters: {'learning_rate': 0.005, 'num_epochs': 6, 'embedding_dim': 32}. Best is trial 4 with value: 5378.0.\u001b[0m\n"
     ]
    },
    {
     "name": "stdout",
     "output_type": "stream",
     "text": [
      "INFO:tensorflow:Assets written to: /tmp/tmp5qxhm_ny/assets\n",
      "WARNING:tensorflow:No training configuration found in save file, so the model was *not* compiled. Compile it manually.\n"
     ]
    },
    {
     "name": "stderr",
     "output_type": "stream",
     "text": [
      "\u001b[32m[I 2022-10-04 07:55:56,903]\u001b[0m Trial 6 finished with value: 3706.0 and parameters: {'learning_rate': 0.005, 'num_epochs': 6, 'embedding_dim': 24}. Best is trial 4 with value: 5378.0.\u001b[0m\n"
     ]
    },
    {
     "name": "stdout",
     "output_type": "stream",
     "text": [
      "INFO:tensorflow:Assets written to: /tmp/tmpbvpcssh5/assets\n",
      "WARNING:tensorflow:No training configuration found in save file, so the model was *not* compiled. Compile it manually.\n"
     ]
    },
    {
     "name": "stderr",
     "output_type": "stream",
     "text": [
      "\u001b[32m[I 2022-10-04 07:58:14,180]\u001b[0m Trial 7 finished with value: 3446.0 and parameters: {'learning_rate': 0.0001, 'num_epochs': 6, 'embedding_dim': 16}. Best is trial 4 with value: 5378.0.\u001b[0m\n"
     ]
    },
    {
     "name": "stdout",
     "output_type": "stream",
     "text": [
      "INFO:tensorflow:Assets written to: /tmp/tmpd_itwph6/assets\n",
      "WARNING:tensorflow:No training configuration found in save file, so the model was *not* compiled. Compile it manually.\n"
     ]
    },
    {
     "name": "stderr",
     "output_type": "stream",
     "text": [
      "\u001b[32m[I 2022-10-04 08:00:32,115]\u001b[0m Trial 8 finished with value: 3955.0 and parameters: {'learning_rate': 0.001, 'num_epochs': 6, 'embedding_dim': 8}. Best is trial 4 with value: 5378.0.\u001b[0m\n"
     ]
    },
    {
     "name": "stdout",
     "output_type": "stream",
     "text": [
      "INFO:tensorflow:Assets written to: /tmp/tmp5fnal0x1/assets\n",
      "WARNING:tensorflow:No training configuration found in save file, so the model was *not* compiled. Compile it manually.\n"
     ]
    },
    {
     "name": "stderr",
     "output_type": "stream",
     "text": [
      "\u001b[32m[I 2022-10-04 08:01:43,008]\u001b[0m Trial 9 finished with value: 961.0 and parameters: {'learning_rate': 0.0001, 'num_epochs': 3, 'embedding_dim': 8}. Best is trial 4 with value: 5378.0.\u001b[0m\n"
     ]
    },
    {
     "name": "stdout",
     "output_type": "stream",
     "text": [
      "INFO:tensorflow:Assets written to: /tmp/tmp6g7qphhh/assets\n",
      "WARNING:tensorflow:No training configuration found in save file, so the model was *not* compiled. Compile it manually.\n"
     ]
    },
    {
     "name": "stderr",
     "output_type": "stream",
     "text": [
      "\u001b[32m[I 2022-10-04 08:02:13,743]\u001b[0m Trial 10 finished with value: 5554.0 and parameters: {'learning_rate': 0.001, 'num_epochs': 1, 'embedding_dim': 24}. Best is trial 10 with value: 5554.0.\u001b[0m\n"
     ]
    },
    {
     "name": "stdout",
     "output_type": "stream",
     "text": [
      "INFO:tensorflow:Assets written to: /tmp/tmpuzsjats6/assets\n",
      "WARNING:tensorflow:No training configuration found in save file, so the model was *not* compiled. Compile it manually.\n"
     ]
    },
    {
     "name": "stderr",
     "output_type": "stream",
     "text": [
      "\u001b[32m[I 2022-10-04 08:04:39,469]\u001b[0m Trial 11 finished with value: 3241.0 and parameters: {'learning_rate': 0.005, 'num_epochs': 6, 'embedding_dim': 16}. Best is trial 10 with value: 5554.0.\u001b[0m\n"
     ]
    },
    {
     "name": "stdout",
     "output_type": "stream",
     "text": [
      "INFO:tensorflow:Assets written to: /tmp/tmp9ej83yqy/assets\n",
      "WARNING:tensorflow:No training configuration found in save file, so the model was *not* compiled. Compile it manually.\n"
     ]
    },
    {
     "name": "stderr",
     "output_type": "stream",
     "text": [
      "\u001b[32m[I 2022-10-04 08:06:03,631]\u001b[0m Trial 12 finished with value: 6710.0 and parameters: {'learning_rate': 0.001, 'num_epochs': 3, 'embedding_dim': 32}. Best is trial 12 with value: 6710.0.\u001b[0m\n"
     ]
    },
    {
     "name": "stdout",
     "output_type": "stream",
     "text": [
      "INFO:tensorflow:Assets written to: /tmp/tmp4onpd4v3/assets\n",
      "WARNING:tensorflow:No training configuration found in save file, so the model was *not* compiled. Compile it manually.\n"
     ]
    },
    {
     "name": "stderr",
     "output_type": "stream",
     "text": [
      "\u001b[32m[I 2022-10-04 08:06:35,959]\u001b[0m Trial 13 finished with value: 5965.0 and parameters: {'learning_rate': 0.001, 'num_epochs': 1, 'embedding_dim': 32}. Best is trial 12 with value: 6710.0.\u001b[0m\n"
     ]
    },
    {
     "name": "stdout",
     "output_type": "stream",
     "text": [
      "INFO:tensorflow:Assets written to: /tmp/tmpjff_iflz/assets\n",
      "WARNING:tensorflow:No training configuration found in save file, so the model was *not* compiled. Compile it manually.\n"
     ]
    },
    {
     "name": "stderr",
     "output_type": "stream",
     "text": [
      "\u001b[32m[I 2022-10-04 08:07:57,638]\u001b[0m Trial 14 finished with value: 4747.0 and parameters: {'learning_rate': 0.005, 'num_epochs': 3, 'embedding_dim': 32}. Best is trial 12 with value: 6710.0.\u001b[0m\n"
     ]
    },
    {
     "name": "stdout",
     "output_type": "stream",
     "text": [
      "INFO:tensorflow:Assets written to: /tmp/tmpvejsub7d/assets\n",
      "WARNING:tensorflow:No training configuration found in save file, so the model was *not* compiled. Compile it manually.\n"
     ]
    },
    {
     "name": "stderr",
     "output_type": "stream",
     "text": [
      "\u001b[32m[I 2022-10-04 08:09:13,682]\u001b[0m Trial 15 finished with value: 4338.0 and parameters: {'learning_rate': 0.005, 'num_epochs': 3, 'embedding_dim': 16}. Best is trial 12 with value: 6710.0.\u001b[0m\n"
     ]
    },
    {
     "name": "stdout",
     "output_type": "stream",
     "text": [
      "INFO:tensorflow:Assets written to: /tmp/tmpv040yv4m/assets\n",
      "WARNING:tensorflow:No training configuration found in save file, so the model was *not* compiled. Compile it manually.\n"
     ]
    },
    {
     "name": "stderr",
     "output_type": "stream",
     "text": [
      "\u001b[32m[I 2022-10-04 08:10:29,144]\u001b[0m Trial 16 finished with value: 4434.0 and parameters: {'learning_rate': 0.001, 'num_epochs': 3, 'embedding_dim': 8}. Best is trial 12 with value: 6710.0.\u001b[0m\n"
     ]
    },
    {
     "name": "stdout",
     "output_type": "stream",
     "text": [
      "INFO:tensorflow:Assets written to: /tmp/tmpn9jy7fl7/assets\n",
      "WARNING:tensorflow:No training configuration found in save file, so the model was *not* compiled. Compile it manually.\n"
     ]
    },
    {
     "name": "stderr",
     "output_type": "stream",
     "text": [
      "\u001b[32m[I 2022-10-04 08:14:23,749]\u001b[0m Trial 17 finished with value: 3087.0 and parameters: {'learning_rate': 0.005, 'num_epochs': 10, 'embedding_dim': 16}. Best is trial 12 with value: 6710.0.\u001b[0m\n"
     ]
    },
    {
     "name": "stdout",
     "output_type": "stream",
     "text": [
      "INFO:tensorflow:Assets written to: /tmp/tmpjcxobs2b/assets\n",
      "WARNING:tensorflow:No training configuration found in save file, so the model was *not* compiled. Compile it manually.\n"
     ]
    },
    {
     "name": "stderr",
     "output_type": "stream",
     "text": [
      "\u001b[32m[I 2022-10-04 08:18:16,616]\u001b[0m Trial 18 finished with value: 4595.0 and parameters: {'learning_rate': 0.0001, 'num_epochs': 10, 'embedding_dim': 8}. Best is trial 12 with value: 6710.0.\u001b[0m\n"
     ]
    },
    {
     "name": "stdout",
     "output_type": "stream",
     "text": [
      "INFO:tensorflow:Assets written to: /tmp/tmpmiwbc2bb/assets\n",
      "WARNING:tensorflow:No training configuration found in save file, so the model was *not* compiled. Compile it manually.\n"
     ]
    },
    {
     "name": "stderr",
     "output_type": "stream",
     "text": [
      "\u001b[32m[I 2022-10-04 08:22:13,229]\u001b[0m Trial 19 finished with value: 5598.0 and parameters: {'learning_rate': 0.001, 'num_epochs': 10, 'embedding_dim': 16}. Best is trial 12 with value: 6710.0.\u001b[0m\n"
     ]
    },
    {
     "name": "stdout",
     "output_type": "stream",
     "text": [
      "INFO:tensorflow:Assets written to: /tmp/tmpdmnv5mob/assets\n",
      "WARNING:tensorflow:No training configuration found in save file, so the model was *not* compiled. Compile it manually.\n"
     ]
    },
    {
     "name": "stderr",
     "output_type": "stream",
     "text": [
      "\u001b[32m[I 2022-10-04 08:23:35,761]\u001b[0m Trial 20 finished with value: 4628.0 and parameters: {'learning_rate': 0.005, 'num_epochs': 3, 'embedding_dim': 24}. Best is trial 12 with value: 6710.0.\u001b[0m\n"
     ]
    },
    {
     "name": "stdout",
     "output_type": "stream",
     "text": [
      "INFO:tensorflow:Assets written to: /tmp/tmpxqkz17qs/assets\n",
      "WARNING:tensorflow:No training configuration found in save file, so the model was *not* compiled. Compile it manually.\n"
     ]
    },
    {
     "name": "stderr",
     "output_type": "stream",
     "text": [
      "\u001b[32m[I 2022-10-04 08:27:48,907]\u001b[0m Trial 21 finished with value: 4071.0 and parameters: {'learning_rate': 0.005, 'num_epochs': 10, 'embedding_dim': 32}. Best is trial 12 with value: 6710.0.\u001b[0m\n"
     ]
    },
    {
     "name": "stdout",
     "output_type": "stream",
     "text": [
      "INFO:tensorflow:Assets written to: /tmp/tmp9bujh21z/assets\n",
      "WARNING:tensorflow:No training configuration found in save file, so the model was *not* compiled. Compile it manually.\n"
     ]
    },
    {
     "name": "stderr",
     "output_type": "stream",
     "text": [
      "\u001b[32m[I 2022-10-04 08:28:22,732]\u001b[0m Trial 22 finished with value: 4944.0 and parameters: {'learning_rate': 0.005, 'num_epochs': 1, 'embedding_dim': 32}. Best is trial 12 with value: 6710.0.\u001b[0m\n"
     ]
    },
    {
     "name": "stdout",
     "output_type": "stream",
     "text": [
      "INFO:tensorflow:Assets written to: /tmp/tmp64aier1x/assets\n",
      "WARNING:tensorflow:No training configuration found in save file, so the model was *not* compiled. Compile it manually.\n"
     ]
    },
    {
     "name": "stderr",
     "output_type": "stream",
     "text": [
      "\u001b[32m[I 2022-10-04 08:28:56,495]\u001b[0m Trial 23 finished with value: 281.0 and parameters: {'learning_rate': 0.0001, 'num_epochs': 1, 'embedding_dim': 32}. Best is trial 12 with value: 6710.0.\u001b[0m\n"
     ]
    },
    {
     "name": "stdout",
     "output_type": "stream",
     "text": [
      "INFO:tensorflow:Assets written to: /tmp/tmpywtgooth/assets\n",
      "WARNING:tensorflow:No training configuration found in save file, so the model was *not* compiled. Compile it manually.\n"
     ]
    },
    {
     "name": "stderr",
     "output_type": "stream",
     "text": [
      "\u001b[32m[I 2022-10-04 08:31:32,709]\u001b[0m Trial 24 finished with value: 4153.0 and parameters: {'learning_rate': 0.0001, 'num_epochs': 6, 'embedding_dim': 32}. Best is trial 12 with value: 6710.0.\u001b[0m\n"
     ]
    },
    {
     "name": "stdout",
     "output_type": "stream",
     "text": [
      "INFO:tensorflow:Assets written to: /tmp/tmpy7ioc832/assets\n",
      "WARNING:tensorflow:No training configuration found in save file, so the model was *not* compiled. Compile it manually.\n"
     ]
    },
    {
     "name": "stderr",
     "output_type": "stream",
     "text": [
      "\u001b[32m[I 2022-10-04 08:32:50,880]\u001b[0m Trial 25 finished with value: 6447.0 and parameters: {'learning_rate': 0.001, 'num_epochs': 3, 'embedding_dim': 24}. Best is trial 12 with value: 6710.0.\u001b[0m\n"
     ]
    },
    {
     "name": "stdout",
     "output_type": "stream",
     "text": [
      "INFO:tensorflow:Assets written to: /tmp/tmp49s2tn10/assets\n",
      "WARNING:tensorflow:No training configuration found in save file, so the model was *not* compiled. Compile it manually.\n"
     ]
    },
    {
     "name": "stderr",
     "output_type": "stream",
     "text": [
      "\u001b[32m[I 2022-10-04 08:33:24,464]\u001b[0m Trial 26 finished with value: 293.0 and parameters: {'learning_rate': 0.0001, 'num_epochs': 1, 'embedding_dim': 24}. Best is trial 12 with value: 6710.0.\u001b[0m\n"
     ]
    },
    {
     "name": "stdout",
     "output_type": "stream",
     "text": [
      "INFO:tensorflow:Assets written to: /tmp/tmppju8rml4/assets\n",
      "WARNING:tensorflow:No training configuration found in save file, so the model was *not* compiled. Compile it manually.\n"
     ]
    },
    {
     "name": "stderr",
     "output_type": "stream",
     "text": [
      "\u001b[32m[I 2022-10-04 08:34:36,198]\u001b[0m Trial 27 finished with value: 3377.0 and parameters: {'learning_rate': 0.005, 'num_epochs': 3, 'embedding_dim': 8}. Best is trial 12 with value: 6710.0.\u001b[0m\n"
     ]
    },
    {
     "name": "stdout",
     "output_type": "stream",
     "text": [
      "INFO:tensorflow:Assets written to: /tmp/tmpz04ig3q3/assets\n",
      "WARNING:tensorflow:No training configuration found in save file, so the model was *not* compiled. Compile it manually.\n"
     ]
    },
    {
     "name": "stderr",
     "output_type": "stream",
     "text": [
      "\u001b[32m[I 2022-10-04 08:38:20,949]\u001b[0m Trial 28 finished with value: 2020.0 and parameters: {'learning_rate': 0.005, 'num_epochs': 10, 'embedding_dim': 8}. Best is trial 12 with value: 6710.0.\u001b[0m\n"
     ]
    },
    {
     "name": "stdout",
     "output_type": "stream",
     "text": [
      "INFO:tensorflow:Assets written to: /tmp/tmpkzhgwwrl/assets\n",
      "WARNING:tensorflow:No training configuration found in save file, so the model was *not* compiled. Compile it manually.\n"
     ]
    },
    {
     "name": "stderr",
     "output_type": "stream",
     "text": [
      "\u001b[32m[I 2022-10-04 08:42:27,707]\u001b[0m Trial 29 finished with value: 6249.0 and parameters: {'learning_rate': 0.001, 'num_epochs': 10, 'embedding_dim': 32}. Best is trial 12 with value: 6710.0.\u001b[0m\n"
     ]
    },
    {
     "name": "stdout",
     "output_type": "stream",
     "text": [
      "INFO:tensorflow:Assets written to: /tmp/tmp4fkddg3d/assets\n",
      "WARNING:tensorflow:No training configuration found in save file, so the model was *not* compiled. Compile it manually.\n"
     ]
    },
    {
     "name": "stderr",
     "output_type": "stream",
     "text": [
      "\u001b[32m[I 2022-10-04 08:46:16,290]\u001b[0m Trial 30 finished with value: 4009.0 and parameters: {'learning_rate': 0.001, 'num_epochs': 10, 'embedding_dim': 8}. Best is trial 12 with value: 6710.0.\u001b[0m\n"
     ]
    },
    {
     "name": "stdout",
     "output_type": "stream",
     "text": [
      "INFO:tensorflow:Assets written to: /tmp/tmpfmcn2_j9/assets\n",
      "WARNING:tensorflow:No training configuration found in save file, so the model was *not* compiled. Compile it manually.\n"
     ]
    },
    {
     "name": "stderr",
     "output_type": "stream",
     "text": [
      "\u001b[32m[I 2022-10-04 08:48:51,938]\u001b[0m Trial 31 finished with value: 6812.0 and parameters: {'learning_rate': 0.001, 'num_epochs': 6, 'embedding_dim': 32}. Best is trial 31 with value: 6812.0.\u001b[0m\n"
     ]
    },
    {
     "name": "stdout",
     "output_type": "stream",
     "text": [
      "INFO:tensorflow:Assets written to: /tmp/tmp6vlk0dxq/assets\n",
      "WARNING:tensorflow:No training configuration found in save file, so the model was *not* compiled. Compile it manually.\n"
     ]
    },
    {
     "name": "stderr",
     "output_type": "stream",
     "text": [
      "\u001b[32m[I 2022-10-04 08:49:23,913]\u001b[0m Trial 32 finished with value: 3925.0 and parameters: {'learning_rate': 0.005, 'num_epochs': 1, 'embedding_dim': 16}. Best is trial 31 with value: 6812.0.\u001b[0m\n"
     ]
    },
    {
     "name": "stdout",
     "output_type": "stream",
     "text": [
      "INFO:tensorflow:Assets written to: /tmp/tmp12jyqioj/assets\n",
      "WARNING:tensorflow:No training configuration found in save file, so the model was *not* compiled. Compile it manually.\n"
     ]
    },
    {
     "name": "stderr",
     "output_type": "stream",
     "text": [
      "\u001b[32m[I 2022-10-04 08:53:36,826]\u001b[0m Trial 33 finished with value: 6195.0 and parameters: {'learning_rate': 0.0001, 'num_epochs': 10, 'embedding_dim': 32}. Best is trial 31 with value: 6812.0.\u001b[0m\n"
     ]
    },
    {
     "name": "stdout",
     "output_type": "stream",
     "text": [
      "INFO:tensorflow:Assets written to: /tmp/tmp2yvuvm67/assets\n",
      "WARNING:tensorflow:No training configuration found in save file, so the model was *not* compiled. Compile it manually.\n"
     ]
    },
    {
     "name": "stderr",
     "output_type": "stream",
     "text": [
      "\u001b[32m[I 2022-10-04 08:57:30,586]\u001b[0m Trial 34 finished with value: 6165.0 and parameters: {'learning_rate': 0.001, 'num_epochs': 10, 'embedding_dim': 24}. Best is trial 31 with value: 6812.0.\u001b[0m\n"
     ]
    },
    {
     "name": "stdout",
     "output_type": "stream",
     "text": [
      "INFO:tensorflow:Assets written to: /tmp/tmpx2mhobyf/assets\n",
      "WARNING:tensorflow:No training configuration found in save file, so the model was *not* compiled. Compile it manually.\n"
     ]
    },
    {
     "name": "stderr",
     "output_type": "stream",
     "text": [
      "\u001b[32m[I 2022-10-04 08:59:58,350]\u001b[0m Trial 35 finished with value: 6124.0 and parameters: {'learning_rate': 0.001, 'num_epochs': 6, 'embedding_dim': 16}. Best is trial 31 with value: 6812.0.\u001b[0m\n"
     ]
    },
    {
     "name": "stdout",
     "output_type": "stream",
     "text": [
      "INFO:tensorflow:Assets written to: /tmp/tmpfb1ee2c5/assets\n",
      "WARNING:tensorflow:No training configuration found in save file, so the model was *not* compiled. Compile it manually.\n"
     ]
    },
    {
     "name": "stderr",
     "output_type": "stream",
     "text": [
      "\u001b[32m[I 2022-10-04 09:00:30,253]\u001b[0m Trial 36 finished with value: 4490.0 and parameters: {'learning_rate': 0.005, 'num_epochs': 1, 'embedding_dim': 24}. Best is trial 31 with value: 6812.0.\u001b[0m\n"
     ]
    },
    {
     "name": "stdout",
     "output_type": "stream",
     "text": [
      "INFO:tensorflow:Assets written to: /tmp/tmpvvmccjib/assets\n",
      "WARNING:tensorflow:No training configuration found in save file, so the model was *not* compiled. Compile it manually.\n"
     ]
    },
    {
     "name": "stderr",
     "output_type": "stream",
     "text": [
      "\u001b[32m[I 2022-10-04 09:01:02,002]\u001b[0m Trial 37 finished with value: 5113.0 and parameters: {'learning_rate': 0.001, 'num_epochs': 1, 'embedding_dim': 16}. Best is trial 31 with value: 6812.0.\u001b[0m\n"
     ]
    },
    {
     "name": "stdout",
     "output_type": "stream",
     "text": [
      "INFO:tensorflow:Assets written to: /tmp/tmp2numy33_/assets\n",
      "WARNING:tensorflow:No training configuration found in save file, so the model was *not* compiled. Compile it manually.\n"
     ]
    },
    {
     "name": "stderr",
     "output_type": "stream",
     "text": [
      "\u001b[32m[I 2022-10-04 09:02:24,853]\u001b[0m Trial 38 finished with value: 1236.0 and parameters: {'learning_rate': 0.0001, 'num_epochs': 3, 'embedding_dim': 32}. Best is trial 31 with value: 6812.0.\u001b[0m\n"
     ]
    },
    {
     "name": "stdout",
     "output_type": "stream",
     "text": [
      "INFO:tensorflow:Assets written to: /tmp/tmpnj_zsglg/assets\n",
      "WARNING:tensorflow:No training configuration found in save file, so the model was *not* compiled. Compile it manually.\n"
     ]
    },
    {
     "name": "stderr",
     "output_type": "stream",
     "text": [
      "\u001b[32m[I 2022-10-04 09:03:43,660]\u001b[0m Trial 39 finished with value: 1201.0 and parameters: {'learning_rate': 0.0001, 'num_epochs': 3, 'embedding_dim': 24}. Best is trial 31 with value: 6812.0.\u001b[0m\n"
     ]
    },
    {
     "name": "stdout",
     "output_type": "stream",
     "text": [
      "INFO:tensorflow:Assets written to: /tmp/tmp4nngm36s/assets\n",
      "WARNING:tensorflow:No training configuration found in save file, so the model was *not* compiled. Compile it manually.\n"
     ]
    },
    {
     "name": "stderr",
     "output_type": "stream",
     "text": [
      "\u001b[32m[I 2022-10-04 09:06:07,186]\u001b[0m Trial 40 finished with value: 3866.0 and parameters: {'learning_rate': 0.0001, 'num_epochs': 6, 'embedding_dim': 24}. Best is trial 31 with value: 6812.0.\u001b[0m\n"
     ]
    },
    {
     "name": "stdout",
     "output_type": "stream",
     "text": [
      "INFO:tensorflow:Assets written to: /tmp/tmpfqvz385c/assets\n",
      "WARNING:tensorflow:No training configuration found in save file, so the model was *not* compiled. Compile it manually.\n"
     ]
    },
    {
     "name": "stderr",
     "output_type": "stream",
     "text": [
      "\u001b[32m[I 2022-10-04 09:10:23,140]\u001b[0m Trial 41 finished with value: 3716.0 and parameters: {'learning_rate': 0.005, 'num_epochs': 10, 'embedding_dim': 24}. Best is trial 31 with value: 6812.0.\u001b[0m\n"
     ]
    },
    {
     "name": "stdout",
     "output_type": "stream",
     "text": [
      "INFO:tensorflow:Assets written to: /tmp/tmp8fm5krfa/assets\n",
      "WARNING:tensorflow:No training configuration found in save file, so the model was *not* compiled. Compile it manually.\n"
     ]
    },
    {
     "name": "stderr",
     "output_type": "stream",
     "text": [
      "\u001b[32m[I 2022-10-04 09:12:41,196]\u001b[0m Trial 42 finished with value: 2521.0 and parameters: {'learning_rate': 0.005, 'num_epochs': 6, 'embedding_dim': 8}. Best is trial 31 with value: 6812.0.\u001b[0m\n"
     ]
    },
    {
     "name": "stdout",
     "output_type": "stream",
     "text": [
      "INFO:tensorflow:Assets written to: /tmp/tmpzbfqtb2z/assets\n",
      "WARNING:tensorflow:No training configuration found in save file, so the model was *not* compiled. Compile it manually.\n"
     ]
    },
    {
     "name": "stderr",
     "output_type": "stream",
     "text": [
      "\u001b[32m[I 2022-10-04 09:16:38,086]\u001b[0m Trial 43 finished with value: 5591.0 and parameters: {'learning_rate': 0.0001, 'num_epochs': 10, 'embedding_dim': 24}. Best is trial 31 with value: 6812.0.\u001b[0m\n"
     ]
    },
    {
     "name": "stdout",
     "output_type": "stream",
     "text": [
      "INFO:tensorflow:Assets written to: /tmp/tmpjpimhcjw/assets\n",
      "WARNING:tensorflow:No training configuration found in save file, so the model was *not* compiled. Compile it manually.\n"
     ]
    },
    {
     "name": "stderr",
     "output_type": "stream",
     "text": [
      "\u001b[32m[I 2022-10-04 09:20:32,254]\u001b[0m Trial 44 finished with value: 4899.0 and parameters: {'learning_rate': 0.0001, 'num_epochs': 10, 'embedding_dim': 16}. Best is trial 31 with value: 6812.0.\u001b[0m\n"
     ]
    },
    {
     "name": "stdout",
     "output_type": "stream",
     "text": [
      "INFO:tensorflow:Assets written to: /tmp/tmp4klk9cx1/assets\n",
      "WARNING:tensorflow:No training configuration found in save file, so the model was *not* compiled. Compile it manually.\n"
     ]
    },
    {
     "name": "stderr",
     "output_type": "stream",
     "text": [
      "\u001b[32m[I 2022-10-04 09:22:56,566]\u001b[0m Trial 45 finished with value: 3480.0 and parameters: {'learning_rate': 0.0001, 'num_epochs': 6, 'embedding_dim': 8}. Best is trial 31 with value: 6812.0.\u001b[0m\n"
     ]
    },
    {
     "name": "stdout",
     "output_type": "stream",
     "text": [
      "INFO:tensorflow:Assets written to: /tmp/tmp_xwd6x73/assets\n",
      "WARNING:tensorflow:No training configuration found in save file, so the model was *not* compiled. Compile it manually.\n"
     ]
    },
    {
     "name": "stderr",
     "output_type": "stream",
     "text": [
      "\u001b[32m[I 2022-10-04 09:23:28,992]\u001b[0m Trial 46 finished with value: 237.0 and parameters: {'learning_rate': 0.0001, 'num_epochs': 1, 'embedding_dim': 16}. Best is trial 31 with value: 6812.0.\u001b[0m\n"
     ]
    },
    {
     "name": "stdout",
     "output_type": "stream",
     "text": [
      "INFO:tensorflow:Assets written to: /tmp/tmpfkile1af/assets\n",
      "WARNING:tensorflow:No training configuration found in save file, so the model was *not* compiled. Compile it manually.\n"
     ]
    },
    {
     "name": "stderr",
     "output_type": "stream",
     "text": [
      "\u001b[32m[I 2022-10-04 09:26:01,694]\u001b[0m Trial 47 finished with value: 6448.0 and parameters: {'learning_rate': 0.001, 'num_epochs': 6, 'embedding_dim': 24}. Best is trial 31 with value: 6812.0.\u001b[0m\n"
     ]
    }
   ],
   "source": [
    "%%capture\n",
    "\n",
    "study = optuna.create_study(sampler=optuna.samplers.GridSampler(search_space), direction='maximize')\n",
    "study.optimize(objective, n_trials=100)"
   ]
  },
  {
   "cell_type": "markdown",
   "id": "32339a69",
   "metadata": {},
   "source": [
    "Now that we have performed hyperparameter optimization (a `study` in `Optuna`'s parlance), let's explore the results.\n",
    "\n",
    "We can query the `study` for the best parameters along with te best attained result."
   ]
  },
  {
   "cell_type": "code",
   "execution_count": 13,
   "id": "0eafa7eb",
   "metadata": {},
   "outputs": [
    {
     "data": {
      "text/plain": [
       "{'learning_rate': 0.001, 'num_epochs': 6, 'embedding_dim': 32}"
      ]
     },
     "execution_count": 13,
     "metadata": {},
     "output_type": "execute_result"
    }
   ],
   "source": [
    "study.best_params"
   ]
  },
  {
   "cell_type": "code",
   "execution_count": 14,
   "id": "4d339ed3",
   "metadata": {},
   "outputs": [
    {
     "data": {
      "text/plain": [
       "6812.0"
      ]
     },
     "execution_count": 14,
     "metadata": {},
     "output_type": "execute_result"
    }
   ],
   "source": [
    "study.best_value"
   ]
  },
  {
   "cell_type": "markdown",
   "id": "da1b7913",
   "metadata": {},
   "source": [
    "We can also query the `study` for the number of `trials` that have been run."
   ]
  },
  {
   "cell_type": "code",
   "execution_count": 18,
   "id": "6318392c",
   "metadata": {},
   "outputs": [
    {
     "data": {
      "text/plain": [
       "48"
      ]
     },
     "execution_count": 18,
     "metadata": {},
     "output_type": "execute_result"
    }
   ],
   "source": [
    "len(study.trials)"
   ]
  },
  {
   "cell_type": "markdown",
   "id": "c9f44414",
   "metadata": {},
   "source": [
    "And if we would like, we can also take a look at each individual run as follows."
   ]
  },
  {
   "cell_type": "code",
   "execution_count": 19,
   "id": "24fad39d",
   "metadata": {},
   "outputs": [
    {
     "data": {
      "text/plain": [
       "FrozenTrial(number=0, values=[2710.0], datetime_start=datetime.datetime(2022, 10, 4, 7, 47, 1, 350748), datetime_complete=datetime.datetime(2022, 10, 4, 7, 47, 36, 883536), params={'learning_rate': 0.005, 'num_epochs': 1, 'embedding_dim': 8}, distributions={'learning_rate': FloatDistribution(high=0.1, log=False, low=1e-05, step=None), 'num_epochs': IntDistribution(high=100, log=False, low=1, step=1), 'embedding_dim': IntDistribution(high=128, log=False, low=4, step=1)}, user_attrs={}, system_attrs={'search_space': OrderedDict([('embedding_dim', [8, 16, 24, 32]), ('learning_rate', [0.005, 0.001, 0.0001]), ('num_epochs', [1, 3, 6, 10])]), 'grid_id': 0}, intermediate_values={}, trial_id=0, state=TrialState.COMPLETE, value=None)"
      ]
     },
     "execution_count": 19,
     "metadata": {},
     "output_type": "execute_result"
    }
   ],
   "source": [
    "study.trials[0]"
   ]
  },
  {
   "cell_type": "code",
   "execution_count": 20,
   "id": "157adef7",
   "metadata": {},
   "outputs": [
    {
     "data": {
      "text/plain": [
       "{'learning_rate': 0.005, 'num_epochs': 1, 'embedding_dim': 8}"
      ]
     },
     "execution_count": 20,
     "metadata": {},
     "output_type": "execute_result"
    }
   ],
   "source": [
    "study.trials[0].params"
   ]
  },
  {
   "cell_type": "markdown",
   "id": "e0d8eb3a",
   "metadata": {},
   "source": [
    "## Summary"
   ]
  }
 ],
 "metadata": {
  "kernelspec": {
   "display_name": "Python 3 (ipykernel)",
   "language": "python",
   "name": "python3"
  },
  "language_info": {
   "codemirror_mode": {
    "name": "ipython",
    "version": 3
   },
   "file_extension": ".py",
   "mimetype": "text/x-python",
   "name": "python",
   "nbconvert_exporter": "python",
   "pygments_lexer": "ipython3",
   "version": "3.8.10"
  }
 },
 "nbformat": 4,
 "nbformat_minor": 5
}
