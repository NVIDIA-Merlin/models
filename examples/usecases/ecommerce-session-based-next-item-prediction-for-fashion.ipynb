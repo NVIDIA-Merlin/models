{
 "cells": [
  {
   "cell_type": "code",
   "execution_count": 1,
   "id": "cef5df96",
   "metadata": {},
   "outputs": [],
   "source": [
    "# Copyright 2021 NVIDIA Corporation. All Rights Reserved.\n",
    "#\n",
    "# Licensed under the Apache License, Version 2.0 (the \"License\");\n",
    "# you may not use this file except in compliance with the License.\n",
    "# You may obtain a copy of the License at\n",
    "#\n",
    "#     http://www.apache.org/licenses/LICENSE-2.0\n",
    "#\n",
    "# Unless required by applicable law or agreed to in writing, software\n",
    "# distributed under the License is distributed on an \"AS IS\" BASIS,\n",
    "# WITHOUT WARRANTIES OR CONDITIONS OF ANY KIND, either express or implied.\n",
    "# See the License for the specific language governing permissions and\n",
    "# limitations under the License.\n",
    "# =============================================================================="
   ]
  },
  {
   "cell_type": "markdown",
   "id": "854815b0",
   "metadata": {},
   "source": [
    "<img src=\"https://developer.download.nvidia.com/notebooks/dlsw-notebooks/merlin_models_ecommerce-session-based-next-item-prediction-for-fashion/nvidia_logo.png\" style=\"width: 90px; float: right;\">\n",
    "\n",
    "# Session-Based Next Item Prediction for Fashion E-Commerce\n",
    "\n",
    "This notebook is created using the latest stable [merlin-tensorflow](https://catalog.ngc.nvidia.com/orgs/nvidia/teams/merlin/containers/merlin-tensorflow/tags) container. \n",
    "\n",
    "## Overview\n",
    "\n",
    "NVIDIA-Merlin team participated in [Recsys2022 challenge](http://www.recsyschallenge.com/2022/index.html) and secured 3rd position. This notebook contains the various techniques used in the solution.\n",
    "\n",
    "### Learning Objective\n",
    "\n",
    "In this notebook, we will apply important concepts that improve recommender systems. We leveraged them for our RecSys solution:\n",
    "- MultiClass next item prediction head with Merlin Models\n",
    "- Sequential input features representing user sessions\n",
    "- Label Smoothing \n",
    "- Temperature Scaling\n",
    "- Weight Tying\n",
    "- Learning Rate Scheduler\n",
    "\n",
    "### Brief Description of the Concepts\n",
    "\n",
    "##### Label smoothing\n",
    "In recommender systems, we often have noisy datasets. A user cannot view all items to make the best decision. Noisy examples can result in high gradients and confuse the model. Label smoothing addresses the problem of noisy examples by smoothing the porbabilities to avoid high confident predictions.\n",
    "\n",
    "$$  \\begin{array}{l}\n",
    "y_{l} \\ =\\ ( 1\\ -\\ \\alpha \\ ) \\ *\\ y_{o} \\ +\\ ( \\alpha \\ /\\ L)\\\\\n",
    "\\alpha :\\ Label\\ smoothing\\ hyper-parameter\\ ( 0 \\leq \\alpha \\leq 1 ) \\\\\n",
    "L:\\ Total\\ number\\ of\\ label\\ classes\\\\\n",
    "y_{o} :\\ One-hot\\ encoded\\ label\\ vector\n",
    "\\end{array}\n",
    "$$\n",
    "\n",
    "When α is 0, we have the original one-hot encoded labels, and as α increases, we move towards smoothed labels. Read [this](https://arxiv.org/abs/1906.02629) paper to learn more about it.\n",
    "\n",
    "\n",
    "##### Temperature Scaling\n",
    "Similar to Label Smoothing, Temperature Scaling is done to reduce the overconfidence of a model. In this, we divide the logits (inputs to the softmax function) by a scalar parameter (T) . For more information on Temperature Scaling read [this](https://arxiv.org/pdf/1706.04599.pdf) paper.\n",
    "$$ softmax\\ =\\ \\frac{e\\ ^{( z_{i} \\ /\\ \\ T)}}{\\sum _{j} \\ e^{( z_{j} \\ /\\ T)} \\ } $$\n",
    "\n",
    "\n",
    "##### Weight Tying\n",
    "Weight Tying can be applied for Multi-Class Classification problems, when we try to predict items and have previous viewed items as an input. The final output layer (without activation function) is multiplied with the traversed item embeddings, resulting in a vector with a logit for each item id. The advantage is that the gradients flow to the item embeddings are short. For more information read [this](https://arxiv.org/pdf/1608.05859v3.pdf) paper."
   ]
  },
  {
   "cell_type": "markdown",
   "id": "af678b4c",
   "metadata": {},
   "source": [
    "## Downloading and preparing the dataset"
   ]
  },
  {
   "cell_type": "markdown",
   "id": "44ee802a",
   "metadata": {},
   "source": [
    "We will import the required libraries."
   ]
  },
  {
   "cell_type": "code",
   "execution_count": 2,
   "id": "cb0e1975",
   "metadata": {},
   "outputs": [
    {
     "name": "stderr",
     "output_type": "stream",
     "text": [
      "/usr/lib/python3/dist-packages/requests/__init__.py:89: RequestsDependencyWarning: urllib3 (1.26.12) or chardet (3.0.4) doesn't match a supported version!\n",
      "  warnings.warn(\"urllib3 ({}) or chardet ({}) doesn't match a supported \"\n",
      "2022-11-14 21:22:10.143607: I tensorflow/core/platform/cpu_feature_guard.cc:194] This TensorFlow binary is optimized with oneAPI Deep Neural Network Library (oneDNN) to use the following CPU instructions in performance-critical operations:  SSE3 SSE4.1 SSE4.2 AVX\n",
      "To enable them in other operations, rebuild TensorFlow with the appropriate compiler flags.\n",
      "2022-11-14 21:22:11.309216: I tensorflow/core/common_runtime/gpu/gpu_process_state.cc:222] Using CUDA malloc Async allocator for GPU: 0\n",
      "2022-11-14 21:22:11.309303: I tensorflow/core/common_runtime/gpu/gpu_device.cc:1532] Created device /job:localhost/replica:0/task:0/device:GPU:0 with 16254 MB memory:  -> device: 0, name: Quadro GV100, pci bus id: 0000:15:00.0, compute capability: 7.0\n",
      "/usr/local/lib/python3.8/dist-packages/tqdm/auto.py:22: TqdmWarning: IProgress not found. Please update jupyter and ipywidgets. See https://ipywidgets.readthedocs.io/en/stable/user_install.html\n",
      "  from .autonotebook import tqdm as notebook_tqdm\n"
     ]
    }
   ],
   "source": [
    "import os\n",
    "os.environ[\"CUDA_VISIBLE_DEVICES\"]=\"0\"\n",
    "import tensorflow as tf\n",
    "os.environ[\"TF_GPU_ALLOCATOR\"]=\"cuda_malloc_async\"\n",
    "import glob\n",
    "\n",
    "import nvtabular as nvt\n",
    "from merlin.io import Dataset\n",
    "from merlin.schema import Schema, Tags\n",
    "from nvtabular.ops import (\n",
    "    AddMetadata,\n",
    ")\n",
    "\n",
    "from tensorflow.keras import regularizers\n",
    "\n",
    "import merlin.models.tf as mm\n",
    "from merlin.models.tf import InputBlock\n",
    "from merlin.models.tf.models.base import Model\n",
    "from merlin.models.tf.transforms.bias import LogitsTemperatureScaler\n",
    "from merlin.models.tf.prediction_tasks.next_item import ItemsPredictionWeightTying\n",
    "\n",
    "from merlin.core.dispatch import get_lib"
   ]
  },
  {
   "cell_type": "markdown",
   "id": "af92ec55",
   "metadata": {},
   "source": [
    "###  Dressipi\n",
    "[Dressipi](http://www.recsyschallenge.com/2022/dataset.html) hosted the [Recsys2022 challenge](http://www.recsyschallenge.com/2022/index.html) and provided an anonymized dataset. It contains 1.1 M online retail sessions that resulted in a purchase. It provides details about items that were viewed in a session, the item purchased at the end of the session and numerous features of those items. The item features are categorical IDs and are not interpretable.\n",
    "\n",
    "The task of this competition was, given a sequence of items predict which item will be purchased at the end of a session.\n",
    "\n",
    "<img src=\"http://www.recsyschallenge.com/2022/images/session_purchase_data.jpeg\" alt=\"dressipi_dataset\" style=\"width: 400px; float: center;\">  \n"
   ]
  },
  {
   "cell_type": "markdown",
   "id": "7afab83f",
   "metadata": {},
   "source": [
    "### Dataset\n",
    "\n",
    "We provide a function `get_dressipi2022` which preprocess the dataset. Currently, we can't download this dataset automatically so this needs to be downloaded manually. To use this function, prepare the data by following these 3 steps:\n",
    "1. Sign up and download the data from [dressipi-recsys2022.com](https://www.dressipi-recsys2022.com/).\n",
    "2. Unzip the raw data to a directory.\n",
    "3. Define `DATA_FOLDER` to the directory\n",
    "\n",
    "In case you do not want to use this dataset to run our examples, you can also opt for synthetic data. Synthetic data can be generated by running::\n",
    "\n",
    "```python\n",
    "    from merlin.datasets.synthetic import generate_data\n",
    "    train, valid = generate_data(\"dressipi2022-preprocessed\", num_rows=10000, set_sizes=(0.8, 0.2))\n",
    "```"
   ]
  },
  {
   "cell_type": "code",
   "execution_count": 3,
   "id": "bd734f6b",
   "metadata": {},
   "outputs": [],
   "source": [
    "from merlin.datasets.ecommerce import get_dressipi2022\n",
    "\n",
    "DATA_FOLDER = os.environ.get(\n",
    "    \"DATA_FOLDER\", \n",
    "    '/workspace/data/dressipi_recsys2022'\n",
    ")\n",
    "\n",
    "train, valid = get_dressipi2022(DATA_FOLDER)"
   ]
  },
  {
   "cell_type": "markdown",
   "id": "6fb6edf8",
   "metadata": {},
   "source": [
    "The dataset contains:\n",
    "- `session_id`, id of a session, in which a user viewed and purchased an item. \n",
    "- `item_id` which was viewed at a given `timestamp` in a session\n",
    "- `purchase_id` which is the id of item bought at the end of the session \n",
    "\n",
    "In addition to `timestamp`, we have `day` and `date` features for representing the chronological order in which items were viewed.\n",
    "\n",
    "The items in the Dresspi dataset had a many features out of which we took 22 most important features, namely \n",
    "`f_3 ,f_4 ,f_5 ,f_7 ,f_17 ,f_24 ,f_30 ,f_45 ,f_46 ,f_47 ,f_50 ,f_53 ,f_55 ,f_56 ,f_58 ,f_61 ,f_63 ,f_65 ,f_68 ,f_69 ,f_72 ,f_73`."
   ]
  },
  {
   "cell_type": "code",
   "execution_count": 4,
   "id": "7e362d59",
   "metadata": {
    "scrolled": true
   },
   "outputs": [
    {
     "data": {
      "text/html": [
       "<div>\n",
       "<style scoped>\n",
       "    .dataframe tbody tr th:only-of-type {\n",
       "        vertical-align: middle;\n",
       "    }\n",
       "\n",
       "    .dataframe tbody tr th {\n",
       "        vertical-align: top;\n",
       "    }\n",
       "\n",
       "    .dataframe thead th {\n",
       "        text-align: right;\n",
       "    }\n",
       "</style>\n",
       "<table border=\"1\" class=\"dataframe\">\n",
       "  <thead>\n",
       "    <tr style=\"text-align: right;\">\n",
       "      <th></th>\n",
       "      <th>session_id</th>\n",
       "      <th>item_id</th>\n",
       "      <th>date</th>\n",
       "      <th>f_3</th>\n",
       "      <th>f_5</th>\n",
       "      <th>f_7</th>\n",
       "      <th>f_17</th>\n",
       "      <th>f_24</th>\n",
       "      <th>f_45</th>\n",
       "      <th>f_47</th>\n",
       "      <th>...</th>\n",
       "      <th>f_61</th>\n",
       "      <th>f_63</th>\n",
       "      <th>f_65</th>\n",
       "      <th>f_68</th>\n",
       "      <th>f_69</th>\n",
       "      <th>f_72</th>\n",
       "      <th>f_73</th>\n",
       "      <th>timestamp</th>\n",
       "      <th>day</th>\n",
       "      <th>purchase_id</th>\n",
       "    </tr>\n",
       "  </thead>\n",
       "  <tbody>\n",
       "    <tr>\n",
       "      <th>0</th>\n",
       "      <td>21970</td>\n",
       "      <td>26077</td>\n",
       "      <td>2020-04-27 06:39:19.329</td>\n",
       "      <td>-1</td>\n",
       "      <td>-1</td>\n",
       "      <td>619</td>\n",
       "      <td>378</td>\n",
       "      <td>-1</td>\n",
       "      <td>-1</td>\n",
       "      <td>96</td>\n",
       "      <td>...</td>\n",
       "      <td>706</td>\n",
       "      <td>861</td>\n",
       "      <td>521</td>\n",
       "      <td>662</td>\n",
       "      <td>592</td>\n",
       "      <td>263</td>\n",
       "      <td>544</td>\n",
       "      <td>1587969559329</td>\n",
       "      <td>117</td>\n",
       "      <td>24868</td>\n",
       "    </tr>\n",
       "    <tr>\n",
       "      <th>1</th>\n",
       "      <td>21970</td>\n",
       "      <td>6140</td>\n",
       "      <td>2020-04-27 06:39:46.460</td>\n",
       "      <td>-1</td>\n",
       "      <td>-1</td>\n",
       "      <td>619</td>\n",
       "      <td>378</td>\n",
       "      <td>-1</td>\n",
       "      <td>-1</td>\n",
       "      <td>96</td>\n",
       "      <td>...</td>\n",
       "      <td>706</td>\n",
       "      <td>861</td>\n",
       "      <td>521</td>\n",
       "      <td>383</td>\n",
       "      <td>592</td>\n",
       "      <td>655</td>\n",
       "      <td>544</td>\n",
       "      <td>1587969586460</td>\n",
       "      <td>117</td>\n",
       "      <td>24868</td>\n",
       "    </tr>\n",
       "    <tr>\n",
       "      <th>2</th>\n",
       "      <td>21970</td>\n",
       "      <td>19770</td>\n",
       "      <td>2020-04-27 06:40:13.598</td>\n",
       "      <td>-1</td>\n",
       "      <td>-1</td>\n",
       "      <td>536</td>\n",
       "      <td>378</td>\n",
       "      <td>-1</td>\n",
       "      <td>-1</td>\n",
       "      <td>96</td>\n",
       "      <td>...</td>\n",
       "      <td>706</td>\n",
       "      <td>861</td>\n",
       "      <td>521</td>\n",
       "      <td>97</td>\n",
       "      <td>592</td>\n",
       "      <td>7</td>\n",
       "      <td>544</td>\n",
       "      <td>1587969613598</td>\n",
       "      <td>117</td>\n",
       "      <td>24868</td>\n",
       "    </tr>\n",
       "    <tr>\n",
       "      <th>3</th>\n",
       "      <td>21970</td>\n",
       "      <td>6140</td>\n",
       "      <td>2020-04-27 06:41:03.256</td>\n",
       "      <td>-1</td>\n",
       "      <td>-1</td>\n",
       "      <td>619</td>\n",
       "      <td>378</td>\n",
       "      <td>-1</td>\n",
       "      <td>-1</td>\n",
       "      <td>96</td>\n",
       "      <td>...</td>\n",
       "      <td>706</td>\n",
       "      <td>861</td>\n",
       "      <td>521</td>\n",
       "      <td>383</td>\n",
       "      <td>592</td>\n",
       "      <td>655</td>\n",
       "      <td>544</td>\n",
       "      <td>1587969663256</td>\n",
       "      <td>117</td>\n",
       "      <td>24868</td>\n",
       "    </tr>\n",
       "    <tr>\n",
       "      <th>4</th>\n",
       "      <td>21970</td>\n",
       "      <td>22885</td>\n",
       "      <td>2020-04-27 06:41:40.288</td>\n",
       "      <td>793</td>\n",
       "      <td>605</td>\n",
       "      <td>798</td>\n",
       "      <td>378</td>\n",
       "      <td>-1</td>\n",
       "      <td>559</td>\n",
       "      <td>549</td>\n",
       "      <td>...</td>\n",
       "      <td>706</td>\n",
       "      <td>861</td>\n",
       "      <td>521</td>\n",
       "      <td>745</td>\n",
       "      <td>592</td>\n",
       "      <td>75</td>\n",
       "      <td>544</td>\n",
       "      <td>1587969700288</td>\n",
       "      <td>117</td>\n",
       "      <td>24868</td>\n",
       "    </tr>\n",
       "  </tbody>\n",
       "</table>\n",
       "<p>5 rows × 24 columns</p>\n",
       "</div>"
      ],
      "text/plain": [
       "   session_id  item_id                    date  f_3  f_5  f_7  f_17  f_24  \\\n",
       "0       21970    26077 2020-04-27 06:39:19.329   -1   -1  619   378    -1   \n",
       "1       21970     6140 2020-04-27 06:39:46.460   -1   -1  619   378    -1   \n",
       "2       21970    19770 2020-04-27 06:40:13.598   -1   -1  536   378    -1   \n",
       "3       21970     6140 2020-04-27 06:41:03.256   -1   -1  619   378    -1   \n",
       "4       21970    22885 2020-04-27 06:41:40.288  793  605  798   378    -1   \n",
       "\n",
       "   f_45  f_47  ...  f_61  f_63  f_65  f_68  f_69  f_72  f_73      timestamp  \\\n",
       "0    -1    96  ...   706   861   521   662   592   263   544  1587969559329   \n",
       "1    -1    96  ...   706   861   521   383   592   655   544  1587969586460   \n",
       "2    -1    96  ...   706   861   521    97   592     7   544  1587969613598   \n",
       "3    -1    96  ...   706   861   521   383   592   655   544  1587969663256   \n",
       "4   559   549  ...   706   861   521   745   592    75   544  1587969700288   \n",
       "\n",
       "   day  purchase_id  \n",
       "0  117        24868  \n",
       "1  117        24868  \n",
       "2  117        24868  \n",
       "3  117        24868  \n",
       "4  117        24868  \n",
       "\n",
       "[5 rows x 24 columns]"
      ]
     },
     "execution_count": 4,
     "metadata": {},
     "output_type": "execute_result"
    }
   ],
   "source": [
    "train.to_ddf().head()"
   ]
  },
  {
   "cell_type": "markdown",
   "id": "13a4235e",
   "metadata": {},
   "source": [
    "## Feature Engineering with NVTabular\n",
    "\n",
    "We use NVTabular for Feature Engineering. If you want to learn more about NVTabular, we recommend the [examples in the NVTabular GitHub Repository](https://github.com/NVIDIA-Merlin/NVTabular/tree/main/examples)."
   ]
  },
  {
   "cell_type": "markdown",
   "id": "89f5e2b7",
   "metadata": {},
   "source": [
    "### Categorify\n",
    "\n",
    "We want to use embedding layers for our categorical features. First, we need to Categorify them, that they are contiguous integers. \n",
    "\n",
    "The features `item_id` and `purchase_id` belongs to the same category. If `item_id` is 8432 and `purchase_id` is 8432, they are the same item. When we want to apply Categorify, we want to keep the connection. We can achieve this by encoding them jointly by providing them as a list in the list `[['item_id', 'purchase_id']]`."
   ]
  },
  {
   "cell_type": "markdown",
   "id": "1389a708",
   "metadata": {},
   "source": [
    "We will use only 2 of the categorical item features in this example."
   ]
  },
  {
   "cell_type": "code",
   "execution_count": 5,
   "id": "0f834311",
   "metadata": {},
   "outputs": [
    {
     "name": "stdout",
     "output_type": "stream",
     "text": [
      "CPU times: user 87 µs, sys: 33 µs, total: 120 µs\n",
      "Wall time: 107 µs\n"
     ]
    }
   ],
   "source": [
    "%%time\n",
    "item_features_names = ['f_' + str(col) for col in [47, 68]]\n",
    "cat_features = [['item_id', 'purchase_id']] + item_features_names >> nvt.ops.Categorify(start_index=1, dtype='int32')\n",
    "\n",
    "features = ['session_id', 'timestamp', 'date'] + cat_features"
   ]
  },
  {
   "cell_type": "markdown",
   "id": "fe10a791",
   "metadata": {},
   "source": [
    "### GroupBy the data by sessions.\n",
    "\n",
    "Currently, every row is a viewed item in the dataset. Our goal is to predict the item purchased after the last view in a session. Therefore, we groupby the dataset by `session_id` to have one row for each prediction.\n",
    "\n",
    "Each row will have a sequence of encoded items ids with which a user interacted. The last item of a session has special importance as it is closer to the user's intention. We will keep the viewed item as a separate feature.\n",
    "\n",
    "The NVTabular `GroupBy` op enables the transformation. \n",
    "\n",
    "First, we define how the different columns should be aggregates:\n",
    "- Keep the first occurrence of `date`\n",
    "- Keep the last item and concatenate all items to a list (results are 2 features)\n",
    "- Keep the first occurrence of `purchase_id` (purchase_id should be the same for all rows of one session)"
   ]
  },
  {
   "cell_type": "code",
   "execution_count": 6,
   "id": "de40cfc5",
   "metadata": {},
   "outputs": [],
   "source": [
    "to_aggregate = {}\n",
    "to_aggregate['date'] = [\"first\"]\n",
    "to_aggregate['item_id'] = [\"last\", \"list\"]\n",
    "to_aggregate['purchase_id'] = [\"first\"]   "
   ]
  },
  {
   "cell_type": "markdown",
   "id": "453abf34",
   "metadata": {},
   "source": [
    "In addition, we concatenate each item features to a list."
   ]
  },
  {
   "cell_type": "code",
   "execution_count": 7,
   "id": "7d6450e7",
   "metadata": {},
   "outputs": [],
   "source": [
    "for name in item_features_names: \n",
    "    to_aggregate[name] = ['list']"
   ]
  },
  {
   "cell_type": "code",
   "execution_count": 8,
   "id": "6963a0c0",
   "metadata": {},
   "outputs": [
    {
     "data": {
      "text/plain": [
       "{'date': ['first'],\n",
       " 'item_id': ['last', 'list'],\n",
       " 'purchase_id': ['first'],\n",
       " 'f_47': ['list'],\n",
       " 'f_68': ['list']}"
      ]
     },
     "execution_count": 8,
     "metadata": {},
     "output_type": "execute_result"
    }
   ],
   "source": [
    "to_aggregate"
   ]
  },
  {
   "cell_type": "markdown",
   "id": "caead45e",
   "metadata": {},
   "source": [
    "We want to sort the dataframe by `date` and groupby the columns by `session_id`."
   ]
  },
  {
   "cell_type": "code",
   "execution_count": 9,
   "id": "ad84c3af",
   "metadata": {},
   "outputs": [],
   "source": [
    "groupby_features = features >> nvt.ops.Groupby(\n",
    "    groupby_cols=[\"session_id\"], \n",
    "    sort_cols=[\"date\"],\n",
    "    aggs= to_aggregate,\n",
    "    name_sep=\"_\")"
   ]
  },
  {
   "cell_type": "markdown",
   "id": "a375e1d5",
   "metadata": {},
   "source": [
    "Merlin Models can infer the neural network architecture from the dataset schema. We will Tag the columns accordingly based on the type of each column. If you want to learn more, we recommend our [Dataset Schema Example](https://github.com/NVIDIA-Merlin/models/blob/main/examples/02-Merlin-Models-and-NVTabular-integration.ipynb)."
   ]
  },
  {
   "cell_type": "code",
   "execution_count": 10,
   "id": "8732e63c",
   "metadata": {},
   "outputs": [],
   "source": [
    "item_last = (\n",
    "    groupby_features['item_id_last'] >> \n",
    "    AddMetadata(tags=[Tags.ITEM, Tags.ITEM_ID])\n",
    ")\n",
    "item_list = (\n",
    "    groupby_features['item_id_list'] >> \n",
    "    AddMetadata(\n",
    "        tags=[Tags.ITEM, Tags.ITEM_ID, Tags.LIST, Tags.SEQUENCE]\n",
    "    )\n",
    ")\n",
    "feature_list = (\n",
    "    groupby_features[[name+'_list' for name in item_features_names]] >> \n",
    "    AddMetadata(\n",
    "        tags=[Tags.SEQUENCE, Tags.ITEM, Tags.LIST]\n",
    "    )\n",
    ")\n",
    "target_feature = (\n",
    "    groupby_features['purchase_id_first'] >> \n",
    "    AddMetadata(tags=[Tags.TARGET])\n",
    ")\n",
    "other_features = groupby_features['session_id', 'date_first']\n",
    "\n",
    "groupby_features = item_last + item_list + feature_list + other_features +  groupby_features['purchase_id_first']\n"
   ]
  },
  {
   "cell_type": "markdown",
   "id": "2e9a9832",
   "metadata": {},
   "source": [
    "### Truncate for a Maximum Sequence Length\n",
    "\n",
    "We want to truncate and pad the sequential features. We define the columns, which are sequential features and the non-sequential ones. We truncate the sequence by keeping the last 3 elements."
   ]
  },
  {
   "cell_type": "code",
   "execution_count": 11,
   "id": "0e65dbe4",
   "metadata": {},
   "outputs": [],
   "source": [
    "list_features = [name+'_list' for name in item_features_names] + ['item_id_list']\n",
    "nonlist_features = ['session_id', 'date_first', 'item_id_last', 'purchase_id_first']"
   ]
  },
  {
   "cell_type": "code",
   "execution_count": 12,
   "id": "d0d338d0",
   "metadata": {},
   "outputs": [],
   "source": [
    "SESSIONS_MAX_LENGTH = 3\n",
    "truncated_features = groupby_features[list_features] >> nvt.ops.ListSlice(-SESSIONS_MAX_LENGTH) >> nvt.ops.Rename(postfix = '_seq')\n",
    "\n",
    "final_features = groupby_features[nonlist_features] + truncated_features"
   ]
  },
  {
   "cell_type": "markdown",
   "id": "cdb2caa1",
   "metadata": {},
   "source": [
    "We initialize our NVTabular workflow."
   ]
  },
  {
   "cell_type": "code",
   "execution_count": 13,
   "id": "74b030ef",
   "metadata": {},
   "outputs": [],
   "source": [
    "workflow = nvt.Workflow(final_features)"
   ]
  },
  {
   "cell_type": "markdown",
   "id": "c6954007",
   "metadata": {},
   "source": [
    "We call fit and transform similar to the scikit learn API.\n",
    "\n",
    "Categorify will map item_ids (and purchase_ids), which does not occur in the train dataset, to a special category `0` in the validation dataset. This can bias the validation metrics. In our example, almost all item_ids in validation are available in train and we neglect it."
   ]
  },
  {
   "cell_type": "code",
   "execution_count": 14,
   "id": "65f5c222",
   "metadata": {},
   "outputs": [
    {
     "name": "stderr",
     "output_type": "stream",
     "text": [
      "/usr/local/lib/python3.8/dist-packages/merlin/schema/tags.py:148: UserWarning: Compound tags like Tags.ITEM_ID have been deprecated and will be removed in a future version. Please use the atomic versions of these tags, like [<Tags.ITEM: 'item'>, <Tags.ID: 'id'>].\n",
      "  warnings.warn(\n",
      "/usr/local/lib/python3.8/dist-packages/merlin/schema/tags.py:148: UserWarning: Compound tags like Tags.ITEM_ID have been deprecated and will be removed in a future version. Please use the atomic versions of these tags, like [<Tags.ITEM: 'item'>, <Tags.ID: 'id'>].\n",
      "  warnings.warn(\n"
     ]
    }
   ],
   "source": [
    "# fit data\n",
    "workflow.fit(train)\n",
    "\n",
    "# transform and save data\n",
    "workflow.transform(train).to_parquet(os.path.join(DATA_FOLDER, \"train/\"), output_files=2)\n",
    "workflow.transform(valid).to_parquet(os.path.join(DATA_FOLDER, \"valid/\"))"
   ]
  },
  {
   "cell_type": "markdown",
   "id": "0d222c0e",
   "metadata": {},
   "source": [
    "### Sort the Training Dataset by Time\n",
    "\n",
    "The train dataset contains the data from Jan 2020 to April 2021 and the validation dataset is May 2021. As the data is split by time, we noticed that we achieve higher validation scores, when we sort the training data by time and do not apply shuffling."
   ]
  },
  {
   "cell_type": "code",
   "execution_count": 15,
   "id": "5ba81642",
   "metadata": {},
   "outputs": [],
   "source": [
    "df = get_lib().read_parquet(\n",
    "    glob.glob(\n",
    "        os.path.join(DATA_FOLDER, \"train/*.parquet\")\n",
    "    )\n",
    ")\n",
    "df = df.sort_values('date_first').reset_index(drop=True)\n",
    "df.to_parquet(os.path.join(DATA_FOLDER, \"train_sorted.parquet\"))"
   ]
  },
  {
   "cell_type": "markdown",
   "id": "f58c04dc",
   "metadata": {},
   "source": [
    "Let's review the transformed dataset."
   ]
  },
  {
   "cell_type": "code",
   "execution_count": 16,
   "id": "03de5beb",
   "metadata": {},
   "outputs": [
    {
     "data": {
      "text/html": [
       "<div>\n",
       "<style scoped>\n",
       "    .dataframe tbody tr th:only-of-type {\n",
       "        vertical-align: middle;\n",
       "    }\n",
       "\n",
       "    .dataframe tbody tr th {\n",
       "        vertical-align: top;\n",
       "    }\n",
       "\n",
       "    .dataframe thead th {\n",
       "        text-align: right;\n",
       "    }\n",
       "</style>\n",
       "<table border=\"1\" class=\"dataframe\">\n",
       "  <thead>\n",
       "    <tr style=\"text-align: right;\">\n",
       "      <th></th>\n",
       "      <th>session_id</th>\n",
       "      <th>date_first</th>\n",
       "      <th>item_id_last</th>\n",
       "      <th>purchase_id_first</th>\n",
       "      <th>f_47_list_seq</th>\n",
       "      <th>f_68_list_seq</th>\n",
       "      <th>item_id_list_seq</th>\n",
       "    </tr>\n",
       "  </thead>\n",
       "  <tbody>\n",
       "    <tr>\n",
       "      <th>0</th>\n",
       "      <td>3747794</td>\n",
       "      <td>2020-01-01 00:00:01.359</td>\n",
       "      <td>7920</td>\n",
       "      <td>13757</td>\n",
       "      <td>[3, 6, 14]</td>\n",
       "      <td>[2, 10, 8]</td>\n",
       "      <td>[538, 4177, 7920]</td>\n",
       "    </tr>\n",
       "    <tr>\n",
       "      <th>1</th>\n",
       "      <td>3458777</td>\n",
       "      <td>2020-01-01 00:00:21.440</td>\n",
       "      <td>11594</td>\n",
       "      <td>17900</td>\n",
       "      <td>[2, 2, 2]</td>\n",
       "      <td>[10, 45, 7]</td>\n",
       "      <td>[14809, 7840, 11594]</td>\n",
       "    </tr>\n",
       "    <tr>\n",
       "      <th>2</th>\n",
       "      <td>4350716</td>\n",
       "      <td>2020-01-01 00:00:48.505</td>\n",
       "      <td>5192</td>\n",
       "      <td>14217</td>\n",
       "      <td>[14]</td>\n",
       "      <td>[9]</td>\n",
       "      <td>[5192]</td>\n",
       "    </tr>\n",
       "    <tr>\n",
       "      <th>3</th>\n",
       "      <td>2579761</td>\n",
       "      <td>2020-01-01 00:06:37.801</td>\n",
       "      <td>9675</td>\n",
       "      <td>12251</td>\n",
       "      <td>[9, 8, 9]</td>\n",
       "      <td>[15, 4, 4]</td>\n",
       "      <td>[19431, 16369, 9675]</td>\n",
       "    </tr>\n",
       "    <tr>\n",
       "      <th>4</th>\n",
       "      <td>2048031</td>\n",
       "      <td>2020-01-01 00:08:19.297</td>\n",
       "      <td>14877</td>\n",
       "      <td>12751</td>\n",
       "      <td>[2, 6, 2]</td>\n",
       "      <td>[6, 2, 10]</td>\n",
       "      <td>[779, 15326, 14877]</td>\n",
       "    </tr>\n",
       "  </tbody>\n",
       "</table>\n",
       "</div>"
      ],
      "text/plain": [
       "   session_id              date_first  item_id_last  purchase_id_first  \\\n",
       "0     3747794 2020-01-01 00:00:01.359          7920              13757   \n",
       "1     3458777 2020-01-01 00:00:21.440         11594              17900   \n",
       "2     4350716 2020-01-01 00:00:48.505          5192              14217   \n",
       "3     2579761 2020-01-01 00:06:37.801          9675              12251   \n",
       "4     2048031 2020-01-01 00:08:19.297         14877              12751   \n",
       "\n",
       "  f_47_list_seq f_68_list_seq      item_id_list_seq  \n",
       "0    [3, 6, 14]    [2, 10, 8]     [538, 4177, 7920]  \n",
       "1     [2, 2, 2]   [10, 45, 7]  [14809, 7840, 11594]  \n",
       "2          [14]           [9]                [5192]  \n",
       "3     [9, 8, 9]    [15, 4, 4]  [19431, 16369, 9675]  \n",
       "4     [2, 6, 2]    [6, 2, 10]   [779, 15326, 14877]  "
      ]
     },
     "execution_count": 16,
     "metadata": {},
     "output_type": "execute_result"
    }
   ],
   "source": [
    "df.head()"
   ]
  },
  {
   "cell_type": "markdown",
   "id": "04948a31",
   "metadata": {},
   "source": [
    "## Training an MLP with sequential input with Merlin Models\n",
    "\n",
    "We train a Sequential-Multi-Layer Perceptron model, which averages the sequential input features (e.g. `item_id_list_seq`) and concatenate the resulting embeddings with the categorical embeddings (e.g. `item_id_last`). We visualize the architecture in the figure below.\n",
    "\n",
    "<img src=\"../images/mlp_ecommerce.png\"  width=\"30%\">"
   ]
  },
  {
   "cell_type": "markdown",
   "id": "da6d6a7d",
   "metadata": {},
   "source": [
    "### Dataloader\n",
    "\n",
    "We initialize the dataloaders to train the neural network models. First, we define NVTabular dataset."
   ]
  },
  {
   "cell_type": "code",
   "execution_count": 17,
   "id": "7f673e06",
   "metadata": {},
   "outputs": [
    {
     "name": "stderr",
     "output_type": "stream",
     "text": [
      "/usr/local/lib/python3.8/dist-packages/merlin/schema/tags.py:148: UserWarning: Compound tags like Tags.ITEM_ID have been deprecated and will be removed in a future version. Please use the atomic versions of these tags, like [<Tags.ITEM: 'item'>, <Tags.ID: 'id'>].\n",
      "  warnings.warn(\n"
     ]
    }
   ],
   "source": [
    "train = Dataset(os.path.join(DATA_FOLDER, 'train_sorted.parquet'))\n",
    "valid = Dataset(os.path.join(DATA_FOLDER, 'valid/*.parquet'))"
   ]
  },
  {
   "cell_type": "markdown",
   "id": "5546df60",
   "metadata": {},
   "source": [
    "As we loaded, sorted and saved the train dataset without using NVTabular, the parquet file doesn't contain a schema, anymore. We can copy the schema from valid to train."
   ]
  },
  {
   "cell_type": "code",
   "execution_count": 18,
   "id": "4f89a79a",
   "metadata": {},
   "outputs": [],
   "source": [
    "train.schema = valid.schema\n",
    "schema_model = train.schema.select_by_name(\n",
    "        ['item_id_list_seq', 'item_id_last','f_47_list_seq', 'f_68_list_seq']\n",
    ")"
   ]
  },
  {
   "cell_type": "markdown",
   "id": "92782bbb-5715-49b6-9750-fda93fb36a5d",
   "metadata": {},
   "source": [
    "#### Hyperparameters\n",
    "\n",
    "We use the following hyperparameters, we found during experimentations."
   ]
  },
  {
   "cell_type": "code",
   "execution_count": 19,
   "id": "45d40de0-138c-4410-83df-cda5a34867c3",
   "metadata": {},
   "outputs": [],
   "source": [
    "EPOCHS = int(os.environ.get(\n",
    "    \"EPOCHS\", \n",
    "    '3'\n",
    "))\n",
    "BATCH_SIZE = 1024\n",
    "LEARNING_RATE = 0.01\n",
    "DROPOUT = 0.2 \n",
    "LABEL_SMOOTHING = 0.2\n",
    "TEMPERATURE_SCALING = 2"
   ]
  },
  {
   "cell_type": "markdown",
   "id": "5e197311",
   "metadata": {},
   "source": [
    "### Build the Sequential MLP with Merlin Models\n",
    "\n",
    "Now we will create an InputBlock which takes sequential features, concatenate them and return the sequence of interaction embeddings. Note that we define the embedding dimensions, manually."
   ]
  },
  {
   "cell_type": "code",
   "execution_count": 20,
   "id": "f4dce190",
   "metadata": {},
   "outputs": [],
   "source": [
    "manual_dims = {\n",
    "    'item_id_list_seq': 256, \n",
    "    'item_id_last': 256,\n",
    "    'f_47_list_seq': 16,\n",
    "    'f_68_list_seq': 16\n",
    "}\n",
    "\n",
    "input_block = mm.InputBlockV2(\n",
    "        schema_model,\n",
    "        categorical=mm.Embeddings(schema_model,\n",
    "                                 dim=manual_dims\n",
    "                                )\n",
    ")"
   ]
  },
  {
   "cell_type": "markdown",
   "id": "a5241379",
   "metadata": {},
   "source": [
    "Before the loss is calculated, we want to transform the model output:\n",
    "\n",
    "1. We apply `weight-tying` and multiply the model output with the embedding weights from ITEM_ID. The embedding dimensions and the model output dimensions have to be the same (256 in our example).\n",
    "2. We transform the ground truth into OneHot representation\n",
    "3. We apply Temperature Scaling"
   ]
  },
  {
   "cell_type": "markdown",
   "id": "d85994ba-49d7-4630-b1c8-c4cc520b49e7",
   "metadata": {},
   "source": [
    "Now, we will build a model with a 2-layer MLPBlock, `input_block` as the input and `prediction_task` as the task. The output dimension of MLPBlock should match with the embedding dimension of the `item_id_list_seq` since we are using weight tying technique."
   ]
  },
  {
   "cell_type": "code",
   "execution_count": 21,
   "id": "3abeac63-876a-428a-bfaa-72bcba966646",
   "metadata": {},
   "outputs": [],
   "source": [
    "mlp_block = mm.MLPBlock(\n",
    "        [128, 256], \n",
    "        no_activation_last_layer=True, \n",
    "        dropout=0.2\n",
    "    )"
   ]
  },
  {
   "cell_type": "code",
   "execution_count": 22,
   "id": "75d6a85d-1d7e-4158-ade6-ba1386f001bf",
   "metadata": {},
   "outputs": [
    {
     "data": {
      "text/plain": [
       "'item_id_purchase_id'"
      ]
     },
     "execution_count": 22,
     "metadata": {},
     "output_type": "execute_result"
    }
   ],
   "source": [
    "item_id_name = train.schema.select_by_tag(Tags.ITEM_ID).first.properties['domain']['name']\n",
    "item_id_name"
   ]
  },
  {
   "cell_type": "markdown",
   "id": "4c5cbe51-a5cb-4964-9bb2-7ecf53ee36ec",
   "metadata": {},
   "source": [
    "Next, we define the prediction task. Our objective is multi-class classification - which is the item purchased at the end of the session. Therefore, this is a multi-class classification task, and the default_loss in the `CategoricalOutput` class is  \"categorical_crossentropy\"."
   ]
  },
  {
   "cell_type": "code",
   "execution_count": 23,
   "id": "0b053041",
   "metadata": {},
   "outputs": [],
   "source": [
    "prediction_task= mm.CategoricalOutput(\n",
    "        to_call=input_block[\"categorical\"][item_id_name],\n",
    "        logits_temperature=TEMPERATURE_SCALING,\n",
    "        target='purchase_id_first',\n",
    "    )"
   ]
  },
  {
   "cell_type": "code",
   "execution_count": 24,
   "id": "76f47160-f2df-4e6b-bff2-4b8b3e9bef7d",
   "metadata": {},
   "outputs": [],
   "source": [
    "model_mlp = mm.Model(input_block, mlp_block, prediction_task)"
   ]
  },
  {
   "cell_type": "markdown",
   "id": "54efec72",
   "metadata": {},
   "source": [
    "### Fit the Model"
   ]
  },
  {
   "cell_type": "markdown",
   "id": "005c674e-3b81-4ba1-893d-e320d9810ddf",
   "metadata": {},
   "source": [
    "The default dataloader does shuffle by default. We will initialize the Loader for the training dataset, and set the shuffle to `False`."
   ]
  },
  {
   "cell_type": "code",
   "execution_count": 25,
   "id": "992211b3-f647-460b-989b-181bce05b843",
   "metadata": {},
   "outputs": [],
   "source": [
    "loader = mm.Loader(train, batch_size=BATCH_SIZE, transform=mm.ToTarget(train.schema, \"purchase_id_first\", one_hot=True),  shuffle = False)\n",
    "val_loader = mm.Loader(valid, batch_size=BATCH_SIZE, transform=mm.ToTarget(train.schema, \"purchase_id_first\", one_hot=True),  shuffle=False)"
   ]
  },
  {
   "cell_type": "markdown",
   "id": "51be5866-f7f3-4111-b461-7b23eea7d7c2",
   "metadata": {},
   "source": [
    "\n",
    "We initialize the optimizer with `ExponentialDecay` learning rate scheduler and compile the model - similar to other TensorFlow Keras API. The competition was evaluated based on MRR@100."
   ]
  },
  {
   "cell_type": "code",
   "execution_count": 26,
   "id": "203030aa-71d5-4167-b96c-96e99b6d9c3f",
   "metadata": {},
   "outputs": [],
   "source": [
    "initial_learning_rate = LEARNING_RATE\n",
    "\n",
    "exp_decay_lr_scheduler = tf.keras.optimizers.schedules.ExponentialDecay(\n",
    "    initial_learning_rate,\n",
    "    decay_steps=100000,\n",
    "    decay_rate=0.96,\n",
    "    staircase=True)"
   ]
  },
  {
   "cell_type": "code",
   "execution_count": 27,
   "id": "2cd66c98",
   "metadata": {},
   "outputs": [],
   "source": [
    "optimizer = tf.keras.optimizers.Adam(\n",
    "    learning_rate=exp_decay_lr_scheduler,\n",
    ")\n",
    "\n",
    "model_mlp.compile(\n",
    "    optimizer=optimizer,\n",
    "    run_eagerly=False,\n",
    "    loss=tf.keras.losses.CategoricalCrossentropy(\n",
    "        from_logits=True, \n",
    "        label_smoothing=LABEL_SMOOTHING\n",
    "    ),\n",
    "    metrics=mm.TopKMetricsAggregator.default_metrics(top_ks=[100])\n",
    ")"
   ]
  },
  {
   "cell_type": "markdown",
   "id": "68e82bee",
   "metadata": {},
   "source": [
    "We call `.fit` to train the model."
   ]
  },
  {
   "cell_type": "code",
   "execution_count": 28,
   "id": "3f6deb23",
   "metadata": {},
   "outputs": [
    {
     "name": "stdout",
     "output_type": "stream",
     "text": [
      "Epoch 1/3\n",
      "900/900 [==============================] - 125s 129ms/step - loss: 8.0035 - recall_at_100: 0.3539 - mrr_at_100: 0.0729 - ndcg_at_100: 0.1255 - map_at_100: 0.0729 - precision_at_100: 0.0035 - regularization_loss: 0.0000e+00 - loss_batch: 8.0026 - val_loss: 7.9838 - val_recall_at_100: 0.4721 - val_mrr_at_100: 0.0973 - val_ndcg_at_100: 0.1686 - val_map_at_100: 0.0973 - val_precision_at_100: 0.0047 - val_regularization_loss: 0.0000e+00 - val_loss_batch: 7.8050\n",
      "Epoch 2/3\n",
      "900/900 [==============================] - 115s 127ms/step - loss: 7.6912 - recall_at_100: 0.4454 - mrr_at_100: 0.0964 - ndcg_at_100: 0.1626 - map_at_100: 0.0964 - precision_at_100: 0.0045 - regularization_loss: 0.0000e+00 - loss_batch: 7.6897 - val_loss: 8.0124 - val_recall_at_100: 0.4671 - val_mrr_at_100: 0.0932 - val_ndcg_at_100: 0.1640 - val_map_at_100: 0.0932 - val_precision_at_100: 0.0047 - val_regularization_loss: 0.0000e+00 - val_loss_batch: 7.8539\n",
      "Epoch 3/3\n",
      "900/900 [==============================] - 115s 126ms/step - loss: 7.6096 - recall_at_100: 0.4783 - mrr_at_100: 0.1022 - ndcg_at_100: 0.1736 - map_at_100: 0.1022 - precision_at_100: 0.0048 - regularization_loss: 0.0000e+00 - loss_batch: 7.6077 - val_loss: 8.0724 - val_recall_at_100: 0.4602 - val_mrr_at_100: 0.0931 - val_ndcg_at_100: 0.1628 - val_map_at_100: 0.0931 - val_precision_at_100: 0.0046 - val_regularization_loss: 0.0000e+00 - val_loss_batch: 7.9325\n",
      "CPU times: user 4min 45s, sys: 2min 21s, total: 7min 7s\n",
      "Wall time: 5min 57s\n"
     ]
    }
   ],
   "source": [
    "%%time\n",
    "history = model_mlp.fit(\n",
    "    loader,\n",
    "    validation_data=val_loader,\n",
    "    epochs=EPOCHS,\n",
    ")"
   ]
  },
  {
   "cell_type": "markdown",
   "id": "0160f023",
   "metadata": {},
   "source": [
    "We can evaluate the model."
   ]
  },
  {
   "cell_type": "code",
   "execution_count": 29,
   "id": "4f114178",
   "metadata": {},
   "outputs": [
    {
     "name": "stdout",
     "output_type": "stream",
     "text": [
      "78/78 [==============================] - 9s 108ms/step - loss: 8.0724 - recall_at_100: 0.4608 - mrr_at_100: 0.0930 - ndcg_at_100: 0.1628 - map_at_100: 0.0930 - precision_at_100: 0.0046 - regularization_loss: 0.0000e+00 - loss_batch: 8.0694\n"
     ]
    },
    {
     "data": {
      "text/plain": [
       "0.09310653805732727"
      ]
     },
     "execution_count": 29,
     "metadata": {},
     "output_type": "execute_result"
    }
   ],
   "source": [
    "metrics_mlp = model_mlp.evaluate(val_loader, batch_size=BATCH_SIZE, return_dict=True)\n",
    "metrics_mlp['mrr_at_100']"
   ]
  },
  {
   "cell_type": "markdown",
   "id": "b9d8dbe8",
   "metadata": {
    "tags": []
   },
   "source": [
    "## Training a Bi-LSTM with Merlin Models\n",
    "\n",
    "\n",
    "In this section, we train a Bi-LSTM model, which concatenates the embedding vectors for all sequential features (`item_id_list_seq`, `f_47_list_seq`, `f_68_list_seq`) per step (e.g. here 3). The concatenated vectors are processed by a BiLSTM. The hidden state of the BiLSTM is concatenated with the embedding vectors of the categorical features (`item_id_last`). Then we connect it with a Multi-Layer Perceptron Block. We visualize the architecture in the figure below.\n",
    "\n",
    "<img src=\"../images/bi-lstm_ecommerce.png\"  width=\"30%\">"
   ]
  },
  {
   "cell_type": "markdown",
   "id": "081cf607",
   "metadata": {},
   "source": [
    "### Build the Sequential MLP with Merlin Models\n",
    "Now we will create two InputBlock which takes sequential and categorical features, concatenate them and return the interaction embeddings.\n",
    "\n",
    "#### Hyperparameters\n",
    "We only update the `LEARNING_RATE`, as in our experimentations we found Bi-LSTM gave better results with lower learning rate.\n"
   ]
  },
  {
   "cell_type": "code",
   "execution_count": 30,
   "id": "9d74c292-22c9-4870-b225-3d41e7526152",
   "metadata": {},
   "outputs": [],
   "source": [
    "LEARNING_RATE = 0.005"
   ]
  },
  {
   "cell_type": "markdown",
   "id": "70108db8-235a-496f-9787-f41d6193318d",
   "metadata": {},
   "source": [
    "We define the embedding dimensions, manually."
   ]
  },
  {
   "cell_type": "code",
   "execution_count": 31,
   "id": "9275b012",
   "metadata": {
    "tags": []
   },
   "outputs": [],
   "source": [
    "seq_inputs = mm.InputBlockV2(\n",
    "        schema_model.select_by_name(\n",
    "            ['item_id_list_seq', 'f_47_list_seq', 'f_68_list_seq']\n",
    "        ),\n",
    "        categorical=mm.Embeddings(\n",
    "            schema_model.select_by_name(\n",
    "            ['item_id_list_seq', 'f_47_list_seq', 'f_68_list_seq']\n",
    "        ),\n",
    "            sequence_combiner=None,\n",
    "            dim=manual_dims\n",
    "                                \n",
    "        )\n",
    ")\n",
    "\n",
    "cat_inputs = mm.InputBlockV2(\n",
    "        schema_model.select_by_name(\n",
    "            ['item_id_last']\n",
    "        ),\n",
    "        categorical=mm.Embeddings(\n",
    "            schema_model.select_by_name(\n",
    "            ['item_id_last']\n",
    "        ),\n",
    "            dim=manual_dims\n",
    "                                \n",
    "        )\n",
    ")"
   ]
  },
  {
   "cell_type": "markdown",
   "id": "5672fae7",
   "metadata": {},
   "source": [
    "### Build Bi-LSTM model\n",
    "\n",
    "Now we will create a Bi-LSTM model by defining a custom layer of type mm.Block. It will take sequential interaction embeddings as an input. We connect the sequence input block for sequential features with `Bi-LSTM` Block."
   ]
  },
  {
   "cell_type": "code",
   "execution_count": 32,
   "id": "33820698-9303-44bc-8798-b74e753e6a8c",
   "metadata": {},
   "outputs": [],
   "source": [
    "dense_block =seq_inputs.connect(tf.keras.layers.Bidirectional(\n",
    "    tf.keras.layers.LSTM(64,\n",
    "        return_sequences=False, \n",
    "        dropout=0.05,\n",
    "        kernel_regularizer=regularizers.l2(1e-4),\n",
    "    )\n",
    "))"
   ]
  },
  {
   "cell_type": "markdown",
   "id": "280055cb",
   "metadata": {},
   "source": [
    "Now, we combine `Bi-LSTM` block with `InputBlock` of categorical features by concatenating them"
   ]
  },
  {
   "cell_type": "code",
   "execution_count": 33,
   "id": "fcd660b5",
   "metadata": {},
   "outputs": [],
   "source": [
    "concats = mm.ParallelBlock(\n",
    "    {'dense_block': dense_block, \n",
    "     'cat_inputs': cat_inputs},\n",
    "    aggregation='concat'\n",
    ")"
   ]
  },
  {
   "cell_type": "markdown",
   "id": "4380ca59",
   "metadata": {},
   "source": [
    "Next, we will build a 2-layer MLPBlock"
   ]
  },
  {
   "cell_type": "code",
   "execution_count": 34,
   "id": "deea812a",
   "metadata": {},
   "outputs": [],
   "source": [
    "mlp_block = mm.MLPBlock(\n",
    "                [128,256],\n",
    "                activation='relu',\n",
    "                no_activation_last_layer=True,\n",
    "                dropout=DROPOUT,\n",
    "            )"
   ]
  },
  {
   "cell_type": "markdown",
   "id": "6ef2de27",
   "metadata": {},
   "source": [
    "Now, we define the prediction task. As we saw above in our MLP implementation, our objective is multi-class classification.\n",
    "\n",
    "Before the loss is calculated, we want to transform the model output:\n",
    "\n",
    "- We apply Weight Tying (see in the beginning) and multiply the model output with the embedding weights from ITEM_ID. The embedding dimensions and the model output dimensions have to be the same (256 in our example).\n",
    "- We transform the ground truth into OneHot representation\n",
    "- We apply Temperature Scaling\n",
    "\n",
    "Again same as above, the pipeline is called prediction_call and we add it as the pre parameter to MultiClassClassificationTask. The pipeline is executed before the loss is calculated."
   ]
  },
  {
   "cell_type": "code",
   "execution_count": 35,
   "id": "921df537-5577-46f4-a656-c2c420483751",
   "metadata": {},
   "outputs": [],
   "source": [
    "item_id_name = train.schema.select_by_tag(Tags.ITEM_ID).first.properties['domain']['name']"
   ]
  },
  {
   "cell_type": "code",
   "execution_count": 36,
   "id": "7fa8d645",
   "metadata": {},
   "outputs": [],
   "source": [
    "prediction_task= mm.CategoricalOutput(\n",
    "    to_call=seq_inputs[\"categorical\"][item_id_name],\n",
    "    logits_temperature=TEMPERATURE_SCALING,\n",
    "    target='purchase_id_first',\n",
    ")"
   ]
  },
  {
   "cell_type": "markdown",
   "id": "05106839",
   "metadata": {},
   "source": [
    "Now, we will build a model by chaining the `concats`, the `mlp_block` and the `prediction_task`"
   ]
  },
  {
   "cell_type": "code",
   "execution_count": 37,
   "id": "17e9c24e",
   "metadata": {},
   "outputs": [],
   "source": [
    "model_bi_lstm = Model(concats, mlp_block, prediction_task)"
   ]
  },
  {
   "cell_type": "markdown",
   "id": "741e6adf",
   "metadata": {},
   "source": [
    "### Fit the Model\n",
    "We initialize the optimizer and compile the model - similar to other TensorFlow Keras API. The competition was evaluated based on MRR@100."
   ]
  },
  {
   "cell_type": "code",
   "execution_count": 38,
   "id": "7673905c",
   "metadata": {},
   "outputs": [],
   "source": [
    "optimizer = tf.keras.optimizers.Adam(\n",
    "    learning_rate=LEARNING_RATE\n",
    ")\n",
    "\n",
    "model_bi_lstm.compile(\n",
    "    optimizer=optimizer,\n",
    "    run_eagerly=False,\n",
    "    loss=tf.keras.losses.CategoricalCrossentropy(\n",
    "        from_logits=True, \n",
    "        label_smoothing=LABEL_SMOOTHING\n",
    "    ),\n",
    "    metrics=mm.TopKMetricsAggregator.default_metrics(top_ks=[100])\n",
    ")"
   ]
  },
  {
   "cell_type": "markdown",
   "id": "d845114e",
   "metadata": {},
   "source": [
    "Now, we train the model"
   ]
  },
  {
   "cell_type": "code",
   "execution_count": 39,
   "id": "7dfa4858-d87c-43db-a6fa-c02a55e83941",
   "metadata": {},
   "outputs": [
    {
     "name": "stderr",
     "output_type": "stream",
     "text": [
      "2022-11-14 21:28:30.194487: I tensorflow/stream_executor/cuda/cuda_dnn.cc:424] Loaded cuDNN version 8500\n"
     ]
    },
    {
     "name": "stdout",
     "output_type": "stream",
     "text": [
      "Epoch 1/3\n"
     ]
    },
    {
     "name": "stderr",
     "output_type": "stream",
     "text": [
      "/usr/local/lib/python3.8/dist-packages/tensorflow/python/framework/indexed_slices.py:444: UserWarning: Converting sparse IndexedSlices(IndexedSlices(indices=Tensor(\"Adam/gradients/concat_1:0\", shape=(None,), dtype=int32), values=Tensor(\"gradient_tape/model_1/parallel_block_3/sequential_block_4/concat_features_1/RaggedConcat/Slice_1:0\", shape=(None, None), dtype=float32), dense_shape=Tensor(\"gradient_tape/model_1/parallel_block_3/sequential_block_4/concat_features_1/RaggedConcat/Shape:0\", shape=(2,), dtype=int32))) to a dense Tensor of unknown shape. This may consume a large amount of memory.\n",
      "  warnings.warn(\n",
      "/usr/local/lib/python3.8/dist-packages/tensorflow/python/framework/indexed_slices.py:444: UserWarning: Converting sparse IndexedSlices(IndexedSlices(indices=Tensor(\"Adam/gradients/concat_1:0\", shape=(None,), dtype=int32), values=Tensor(\"gradient_tape/model_1/parallel_block_3/sequential_block_4/concat_features_1/RaggedConcat/Slice_3:0\", shape=(None, None), dtype=float32), dense_shape=Tensor(\"gradient_tape/model_1/parallel_block_3/sequential_block_4/concat_features_1/RaggedConcat/Shape_1:0\", shape=(2,), dtype=int32))) to a dense Tensor of unknown shape. This may consume a large amount of memory.\n",
      "  warnings.warn(\n",
      "/usr/local/lib/python3.8/dist-packages/tensorflow/python/framework/indexed_slices.py:444: UserWarning: Converting sparse IndexedSlices(IndexedSlices(indices=Tensor(\"Adam/gradients/concat_1:0\", shape=(None,), dtype=int32), values=Tensor(\"gradient_tape/model_1/parallel_block_3/sequential_block_4/concat_features_1/RaggedConcat/Slice_5:0\", shape=(None, None), dtype=float32), dense_shape=Tensor(\"gradient_tape/model_1/parallel_block_3/sequential_block_4/concat_features_1/RaggedConcat/Shape_2:0\", shape=(2,), dtype=int32))) to a dense Tensor of unknown shape. This may consume a large amount of memory.\n",
      "  warnings.warn(\n"
     ]
    },
    {
     "name": "stdout",
     "output_type": "stream",
     "text": [
      "900/900 [==============================] - 130s 134ms/step - loss: 7.9867 - recall_at_100: 0.3258 - mrr_at_100: 0.0699 - ndcg_at_100: 0.1176 - map_at_100: 0.0699 - precision_at_100: 0.0033 - regularization_loss: 0.0176 - loss_batch: 7.9854 - val_loss: 7.8615 - val_recall_at_100: 0.5018 - val_mrr_at_100: 0.1206 - val_ndcg_at_100: 0.1936 - val_map_at_100: 0.1206 - val_precision_at_100: 0.0050 - val_regularization_loss: 0.0223 - val_loss_batch: 7.6797\n",
      "Epoch 2/3\n",
      "900/900 [==============================] - 120s 132ms/step - loss: 7.4552 - recall_at_100: 0.4773 - mrr_at_100: 0.1220 - ndcg_at_100: 0.1901 - map_at_100: 0.1220 - precision_at_100: 0.0048 - regularization_loss: 0.0194 - loss_batch: 7.4537 - val_loss: 7.8612 - val_recall_at_100: 0.4927 - val_mrr_at_100: 0.1288 - val_ndcg_at_100: 0.1990 - val_map_at_100: 0.1288 - val_precision_at_100: 0.0049 - val_regularization_loss: 0.0201 - val_loss_batch: 7.6873\n",
      "Epoch 3/3\n",
      "900/900 [==============================] - 120s 132ms/step - loss: 7.2672 - recall_at_100: 0.5509 - mrr_at_100: 0.1488 - ndcg_at_100: 0.2263 - map_at_100: 0.1488 - precision_at_100: 0.0055 - regularization_loss: 0.0198 - loss_batch: 7.2649 - val_loss: 7.9537 - val_recall_at_100: 0.4840 - val_mrr_at_100: 0.1277 - val_ndcg_at_100: 0.1964 - val_map_at_100: 0.1277 - val_precision_at_100: 0.0048 - val_regularization_loss: 0.0189 - val_loss_batch: 7.7597\n"
     ]
    }
   ],
   "source": [
    "history = model_bi_lstm.fit(\n",
    "    loader,\n",
    "    validation_data=val_loader,\n",
    "    epochs=EPOCHS,\n",
    ")"
   ]
  },
  {
   "cell_type": "markdown",
   "id": "59bb684f",
   "metadata": {},
   "source": [
    "We can evaluate the model"
   ]
  },
  {
   "cell_type": "code",
   "execution_count": 40,
   "id": "2676f668",
   "metadata": {},
   "outputs": [
    {
     "name": "stdout",
     "output_type": "stream",
     "text": [
      "78/78 [==============================] - 9s 112ms/step - loss: 7.9537 - recall_at_100: 0.4834 - mrr_at_100: 0.1274 - ndcg_at_100: 0.1960 - map_at_100: 0.1274 - precision_at_100: 0.0048 - regularization_loss: 0.0189 - loss_batch: 7.9496\n"
     ]
    },
    {
     "data": {
      "text/plain": [
       "0.1277383416891098"
      ]
     },
     "execution_count": 40,
     "metadata": {},
     "output_type": "execute_result"
    }
   ],
   "source": [
    "metrics_bi_lstm = model_bi_lstm.evaluate(val_loader, batch_size=BATCH_SIZE, return_dict=True)\n",
    "metrics_bi_lstm['mrr_at_100']"
   ]
  },
  {
   "cell_type": "markdown",
   "id": "77c9a164-df68-417f-a634-c2966abe52a0",
   "metadata": {},
   "source": [
    "Note that final score `mrr_at_100` we printed out above is the average over all steps, whereas the value we get from progress bar shows the score of the last n_steps (by default =1)."
   ]
  },
  {
   "cell_type": "markdown",
   "id": "e525cdc3",
   "metadata": {},
   "source": [
    "## Training a Transformer-based Model\n",
    "\n",
    "In recent years, several deep learning-based algorithms have been proposed for recommendation systems while its adoption in industry deployments have been steeply growing. In particular, NLP inspired approaches have been successfully adapted for sequential and session-based recommendation problems, which are important for many domains like e-commerce, news and streaming media. Session-Based Recommender Systems (SBRS) have been proposed to model the sequence of interactions within the current user session, where a session is a short sequence of user interactions typically bounded by user inactivity. They have recently gained popularity due to their ability to capture short-term or contextual user preferences towards items.\n",
    "\n",
    "The field of NLP has evolved significantly within the last decade, particularly due to the increased usage of deep learning. As a result, state of the art NLP approaches have inspired RecSys practitioners and researchers to adapt those architectures, especially for sequential and session-based recommendation problems. Here, we use one of the state-of-the-art Transformer-based architecture, [XLNet](https://arxiv.org/abs/1906.08237) with Causal Language Modeling (CLM) training technique for multi-class classification task. For this, we leverage the popular HuggingFace’s Transformers NLP library and make it possible to experiment with cutting-edge implementation of such architectures for sequential and session-based recommendation problems."
   ]
  },
  {
   "cell_type": "markdown",
   "id": "7deb8987-9ee7-4301-be2a-cc2efe2f9497",
   "metadata": {},
   "source": [
    "We train an `XLNet` model which concatenates the embedding vectors for all sequential features (`item_id_list_seq`, `f_47_list_seq`, `f_68_list_seq`) per step in the input block. "
   ]
  },
  {
   "cell_type": "code",
   "execution_count": 41,
   "id": "5481d0f8-58aa-4191-ae96-30d1ddb82b03",
   "metadata": {},
   "outputs": [
    {
     "data": {
      "text/plain": [
       "'item_id_purchase_id'"
      ]
     },
     "execution_count": 41,
     "metadata": {},
     "output_type": "execute_result"
    }
   ],
   "source": [
    "item_id_name = train.schema.select_by_tag(Tags.ITEM_ID).first.properties['domain']['name']\n",
    "item_id_name"
   ]
  },
  {
   "cell_type": "code",
   "execution_count": 42,
   "id": "19d1d918-fc3b-45f0-aee0-876b30897bcd",
   "metadata": {},
   "outputs": [],
   "source": [
    "EMBED_DIM = 32\n",
    "embeds = {'item_id_list_seq':EMBED_DIM,\n",
    "          'f_47_list_seq': 16,\n",
    "          'f_68_list_seq': 16\n",
    "         }\n",
    "\n",
    "inputs = mm.InputBlockV2(\n",
    "        train.schema.select_by_name(\n",
    "        ['item_id_list_seq', 'f_47_list_seq', 'f_68_list_seq']\n",
    "    ),\n",
    "        embeddings=mm.Embeddings(train.schema.select_by_name(['item_id_list_seq', 'f_47_list_seq', 'f_68_list_seq']\n",
    "                                                            ),\n",
    "                                 sequence_combiner=None,\n",
    "                                 dim=embeds\n",
    "                                )\n",
    ")\n"
   ]
  },
  {
   "cell_type": "markdown",
   "id": "34277fc8-48d6-4658-ae9b-c9d1beb8ab57",
   "metadata": {},
   "source": [
    "We can check the output from the input block and its dimension. We obtain a 3-D sequence representation (batch_size, sequence_length, hidden_dim)."
   ]
  },
  {
   "cell_type": "code",
   "execution_count": 43,
   "id": "6d523493-2fa0-4fbb-bc1c-52a522532f62",
   "metadata": {},
   "outputs": [],
   "source": [
    "batch = mm.sample_batch(train, batch_size=128, include_targets=False, to_ragged=True)"
   ]
  },
  {
   "cell_type": "code",
   "execution_count": 44,
   "id": "b4a65115-560f-4509-8a24-8b57a8071339",
   "metadata": {},
   "outputs": [
    {
     "data": {
      "text/plain": [
       "TensorShape([128, None, 64])"
      ]
     },
     "execution_count": 44,
     "metadata": {},
     "output_type": "execute_result"
    }
   ],
   "source": [
    "inputs(batch).shape"
   ]
  },
  {
   "cell_type": "markdown",
   "id": "59fbf470-8124-4a30-ac19-924ad313a151",
   "metadata": {},
   "source": [
    "Below we need an MLP projection due to residual connection in the Transformer model, therefore we add an MLPBlock in the model pipeline. The output of XLNetBlock is a 2D tensor `(batch_size, d_model)`, and it is then fed to final output layer.\n",
    "\n",
    "[CategoricalOutput](https://github.com/NVIDIA-Merlin/models/blob/main/merlin/models/tf/outputs/classification.py#L112) class has the functionality to do `weight-tying`."
   ]
  },
  {
   "cell_type": "code",
   "execution_count": 81,
   "id": "5a00ec60-bc2f-4853-9988-93dbb3c0df18",
   "metadata": {},
   "outputs": [],
   "source": [
    "model_transformer = mm.Model(\n",
    "    inputs,\n",
    "    mm.MLPBlock([EMBED_DIM]), \n",
    "    mm.XLNetBlock(\n",
    "        d_model=EMBED_DIM,\n",
    "        n_head=4,\n",
    "        n_layer=2,\n",
    "        post='sequence_mean',\n",
    "    ),\n",
    "    mm.CategoricalOutput(\n",
    "        to_call=inputs[\"categorical\"][item_id_name],\n",
    "        logits_temperature=TEMPERATURE_SCALING,\n",
    "        target=\"purchase_id_first\",\n",
    "    ),\n",
    ")"
   ]
  },
  {
   "cell_type": "markdown",
   "id": "fc474897-1fe4-46cb-9c15-dd45f2ea7d22",
   "metadata": {},
   "source": [
    "We train the model"
   ]
  },
  {
   "cell_type": "code",
   "execution_count": 82,
   "id": "5b2be155-a8ed-4a7b-bed4-6a9e7663d58d",
   "metadata": {},
   "outputs": [
    {
     "name": "stdout",
     "output_type": "stream",
     "text": [
      "Epoch 1/3\n",
      "WARNING:tensorflow:Gradients do not exist for variables ['parallel_block_10/embeddings:0', 'parallel_block_10/embeddings:0', 'model_5/mask_emb:0', 'transformer/layer_._0/rel_attn/r_s_bias:0', 'transformer/layer_._0/rel_attn/seg_embed:0', 'transformer/layer_._1/rel_attn/r_s_bias:0', 'transformer/layer_._1/rel_attn/seg_embed:0'] when minimizing the loss. If you're using `model.compile()`, did you forget to provide a `loss`argument?\n"
     ]
    },
    {
     "name": "stderr",
     "output_type": "stream",
     "text": [
      "/usr/local/lib/python3.8/dist-packages/tensorflow/python/framework/indexed_slices.py:444: UserWarning: Converting sparse IndexedSlices(IndexedSlices(indices=Tensor(\"gradient_tape/model_5/xl_net_block_3/prepare_transformer_inputs_4/RaggedToTensor/boolean_mask_1/GatherV2:0\", shape=(None,), dtype=int32), values=Tensor(\"gradient_tape/model_5/xl_net_block_3/prepare_transformer_inputs_4/RaggedToTensor/boolean_mask/GatherV2:0\", shape=(None, 32), dtype=float32), dense_shape=Tensor(\"gradient_tape/model_5/xl_net_block_3/prepare_transformer_inputs_4/RaggedToTensor/Shape:0\", shape=(2,), dtype=int32))) to a dense Tensor of unknown shape. This may consume a large amount of memory.\n",
      "  warnings.warn(\n"
     ]
    },
    {
     "name": "stdout",
     "output_type": "stream",
     "text": [
      "WARNING:tensorflow:Gradients do not exist for variables ['parallel_block_10/embeddings:0', 'parallel_block_10/embeddings:0', 'model_5/mask_emb:0', 'transformer/layer_._0/rel_attn/r_s_bias:0', 'transformer/layer_._0/rel_attn/seg_embed:0', 'transformer/layer_._1/rel_attn/r_s_bias:0', 'transformer/layer_._1/rel_attn/seg_embed:0'] when minimizing the loss. If you're using `model.compile()`, did you forget to provide a `loss`argument?\n",
      "900/900 [==============================] - 135s 141ms/step - loss: 8.7269 - recall_at_100: 0.1928 - mrr_at_100: 0.0228 - ndcg_at_100: 0.0528 - map_at_100: 0.0228 - precision_at_100: 0.0019 - regularization_loss: 0.0000e+00 - loss_batch: 8.7260 - val_loss: 8.5244 - val_recall_at_100: 0.3358 - val_mrr_at_100: 0.0418 - val_ndcg_at_100: 0.0957 - val_map_at_100: 0.0418 - val_precision_at_100: 0.0034 - val_regularization_loss: 0.0000e+00 - val_loss_batch: 8.3593\n",
      "Epoch 2/3\n",
      "900/900 [==============================] - 126s 138ms/step - loss: 8.4667 - recall_at_100: 0.2321 - mrr_at_100: 0.0283 - ndcg_at_100: 0.0646 - map_at_100: 0.0283 - precision_at_100: 0.0023 - regularization_loss: 0.0000e+00 - loss_batch: 8.4660 - val_loss: 8.4342 - val_recall_at_100: 0.3507 - val_mrr_at_100: 0.0438 - val_ndcg_at_100: 0.1003 - val_map_at_100: 0.0438 - val_precision_at_100: 0.0035 - val_regularization_loss: 0.0000e+00 - val_loss_batch: 8.2732\n",
      "Epoch 3/3\n",
      "900/900 [==============================] - 126s 138ms/step - loss: 8.3687 - recall_at_100: 0.2628 - mrr_at_100: 0.0321 - ndcg_at_100: 0.0734 - map_at_100: 0.0321 - precision_at_100: 0.0026 - regularization_loss: 0.0000e+00 - loss_batch: 8.3680 - val_loss: 8.3778 - val_recall_at_100: 0.3602 - val_mrr_at_100: 0.0464 - val_ndcg_at_100: 0.1040 - val_map_at_100: 0.0464 - val_precision_at_100: 0.0036 - val_regularization_loss: 0.0000e+00 - val_loss_batch: 8.2196\n"
     ]
    },
    {
     "data": {
      "text/plain": [
       "<keras.callbacks.History at 0x7f400cd8f460>"
      ]
     },
     "execution_count": 82,
     "metadata": {},
     "output_type": "execute_result"
    }
   ],
   "source": [
    "optimizer = tf.keras.optimizers.Adam(\n",
    "    learning_rate=0.01\n",
    ")\n",
    "\n",
    "model_transformer.compile(\n",
    "    optimizer=optimizer,\n",
    "    run_eagerly=False,\n",
    "    loss=tf.keras.losses.CategoricalCrossentropy(\n",
    "        from_logits=True, \n",
    "        label_smoothing=LABEL_SMOOTHING\n",
    "    ),\n",
    "    metrics=mm.TopKMetricsAggregator.default_metrics(top_ks=[100])\n",
    ")\n",
    "\n",
    "model_transformer.fit(loader, \n",
    "                      validation_data=val_loader,\n",
    "                      epochs=EPOCHS\n",
    "                     )"
   ]
  },
  {
   "cell_type": "markdown",
   "id": "1ad2bf6e-5bfe-4831-bc07-0b1f460b313f",
   "metadata": {},
   "source": [
    "We can evaluate the model"
   ]
  },
  {
   "cell_type": "code",
   "execution_count": 83,
   "id": "f9edc817-3d25-4c4c-9429-8a36e5bdedb8",
   "metadata": {},
   "outputs": [
    {
     "name": "stdout",
     "output_type": "stream",
     "text": [
      "1/1 [==============================] - 0s 430ms/step - loss: 8.3810 - recall_at_100: 0.3555 - mrr_at_100: 0.0462 - ndcg_at_100: 0.1035 - map_at_100: 0.0462 - precision_at_100: 0.0036 - regularization_loss: 0.0000e+00 - loss_batch: 8.3810\n"
     ]
    }
   ],
   "source": [
    "metrics = model_transformer.evaluate(val_loader, steps=1, return_dict=True)"
   ]
  },
  {
   "cell_type": "markdown",
   "id": "49643076-dc75-41f0-bae8-678b2fe68fbd",
   "metadata": {},
   "source": [
    "## Summary"
   ]
  },
  {
   "cell_type": "markdown",
   "id": "e2b1c6ea-4576-4bd4-86e7-f4972ebce380",
   "metadata": {},
   "source": [
    "In this example, we focused on concepts which are relevant for a broad range of recommender system use cases. If you compare the MRR to the competition, you will notice, that the MRR can be much higher. Following are additional techniques that can be applied to improve the MRR:\n",
    "- Data Augmentations - in the RecSys'22 challenge, we used a lot of different techniques to increase the training dataset. The techniques are specific to the dataset and we did not include it in the example:\n",
    "- Additional item features - we focused on only a few item features\n",
    "- Stacking - we stacked 17 models with a two-step approach\n",
    "- Ensemble - we ensembled 3 different stacked models\n",
    "- Hyperparameter Search - we ran multiple HPO jobs to find the best hyperparameters\n",
    "\n",
    "In addition, the MRR on the June month (test data) was in general higher than in May (validation)"
   ]
  }
 ],
 "metadata": {
  "kernelspec": {
   "display_name": "Python 3 (ipykernel)",
   "language": "python",
   "name": "python3"
  },
  "language_info": {
   "codemirror_mode": {
    "name": "ipython",
    "version": 3
   },
   "file_extension": ".py",
   "mimetype": "text/x-python",
   "name": "python",
   "nbconvert_exporter": "python",
   "pygments_lexer": "ipython3",
   "version": "3.8.10"
  },
  "vscode": {
   "interpreter": {
    "hash": "ab403bb43341787581f43b51cdd291d61392c89ddb0f92179de653921d4e05db"
   }
  }
 },
 "nbformat": 4,
 "nbformat_minor": 5
}
