{
 "cells": [
  {
   "cell_type": "code",
   "execution_count": 1,
   "id": "cef5df96",
   "metadata": {},
   "outputs": [],
   "source": [
    "# Copyright 2021 NVIDIA Corporation. All Rights Reserved.\n",
    "#\n",
    "# Licensed under the Apache License, Version 2.0 (the \"License\");\n",
    "# you may not use this file except in compliance with the License.\n",
    "# You may obtain a copy of the License at\n",
    "#\n",
    "#     http://www.apache.org/licenses/LICENSE-2.0\n",
    "#\n",
    "# Unless required by applicable law or agreed to in writing, software\n",
    "# distributed under the License is distributed on an \"AS IS\" BASIS,\n",
    "# WITHOUT WARRANTIES OR CONDITIONS OF ANY KIND, either express or implied.\n",
    "# See the License for the specific language governing permissions and\n",
    "# limitations under the License.\n",
    "# =============================================================================="
   ]
  },
  {
   "cell_type": "markdown",
   "id": "854815b0",
   "metadata": {},
   "source": [
    "<img src=\"https://developer.download.nvidia.com/notebooks/dlsw-notebooks/merlin_models_ecommerce-session-based-next-item-prediction-for-fashion/nvidia_logo.png\" style=\"width: 90px; float: right;\">\n",
    "\n",
    "# Session-Based Next Item Prediction for Fashion E-Commerce\n",
    "\n",
    "This notebook is created using the latest stable [merlin-tensorflow](https://catalog.ngc.nvidia.com/orgs/nvidia/teams/merlin/containers/merlin-tensorflow/tags) container. \n",
    "\n",
    "## Overview\n",
    "\n",
    "NVIDIA-Merlin team participated in [Recsys2022 challenge](http://www.recsyschallenge.com/2022/index.html) and secured 3rd position. This notebook contains the various techniques used in the solution.\n",
    "\n",
    "### Learning Objective\n",
    "\n",
    "In this notebook, we will apply important concepts that improve recommender systems. We leveraged them for our RecSys solution:\n",
    "- MultiClass next item prediction head with Merlin Models\n",
    "- Sequential input features representing user sessions\n",
    "- Label Smoothing \n",
    "- Temperature Scaling\n",
    "- Weight Tying\n",
    "- Learning Rate Scheduler\n",
    "\n",
    "### Brief Description of the Concepts\n",
    "\n",
    "##### Label smoothing\n",
    "In recommender systems, we often have noisy datasets. A user cannot view all items to make the best decision. Noisy examples can result in high gradients and confuse the model. Label smoothing addresses the problem of noisy examples by smoothing the porbabilities to avoid high confident predictions.\n",
    "\n",
    "$$  \\begin{array}{l}\n",
    "y_{l} \\ =\\ ( 1\\ -\\ \\alpha \\ ) \\ *\\ y_{o} \\ +\\ ( \\alpha \\ /\\ L)\\\\\n",
    "\\alpha :\\ Label\\ smoothing\\ hyper-parameter\\ ( 0 \\leq \\alpha \\leq 1 ) \\\\\n",
    "L:\\ Total\\ number\\ of\\ label\\ classes\\\\\n",
    "y_{o} :\\ One-hot\\ encoded\\ label\\ vector\n",
    "\\end{array}\n",
    "$$\n",
    "\n",
    "When α is 0, we have the original one-hot encoded labels, and as α increases, we move towards smoothed labels. Read [this](https://arxiv.org/abs/1906.02629) paper to learn more about it.\n",
    "\n",
    "\n",
    "##### Temperature Scaling\n",
    "Similar to Label Smoothing, Temperature Scaling is done to reduce the overconfidence of a model. In this, we divide the logits (inputs to the softmax function) by a scalar parameter (T) . For more information on Temperature Scaling read [this](https://arxiv.org/pdf/1706.04599.pdf) paper.\n",
    "$$ softmax\\ =\\ \\frac{e\\ ^{( z_{i} \\ /\\ \\ T)}}{\\sum _{j} \\ e^{( z_{j} \\ /\\ T)} \\ } $$\n",
    "\n",
    "\n",
    "##### Weight Tying\n",
    "Weight Tying can be applied for Multi-Class Classification problems, when we try to predict items and have previous viewed items as an input. The final output layer (without activation function) is multiplied with the traversed item embeddings, resulting in a vector with a logit for each item id. The advantage is that the gradients flow to the item embeddings are short. For more information read [this](https://arxiv.org/pdf/1608.05859v3.pdf) paper."
   ]
  },
  {
   "cell_type": "markdown",
   "id": "af678b4c",
   "metadata": {},
   "source": [
    "## Downloading and preparing the dataset"
   ]
  },
  {
   "cell_type": "markdown",
   "id": "44ee802a",
   "metadata": {},
   "source": [
    "We will import the required libraries."
   ]
  },
  {
   "cell_type": "code",
   "execution_count": 1,
   "id": "cb0e1975",
   "metadata": {},
   "outputs": [
    {
     "name": "stderr",
     "output_type": "stream",
     "text": [
      "2022-08-26 03:53:32.985517: I tensorflow/core/platform/cpu_feature_guard.cc:152] This TensorFlow binary is optimized with oneAPI Deep Neural Network Library (oneDNN) to use the following CPU instructions in performance-critical operations:  SSE3 SSE4.1 SSE4.2 AVX\n",
      "To enable them in other operations, rebuild TensorFlow with the appropriate compiler flags.\n",
      "2022-08-26 03:53:35.564738: I tensorflow/core/common_runtime/gpu/gpu_device.cc:1525] Created device /job:localhost/replica:0/task:0/device:GPU:0 with 16255 MB memory:  -> device: 0, name: Tesla V100-SXM2-32GB-LS, pci bus id: 0000:86:00.0, compute capability: 7.0\n"
     ]
    }
   ],
   "source": [
    "import os\n",
    "import glob\n",
    "\n",
    "import nvtabular as nvt\n",
    "from merlin.io import Dataset\n",
    "from merlin.schema import Schema, Tags\n",
    "from nvtabular.ops import (\n",
    "    AddMetadata,\n",
    ")\n",
    "\n",
    "\n",
    "import tensorflow as tf\n",
    "\n",
    "from tensorflow.keras import regularizers\n",
    "from merlin.models.tf.dataset import BatchedDataset\n",
    "\n",
    "import merlin.models.tf as mm\n",
    "from merlin.models.tf import InputBlock\n",
    "from merlin.models.tf.models.base import Model\n",
    "from merlin.models.tf.transforms.bias import LogitsTemperatureScaler\n",
    "from merlin.models.tf.prediction_tasks.next_item import ItemsPredictionWeightTying\n",
    "\n",
    "from merlin.core.dispatch import get_lib\n",
    "import merlin.models.tf.dataset as tf_dataloader"
   ]
  },
  {
   "cell_type": "markdown",
   "id": "af92ec55",
   "metadata": {},
   "source": [
    "###  Dressipi\n",
    "[Dressipi](http://www.recsyschallenge.com/2022/dataset.html) hosted the [Recsys2022 challenge](http://www.recsyschallenge.com/2022/index.html) and provided an anonymized dataset. It contains 1.1 M online retail sessions that resulted in a purchase. It provides details about items that were viewed in a session, the item purchased at the end of the session and numerous features of those items. The item features are categorical IDs and are not interpretable.\n",
    "\n",
    "The task of this competition was, given a sequence of items predict which item will be purchased at the end of a session.\n",
    "\n",
    "<img src=\"http://www.recsyschallenge.com/2022/images/session_purchase_data.jpeg\" alt=\"dressipi_dataset\" style=\"width: 400px; float: center;\">  \n"
   ]
  },
  {
   "cell_type": "markdown",
   "id": "7afab83f",
   "metadata": {},
   "source": [
    "### Dataset\n",
    "\n",
    "We provide a function `get_dressipi2022` which preprocess the dataset. Currently, we can't download this dataset automatically so this needs to be downloaded manually. To use this function, prepare the data by following these 3 steps:\n",
    "1. Sign up and download the data from [dressipi-recsys2022.com](https://www.dressipi-recsys2022.com/).\n",
    "2. Unzip the raw data to a directory.\n",
    "3. Define `DATA_FOLDER` to the directory\n",
    "\n",
    "In case you do not want to use this dataset to run our examples, you can also opt for synthetic data. Synthetic data can be generated by running::\n",
    "\n",
    "```python\n",
    "    from merlin.datasets.synthetic import generate_data\n",
    "    train, valid = generate_data(\"dressipi2022-preprocessed\")\n",
    "```"
   ]
  },
  {
   "cell_type": "code",
   "execution_count": 2,
   "id": "bd734f6b",
   "metadata": {},
   "outputs": [],
   "source": [
    "from merlin.datasets.ecommerce import get_dressipi2022\n",
    "\n",
    "DATA_FOLDER = os.environ.get(\n",
    "    \"DATA_FOLDER\", \n",
    "    '~/data/dressipi_recsys2022'\n",
    ")\n",
    "\n",
    "train, valid = get_dressipi2022(DATA_FOLDER)"
   ]
  },
  {
   "cell_type": "markdown",
   "id": "6fb6edf8",
   "metadata": {},
   "source": [
    "The dataset contains:\n",
    "- `session_id`, id of a session, in which a user viewed and purchased an item. \n",
    "- `item_id` which was viewed at a given `timestamp` in a session\n",
    "- `purchase_id` which is the id of item bought at the end of the session \n",
    "\n",
    "In addition to `timestamp`, we have `day` and `date` features for representing the chronological order in which items were viewed.\n",
    "\n",
    "The items in the Dresspi dataset had a many features out of which we took 22 most important features, namely \n",
    "`f_3 ,f_4 ,f_5 ,f_7 ,f_17 ,f_24 ,f_30 ,f_45 ,f_46 ,f_47 ,f_50 ,f_53 ,f_55 ,f_56 ,f_58 ,f_61 ,f_63 ,f_65 ,f_68 ,f_69 ,f_72 ,f_73`."
   ]
  },
  {
   "cell_type": "code",
   "execution_count": 4,
   "id": "7e362d59",
   "metadata": {
    "scrolled": true
   },
   "outputs": [
    {
     "data": {
      "text/html": [
       "<div>\n",
       "<style scoped>\n",
       "    .dataframe tbody tr th:only-of-type {\n",
       "        vertical-align: middle;\n",
       "    }\n",
       "\n",
       "    .dataframe tbody tr th {\n",
       "        vertical-align: top;\n",
       "    }\n",
       "\n",
       "    .dataframe thead th {\n",
       "        text-align: right;\n",
       "    }\n",
       "</style>\n",
       "<table border=\"1\" class=\"dataframe\">\n",
       "  <thead>\n",
       "    <tr style=\"text-align: right;\">\n",
       "      <th></th>\n",
       "      <th>session_id</th>\n",
       "      <th>item_id</th>\n",
       "      <th>date</th>\n",
       "      <th>f_3</th>\n",
       "      <th>f_5</th>\n",
       "      <th>f_7</th>\n",
       "      <th>f_17</th>\n",
       "      <th>f_24</th>\n",
       "      <th>f_45</th>\n",
       "      <th>f_47</th>\n",
       "      <th>...</th>\n",
       "      <th>f_61</th>\n",
       "      <th>f_63</th>\n",
       "      <th>f_65</th>\n",
       "      <th>f_68</th>\n",
       "      <th>f_69</th>\n",
       "      <th>f_72</th>\n",
       "      <th>f_73</th>\n",
       "      <th>timestamp</th>\n",
       "      <th>day</th>\n",
       "      <th>purchase_id</th>\n",
       "    </tr>\n",
       "  </thead>\n",
       "  <tbody>\n",
       "    <tr>\n",
       "      <th>0</th>\n",
       "      <td>13441</td>\n",
       "      <td>19420</td>\n",
       "      <td>2020-08-14 18:42:59.970</td>\n",
       "      <td>793</td>\n",
       "      <td>605</td>\n",
       "      <td>536</td>\n",
       "      <td>378</td>\n",
       "      <td>588</td>\n",
       "      <td>177</td>\n",
       "      <td>242</td>\n",
       "      <td>...</td>\n",
       "      <td>808</td>\n",
       "      <td>816</td>\n",
       "      <td>579</td>\n",
       "      <td>739</td>\n",
       "      <td>805</td>\n",
       "      <td>75</td>\n",
       "      <td>-1</td>\n",
       "      <td>1597430579970</td>\n",
       "      <td>226</td>\n",
       "      <td>23039</td>\n",
       "    </tr>\n",
       "    <tr>\n",
       "      <th>1</th>\n",
       "      <td>13441</td>\n",
       "      <td>22734</td>\n",
       "      <td>2020-08-14 18:43:17.426</td>\n",
       "      <td>793</td>\n",
       "      <td>605</td>\n",
       "      <td>536</td>\n",
       "      <td>378</td>\n",
       "      <td>-1</td>\n",
       "      <td>559</td>\n",
       "      <td>36</td>\n",
       "      <td>...</td>\n",
       "      <td>706</td>\n",
       "      <td>861</td>\n",
       "      <td>521</td>\n",
       "      <td>373</td>\n",
       "      <td>780</td>\n",
       "      <td>75</td>\n",
       "      <td>544</td>\n",
       "      <td>1597430597426</td>\n",
       "      <td>226</td>\n",
       "      <td>23039</td>\n",
       "    </tr>\n",
       "    <tr>\n",
       "      <th>2</th>\n",
       "      <td>13441</td>\n",
       "      <td>13369</td>\n",
       "      <td>2020-08-14 18:44:53.299</td>\n",
       "      <td>-1</td>\n",
       "      <td>-1</td>\n",
       "      <td>394</td>\n",
       "      <td>-1</td>\n",
       "      <td>588</td>\n",
       "      <td>-1</td>\n",
       "      <td>123</td>\n",
       "      <td>...</td>\n",
       "      <td>706</td>\n",
       "      <td>861</td>\n",
       "      <td>-1</td>\n",
       "      <td>373</td>\n",
       "      <td>805</td>\n",
       "      <td>75</td>\n",
       "      <td>544</td>\n",
       "      <td>1597430693299</td>\n",
       "      <td>226</td>\n",
       "      <td>23039</td>\n",
       "    </tr>\n",
       "    <tr>\n",
       "      <th>3</th>\n",
       "      <td>13441</td>\n",
       "      <td>23304</td>\n",
       "      <td>2020-08-14 18:45:33.083</td>\n",
       "      <td>-1</td>\n",
       "      <td>-1</td>\n",
       "      <td>452</td>\n",
       "      <td>378</td>\n",
       "      <td>-1</td>\n",
       "      <td>-1</td>\n",
       "      <td>165</td>\n",
       "      <td>...</td>\n",
       "      <td>706</td>\n",
       "      <td>861</td>\n",
       "      <td>521</td>\n",
       "      <td>393</td>\n",
       "      <td>592</td>\n",
       "      <td>75</td>\n",
       "      <td>-1</td>\n",
       "      <td>1597430733083</td>\n",
       "      <td>226</td>\n",
       "      <td>23039</td>\n",
       "    </tr>\n",
       "    <tr>\n",
       "      <th>4</th>\n",
       "      <td>13441</td>\n",
       "      <td>19653</td>\n",
       "      <td>2020-08-14 18:45:47.108</td>\n",
       "      <td>-1</td>\n",
       "      <td>-1</td>\n",
       "      <td>536</td>\n",
       "      <td>378</td>\n",
       "      <td>588</td>\n",
       "      <td>-1</td>\n",
       "      <td>516</td>\n",
       "      <td>...</td>\n",
       "      <td>462</td>\n",
       "      <td>861</td>\n",
       "      <td>521</td>\n",
       "      <td>379</td>\n",
       "      <td>805</td>\n",
       "      <td>75</td>\n",
       "      <td>544</td>\n",
       "      <td>1597430747108</td>\n",
       "      <td>226</td>\n",
       "      <td>23039</td>\n",
       "    </tr>\n",
       "  </tbody>\n",
       "</table>\n",
       "<p>5 rows × 24 columns</p>\n",
       "</div>"
      ],
      "text/plain": [
       "   session_id  item_id                    date  f_3  f_5  f_7  f_17  f_24  \\\n",
       "0       13441    19420 2020-08-14 18:42:59.970  793  605  536   378   588   \n",
       "1       13441    22734 2020-08-14 18:43:17.426  793  605  536   378    -1   \n",
       "2       13441    13369 2020-08-14 18:44:53.299   -1   -1  394    -1   588   \n",
       "3       13441    23304 2020-08-14 18:45:33.083   -1   -1  452   378    -1   \n",
       "4       13441    19653 2020-08-14 18:45:47.108   -1   -1  536   378   588   \n",
       "\n",
       "   f_45  f_47  ...  f_61  f_63  f_65  f_68  f_69  f_72  f_73      timestamp  \\\n",
       "0   177   242  ...   808   816   579   739   805    75    -1  1597430579970   \n",
       "1   559    36  ...   706   861   521   373   780    75   544  1597430597426   \n",
       "2    -1   123  ...   706   861    -1   373   805    75   544  1597430693299   \n",
       "3    -1   165  ...   706   861   521   393   592    75    -1  1597430733083   \n",
       "4    -1   516  ...   462   861   521   379   805    75   544  1597430747108   \n",
       "\n",
       "   day  purchase_id  \n",
       "0  226        23039  \n",
       "1  226        23039  \n",
       "2  226        23039  \n",
       "3  226        23039  \n",
       "4  226        23039  \n",
       "\n",
       "[5 rows x 24 columns]"
      ]
     },
     "execution_count": 4,
     "metadata": {},
     "output_type": "execute_result"
    }
   ],
   "source": [
    "train.to_ddf().head()"
   ]
  },
  {
   "cell_type": "markdown",
   "id": "13a4235e",
   "metadata": {},
   "source": [
    "## Feature Engineering with NVTabular\n",
    "\n",
    "We use NVTabular for Feature Engineering. If you want to learn more about NVTabular, we recommend the [examples in the NVTabular GitHub Repository](https://github.com/NVIDIA-Merlin/NVTabular/tree/main/examples)."
   ]
  },
  {
   "cell_type": "markdown",
   "id": "89f5e2b7",
   "metadata": {},
   "source": [
    "### Categorify\n",
    "\n",
    "We want to use embedding layers for our categorical features. First, we need to Categorify them, that they are contiguous integers. \n",
    "\n",
    "The features `item_id` and `purchase_id` belongs to the same category. If `item_id` is 8432 and `purchase_id` is 8432, they are the same item. When we want to apply Categorify, we want to keep the connection. We can achieve this by encoding them jointly by providing them as a list in the list `[['item_id', 'purchase_id']]`."
   ]
  },
  {
   "cell_type": "markdown",
   "id": "1389a708",
   "metadata": {},
   "source": [
    "We will use only 2 of the categorical item features in this example."
   ]
  },
  {
   "cell_type": "code",
   "execution_count": 5,
   "id": "0f834311",
   "metadata": {},
   "outputs": [
    {
     "name": "stdout",
     "output_type": "stream",
     "text": [
      "CPU times: user 188 µs, sys: 0 ns, total: 188 µs\n",
      "Wall time: 208 µs\n"
     ]
    }
   ],
   "source": [
    "%%time\n",
    "item_features_names = ['f_' + str(col) for col in [47, 68]]\n",
    "cat_features = ['session_id', ['item_id', 'purchase_id']] + item_features_names >> nvt.ops.Categorify()\n",
    "\n",
    "features = ['timestamp','date'] + cat_features"
   ]
  },
  {
   "cell_type": "markdown",
   "id": "fe10a791",
   "metadata": {},
   "source": [
    "### GroupBy the data by sessions.\n",
    "\n",
    "Currently, every row is a viewed item in the dataset. Our goal is to predict the item purchased after the last view in a session. Therefore, we groupby the dataset by `session_id` to have one row for each prediction.\n",
    "\n",
    "Each row will have a sequence of encoded items ids with which a user interacted. The last item of a session has special importance as it is closer to the user's intention. We will keep the viewed item as a separate feature.\n",
    "\n",
    "The NVTabular `GroupBy` op enables the transformation. \n",
    "\n",
    "First, we define how the different columns should be aggregates:\n",
    "- Keep the first occurrence of `date`\n",
    "- Keep the last item and concatenate all items to a list (results are 2 features)\n",
    "- Keep the first occurrence of `purchase_id` (purchase_id should be the same for all rows of one session)"
   ]
  },
  {
   "cell_type": "code",
   "execution_count": 6,
   "id": "de40cfc5",
   "metadata": {},
   "outputs": [],
   "source": [
    "to_aggregate = {}\n",
    "to_aggregate['date'] = [\"first\"]\n",
    "to_aggregate['item_id'] = [\"last\", \"list\"]\n",
    "to_aggregate['purchase_id'] = [\"first\"]   "
   ]
  },
  {
   "cell_type": "markdown",
   "id": "453abf34",
   "metadata": {},
   "source": [
    "In addition, we concatenate each item features to a list."
   ]
  },
  {
   "cell_type": "code",
   "execution_count": 7,
   "id": "7d6450e7",
   "metadata": {},
   "outputs": [],
   "source": [
    "for name in item_features_names: \n",
    "    to_aggregate[name] = ['list']"
   ]
  },
  {
   "cell_type": "code",
   "execution_count": 8,
   "id": "6963a0c0",
   "metadata": {},
   "outputs": [
    {
     "data": {
      "text/plain": [
       "{'date': ['first'],\n",
       " 'item_id': ['last', 'list'],\n",
       " 'purchase_id': ['first'],\n",
       " 'f_47': ['list'],\n",
       " 'f_68': ['list']}"
      ]
     },
     "execution_count": 8,
     "metadata": {},
     "output_type": "execute_result"
    }
   ],
   "source": [
    "to_aggregate"
   ]
  },
  {
   "cell_type": "markdown",
   "id": "caead45e",
   "metadata": {},
   "source": [
    "We want to sort the dataframe by `date` and groupby the columns by `session_id`."
   ]
  },
  {
   "cell_type": "code",
   "execution_count": 9,
   "id": "ad84c3af",
   "metadata": {},
   "outputs": [],
   "source": [
    "groupby_features = features >> nvt.ops.Groupby(\n",
    "    groupby_cols=[\"session_id\"], \n",
    "    sort_cols=[\"date\"],\n",
    "    aggs= to_aggregate,\n",
    "    name_sep=\"_\")"
   ]
  },
  {
   "cell_type": "markdown",
   "id": "a375e1d5",
   "metadata": {},
   "source": [
    "Merlin Models can infer the neural network architecture from the dataset schema. We will Tag the columns accordingly based on the type of each column. If you want to learn more, we recommend our [Dataset Schema Example](https://github.com/NVIDIA-Merlin/models/blob/main/examples/02-Merlin-Models-and-NVTabular-integration.ipynb)."
   ]
  },
  {
   "cell_type": "code",
   "execution_count": 10,
   "id": "8732e63c",
   "metadata": {},
   "outputs": [],
   "source": [
    "item_last = (\n",
    "    groupby_features['item_id_last'] >> \n",
    "    AddMetadata(tags=[Tags.ITEM, Tags.ITEM_ID])\n",
    ")\n",
    "item_list = (\n",
    "    groupby_features['item_id_list'] >> \n",
    "    AddMetadata(\n",
    "        tags=[Tags.ITEM, Tags.ITEM_ID, Tags.LIST, Tags.SEQUENCE]\n",
    "    )\n",
    ")\n",
    "feature_list = (\n",
    "    groupby_features[[name+'_list' for name in item_features_names]] >> \n",
    "    AddMetadata(\n",
    "        tags=[Tags.SEQUENCE, Tags.ITEM, Tags.LIST]\n",
    "    )\n",
    ")\n",
    "target_feature = (\n",
    "    groupby_features['purchase_id_first'] >> \n",
    "    AddMetadata(tags=[Tags.TARGET])\n",
    ")\n",
    "other_features = groupby_features['session_id', 'date_first']\n",
    "\n",
    "groupby_features = item_last + item_list + feature_list + other_features + target_feature\n"
   ]
  },
  {
   "cell_type": "markdown",
   "id": "2e9a9832",
   "metadata": {},
   "source": [
    "### Truncate and Padding for a Maximum Sequence Length\n",
    "\n",
    "We want to truncate and pad the sequential features. We define the columns, which are sequential features and the non-sequential ones. We truncate the sequence by keeping the last 3 elements."
   ]
  },
  {
   "cell_type": "code",
   "execution_count": 11,
   "id": "0e65dbe4",
   "metadata": {},
   "outputs": [],
   "source": [
    "list_features = [name+'_list' for name in item_features_names] + ['item_id_list']\n",
    "nonlist_features = ['session_id', 'date_first', 'item_id_last', 'purchase_id_first']"
   ]
  },
  {
   "cell_type": "code",
   "execution_count": 12,
   "id": "d0d338d0",
   "metadata": {},
   "outputs": [],
   "source": [
    "SESSIONS_MAX_LENGTH = 3\n",
    "truncated_features = groupby_features[list_features] >> nvt.ops.ListSlice(-SESSIONS_MAX_LENGTH, pad=True) >> nvt.ops.Rename(postfix = '_seq')\n",
    "\n",
    "final_features = groupby_features[nonlist_features] + truncated_features"
   ]
  },
  {
   "cell_type": "markdown",
   "id": "cdb2caa1",
   "metadata": {},
   "source": [
    "We initialize our NVTabular workflow."
   ]
  },
  {
   "cell_type": "code",
   "execution_count": 13,
   "id": "74b030ef",
   "metadata": {},
   "outputs": [],
   "source": [
    "workflow = nvt.Workflow(final_features)"
   ]
  },
  {
   "cell_type": "markdown",
   "id": "c6954007",
   "metadata": {},
   "source": [
    "We call fit and transform similar to the scikit learn API.\n",
    "\n",
    "Categorify will map item_ids (and purchase_ids), which does not occur in the train dataset, to a special category `0` in the validation dataset. This can bias the validation metrics. In our example, almost all item_ids in validation are available in train and we neglect it."
   ]
  },
  {
   "cell_type": "code",
   "execution_count": 14,
   "id": "65f5c222",
   "metadata": {},
   "outputs": [
    {
     "name": "stderr",
     "output_type": "stream",
     "text": [
      "/usr/local/lib/python3.8/dist-packages/cudf/core/dataframe.py:1292: UserWarning: The deep parameter is ignored and is only included for pandas compatibility.\n",
      "  warnings.warn(\n"
     ]
    }
   ],
   "source": [
    "# fit data\n",
    "workflow.fit(train)\n",
    "\n",
    "# transform and save data\n",
    "workflow.transform(train).to_parquet(os.path.join(DATA_FOLDER, \"train/\"), output_files=10)\n",
    "workflow.transform(valid).to_parquet(os.path.join(DATA_FOLDER, \"valid/\"), output_files=1)"
   ]
  },
  {
   "cell_type": "markdown",
   "id": "0d222c0e",
   "metadata": {},
   "source": [
    "### Sort the Training Dataset by Time\n",
    "\n",
    "The train dataset contains the data from Jan 2020 to April 2021 and the validation dataset is May 2021. As the data is split by time, we noticed that we achieve higher validation scores, when we sort the training data by time and do not apply shuffling."
   ]
  },
  {
   "cell_type": "code",
   "execution_count": 15,
   "id": "5ba81642",
   "metadata": {},
   "outputs": [],
   "source": [
    "df = get_lib().read_parquet(\n",
    "    glob.glob(\n",
    "        os.path.join(DATA_FOLDER, \"train/*.parquet\")\n",
    "    )\n",
    ")\n",
    "df = df.sort_values('date_first').reset_index(drop=True)\n",
    "df.to_parquet(os.path.join(DATA_FOLDER, \"train_sorted.parquet\"))"
   ]
  },
  {
   "cell_type": "markdown",
   "id": "f58c04dc",
   "metadata": {},
   "source": [
    "Let's review the transformed dataset."
   ]
  },
  {
   "cell_type": "code",
   "execution_count": 16,
   "id": "03de5beb",
   "metadata": {},
   "outputs": [
    {
     "data": {
      "text/html": [
       "<div>\n",
       "<style scoped>\n",
       "    .dataframe tbody tr th:only-of-type {\n",
       "        vertical-align: middle;\n",
       "    }\n",
       "\n",
       "    .dataframe tbody tr th {\n",
       "        vertical-align: top;\n",
       "    }\n",
       "\n",
       "    .dataframe thead th {\n",
       "        text-align: right;\n",
       "    }\n",
       "</style>\n",
       "<table border=\"1\" class=\"dataframe\">\n",
       "  <thead>\n",
       "    <tr style=\"text-align: right;\">\n",
       "      <th></th>\n",
       "      <th>session_id</th>\n",
       "      <th>date_first</th>\n",
       "      <th>item_id_last</th>\n",
       "      <th>purchase_id_first</th>\n",
       "      <th>f_47_list_seq</th>\n",
       "      <th>f_68_list_seq</th>\n",
       "      <th>item_id_list_seq</th>\n",
       "    </tr>\n",
       "  </thead>\n",
       "  <tbody>\n",
       "    <tr>\n",
       "      <th>773236</th>\n",
       "      <td>144306</td>\n",
       "      <td>2020-01-01 00:00:01.359</td>\n",
       "      <td>8558</td>\n",
       "      <td>14343</td>\n",
       "      <td>[2, 5, 13]</td>\n",
       "      <td>[1, 8, 7]</td>\n",
       "      <td>[670, 4633, 8558]</td>\n",
       "    </tr>\n",
       "    <tr>\n",
       "      <th>919765</th>\n",
       "      <td>102504</td>\n",
       "      <td>2020-01-01 00:00:21.440</td>\n",
       "      <td>12231</td>\n",
       "      <td>18295</td>\n",
       "      <td>[1, 1, 1]</td>\n",
       "      <td>[8, 45, 6]</td>\n",
       "      <td>[15367, 8469, 12231]</td>\n",
       "    </tr>\n",
       "    <tr>\n",
       "      <th>546675</th>\n",
       "      <td>993759</td>\n",
       "      <td>2020-01-01 00:00:48.505</td>\n",
       "      <td>5726</td>\n",
       "      <td>14805</td>\n",
       "      <td>[13, 0, 0]</td>\n",
       "      <td>[9, 0, 0]</td>\n",
       "      <td>[5726, 0, 0]</td>\n",
       "    </tr>\n",
       "    <tr>\n",
       "      <th>837402</th>\n",
       "      <td>9972</td>\n",
       "      <td>2020-01-01 00:06:37.801</td>\n",
       "      <td>10329</td>\n",
       "      <td>12877</td>\n",
       "      <td>[7, 8, 7]</td>\n",
       "      <td>[14, 3, 3]</td>\n",
       "      <td>[19797, 16836, 10329]</td>\n",
       "    </tr>\n",
       "    <tr>\n",
       "      <th>415676</th>\n",
       "      <td>357643</td>\n",
       "      <td>2020-01-01 00:08:19.297</td>\n",
       "      <td>15432</td>\n",
       "      <td>13374</td>\n",
       "      <td>[1, 5, 1]</td>\n",
       "      <td>[5, 1, 8]</td>\n",
       "      <td>[938, 15840, 15432]</td>\n",
       "    </tr>\n",
       "  </tbody>\n",
       "</table>\n",
       "</div>"
      ],
      "text/plain": [
       "        session_id              date_first  item_id_last  purchase_id_first  \\\n",
       "773236      144306 2020-01-01 00:00:01.359          8558              14343   \n",
       "919765      102504 2020-01-01 00:00:21.440         12231              18295   \n",
       "546675      993759 2020-01-01 00:00:48.505          5726              14805   \n",
       "837402        9972 2020-01-01 00:06:37.801         10329              12877   \n",
       "415676      357643 2020-01-01 00:08:19.297         15432              13374   \n",
       "\n",
       "       f_47_list_seq f_68_list_seq       item_id_list_seq  \n",
       "773236    [2, 5, 13]     [1, 8, 7]      [670, 4633, 8558]  \n",
       "919765     [1, 1, 1]    [8, 45, 6]   [15367, 8469, 12231]  \n",
       "546675    [13, 0, 0]     [9, 0, 0]           [5726, 0, 0]  \n",
       "837402     [7, 8, 7]    [14, 3, 3]  [19797, 16836, 10329]  \n",
       "415676     [1, 5, 1]     [5, 1, 8]    [938, 15840, 15432]  "
      ]
     },
     "execution_count": 16,
     "metadata": {},
     "output_type": "execute_result"
    }
   ],
   "source": [
    "df.head()"
   ]
  },
  {
   "cell_type": "code",
   "execution_count": 17,
   "id": "3e4cb388",
   "metadata": {},
   "outputs": [],
   "source": [
    "del df"
   ]
  },
  {
   "cell_type": "markdown",
   "id": "04948a31",
   "metadata": {},
   "source": [
    "## Training a MLP with sequential input with Merlin Models\n",
    "\n",
    "We train a Sequential-Multi-Layer Perceptron model, which averages the sequential input features (e.g. `item_id_list_seq`) and concatenate the resulting embeddings with the categorical embeddings (e.g. `item_id_last`). We visualize the architecture in the figure below.\n",
    "\n",
    "<img src=\"../images/mlp_ecommerce.png\"  width=\"30%\">"
   ]
  },
  {
   "cell_type": "markdown",
   "id": "1fa5b915",
   "metadata": {},
   "source": [
    "### Hyperparameters\n",
    "\n",
    "We use the following hyperparameters, we found during experimentations."
   ]
  },
  {
   "cell_type": "code",
   "execution_count": 3,
   "id": "0c39301a",
   "metadata": {},
   "outputs": [],
   "source": [
    "EPOCHS = int(os.environ.get(\n",
    "    \"EPOCHS\", \n",
    "    '10'\n",
    "))\n",
    "BATCH_SIZE = 512\n",
    "LEARNING_RATE = 0.2\n",
    "DROPOUT = 0.2 \n",
    "LABEL_SMOOTHING = 0.2\n",
    "TEMPERATURE_SCALING = 2"
   ]
  },
  {
   "cell_type": "markdown",
   "id": "da6d6a7d",
   "metadata": {},
   "source": [
    "### Dataloader\n",
    "\n",
    "We initialize the dataloaders to train the neural network models. First, we define NVTabular dataset."
   ]
  },
  {
   "cell_type": "code",
   "execution_count": 4,
   "id": "7f673e06",
   "metadata": {},
   "outputs": [
    {
     "name": "stderr",
     "output_type": "stream",
     "text": [
      "/usr/local/lib/python3.8/dist-packages/cudf/core/dataframe.py:1292: UserWarning: The deep parameter is ignored and is only included for pandas compatibility.\n",
      "  warnings.warn(\n"
     ]
    }
   ],
   "source": [
    "train = Dataset(os.path.join(DATA_FOLDER, 'train_sorted.parquet'))\n",
    "valid = Dataset(os.path.join(DATA_FOLDER, 'valid/*.parquet'))"
   ]
  },
  {
   "cell_type": "markdown",
   "id": "5546df60",
   "metadata": {},
   "source": [
    "As we loaded, sorted and saved the train dataset without using NVTabular, the parquet file doesn't contain a schema, anymore. We can copy the schema from valid to train."
   ]
  },
  {
   "cell_type": "code",
   "execution_count": 5,
   "id": "4f89a79a",
   "metadata": {},
   "outputs": [],
   "source": [
    "train.schema = valid.schema\n",
    "schema_model = train.schema"
   ]
  },
  {
   "cell_type": "markdown",
   "id": "c23313f7",
   "metadata": {},
   "source": [
    "The default dataloader does shuffle by default. We will initialize the BatchedDataset `tf_dataloader.BatchedDataset` for the training dataset."
   ]
  },
  {
   "cell_type": "code",
   "execution_count": 6,
   "id": "f0ddad65",
   "metadata": {},
   "outputs": [],
   "source": [
    "train_dl = tf_dataloader.BatchedDataset(\n",
    "    train,\n",
    "    batch_size = BATCH_SIZE,\n",
    "    shuffle = False \n",
    ")"
   ]
  },
  {
   "cell_type": "markdown",
   "id": "5e197311",
   "metadata": {},
   "source": [
    "### Build the Sequential MLP with Merlin Models\n",
    "\n",
    "Now we will create an InputBlock which takes sequential features, concatenate them and return the sequence of interaction embeddings."
   ]
  },
  {
   "cell_type": "markdown",
   "id": "838ea63b",
   "metadata": {},
   "source": [
    "We define the embedding dimensions, manually.\n",
    "\n"
   ]
  },
  {
   "cell_type": "code",
   "execution_count": 7,
   "id": "f4dce190",
   "metadata": {},
   "outputs": [],
   "source": [
    "manual_dims = {\n",
    "    'item_id_list_seq': 256, \n",
    "    'item_id_last': 256,\n",
    "    'f_47_list_seq': 16,\n",
    "    'f_68_list_seq': 16\n",
    "}\n",
    "\n",
    "emb_options = mm.EmbeddingOptions(\n",
    "        embedding_dims=manual_dims,\n",
    "        infer_embedding_sizes=False,\n",
    ")"
   ]
  },
  {
   "cell_type": "code",
   "execution_count": 8,
   "id": "4e6990cc",
   "metadata": {},
   "outputs": [],
   "source": [
    "input_block = InputBlock(\n",
    "    schema_model.select_by_name(\n",
    "        ['item_id_list_seq', 'item_id_last', 'f_47_list_seq', 'f_68_list_seq']\n",
    "    ), \n",
    "    aggregation='concat',\n",
    "    embedding_options = emb_options\n",
    ")"
   ]
  },
  {
   "cell_type": "markdown",
   "id": "a5241379",
   "metadata": {},
   "source": [
    "Next, we define the prediction task. Our objective is multi-class classification - which is the item purchased at the end of the session. Therefore, we use the `MultiClassClassificationTask` task. \n",
    "\n",
    "Before the loss is calculated, we want to transform the model output:\n",
    "1. We apply L2 norm to the model logits.\n",
    "2. We apply Weight Tying (see in the beginning) and multiply the model output with the embedding weights from ITEM_ID.  The embedding dimensions and the model output dimensions have to be the same (256 in our example).\n",
    "3. We transform the ground truth into OneHot representation\n",
    "4. We apply Temperature Scaling\n",
    "\n",
    "The pipeline is called `prediction_call` and we add it as the `pre` parameter to `MultiClassClassificationTask`. The pipeline is executed before the loss is calculated."
   ]
  },
  {
   "cell_type": "code",
   "execution_count": 9,
   "id": "0b053041",
   "metadata": {},
   "outputs": [],
   "source": [
    "prediction_call = mm.L2Norm().connect(\n",
    "    ItemsPredictionWeightTying(schema_model), \n",
    "    mm.ToOneHot(),\n",
    "    LogitsTemperatureScaler(temperature=TEMPERATURE_SCALING)\n",
    ")\n",
    "\n",
    "prediction_task = mm.MultiClassClassificationTask(\n",
    "    target_name=\"purchase_id_first\",\n",
    "    pre=prediction_call,\n",
    ")"
   ]
  },
  {
   "cell_type": "markdown",
   "id": "badda542",
   "metadata": {},
   "source": [
    "Now, we will build a model with a 2-layer MLPBlock, using `input_block` as the input and `prediction_task` as the task."
   ]
  },
  {
   "cell_type": "code",
   "execution_count": 10,
   "id": "bf487950",
   "metadata": {},
   "outputs": [
    {
     "name": "stderr",
     "output_type": "stream",
     "text": [
      "2022-08-26 03:58:01.963545: W tensorflow/python/util/util.cc:368] Sets are not currently considered sequences, but this may change in the future, so consider avoiding using them.\n"
     ]
    }
   ],
   "source": [
    "model_mlp = mm.Model.from_block(\n",
    "    mm.MLPBlock(\n",
    "        [128,256], \n",
    "        no_activation_last_layer=True, \n",
    "        dropout=0.2\n",
    "    ),\n",
    "    schema_model, \n",
    "    input_block=input_block,\n",
    "    prediction_tasks=prediction_task\n",
    ")"
   ]
  },
  {
   "cell_type": "markdown",
   "id": "54efec72",
   "metadata": {},
   "source": [
    "### Fit the Model\n",
    "\n",
    "We initialize the optimizer with `ExponentialDecay` learning rate scheduler and compile the model - similar to other TensorFlow Keras API. The competition was evaluated based on MRR@100."
   ]
  },
  {
   "cell_type": "code",
   "execution_count": 26,
   "id": "4b893377",
   "metadata": {},
   "outputs": [],
   "source": [
    "initial_learning_rate = LEARNING_RATE\n",
    "\n",
    "exp_decay_lr_scheduler = tf.keras.optimizers.schedules.ExponentialDecay(\n",
    "    initial_learning_rate,\n",
    "    decay_steps=100000,\n",
    "    decay_rate=0.96,\n",
    "    staircase=True)"
   ]
  },
  {
   "cell_type": "code",
   "execution_count": 27,
   "id": "2cd66c98",
   "metadata": {},
   "outputs": [],
   "source": [
    "optimizer = tf.keras.optimizers.Adam(\n",
    "    learning_rate=exp_decay_lr_scheduler,\n",
    ")\n",
    "\n",
    "model_mlp.compile(\n",
    "    optimizer=optimizer,\n",
    "    run_eagerly=True,\n",
    "    loss=tf.keras.losses.CategoricalCrossentropy(\n",
    "        from_logits=True, \n",
    "        label_smoothing=LABEL_SMOOTHING\n",
    "    ),\n",
    "    metrics=mm.TopKMetricsAggregator.default_metrics(top_ks=[100])\n",
    ")"
   ]
  },
  {
   "cell_type": "markdown",
   "id": "68e82bee",
   "metadata": {},
   "source": [
    "We call `.fit` to train the model."
   ]
  },
  {
   "cell_type": "code",
   "execution_count": 28,
   "id": "3f6deb23",
   "metadata": {},
   "outputs": [
    {
     "name": "stdout",
     "output_type": "stream",
     "text": [
      "Epoch 1/10\n",
      "1799/1799 [==============================] - 238s 126ms/step - loss: 7.8155 - recall_at_100: 0.3785 - mrr_at_100: 0.0795 - ndcg_at_100: 0.1359 - map_at_100: 0.0795 - precision_at_100: 0.0038 - regularization_loss: 0.0000e+00 - val_loss: 7.8217 - val_recall_at_100: 0.4966 - val_mrr_at_100: 0.1178 - val_ndcg_at_100: 0.1909 - val_map_at_100: 0.1178 - val_precision_at_100: 0.0050 - val_regularization_loss: 0.0000e+00\n",
      "Epoch 2/10\n",
      "1799/1799 [==============================] - 227s 123ms/step - loss: 7.5152 - recall_at_100: 0.4729 - mrr_at_100: 0.1191 - ndcg_at_100: 0.1874 - map_at_100: 0.1191 - precision_at_100: 0.0047 - regularization_loss: 0.0000e+00 - val_loss: 7.7903 - val_recall_at_100: 0.5068 - val_mrr_at_100: 0.1284 - val_ndcg_at_100: 0.2016 - val_map_at_100: 0.1284 - val_precision_at_100: 0.0051 - val_regularization_loss: 0.0000e+00\n",
      "Epoch 3/10\n",
      "1799/1799 [==============================] - 227s 123ms/step - loss: 7.3716 - recall_at_100: 0.5183 - mrr_at_100: 0.1389 - ndcg_at_100: 0.2125 - map_at_100: 0.1389 - precision_at_100: 0.0052 - regularization_loss: 0.0000e+00 - val_loss: 7.7944 - val_recall_at_100: 0.5075 - val_mrr_at_100: 0.1359 - val_ndcg_at_100: 0.2079 - val_map_at_100: 0.1359 - val_precision_at_100: 0.0051 - val_regularization_loss: 0.0000e+00\n",
      "Epoch 4/10\n",
      "1799/1799 [==============================] - 226s 122ms/step - loss: 7.2735 - recall_at_100: 0.5465 - mrr_at_100: 0.1531 - ndcg_at_100: 0.2295 - map_at_100: 0.1531 - precision_at_100: 0.0055 - regularization_loss: 0.0000e+00 - val_loss: 7.8116 - val_recall_at_100: 0.5067 - val_mrr_at_100: 0.1399 - val_ndcg_at_100: 0.2109 - val_map_at_100: 0.1399 - val_precision_at_100: 0.0051 - val_regularization_loss: 0.0000e+00\n",
      "Epoch 5/10\n",
      "1799/1799 [==============================] - 227s 122ms/step - loss: 7.1944 - recall_at_100: 0.5705 - mrr_at_100: 0.1655 - ndcg_at_100: 0.2443 - map_at_100: 0.1655 - precision_at_100: 0.0057 - regularization_loss: 0.0000e+00 - val_loss: 7.8276 - val_recall_at_100: 0.5055 - val_mrr_at_100: 0.1425 - val_ndcg_at_100: 0.2129 - val_map_at_100: 0.1425 - val_precision_at_100: 0.0051 - val_regularization_loss: 0.0000e+00\n",
      "Epoch 6/10\n",
      "1799/1799 [==============================] - 226s 122ms/step - loss: 7.1234 - recall_at_100: 0.5915 - mrr_at_100: 0.1772 - ndcg_at_100: 0.2581 - map_at_100: 0.1772 - precision_at_100: 0.0059 - regularization_loss: 0.0000e+00 - val_loss: 7.8481 - val_recall_at_100: 0.5021 - val_mrr_at_100: 0.1446 - val_ndcg_at_100: 0.2140 - val_map_at_100: 0.1446 - val_precision_at_100: 0.0050 - val_regularization_loss: 0.0000e+00\n",
      "Epoch 7/10\n",
      "1799/1799 [==============================] - 226s 122ms/step - loss: 7.0579 - recall_at_100: 0.6123 - mrr_at_100: 0.1879 - ndcg_at_100: 0.2709 - map_at_100: 0.1879 - precision_at_100: 0.0061 - regularization_loss: 0.0000e+00 - val_loss: 7.8753 - val_recall_at_100: 0.4991 - val_mrr_at_100: 0.1458 - val_ndcg_at_100: 0.2144 - val_map_at_100: 0.1458 - val_precision_at_100: 0.0050 - val_regularization_loss: 0.0000e+00\n",
      "Epoch 8/10\n",
      "1799/1799 [==============================] - 225s 122ms/step - loss: 6.9962 - recall_at_100: 0.6317 - mrr_at_100: 0.1982 - ndcg_at_100: 0.2831 - map_at_100: 0.1982 - precision_at_100: 0.0063 - regularization_loss: 0.0000e+00 - val_loss: 7.9069 - val_recall_at_100: 0.4961 - val_mrr_at_100: 0.1465 - val_ndcg_at_100: 0.2144 - val_map_at_100: 0.1465 - val_precision_at_100: 0.0050 - val_regularization_loss: 0.0000e+00\n",
      "Epoch 9/10\n",
      "1799/1799 [==============================] - 227s 123ms/step - loss: 6.9373 - recall_at_100: 0.6501 - mrr_at_100: 0.2085 - ndcg_at_100: 0.2953 - map_at_100: 0.2085 - precision_at_100: 0.0065 - regularization_loss: 0.0000e+00 - val_loss: 7.9500 - val_recall_at_100: 0.4918 - val_mrr_at_100: 0.1460 - val_ndcg_at_100: 0.2133 - val_map_at_100: 0.1460 - val_precision_at_100: 0.0049 - val_regularization_loss: 0.0000e+00\n",
      "Epoch 10/10\n",
      "1799/1799 [==============================] - 227s 123ms/step - loss: 6.8808 - recall_at_100: 0.6683 - mrr_at_100: 0.2189 - ndcg_at_100: 0.3074 - map_at_100: 0.2189 - precision_at_100: 0.0067 - regularization_loss: 0.0000e+00 - val_loss: 7.9849 - val_recall_at_100: 0.4880 - val_mrr_at_100: 0.1456 - val_ndcg_at_100: 0.2123 - val_map_at_100: 0.1456 - val_precision_at_100: 0.0049 - val_regularization_loss: 0.0000e+00\n",
      "CPU times: user 40min 17s, sys: 1min 18s, total: 41min 36s\n",
      "Wall time: 38min 6s\n"
     ]
    }
   ],
   "source": [
    "%%time\n",
    "history = model_mlp.fit(\n",
    "    train_dl,\n",
    "    validation_data=valid,\n",
    "    batch_size=BATCH_SIZE,\n",
    "    epochs=EPOCHS,\n",
    "    schema=schema_model,\n",
    ")"
   ]
  },
  {
   "cell_type": "markdown",
   "id": "0160f023",
   "metadata": {},
   "source": [
    "We can evaluate the model."
   ]
  },
  {
   "cell_type": "code",
   "execution_count": 39,
   "id": "4f114178",
   "metadata": {},
   "outputs": [
    {
     "name": "stdout",
     "output_type": "stream",
     "text": [
      "155/155 [==============================] - 15s 94ms/step - loss: 7.9849 - recall_at_100: 0.4598 - mrr_at_100: 0.1185 - ndcg_at_100: 0.1842 - map_at_100: 0.1185 - precision_at_100: 0.0046 - regularization_loss: 0.0000e+00\n"
     ]
    },
    {
     "data": {
      "text/plain": [
       "0.14556337893009186"
      ]
     },
     "execution_count": 39,
     "metadata": {},
     "output_type": "execute_result"
    }
   ],
   "source": [
    "metrics_mlp = model_mlp.evaluate(valid, batch_size=BATCH_SIZE, return_dict=True)\n",
    "metrics_mlp['mrr_at_100']"
   ]
  },
  {
   "cell_type": "markdown",
   "id": "b9d8dbe8",
   "metadata": {},
   "source": [
    "## Training a Bi-LSTM with Merlin Models\n",
    "\n",
    "\n",
    "We train a Bi-LSTM model, which concatenates the embedding vectors for all sequential features (`item_id_list_seq`, `f_47_list_seq`, `f_68_list_seq`) per step (e.g. here 3). The concatenated vectors are processed by a BiLSTM. The hidden state of the BiLSTM is concatenated with the embedding vectors of the categorical features (`item_id_last`). Then we connect it with a Multi-Layer Perceptron Block. We visualize the architecture in the figure below.\n",
    "\n",
    "<img src=\"../images/bi-lstm_ecommerce.png\"  width=\"30%\">"
   ]
  },
  {
   "cell_type": "markdown",
   "id": "edb13a12",
   "metadata": {},
   "source": [
    "## Hyperparameters\n",
    "We only updated the `LEARNING_RATE`, as in our experimentations we found Bi-LSTM gave better results with lower learning rate."
   ]
  },
  {
   "cell_type": "code",
   "execution_count": 11,
   "id": "e71f6927",
   "metadata": {},
   "outputs": [],
   "source": [
    "LEARNING_RATE = 0.005"
   ]
  },
  {
   "cell_type": "markdown",
   "id": "081cf607",
   "metadata": {},
   "source": [
    "### Build the Sequential MLP with Merlin Models\n",
    "Now we will create two InputBlock which takes sequential and categorical features, concatenate them and return the interaction embeddings.\n",
    "\n",
    "We define the embedding dimensions, manually."
   ]
  },
  {
   "cell_type": "code",
   "execution_count": 12,
   "id": "9275b012",
   "metadata": {},
   "outputs": [],
   "source": [
    "manual_dims = {\n",
    "    'item_id_list_seq': 256, \n",
    "    'item_id_last': 256,\n",
    "    'f_47_list_seq': 16,\n",
    "    'f_68_list_seq': 16\n",
    "}\n",
    "\n",
    "seq_inputs = InputBlock(\n",
    "        schema_model.select_by_name(\n",
    "            ['item_id_list_seq', 'f_47_list_seq', 'f_68_list_seq']\n",
    "        ),\n",
    "        aggregation='concat',\n",
    "        seq=True,\n",
    "        max_seq_length=3,\n",
    "        embedding_options=mm.EmbeddingOptions(\n",
    "            embedding_dims=manual_dims,\n",
    "            infer_embedding_sizes=False\n",
    "        ),\n",
    "        split_sparse=True,\n",
    ")\n",
    "\n",
    "cat_inputs = InputBlock(\n",
    "        schema_model.select_by_name(\n",
    "            ['item_id_last']\n",
    "        ),\n",
    "        aggregation='concat',\n",
    "        embedding_options=mm.EmbeddingOptions(\n",
    "            embedding_dims=manual_dims,\n",
    "            infer_embedding_sizes=False\n",
    "        )\n",
    ")"
   ]
  },
  {
   "cell_type": "markdown",
   "id": "5672fae7",
   "metadata": {},
   "source": [
    "### Build Bi-LSTM model\n",
    "\n",
    "Now we will create a Bi-LSTM model by defining a custom layer of type mm.Block. It will take sequential interaction embeddings as an input."
   ]
  },
  {
   "cell_type": "code",
   "execution_count": 13,
   "id": "3e500881",
   "metadata": {},
   "outputs": [],
   "source": [
    "class BiLSTM(mm.Block):\n",
    "    def __init__(self, hidden_dim= 64, **kwargs):\n",
    "        self.hidden_dim = hidden_dim\n",
    "        lstm = tf.keras.layers.LSTM(\n",
    "            hidden_dim, \n",
    "            return_sequences=False, \n",
    "            dropout=0.05,\n",
    "            kernel_regularizer=regularizers.l2(1e-4)\n",
    "        )\n",
    "        self.lstm = tf.keras.layers.Bidirectional(lstm)\n",
    "        \n",
    "        super().__init__(**kwargs)\n",
    "        \n",
    "    def call(self, inputs, training=False, **kwargs) -> tf.Tensor:  \n",
    "        interactions = inputs['input_sequence']\n",
    "        sequence_representation = self.lstm(interactions)\n",
    "        return sequence_representation\n",
    "    \n",
    "    def compute_output_shape(self, input_shape):\n",
    "        input_shape = input_shape['input_sequence']\n",
    "        return (input_shape[0], input_shape[1], self.hidden_dim*2)\n",
    "    \n",
    "    \n",
    "bilstm = BiLSTM(hidden_dim=64)"
   ]
  },
  {
   "cell_type": "markdown",
   "id": "eee8bd99",
   "metadata": {},
   "source": [
    "We connect the `InputBlock` for sequential features with `Bi-LSTM` Block"
   ]
  },
  {
   "cell_type": "code",
   "execution_count": 14,
   "id": "74e6fbdc",
   "metadata": {},
   "outputs": [],
   "source": [
    "dense_block = mm.ParallelBlock({'input_sequence': seq_inputs}).connect(bilstm)"
   ]
  },
  {
   "cell_type": "markdown",
   "id": "280055cb",
   "metadata": {},
   "source": [
    "Now, we combine `Bi-LSTM` block with `InputBlock` of categorical features by concatenating them"
   ]
  },
  {
   "cell_type": "code",
   "execution_count": 15,
   "id": "fcd660b5",
   "metadata": {},
   "outputs": [],
   "source": [
    "concats = mm.ParallelBlock(\n",
    "    {'dense_block': dense_block, \n",
    "     'cat_inputs': cat_inputs},\n",
    "    aggregation='concat'\n",
    ")"
   ]
  },
  {
   "cell_type": "markdown",
   "id": "4380ca59",
   "metadata": {},
   "source": [
    "Next, we will build a 2-layer MLPBlock"
   ]
  },
  {
   "cell_type": "code",
   "execution_count": 16,
   "id": "deea812a",
   "metadata": {},
   "outputs": [],
   "source": [
    "mlp_block = mm.MLPBlock(\n",
    "                [128,256],\n",
    "                activation='relu',\n",
    "                no_activation_last_layer=True,\n",
    "                dropout=DROPOUT,\n",
    "            )"
   ]
  },
  {
   "cell_type": "markdown",
   "id": "6ef2de27",
   "metadata": {},
   "source": [
    "Now, we define the prediction task. As we saw above in our MLP implementation, our objective is multi-class classification.\n",
    "\n",
    "Before the loss is calculated, we want to transform the model output:\n",
    "\n",
    "- We apply Weight Tying (see in the beginning) and multiply the model output with the embedding weights from ITEM_ID. The embedding dimensions and the model output dimensions have to be the same (256 in our example).\n",
    "- We transform the ground truth into OneHot representation\n",
    "- We apply Temperature Scaling\n",
    "\n",
    "Here we don't apply L2 norm to the model logits because it was detrimental to the Bi-LSTM model.\n",
    "\n",
    "Again same as above, the pipeline is called prediction_call and we add it as the pre parameter to MultiClassClassificationTask. The pipeline is executed before the loss is calculated."
   ]
  },
  {
   "cell_type": "code",
   "execution_count": 17,
   "id": "7fa8d645",
   "metadata": {},
   "outputs": [],
   "source": [
    "prediction_call = ItemsPredictionWeightTying(schema_model).connect(\n",
    "    mm.ToOneHot(),\n",
    "    LogitsTemperatureScaler(temperature=TEMPERATURE_SCALING)\n",
    ")\n",
    "\n",
    "prediction_task = mm.MultiClassClassificationTask(\n",
    "    target_name=\"purchase_id_first\",\n",
    "    pre=prediction_call,\n",
    ")"
   ]
  },
  {
   "cell_type": "markdown",
   "id": "05106839",
   "metadata": {},
   "source": [
    "Now, we will build a model by chaining the `concats`, the `mlp_block` and the `prediction_task`"
   ]
  },
  {
   "cell_type": "code",
   "execution_count": 18,
   "id": "17e9c24e",
   "metadata": {},
   "outputs": [],
   "source": [
    "model_bi_lstm = Model(concats, mlp_block, prediction_task)"
   ]
  },
  {
   "cell_type": "markdown",
   "id": "741e6adf",
   "metadata": {},
   "source": [
    "### Fit the Model\n",
    "We initialize the optimizer and compile the model - similar to other TensorFlow Keras API. The competition was evaluated based on MRR@100."
   ]
  },
  {
   "cell_type": "code",
   "execution_count": 19,
   "id": "7673905c",
   "metadata": {},
   "outputs": [],
   "source": [
    "optimizer = tf.keras.optimizers.Adam(\n",
    "    learning_rate=LEARNING_RATE\n",
    ")\n",
    "\n",
    "model_bi_lstm.compile(\n",
    "    optimizer=optimizer,\n",
    "    run_eagerly=True,\n",
    "    loss=tf.keras.losses.CategoricalCrossentropy(\n",
    "        from_logits=True, \n",
    "        label_smoothing=LABEL_SMOOTHING\n",
    "    ),\n",
    "    metrics=mm.TopKMetricsAggregator.default_metrics(top_ks=[100])\n",
    ")"
   ]
  },
  {
   "cell_type": "markdown",
   "id": "d845114e",
   "metadata": {},
   "source": [
    "Now, we train the model"
   ]
  },
  {
   "cell_type": "code",
   "execution_count": 20,
   "id": "66d73cdf",
   "metadata": {},
   "outputs": [
    {
     "name": "stderr",
     "output_type": "stream",
     "text": [
      "2022-08-26 03:58:25.555132: I tensorflow/stream_executor/cuda/cuda_dnn.cc:379] Loaded cuDNN version 8400\n"
     ]
    },
    {
     "name": "stdout",
     "output_type": "stream",
     "text": [
      "Epoch 1/10\n",
      "1799/1799 [==============================] - 300s 161ms/step - loss: 7.8659 - recall_at_100: 0.3758 - mrr_at_100: 0.0836 - ndcg_at_100: 0.1386 - map_at_100: 0.0836 - precision_at_100: 0.0038 - regularization_loss: 0.0152 - val_loss: 7.8487 - val_recall_at_100: 0.5001 - val_mrr_at_100: 0.1173 - val_ndcg_at_100: 0.1910 - val_map_at_100: 0.1173 - val_precision_at_100: 0.0050 - val_regularization_loss: 0.0167\n",
      "Epoch 2/10\n",
      "1799/1799 [==============================] - 289s 157ms/step - loss: 7.4695 - recall_at_100: 0.4989 - mrr_at_100: 0.1235 - ndcg_at_100: 0.1955 - map_at_100: 0.1235 - precision_at_100: 0.0050 - regularization_loss: 0.0198 - val_loss: 7.8655 - val_recall_at_100: 0.4986 - val_mrr_at_100: 0.1210 - val_ndcg_at_100: 0.1935 - val_map_at_100: 0.1210 - val_precision_at_100: 0.0050 - val_regularization_loss: 0.0212\n",
      "Epoch 3/10\n",
      "1799/1799 [==============================] - 290s 158ms/step - loss: 7.3353 - recall_at_100: 0.5478 - mrr_at_100: 0.1405 - ndcg_at_100: 0.2188 - map_at_100: 0.1405 - precision_at_100: 0.0055 - regularization_loss: 0.0264 - val_loss: 7.9239 - val_recall_at_100: 0.4904 - val_mrr_at_100: 0.1220 - val_ndcg_at_100: 0.1926 - val_map_at_100: 0.1220 - val_precision_at_100: 0.0049 - val_regularization_loss: 0.0266\n",
      "Epoch 4/10\n",
      "1799/1799 [==============================] - 290s 158ms/step - loss: 7.2488 - recall_at_100: 0.5786 - mrr_at_100: 0.1532 - ndcg_at_100: 0.2353 - map_at_100: 0.1532 - precision_at_100: 0.0058 - regularization_loss: 0.0325 - val_loss: 7.9885 - val_recall_at_100: 0.4801 - val_mrr_at_100: 0.1208 - val_ndcg_at_100: 0.1900 - val_map_at_100: 0.1208 - val_precision_at_100: 0.0048 - val_regularization_loss: 0.0323\n",
      "Epoch 5/10\n",
      "1799/1799 [==============================] - 291s 158ms/step - loss: 7.1853 - recall_at_100: 0.6041 - mrr_at_100: 0.1638 - ndcg_at_100: 0.2488 - map_at_100: 0.1638 - precision_at_100: 0.0060 - regularization_loss: 0.0376 - val_loss: 8.0401 - val_recall_at_100: 0.4730 - val_mrr_at_100: 0.1208 - val_ndcg_at_100: 0.1887 - val_map_at_100: 0.1208 - val_precision_at_100: 0.0047 - val_regularization_loss: 0.0363\n",
      "Epoch 6/10\n",
      "1799/1799 [==============================] - 291s 158ms/step - loss: 7.1343 - recall_at_100: 0.6248 - mrr_at_100: 0.1728 - ndcg_at_100: 0.2603 - map_at_100: 0.1728 - precision_at_100: 0.0062 - regularization_loss: 0.0418 - val_loss: 8.0850 - val_recall_at_100: 0.4706 - val_mrr_at_100: 0.1211 - val_ndcg_at_100: 0.1886 - val_map_at_100: 0.1211 - val_precision_at_100: 0.0047 - val_regularization_loss: 0.0403\n",
      "Epoch 7/10\n",
      "1799/1799 [==============================] - 290s 158ms/step - loss: 7.0932 - recall_at_100: 0.6423 - mrr_at_100: 0.1809 - ndcg_at_100: 0.2705 - map_at_100: 0.1809 - precision_at_100: 0.0064 - regularization_loss: 0.0460 - val_loss: 8.1301 - val_recall_at_100: 0.4660 - val_mrr_at_100: 0.1206 - val_ndcg_at_100: 0.1871 - val_map_at_100: 0.1206 - val_precision_at_100: 0.0047 - val_regularization_loss: 0.0442\n",
      "Epoch 8/10\n",
      "1799/1799 [==============================] - 291s 158ms/step - loss: 7.0573 - recall_at_100: 0.6563 - mrr_at_100: 0.1890 - ndcg_at_100: 0.2799 - map_at_100: 0.1890 - precision_at_100: 0.0066 - regularization_loss: 0.0494 - val_loss: 8.1635 - val_recall_at_100: 0.4620 - val_mrr_at_100: 0.1195 - val_ndcg_at_100: 0.1856 - val_map_at_100: 0.1195 - val_precision_at_100: 0.0046 - val_regularization_loss: 0.0484\n",
      "Epoch 9/10\n",
      "1799/1799 [==============================] - 289s 157ms/step - loss: 7.0277 - recall_at_100: 0.6682 - mrr_at_100: 0.1962 - ndcg_at_100: 0.2882 - map_at_100: 0.1962 - precision_at_100: 0.0067 - regularization_loss: 0.0528 - val_loss: 8.1952 - val_recall_at_100: 0.4607 - val_mrr_at_100: 0.1191 - val_ndcg_at_100: 0.1850 - val_map_at_100: 0.1191 - val_precision_at_100: 0.0046 - val_regularization_loss: 0.0500\n",
      "Epoch 10/10\n",
      "1799/1799 [==============================] - 290s 158ms/step - loss: 7.0000 - recall_at_100: 0.6780 - mrr_at_100: 0.2022 - ndcg_at_100: 0.2952 - map_at_100: 0.2022 - precision_at_100: 0.0068 - regularization_loss: 0.0550 - val_loss: 8.2260 - val_recall_at_100: 0.4560 - val_mrr_at_100: 0.1186 - val_ndcg_at_100: 0.1837 - val_map_at_100: 0.1186 - val_precision_at_100: 0.0046 - val_regularization_loss: 0.0520\n"
     ]
    }
   ],
   "source": [
    "history = model_bi_lstm.fit(\n",
    "    train_dl,\n",
    "    validation_data=valid,\n",
    "    batch_size=BATCH_SIZE,\n",
    "    epochs=EPOCHS,\n",
    "    schema=schema_model,\n",
    ")"
   ]
  },
  {
   "cell_type": "markdown",
   "id": "59bb684f",
   "metadata": {},
   "source": [
    "We can evaluate the model"
   ]
  },
  {
   "cell_type": "code",
   "execution_count": 21,
   "id": "2676f668",
   "metadata": {},
   "outputs": [
    {
     "name": "stdout",
     "output_type": "stream",
     "text": [
      "155/155 [==============================] - 17s 108ms/step - loss: 8.2260 - recall_at_100: 0.4198 - mrr_at_100: 0.0946 - ndcg_at_100: 0.1564 - map_at_100: 0.0946 - precision_at_100: 0.0042 - regularization_loss: 0.0520\n"
     ]
    },
    {
     "data": {
      "text/plain": [
       "0.11864075064659119"
      ]
     },
     "execution_count": 21,
     "metadata": {},
     "output_type": "execute_result"
    }
   ],
   "source": [
    "metrics_bi_lstm = model_bi_lstm.evaluate(valid, batch_size=BATCH_SIZE, return_dict=True)\n",
    "metrics_bi_lstm['mrr_at_100']"
   ]
  },
  {
   "cell_type": "markdown",
   "id": "e525cdc3",
   "metadata": {},
   "source": [
    "In this example, we focused on concepts which are relevant for a broad range of recommender system use cases. If you compare the MRR to the competition, you will notice, that the MRR can be much higher. Following additional techniques can be applied to improve the MRR:\n",
    "- Data Augmentations - we used a lot of different techniques to increase the training dataset. The techniques are specific to the dataset and we did not include it in the example/\n",
    "- Additional item features - we focused on only a few item features\n",
    "- Stacking - we stacked 17 models with a two-step approach\n",
    "- Ensemble - we ensembled 3 different stacked models\n",
    "- Hyperparameter Search - we ran multiple HPO jobs to find the best hyperparameters\n",
    "- etc.\n",
    "\n",
    "In addition, the MRR on the June month (test data) was in general higher than in May (validation)"
   ]
  }
 ],
 "metadata": {
  "kernelspec": {
   "display_name": "Python 3.8.13 ('mm-22.04')",
   "language": "python",
   "name": "python3"
  },
  "language_info": {
   "codemirror_mode": {
    "name": "ipython",
    "version": 3
   },
   "file_extension": ".py",
   "mimetype": "text/x-python",
   "name": "python",
   "nbconvert_exporter": "python",
   "pygments_lexer": "ipython3",
   "version": "3.8.13"
  },
  "vscode": {
   "interpreter": {
    "hash": "ab403bb43341787581f43b51cdd291d61392c89ddb0f92179de653921d4e05db"
   }
  }
 },
 "nbformat": 4,
 "nbformat_minor": 5
}
