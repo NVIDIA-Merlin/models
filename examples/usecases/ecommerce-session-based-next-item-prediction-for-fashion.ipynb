{
 "cells": [
  {
   "cell_type": "code",
   "execution_count": 1,
   "id": "62dc451d",
   "metadata": {},
   "outputs": [],
   "source": [
    "# Copyright 2021 NVIDIA Corporation. All Rights Reserved.\n",
    "#\n",
    "# Licensed under the Apache License, Version 2.0 (the \"License\");\n",
    "# you may not use this file except in compliance with the License.\n",
    "# You may obtain a copy of the License at\n",
    "#\n",
    "#     http://www.apache.org/licenses/LICENSE-2.0\n",
    "#\n",
    "# Unless required by applicable law or agreed to in writing, software\n",
    "# distributed under the License is distributed on an \"AS IS\" BASIS,\n",
    "# WITHOUT WARRANTIES OR CONDITIONS OF ANY KIND, either express or implied.\n",
    "# See the License for the specific language governing permissions and\n",
    "# limitations under the License.\n",
    "# =============================================================================="
   ]
  },
  {
   "cell_type": "markdown",
   "id": "e51a58d3",
   "metadata": {},
   "source": [
    "<img src=\"http://developer.download.nvidia.com/compute/machine-learning/frameworks/nvidia_logo.png\" style=\"width: 90px; float: right;\">\n",
    "\n",
    "# Session-Based Next Item Prediction for Fashion E-Commerce\n",
    "\n",
    "This notebook is created using the latest stable [merlin-tensorflow](https://catalog.ngc.nvidia.com/orgs/nvidia/teams/merlin/containers/merlin-tensorflow/tags) container. \n",
    "\n",
    "## Overview\n",
    "\n",
    "NVIDIA-Merlin team participated in [Recsys2022 challenge](http://www.recsyschallenge.com/2022/index.html) and secured 3rd position. This notebook contains the various techniques used in the solution.\n",
    "\n",
    "### Learning Objective\n",
    "\n",
    "In this notebook, we will apply important concepts that improve recommender systems. We leveraged them for our RecSys2022 participations:\n",
    "- MultiClass next item prediction head with Merlin Models\n",
    "- Sequential input features representing user sessions\n",
    "- Label Smoothing \n",
    "- Temperature Scaling\n",
    "- Weight Tying\n",
    "\n",
    "### Brief Description of the Concepts\n",
    "\n",
    "##### Label smoothing\n",
    "When the probabilities predicted by a Classification model are higher than its accuracy we say the model is overconfident. It can be prevented by using Label smoothing. This technique basically, transforms One-hot encoded labels into smoothed labels. \n",
    "$$  \\begin{array}{l}\n",
    "y_{l} \\ =\\ ( 1\\ -\\ \\alpha \\ ) \\ *\\ y_{o} \\ +\\ ( \\alpha \\ /\\ L)\\\\\n",
    "\\alpha :\\ Label\\ smoothing\\\\\n",
    "L:\\ Total\\ number\\ of\\ label\\ classes\\\\\n",
    "y_{o} :\\ One-hot\\ encoded\\ label\\ vector\n",
    "\\end{array}\n",
    "$$\n",
    "When α is 0, we have the original one-hot encoded labels, and as α increases, we move towards smoothed labels. Read [this](https://arxiv.org/abs/1906.02629) paper to learn more about it.\n",
    "\n",
    "\n",
    "##### Temperature Scaling\n",
    "Similar to Label Smoothing, Temperature Scaling is done to reduce the overconfidence of a model. In this, we divide the logits (inputs to the softmax function) by a scalar parameter (T) . For more information on Temperature Scaling read [this](https://arxiv.org/pdf/1706.04599.pdf) paper.\n",
    "$$ softmax\\ =\\ \\frac{e\\ ^{( z_{i} \\ /\\ \\ T)}}{\\sum _{j} \\ e^{( z_{j} \\ /\\ T)} \\ } $$\n",
    "\n",
    "\n",
    "##### Weight Tying\n",
    "In this technique, we share the Embedding layer's weights which is used to convert the input to embeddings, as the softmax weights,  to convert hidden layer output to softmax layer output. This drastically reduces the number of parameters and allows the model to train better. For more information read [this](https://arxiv.org/pdf/1608.05859v3.pdf) paper."
   ]
  },
  {
   "cell_type": "markdown",
   "id": "e105ffec",
   "metadata": {},
   "source": [
    "## Downloading and preparing the dataset"
   ]
  },
  {
   "cell_type": "markdown",
   "id": "19f77b7a",
   "metadata": {},
   "source": [
    "We will import the required libraries."
   ]
  },
  {
   "cell_type": "code",
   "execution_count": 2,
   "id": "0dac596a",
   "metadata": {},
   "outputs": [
    {
     "name": "stderr",
     "output_type": "stream",
     "text": [
      "2022-08-24 18:55:58.429473: I tensorflow/core/platform/cpu_feature_guard.cc:194] This TensorFlow binary is optimized with oneAPI Deep Neural Network Library (oneDNN) to use the following CPU instructions in performance-critical operations:  SSE3 SSE4.1 SSE4.2 AVX\n",
      "To enable them in other operations, rebuild TensorFlow with the appropriate compiler flags.\n",
      "2022-08-24 18:56:00.954162: I tensorflow/core/common_runtime/gpu/gpu_device.cc:1532] Created device /job:localhost/replica:0/task:0/device:GPU:0 with 16255 MB memory:  -> device: 0, name: Tesla V100-SXM2-32GB-LS, pci bus id: 0000:86:00.0, compute capability: 7.0\n"
     ]
    }
   ],
   "source": [
    "import os\n",
    "import glob\n",
    "import cupy\n",
    "import cudf\n",
    "import dask_cudf\n",
    "import numpy as np\n",
    "import pandas as pd \n",
    "\n",
    "import nvtabular as nvt\n",
    "from merlin.dag import ColumnSelector\n",
    "from merlin.io import Dataset\n",
    "from merlin.schema import Schema, Tags\n",
    "from nvtabular.ops import (\n",
    "    AddMetadata,\n",
    ")\n",
    "from merlin.schema.tags import Tags\n",
    "\n",
    "\n",
    "import tensorflow as tf\n",
    "\n",
    "from merlin.io import Dataset\n",
    "from tensorflow.keras import regularizers\n",
    "from merlin.models.tf.dataset import BatchedDataset\n",
    "from merlin.models.tf.utils.tf_utils import extract_topk\n",
    "\n",
    "import merlin.models.tf as mm\n",
    "from merlin.models.tf import InputBlock\n",
    "from merlin.models.tf.models.base import Model\n",
    "from merlin.models.tf.core.aggregation import SequenceAggregation, SequenceAggregator\n",
    "from merlin.models.tf.core.transformations import (\n",
    "    ItemsPredictionWeightTying,\n",
    "    L2Norm,\n",
    "    LogitsTemperatureScaler,\n",
    ")\n",
    "\n",
    "from merlin.core.dispatch import get_lib\n",
    "import merlin.models.tf.dataset as tf_dataloader"
   ]
  },
  {
   "cell_type": "markdown",
   "id": "cf858cf2",
   "metadata": {},
   "source": [
    "###  Dressipi\n",
    "[Dressipi](http://www.recsyschallenge.com/2022/dataset.html) hosted the [Recsys2022 challenge](http://www.recsyschallenge.com/2022/index.html) and provided an anonymized dataset. It contains 1.1 M online retail sessions that resulted in a purchase. It provides details about items that were viewed in a session, the item purchased at the end of the session and numerous features of those items. The item features are categorical IDs and are not interpretable.\n",
    "\n",
    "The task of this competition was, given a sequence of items predict which item will be purchased at the end of a session.\n",
    "\n",
    "<img src=\"http://www.recsyschallenge.com/2022/images/session_purchase_data.jpeg\" alt=\"dressipi_dataset\" style=\"width: 400px; float: center;\">  \n"
   ]
  },
  {
   "cell_type": "markdown",
   "id": "678e8bb5",
   "metadata": {},
   "source": [
    "### Dataset\n",
    "\n",
    "We provide a function `get_dressipi2022` which preprocess the dataset. Currently, we can't download this dataset automatically so this needs to be downloaded manually. To use this function, prepare the data by following these 3 steps:\n",
    "1. Sign up and download the data from [dressipi-recsys2022.com](https://www.dressipi-recsys2022.com/).\n",
    "2. Unzip the raw data to a directory.\n",
    "3. Define `DATA_FOLDER` to the directory\n",
    "\n",
    "In case you want to use this dataset to run our examples, you can also opt for synthetic data. Synthetic data can be generated by running::\n",
    "\n",
    "```python\n",
    "    from merlin.datasets.synthetic import generate_data\n",
    "    train, valid = generate_data(\"dressipi2022-preprocessed\")\n",
    "```"
   ]
  },
  {
   "cell_type": "code",
   "execution_count": 3,
   "id": "e2df4579",
   "metadata": {},
   "outputs": [],
   "source": [
    "from merlin.datasets.ecommerce import get_dressipi2022\n",
    "\n",
    "DATA_FOLDER = os.environ.get(\n",
    "    \"DATA_FOLDER\", \n",
    "    '~/dressipi_recsys2022/'\n",
    ")\n",
    "train, valid = get_dressipi2022(DATA_FOLDER)"
   ]
  },
  {
   "cell_type": "markdown",
   "id": "596826c7",
   "metadata": {},
   "source": [
    "The dataset contains:\n",
    "- `session_id`, id of a session, in which a user viewed and purchased an item. \n",
    "- `item_id` which was viewed at a given `timestamp` in a session\n",
    "- `purchase_id` which is the id of item bought at the end of the session. \n",
    "In addition to `timestamp`, we have `day` and `date` features for representing the chronological order in which items were viewed.\n",
    "\n",
    "The items in the Dresspi dataset had a many features out of which we took 22 most important features, namely \n",
    "`f_3 ,f_4 ,f_5 ,f_7 ,f_17 ,f_24 ,f_30 ,f_45 ,f_46 ,f_47 ,f_50 ,f_53 ,f_55 ,f_56 ,f_58 ,f_61 ,f_63 ,f_65 ,f_68 ,f_69 ,f_72 ,f_73`"
   ]
  },
  {
   "cell_type": "code",
   "execution_count": 4,
   "id": "9dbb6f16",
   "metadata": {
    "scrolled": true
   },
   "outputs": [
    {
     "data": {
      "text/html": [
       "<div>\n",
       "<style scoped>\n",
       "    .dataframe tbody tr th:only-of-type {\n",
       "        vertical-align: middle;\n",
       "    }\n",
       "\n",
       "    .dataframe tbody tr th {\n",
       "        vertical-align: top;\n",
       "    }\n",
       "\n",
       "    .dataframe thead th {\n",
       "        text-align: right;\n",
       "    }\n",
       "</style>\n",
       "<table border=\"1\" class=\"dataframe\">\n",
       "  <thead>\n",
       "    <tr style=\"text-align: right;\">\n",
       "      <th></th>\n",
       "      <th>session_id</th>\n",
       "      <th>item_id</th>\n",
       "      <th>date</th>\n",
       "      <th>f_3</th>\n",
       "      <th>f_5</th>\n",
       "      <th>f_7</th>\n",
       "      <th>f_17</th>\n",
       "      <th>f_24</th>\n",
       "      <th>f_45</th>\n",
       "      <th>f_47</th>\n",
       "      <th>...</th>\n",
       "      <th>f_61</th>\n",
       "      <th>f_63</th>\n",
       "      <th>f_65</th>\n",
       "      <th>f_68</th>\n",
       "      <th>f_69</th>\n",
       "      <th>f_72</th>\n",
       "      <th>f_73</th>\n",
       "      <th>timestamp</th>\n",
       "      <th>day</th>\n",
       "      <th>purchase_id</th>\n",
       "    </tr>\n",
       "  </thead>\n",
       "  <tbody>\n",
       "    <tr>\n",
       "      <th>0</th>\n",
       "      <td>7976</td>\n",
       "      <td>9582</td>\n",
       "      <td>2020-11-29 21:07:41.304</td>\n",
       "      <td>-1</td>\n",
       "      <td>-1</td>\n",
       "      <td>-1</td>\n",
       "      <td>-1</td>\n",
       "      <td>-1</td>\n",
       "      <td>-1</td>\n",
       "      <td>512</td>\n",
       "      <td>...</td>\n",
       "      <td>706</td>\n",
       "      <td>-1</td>\n",
       "      <td>-1</td>\n",
       "      <td>351</td>\n",
       "      <td>-1</td>\n",
       "      <td>-1</td>\n",
       "      <td>544</td>\n",
       "      <td>1606684061304</td>\n",
       "      <td>333</td>\n",
       "      <td>24483</td>\n",
       "    </tr>\n",
       "    <tr>\n",
       "      <th>1</th>\n",
       "      <td>7977</td>\n",
       "      <td>17055</td>\n",
       "      <td>2020-03-29 17:50:07.311</td>\n",
       "      <td>-1</td>\n",
       "      <td>-1</td>\n",
       "      <td>2</td>\n",
       "      <td>-1</td>\n",
       "      <td>-1</td>\n",
       "      <td>-1</td>\n",
       "      <td>36</td>\n",
       "      <td>...</td>\n",
       "      <td>706</td>\n",
       "      <td>39</td>\n",
       "      <td>-1</td>\n",
       "      <td>351</td>\n",
       "      <td>538</td>\n",
       "      <td>75</td>\n",
       "      <td>-1</td>\n",
       "      <td>1585504207311</td>\n",
       "      <td>88</td>\n",
       "      <td>20315</td>\n",
       "    </tr>\n",
       "    <tr>\n",
       "      <th>2</th>\n",
       "      <td>7977</td>\n",
       "      <td>16657</td>\n",
       "      <td>2020-03-29 17:52:07.337</td>\n",
       "      <td>793</td>\n",
       "      <td>605</td>\n",
       "      <td>2</td>\n",
       "      <td>378</td>\n",
       "      <td>-1</td>\n",
       "      <td>559</td>\n",
       "      <td>36</td>\n",
       "      <td>...</td>\n",
       "      <td>462</td>\n",
       "      <td>861</td>\n",
       "      <td>521</td>\n",
       "      <td>351</td>\n",
       "      <td>639</td>\n",
       "      <td>75</td>\n",
       "      <td>544</td>\n",
       "      <td>1585504327337</td>\n",
       "      <td>88</td>\n",
       "      <td>20315</td>\n",
       "    </tr>\n",
       "    <tr>\n",
       "      <th>3</th>\n",
       "      <td>7977</td>\n",
       "      <td>12291</td>\n",
       "      <td>2020-03-29 17:53:31.183</td>\n",
       "      <td>-1</td>\n",
       "      <td>-1</td>\n",
       "      <td>798</td>\n",
       "      <td>-1</td>\n",
       "      <td>-1</td>\n",
       "      <td>-1</td>\n",
       "      <td>36</td>\n",
       "      <td>...</td>\n",
       "      <td>898</td>\n",
       "      <td>-1</td>\n",
       "      <td>-1</td>\n",
       "      <td>745</td>\n",
       "      <td>592</td>\n",
       "      <td>7</td>\n",
       "      <td>-1</td>\n",
       "      <td>1585504411183</td>\n",
       "      <td>88</td>\n",
       "      <td>20315</td>\n",
       "    </tr>\n",
       "    <tr>\n",
       "      <th>4</th>\n",
       "      <td>7977</td>\n",
       "      <td>22794</td>\n",
       "      <td>2020-03-29 17:55:42.001</td>\n",
       "      <td>793</td>\n",
       "      <td>605</td>\n",
       "      <td>452</td>\n",
       "      <td>378</td>\n",
       "      <td>-1</td>\n",
       "      <td>559</td>\n",
       "      <td>549</td>\n",
       "      <td>...</td>\n",
       "      <td>462</td>\n",
       "      <td>861</td>\n",
       "      <td>521</td>\n",
       "      <td>373</td>\n",
       "      <td>592</td>\n",
       "      <td>75</td>\n",
       "      <td>-1</td>\n",
       "      <td>1585504542001</td>\n",
       "      <td>88</td>\n",
       "      <td>20315</td>\n",
       "    </tr>\n",
       "  </tbody>\n",
       "</table>\n",
       "<p>5 rows × 24 columns</p>\n",
       "</div>"
      ],
      "text/plain": [
       "   session_id  item_id                    date  f_3  f_5  f_7  f_17  f_24  \\\n",
       "0        7976     9582 2020-11-29 21:07:41.304   -1   -1   -1    -1    -1   \n",
       "1        7977    17055 2020-03-29 17:50:07.311   -1   -1    2    -1    -1   \n",
       "2        7977    16657 2020-03-29 17:52:07.337  793  605    2   378    -1   \n",
       "3        7977    12291 2020-03-29 17:53:31.183   -1   -1  798    -1    -1   \n",
       "4        7977    22794 2020-03-29 17:55:42.001  793  605  452   378    -1   \n",
       "\n",
       "   f_45  f_47  ...  f_61  f_63  f_65  f_68  f_69  f_72  f_73      timestamp  \\\n",
       "0    -1   512  ...   706    -1    -1   351    -1    -1   544  1606684061304   \n",
       "1    -1    36  ...   706    39    -1   351   538    75    -1  1585504207311   \n",
       "2   559    36  ...   462   861   521   351   639    75   544  1585504327337   \n",
       "3    -1    36  ...   898    -1    -1   745   592     7    -1  1585504411183   \n",
       "4   559   549  ...   462   861   521   373   592    75    -1  1585504542001   \n",
       "\n",
       "   day  purchase_id  \n",
       "0  333        24483  \n",
       "1   88        20315  \n",
       "2   88        20315  \n",
       "3   88        20315  \n",
       "4   88        20315  \n",
       "\n",
       "[5 rows x 24 columns]"
      ]
     },
     "execution_count": 4,
     "metadata": {},
     "output_type": "execute_result"
    }
   ],
   "source": [
    "train.to_ddf().head()"
   ]
  },
  {
   "cell_type": "markdown",
   "id": "4f4e5f42",
   "metadata": {},
   "source": [
    "## Feature Engineering with NVTabular\n",
    "\n",
    "We use NVTabular for Feature Engineering. If you want to learn more about NVTabular, we recommend the [examples in the NVTabular GitHub Repository](https://github.com/NVIDIA-Merlin/NVTabular/tree/main/examples)."
   ]
  },
  {
   "cell_type": "markdown",
   "id": "a50949a5",
   "metadata": {},
   "source": [
    "### Categorify\n",
    "\n",
    "We want to use embedding layers for our categorical features. First, we need to Categorify them, that they are continuous integers. \n",
    "\n",
    "The features `item_id` and `purchase_id` belongs to the same category. If `item_id` is 8432 and `purchase_id` is 8432, they are the same item. When we want to apply Categorify, we want to keep the connection. We can achieve this by encoding them jointly by providing them as a list in the list `[['item_id', 'purchase_id']]`."
   ]
  },
  {
   "cell_type": "markdown",
   "id": "3768169f",
   "metadata": {},
   "source": [
    "We will use only 2 of the categorical item features in this example."
   ]
  },
  {
   "cell_type": "code",
   "execution_count": 5,
   "id": "d68cbfd9",
   "metadata": {},
   "outputs": [
    {
     "name": "stdout",
     "output_type": "stream",
     "text": [
      "CPU times: user 109 µs, sys: 55 µs, total: 164 µs\n",
      "Wall time: 188 µs\n"
     ]
    }
   ],
   "source": [
    "%%time\n",
    "item_features_names = ['f_' + str(col) for col in [47, 68]]\n",
    "cat_features = ['session_id', ['item_id', 'purchase_id']] + item_features_names >> nvt.ops.Categorify()\n",
    "\n",
    "features = ['timestamp','date'] + cat_features"
   ]
  },
  {
   "cell_type": "markdown",
   "id": "74264e1a",
   "metadata": {},
   "source": [
    "### GroupBy the data by sessions.\n",
    "\n",
    "Currently, every row is a viewed item in the dataset. Our goal is to predict the item purchased after the last view in a session. Therefore, we groupby the dataset by `session_id` to have one row for each prediction.\n",
    "\n",
    "Each row will have a sequence of encoded items ids with which a user interacted. The last item of a session has special importance as it is closer to the user's intention. We will keep the viewed item as a separate feature.\n",
    "\n",
    "The NVTabular Op `GroupBy` enables the transformation. \n",
    "\n",
    "First, we define how the different columns should be aggregates:\n",
    "- Keep the first occurrence of `date`\n",
    "- Keep the last item and concatenate all items to a list (results are 2 features)\n",
    "- Keep the first occurrence of `purchase_id` (purchase_id should be the same for all rows of one session)"
   ]
  },
  {
   "cell_type": "code",
   "execution_count": 6,
   "id": "1dfdc551",
   "metadata": {},
   "outputs": [],
   "source": [
    "to_aggregate = {}\n",
    "to_aggregate['date'] = [\"first\"]\n",
    "to_aggregate['item_id'] = [\"last\", \"list\"]\n",
    "to_aggregate['purchase_id'] = [\"first\"]   "
   ]
  },
  {
   "cell_type": "markdown",
   "id": "a3a1fe03",
   "metadata": {},
   "source": [
    "In addition, we concatenate each item features to a list."
   ]
  },
  {
   "cell_type": "code",
   "execution_count": 7,
   "id": "00aded7e",
   "metadata": {},
   "outputs": [],
   "source": [
    "for name in item_features_names: \n",
    "    to_aggregate[name] = ['list']"
   ]
  },
  {
   "cell_type": "code",
   "execution_count": 8,
   "id": "b623d6b0",
   "metadata": {},
   "outputs": [
    {
     "data": {
      "text/plain": [
       "{'date': ['first'],\n",
       " 'item_id': ['last', 'list'],\n",
       " 'purchase_id': ['first'],\n",
       " 'f_47': ['list'],\n",
       " 'f_68': ['list']}"
      ]
     },
     "execution_count": 8,
     "metadata": {},
     "output_type": "execute_result"
    }
   ],
   "source": [
    "to_aggregate"
   ]
  },
  {
   "cell_type": "markdown",
   "id": "90f08313",
   "metadata": {},
   "source": [
    "We want to sort the dataframe by `date` and groupby the columns by `session_id`."
   ]
  },
  {
   "cell_type": "code",
   "execution_count": 9,
   "id": "6f03fecb",
   "metadata": {},
   "outputs": [],
   "source": [
    "groupby_features = features >> nvt.ops.Groupby(\n",
    "    groupby_cols=[\"session_id\"], \n",
    "    sort_cols=[\"date\"],\n",
    "    aggs= to_aggregate,\n",
    "    name_sep=\"_\")"
   ]
  },
  {
   "cell_type": "markdown",
   "id": "a55463f3",
   "metadata": {},
   "source": [
    "Merlin Models can infer the neural network architecture from the dataset schema. We will Tag the columns accordingly to the dataset type. If you want to learn more, we recommend our [Dataset Schema Example](https://github.com/NVIDIA-Merlin/models/blob/main/examples/02-Merlin-Models-and-NVTabular-integration.ipynb)."
   ]
  },
  {
   "cell_type": "code",
   "execution_count": 10,
   "id": "10ad05d6",
   "metadata": {},
   "outputs": [],
   "source": [
    "item_last = (\n",
    "    groupby_features['item_id_last'] >> \n",
    "    AddMetadata(tags=[Tags.ITEM, Tags.ITEM_ID])\n",
    ")\n",
    "item_list = (\n",
    "    groupby_features['item_id_list'] >> \n",
    "    AddMetadata(\n",
    "        tags=[Tags.ITEM, Tags.ITEM_ID, Tags.LIST, Tags.SEQUENCE]\n",
    "    )\n",
    ")\n",
    "feature_list = (\n",
    "    groupby_features[[name+'_list' for name in item_features_names]] >> \n",
    "    AddMetadata(\n",
    "        tags=[Tags.SEQUENCE, Tags.ITEM, Tags.LIST]\n",
    "    )\n",
    ")\n",
    "target_feature = (\n",
    "    groupby_features['purchase_id_first'] >> \n",
    "    AddMetadata(tags=[Tags.TARGET])\n",
    ")\n",
    "other_features = groupby_features['session_id', 'date_first']\n",
    "\n",
    "groupby_features = item_last + item_list + feature_list + other_features + target_feature\n"
   ]
  },
  {
   "cell_type": "markdown",
   "id": "3f99ea8c",
   "metadata": {},
   "source": [
    "### Truncate and Padding for a Maximum Sequence Length\n",
    "\n",
    "We want to truncate and pad the sequential features. We define the columns, which are sequential features and the non-sequential ones. We truncate the sequence by keeping the last 3 elements."
   ]
  },
  {
   "cell_type": "code",
   "execution_count": 11,
   "id": "1f77f117",
   "metadata": {},
   "outputs": [],
   "source": [
    "list_features = [name+'_list' for name in item_features_names] + ['item_id_list']\n",
    "nonlist_features = ['session_id', 'date_first', 'item_id_last', 'purchase_id_first']"
   ]
  },
  {
   "cell_type": "code",
   "execution_count": 12,
   "id": "f2ad8fdf",
   "metadata": {},
   "outputs": [],
   "source": [
    "SESSIONS_MAX_LENGTH = 3\n",
    "truncated_features = groupby_features[list_features] >> nvt.ops.ListSlice(-SESSIONS_MAX_LENGTH, pad=True) >> nvt.ops.Rename(postfix = '_seq')\n",
    "\n",
    "final_features = groupby_features[nonlist_features] + truncated_features"
   ]
  },
  {
   "cell_type": "markdown",
   "id": "f21eadf5",
   "metadata": {},
   "source": [
    "We initialize our NVTabular workflow."
   ]
  },
  {
   "cell_type": "code",
   "execution_count": 13,
   "id": "550c301f",
   "metadata": {},
   "outputs": [],
   "source": [
    "workflow = nvt.Workflow(final_features)"
   ]
  },
  {
   "cell_type": "markdown",
   "id": "7700c6f8",
   "metadata": {},
   "source": [
    "We call fit and transform similar to the scikit learn API."
   ]
  },
  {
   "cell_type": "code",
   "execution_count": 14,
   "id": "5821feeb",
   "metadata": {},
   "outputs": [
    {
     "name": "stderr",
     "output_type": "stream",
     "text": [
      "/usr/local/lib/python3.8/dist-packages/cudf/core/frame.py:384: UserWarning: The deep parameter is ignored and is only included for pandas compatibility.\n",
      "  warnings.warn(\n"
     ]
    }
   ],
   "source": [
    "dataset = nvt.Dataset(cudf.concat([train.to_ddf().compute(), valid.to_ddf().compute()]))\n",
    "\n",
    "# fit data\n",
    "workflow.fit(dataset)\n",
    "\n",
    "# transform and save data\n",
    "workflow.transform(train).to_parquet(os.path.join(DATA_FOLDER, \"train/\"), output_files=10)\n",
    "workflow.transform(valid).to_parquet(os.path.join(DATA_FOLDER, \"valid/\"), output_files=10)"
   ]
  },
  {
   "cell_type": "markdown",
   "id": "b8ae62f8",
   "metadata": {},
   "source": [
    "### Sort the Training Dataset by Time\n",
    "\n",
    "The train dataset contains the data from Jan 2020 to April 2021 and the validation dataset is May 2021. As the data is splitted by time, we noticed that we achieve higher validation scores, when we sort the training data by time and do not apply shuffling."
   ]
  },
  {
   "cell_type": "code",
   "execution_count": 15,
   "id": "93063457",
   "metadata": {},
   "outputs": [],
   "source": [
    "df = get_lib().read_parquet(\n",
    "    glob.glob(\n",
    "        os.path.join(DATA_FOLDER, \"train/*.parquet\")\n",
    "    )\n",
    ")\n",
    "df = df.sort_values('date_first')\n",
    "df.to_parquet(os.path.join(DATA_FOLDER, \"train_sorted.parquet\"))"
   ]
  },
  {
   "cell_type": "markdown",
   "id": "ac60e02c",
   "metadata": {},
   "source": [
    "Let's review the transformed dataset."
   ]
  },
  {
   "cell_type": "code",
   "execution_count": 16,
   "id": "b7066220",
   "metadata": {},
   "outputs": [
    {
     "data": {
      "text/html": [
       "<div>\n",
       "<style scoped>\n",
       "    .dataframe tbody tr th:only-of-type {\n",
       "        vertical-align: middle;\n",
       "    }\n",
       "\n",
       "    .dataframe tbody tr th {\n",
       "        vertical-align: top;\n",
       "    }\n",
       "\n",
       "    .dataframe thead th {\n",
       "        text-align: right;\n",
       "    }\n",
       "</style>\n",
       "<table border=\"1\" class=\"dataframe\">\n",
       "  <thead>\n",
       "    <tr style=\"text-align: right;\">\n",
       "      <th></th>\n",
       "      <th>session_id</th>\n",
       "      <th>date_first</th>\n",
       "      <th>item_id_last</th>\n",
       "      <th>purchase_id_first</th>\n",
       "      <th>f_47_list_seq</th>\n",
       "      <th>f_68_list_seq</th>\n",
       "      <th>item_id_list_seq</th>\n",
       "    </tr>\n",
       "  </thead>\n",
       "  <tbody>\n",
       "    <tr>\n",
       "      <th>773236</th>\n",
       "      <td>144306</td>\n",
       "      <td>2020-01-01 00:00:01.359</td>\n",
       "      <td>8558</td>\n",
       "      <td>14343</td>\n",
       "      <td>[2, 5, 13]</td>\n",
       "      <td>[1, 8, 7]</td>\n",
       "      <td>[670, 4633, 8558]</td>\n",
       "    </tr>\n",
       "    <tr>\n",
       "      <th>919765</th>\n",
       "      <td>102504</td>\n",
       "      <td>2020-01-01 00:00:21.440</td>\n",
       "      <td>12231</td>\n",
       "      <td>18295</td>\n",
       "      <td>[1, 1, 1]</td>\n",
       "      <td>[8, 45, 6]</td>\n",
       "      <td>[15367, 8469, 12231]</td>\n",
       "    </tr>\n",
       "    <tr>\n",
       "      <th>546675</th>\n",
       "      <td>993759</td>\n",
       "      <td>2020-01-01 00:00:48.505</td>\n",
       "      <td>5726</td>\n",
       "      <td>14805</td>\n",
       "      <td>[13, 0, 0]</td>\n",
       "      <td>[9, 0, 0]</td>\n",
       "      <td>[5726, 0, 0]</td>\n",
       "    </tr>\n",
       "    <tr>\n",
       "      <th>837402</th>\n",
       "      <td>9972</td>\n",
       "      <td>2020-01-01 00:06:37.801</td>\n",
       "      <td>10329</td>\n",
       "      <td>12877</td>\n",
       "      <td>[7, 8, 7]</td>\n",
       "      <td>[14, 3, 3]</td>\n",
       "      <td>[19797, 16836, 10329]</td>\n",
       "    </tr>\n",
       "    <tr>\n",
       "      <th>415676</th>\n",
       "      <td>357643</td>\n",
       "      <td>2020-01-01 00:08:19.297</td>\n",
       "      <td>15432</td>\n",
       "      <td>13374</td>\n",
       "      <td>[1, 5, 1]</td>\n",
       "      <td>[5, 1, 8]</td>\n",
       "      <td>[938, 15840, 15432]</td>\n",
       "    </tr>\n",
       "  </tbody>\n",
       "</table>\n",
       "</div>"
      ],
      "text/plain": [
       "        session_id              date_first  item_id_last  purchase_id_first  \\\n",
       "773236      144306 2020-01-01 00:00:01.359          8558              14343   \n",
       "919765      102504 2020-01-01 00:00:21.440         12231              18295   \n",
       "546675      993759 2020-01-01 00:00:48.505          5726              14805   \n",
       "837402        9972 2020-01-01 00:06:37.801         10329              12877   \n",
       "415676      357643 2020-01-01 00:08:19.297         15432              13374   \n",
       "\n",
       "       f_47_list_seq f_68_list_seq       item_id_list_seq  \n",
       "773236    [2, 5, 13]     [1, 8, 7]      [670, 4633, 8558]  \n",
       "919765     [1, 1, 1]    [8, 45, 6]   [15367, 8469, 12231]  \n",
       "546675    [13, 0, 0]     [9, 0, 0]           [5726, 0, 0]  \n",
       "837402     [7, 8, 7]    [14, 3, 3]  [19797, 16836, 10329]  \n",
       "415676     [1, 5, 1]     [5, 1, 8]    [938, 15840, 15432]  "
      ]
     },
     "execution_count": 16,
     "metadata": {},
     "output_type": "execute_result"
    }
   ],
   "source": [
    "df.head()"
   ]
  },
  {
   "cell_type": "code",
   "execution_count": 17,
   "id": "91051ff7",
   "metadata": {},
   "outputs": [],
   "source": [
    "del df"
   ]
  },
  {
   "cell_type": "markdown",
   "id": "dd4eac01",
   "metadata": {},
   "source": [
    "## Training a MLP with sequential input with Merlin Models\n",
    "\n",
    "We train a Sequential-Multi-Layer Perceptron model, which averages the sequencial input features (e.g. `item_id_list_seq`) and concatenate the resulting embeddings with the categorical embeddings (e.g. `item_id_last`). We visualize the architecture in the figure below."
   ]
  },
  {
   "cell_type": "markdown",
   "id": "c54bcf38",
   "metadata": {},
   "source": [
    "### Hyperparameters\n",
    "\n",
    "We use the following hyperparameters, we found during experimentations."
   ]
  },
  {
   "cell_type": "code",
   "execution_count": 18,
   "id": "ce9b290a",
   "metadata": {},
   "outputs": [],
   "source": [
    "EPOCHS = 10\n",
    "BATCH_SIZE = 512\n",
    "LEARNING_RATE = 0.2\n",
    "DROPOUT = 0.2 \n",
    "LABEL_SMOOTHING = 0.2\n",
    "TEMPERATURE_SCALING = 2"
   ]
  },
  {
   "cell_type": "markdown",
   "id": "75010de1",
   "metadata": {},
   "source": [
    "### Dataloader\n",
    "\n",
    "We intialize the dataloaders to train the neural network models. First, we define NVTabular dataset."
   ]
  },
  {
   "cell_type": "code",
   "execution_count": 19,
   "id": "fcde20d2",
   "metadata": {},
   "outputs": [
    {
     "name": "stderr",
     "output_type": "stream",
     "text": [
      "/usr/local/lib/python3.8/dist-packages/cudf/core/frame.py:384: UserWarning: The deep parameter is ignored and is only included for pandas compatibility.\n",
      "  warnings.warn(\n"
     ]
    }
   ],
   "source": [
    "train = Dataset(os.path.join(DATA_FOLDER, 'train_sorted.parquet'))\n",
    "valid = Dataset(os.path.join(DATA_FOLDER, 'valid/*.parquet'))"
   ]
  },
  {
   "cell_type": "markdown",
   "id": "355a978d",
   "metadata": {},
   "source": [
    "As we load, sorted and saved the train dataset without using NVTabular, the parquet file doesn't contain a schema, anymore. We can copy the schema from valid to train."
   ]
  },
  {
   "cell_type": "code",
   "execution_count": 20,
   "id": "1320225d",
   "metadata": {},
   "outputs": [],
   "source": [
    "train.schema = valid.schema\n",
    "schema_model = train.schema"
   ]
  },
  {
   "cell_type": "markdown",
   "id": "2bd1e39f",
   "metadata": {},
   "source": [
    "The default dataloader does shuffle by default. We will initalize the BatchedDataset `tf_dataloader.BatchedDataset` for the training dataset."
   ]
  },
  {
   "cell_type": "code",
   "execution_count": 21,
   "id": "26ca38c8",
   "metadata": {},
   "outputs": [],
   "source": [
    "train_dl = tf_dataloader.BatchedDataset(\n",
    "    train,\n",
    "    batch_size = BATCH_SIZE,\n",
    "    shuffle = False \n",
    ")"
   ]
  },
  {
   "cell_type": "markdown",
   "id": "949903cf",
   "metadata": {},
   "source": [
    "### Build the Sequential MLP with Merlin Models\n",
    "\n",
    "Now we will create an InputBlock which takes sequential features, concatenate them and return the sequence of interaction embeddings."
   ]
  },
  {
   "cell_type": "markdown",
   "id": "9ce588a6",
   "metadata": {},
   "source": [
    "We define the embedding dimensions, manually.\n",
    "\n"
   ]
  },
  {
   "cell_type": "code",
   "execution_count": 87,
   "id": "9ad0ff43",
   "metadata": {},
   "outputs": [],
   "source": [
    "manual_dims = {\n",
    "    'item_id_list_seq': 256, \n",
    "    'item_id_last': 256,\n",
    "    'f_47_list_seq': 16,\n",
    "    'f_68_list_seq': 16\n",
    "}\n",
    "\n",
    "emb_options = mm.EmbeddingOptions(\n",
    "        embedding_dims=manual_dims,\n",
    "        infer_embedding_sizes=False,\n",
    ")"
   ]
  },
  {
   "cell_type": "code",
   "execution_count": 88,
   "id": "f62b2c26",
   "metadata": {},
   "outputs": [],
   "source": [
    "input_block = InputBlock(\n",
    "    schema_model.select_by_name(\n",
    "        ['item_id_list_seq', 'item_id_last', 'f_47_list_seq', 'f_68_list_seq']\n",
    "    ), \n",
    "    aggregation='concat',\n",
    "    embedding_options = emb_options\n",
    ")"
   ]
  },
  {
   "cell_type": "markdown",
   "id": "01bf1ba7",
   "metadata": {},
   "source": [
    "Next, we define the prediction task. Our objective is multi-class classification - which is the item purchased at the end of the session. Therefore, we use the `MultiClassClassificationTask` task. \n",
    "\n",
    "Before the loss is calculated, we want to transform the model output:\n",
    "1. We apply L2 norm to the model logits.\n",
    "2. We apply Weight Tying (see in the beginning) and multiply the model output with the embedding weights from ITEM_ID.  The embedding dimensions and the model output dimensions have to be the same (256 in our example).\n",
    "3. We tranform the ground truth into OneHot representation\n",
    "4. We apply Temperature Scaling\n",
    "\n",
    "The pipeline is called `prediction_call` and we add it as the `pre` parameter to `MultiClassClassificationTask`. The pipeline is executed before the loss is calculated."
   ]
  },
  {
   "cell_type": "code",
   "execution_count": 24,
   "id": "17bc4a2f",
   "metadata": {},
   "outputs": [],
   "source": [
    "prediction_call = L2Norm().connect(\n",
    "    ItemsPredictionWeightTying(schema_model), \n",
    "    mm.LabelToOneHot(),\n",
    "    LogitsTemperatureScaler(temperature=TEMPERATURE_SCALING)\n",
    ")\n",
    "\n",
    "prediction_task = mm.MultiClassClassificationTask(\n",
    "    target_name=\"purchase_id_first\",\n",
    "    pre=prediction_call,\n",
    ")"
   ]
  },
  {
   "cell_type": "markdown",
   "id": "87683ce7",
   "metadata": {},
   "source": [
    "Now, we will build a model with a 2-layer MLPBlock, using `input_block` as the input and `prediction_task` as the task."
   ]
  },
  {
   "cell_type": "code",
   "execution_count": 25,
   "id": "aabb868d",
   "metadata": {},
   "outputs": [],
   "source": [
    "model_mlp = mm.Model.from_block(\n",
    "    mm.MLPBlock(\n",
    "        [128,256], \n",
    "        no_activation_last_layer=True, \n",
    "        dropout=0.2\n",
    "    ),\n",
    "    schema_model, \n",
    "    input_block=input_block,\n",
    "    prediction_tasks=prediction_task\n",
    ")"
   ]
  },
  {
   "cell_type": "markdown",
   "id": "d10588a6",
   "metadata": {},
   "source": [
    "### Fit the Model\n",
    "\n",
    "We initalize the optimizer and compile the model - similar to other TensorFlow Keras API. The competition was evaluated based on MRR@100."
   ]
  },
  {
   "cell_type": "code",
   "execution_count": 26,
   "id": "b91c7f46",
   "metadata": {},
   "outputs": [],
   "source": [
    "optimizer = tf.keras.optimizers.Adam(\n",
    "    learning_rate=LEARNING_RATE,\n",
    ")\n",
    "\n",
    "model_mlp.compile(\n",
    "    optimizer=optimizer,\n",
    "    run_eagerly=True,\n",
    "    loss=tf.keras.losses.CategoricalCrossentropy(\n",
    "        from_logits=True, \n",
    "        label_smoothing=LABEL_SMOOTHING\n",
    "    ),\n",
    "    metrics=mm.TopKMetricsAggregator.default_metrics(top_ks=[100])\n",
    ")"
   ]
  },
  {
   "cell_type": "markdown",
   "id": "7d0a9d3c",
   "metadata": {},
   "source": [
    "We call `.fit` to train the model."
   ]
  },
  {
   "cell_type": "code",
   "execution_count": 27,
   "id": "1023e2e7",
   "metadata": {},
   "outputs": [
    {
     "name": "stdout",
     "output_type": "stream",
     "text": [
      "Epoch 1/10\n",
      "  97/1799 [>.............................] - ETA: 3:19 - loss: 8.9294 - recall_at_100: 0.1737 - mrr_at_100: 0.0215 - ndcg_at_100: 0.0485 - map_at_100: 0.0215 - precision_at_100: 0.0017 - regularization_loss: 0.0000e+00"
     ]
    },
    {
     "name": "stderr",
     "output_type": "stream",
     "text": [
      "\n",
      "KeyboardInterrupt\n",
      "\n"
     ]
    }
   ],
   "source": [
    "%%time\n",
    "history = model_mlp.fit(\n",
    "    train_dl,\n",
    "    validation_data=valid,\n",
    "    batch_size=BATCH_SIZE,\n",
    "    epochs=EPOCHS,\n",
    "    schema=schema_model,\n",
    ")"
   ]
  },
  {
   "cell_type": "markdown",
   "id": "24e948bf",
   "metadata": {},
   "source": [
    "We can evaluate the model."
   ]
  },
  {
   "cell_type": "code",
   "execution_count": 28,
   "id": "a7e319b0",
   "metadata": {},
   "outputs": [
    {
     "name": "stderr",
     "output_type": "stream",
     "text": [
      "\n",
      "KeyboardInterrupt\n",
      "\n"
     ]
    }
   ],
   "source": [
    "metrics_mlp = model_mlp.evaluate(valid, batch_size=1024, return_dict=True)\n",
    "metrics_mlp['mrr_at_100']"
   ]
  },
  {
   "cell_type": "markdown",
   "id": "06099b00",
   "metadata": {},
   "source": [
    "## Training a Bi-LSMT with Merlin Models"
   ]
  },
  {
   "cell_type": "code",
   "execution_count": 78,
   "id": "68266f84",
   "metadata": {},
   "outputs": [],
   "source": [
    "manual_dims = {\n",
    "    'item_id_list_seq': 256, \n",
    "    'item_id_last': 256,\n",
    "    'f_47_list_seq': 16,\n",
    "    'f_68_list_seq': 16\n",
    "}\n",
    "\n",
    "seq_inputs = InputBlock(\n",
    "        schema_model.select_by_name(\n",
    "            ['item_id_list_seq', 'f_47_list_seq', 'f_68_list_seq']\n",
    "        ),\n",
    "        aggregation='concat',\n",
    "        seq=True,\n",
    "        max_seq_length=3,\n",
    "        embedding_options=mm.EmbeddingOptions(\n",
    "            embedding_dims=manual_dims,\n",
    "            infer_embedding_sizes=False\n",
    "        ),\n",
    "        split_sparse=True,\n",
    ")\n",
    "\n",
    "cat_inputs = InputBlock(\n",
    "        schema_model.select_by_name(\n",
    "            ['item_id_last']\n",
    "        ),\n",
    "        aggregation='concat',\n",
    "        embedding_options=mm.EmbeddingOptions(\n",
    "            embedding_dims=manual_dims,\n",
    "            infer_embedding_sizes=False\n",
    "        )\n",
    ")"
   ]
  },
  {
   "cell_type": "code",
   "execution_count": 79,
   "id": "4eb258e3",
   "metadata": {},
   "outputs": [],
   "source": [
    "class BiLSTM(mm.Block):\n",
    "    def __init__(self, hidden_dim= 64, **kwargs):\n",
    "        self.hidden_dim = hidden_dim\n",
    "        lstm = tf.keras.layers.LSTM(\n",
    "            hidden_dim, \n",
    "            return_sequences=False, \n",
    "            dropout=0.05,\n",
    "            kernel_regularizer=regularizers.l2(1e-4)\n",
    "        )\n",
    "        self.lstm = tf.keras.layers.Bidirectional(lstm)\n",
    "        \n",
    "        super().__init__(**kwargs)\n",
    "        \n",
    "    def call(self, inputs, training=False, **kwargs) -> tf.Tensor:  \n",
    "        interactions = inputs['input_sequence']\n",
    "        sequence_representation = self.lstm(interactions)\n",
    "        return sequence_representation\n",
    "    \n",
    "    def compute_output_shape(self, input_shape):\n",
    "        input_shape = input_shape['input_sequence']\n",
    "        return (input_shape[0], input_shape[1], self.hidden_dim*2)\n",
    "    \n",
    "    \n",
    "bilstm = BiLSTM(hidden_dim=64)"
   ]
  },
  {
   "cell_type": "code",
   "execution_count": 80,
   "id": "9fbfe414",
   "metadata": {},
   "outputs": [],
   "source": [
    "dense_block = mm.ParallelBlock({'input_sequence': seq_inputs}).connect(bilstm)"
   ]
  },
  {
   "cell_type": "code",
   "execution_count": 81,
   "id": "3497b61b",
   "metadata": {},
   "outputs": [],
   "source": [
    "concats = mm.ParallelBlock(\n",
    "    {'dense_block': dense_block, \n",
    "     'cat_inputs': cat_inputs},\n",
    "    aggregation='concat'\n",
    ")"
   ]
  },
  {
   "cell_type": "code",
   "execution_count": 82,
   "id": "81e6e4c9",
   "metadata": {},
   "outputs": [],
   "source": [
    "mlp_block = mm.MLPBlock(\n",
    "                [128,256],\n",
    "                activation='relu',\n",
    "                no_activation_last_layer=True,\n",
    "                dropout=DROPOUT,\n",
    "            )"
   ]
  },
  {
   "cell_type": "code",
   "execution_count": 83,
   "id": "8cd29ccf",
   "metadata": {},
   "outputs": [],
   "source": [
    "prediction_call = ItemsPredictionWeightTying(schema_model).connect(\n",
    "    mm.LabelToOneHot(),\n",
    "    LogitsTemperatureScaler(temperature=TEMPERATURE_SCALING)\n",
    ")\n",
    "\n",
    "prediction_task = mm.MultiClassClassificationTask(\n",
    "    target_name=\"purchase_id_first\",\n",
    "    pre=prediction_call,\n",
    ")"
   ]
  },
  {
   "cell_type": "code",
   "execution_count": 84,
   "id": "11788b76",
   "metadata": {},
   "outputs": [],
   "source": [
    "model_bi_lstm = Model(concats, mlp_block, prediction_task)"
   ]
  },
  {
   "cell_type": "code",
   "execution_count": 85,
   "id": "b61b3674",
   "metadata": {},
   "outputs": [],
   "source": [
    "optimizer = tf.keras.optimizers.Adam(\n",
    "    learning_rate=0.005\n",
    ")\n",
    "\n",
    "model_bi_lstm.compile(\n",
    "    optimizer=optimizer,\n",
    "    run_eagerly=True,\n",
    "    loss=tf.keras.losses.CategoricalCrossentropy(\n",
    "        from_logits=True, \n",
    "        label_smoothing=LABEL_SMOOTHING\n",
    "    ),\n",
    "    metrics=mm.TopKMetricsAggregator.default_metrics(top_ks=[100])\n",
    ")"
   ]
  },
  {
   "cell_type": "code",
   "execution_count": 86,
   "id": "67ad16fa",
   "metadata": {},
   "outputs": [
    {
     "name": "stdout",
     "output_type": "stream",
     "text": [
      "1799/1799 [==============================] - 334s 181ms/step - loss: 7.8726 - recall_at_100: 0.3743 - mrr_at_100: 0.0831 - ndcg_at_100: 0.1379 - map_at_100: 0.0831 - precision_at_100: 0.0037 - regularization_loss: 0.0147 - val_loss: 7.8483 - val_recall_at_100: 0.5014 - val_mrr_at_100: 0.1173 - val_ndcg_at_100: 0.1913 - val_map_at_100: 0.1173 - val_precision_at_100: 0.0050 - val_regularization_loss: 0.0163\n"
     ]
    }
   ],
   "source": [
    "history = model_bi_lstm.fit(\n",
    "    train_dl,\n",
    "    validation_data=valid,\n",
    "    batch_size=BATCH_SIZE,\n",
    "    epochs=1,\n",
    "    schema=schema_model,\n",
    ")"
   ]
  },
  {
   "cell_type": "code",
   "execution_count": null,
   "id": "9a626eaf",
   "metadata": {},
   "outputs": [],
   "source": [
    "metrics_bi_lstm = model_bi_lstm.evaluate(valid, batch_size=1024, return_dict=True)\n",
    "metrics_bi_lstm['mrr_at_100']"
   ]
  },
  {
   "cell_type": "markdown",
   "id": "7d4d4b27",
   "metadata": {},
   "source": [
    "In this example, we focused on concepts which are relevant for a broad range of recommender system use cases. If you compare the MRR to the competition, you will notice, that the MRR can be much higher. Following additional techniques can be applied to improve the MRR:\n",
    "- Data Augmentations - we used a lot of different techniques to increase the training dataset. The techniques are specific to the dataset and we did not include it in the example/\n",
    "- Additional item features - we focused on only a few item features\n",
    "- Stacking - we stacked 17 models with a two-step approach\n",
    "- Ensemble - we ensembled 3 different stacked models\n",
    "- Hyperparameter Search - we ran multiple HPO jobs to find the best hyperparameters\n",
    "- etc.\n",
    "\n",
    "In addition, the MRR on the June month (test data) was in general higher than in May (validation)"
   ]
  }
 ],
 "metadata": {
  "kernelspec": {
   "display_name": "Python 3 (ipykernel)",
   "language": "python",
   "name": "python3"
  },
  "language_info": {
   "codemirror_mode": {
    "name": "ipython",
    "version": 3
   },
   "file_extension": ".py",
   "mimetype": "text/x-python",
   "name": "python",
   "nbconvert_exporter": "python",
   "pygments_lexer": "ipython3",
   "version": "3.8.10"
  },
  "vscode": {
   "interpreter": {
    "hash": "cf63b42ee7281f212c620f1d25b2d8e8d34e0a013403ff3a06acffed6a925ac0"
   }
  }
 },
 "nbformat": 4,
 "nbformat_minor": 5
}
