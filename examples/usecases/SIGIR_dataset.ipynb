{
 "cells": [
  {
   "cell_type": "code",
   "execution_count": 1,
   "id": "75f6f096",
   "metadata": {},
   "outputs": [
    {
     "name": "stderr",
     "output_type": "stream",
     "text": [
      "2023-05-19 07:06:25.875214: I tensorflow/core/platform/cpu_feature_guard.cc:194] This TensorFlow binary is optimized with oneAPI Deep Neural Network Library (oneDNN) to use the following CPU instructions in performance-critical operations:  SSE3 SSE4.1 SSE4.2 AVX\n",
      "To enable them in other operations, rebuild TensorFlow with the appropriate compiler flags.\n",
      "/usr/local/lib/python3.8/dist-packages/merlin/dtypes/mappings/torch.py:43: UserWarning: PyTorch dtype mappings did not load successfully due to an error: No module named 'torch'\n",
      "  warn(f\"PyTorch dtype mappings did not load successfully due to an error: {exc.msg}\")\n"
     ]
    },
    {
     "name": "stdout",
     "output_type": "stream",
     "text": [
      "WARNING:tensorflow:Please fix your imports. Module tensorflow.python.training.tracking.data_structures has been moved to tensorflow.python.trackable.data_structures. The old module will be deleted in version 2.11.\n"
     ]
    },
    {
     "name": "stderr",
     "output_type": "stream",
     "text": [
      "2023-05-19 07:06:28.324492: I tensorflow/compiler/xla/stream_executor/cuda/cuda_gpu_executor.cc:998] successful NUMA node read from SysFS had negative value (-1), but there must be at least one NUMA node, so returning NUMA node zero\n",
      "2023-05-19 07:06:28.324884: I tensorflow/compiler/xla/stream_executor/cuda/cuda_gpu_executor.cc:998] successful NUMA node read from SysFS had negative value (-1), but there must be at least one NUMA node, so returning NUMA node zero\n",
      "2023-05-19 07:06:28.325029: I tensorflow/compiler/xla/stream_executor/cuda/cuda_gpu_executor.cc:998] successful NUMA node read from SysFS had negative value (-1), but there must be at least one NUMA node, so returning NUMA node zero\n"
     ]
    },
    {
     "name": "stdout",
     "output_type": "stream",
     "text": [
      "[INFO]: sparse_operation_kit is imported\n",
      "WARNING:tensorflow:Please fix your imports. Module tensorflow.python.training.tracking.base has been moved to tensorflow.python.trackable.base. The old module will be deleted in version 2.11.\n",
      "[SOK INFO] Import /usr/local/lib/python3.8/dist-packages/merlin_sok-1.1.4-py3.8-linux-x86_64.egg/sparse_operation_kit/lib/libsok_experiment.so\n",
      "[SOK INFO] Import /usr/local/lib/python3.8/dist-packages/merlin_sok-1.1.4-py3.8-linux-x86_64.egg/sparse_operation_kit/lib/libsok_experiment.so\n",
      "[SOK INFO] Initialize finished, communication tool: horovod\n"
     ]
    },
    {
     "name": "stderr",
     "output_type": "stream",
     "text": [
      "2023-05-19 07:06:29.896353: I tensorflow/core/platform/cpu_feature_guard.cc:194] This TensorFlow binary is optimized with oneAPI Deep Neural Network Library (oneDNN) to use the following CPU instructions in performance-critical operations:  SSE3 SSE4.1 SSE4.2 AVX\n",
      "To enable them in other operations, rebuild TensorFlow with the appropriate compiler flags.\n",
      "2023-05-19 07:06:29.897503: I tensorflow/compiler/xla/stream_executor/cuda/cuda_gpu_executor.cc:998] successful NUMA node read from SysFS had negative value (-1), but there must be at least one NUMA node, so returning NUMA node zero\n",
      "2023-05-19 07:06:29.897741: I tensorflow/compiler/xla/stream_executor/cuda/cuda_gpu_executor.cc:998] successful NUMA node read from SysFS had negative value (-1), but there must be at least one NUMA node, so returning NUMA node zero\n",
      "2023-05-19 07:06:29.897922: I tensorflow/compiler/xla/stream_executor/cuda/cuda_gpu_executor.cc:998] successful NUMA node read from SysFS had negative value (-1), but there must be at least one NUMA node, so returning NUMA node zero\n",
      "2023-05-19 07:06:29.971572: I tensorflow/compiler/xla/stream_executor/cuda/cuda_gpu_executor.cc:998] successful NUMA node read from SysFS had negative value (-1), but there must be at least one NUMA node, so returning NUMA node zero\n",
      "2023-05-19 07:06:29.971760: I tensorflow/compiler/xla/stream_executor/cuda/cuda_gpu_executor.cc:998] successful NUMA node read from SysFS had negative value (-1), but there must be at least one NUMA node, so returning NUMA node zero\n",
      "2023-05-19 07:06:29.971889: I tensorflow/compiler/xla/stream_executor/cuda/cuda_gpu_executor.cc:998] successful NUMA node read from SysFS had negative value (-1), but there must be at least one NUMA node, so returning NUMA node zero\n",
      "2023-05-19 07:06:29.971992: W tensorflow/core/common_runtime/gpu/gpu_bfc_allocator.cc:42] Overriding orig_value setting because the TF_FORCE_GPU_ALLOW_GROWTH environment variable is set. Original config value was 0.\n",
      "2023-05-19 07:06:29.972015: I tensorflow/core/common_runtime/gpu/gpu_device.cc:1621] Created device /job:localhost/replica:0/task:0/device:GPU:0 with 24576 MB memory:  -> device: 0, name: Quadro RTX 8000, pci bus id: 0000:08:00.0, compute capability: 7.5\n",
      "/usr/local/lib/python3.8/dist-packages/tqdm/auto.py:21: TqdmWarning: IProgress not found. Please update jupyter and ipywidgets. See https://ipywidgets.readthedocs.io/en/stable/user_install.html\n",
      "  from .autonotebook import tqdm as notebook_tqdm\n"
     ]
    }
   ],
   "source": [
    "import merlin.models.tf as mm\n",
    "from merlin.schema.tags import Tags\n",
    "import tensorflow as tf\n",
    "from merlin.models.tf.blocks import *\n",
    "from merlin.datasets.synthetic import generate_data\n",
    "import pandas as pd\n",
    "\n",
    "import numpy as np"
   ]
  },
  {
   "cell_type": "code",
   "execution_count": 2,
   "id": "ee19ed94",
   "metadata": {},
   "outputs": [],
   "source": [
    "import cudf"
   ]
  },
  {
   "cell_type": "code",
   "execution_count": 3,
   "id": "b28d27af",
   "metadata": {},
   "outputs": [
    {
     "name": "stdout",
     "output_type": "stream",
     "text": [
      "browsing_train.csv      search_train.csv\r\n",
      "browsing_train.parquet  sku_to_content.csv\r\n"
     ]
    }
   ],
   "source": [
    "ls /workspace/sigir_dataset/train"
   ]
  },
  {
   "cell_type": "markdown",
   "id": "fc3efcf7",
   "metadata": {},
   "source": [
    "If we attempt reading in the data, we unfortunately get a `cudf` error."
   ]
  },
  {
   "cell_type": "code",
   "execution_count": 4,
   "id": "96ae1d99",
   "metadata": {},
   "outputs": [
    {
     "ename": "RuntimeError",
     "evalue": "cuDF failure at: /opt/rapids/src/cudf/cpp/include/cudf/strings/detail/strings_column_factories.cuh:88: total size of strings is too large for cudf column",
     "output_type": "error",
     "traceback": [
      "\u001b[0;31m---------------------------------------------------------------------------\u001b[0m",
      "\u001b[0;31mRuntimeError\u001b[0m                              Traceback (most recent call last)",
      "Cell \u001b[0;32mIn[4], line 1\u001b[0m\n\u001b[0;32m----> 1\u001b[0m \u001b[43mcudf\u001b[49m\u001b[38;5;241;43m.\u001b[39;49m\u001b[43mread_csv\u001b[49m\u001b[43m(\u001b[49m\u001b[38;5;124;43m'\u001b[39;49m\u001b[38;5;124;43m/workspace/sigir_dataset/train/browsing_train.csv\u001b[39;49m\u001b[38;5;124;43m'\u001b[39;49m\u001b[43m)\u001b[49m\n",
      "File \u001b[0;32m/usr/local/lib/python3.8/dist-packages/nvtx/nvtx.py:101\u001b[0m, in \u001b[0;36mannotate.__call__.<locals>.inner\u001b[0;34m(*args, **kwargs)\u001b[0m\n\u001b[1;32m     98\u001b[0m \u001b[38;5;129m@wraps\u001b[39m(func)\n\u001b[1;32m     99\u001b[0m \u001b[38;5;28;01mdef\u001b[39;00m \u001b[38;5;21minner\u001b[39m(\u001b[38;5;241m*\u001b[39margs, \u001b[38;5;241m*\u001b[39m\u001b[38;5;241m*\u001b[39mkwargs):\n\u001b[1;32m    100\u001b[0m     libnvtx_push_range(\u001b[38;5;28mself\u001b[39m\u001b[38;5;241m.\u001b[39mattributes, \u001b[38;5;28mself\u001b[39m\u001b[38;5;241m.\u001b[39mdomain\u001b[38;5;241m.\u001b[39mhandle)\n\u001b[0;32m--> 101\u001b[0m     result \u001b[38;5;241m=\u001b[39m \u001b[43mfunc\u001b[49m\u001b[43m(\u001b[49m\u001b[38;5;241;43m*\u001b[39;49m\u001b[43margs\u001b[49m\u001b[43m,\u001b[49m\u001b[43m \u001b[49m\u001b[38;5;241;43m*\u001b[39;49m\u001b[38;5;241;43m*\u001b[39;49m\u001b[43mkwargs\u001b[49m\u001b[43m)\u001b[49m\n\u001b[1;32m    102\u001b[0m     libnvtx_pop_range(\u001b[38;5;28mself\u001b[39m\u001b[38;5;241m.\u001b[39mdomain\u001b[38;5;241m.\u001b[39mhandle)\n\u001b[1;32m    103\u001b[0m     \u001b[38;5;28;01mreturn\u001b[39;00m result\n",
      "File \u001b[0;32m/usr/local/lib/python3.8/dist-packages/cudf/io/csv.py:88\u001b[0m, in \u001b[0;36mread_csv\u001b[0;34m(filepath_or_buffer, sep, delimiter, header, names, index_col, usecols, prefix, mangle_dupe_cols, dtype, true_values, false_values, skipinitialspace, skiprows, skipfooter, nrows, na_values, keep_default_na, na_filter, skip_blank_lines, parse_dates, dayfirst, compression, thousands, decimal, lineterminator, quotechar, quoting, doublequote, comment, delim_whitespace, byte_range, use_python_file_object, storage_options, bytes_per_thread)\u001b[0m\n\u001b[1;32m     85\u001b[0m \u001b[38;5;28;01mif\u001b[39;00m na_values \u001b[38;5;129;01mis\u001b[39;00m \u001b[38;5;129;01mnot\u001b[39;00m \u001b[38;5;28;01mNone\u001b[39;00m \u001b[38;5;129;01mand\u001b[39;00m is_scalar(na_values):\n\u001b[1;32m     86\u001b[0m     na_values \u001b[38;5;241m=\u001b[39m [na_values]\n\u001b[0;32m---> 88\u001b[0m df \u001b[38;5;241m=\u001b[39m \u001b[43mlibcudf\u001b[49m\u001b[38;5;241;43m.\u001b[39;49m\u001b[43mcsv\u001b[49m\u001b[38;5;241;43m.\u001b[39;49m\u001b[43mread_csv\u001b[49m\u001b[43m(\u001b[49m\n\u001b[1;32m     89\u001b[0m \u001b[43m    \u001b[49m\u001b[43mfilepath_or_buffer\u001b[49m\u001b[43m,\u001b[49m\n\u001b[1;32m     90\u001b[0m \u001b[43m    \u001b[49m\u001b[43mlineterminator\u001b[49m\u001b[38;5;241;43m=\u001b[39;49m\u001b[43mlineterminator\u001b[49m\u001b[43m,\u001b[49m\n\u001b[1;32m     91\u001b[0m \u001b[43m    \u001b[49m\u001b[43mquotechar\u001b[49m\u001b[38;5;241;43m=\u001b[39;49m\u001b[43mquotechar\u001b[49m\u001b[43m,\u001b[49m\n\u001b[1;32m     92\u001b[0m \u001b[43m    \u001b[49m\u001b[43mquoting\u001b[49m\u001b[38;5;241;43m=\u001b[39;49m\u001b[43mquoting\u001b[49m\u001b[43m,\u001b[49m\n\u001b[1;32m     93\u001b[0m \u001b[43m    \u001b[49m\u001b[43mdoublequote\u001b[49m\u001b[38;5;241;43m=\u001b[39;49m\u001b[43mdoublequote\u001b[49m\u001b[43m,\u001b[49m\n\u001b[1;32m     94\u001b[0m \u001b[43m    \u001b[49m\u001b[43mheader\u001b[49m\u001b[38;5;241;43m=\u001b[39;49m\u001b[43mheader\u001b[49m\u001b[43m,\u001b[49m\n\u001b[1;32m     95\u001b[0m \u001b[43m    \u001b[49m\u001b[43mmangle_dupe_cols\u001b[49m\u001b[38;5;241;43m=\u001b[39;49m\u001b[43mmangle_dupe_cols\u001b[49m\u001b[43m,\u001b[49m\n\u001b[1;32m     96\u001b[0m \u001b[43m    \u001b[49m\u001b[43musecols\u001b[49m\u001b[38;5;241;43m=\u001b[39;49m\u001b[43musecols\u001b[49m\u001b[43m,\u001b[49m\n\u001b[1;32m     97\u001b[0m \u001b[43m    \u001b[49m\u001b[43msep\u001b[49m\u001b[38;5;241;43m=\u001b[39;49m\u001b[43msep\u001b[49m\u001b[43m,\u001b[49m\n\u001b[1;32m     98\u001b[0m \u001b[43m    \u001b[49m\u001b[43mdelimiter\u001b[49m\u001b[38;5;241;43m=\u001b[39;49m\u001b[43mdelimiter\u001b[49m\u001b[43m,\u001b[49m\n\u001b[1;32m     99\u001b[0m \u001b[43m    \u001b[49m\u001b[43mdelim_whitespace\u001b[49m\u001b[38;5;241;43m=\u001b[39;49m\u001b[43mdelim_whitespace\u001b[49m\u001b[43m,\u001b[49m\n\u001b[1;32m    100\u001b[0m \u001b[43m    \u001b[49m\u001b[43mskipinitialspace\u001b[49m\u001b[38;5;241;43m=\u001b[39;49m\u001b[43mskipinitialspace\u001b[49m\u001b[43m,\u001b[49m\n\u001b[1;32m    101\u001b[0m \u001b[43m    \u001b[49m\u001b[43mnames\u001b[49m\u001b[38;5;241;43m=\u001b[39;49m\u001b[43mnames\u001b[49m\u001b[43m,\u001b[49m\n\u001b[1;32m    102\u001b[0m \u001b[43m    \u001b[49m\u001b[43mdtype\u001b[49m\u001b[38;5;241;43m=\u001b[39;49m\u001b[43mdtype\u001b[49m\u001b[43m,\u001b[49m\n\u001b[1;32m    103\u001b[0m \u001b[43m    \u001b[49m\u001b[43mskipfooter\u001b[49m\u001b[38;5;241;43m=\u001b[39;49m\u001b[43mskipfooter\u001b[49m\u001b[43m,\u001b[49m\n\u001b[1;32m    104\u001b[0m \u001b[43m    \u001b[49m\u001b[43mskiprows\u001b[49m\u001b[38;5;241;43m=\u001b[39;49m\u001b[43mskiprows\u001b[49m\u001b[43m,\u001b[49m\n\u001b[1;32m    105\u001b[0m \u001b[43m    \u001b[49m\u001b[43mdayfirst\u001b[49m\u001b[38;5;241;43m=\u001b[39;49m\u001b[43mdayfirst\u001b[49m\u001b[43m,\u001b[49m\n\u001b[1;32m    106\u001b[0m \u001b[43m    \u001b[49m\u001b[43mcompression\u001b[49m\u001b[38;5;241;43m=\u001b[39;49m\u001b[43mcompression\u001b[49m\u001b[43m,\u001b[49m\n\u001b[1;32m    107\u001b[0m \u001b[43m    \u001b[49m\u001b[43mthousands\u001b[49m\u001b[38;5;241;43m=\u001b[39;49m\u001b[43mthousands\u001b[49m\u001b[43m,\u001b[49m\n\u001b[1;32m    108\u001b[0m \u001b[43m    \u001b[49m\u001b[43mdecimal\u001b[49m\u001b[38;5;241;43m=\u001b[39;49m\u001b[43mdecimal\u001b[49m\u001b[43m,\u001b[49m\n\u001b[1;32m    109\u001b[0m \u001b[43m    \u001b[49m\u001b[43mtrue_values\u001b[49m\u001b[38;5;241;43m=\u001b[39;49m\u001b[43mtrue_values\u001b[49m\u001b[43m,\u001b[49m\n\u001b[1;32m    110\u001b[0m \u001b[43m    \u001b[49m\u001b[43mfalse_values\u001b[49m\u001b[38;5;241;43m=\u001b[39;49m\u001b[43mfalse_values\u001b[49m\u001b[43m,\u001b[49m\n\u001b[1;32m    111\u001b[0m \u001b[43m    \u001b[49m\u001b[43mnrows\u001b[49m\u001b[38;5;241;43m=\u001b[39;49m\u001b[43mnrows\u001b[49m\u001b[43m,\u001b[49m\n\u001b[1;32m    112\u001b[0m \u001b[43m    \u001b[49m\u001b[43mbyte_range\u001b[49m\u001b[38;5;241;43m=\u001b[39;49m\u001b[43mbyte_range\u001b[49m\u001b[43m,\u001b[49m\n\u001b[1;32m    113\u001b[0m \u001b[43m    \u001b[49m\u001b[43mskip_blank_lines\u001b[49m\u001b[38;5;241;43m=\u001b[39;49m\u001b[43mskip_blank_lines\u001b[49m\u001b[43m,\u001b[49m\n\u001b[1;32m    114\u001b[0m \u001b[43m    \u001b[49m\u001b[43mparse_dates\u001b[49m\u001b[38;5;241;43m=\u001b[39;49m\u001b[43mparse_dates\u001b[49m\u001b[43m,\u001b[49m\n\u001b[1;32m    115\u001b[0m \u001b[43m    \u001b[49m\u001b[43mcomment\u001b[49m\u001b[38;5;241;43m=\u001b[39;49m\u001b[43mcomment\u001b[49m\u001b[43m,\u001b[49m\n\u001b[1;32m    116\u001b[0m \u001b[43m    \u001b[49m\u001b[43mna_values\u001b[49m\u001b[38;5;241;43m=\u001b[39;49m\u001b[43mna_values\u001b[49m\u001b[43m,\u001b[49m\n\u001b[1;32m    117\u001b[0m \u001b[43m    \u001b[49m\u001b[43mkeep_default_na\u001b[49m\u001b[38;5;241;43m=\u001b[39;49m\u001b[43mkeep_default_na\u001b[49m\u001b[43m,\u001b[49m\n\u001b[1;32m    118\u001b[0m \u001b[43m    \u001b[49m\u001b[43mna_filter\u001b[49m\u001b[38;5;241;43m=\u001b[39;49m\u001b[43mna_filter\u001b[49m\u001b[43m,\u001b[49m\n\u001b[1;32m    119\u001b[0m \u001b[43m    \u001b[49m\u001b[43mprefix\u001b[49m\u001b[38;5;241;43m=\u001b[39;49m\u001b[43mprefix\u001b[49m\u001b[43m,\u001b[49m\n\u001b[1;32m    120\u001b[0m \u001b[43m    \u001b[49m\u001b[43mindex_col\u001b[49m\u001b[38;5;241;43m=\u001b[39;49m\u001b[43mindex_col\u001b[49m\u001b[43m,\u001b[49m\n\u001b[1;32m    121\u001b[0m \u001b[43m\u001b[49m\u001b[43m)\u001b[49m\n\u001b[1;32m    123\u001b[0m \u001b[38;5;28;01mif\u001b[39;00m dtype \u001b[38;5;129;01mis\u001b[39;00m \u001b[38;5;28;01mNone\u001b[39;00m \u001b[38;5;129;01mor\u001b[39;00m \u001b[38;5;28misinstance\u001b[39m(dtype, abc\u001b[38;5;241m.\u001b[39mMapping):\n\u001b[1;32m    124\u001b[0m     \u001b[38;5;66;03m# There exists some dtypes in the result columns that is inferred.\u001b[39;00m\n\u001b[1;32m    125\u001b[0m     \u001b[38;5;66;03m# Find them and map them to the default dtypes.\u001b[39;00m\n\u001b[1;32m    126\u001b[0m     dtype \u001b[38;5;241m=\u001b[39m {} \u001b[38;5;28;01mif\u001b[39;00m dtype \u001b[38;5;129;01mis\u001b[39;00m \u001b[38;5;28;01mNone\u001b[39;00m \u001b[38;5;28;01melse\u001b[39;00m dtype\n",
      "File \u001b[0;32mcsv.pyx:423\u001b[0m, in \u001b[0;36mcudf._lib.csv.read_csv\u001b[0;34m()\u001b[0m\n",
      "\u001b[0;31mRuntimeError\u001b[0m: cuDF failure at: /opt/rapids/src/cudf/cpp/include/cudf/strings/detail/strings_column_factories.cuh:88: total size of strings is too large for cudf column"
     ]
    }
   ],
   "source": [
    "cudf.read_csv('/workspace/sigir_dataset/train/browsing_train.csv')"
   ]
  },
  {
   "cell_type": "markdown",
   "id": "3c03e17b",
   "metadata": {},
   "source": [
    "`cudf` can only read in datasets that have fewer than 2**32 characters. Here there is so much data and the strings are so long we cross this limit.\n",
    "\n",
    "We could work with only partial data. But we would still have the problem of our id column consisting of strings. This is something that `datasets` is unable to work with for synthetic data generation.\n",
    "\n",
    "Let's instead \"categorify\" the string columns of interest. We will have to do this nonetheless if we will want to work with the full dataset in `cudf`."
   ]
  },
  {
   "cell_type": "code",
   "execution_count": 52,
   "id": "c761fa35",
   "metadata": {},
   "outputs": [],
   "source": [
    "train = pd.read_csv('/workspace/sigir_dataset/train/browsing_train.csv')"
   ]
  },
  {
   "cell_type": "code",
   "execution_count": 36,
   "id": "be674da7",
   "metadata": {},
   "outputs": [
    {
     "data": {
      "text/html": [
       "<div>\n",
       "<style scoped>\n",
       "    .dataframe tbody tr th:only-of-type {\n",
       "        vertical-align: middle;\n",
       "    }\n",
       "\n",
       "    .dataframe tbody tr th {\n",
       "        vertical-align: top;\n",
       "    }\n",
       "\n",
       "    .dataframe thead th {\n",
       "        text-align: right;\n",
       "    }\n",
       "</style>\n",
       "<table border=\"1\" class=\"dataframe\">\n",
       "  <thead>\n",
       "    <tr style=\"text-align: right;\">\n",
       "      <th></th>\n",
       "      <th>session_id_hash</th>\n",
       "      <th>event_type</th>\n",
       "      <th>product_action</th>\n",
       "      <th>product_sku_hash</th>\n",
       "      <th>server_timestamp_epoch_ms</th>\n",
       "      <th>hashed_url</th>\n",
       "    </tr>\n",
       "  </thead>\n",
       "  <tbody>\n",
       "    <tr>\n",
       "      <th>0</th>\n",
       "      <td>20c458b802f6ea9374783bfc528b19421be977a6769785...</td>\n",
       "      <td>event_product</td>\n",
       "      <td>detail</td>\n",
       "      <td>d5157f8bc52965390fa21ad5842a8502bc3eb8b0930f3f...</td>\n",
       "      <td>1550885210881</td>\n",
       "      <td>7e4527ac6a32deed4f4f06bb7c49b907b7ca371e59d57d...</td>\n",
       "    </tr>\n",
       "    <tr>\n",
       "      <th>1</th>\n",
       "      <td>20c458b802f6ea9374783bfc528b19421be977a6769785...</td>\n",
       "      <td>event_product</td>\n",
       "      <td>detail</td>\n",
       "      <td>61ef3869355b78e11011f39fc7ac8f8dfb209b3442a9d5...</td>\n",
       "      <td>1550885213307</td>\n",
       "      <td>4ed279f4f0deab6dfc80f4f7bf49d527fd894fa478a9ce...</td>\n",
       "    </tr>\n",
       "    <tr>\n",
       "      <th>2</th>\n",
       "      <td>20c458b802f6ea9374783bfc528b19421be977a6769785...</td>\n",
       "      <td>pageview</td>\n",
       "      <td>NaN</td>\n",
       "      <td>NaN</td>\n",
       "      <td>1550885213307</td>\n",
       "      <td>4ed279f4f0deab6dfc80f4f7bf49d527fd894fa478a9ce...</td>\n",
       "    </tr>\n",
       "    <tr>\n",
       "      <th>3</th>\n",
       "      <td>20c458b802f6ea9374783bfc528b19421be977a6769785...</td>\n",
       "      <td>event_product</td>\n",
       "      <td>detail</td>\n",
       "      <td>d5157f8bc52965390fa21ad5842a8502bc3eb8b0930f3f...</td>\n",
       "      <td>1550885215484</td>\n",
       "      <td>7e4527ac6a32deed4f4f06bb7c49b907b7ca371e59d57d...</td>\n",
       "    </tr>\n",
       "    <tr>\n",
       "      <th>4</th>\n",
       "      <td>20c458b802f6ea9374783bfc528b19421be977a6769785...</td>\n",
       "      <td>pageview</td>\n",
       "      <td>NaN</td>\n",
       "      <td>NaN</td>\n",
       "      <td>1550885215484</td>\n",
       "      <td>7e4527ac6a32deed4f4f06bb7c49b907b7ca371e59d57d...</td>\n",
       "    </tr>\n",
       "  </tbody>\n",
       "</table>\n",
       "</div>"
      ],
      "text/plain": [
       "                                     session_id_hash     event_type  \\\n",
       "0  20c458b802f6ea9374783bfc528b19421be977a6769785...  event_product   \n",
       "1  20c458b802f6ea9374783bfc528b19421be977a6769785...  event_product   \n",
       "2  20c458b802f6ea9374783bfc528b19421be977a6769785...       pageview   \n",
       "3  20c458b802f6ea9374783bfc528b19421be977a6769785...  event_product   \n",
       "4  20c458b802f6ea9374783bfc528b19421be977a6769785...       pageview   \n",
       "\n",
       "  product_action                                   product_sku_hash  \\\n",
       "0         detail  d5157f8bc52965390fa21ad5842a8502bc3eb8b0930f3f...   \n",
       "1         detail  61ef3869355b78e11011f39fc7ac8f8dfb209b3442a9d5...   \n",
       "2            NaN                                                NaN   \n",
       "3         detail  d5157f8bc52965390fa21ad5842a8502bc3eb8b0930f3f...   \n",
       "4            NaN                                                NaN   \n",
       "\n",
       "   server_timestamp_epoch_ms  \\\n",
       "0              1550885210881   \n",
       "1              1550885213307   \n",
       "2              1550885213307   \n",
       "3              1550885215484   \n",
       "4              1550885215484   \n",
       "\n",
       "                                          hashed_url  \n",
       "0  7e4527ac6a32deed4f4f06bb7c49b907b7ca371e59d57d...  \n",
       "1  4ed279f4f0deab6dfc80f4f7bf49d527fd894fa478a9ce...  \n",
       "2  4ed279f4f0deab6dfc80f4f7bf49d527fd894fa478a9ce...  \n",
       "3  7e4527ac6a32deed4f4f06bb7c49b907b7ca371e59d57d...  \n",
       "4  7e4527ac6a32deed4f4f06bb7c49b907b7ca371e59d57d...  "
      ]
     },
     "execution_count": 36,
     "metadata": {},
     "output_type": "execute_result"
    }
   ],
   "source": [
    "train.head()"
   ]
  },
  {
   "cell_type": "code",
   "execution_count": 7,
   "id": "ffbaaa8d",
   "metadata": {},
   "outputs": [
    {
     "data": {
      "text/plain": [
       "36.079307"
      ]
     },
     "execution_count": 7,
     "metadata": {},
     "output_type": "execute_result"
    }
   ],
   "source": [
    "train.shape[0] / 1_000_000"
   ]
  },
  {
   "cell_type": "markdown",
   "id": "a286a7af",
   "metadata": {},
   "source": [
    "36+ million records!"
   ]
  },
  {
   "cell_type": "code",
   "execution_count": 37,
   "id": "a55cd5b6",
   "metadata": {},
   "outputs": [
    {
     "data": {
      "text/plain": [
       "64"
      ]
     },
     "execution_count": 37,
     "metadata": {},
     "output_type": "execute_result"
    }
   ],
   "source": [
    "len(train.iloc[0]['session_id_hash'])"
   ]
  },
  {
   "cell_type": "code",
   "execution_count": 38,
   "id": "5e1eda8c",
   "metadata": {},
   "outputs": [
    {
     "data": {
      "text/plain": [
       "1.860037500165954"
      ]
     },
     "execution_count": 38,
     "metadata": {},
     "output_type": "execute_result"
    }
   ],
   "source": [
    "2**32 / (train.shape[0] * 64)"
   ]
  },
  {
   "cell_type": "markdown",
   "id": "0b2d2b36",
   "metadata": {},
   "source": [
    "We cannot accommodate even two hash columns!"
   ]
  },
  {
   "cell_type": "code",
   "execution_count": 53,
   "id": "44f6edd2",
   "metadata": {},
   "outputs": [],
   "source": [
    "train['session_id_hash'] = train['session_id_hash'].astype('category')\n",
    "categories_index = train['session_id_hash'].cat.categories\n",
    "train['session_id_hash'] = train['session_id_hash'].cat.codes\n",
    "\n",
    "train['product_sku_hash'] = train['product_sku_hash'].astype('category')\n",
    "categories_index = train['product_sku_hash'].cat.categories\n",
    "hash_to_cat_idx = {h: i for i, h in enumerate(categories_index)}\n",
    "train['product_sku_hash'] = train['product_sku_hash'].cat.codes\n",
    "\n",
    "train['hashed_url'] = train['hashed_url'].astype('category')\n",
    "categories_index = train['hashed_url'].cat.categories\n",
    "train['hashed_url'] = train['hashed_url'].cat.codes\n",
    "\n",
    "train.head()"
   ]
  },
  {
   "cell_type": "markdown",
   "id": "c38d3ecb",
   "metadata": {},
   "source": [
    "This is looking good and we are able to output and read in the file using `cudf`."
   ]
  },
  {
   "cell_type": "code",
   "execution_count": 48,
   "id": "da20f283",
   "metadata": {},
   "outputs": [
    {
     "data": {
      "text/html": [
       "<div>\n",
       "<style scoped>\n",
       "    .dataframe tbody tr th:only-of-type {\n",
       "        vertical-align: middle;\n",
       "    }\n",
       "\n",
       "    .dataframe tbody tr th {\n",
       "        vertical-align: top;\n",
       "    }\n",
       "\n",
       "    .dataframe thead th {\n",
       "        text-align: right;\n",
       "    }\n",
       "</style>\n",
       "<table border=\"1\" class=\"dataframe\">\n",
       "  <thead>\n",
       "    <tr style=\"text-align: right;\">\n",
       "      <th></th>\n",
       "      <th>session_id_hash</th>\n",
       "      <th>event_type</th>\n",
       "      <th>product_action</th>\n",
       "      <th>product_sku_hash</th>\n",
       "      <th>server_timestamp_epoch_ms</th>\n",
       "      <th>hashed_url</th>\n",
       "    </tr>\n",
       "  </thead>\n",
       "  <tbody>\n",
       "    <tr>\n",
       "      <th>0</th>\n",
       "      <td>631811</td>\n",
       "      <td>event_product</td>\n",
       "      <td>detail</td>\n",
       "      <td>47936</td>\n",
       "      <td>1550885210881</td>\n",
       "      <td>241663</td>\n",
       "    </tr>\n",
       "    <tr>\n",
       "      <th>1</th>\n",
       "      <td>631811</td>\n",
       "      <td>event_product</td>\n",
       "      <td>detail</td>\n",
       "      <td>22091</td>\n",
       "      <td>1550885213307</td>\n",
       "      <td>151100</td>\n",
       "    </tr>\n",
       "    <tr>\n",
       "      <th>2</th>\n",
       "      <td>631811</td>\n",
       "      <td>pageview</td>\n",
       "      <td>&lt;NA&gt;</td>\n",
       "      <td>-1</td>\n",
       "      <td>1550885213307</td>\n",
       "      <td>151100</td>\n",
       "    </tr>\n",
       "    <tr>\n",
       "      <th>3</th>\n",
       "      <td>631811</td>\n",
       "      <td>event_product</td>\n",
       "      <td>detail</td>\n",
       "      <td>47936</td>\n",
       "      <td>1550885215484</td>\n",
       "      <td>241663</td>\n",
       "    </tr>\n",
       "    <tr>\n",
       "      <th>4</th>\n",
       "      <td>631811</td>\n",
       "      <td>pageview</td>\n",
       "      <td>&lt;NA&gt;</td>\n",
       "      <td>-1</td>\n",
       "      <td>1550885215484</td>\n",
       "      <td>241663</td>\n",
       "    </tr>\n",
       "  </tbody>\n",
       "</table>\n",
       "</div>"
      ],
      "text/plain": [
       "   session_id_hash     event_type product_action  product_sku_hash  \\\n",
       "0           631811  event_product         detail             47936   \n",
       "1           631811  event_product         detail             22091   \n",
       "2           631811       pageview           <NA>                -1   \n",
       "3           631811  event_product         detail             47936   \n",
       "4           631811       pageview           <NA>                -1   \n",
       "\n",
       "   server_timestamp_epoch_ms  hashed_url  \n",
       "0              1550885210881      241663  \n",
       "1              1550885213307      151100  \n",
       "2              1550885213307      151100  \n",
       "3              1550885215484      241663  \n",
       "4              1550885215484      241663  "
      ]
     },
     "execution_count": 48,
     "metadata": {},
     "output_type": "execute_result"
    }
   ],
   "source": [
    "train.to_parquet('/workspace/sigir_dataset/train/browsing_train.parquet')\n",
    "cudf.read_parquet('/workspace/sigir_dataset/train/browsing_train.parquet').head()"
   ]
  },
  {
   "cell_type": "markdown",
   "id": "5cd7ea66",
   "metadata": {},
   "source": [
    "For training on the full dataset, we would need to apply similar processing to the sku information (using the hash to index mapping we collected above)."
   ]
  },
  {
   "cell_type": "code",
   "execution_count": 49,
   "id": "0163d658",
   "metadata": {},
   "outputs": [
    {
     "name": "stdout",
     "output_type": "stream",
     "text": [
      "browsing_train.csv      search_train.csv\r\n",
      "browsing_train.parquet  sku_to_content.csv\r\n"
     ]
    }
   ],
   "source": [
    "ls /workspace/sigir_dataset/train"
   ]
  },
  {
   "cell_type": "code",
   "execution_count": 68,
   "id": "4e20bbf4",
   "metadata": {},
   "outputs": [],
   "source": [
    "skus = pd.read_csv('/workspace/sigir_dataset/train/sku_to_content.csv')\n",
    "\n",
    "skus['product_sku_hash'] = skus['product_sku_hash'].map(hash_to_cat_idx).fillna(0).astype('int')"
   ]
  },
  {
   "cell_type": "markdown",
   "id": "d500017c",
   "metadata": {},
   "source": [
    "This will allow us to link sessions data to pretrained embeddings.\n",
    "\n",
    "Let's now generate synthetic data."
   ]
  },
  {
   "cell_type": "code",
   "execution_count": 148,
   "id": "cb1c45c1",
   "metadata": {},
   "outputs": [
    {
     "data": {
      "text/html": [
       "<div>\n",
       "<style scoped>\n",
       "    .dataframe tbody tr th:only-of-type {\n",
       "        vertical-align: middle;\n",
       "    }\n",
       "\n",
       "    .dataframe tbody tr th {\n",
       "        vertical-align: top;\n",
       "    }\n",
       "\n",
       "    .dataframe thead th {\n",
       "        text-align: right;\n",
       "    }\n",
       "</style>\n",
       "<table border=\"1\" class=\"dataframe\">\n",
       "  <thead>\n",
       "    <tr style=\"text-align: right;\">\n",
       "      <th></th>\n",
       "      <th>session_id_hash</th>\n",
       "      <th>event_type</th>\n",
       "      <th>product_action</th>\n",
       "      <th>product_sku_hash</th>\n",
       "      <th>server_timestamp_epoch_ms</th>\n",
       "      <th>hashed_url</th>\n",
       "    </tr>\n",
       "  </thead>\n",
       "  <tbody>\n",
       "    <tr>\n",
       "      <th>0</th>\n",
       "      <td>194</td>\n",
       "      <td>event_product</td>\n",
       "      <td>detail</td>\n",
       "      <td>1257</td>\n",
       "      <td>1550885210881</td>\n",
       "      <td>1320</td>\n",
       "    </tr>\n",
       "    <tr>\n",
       "      <th>1</th>\n",
       "      <td>194</td>\n",
       "      <td>event_product</td>\n",
       "      <td>detail</td>\n",
       "      <td>593</td>\n",
       "      <td>1550885213307</td>\n",
       "      <td>832</td>\n",
       "    </tr>\n",
       "    <tr>\n",
       "      <th>2</th>\n",
       "      <td>194</td>\n",
       "      <td>pageview</td>\n",
       "      <td>NaN</td>\n",
       "      <td>-1</td>\n",
       "      <td>1550885213307</td>\n",
       "      <td>832</td>\n",
       "    </tr>\n",
       "    <tr>\n",
       "      <th>3</th>\n",
       "      <td>194</td>\n",
       "      <td>event_product</td>\n",
       "      <td>detail</td>\n",
       "      <td>1257</td>\n",
       "      <td>1550885215484</td>\n",
       "      <td>1320</td>\n",
       "    </tr>\n",
       "    <tr>\n",
       "      <th>4</th>\n",
       "      <td>194</td>\n",
       "      <td>pageview</td>\n",
       "      <td>NaN</td>\n",
       "      <td>-1</td>\n",
       "      <td>1550885215484</td>\n",
       "      <td>1320</td>\n",
       "    </tr>\n",
       "  </tbody>\n",
       "</table>\n",
       "</div>"
      ],
      "text/plain": [
       "   session_id_hash     event_type product_action  product_sku_hash  \\\n",
       "0              194  event_product         detail              1257   \n",
       "1              194  event_product         detail               593   \n",
       "2              194       pageview            NaN                -1   \n",
       "3              194  event_product         detail              1257   \n",
       "4              194       pageview            NaN                -1   \n",
       "\n",
       "   server_timestamp_epoch_ms  hashed_url  \n",
       "0              1550885210881        1320  \n",
       "1              1550885213307         832  \n",
       "2              1550885213307         832  \n",
       "3              1550885215484        1320  \n",
       "4              1550885215484        1320  "
      ]
     },
     "execution_count": 148,
     "metadata": {},
     "output_type": "execute_result"
    }
   ],
   "source": [
    "train = pd.read_csv('/workspace/sigir_dataset/train/browsing_train.csv').head(10_000)\n",
    "\n",
    "train['session_id_hash'] = train['session_id_hash'].astype('category')\n",
    "categories_index = train['session_id_hash'].cat.categories\n",
    "train['session_id_hash'] = train['session_id_hash'].cat.codes\n",
    "\n",
    "train['product_sku_hash'] = train['product_sku_hash'].astype('category')\n",
    "categories_index = train['product_sku_hash'].cat.categories\n",
    "hash_to_cat_idx = {h: i for i, h in enumerate(categories_index)}\n",
    "train['product_sku_hash'] = train['product_sku_hash'].cat.codes\n",
    "\n",
    "train['hashed_url'] = train['hashed_url'].astype('category')\n",
    "categories_index = train['hashed_url'].cat.categories\n",
    "train['hashed_url'] = train['hashed_url'].cat.codes\n",
    "\n",
    "train.head()"
   ]
  },
  {
   "cell_type": "code",
   "execution_count": 198,
   "id": "f1e0eee6",
   "metadata": {},
   "outputs": [],
   "source": [
    "train['event_type'] = train['event_type'].fillna('unknown')\n",
    "train['product_action'] = train['product_action'].fillna('unknown')"
   ]
  },
  {
   "cell_type": "code",
   "execution_count": 199,
   "id": "63249b3b",
   "metadata": {},
   "outputs": [
    {
     "data": {
      "text/plain": [
       "1363"
      ]
     },
     "execution_count": 199,
     "metadata": {},
     "output_type": "execute_result"
    }
   ],
   "source": [
    "train.session_id_hash.nunique()"
   ]
  },
  {
   "cell_type": "code",
   "execution_count": 200,
   "id": "066b0698",
   "metadata": {},
   "outputs": [],
   "source": [
    "from nvtabular import *\n",
    "import nvtabular as nvt"
   ]
  },
  {
   "cell_type": "code",
   "execution_count": 201,
   "id": "f7efc5eb",
   "metadata": {},
   "outputs": [],
   "source": [
    "out = ['session_id_hash'] >> nvt.ops.Categorify(max_size=1000) >> nvt.ops.TagAsItemID()\n",
    "out += ['event_type'] >> nvt.ops.Categorify(max_size=1000)"
   ]
  },
  {
   "cell_type": "code",
   "execution_count": 202,
   "id": "befeaaae",
   "metadata": {},
   "outputs": [
    {
     "data": {
      "text/plain": [
       "['session_id_hash',\n",
       " 'event_type',\n",
       " 'product_action',\n",
       " 'product_sku_hash',\n",
       " 'server_timestamp_epoch_ms',\n",
       " 'hashed_url']"
      ]
     },
     "execution_count": 202,
     "metadata": {},
     "output_type": "execute_result"
    }
   ],
   "source": [
    "train.columns.tolist()"
   ]
  },
  {
   "cell_type": "code",
   "execution_count": 203,
   "id": "813a55d6",
   "metadata": {},
   "outputs": [],
   "source": [
    "wf = Workflow(out + train.columns.tolist()[2:])"
   ]
  },
  {
   "cell_type": "code",
   "execution_count": 210,
   "id": "f83fa4c6",
   "metadata": {},
   "outputs": [
    {
     "name": "stderr",
     "output_type": "stream",
     "text": [
      "/usr/local/lib/python3.8/dist-packages/merlin/schema/tags.py:149: UserWarning: Compound tags like Tags.ITEM_ID have been deprecated and will be removed in a future version. Please use the atomic versions of these tags, like [<Tags.ITEM: 'item'>, <Tags.ID: 'id'>].\n",
      "  warnings.warn(\n",
      "/usr/local/lib/python3.8/dist-packages/merlin/schema/tags.py:149: UserWarning: Compound tags like Tags.ITEM_ID have been deprecated and will be removed in a future version. Please use the atomic versions of these tags, like [<Tags.ITEM: 'item'>, <Tags.ID: 'id'>].\n",
      "  warnings.warn(\n",
      "/usr/local/lib/python3.8/dist-packages/merlin/schema/tags.py:149: UserWarning: Compound tags like Tags.ITEM_ID have been deprecated and will be removed in a future version. Please use the atomic versions of these tags, like [<Tags.ITEM: 'item'>, <Tags.ID: 'id'>].\n",
      "  warnings.warn(\n"
     ]
    }
   ],
   "source": [
    "ds = Dataset(train)\n",
    "ds_out = wf.fit_transform(ds)"
   ]
  },
  {
   "cell_type": "code",
   "execution_count": 211,
   "id": "64d75cb5",
   "metadata": {},
   "outputs": [],
   "source": [
    "ds_out.to_parquet('ds_out')"
   ]
  },
  {
   "cell_type": "code",
   "execution_count": 212,
   "id": "cb9719e4",
   "metadata": {},
   "outputs": [
    {
     "name": "stdout",
     "output_type": "stream",
     "text": [
      "{\r\n",
      "    \"feature\": [\r\n",
      "        {\r\n",
      "            \"name\": \"session_id_hash\",\r\n",
      "            \"type\": \"INT\",\r\n",
      "            \"intDomain\": {\r\n",
      "                \"name\": \"session_id_hash\",\r\n",
      "                \"max\": \"999\",\r\n",
      "                \"isCategorical\": true\r\n",
      "            },\r\n",
      "            \"annotation\": {\r\n",
      "                \"tag\": [\r\n",
      "                    \"item_id\",\r\n",
      "                    \"item\",\r\n",
      "                    \"id\",\r\n",
      "                    \"categorical\"\r\n",
      "                ],\r\n",
      "                \"extraMetadata\": [\r\n",
      "                    {\r\n",
      "                        \"num_buckets\": null,\r\n",
      "                        \"freq_threshold\": 0.0,\r\n",
      "                        \"max_size\": 1000.0,\r\n",
      "                        \"start_index\": 0.0,\r\n",
      "                        \"cat_path\": \".//categories/unique.session_id_hash.parquet\",\r\n",
      "                        \"embedding_sizes\": {\r\n",
      "                            \"cardinality\": 1000.0,\r\n",
      "                            \"dimension\": 77.0\r\n",
      "                        },\r\n",
      "                        \"_dims\": [\r\n",
      "                            [\r\n",
      "                                0.0,\r\n",
      "                                null\r\n",
      "                            ]\r\n",
      "                        ],\r\n",
      "                        \"is_list\": false,\r\n",
      "                        \"is_ragged\": false,\r\n",
      "                        \"dtype_item_size\": 64.0\r\n",
      "                    }\r\n",
      "                ]\r\n",
      "            }\r\n",
      "        },\r\n",
      "        {\r\n",
      "            \"name\": \"event_type\",\r\n",
      "            \"type\": \"INT\",\r\n",
      "            \"intDomain\": {\r\n",
      "                \"name\": \"event_type\",\r\n",
      "                \"max\": \"2\",\r\n",
      "                \"isCategorical\": true\r\n",
      "            },\r\n",
      "            \"annotation\": {\r\n",
      "                \"tag\": [\r\n",
      "                    \"categorical\"\r\n",
      "                ],\r\n",
      "                \"extraMetadata\": [\r\n",
      "                    {\r\n",
      "                        \"num_buckets\": null,\r\n",
      "                        \"freq_threshold\": 0.0,\r\n",
      "                        \"max_size\": 1000.0,\r\n",
      "                        \"start_index\": 0.0,\r\n",
      "                        \"cat_path\": \".//categories/unique.event_type.parquet\",\r\n",
      "                        \"embedding_sizes\": {\r\n",
      "                            \"cardinality\": 3.0,\r\n",
      "                            \"dimension\": 16.0\r\n",
      "                        },\r\n",
      "                        \"_dims\": [\r\n",
      "                            [\r\n",
      "                                0.0,\r\n",
      "                                null\r\n",
      "                            ]\r\n",
      "                        ],\r\n",
      "                        \"is_list\": false,\r\n",
      "                        \"is_ragged\": false,\r\n",
      "                        \"dtype_item_size\": 64.0\r\n",
      "                    }\r\n",
      "                ]\r\n",
      "            }\r\n",
      "        },\r\n",
      "        {\r\n",
      "            \"name\": \"product_action\",\r\n",
      "            \"annotation\": {\r\n",
      "                \"extraMetadata\": [\r\n",
      "                    {\r\n",
      "                        \"_dims\": [\r\n",
      "                            [\r\n",
      "                                0.0,\r\n",
      "                                null\r\n",
      "                            ]\r\n",
      "                        ],\r\n",
      "                        \"is_list\": false,\r\n",
      "                        \"is_ragged\": false\r\n",
      "                    }\r\n",
      "                ]\r\n",
      "            }\r\n",
      "        },\r\n",
      "        {\r\n",
      "            \"name\": \"product_sku_hash\",\r\n",
      "            \"type\": \"INT\",\r\n",
      "            \"annotation\": {\r\n",
      "                \"extraMetadata\": [\r\n",
      "                    {\r\n",
      "                        \"_dims\": [\r\n",
      "                            [\r\n",
      "                                0.0,\r\n",
      "                                null\r\n",
      "                            ]\r\n",
      "                        ],\r\n",
      "                        \"is_list\": false,\r\n",
      "                        \"is_ragged\": false,\r\n",
      "                        \"dtype_item_size\": 16.0\r\n",
      "                    }\r\n",
      "                ]\r\n",
      "            }\r\n",
      "        },\r\n",
      "        {\r\n",
      "            \"name\": \"server_timestamp_epoch_ms\",\r\n",
      "            \"type\": \"INT\",\r\n",
      "            \"annotation\": {\r\n",
      "                \"extraMetadata\": [\r\n",
      "                    {\r\n",
      "                        \"_dims\": [\r\n",
      "                            [\r\n",
      "                                0.0,\r\n",
      "                                null\r\n",
      "                            ]\r\n",
      "                        ],\r\n",
      "                        \"is_list\": false,\r\n",
      "                        \"is_ragged\": false,\r\n",
      "                        \"dtype_item_size\": 64.0\r\n",
      "                    }\r\n",
      "                ]\r\n",
      "            }\r\n",
      "        },\r\n",
      "        {\r\n",
      "            \"name\": \"hashed_url\",\r\n",
      "            \"type\": \"INT\",\r\n",
      "            \"annotation\": {\r\n",
      "                \"extraMetadata\": [\r\n",
      "                    {\r\n",
      "                        \"_dims\": [\r\n",
      "                            [\r\n",
      "                                0.0,\r\n",
      "                                null\r\n",
      "                            ]\r\n",
      "                        ],\r\n",
      "                        \"is_list\": false,\r\n",
      "                        \"is_ragged\": false,\r\n",
      "                        \"dtype_item_size\": 16.0\r\n",
      "                    }\r\n",
      "                ]\r\n",
      "            }\r\n",
      "        }\r\n",
      "    ]\r\n",
      "}\r\n"
     ]
    }
   ],
   "source": [
    "from merlin.schema.io.tensorflow_metadata import TensorflowMetadata\n",
    "\n",
    "pb = TensorflowMetadata.from_proto_text_file(path='ds_out')\n",
    "pb.to_json_file(path='ds_out')\n",
    "\n",
    "!python3 -m json.tool ds_out/schema.json"
   ]
  },
  {
   "cell_type": "code",
   "execution_count": 213,
   "id": "ea8e4e04",
   "metadata": {},
   "outputs": [],
   "source": [
    "from merlin.datasets.synthetic import generate_data"
   ]
  },
  {
   "cell_type": "code",
   "execution_count": 214,
   "id": "426f8aea",
   "metadata": {},
   "outputs": [
    {
     "name": "stderr",
     "output_type": "stream",
     "text": [
      "/usr/local/lib/python3.8/dist-packages/merlin/schema/tags.py:149: UserWarning: Compound tags like Tags.ITEM_ID have been deprecated and will be removed in a future version. Please use the atomic versions of these tags, like [<Tags.ITEM: 'item'>, <Tags.ID: 'id'>].\n",
      "  warnings.warn(\n"
     ]
    },
    {
     "ename": "ValueError",
     "evalue": "The registered dtype mapping for numpy doesn't contain type unknown.",
     "output_type": "error",
     "traceback": [
      "\u001b[0;31m---------------------------------------------------------------------------\u001b[0m",
      "\u001b[0;31mKeyError\u001b[0m                                  Traceback (most recent call last)",
      "File \u001b[0;32m/usr/local/lib/python3.8/dist-packages/merlin/dtypes/base.py:112\u001b[0m, in \u001b[0;36mDType.to\u001b[0;34m(self, mapping_name)\u001b[0m\n\u001b[1;32m    111\u001b[0m \u001b[38;5;28;01mtry\u001b[39;00m:\n\u001b[0;32m--> 112\u001b[0m     \u001b[38;5;28;01mreturn\u001b[39;00m \u001b[43mmapping\u001b[49m\u001b[38;5;241;43m.\u001b[39;49m\u001b[43mfrom_merlin\u001b[49m\u001b[43m(\u001b[49m\u001b[38;5;28;43mself\u001b[39;49m\u001b[38;5;241;43m.\u001b[39;49m\u001b[43mwithout_shape\u001b[49m\u001b[43m)\u001b[49m\n\u001b[1;32m    113\u001b[0m \u001b[38;5;28;01mexcept\u001b[39;00m \u001b[38;5;167;01mKeyError\u001b[39;00m \u001b[38;5;28;01mas\u001b[39;00m exc:\n",
      "File \u001b[0;32m/usr/local/lib/python3.8/dist-packages/merlin/dtypes/mapping.py:158\u001b[0m, in \u001b[0;36mDTypeMapping.from_merlin\u001b[0;34m(self, merlin_dtype)\u001b[0m\n\u001b[1;32m    157\u001b[0m \u001b[38;5;66;03m# Always translate to the first external dtype in the list\u001b[39;00m\n\u001b[0;32m--> 158\u001b[0m \u001b[38;5;28;01mreturn\u001b[39;00m \u001b[38;5;28;43mself\u001b[39;49m\u001b[38;5;241;43m.\u001b[39;49m\u001b[43mfrom_merlin_\u001b[49m\u001b[43m[\u001b[49m\u001b[43mmerlin_dtype\u001b[49m\u001b[43m]\u001b[49m[\u001b[38;5;241m0\u001b[39m]\n",
      "\u001b[0;31mKeyError\u001b[0m: DType(name='unknown', element_type=<ElementType.Unknown: 'unknown'>, element_size=None, element_unit=None, signed=None, shape=Shape(dims=None))",
      "\nThe above exception was the direct cause of the following exception:\n",
      "\u001b[0;31mValueError\u001b[0m                                Traceback (most recent call last)",
      "Cell \u001b[0;32mIn[214], line 1\u001b[0m\n\u001b[0;32m----> 1\u001b[0m \u001b[43mgenerate_data\u001b[49m\u001b[43m(\u001b[49m\u001b[38;5;124;43m'\u001b[39;49m\u001b[38;5;124;43mds_out/schema.json\u001b[39;49m\u001b[38;5;124;43m'\u001b[39;49m\u001b[43m,\u001b[49m\u001b[43m \u001b[49m\u001b[38;5;241;43m1000\u001b[39;49m\u001b[43m)\u001b[49m\n",
      "File \u001b[0;32m/usr/local/lib/python3.8/dist-packages/merlin/datasets/synthetic.py:134\u001b[0m, in \u001b[0;36mgenerate_data\u001b[0;34m(input, num_rows, set_sizes, min_session_length, max_session_length, device)\u001b[0m\n\u001b[1;32m    129\u001b[0m         \u001b[38;5;66;03m# Overriding min and max session length from schema\u001b[39;00m\n\u001b[1;32m    130\u001b[0m         schema[col] \u001b[38;5;241m=\u001b[39m schema[col]\u001b[38;5;241m.\u001b[39mwith_shape(\n\u001b[1;32m    131\u001b[0m             ((\u001b[38;5;241m0\u001b[39m, \u001b[38;5;28;01mNone\u001b[39;00m), (min_session_length, max_session_length))\n\u001b[1;32m    132\u001b[0m         )\n\u001b[0;32m--> 134\u001b[0m df \u001b[38;5;241m=\u001b[39m \u001b[43mgenerate_user_item_interactions\u001b[49m\u001b[43m(\u001b[49m\u001b[43mschema\u001b[49m\u001b[43m,\u001b[49m\u001b[43m \u001b[49m\u001b[43mnum_rows\u001b[49m\u001b[43m,\u001b[49m\u001b[43m \u001b[49m\u001b[43mdevice\u001b[49m\u001b[38;5;241;43m=\u001b[39;49m\u001b[43mdevice\u001b[49m\u001b[43m)\u001b[49m\n\u001b[1;32m    136\u001b[0m \u001b[38;5;28;01mif\u001b[39;00m \u001b[38;5;28mlist\u001b[39m(set_sizes) \u001b[38;5;241m!=\u001b[39m [\u001b[38;5;241m1.0\u001b[39m]:\n\u001b[1;32m    137\u001b[0m     num_rows \u001b[38;5;241m=\u001b[39m df\u001b[38;5;241m.\u001b[39mshape[\u001b[38;5;241m0\u001b[39m]\n",
      "File \u001b[0;32m/usr/local/lib/python3.8/dist-packages/merlin/datasets/synthetic.py:264\u001b[0m, in \u001b[0;36mgenerate_user_item_interactions\u001b[0;34m(schema, num_interactions, device)\u001b[0m\n\u001b[1;32m    259\u001b[0m     data[feature\u001b[38;5;241m.\u001b[39mname] \u001b[38;5;241m=\u001b[39m _array\u001b[38;5;241m.\u001b[39mrandom\u001b[38;5;241m.\u001b[39mrandint(\u001b[38;5;241m0\u001b[39m, \u001b[38;5;241m2\u001b[39m, num_interactions)\u001b[38;5;241m.\u001b[39mastype(\n\u001b[1;32m    260\u001b[0m         \u001b[38;5;28mstr\u001b[39m(feature\u001b[38;5;241m.\u001b[39mdtype\u001b[38;5;241m.\u001b[39mto_numpy)\n\u001b[1;32m    261\u001b[0m     )\n\u001b[1;32m    263\u001b[0m \u001b[38;5;28;01mfor\u001b[39;00m feature \u001b[38;5;129;01min\u001b[39;00m remaining\u001b[38;5;241m.\u001b[39mremove_by_tag(Tags\u001b[38;5;241m.\u001b[39mBINARY_CLASSIFICATION):\n\u001b[0;32m--> 264\u001b[0m     is_int_feature \u001b[38;5;241m=\u001b[39m feature\u001b[38;5;241m.\u001b[39mdtype \u001b[38;5;129;01mand\u001b[39;00m np\u001b[38;5;241m.\u001b[39missubdtype(\u001b[43mfeature\u001b[49m\u001b[38;5;241;43m.\u001b[39;49m\u001b[43mdtype\u001b[49m\u001b[38;5;241;43m.\u001b[39;49m\u001b[43mto_numpy\u001b[49m, np\u001b[38;5;241m.\u001b[39minteger)\n\u001b[1;32m    265\u001b[0m     is_list_feature \u001b[38;5;241m=\u001b[39m feature\u001b[38;5;241m.\u001b[39mis_list\n\u001b[1;32m    266\u001b[0m     \u001b[38;5;28;01mif\u001b[39;00m is_list_feature:\n",
      "File \u001b[0;32m/usr/local/lib/python3.8/dist-packages/merlin/dtypes/base.py:120\u001b[0m, in \u001b[0;36mDType.to_numpy\u001b[0;34m(self)\u001b[0m\n\u001b[1;32m    118\u001b[0m \u001b[38;5;129m@property\u001b[39m\n\u001b[1;32m    119\u001b[0m \u001b[38;5;28;01mdef\u001b[39;00m \u001b[38;5;21mto_numpy\u001b[39m(\u001b[38;5;28mself\u001b[39m):\n\u001b[0;32m--> 120\u001b[0m     \u001b[38;5;28;01mreturn\u001b[39;00m \u001b[38;5;28;43mself\u001b[39;49m\u001b[38;5;241;43m.\u001b[39;49m\u001b[43mto\u001b[49m\u001b[43m(\u001b[49m\u001b[38;5;124;43m\"\u001b[39;49m\u001b[38;5;124;43mnumpy\u001b[39;49m\u001b[38;5;124;43m\"\u001b[39;49m\u001b[43m)\u001b[49m\n",
      "File \u001b[0;32m/usr/local/lib/python3.8/dist-packages/merlin/dtypes/base.py:114\u001b[0m, in \u001b[0;36mDType.to\u001b[0;34m(self, mapping_name)\u001b[0m\n\u001b[1;32m    112\u001b[0m     \u001b[38;5;28;01mreturn\u001b[39;00m mapping\u001b[38;5;241m.\u001b[39mfrom_merlin(\u001b[38;5;28mself\u001b[39m\u001b[38;5;241m.\u001b[39mwithout_shape)\n\u001b[1;32m    113\u001b[0m \u001b[38;5;28;01mexcept\u001b[39;00m \u001b[38;5;167;01mKeyError\u001b[39;00m \u001b[38;5;28;01mas\u001b[39;00m exc:\n\u001b[0;32m--> 114\u001b[0m     \u001b[38;5;28;01mraise\u001b[39;00m \u001b[38;5;167;01mValueError\u001b[39;00m(\n\u001b[1;32m    115\u001b[0m         \u001b[38;5;124mf\u001b[39m\u001b[38;5;124m\"\u001b[39m\u001b[38;5;124mThe registered dtype mapping for \u001b[39m\u001b[38;5;132;01m{\u001b[39;00mmapping_name\u001b[38;5;132;01m}\u001b[39;00m\u001b[38;5;124m doesn\u001b[39m\u001b[38;5;124m'\u001b[39m\u001b[38;5;124mt contain type \u001b[39m\u001b[38;5;132;01m{\u001b[39;00m\u001b[38;5;28mself\u001b[39m\u001b[38;5;241m.\u001b[39mname\u001b[38;5;132;01m}\u001b[39;00m\u001b[38;5;124m.\u001b[39m\u001b[38;5;124m\"\u001b[39m\n\u001b[1;32m    116\u001b[0m     ) \u001b[38;5;28;01mfrom\u001b[39;00m \u001b[38;5;21;01mexc\u001b[39;00m\n",
      "\u001b[0;31mValueError\u001b[0m: The registered dtype mapping for numpy doesn't contain type unknown."
     ]
    }
   ],
   "source": [
    "generate_data('ds_out/schema.json', 1000)"
   ]
  }
 ],
 "metadata": {
  "kernelspec": {
   "display_name": "Python 3 (ipykernel)",
   "language": "python",
   "name": "python3"
  },
  "language_info": {
   "codemirror_mode": {
    "name": "ipython",
    "version": 3
   },
   "file_extension": ".py",
   "mimetype": "text/x-python",
   "name": "python",
   "nbconvert_exporter": "python",
   "pygments_lexer": "ipython3",
   "version": "3.8.10"
  }
 },
 "nbformat": 4,
 "nbformat_minor": 5
}
