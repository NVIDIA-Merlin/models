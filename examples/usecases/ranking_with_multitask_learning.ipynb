{
 "cells": [
  {
   "cell_type": "code",
   "execution_count": 1,
   "id": "5f49a48e",
   "metadata": {
    "pycharm": {
     "name": "#%%\n"
    }
   },
   "outputs": [],
   "source": [
    "# Copyright 2023 NVIDIA Corporation. All Rights Reserved.\n",
    "#\n",
    "# Licensed under the Apache License, Version 2.0 (the \"License\");\n",
    "# you may not use this file except in compliance with the License.\n",
    "# You may obtain a copy of the License at\n",
    "#\n",
    "#     http://www.apache.org/licenses/LICENSE-2.0\n",
    "#\n",
    "# Unless required by applicable law or agreed to in writing, software\n",
    "# distributed under the License is distributed on an \"AS IS\" BASIS,\n",
    "# WITHOUT WARRANTIES OR CONDITIONS OF ANY KIND, either express or implied.\n",
    "# See the License for the specific language governing permissions and\n",
    "# limitations under the License.\n",
    "# ================================\n",
    "\n",
    "# Each user is responsible for checking the content of datasets and the\n",
    "# applicable licenses and determining if suitable for the intended use."
   ]
  },
  {
   "cell_type": "markdown",
   "id": "30be5b7b",
   "metadata": {
    "pycharm": {
     "name": "#%% md\n"
    }
   },
   "source": [
    "<img src=\"https://developer.download.nvidia.com/notebooks/dlsw-notebooks/merlinmodelsrankingwithmultitasklearning/nvidia_logo.png\" style=\"width: 90px; float: right;\">\n",
    "    \n",
    "\n",
    "# Multi-Task Learning for Ranking\n",
    "\n",
    "This notebook is created using the latest stable [merlin-tensorflow](https://catalog.ngc.nvidia.com/orgs/nvidia/teams/merlin/containers/merlin-tensorflow/tags) container. \n",
    "    \n",
    "In the industry, it is common to find scenarios where you need to score the likelihood of different types of user-item interactions, e.g., clicking, liking, sharing, commenting, following the author, etc. Multi-Task Learning (MTL) techniques have been popular to train a single model that is able to predict multiple targets. By using MTL, it is possible to improve the accuracy of somewhat correlated tasks, in particular for sparser targets. It also allows simplifying the ML pipeline and reducing the computational resources to train and deploy different models for each task.\n",
    "\n",
    "In this example, we demonstrate how to build and train ranking models with multiple targets. We introduce  building blocks that Merlin Models provides for MTL support, including MTL-specific architectures designed for accuracy improvement of many different tasks: [**Multi-gate Mixture-of-Experts (MMoE)**](https://dl.acm.org/doi/pdf/10.1145/3219819.3220007) and [**Progressive Layered Extraction (PLE)**](https://dl.acm.org/doi/10.1145/3383313.3412236).\n",
    "\n",
    "In this example notebook, we use a synthetic dataset generated from the schema of the dataset released in the [TenRec paper](https://arxiv.org/abs/2210.10629), which is suitable for multi-task learning for providing multiple targets (types of user-item events). \n",
    "\n",
    "### Learning objectives\n",
    "- Getting to know the buiilding blocks Merlin provides for MTL\n",
    "- Training different deep learning-based ranking models with multi-task learning using Merlin Models"
   ]
  },
  {
   "cell_type": "code",
   "execution_count": 2,
   "id": "ee3b8fef",
   "metadata": {},
   "outputs": [
    {
     "name": "stderr",
     "output_type": "stream",
     "text": [
      "2023-02-27 16:59:58.633805: I tensorflow/core/util/util.cc:169] oneDNN custom operations are on. You may see slightly different numerical results due to floating-point round-off errors from different computation orders. To turn them off, set the environment variable `TF_ENABLE_ONEDNN_OPTS=0`.\n",
      "/home/gmoreira/projects/nvidia/nvidia_merlin/core/merlin/dtypes/mappings/triton.py:53: UserWarning: Triton dtype mappings did not load successfully due to an error: No module named 'tritonclient'\n",
      "  warn(f\"Triton dtype mappings did not load successfully due to an error: {exc.msg}\")\n",
      "2023-02-27 17:00:01.508087: I tensorflow/core/platform/cpu_feature_guard.cc:193] This TensorFlow binary is optimized with oneAPI Deep Neural Network Library (oneDNN) to use the following CPU instructions in performance-critical operations:  AVX2 AVX512F AVX512_VNNI FMA\n",
      "To enable them in other operations, rebuild TensorFlow with the appropriate compiler flags.\n",
      "2023-02-27 17:00:03.638395: I tensorflow/core/common_runtime/gpu/gpu_device.cc:1532] Created device /job:localhost/replica:0/task:0/device:GPU:0 with 29249 MB memory:  -> device: 0, name: Quadro GV100, pci bus id: 0000:15:00.0, compute capability: 7.0\n",
      "2023-02-27 17:00:03.639518: I tensorflow/core/common_runtime/gpu/gpu_device.cc:1532] Created device /job:localhost/replica:0/task:0/device:GPU:1 with 30625 MB memory:  -> device: 1, name: Quadro GV100, pci bus id: 0000:2d:00.0, compute capability: 7.0\n"
     ]
    }
   ],
   "source": [
    "import os\n",
    "import tensorflow as tf\n",
    "\n",
    "#os.environ[\"TF_GPU_ALLOCATOR\"] = \"cuda_malloc_async\"\n",
    "os.environ[\"TF_MEMORY_ALLOCATION\"] = \"0.9\"\n",
    "\n",
    "import merlin.models.tf as mm\n",
    "from merlin.schema.tags import Tags"
   ]
  },
  {
   "cell_type": "markdown",
   "id": "9b124794",
   "metadata": {},
   "source": [
    "## Generating data"
   ]
  },
  {
   "cell_type": "markdown",
   "id": "c39a0c62",
   "metadata": {},
   "source": [
    "Here we generate synthetic dataset based on the [schema](https://github.com/NVIDIA-Merlin/models/blob/main/merlin/datasets/entertainment/tenrec_video/schema.pbtxt) of the `tenrec-video` dataset. The original dataset was released by the [TenRec paper](https://arxiv.org/abs/2210.10629), and is suitable for multi-task learning for providing multiple targets (types of user-item events). \n",
    "To make the synthetic data more realistic, our data generator takes into account the original cardinalities of categorical features and the dependency of user features to user id and item features to item id. For more information about how the schema API works you can check this [example](https://github.com/NVIDIA-Merlin/models/blob/main/examples/02-Merlin-Models-and-NVTabular-integration.ipynb)."
   ]
  },
  {
   "cell_type": "code",
   "execution_count": 3,
   "id": "42727f47",
   "metadata": {},
   "outputs": [
    {
     "name": "stderr",
     "output_type": "stream",
     "text": [
      "/home/gmoreira/projects/nvidia/nvidia_merlin/core/merlin/schema/tags.py:148: UserWarning: Compound tags like Tags.USER_ID have been deprecated and will be removed in a future version. Please use the atomic versions of these tags, like [<Tags.USER: 'user'>, <Tags.ID: 'id'>].\n",
      "  warnings.warn(\n",
      "/home/gmoreira/projects/nvidia/nvidia_merlin/core/merlin/schema/tags.py:148: UserWarning: Compound tags like Tags.ITEM_ID have been deprecated and will be removed in a future version. Please use the atomic versions of these tags, like [<Tags.ITEM: 'item'>, <Tags.ID: 'id'>].\n",
      "  warnings.warn(\n"
     ]
    }
   ],
   "source": [
    "import os\n",
    "from merlin.datasets.synthetic import generate_data\n",
    "\n",
    "NUM_ROWS = os.environ.get(\"NUM_ROWS\", 100_000)\n",
    "\n",
    "train_ds, valid_ds = generate_data(\"tenrec-video\", int(NUM_ROWS), set_sizes=(0.8, 0.2))\n",
    "schema = train_ds.schema"
   ]
  },
  {
   "cell_type": "markdown",
   "id": "ea991536",
   "metadata": {},
   "source": [
    "By inspecting the columns tagging on the dataset schema, we can notice that there are number of user features (`user_id`, `gender`, `age`) and item features (`item_id`, `video_category`). There are also four binary classification targets (`click`, `follow`, `like`, and `share`) and one regression target (`watching_times`)."
   ]
  },
  {
   "cell_type": "code",
   "execution_count": 4,
   "id": "28589d86",
   "metadata": {},
   "outputs": [
    {
     "data": {
      "text/html": [
       "<div>\n",
       "<style scoped>\n",
       "    .dataframe tbody tr th:only-of-type {\n",
       "        vertical-align: middle;\n",
       "    }\n",
       "\n",
       "    .dataframe tbody tr th {\n",
       "        vertical-align: top;\n",
       "    }\n",
       "\n",
       "    .dataframe thead th {\n",
       "        text-align: right;\n",
       "    }\n",
       "</style>\n",
       "<table border=\"1\" class=\"dataframe\">\n",
       "  <thead>\n",
       "    <tr style=\"text-align: right;\">\n",
       "      <th></th>\n",
       "      <th>name</th>\n",
       "      <th>tags</th>\n",
       "      <th>dtype</th>\n",
       "      <th>is_list</th>\n",
       "      <th>is_ragged</th>\n",
       "      <th>properties.freq_threshold</th>\n",
       "      <th>properties.cat_path</th>\n",
       "      <th>properties.start_index</th>\n",
       "      <th>properties.max_size</th>\n",
       "      <th>properties.num_buckets</th>\n",
       "      <th>properties.embedding_sizes.cardinality</th>\n",
       "      <th>properties.embedding_sizes.dimension</th>\n",
       "      <th>properties.domain.min</th>\n",
       "      <th>properties.domain.max</th>\n",
       "      <th>properties.domain.name</th>\n",
       "    </tr>\n",
       "  </thead>\n",
       "  <tbody>\n",
       "    <tr>\n",
       "      <th>0</th>\n",
       "      <td>user_id</td>\n",
       "      <td>(Tags.ID, Tags.USER_ID, Tags.CATEGORICAL, Tags...</td>\n",
       "      <td>DType(name='int32', element_type=&lt;ElementType....</td>\n",
       "      <td>False</td>\n",
       "      <td>False</td>\n",
       "      <td>0.0</td>\n",
       "      <td>.//categories/unique.user_id.parquet</td>\n",
       "      <td>1.0</td>\n",
       "      <td>0.0</td>\n",
       "      <td>NaN</td>\n",
       "      <td>2633851.0</td>\n",
       "      <td>512.0</td>\n",
       "      <td>0.0</td>\n",
       "      <td>100000.0</td>\n",
       "      <td>user_id</td>\n",
       "    </tr>\n",
       "    <tr>\n",
       "      <th>1</th>\n",
       "      <td>item_id</td>\n",
       "      <td>(Tags.ID, Tags.CATEGORICAL, Tags.ITEM, Tags.IT...</td>\n",
       "      <td>DType(name='int32', element_type=&lt;ElementType....</td>\n",
       "      <td>False</td>\n",
       "      <td>False</td>\n",
       "      <td>0.0</td>\n",
       "      <td>.//categories/unique.item_id.parquet</td>\n",
       "      <td>1.0</td>\n",
       "      <td>0.0</td>\n",
       "      <td>NaN</td>\n",
       "      <td>179280.0</td>\n",
       "      <td>512.0</td>\n",
       "      <td>0.0</td>\n",
       "      <td>179280.0</td>\n",
       "      <td>item_id</td>\n",
       "    </tr>\n",
       "    <tr>\n",
       "      <th>2</th>\n",
       "      <td>video_category</td>\n",
       "      <td>(Tags.CATEGORICAL, Tags.ITEM)</td>\n",
       "      <td>DType(name='int32', element_type=&lt;ElementType....</td>\n",
       "      <td>False</td>\n",
       "      <td>False</td>\n",
       "      <td>0.0</td>\n",
       "      <td>.//categories/unique.video_category.parquet</td>\n",
       "      <td>1.0</td>\n",
       "      <td>0.0</td>\n",
       "      <td>NaN</td>\n",
       "      <td>5.0</td>\n",
       "      <td>16.0</td>\n",
       "      <td>0.0</td>\n",
       "      <td>5.0</td>\n",
       "      <td>video_category</td>\n",
       "    </tr>\n",
       "    <tr>\n",
       "      <th>3</th>\n",
       "      <td>gender</td>\n",
       "      <td>(Tags.CATEGORICAL, Tags.USER)</td>\n",
       "      <td>DType(name='int32', element_type=&lt;ElementType....</td>\n",
       "      <td>False</td>\n",
       "      <td>False</td>\n",
       "      <td>0.0</td>\n",
       "      <td>.//categories/unique.gender.parquet</td>\n",
       "      <td>1.0</td>\n",
       "      <td>0.0</td>\n",
       "      <td>NaN</td>\n",
       "      <td>5.0</td>\n",
       "      <td>16.0</td>\n",
       "      <td>0.0</td>\n",
       "      <td>5.0</td>\n",
       "      <td>gender</td>\n",
       "    </tr>\n",
       "    <tr>\n",
       "      <th>4</th>\n",
       "      <td>age</td>\n",
       "      <td>(Tags.CATEGORICAL, Tags.USER)</td>\n",
       "      <td>DType(name='int32', element_type=&lt;ElementType....</td>\n",
       "      <td>False</td>\n",
       "      <td>False</td>\n",
       "      <td>0.0</td>\n",
       "      <td>.//categories/unique.age.parquet</td>\n",
       "      <td>1.0</td>\n",
       "      <td>0.0</td>\n",
       "      <td>NaN</td>\n",
       "      <td>10.0</td>\n",
       "      <td>16.0</td>\n",
       "      <td>0.0</td>\n",
       "      <td>10.0</td>\n",
       "      <td>age</td>\n",
       "    </tr>\n",
       "    <tr>\n",
       "      <th>5</th>\n",
       "      <td>click</td>\n",
       "      <td>(Tags.BINARY_CLASSIFICATION, Tags.TARGET, Tags...</td>\n",
       "      <td>DType(name='int8', element_type=&lt;ElementType.I...</td>\n",
       "      <td>False</td>\n",
       "      <td>False</td>\n",
       "      <td>NaN</td>\n",
       "      <td>NaN</td>\n",
       "      <td>NaN</td>\n",
       "      <td>NaN</td>\n",
       "      <td>NaN</td>\n",
       "      <td>NaN</td>\n",
       "      <td>NaN</td>\n",
       "      <td>NaN</td>\n",
       "      <td>NaN</td>\n",
       "      <td>NaN</td>\n",
       "    </tr>\n",
       "    <tr>\n",
       "      <th>6</th>\n",
       "      <td>follow</td>\n",
       "      <td>(Tags.BINARY_CLASSIFICATION, Tags.TARGET, Tags...</td>\n",
       "      <td>DType(name='int8', element_type=&lt;ElementType.I...</td>\n",
       "      <td>False</td>\n",
       "      <td>False</td>\n",
       "      <td>NaN</td>\n",
       "      <td>NaN</td>\n",
       "      <td>NaN</td>\n",
       "      <td>NaN</td>\n",
       "      <td>NaN</td>\n",
       "      <td>NaN</td>\n",
       "      <td>NaN</td>\n",
       "      <td>NaN</td>\n",
       "      <td>NaN</td>\n",
       "      <td>NaN</td>\n",
       "    </tr>\n",
       "    <tr>\n",
       "      <th>7</th>\n",
       "      <td>like</td>\n",
       "      <td>(Tags.BINARY_CLASSIFICATION, Tags.TARGET, Tags...</td>\n",
       "      <td>DType(name='int8', element_type=&lt;ElementType.I...</td>\n",
       "      <td>False</td>\n",
       "      <td>False</td>\n",
       "      <td>NaN</td>\n",
       "      <td>NaN</td>\n",
       "      <td>NaN</td>\n",
       "      <td>NaN</td>\n",
       "      <td>NaN</td>\n",
       "      <td>NaN</td>\n",
       "      <td>NaN</td>\n",
       "      <td>NaN</td>\n",
       "      <td>NaN</td>\n",
       "      <td>NaN</td>\n",
       "    </tr>\n",
       "    <tr>\n",
       "      <th>8</th>\n",
       "      <td>share</td>\n",
       "      <td>(Tags.BINARY_CLASSIFICATION, Tags.TARGET, Tags...</td>\n",
       "      <td>DType(name='int8', element_type=&lt;ElementType.I...</td>\n",
       "      <td>False</td>\n",
       "      <td>False</td>\n",
       "      <td>NaN</td>\n",
       "      <td>NaN</td>\n",
       "      <td>NaN</td>\n",
       "      <td>NaN</td>\n",
       "      <td>NaN</td>\n",
       "      <td>NaN</td>\n",
       "      <td>NaN</td>\n",
       "      <td>NaN</td>\n",
       "      <td>NaN</td>\n",
       "      <td>NaN</td>\n",
       "    </tr>\n",
       "    <tr>\n",
       "      <th>9</th>\n",
       "      <td>watching_times</td>\n",
       "      <td>(Tags.REGRESSION, Tags.TARGET)</td>\n",
       "      <td>DType(name='int16', element_type=&lt;ElementType....</td>\n",
       "      <td>False</td>\n",
       "      <td>False</td>\n",
       "      <td>NaN</td>\n",
       "      <td>NaN</td>\n",
       "      <td>NaN</td>\n",
       "      <td>NaN</td>\n",
       "      <td>NaN</td>\n",
       "      <td>NaN</td>\n",
       "      <td>NaN</td>\n",
       "      <td>0.0</td>\n",
       "      <td>5.0</td>\n",
       "      <td>watching_times</td>\n",
       "    </tr>\n",
       "  </tbody>\n",
       "</table>\n",
       "</div>"
      ],
      "text/plain": [
       "[{'name': 'user_id', 'tags': {<Tags.ID: 'id'>, <Tags.USER_ID: 'user_id'>, <Tags.CATEGORICAL: 'categorical'>, <Tags.USER: 'user'>}, 'properties': {'freq_threshold': 0.0, 'cat_path': './/categories/unique.user_id.parquet', 'start_index': 1.0, 'max_size': 0.0, 'num_buckets': None, 'embedding_sizes': {'cardinality': 2633851.0, 'dimension': 512.0}, 'domain': {'min': 0, 'max': 100000, 'name': 'user_id'}}, 'dtype': DType(name='int32', element_type=<ElementType.Int: 'int'>, element_size=32, element_unit=None, signed=True, shape=Shape(dims=None)), 'is_list': False, 'is_ragged': False}, {'name': 'item_id', 'tags': {<Tags.ID: 'id'>, <Tags.CATEGORICAL: 'categorical'>, <Tags.ITEM: 'item'>, <Tags.ITEM_ID: 'item_id'>}, 'properties': {'freq_threshold': 0.0, 'num_buckets': None, 'cat_path': './/categories/unique.item_id.parquet', 'max_size': 0.0, 'embedding_sizes': {'dimension': 512.0, 'cardinality': 179280.0}, 'start_index': 1.0, 'domain': {'min': 0, 'max': 179280, 'name': 'item_id'}}, 'dtype': DType(name='int32', element_type=<ElementType.Int: 'int'>, element_size=32, element_unit=None, signed=True, shape=Shape(dims=None)), 'is_list': False, 'is_ragged': False}, {'name': 'video_category', 'tags': {<Tags.CATEGORICAL: 'categorical'>, <Tags.ITEM: 'item'>}, 'properties': {'max_size': 0.0, 'start_index': 1.0, 'num_buckets': None, 'cat_path': './/categories/unique.video_category.parquet', 'freq_threshold': 0.0, 'embedding_sizes': {'cardinality': 5.0, 'dimension': 16.0}, 'domain': {'min': 0, 'max': 5, 'name': 'video_category'}}, 'dtype': DType(name='int32', element_type=<ElementType.Int: 'int'>, element_size=32, element_unit=None, signed=True, shape=Shape(dims=None)), 'is_list': False, 'is_ragged': False}, {'name': 'gender', 'tags': {<Tags.CATEGORICAL: 'categorical'>, <Tags.USER: 'user'>}, 'properties': {'start_index': 1.0, 'cat_path': './/categories/unique.gender.parquet', 'freq_threshold': 0.0, 'max_size': 0.0, 'embedding_sizes': {'cardinality': 5.0, 'dimension': 16.0}, 'num_buckets': None, 'domain': {'min': 0, 'max': 5, 'name': 'gender'}}, 'dtype': DType(name='int32', element_type=<ElementType.Int: 'int'>, element_size=32, element_unit=None, signed=True, shape=Shape(dims=None)), 'is_list': False, 'is_ragged': False}, {'name': 'age', 'tags': {<Tags.CATEGORICAL: 'categorical'>, <Tags.USER: 'user'>}, 'properties': {'start_index': 1.0, 'max_size': 0.0, 'num_buckets': None, 'embedding_sizes': {'dimension': 16.0, 'cardinality': 10.0}, 'freq_threshold': 0.0, 'cat_path': './/categories/unique.age.parquet', 'domain': {'min': 0, 'max': 10, 'name': 'age'}}, 'dtype': DType(name='int32', element_type=<ElementType.Int: 'int'>, element_size=32, element_unit=None, signed=True, shape=Shape(dims=None)), 'is_list': False, 'is_ragged': False}, {'name': 'click', 'tags': {<Tags.BINARY_CLASSIFICATION: 'binary_classification'>, <Tags.TARGET: 'target'>, <Tags.BINARY: 'binary'>}, 'properties': {}, 'dtype': DType(name='int8', element_type=<ElementType.Int: 'int'>, element_size=8, element_unit=None, signed=True, shape=Shape(dims=None)), 'is_list': False, 'is_ragged': False}, {'name': 'follow', 'tags': {<Tags.BINARY_CLASSIFICATION: 'binary_classification'>, <Tags.TARGET: 'target'>, <Tags.BINARY: 'binary'>}, 'properties': {}, 'dtype': DType(name='int8', element_type=<ElementType.Int: 'int'>, element_size=8, element_unit=None, signed=True, shape=Shape(dims=None)), 'is_list': False, 'is_ragged': False}, {'name': 'like', 'tags': {<Tags.BINARY_CLASSIFICATION: 'binary_classification'>, <Tags.TARGET: 'target'>, <Tags.BINARY: 'binary'>}, 'properties': {}, 'dtype': DType(name='int8', element_type=<ElementType.Int: 'int'>, element_size=8, element_unit=None, signed=True, shape=Shape(dims=None)), 'is_list': False, 'is_ragged': False}, {'name': 'share', 'tags': {<Tags.BINARY_CLASSIFICATION: 'binary_classification'>, <Tags.TARGET: 'target'>, <Tags.BINARY: 'binary'>}, 'properties': {}, 'dtype': DType(name='int8', element_type=<ElementType.Int: 'int'>, element_size=8, element_unit=None, signed=True, shape=Shape(dims=None)), 'is_list': False, 'is_ragged': False}, {'name': 'watching_times', 'tags': {<Tags.REGRESSION: 'regression'>, <Tags.TARGET: 'target'>}, 'properties': {'domain': {'min': 0, 'max': 5, 'name': 'watching_times'}}, 'dtype': DType(name='int16', element_type=<ElementType.Int: 'int'>, element_size=16, element_unit=None, signed=True, shape=Shape(dims=None)), 'is_list': False, 'is_ragged': False}]"
      ]
     },
     "execution_count": 4,
     "metadata": {},
     "output_type": "execute_result"
    }
   ],
   "source": [
    "schema"
   ]
  },
  {
   "cell_type": "code",
   "execution_count": 5,
   "id": "5caa9151",
   "metadata": {},
   "outputs": [
    {
     "data": {
      "text/html": [
       "<div>\n",
       "<style scoped>\n",
       "    .dataframe tbody tr th:only-of-type {\n",
       "        vertical-align: middle;\n",
       "    }\n",
       "\n",
       "    .dataframe tbody tr th {\n",
       "        vertical-align: top;\n",
       "    }\n",
       "\n",
       "    .dataframe thead th {\n",
       "        text-align: right;\n",
       "    }\n",
       "</style>\n",
       "<table border=\"1\" class=\"dataframe\">\n",
       "  <thead>\n",
       "    <tr style=\"text-align: right;\">\n",
       "      <th></th>\n",
       "      <th>user_id</th>\n",
       "      <th>gender</th>\n",
       "      <th>age</th>\n",
       "      <th>item_id</th>\n",
       "      <th>video_category</th>\n",
       "      <th>click</th>\n",
       "      <th>follow</th>\n",
       "      <th>like</th>\n",
       "      <th>share</th>\n",
       "      <th>watching_times</th>\n",
       "    </tr>\n",
       "  </thead>\n",
       "  <tbody>\n",
       "    <tr>\n",
       "      <th>0</th>\n",
       "      <td>27</td>\n",
       "      <td>1</td>\n",
       "      <td>1</td>\n",
       "      <td>59</td>\n",
       "      <td>1</td>\n",
       "      <td>1</td>\n",
       "      <td>1</td>\n",
       "      <td>1</td>\n",
       "      <td>0</td>\n",
       "      <td>4</td>\n",
       "    </tr>\n",
       "    <tr>\n",
       "      <th>1</th>\n",
       "      <td>23</td>\n",
       "      <td>1</td>\n",
       "      <td>1</td>\n",
       "      <td>90</td>\n",
       "      <td>1</td>\n",
       "      <td>1</td>\n",
       "      <td>1</td>\n",
       "      <td>0</td>\n",
       "      <td>1</td>\n",
       "      <td>3</td>\n",
       "    </tr>\n",
       "    <tr>\n",
       "      <th>2</th>\n",
       "      <td>50</td>\n",
       "      <td>1</td>\n",
       "      <td>1</td>\n",
       "      <td>54</td>\n",
       "      <td>1</td>\n",
       "      <td>0</td>\n",
       "      <td>0</td>\n",
       "      <td>0</td>\n",
       "      <td>0</td>\n",
       "      <td>4</td>\n",
       "    </tr>\n",
       "    <tr>\n",
       "      <th>3</th>\n",
       "      <td>139</td>\n",
       "      <td>1</td>\n",
       "      <td>1</td>\n",
       "      <td>18</td>\n",
       "      <td>1</td>\n",
       "      <td>1</td>\n",
       "      <td>0</td>\n",
       "      <td>0</td>\n",
       "      <td>1</td>\n",
       "      <td>1</td>\n",
       "    </tr>\n",
       "    <tr>\n",
       "      <th>4</th>\n",
       "      <td>14</td>\n",
       "      <td>1</td>\n",
       "      <td>1</td>\n",
       "      <td>11</td>\n",
       "      <td>1</td>\n",
       "      <td>0</td>\n",
       "      <td>0</td>\n",
       "      <td>0</td>\n",
       "      <td>1</td>\n",
       "      <td>4</td>\n",
       "    </tr>\n",
       "  </tbody>\n",
       "</table>\n",
       "</div>"
      ],
      "text/plain": [
       "   user_id  gender  age  item_id  video_category  click  follow  like  share  \\\n",
       "0       27       1    1       59               1      1       1     1      0   \n",
       "1       23       1    1       90               1      1       1     0      1   \n",
       "2       50       1    1       54               1      0       0     0      0   \n",
       "3      139       1    1       18               1      1       0     0      1   \n",
       "4       14       1    1       11               1      0       0     0      1   \n",
       "\n",
       "   watching_times  \n",
       "0               4  \n",
       "1               3  \n",
       "2               4  \n",
       "3               1  \n",
       "4               4  "
      ]
     },
     "execution_count": 5,
     "metadata": {},
     "output_type": "execute_result"
    }
   ],
   "source": [
    "# Printing first rows of the generated dataframe\n",
    "train_ds.to_ddf().head()"
   ]
  },
  {
   "cell_type": "markdown",
   "id": "c7f155bd",
   "metadata": {},
   "source": [
    "## Building and training MTL models"
   ]
  },
  {
   "cell_type": "code",
   "execution_count": 6,
   "id": "8a71708f",
   "metadata": {},
   "outputs": [],
   "source": [
    "BATCH_SIZE = 4 * 1024"
   ]
  },
  {
   "cell_type": "markdown",
   "id": "b2cc4e12",
   "metadata": {},
   "source": [
    "The simplest way to build a model with Merlin Models is using `InputBlockV2` and `OutputBlock` building blocks, that infer the input features and target columns from the schema.\n",
    "The `InputBlockV2` creates the embedding layers for categorical features and concatenates all features. The `OutputBlock` creates a head `ModelOutput` for each target depending on the task type (tagged in the column schema), e.g. `RegressionOutput()` for regression, `BinaryOuput()` for binary classification, `CategoricalOutput` for multi-class classification.  \n",
    "\n",
    "You can inspect below a multi-task learning model created for this dataset with just four lines of code."
   ]
  },
  {
   "cell_type": "code",
   "execution_count": 7,
   "id": "81465998",
   "metadata": {},
   "outputs": [
    {
     "data": {
      "text/plain": [
       "Model(\n",
       "  (blocks): _TupleWrapper((ParallelBlock(\n",
       "    (_pre): PrepareFeatures()\n",
       "    (_aggregation): ConcatFeatures()\n",
       "    (parallel_layers): Dict(\n",
       "      (categorical): ParallelBlock(\n",
       "        (parallel_layers): Dict(\n",
       "          (user_id): EmbeddingTable(\n",
       "            (features): Dict(\n",
       "              (user_id): ColumnSchema(name='user_id', tags={<Tags.ID: 'id'>, <Tags.USER_ID: 'user_id'>, <Tags.CATEGORICAL: 'categorical'>, <Tags.USER: 'user'>}, properties={'freq_threshold': 0.0, 'cat_path': './/categories/unique.user_id.parquet', 'start_index': 1.0, 'max_size': 0.0, 'num_buckets': None, 'embedding_sizes': {'cardinality': 2633851.0, 'dimension': 512.0}, 'domain': {'min': 0, 'max': 100000, 'name': 'user_id'}}, dtype=DType(name='int32', element_type=<ElementType.Int: 'int'>, element_size=32, element_unit=None, signed=True, shape=Shape(dims=None)), is_list=False, is_ragged=False)\n",
       "            )\n",
       "            (table): Embedding()\n",
       "          )\n",
       "          (item_id): EmbeddingTable(\n",
       "            (features): Dict(\n",
       "              (item_id): ColumnSchema(name='item_id', tags={<Tags.ID: 'id'>, <Tags.CATEGORICAL: 'categorical'>, <Tags.ITEM: 'item'>, <Tags.ITEM_ID: 'item_id'>}, properties={'freq_threshold': 0.0, 'num_buckets': None, 'cat_path': './/categories/unique.item_id.parquet', 'max_size': 0.0, 'embedding_sizes': {'dimension': 512.0, 'cardinality': 179280.0}, 'start_index': 1.0, 'domain': {'min': 0, 'max': 179280, 'name': 'item_id'}}, dtype=DType(name='int32', element_type=<ElementType.Int: 'int'>, element_size=32, element_unit=None, signed=True, shape=Shape(dims=None)), is_list=False, is_ragged=False)\n",
       "            )\n",
       "            (table): Embedding()\n",
       "          )\n",
       "          (video_category): EmbeddingTable(\n",
       "            (features): Dict(\n",
       "              (video_category): ColumnSchema(name='video_category', tags={<Tags.CATEGORICAL: 'categorical'>, <Tags.ITEM: 'item'>}, properties={'max_size': 0.0, 'start_index': 1.0, 'num_buckets': None, 'cat_path': './/categories/unique.video_category.parquet', 'freq_threshold': 0.0, 'embedding_sizes': {'cardinality': 5.0, 'dimension': 16.0}, 'domain': {'min': 0, 'max': 5, 'name': 'video_category'}}, dtype=DType(name='int32', element_type=<ElementType.Int: 'int'>, element_size=32, element_unit=None, signed=True, shape=Shape(dims=None)), is_list=False, is_ragged=False)\n",
       "            )\n",
       "            (table): Embedding()\n",
       "          )\n",
       "          (gender): EmbeddingTable(\n",
       "            (features): Dict(\n",
       "              (gender): ColumnSchema(name='gender', tags={<Tags.CATEGORICAL: 'categorical'>, <Tags.USER: 'user'>}, properties={'start_index': 1.0, 'cat_path': './/categories/unique.gender.parquet', 'freq_threshold': 0.0, 'max_size': 0.0, 'embedding_sizes': {'cardinality': 5.0, 'dimension': 16.0}, 'num_buckets': None, 'domain': {'min': 0, 'max': 5, 'name': 'gender'}}, dtype=DType(name='int32', element_type=<ElementType.Int: 'int'>, element_size=32, element_unit=None, signed=True, shape=Shape(dims=None)), is_list=False, is_ragged=False)\n",
       "            )\n",
       "            (table): Embedding()\n",
       "          )\n",
       "          (age): EmbeddingTable(\n",
       "            (features): Dict(\n",
       "              (age): ColumnSchema(name='age', tags={<Tags.CATEGORICAL: 'categorical'>, <Tags.USER: 'user'>}, properties={'start_index': 1.0, 'max_size': 0.0, 'num_buckets': None, 'embedding_sizes': {'dimension': 16.0, 'cardinality': 10.0}, 'freq_threshold': 0.0, 'cat_path': './/categories/unique.age.parquet', 'domain': {'min': 0, 'max': 10, 'name': 'age'}}, dtype=DType(name='int32', element_type=<ElementType.Int: 'int'>, element_size=32, element_unit=None, signed=True, shape=Shape(dims=None)), is_list=False, is_ragged=False)\n",
       "            )\n",
       "            (table): Embedding()\n",
       "          )\n",
       "        )\n",
       "      )\n",
       "    )\n",
       "  ), MLPBlock(\n",
       "    (layers): List(\n",
       "      (0): _Dense(\n",
       "        (dense): Dense(32, activation=relu, use_bias=True)\n",
       "      )\n",
       "      (1): _Dense(\n",
       "        (dense): Dense(16, activation=relu, use_bias=True)\n",
       "      )\n",
       "    )\n",
       "  ), ParallelBlock(\n",
       "    (parallel_layers): Dict(\n",
       "      (click/binary_output): BinaryOutput(\n",
       "        (to_call): Dense(1, activation=sigmoid, use_bias=True)\n",
       "      )\n",
       "      (follow/binary_output): BinaryOutput(\n",
       "        (to_call): Dense(1, activation=sigmoid, use_bias=True)\n",
       "      )\n",
       "      (like/binary_output): BinaryOutput(\n",
       "        (to_call): Dense(1, activation=sigmoid, use_bias=True)\n",
       "      )\n",
       "      (share/binary_output): BinaryOutput(\n",
       "        (to_call): Dense(1, activation=sigmoid, use_bias=True)\n",
       "      )\n",
       "      (watching_times/regression_output): RegressionOutput(\n",
       "        (to_call): Dense(1, activation=linear, use_bias=True)\n",
       "      )\n",
       "    )\n",
       "  )))\n",
       "  (context): ModelContext()\n",
       "  (prepare_features): PrepareFeatures()\n",
       ")"
      ]
     },
     "execution_count": 7,
     "metadata": {},
     "output_type": "execute_result"
    }
   ],
   "source": [
    "model = mm.Model(\n",
    "    mm.InputBlockV2(schema),\n",
    "    mm.MLPBlock([32,16]),\n",
    "    mm.OutputBlock(schema)\n",
    ")\n",
    "\n",
    "model"
   ]
  },
  {
   "cell_type": "markdown",
   "id": "11a8c333",
   "metadata": {},
   "source": [
    "*Note*: If you want to build a model for just a subset of the target features, you can either remove the unwanted columns from schema: `schema.without([\"like\", \"follow\", \"share\"])`\n",
    "\n",
    "OR you can replace `mm.OutputBlock(schema)` by a `ParallelBlock` with only the desired targets:\n",
    "```python\n",
    "mm.ParallelBlock(\n",
    "  mm.BinaryOutput(\"click\"), mm.RegressionOutput(\"watching_times\")\n",
    ")\n",
    "```"
   ]
  },
  {
   "cell_type": "markdown",
   "id": "5d685284",
   "metadata": {},
   "source": [
    "### Train and evaluation of MTL models"
   ]
  },
  {
   "cell_type": "code",
   "execution_count": 8,
   "id": "ea008b00",
   "metadata": {},
   "outputs": [
    {
     "name": "stderr",
     "output_type": "stream",
     "text": [
      "/home/gmoreira/projects/nvidia/nvidia_merlin/core/merlin/schema/tags.py:148: UserWarning: Compound tags like Tags.USER_ID have been deprecated and will be removed in a future version. Please use the atomic versions of these tags, like [<Tags.USER: 'user'>, <Tags.ID: 'id'>].\n",
      "  warnings.warn(\n",
      "/home/gmoreira/projects/nvidia/nvidia_merlin/core/merlin/schema/tags.py:148: UserWarning: Compound tags like Tags.ITEM_ID have been deprecated and will be removed in a future version. Please use the atomic versions of these tags, like [<Tags.ITEM: 'item'>, <Tags.ID: 'id'>].\n",
      "  warnings.warn(\n"
     ]
    },
    {
     "name": "stdout",
     "output_type": "stream",
     "text": [
      "20/20 [==============================] - 5s 24ms/step - loss: 2.9441 - click/binary_output_loss: 0.6934 - follow/binary_output_loss: 0.6933 - like/binary_output_loss: 0.6932 - share/binary_output_loss: 0.6934 - watching_times/regression_output_loss: 0.1709 - click/binary_output/precision: 0.5056 - click/binary_output/recall: 0.1891 - click/binary_output/binary_accuracy: 0.4996 - click/binary_output/auc: 0.5022 - follow/binary_output/precision: 0.4969 - follow/binary_output/recall: 0.7145 - follow/binary_output/binary_accuracy: 0.4974 - follow/binary_output/auc: 0.4987 - like/binary_output/precision: 0.5007 - like/binary_output/recall: 0.5351 - like/binary_output/binary_accuracy: 0.4991 - like/binary_output/auc: 0.5000 - share/binary_output/precision: 0.4987 - share/binary_output/recall: 0.8797 - share/binary_output/binary_accuracy: 0.4992 - share/binary_output/auc: 0.4977 - watching_times/regression_output/root_mean_squared_error: 0.4134 - regularization_loss: 0.0000e+00 - loss_batch: 2.9433\n"
     ]
    },
    {
     "data": {
      "text/plain": [
       "<keras.callbacks.History at 0x7f0fc4149100>"
      ]
     },
     "execution_count": 8,
     "metadata": {},
     "output_type": "execute_result"
    }
   ],
   "source": [
    "model.compile(optimizer=\"adam\", run_eagerly=False)\n",
    "model.fit(train_ds, batch_size=BATCH_SIZE)"
   ]
  },
  {
   "cell_type": "markdown",
   "id": "80157c3f",
   "metadata": {},
   "source": [
    "By inspecting the metrics output from model evaluation, we can observe that there are specific default metrics to each target; for binary classification (`precision`, `recall`, `binary_accuracy`, `auc`) and for regression (`root_mean_squared_error`) tasks.  \n",
    "Each task has its own loss (e.g. `click/binary_output_loss`, `watching_times/regression_output_loss`) and the `loss` is the sum of all tasks losses."
   ]
  },
  {
   "cell_type": "code",
   "execution_count": 9,
   "id": "54ed0567",
   "metadata": {},
   "outputs": [
    {
     "name": "stdout",
     "output_type": "stream",
     "text": [
      "5/5 [==============================] - 1s 18ms/step - loss: 2.9355 - click/binary_output_loss: 0.6933 - follow/binary_output_loss: 0.6933 - like/binary_output_loss: 0.6933 - share/binary_output_loss: 0.6933 - watching_times/regression_output_loss: 0.1624 - click/binary_output/precision: 0.5112 - click/binary_output/recall: 0.0415 - click/binary_output/binary_accuracy: 0.5044 - click/binary_output/auc: 0.5022 - follow/binary_output/precision: 0.4982 - follow/binary_output/recall: 0.8841 - follow/binary_output/binary_accuracy: 0.4973 - follow/binary_output/auc: 0.4974 - like/binary_output/precision: 0.5027 - like/binary_output/recall: 0.4887 - like/binary_output/binary_accuracy: 0.5020 - like/binary_output/auc: 0.4984 - share/binary_output/precision: 0.4973 - share/binary_output/recall: 0.7670 - share/binary_output/binary_accuracy: 0.4974 - share/binary_output/auc: 0.5006 - watching_times/regression_output/root_mean_squared_error: 0.4029 - regularization_loss: 0.0000e+00 - loss_batch: 2.9357\n"
     ]
    },
    {
     "data": {
      "text/plain": [
       "{'loss': 2.9355478286743164,\n",
       " 'click/binary_output_loss': 0.6932715773582458,\n",
       " 'follow/binary_output_loss': 0.6933135986328125,\n",
       " 'like/binary_output_loss': 0.693278431892395,\n",
       " 'share/binary_output_loss': 0.6933173537254333,\n",
       " 'watching_times/regression_output_loss': 0.16236688196659088,\n",
       " 'click/binary_output/precision': 0.5111662745475769,\n",
       " 'click/binary_output/recall': 0.04149043187499046,\n",
       " 'click/binary_output/binary_accuracy': 0.5044000148773193,\n",
       " 'click/binary_output/auc': 0.5021954774856567,\n",
       " 'follow/binary_output/precision': 0.49819493293762207,\n",
       " 'follow/binary_output/recall': 0.8840841054916382,\n",
       " 'follow/binary_output/binary_accuracy': 0.49729999899864197,\n",
       " 'follow/binary_output/auc': 0.4973853826522827,\n",
       " 'like/binary_output/precision': 0.5026715993881226,\n",
       " 'like/binary_output/recall': 0.4886624813079834,\n",
       " 'like/binary_output/binary_accuracy': 0.50204998254776,\n",
       " 'like/binary_output/auc': 0.49843934178352356,\n",
       " 'share/binary_output/precision': 0.4973011612892151,\n",
       " 'share/binary_output/recall': 0.7670009732246399,\n",
       " 'share/binary_output/binary_accuracy': 0.4973500072956085,\n",
       " 'share/binary_output/auc': 0.500557005405426,\n",
       " 'watching_times/regression_output/root_mean_squared_error': 0.40294772386550903,\n",
       " 'regularization_loss': 0.0,\n",
       " 'loss_batch': 2.9362027645111084}"
      ]
     },
     "execution_count": 9,
     "metadata": {},
     "output_type": "execute_result"
    }
   ],
   "source": [
    "model.evaluate(valid_ds, batch_size=BATCH_SIZE, return_dict=True)"
   ]
  },
  {
   "cell_type": "markdown",
   "id": "ec16ffbb",
   "metadata": {},
   "source": [
    "### Setting loss weights"
   ]
  },
  {
   "cell_type": "markdown",
   "id": "831b6a5a",
   "metadata": {},
   "source": [
    "You can balance the importance of individual task losses into the final `loss` by setting `loss_weights`."
   ]
  },
  {
   "cell_type": "code",
   "execution_count": 10,
   "id": "106c0e60",
   "metadata": {},
   "outputs": [
    {
     "name": "stdout",
     "output_type": "stream",
     "text": [
      "20/20 [==============================] - 4s 26ms/step - loss: 9.8633 - click/binary_output_loss: 0.6931 - follow/binary_output_loss: 0.6932 - like/binary_output_loss: 0.6931 - share/binary_output_loss: 0.6931 - watching_times/regression_output_loss: 0.1597 - click/binary_output/precision: 0.5051 - click/binary_output/recall: 0.5248 - click/binary_output/binary_accuracy: 0.5028 - click/binary_output/auc: 0.5057 - follow/binary_output/precision: 0.5009 - follow/binary_output/recall: 0.6415 - follow/binary_output/binary_accuracy: 0.5029 - follow/binary_output/auc: 0.5031 - like/binary_output/precision: 0.5048 - like/binary_output/recall: 0.6225 - like/binary_output/binary_accuracy: 0.5044 - like/binary_output/auc: 0.5044 - share/binary_output/precision: 0.5035 - share/binary_output/recall: 0.5307 - share/binary_output/binary_accuracy: 0.5051 - share/binary_output/auc: 0.5046 - watching_times/regression_output/root_mean_squared_error: 0.3996 - regularization_loss: 0.0000e+00 - loss_batch: 9.8631\n"
     ]
    },
    {
     "data": {
      "text/plain": [
       "<keras.callbacks.History at 0x7f08484bdd60>"
      ]
     },
     "execution_count": 10,
     "metadata": {},
     "output_type": "execute_result"
    }
   ],
   "source": [
    "loss_weights = {\n",
    "        \"click/binary_output\": 5.0,\n",
    "        \"like/binary_output\": 4.0,\n",
    "        \"share/binary_output\": 3.0,\n",
    "        \"follow/binary_output\": 2.0,\n",
    "        \"watching_times/regression_output\": 1.0,        \n",
    "    }\n",
    "\n",
    "\n",
    "model.compile(optimizer=\"adam\", run_eagerly=False, loss_weights=loss_weights)\n",
    "model.fit(train_ds, batch_size=BATCH_SIZE)"
   ]
  },
  {
   "cell_type": "markdown",
   "id": "03486667",
   "metadata": {},
   "source": [
    "### Setting task-specific class / sample weights"
   ]
  },
  {
   "cell_type": "markdown",
   "id": "3ab76244",
   "metadata": {},
   "source": [
    "Keras supports setting `class_weight` and `sample_weight` for **single-task models** in `model.fit()`.  \n",
    "\n",
    "The `class_weight` allows weighting the classes of categorical/binary target in the loss, so that model training can pay more attention to samples from an under-represented class.  \n",
    "\n",
    "The `sample_weight` allows weighting data samples which should account more or less for the loss during training. If `weighted_metrics` is provided in `model.compile()`, then those metrics will also be weighted by `sample_weight` during training and testing.\n",
    "\n",
    "Merlin Models provides building blocks for **tasks-specific class and sample weights** with the `ColumnBasedSampleWeight` block. Here are some examples for different use cases."
   ]
  },
  {
   "cell_type": "markdown",
   "id": "31678e8f",
   "metadata": {},
   "source": [
    "#### 1. Setting class weights per task\n",
    "Here we create an MTL model to predict `click` and `like` targets. We set negative events (0s) to have weight 1.0 and positive events (1s) to have a higher weight. As `like` target is a more rare event (sparser) than `click`  we should use higher sample weight for positive examples for it."
   ]
  },
  {
   "cell_type": "code",
   "execution_count": 11,
   "id": "7c681d56",
   "metadata": {},
   "outputs": [],
   "source": [
    "output_block = mm.ParallelBlock(\n",
    "  mm.BinaryOutput(\"click\",\n",
    "                  post=mm.ColumnBasedSampleWeight(\n",
    "                        binary_class_weights=(1.0, 5.0), \n",
    "                  )), \n",
    "  mm.BinaryOutput(\"like\",\n",
    "                  post=mm.ColumnBasedSampleWeight(\n",
    "                        binary_class_weights=(1.0, 20.0), \n",
    "                  ))\n",
    ")"
   ]
  },
  {
   "cell_type": "code",
   "execution_count": 12,
   "id": "45a749a0",
   "metadata": {},
   "outputs": [
    {
     "name": "stdout",
     "output_type": "stream",
     "text": [
      "20/20 [==============================] - 2s 17ms/step - loss: 8.9955 - click/binary_output_loss: 2.0848 - like/binary_output_loss: 6.9107 - click/binary_output/precision: 0.5005 - click/binary_output/recall: 0.7432 - click/binary_output/binary_accuracy: 0.4983 - click/binary_output/auc: 0.4966 - like/binary_output/precision: 0.4970 - like/binary_output/recall: 0.1303 - like/binary_output/binary_accuracy: 0.4976 - like/binary_output/auc: 0.4993 - regularization_loss: 0.0000e+00 - loss_batch: 8.9535\n"
     ]
    },
    {
     "data": {
      "text/plain": [
       "<keras.callbacks.History at 0x7f08419662b0>"
      ]
     },
     "execution_count": 12,
     "metadata": {},
     "output_type": "execute_result"
    }
   ],
   "source": [
    "model = mm.Model(\n",
    "    mm.InputBlockV2(schema),\n",
    "    mm.MLPBlock([32,16]),\n",
    "    output_block\n",
    ")\n",
    "\n",
    "model.compile(optimizer=\"adam\", run_eagerly=False)\n",
    "model.fit(train_ds, batch_size=BATCH_SIZE)"
   ]
  },
  {
   "cell_type": "markdown",
   "id": "572cb7c6",
   "metadata": {},
   "source": [
    "#### 2. Using other target / feature as weight per task\n",
    "Another use case would be using a feature or another target for sample weight. For example, the `watching_times` target column represents the number of times the user has watched the video. That column could be used as a strength indicator on how much the video is relevant for the user. So we can use it as a the sample weight for `click`, so that the loss emphasizes more from such samples.  \n",
    "P.s. Input columns (non-target) can also be used as sample weight."
   ]
  },
  {
   "cell_type": "code",
   "execution_count": 13,
   "id": "f5cfb4bf",
   "metadata": {},
   "outputs": [],
   "source": [
    "output_block = mm.BinaryOutput(\"click\",\n",
    "                  post=mm.ColumnBasedSampleWeight(\"watching_times\")\n",
    "               )"
   ]
  },
  {
   "cell_type": "code",
   "execution_count": 14,
   "id": "a4465730",
   "metadata": {},
   "outputs": [
    {
     "name": "stdout",
     "output_type": "stream",
     "text": [
      "20/20 [==============================] - 1s 13ms/step - loss: 1.3896 - precision: 0.5022 - recall: 0.7188 - binary_accuracy: 0.5006 - auc: 0.5002 - regularization_loss: 0.0000e+00 - loss_batch: 1.3908\n"
     ]
    },
    {
     "data": {
      "text/plain": [
       "<keras.callbacks.History at 0x7f08412f3e50>"
      ]
     },
     "execution_count": 14,
     "metadata": {},
     "output_type": "execute_result"
    }
   ],
   "source": [
    "model = mm.Model(\n",
    "    mm.InputBlockV2(schema),\n",
    "    mm.MLPBlock([32,16]),\n",
    "    output_block\n",
    ")\n",
    "\n",
    "model.compile(optimizer=\"adam\", run_eagerly=False)\n",
    "model.fit(train_ds, batch_size=BATCH_SIZE)"
   ]
  },
  {
   "cell_type": "markdown",
   "id": "6827c9df",
   "metadata": {},
   "source": [
    "#### 3. Using another binary target as sample space\n",
    "In some cases, a target might be conditioned to another binary target. For example, there might be some event dependency in the system the user is interacting with, so that the user can only `like` or `share` if `click` event happened first. As the more specific events are usually much less frequent than `click`, they are sparser thus suffer more from unbalanced class training. In such cases, as you can only have a positive event (i.e., `like=1`) if `click=1`, we can use `click` as the sample space for training `like`, i.e., the sample is only considered for `like` loss if `click=1`. Here is how you can set such sample space dependency among targets.  "
   ]
  },
  {
   "cell_type": "code",
   "execution_count": 15,
   "id": "93740d28",
   "metadata": {},
   "outputs": [],
   "source": [
    "output_block = mm.ParallelBlock(\n",
    "  mm.BinaryOutput(\"click\"), \n",
    "  mm.BinaryOutput(\"like\", post=mm.ColumnBasedSampleWeight(\"click\"))\n",
    ")"
   ]
  },
  {
   "cell_type": "markdown",
   "id": "4a3a4062",
   "metadata": {},
   "source": [
    "In such cases you might want to compute metrics for `like` considering only its sample space, rather than the entire space. The **`weighed_metrics`** can be used for that, as regular metrics are not influenced by sample weights.  \n",
    "We also demonstrate below how to override the default **`metrics`** per task. Metrics can be either Keras-like metrics or string aliases supported by Merlin Models (e.g., \"auc\", \"precision\", \"recall\", \"binary_accuracy\", \"rmse\", \"mse\")."
   ]
  },
  {
   "cell_type": "code",
   "execution_count": 16,
   "id": "9b8e1924",
   "metadata": {},
   "outputs": [
    {
     "name": "stdout",
     "output_type": "stream",
     "text": [
      "20/20 [==============================] - 2s 16ms/step - loss: 1.0380 - click/binary_output_loss: 0.6932 - like/binary_output_loss: 0.3448 - click/binary_output/auc: 0.4995 - click/binary_output/weighted_auc: 0.4995 - like/binary_output/auc: 0.5017 - like/binary_output/weighted_auc: 0.5044 - regularization_loss: 0.0000e+00 - loss_batch: 1.0384\n"
     ]
    },
    {
     "data": {
      "text/plain": [
       "<keras.callbacks.History at 0x7f0840ea0fd0>"
      ]
     },
     "execution_count": 16,
     "metadata": {},
     "output_type": "execute_result"
    }
   ],
   "source": [
    "model = mm.Model(\n",
    "    mm.InputBlockV2(schema),\n",
    "    mm.MLPBlock([32,16]),\n",
    "    output_block\n",
    ")\n",
    "\n",
    "metrics = {\n",
    "        \"click/binary_output\": [tf.keras.metrics.AUC(name=\"auc\", num_thresholds=200)],\n",
    "        \"like/binary_output\": [\"auc\"],\n",
    "    }\n",
    "\n",
    "weighted_metrics = {\n",
    "        \"click/binary_output\": [\"auc\"],\n",
    "        \"like/binary_output\": [\"auc\"],\n",
    "    }\n",
    "\n",
    "model.compile(optimizer=\"adam\", run_eagerly=False, metrics=metrics, weighted_metrics=weighted_metrics)\n",
    "model.fit(train_ds, batch_size=BATCH_SIZE)"
   ]
  },
  {
   "cell_type": "markdown",
   "id": "902eec69",
   "metadata": {},
   "source": [
    "You can notice that when `weighted_metrics` are set we get the specified metrics prefixed by `weighted_`. The regular metrics for `like` (`auc`) differs from the weighted metrics (`weighted_auc`) because the latter are affected by sample weights, i.e., computed only for samples where `click=1`."
   ]
  },
  {
   "cell_type": "code",
   "execution_count": 17,
   "id": "8327b1fa",
   "metadata": {},
   "outputs": [
    {
     "name": "stdout",
     "output_type": "stream",
     "text": [
      "5/5 [==============================] - 1s 10ms/step - loss: 1.0424 - click/binary_output_loss: 0.6933 - like/binary_output_loss: 0.3490 - click/binary_output/auc: 0.5009 - click/binary_output/weighted_auc: 0.5009 - like/binary_output/auc: 0.4971 - like/binary_output/weighted_auc: 0.5003 - regularization_loss: 0.0000e+00 - loss_batch: 1.0461\n"
     ]
    },
    {
     "data": {
      "text/plain": [
       "{'loss': 1.0423791408538818,\n",
       " 'click/binary_output_loss': 0.6933351755142212,\n",
       " 'like/binary_output_loss': 0.34904393553733826,\n",
       " 'click/binary_output/auc': 0.5008733868598938,\n",
       " 'click/binary_output/weighted_auc': 0.5008733868598938,\n",
       " 'like/binary_output/auc': 0.49714359641075134,\n",
       " 'like/binary_output/weighted_auc': 0.5003456473350525,\n",
       " 'regularization_loss': 0.0,\n",
       " 'loss_batch': 1.0625323057174683}"
      ]
     },
     "execution_count": 17,
     "metadata": {},
     "output_type": "execute_result"
    }
   ],
   "source": [
    "model.evaluate(valid_ds, batch_size=BATCH_SIZE, return_dict=True)"
   ]
  },
  {
   "cell_type": "markdown",
   "id": "7ce01139",
   "metadata": {},
   "source": [
    "You can also cascade multiple sample weights for a target by using a `SequentialBlock`. For example, setting class weights for a binary target and using another binary column as the sample space. If there are multiple `ColumnBasedSampleWeight`, the sample weights are multiplied element-wise.\n",
    "```python\n",
    "mm.BinaryOutput(\"like\", \n",
    "                post=mm.SequentialBlock(\n",
    "                    [mm.ColumnBasedSampleWeight(binary_class_weights=(1.0, 5.0)),\n",
    "                     mm.ColumnBasedSampleWeight(\"click\")]\n",
    "                )\n",
    ")\n",
    "```"
   ]
  },
  {
   "cell_type": "markdown",
   "id": "deb83a6e",
   "metadata": {},
   "source": [
    "## Multi-task learning architectures"
   ]
  },
  {
   "cell_type": "markdown",
   "id": "db44517f",
   "metadata": {},
   "source": [
    "In this section we describe different architectures for multi-task learning, which are summarized in the following illustration. The blue shapes are the ones that are shared for all tasks, and the other colored shapes are task-specific ones. We explain each of those architectures in the next sub-sections.\n",
    "\n",
    "<img src=\"../images/mtl_architectures.png\"  width=\"90%\">\n",
    "\n",
    "Image adapted from: [Progressive Layered Extraction (PLE): A Novel Multi-Task\n",
    "Learning (MTL) Model for Personalized Recommendations](https://dl.acm.org/doi/10.1145/3383313.3412236)"
   ]
  },
  {
   "cell_type": "markdown",
   "id": "04d9ba78",
   "metadata": {},
   "source": [
    "### Hard parameter sharing"
   ]
  },
  {
   "cell_type": "markdown",
   "id": "bb0878e7",
   "metadata": {},
   "source": [
    "The examples above used a **hard parameter sharing**, where all tasks share MLP layers in the bottom, and each task has a specific single-layer MLP tower that projects the shared-bottom output to a single neuron per task (for binary classification / regression tasks).  \n",
    "We can specify more powerful task towers, so that tasks have more freedom to learn different things, with either of the following examples."
   ]
  },
  {
   "cell_type": "code",
   "execution_count": 18,
   "id": "f55315b7",
   "metadata": {},
   "outputs": [],
   "source": [
    "output_block = mm.OutputBlock(schema, task_blocks=mm.MLPBlock([32]))"
   ]
  },
  {
   "cell_type": "markdown",
   "id": "6fb6aab4",
   "metadata": {},
   "source": [
    "or..."
   ]
  },
  {
   "cell_type": "code",
   "execution_count": 19,
   "id": "4196806a",
   "metadata": {},
   "outputs": [],
   "source": [
    "output_block = mm.ParallelBlock(\n",
    "  mm.BinaryOutput(\"click\", pre=mm.MLPBlock([64])), \n",
    "  mm.BinaryOutput(\"like\",  pre=mm.MLPBlock([32]))\n",
    ")"
   ]
  },
  {
   "cell_type": "code",
   "execution_count": 20,
   "id": "47a1a5c0",
   "metadata": {},
   "outputs": [
    {
     "name": "stdout",
     "output_type": "stream",
     "text": [
      "20/20 [==============================] - 2s 18ms/step - loss: 1.3863 - click/binary_output_loss: 0.6931 - like/binary_output_loss: 0.6932 - click/binary_output/precision: 0.5044 - click/binary_output/recall: 0.7322 - click/binary_output/binary_accuracy: 0.5039 - click/binary_output/auc: 0.5021 - like/binary_output/precision: 0.5008 - like/binary_output/recall: 0.8455 - like/binary_output/binary_accuracy: 0.4998 - like/binary_output/auc: 0.4996 - regularization_loss: 0.0000e+00 - loss_batch: 1.3863\n"
     ]
    },
    {
     "data": {
      "text/plain": [
       "<keras.callbacks.History at 0x7f08406bdf70>"
      ]
     },
     "execution_count": 20,
     "metadata": {},
     "output_type": "execute_result"
    }
   ],
   "source": [
    "model = mm.Model(\n",
    "    mm.InputBlockV2(schema),\n",
    "    mm.MLPBlock([32,16]),\n",
    "    output_block\n",
    ")\n",
    "model.compile(optimizer=\"adam\", run_eagerly=False)\n",
    "model.fit(train_ds, batch_size=BATCH_SIZE)"
   ]
  },
  {
   "cell_type": "markdown",
   "id": "fc18f7f1",
   "metadata": {},
   "source": [
    "### MMoE architecture"
   ]
  },
  {
   "cell_type": "markdown",
   "id": "7e0f3d66",
   "metadata": {},
   "source": [
    "The [**Multi-gate Mixture-of-Experts (MMoE)**](https://dl.acm.org/doi/pdf/10.1145/3219819.3220007) architecture was introduced by Google in 2018 and is one of the most popular models for multi-task learning on tabular data. It is based on the former one-gate **Mixture of Experts (MoE)**, which proposed having different sub-networks (experts) projecting the inputs independently and then having the experts output weighted averaged by a gate for a shared representation to be used for all tasks. The MMoE architecture took a step further and proposed having an independent gate for each task, so that they could choose how to better combine the experts outputs. You can find more details in the [MMoE paper](https://dl.acm.org/doi/pdf/10.1145/3219819.3220007).\n",
    "\n",
    "The MMoE architecture can be created for your dataset with just a few lines of code!"
   ]
  },
  {
   "cell_type": "code",
   "execution_count": 21,
   "id": "97dfb313",
   "metadata": {},
   "outputs": [
    {
     "name": "stdout",
     "output_type": "stream",
     "text": [
      "Model(\n",
      "  (blocks): _TupleWrapper((ParallelBlock(\n",
      "    (_pre): PrepareFeatures()\n",
      "    (_aggregation): ConcatFeatures()\n",
      "    (parallel_layers): Dict(\n",
      "      (categorical): ParallelBlock(\n",
      "        (parallel_layers): Dict(\n",
      "          (user_id): EmbeddingTable(\n",
      "            (features): Dict(\n",
      "              (user_id): ColumnSchema(name='user_id', tags={<Tags.ID: 'id'>, <Tags.USER_ID: 'user_id'>, <Tags.CATEGORICAL: 'categorical'>, <Tags.USER: 'user'>}, properties={'freq_threshold': 0.0, 'cat_path': './/categories/unique.user_id.parquet', 'start_index': 1.0, 'max_size': 0.0, 'num_buckets': None, 'embedding_sizes': {'cardinality': 2633851.0, 'dimension': 512.0}, 'domain': {'min': 0, 'max': 100000, 'name': 'user_id'}}, dtype=DType(name='int32', element_type=<ElementType.Int: 'int'>, element_size=32, element_unit=None, signed=True, shape=Shape(dims=None)), is_list=False, is_ragged=False)\n",
      "            )\n",
      "            (table): Embedding()\n",
      "          )\n",
      "          (item_id): EmbeddingTable(\n",
      "            (features): Dict(\n",
      "              (item_id): ColumnSchema(name='item_id', tags={<Tags.ID: 'id'>, <Tags.CATEGORICAL: 'categorical'>, <Tags.ITEM: 'item'>, <Tags.ITEM_ID: 'item_id'>}, properties={'freq_threshold': 0.0, 'num_buckets': None, 'cat_path': './/categories/unique.item_id.parquet', 'max_size': 0.0, 'embedding_sizes': {'dimension': 512.0, 'cardinality': 179280.0}, 'start_index': 1.0, 'domain': {'min': 0, 'max': 179280, 'name': 'item_id'}}, dtype=DType(name='int32', element_type=<ElementType.Int: 'int'>, element_size=32, element_unit=None, signed=True, shape=Shape(dims=None)), is_list=False, is_ragged=False)\n",
      "            )\n",
      "            (table): Embedding()\n",
      "          )\n",
      "          (video_category): EmbeddingTable(\n",
      "            (features): Dict(\n",
      "              (video_category): ColumnSchema(name='video_category', tags={<Tags.CATEGORICAL: 'categorical'>, <Tags.ITEM: 'item'>}, properties={'max_size': 0.0, 'start_index': 1.0, 'num_buckets': None, 'cat_path': './/categories/unique.video_category.parquet', 'freq_threshold': 0.0, 'embedding_sizes': {'cardinality': 5.0, 'dimension': 16.0}, 'domain': {'min': 0, 'max': 5, 'name': 'video_category'}}, dtype=DType(name='int32', element_type=<ElementType.Int: 'int'>, element_size=32, element_unit=None, signed=True, shape=Shape(dims=None)), is_list=False, is_ragged=False)\n",
      "            )\n",
      "            (table): Embedding()\n",
      "          )\n",
      "          (gender): EmbeddingTable(\n",
      "            (features): Dict(\n",
      "              (gender): ColumnSchema(name='gender', tags={<Tags.CATEGORICAL: 'categorical'>, <Tags.USER: 'user'>}, properties={'start_index': 1.0, 'cat_path': './/categories/unique.gender.parquet', 'freq_threshold': 0.0, 'max_size': 0.0, 'embedding_sizes': {'cardinality': 5.0, 'dimension': 16.0}, 'num_buckets': None, 'domain': {'min': 0, 'max': 5, 'name': 'gender'}}, dtype=DType(name='int32', element_type=<ElementType.Int: 'int'>, element_size=32, element_unit=None, signed=True, shape=Shape(dims=None)), is_list=False, is_ragged=False)\n",
      "            )\n",
      "            (table): Embedding()\n",
      "          )\n",
      "          (age): EmbeddingTable(\n",
      "            (features): Dict(\n",
      "              (age): ColumnSchema(name='age', tags={<Tags.CATEGORICAL: 'categorical'>, <Tags.USER: 'user'>}, properties={'start_index': 1.0, 'max_size': 0.0, 'num_buckets': None, 'embedding_sizes': {'dimension': 16.0, 'cardinality': 10.0}, 'freq_threshold': 0.0, 'cat_path': './/categories/unique.age.parquet', 'domain': {'min': 0, 'max': 10, 'name': 'age'}}, dtype=DType(name='int32', element_type=<ElementType.Int: 'int'>, element_size=32, element_unit=None, signed=True, shape=Shape(dims=None)), is_list=False, is_ragged=False)\n",
      "            )\n",
      "            (table): Embedding()\n",
      "          )\n",
      "        )\n",
      "      )\n",
      "    )\n",
      "  ), mmoe(\n",
      "    (layers): List(\n",
      "      (0): WithShortcut(\n",
      "        (parallel_layers): Dict(\n",
      "          (experts): ParallelBlock(\n",
      "            (_aggregation): StackFeatures()\n",
      "            (parallel_layers): Dict(\n",
      "              (expert_0): SequentialBlock(\n",
      "                (layers): List(\n",
      "                  (0): _Dense(\n",
      "                    (dense): Dense(64, activation=relu, use_bias=True)\n",
      "                  )\n",
      "                )\n",
      "              )\n",
      "              (expert_1): SequentialBlock(\n",
      "                (layers): List(\n",
      "                  (0): _Dense(\n",
      "                    (dense): Dense(64, activation=relu, use_bias=True)\n",
      "                  )\n",
      "                )\n",
      "              )\n",
      "              (expert_2): SequentialBlock(\n",
      "                (layers): List(\n",
      "                  (0): _Dense(\n",
      "                    (dense): Dense(64, activation=relu, use_bias=True)\n",
      "                  )\n",
      "                )\n",
      "              )\n",
      "              (expert_3): SequentialBlock(\n",
      "                (layers): List(\n",
      "                  (0): _Dense(\n",
      "                    (dense): Dense(64, activation=relu, use_bias=True)\n",
      "                  )\n",
      "                )\n",
      "              )\n",
      "            )\n",
      "          )\n",
      "          (shortcut): NoOp()\n",
      "        )\n",
      "      )\n",
      "      (1): ParallelBlock(\n",
      "        (parallel_layers): Dict(\n",
      "          (click/binary_output): ExpertsGate(\n",
      "            (gate_block): SequentialBlock(\n",
      "              (layers): List(\n",
      "                (0): _Dense(\n",
      "                  (dense): Dense(16, activation=relu, use_bias=True)\n",
      "                )\n",
      "              )\n",
      "            )\n",
      "            (gate_final): Dense(4, activation=linear, use_bias=False)\n",
      "          )\n",
      "          (follow/binary_output): ExpertsGate(\n",
      "            (gate_block): SequentialBlock(\n",
      "              (layers): List(\n",
      "                (0): _Dense(\n",
      "                  (dense): Dense(16, activation=relu, use_bias=True)\n",
      "                )\n",
      "              )\n",
      "            )\n",
      "            (gate_final): Dense(4, activation=linear, use_bias=False)\n",
      "          )\n",
      "          (like/binary_output): ExpertsGate(\n",
      "            (gate_block): SequentialBlock(\n",
      "              (layers): List(\n",
      "                (0): _Dense(\n",
      "                  (dense): Dense(16, activation=relu, use_bias=True)\n",
      "                )\n",
      "              )\n",
      "            )\n",
      "            (gate_final): Dense(4, activation=linear, use_bias=False)\n",
      "          )\n",
      "          (share/binary_output): ExpertsGate(\n",
      "            (gate_block): SequentialBlock(\n",
      "              (layers): List(\n",
      "                (0): _Dense(\n",
      "                  (dense): Dense(16, activation=relu, use_bias=True)\n",
      "                )\n",
      "              )\n",
      "            )\n",
      "            (gate_final): Dense(4, activation=linear, use_bias=False)\n",
      "          )\n",
      "          (watching_times/regression_output): ExpertsGate(\n",
      "            (gate_block): SequentialBlock(\n",
      "              (layers): List(\n",
      "                (0): _Dense(\n",
      "                  (dense): Dense(16, activation=relu, use_bias=True)\n",
      "                )\n",
      "              )\n",
      "            )\n",
      "            (gate_final): Dense(4, activation=linear, use_bias=False)\n",
      "          )\n",
      "        )\n",
      "      )\n",
      "    )\n",
      "  ), ParallelBlock(\n",
      "    (parallel_layers): Dict(\n",
      "      (click/binary_output): BinaryOutput(\n",
      "        (to_call): Dense(1, activation=sigmoid, use_bias=True)\n",
      "        (pre): SequentialBlock(\n",
      "          (layers): List(\n",
      "            (0): _Dense(\n",
      "              (dense): Dense(32, activation=relu, use_bias=True)\n",
      "            )\n",
      "          )\n",
      "        )\n",
      "      )\n",
      "      (follow/binary_output): BinaryOutput(\n",
      "        (to_call): Dense(1, activation=sigmoid, use_bias=True)\n",
      "        (pre): SequentialBlock(\n",
      "          (layers): List(\n",
      "            (0): _Dense(\n",
      "              (dense): Dense(32, activation=relu, use_bias=True)\n",
      "            )\n",
      "          )\n",
      "        )\n",
      "      )\n",
      "      (like/binary_output): BinaryOutput(\n",
      "        (to_call): Dense(1, activation=sigmoid, use_bias=True)\n",
      "        (pre): SequentialBlock(\n",
      "          (layers): List(\n",
      "            (0): _Dense(\n",
      "              (dense): Dense(32, activation=relu, use_bias=True)\n",
      "            )\n",
      "          )\n",
      "        )\n",
      "      )\n",
      "      (share/binary_output): BinaryOutput(\n",
      "        (to_call): Dense(1, activation=sigmoid, use_bias=True)\n",
      "        (pre): SequentialBlock(\n",
      "          (layers): List(\n",
      "            (0): _Dense(\n",
      "              (dense): Dense(32, activation=relu, use_bias=True)\n",
      "            )\n",
      "          )\n",
      "        )\n",
      "      )\n",
      "      (watching_times/regression_output): RegressionOutput(\n",
      "        (to_call): Dense(1, activation=linear, use_bias=True)\n",
      "        (pre): SequentialBlock(\n",
      "          (layers): List(\n",
      "            (0): _Dense(\n",
      "              (dense): Dense(32, activation=relu, use_bias=True)\n",
      "            )\n",
      "          )\n",
      "        )\n",
      "      )\n",
      "    )\n",
      "  )))\n",
      "  (context): ModelContext()\n",
      "  (prepare_features): PrepareFeatures()\n",
      ")\n"
     ]
    }
   ],
   "source": [
    "inputs = mm.InputBlockV2(schema)\n",
    "output_block = mm.OutputBlock(schema, task_blocks=mm.MLPBlock([32]))\n",
    "mmoe = mm.MMOEBlock(\n",
    "    output_block,\n",
    "    expert_block=mm.MLPBlock([64]),\n",
    "    num_experts=4,\n",
    "    gate_block=mm.MLPBlock([16]),\n",
    ")\n",
    "model = mm.Model(inputs, mmoe, output_block)\n",
    "print(model)"
   ]
  },
  {
   "cell_type": "code",
   "execution_count": 22,
   "id": "f2389cbf",
   "metadata": {},
   "outputs": [
    {
     "name": "stdout",
     "output_type": "stream",
     "text": [
      "20/20 [==============================] - 5s 32ms/step - loss: 2.9376 - click/binary_output_loss: 0.6932 - follow/binary_output_loss: 0.6932 - like/binary_output_loss: 0.6932 - share/binary_output_loss: 0.6932 - watching_times/regression_output_loss: 0.1648 - click/binary_output/precision: 0.5052 - click/binary_output/recall: 0.3949 - click/binary_output/binary_accuracy: 0.5016 - click/binary_output/auc: 0.5018 - follow/binary_output/precision: 0.4955 - follow/binary_output/recall: 0.3178 - follow/binary_output/binary_accuracy: 0.4990 - follow/binary_output/auc: 0.4947 - like/binary_output/precision: 0.5007 - like/binary_output/recall: 0.8859 - like/binary_output/binary_accuracy: 0.4997 - like/binary_output/auc: 0.4978 - share/binary_output/precision: 0.4928 - share/binary_output/recall: 0.2000 - share/binary_output/binary_accuracy: 0.4985 - share/binary_output/auc: 0.4987 - watching_times/regression_output/root_mean_squared_error: 0.4060 - regularization_loss: 0.0000e+00 - loss_batch: 2.9370\n"
     ]
    },
    {
     "data": {
      "text/plain": [
       "<keras.callbacks.History at 0x7f0827f5ae80>"
      ]
     },
     "execution_count": 22,
     "metadata": {},
     "output_type": "execute_result"
    }
   ],
   "source": [
    "model.compile(optimizer=\"adam\", run_eagerly=False)\n",
    "model.fit(train_ds, batch_size=BATCH_SIZE)"
   ]
  },
  {
   "cell_type": "markdown",
   "id": "5c04d721",
   "metadata": {},
   "source": [
    "### CGC and PLE architectures"
   ]
  },
  {
   "cell_type": "markdown",
   "id": "84cda70f",
   "metadata": {},
   "source": [
    "The **CGC** and **PLE** architectures were introduced in this [paper](https://dl.acm.org/doi/10.1145/3383313.3412236) (2020). The authors observed that architectures like **MMoE** presented a \"seesaw\" phenomenon, where improving the accuracy of one task hurts the accuracy of other tasks.  \n",
    "So instead of having all tasks sharing all the experts, they proposed allowing for some task-specific experts and shared experts, which they named **Customized Gate Control (CGC) Model**, for which we provide a building block.   \n",
    "Notice that `CGCBlock` has separate arguments for `num_task_experts` and `num_shared_experts`."
   ]
  },
  {
   "cell_type": "markdown",
   "id": "385a94dc",
   "metadata": {},
   "source": [
    "#### CGC"
   ]
  },
  {
   "cell_type": "code",
   "execution_count": 23,
   "id": "db017305",
   "metadata": {},
   "outputs": [],
   "source": [
    "inputs = mm.InputBlockV2(schema)\n",
    "output_block = mm.OutputBlock(schema, task_blocks=mm.MLPBlock([32]))\n",
    "\n",
    "cgc = mm.CGCBlock(\n",
    "    output_block,\n",
    "    expert_block=mm.MLPBlock([64]),\n",
    "    num_task_experts=2,\n",
    "    num_shared_experts=3,\n",
    ")\n",
    "model = mm.Model(inputs, cgc, output_block)"
   ]
  },
  {
   "cell_type": "code",
   "execution_count": 24,
   "id": "beb41d0e",
   "metadata": {},
   "outputs": [
    {
     "name": "stdout",
     "output_type": "stream",
     "text": [
      "20/20 [==============================] - 5s 36ms/step - loss: 2.9385 - click/binary_output_loss: 0.6932 - follow/binary_output_loss: 0.6932 - like/binary_output_loss: 0.6932 - share/binary_output_loss: 0.6932 - watching_times/regression_output_loss: 0.1657 - click/binary_output/precision: 0.5024 - click/binary_output/recall: 0.6929 - click/binary_output/binary_accuracy: 0.5008 - click/binary_output/auc: 0.4995 - follow/binary_output/precision: 0.4973 - follow/binary_output/recall: 0.3885 - follow/binary_output/binary_accuracy: 0.4997 - follow/binary_output/auc: 0.4993 - like/binary_output/precision: 0.4985 - like/binary_output/recall: 0.5727 - like/binary_output/binary_accuracy: 0.4967 - like/binary_output/auc: 0.4987 - share/binary_output/precision: 0.4979 - share/binary_output/recall: 0.3420 - share/binary_output/binary_accuracy: 0.5001 - share/binary_output/auc: 0.4984 - watching_times/regression_output/root_mean_squared_error: 0.4071 - regularization_loss: 0.0000e+00 - loss_batch: 2.9379\n"
     ]
    },
    {
     "data": {
      "text/plain": [
       "<keras.callbacks.History at 0x7f0840af0040>"
      ]
     },
     "execution_count": 24,
     "metadata": {},
     "output_type": "execute_result"
    }
   ],
   "source": [
    "model.compile(optimizer=\"adam\", run_eagerly=False)\n",
    "model.fit(train_ds, batch_size=BATCH_SIZE)"
   ]
  },
  {
   "cell_type": "markdown",
   "id": "96fe6f59",
   "metadata": {},
   "source": [
    "#### PLE"
   ]
  },
  {
   "cell_type": "markdown",
   "id": "cbf4839e",
   "metadata": {},
   "source": [
    "Furthermore, the [paper](https://dl.acm.org/doi/10.1145/3383313.3412236) authors proposed stacking multiple **CGC** models on top of each other to form a multi-level MTL model, which they called **Progressive Layered Extraction (PLE)**, which in their experiments was able to alleviate the *seesaw problem*, improving the accuracy of all tasks. The `PLEBlock` introduces the `num_layers`, which controls the number of levels.   "
   ]
  },
  {
   "cell_type": "code",
   "execution_count": 25,
   "id": "292fc1ef",
   "metadata": {},
   "outputs": [],
   "source": [
    "inputs = mm.InputBlockV2(schema)\n",
    "output_block = mm.OutputBlock(schema, task_blocks=mm.MLPBlock([32]))\n",
    "\n",
    "ple = mm.PLEBlock(\n",
    "    num_layers=2,\n",
    "    outputs=output_block,\n",
    "    expert_block=mm.MLPBlock([64]),\n",
    "    num_task_experts=2,\n",
    "    num_shared_experts=3,\n",
    ")\n",
    "model = mm.Model(inputs, ple, output_block)"
   ]
  },
  {
   "cell_type": "code",
   "execution_count": 26,
   "id": "e0e83b52",
   "metadata": {},
   "outputs": [
    {
     "name": "stdout",
     "output_type": "stream",
     "text": [
      "20/20 [==============================] - 6s 43ms/step - loss: 2.9450 - click/binary_output_loss: 0.6932 - follow/binary_output_loss: 0.6932 - like/binary_output_loss: 0.6932 - share/binary_output_loss: 0.6932 - watching_times/regression_output_loss: 0.1723 - click/binary_output/precision: 0.5004 - click/binary_output/recall: 0.6065 - click/binary_output/binary_accuracy: 0.4980 - click/binary_output/auc: 0.4997 - follow/binary_output/precision: 0.4989 - follow/binary_output/recall: 0.7719 - follow/binary_output/binary_accuracy: 0.5002 - follow/binary_output/auc: 0.4981 - like/binary_output/precision: 0.5004 - like/binary_output/recall: 0.7066 - like/binary_output/binary_accuracy: 0.4990 - like/binary_output/auc: 0.5000 - share/binary_output/precision: 0.4988 - share/binary_output/recall: 0.2714 - share/binary_output/binary_accuracy: 0.5008 - share/binary_output/auc: 0.4994 - watching_times/regression_output/root_mean_squared_error: 0.4152 - regularization_loss: 0.0000e+00 - loss_batch: 2.9440\n"
     ]
    },
    {
     "data": {
      "text/plain": [
       "<keras.callbacks.History at 0x7f08260acdf0>"
      ]
     },
     "execution_count": 26,
     "metadata": {},
     "output_type": "execute_result"
    }
   ],
   "source": [
    "model.compile(optimizer=\"adam\", run_eagerly=False)\n",
    "model.fit(train_ds, batch_size=BATCH_SIZE)"
   ]
  },
  {
   "cell_type": "code",
   "execution_count": 27,
   "id": "14b446f6",
   "metadata": {},
   "outputs": [
    {
     "name": "stdout",
     "output_type": "stream",
     "text": [
      "5/5 [==============================] - 2s 28ms/step - loss: 2.9349 - click/binary_output_loss: 0.6932 - follow/binary_output_loss: 0.6932 - like/binary_output_loss: 0.6931 - share/binary_output_loss: 0.6931 - watching_times/regression_output_loss: 0.1623 - click/binary_output/precision: 0.4974 - click/binary_output/recall: 0.7992 - click/binary_output/binary_accuracy: 0.4993 - click/binary_output/auc: 0.4998 - follow/binary_output/precision: 0.0000e+00 - follow/binary_output/recall: 0.0000e+00 - follow/binary_output/binary_accuracy: 0.5005 - follow/binary_output/auc: 0.5000 - like/binary_output/precision: 0.5018 - like/binary_output/recall: 0.7410 - like/binary_output/binary_accuracy: 0.5020 - like/binary_output/auc: 0.5000 - share/binary_output/precision: 0.7500 - share/binary_output/recall: 3.0090e-04 - share/binary_output/binary_accuracy: 0.5016 - share/binary_output/auc: 0.4998 - watching_times/regression_output/root_mean_squared_error: 0.4029 - regularization_loss: 0.0000e+00 - loss_batch: 2.9353\n"
     ]
    },
    {
     "data": {
      "text/plain": [
       "{'loss': 2.9349355697631836,\n",
       " 'click/binary_output_loss': 0.6931571364402771,\n",
       " 'follow/binary_output_loss': 0.6931573152542114,\n",
       " 'like/binary_output_loss': 0.6931440234184265,\n",
       " 'share/binary_output_loss': 0.6931401491165161,\n",
       " 'watching_times/regression_output_loss': 0.16233690083026886,\n",
       " 'click/binary_output/precision': 0.4973677694797516,\n",
       " 'click/binary_output/recall': 0.7991943359375,\n",
       " 'click/binary_output/binary_accuracy': 0.4993000030517578,\n",
       " 'click/binary_output/auc': 0.49983569979667664,\n",
       " 'follow/binary_output/precision': 0.0,\n",
       " 'follow/binary_output/recall': 0.0,\n",
       " 'follow/binary_output/binary_accuracy': 0.5005000233650208,\n",
       " 'follow/binary_output/auc': 0.5,\n",
       " 'like/binary_output/precision': 0.5017586350440979,\n",
       " 'like/binary_output/recall': 0.7409849166870117,\n",
       " 'like/binary_output/binary_accuracy': 0.50204998254776,\n",
       " 'like/binary_output/auc': 0.5,\n",
       " 'share/binary_output/precision': 0.75,\n",
       " 'share/binary_output/recall': 0.00030090269865468144,\n",
       " 'share/binary_output/binary_accuracy': 0.5016000270843506,\n",
       " 'share/binary_output/auc': 0.4998399019241333,\n",
       " 'watching_times/regression_output/root_mean_squared_error': 0.4029105305671692,\n",
       " 'regularization_loss': 0.0,\n",
       " 'loss_batch': 2.937030553817749}"
      ]
     },
     "execution_count": 27,
     "metadata": {},
     "output_type": "execute_result"
    }
   ],
   "source": [
    "metrics_results = model.evaluate(valid_ds, batch_size=BATCH_SIZE, return_dict=True)\n",
    "metrics_results"
   ]
  },
  {
   "cell_type": "markdown",
   "id": "97bcc7c8",
   "metadata": {},
   "source": [
    "## Conclusion"
   ]
  },
  {
   "cell_type": "markdown",
   "id": "7b6b0990",
   "metadata": {},
   "source": [
    "In this notebook we introduced multi-task learning use cases for ranking models and the building blocks provided by Merlin Models to build, train and evaluate such models.  \n",
    "You can see how easy it is to build state-of-the-art MTL architectures with just a few lines of code with Merlin Models!"
   ]
  },
  {
   "cell_type": "code",
   "execution_count": null,
   "id": "702b6991",
   "metadata": {},
   "outputs": [],
   "source": []
  }
 ],
 "metadata": {
  "kernelspec": {
   "display_name": "Python 3 (ipykernel)",
   "language": "python",
   "name": "python3"
  },
  "language_info": {
   "codemirror_mode": {
    "name": "ipython",
    "version": 3
   },
   "file_extension": ".py",
   "mimetype": "text/x-python",
   "name": "python",
   "nbconvert_exporter": "python",
   "pygments_lexer": "ipython3",
   "version": "3.8.10"
  },
  "merlin": {
   "containers": [
    "nvcr.io/nvidia/merlin/merlin-tensorflow:latest"
   ]
  },
  "vscode": {
   "interpreter": {
    "hash": "67b01b24cb2518309f0749863665ff82dad1ad60adc88cabbb59c99b73117545"
   }
  }
 },
 "nbformat": 4,
 "nbformat_minor": 5
}
