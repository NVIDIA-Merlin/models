{
 "cells": [
  {
   "cell_type": "code",
   "execution_count": 4,
   "metadata": {
    "collapsed": true
   },
   "outputs": [
    {
     "data": {
      "text/plain": "     user_id  user_categories  user_shops  user_brands  user_intentions  \\\n0         29              251        4800         2386             1390   \n1         24              206        3943         1960             1142   \n2         67              590       11315         5623             3275   \n3          7               54        1029          512              298   \n4          5               36         686          341              199   \n..       ...              ...         ...          ...              ...   \n995        5               36         686          341              199   \n996       25              215        4115         2045             1191   \n997        9               72        1372          682              397   \n998        4               27         515          256              149   \n999       23              197        3772         1875             1092   \n\n     user_profile  user_group  user_gender  user_age  user_consumption_1  \\\n0               4           1            1         1                   1   \n1               4           1            1         1                   1   \n2              10           2            1         1                   1   \n3               1           1            1         1                   1   \n4               1           1            1         1                   1   \n..            ...         ...          ...       ...                 ...   \n995             1           1            1         1                   1   \n996             4           1            1         1                   1   \n997             2           1            1         1                   1   \n998             1           1            1         1                   1   \n999             4           1            1         1                   1   \n\n     user_consumption_2  user_is_occupied  user_geography  item_id  \\\n0                     1                 1               1       22   \n1                     1                 1               1       62   \n2                     1                 1               1        4   \n3                     1                 1               1        6   \n4                     1                 1               1       40   \n..                  ...               ...             ...      ...   \n995                   1                 1               1        8   \n996                   1                 1               1       37   \n997                   1                 1               1       35   \n998                   1                 1               1        7   \n999                   1                 1               1        6   \n\n     item_category  item_shop  item_intention  item_brand  \n0              283      19929            3174        6864  \n1              822      57888            9218       19936  \n2               41       2847             454         981  \n3               68       4745             756        1635  \n4              526      37011            5894       12746  \n..             ...        ...             ...         ...  \n995             95       6643            1058        2288  \n996            485      34164            5440       11766  \n997            458      32266            5138       11112  \n998             81       5694             907        1961  \n999             68       4745             756        1635  \n\n[1000 rows x 18 columns]",
      "text/html": "<div>\n<style scoped>\n    .dataframe tbody tr th:only-of-type {\n        vertical-align: middle;\n    }\n\n    .dataframe tbody tr th {\n        vertical-align: top;\n    }\n\n    .dataframe thead th {\n        text-align: right;\n    }\n</style>\n<table border=\"1\" class=\"dataframe\">\n  <thead>\n    <tr style=\"text-align: right;\">\n      <th></th>\n      <th>user_id</th>\n      <th>user_categories</th>\n      <th>user_shops</th>\n      <th>user_brands</th>\n      <th>user_intentions</th>\n      <th>user_profile</th>\n      <th>user_group</th>\n      <th>user_gender</th>\n      <th>user_age</th>\n      <th>user_consumption_1</th>\n      <th>user_consumption_2</th>\n      <th>user_is_occupied</th>\n      <th>user_geography</th>\n      <th>item_id</th>\n      <th>item_category</th>\n      <th>item_shop</th>\n      <th>item_intention</th>\n      <th>item_brand</th>\n    </tr>\n  </thead>\n  <tbody>\n    <tr>\n      <th>0</th>\n      <td>29</td>\n      <td>251</td>\n      <td>4800</td>\n      <td>2386</td>\n      <td>1390</td>\n      <td>4</td>\n      <td>1</td>\n      <td>1</td>\n      <td>1</td>\n      <td>1</td>\n      <td>1</td>\n      <td>1</td>\n      <td>1</td>\n      <td>22</td>\n      <td>283</td>\n      <td>19929</td>\n      <td>3174</td>\n      <td>6864</td>\n    </tr>\n    <tr>\n      <th>1</th>\n      <td>24</td>\n      <td>206</td>\n      <td>3943</td>\n      <td>1960</td>\n      <td>1142</td>\n      <td>4</td>\n      <td>1</td>\n      <td>1</td>\n      <td>1</td>\n      <td>1</td>\n      <td>1</td>\n      <td>1</td>\n      <td>1</td>\n      <td>62</td>\n      <td>822</td>\n      <td>57888</td>\n      <td>9218</td>\n      <td>19936</td>\n    </tr>\n    <tr>\n      <th>2</th>\n      <td>67</td>\n      <td>590</td>\n      <td>11315</td>\n      <td>5623</td>\n      <td>3275</td>\n      <td>10</td>\n      <td>2</td>\n      <td>1</td>\n      <td>1</td>\n      <td>1</td>\n      <td>1</td>\n      <td>1</td>\n      <td>1</td>\n      <td>4</td>\n      <td>41</td>\n      <td>2847</td>\n      <td>454</td>\n      <td>981</td>\n    </tr>\n    <tr>\n      <th>3</th>\n      <td>7</td>\n      <td>54</td>\n      <td>1029</td>\n      <td>512</td>\n      <td>298</td>\n      <td>1</td>\n      <td>1</td>\n      <td>1</td>\n      <td>1</td>\n      <td>1</td>\n      <td>1</td>\n      <td>1</td>\n      <td>1</td>\n      <td>6</td>\n      <td>68</td>\n      <td>4745</td>\n      <td>756</td>\n      <td>1635</td>\n    </tr>\n    <tr>\n      <th>4</th>\n      <td>5</td>\n      <td>36</td>\n      <td>686</td>\n      <td>341</td>\n      <td>199</td>\n      <td>1</td>\n      <td>1</td>\n      <td>1</td>\n      <td>1</td>\n      <td>1</td>\n      <td>1</td>\n      <td>1</td>\n      <td>1</td>\n      <td>40</td>\n      <td>526</td>\n      <td>37011</td>\n      <td>5894</td>\n      <td>12746</td>\n    </tr>\n    <tr>\n      <th>...</th>\n      <td>...</td>\n      <td>...</td>\n      <td>...</td>\n      <td>...</td>\n      <td>...</td>\n      <td>...</td>\n      <td>...</td>\n      <td>...</td>\n      <td>...</td>\n      <td>...</td>\n      <td>...</td>\n      <td>...</td>\n      <td>...</td>\n      <td>...</td>\n      <td>...</td>\n      <td>...</td>\n      <td>...</td>\n      <td>...</td>\n    </tr>\n    <tr>\n      <th>995</th>\n      <td>5</td>\n      <td>36</td>\n      <td>686</td>\n      <td>341</td>\n      <td>199</td>\n      <td>1</td>\n      <td>1</td>\n      <td>1</td>\n      <td>1</td>\n      <td>1</td>\n      <td>1</td>\n      <td>1</td>\n      <td>1</td>\n      <td>8</td>\n      <td>95</td>\n      <td>6643</td>\n      <td>1058</td>\n      <td>2288</td>\n    </tr>\n    <tr>\n      <th>996</th>\n      <td>25</td>\n      <td>215</td>\n      <td>4115</td>\n      <td>2045</td>\n      <td>1191</td>\n      <td>4</td>\n      <td>1</td>\n      <td>1</td>\n      <td>1</td>\n      <td>1</td>\n      <td>1</td>\n      <td>1</td>\n      <td>1</td>\n      <td>37</td>\n      <td>485</td>\n      <td>34164</td>\n      <td>5440</td>\n      <td>11766</td>\n    </tr>\n    <tr>\n      <th>997</th>\n      <td>9</td>\n      <td>72</td>\n      <td>1372</td>\n      <td>682</td>\n      <td>397</td>\n      <td>2</td>\n      <td>1</td>\n      <td>1</td>\n      <td>1</td>\n      <td>1</td>\n      <td>1</td>\n      <td>1</td>\n      <td>1</td>\n      <td>35</td>\n      <td>458</td>\n      <td>32266</td>\n      <td>5138</td>\n      <td>11112</td>\n    </tr>\n    <tr>\n      <th>998</th>\n      <td>4</td>\n      <td>27</td>\n      <td>515</td>\n      <td>256</td>\n      <td>149</td>\n      <td>1</td>\n      <td>1</td>\n      <td>1</td>\n      <td>1</td>\n      <td>1</td>\n      <td>1</td>\n      <td>1</td>\n      <td>1</td>\n      <td>7</td>\n      <td>81</td>\n      <td>5694</td>\n      <td>907</td>\n      <td>1961</td>\n    </tr>\n    <tr>\n      <th>999</th>\n      <td>23</td>\n      <td>197</td>\n      <td>3772</td>\n      <td>1875</td>\n      <td>1092</td>\n      <td>4</td>\n      <td>1</td>\n      <td>1</td>\n      <td>1</td>\n      <td>1</td>\n      <td>1</td>\n      <td>1</td>\n      <td>1</td>\n      <td>6</td>\n      <td>68</td>\n      <td>4745</td>\n      <td>756</td>\n      <td>1635</td>\n    </tr>\n  </tbody>\n</table>\n<p>1000 rows × 18 columns</p>\n</div>"
     },
     "execution_count": 4,
     "metadata": {},
     "output_type": "execute_result"
    }
   ],
   "source": [
    "import merlin_models.tf as ml\n",
    "from merlin_models.data import SyntheticDataset\n",
    "\n",
    "ecommerce_data = SyntheticDataset.create_ecommerce_data()\n",
    "\n",
    "df = ecommerce_data.dataframe()\n",
    "df"
   ]
  },
  {
   "cell_type": "code",
   "execution_count": 9,
   "outputs": [
    {
     "ename": "ValueError",
     "evalue": "You tried to call `count_params` on parallel_block_4, but the layer isn't built. You can build it manually via: `parallel_block_4.build(batch_input_shape)`.",
     "output_type": "error",
     "traceback": [
      "\u001B[0;31m---------------------------------------------------------------------------\u001B[0m",
      "\u001B[0;31mValueError\u001B[0m                                Traceback (most recent call last)",
      "\u001B[0;32m/tmp/ipykernel_56701/1043042426.py\u001B[0m in \u001B[0;36m<module>\u001B[0;34m\u001B[0m\n\u001B[1;32m      3\u001B[0m \u001B[0;34m\u001B[0m\u001B[0m\n\u001B[1;32m      4\u001B[0m \u001B[0;34m\u001B[0m\u001B[0m\n\u001B[0;32m----> 5\u001B[0;31m \u001B[0mparams\u001B[0m \u001B[0;34m=\u001B[0m \u001B[0mbody\u001B[0m\u001B[0;34m.\u001B[0m\u001B[0mcount_params\u001B[0m\u001B[0;34m(\u001B[0m\u001B[0;34m)\u001B[0m\u001B[0;34m\u001B[0m\u001B[0;34m\u001B[0m\u001B[0m\n\u001B[0m\u001B[1;32m      6\u001B[0m \u001B[0;34m\u001B[0m\u001B[0m\n",
      "\u001B[0;32m~/anaconda3/envs/merlin/lib/python3.8/site-packages/keras/engine/base_layer.py\u001B[0m in \u001B[0;36mcount_params\u001B[0;34m(self)\u001B[0m\n\u001B[1;32m   2145\u001B[0m           \u001B[0mself\u001B[0m\u001B[0;34m.\u001B[0m\u001B[0m_maybe_build\u001B[0m\u001B[0;34m(\u001B[0m\u001B[0mself\u001B[0m\u001B[0;34m.\u001B[0m\u001B[0minputs\u001B[0m\u001B[0;34m)\u001B[0m\u001B[0;34m\u001B[0m\u001B[0;34m\u001B[0m\u001B[0m\n\u001B[1;32m   2146\u001B[0m       \u001B[0;32melse\u001B[0m\u001B[0;34m:\u001B[0m\u001B[0;34m\u001B[0m\u001B[0;34m\u001B[0m\u001B[0m\n\u001B[0;32m-> 2147\u001B[0;31m         raise ValueError('You tried to call `count_params` on ' + self.name +\n\u001B[0m\u001B[1;32m   2148\u001B[0m                          \u001B[0;34m', but the layer isn\\'t built. '\u001B[0m\u001B[0;34m\u001B[0m\u001B[0;34m\u001B[0m\u001B[0m\n\u001B[1;32m   2149\u001B[0m                          \u001B[0;34m'You can build it manually via: `'\u001B[0m \u001B[0;34m+\u001B[0m \u001B[0mself\u001B[0m\u001B[0;34m.\u001B[0m\u001B[0mname\u001B[0m \u001B[0;34m+\u001B[0m\u001B[0;34m\u001B[0m\u001B[0;34m\u001B[0m\u001B[0m\n",
      "\u001B[0;31mValueError\u001B[0m: You tried to call `count_params` on parallel_block_4, but the layer isn't built. You can build it manually via: `parallel_block_4.build(batch_input_shape)`."
     ]
    }
   ],
   "source": [
    "# Retrieval\n",
    "body = ml.TwoTowerBlock(ecommerce_data.schema, query_tower=ml.MLPBlock([512, 256]))\n",
    "\n",
    "\n",
    "params = body.count_params()"
   ],
   "metadata": {
    "collapsed": false,
    "pycharm": {
     "name": "#%%\n"
    }
   }
  },
  {
   "cell_type": "code",
   "execution_count": null,
   "outputs": [],
   "source": [
    "# data = music_streaming.generate_interactions(num_rows=1000)\n",
    "\n",
    "dataset = ecommerce_data.get_tf_dataloader()\n",
    "\n",
    "for i in dataset:\n",
    "    print(i)\n",
    "    break\n",
    "\n",
    "\n",
    "a = 5"
   ],
   "metadata": {
    "collapsed": false,
    "pycharm": {
     "name": "#%%\n"
    }
   }
  },
  {
   "cell_type": "code",
   "execution_count": null,
   "outputs": [],
   "source": [
    "\n"
   ],
   "metadata": {
    "collapsed": false,
    "pycharm": {
     "name": "#%%\n"
    }
   }
  }
 ],
 "metadata": {
  "kernelspec": {
   "display_name": "Python 3",
   "language": "python",
   "name": "python3"
  },
  "language_info": {
   "codemirror_mode": {
    "name": "ipython",
    "version": 2
   },
   "file_extension": ".py",
   "mimetype": "text/x-python",
   "name": "python",
   "nbconvert_exporter": "python",
   "pygments_lexer": "ipython2",
   "version": "2.7.6"
  }
 },
 "nbformat": 4,
 "nbformat_minor": 0
}