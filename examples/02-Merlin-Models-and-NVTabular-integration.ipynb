{
 "cells": [
  {
   "cell_type": "code",
   "execution_count": 1,
   "id": "50385353",
   "metadata": {},
   "outputs": [],
   "source": [
    "# Copyright 2022 NVIDIA Corporation. All Rights Reserved.\n",
    "#\n",
    "# Licensed under the Apache License, Version 2.0 (the \"License\");\n",
    "# you may not use this file except in compliance with the License.\n",
    "# You may obtain a copy of the License at\n",
    "#\n",
    "#     http://www.apache.org/licenses/LICENSE-2.0\n",
    "#\n",
    "# Unless required by applicable law or agreed to in writing, software\n",
    "# distributed under the License is distributed on an \"AS IS\" BASIS,\n",
    "# WITHOUT WARRANTIES OR CONDITIONS OF ANY KIND, either express or implied.\n",
    "# See the License for the specific language governing permissions and\n",
    "# limitations under the License.\n",
    "# ==============================================================================\n",
    "\n",
    "# Each user is responsible for checking the content of datasets and the\n",
    "# applicable licenses and determining if suitable for the intended use."
   ]
  },
  {
   "cell_type": "markdown",
   "id": "5f459bc8",
   "metadata": {},
   "source": [
    "<img src=\"https://developer.download.nvidia.com/notebooks/dlsw-notebooks/merlin_models_02-merlin-models-and-nvtabular-integration/nvidia_logo.png\" style=\"width: 90px; float: right;\">\n",
    "\n",
    "# From ETL to Training RecSys models - NVTabular and Merlin Models integrated example\n",
    "\n",
    "This notebook is created using the latest stable [merlin-tensorflow](https://catalog.ngc.nvidia.com/orgs/nvidia/teams/merlin/containers/merlin-tensorflow/tags) container. \n",
    "\n",
    "## Overview\n",
    "\n",
    "In [01-Getting-started.ipynb](01-Getting-started.ipynb), we provide a getting started example to train a DLRM model on the MovieLens 1M dataset. In this notebook, we will explore how Merlin Models uses the ETL output from [NVTabular](https://github.com/NVIDIA-Merlin/NVTabular/).<br><br>\n",
    "\n",
    "### Learning objectives\n",
    "\n",
    "This notebook provides details on how NVTabular and Merlin Models are linked together. We will discuss the concept of the `schema` file.\n",
    "\n",
    "## Merlin\n",
    "\n",
    "[Merlin](https://developer.nvidia.com/nvidia-merlin) is an open-source framework for building large-scale (deep learning) recommender systems. It is designed to support recommender systems end-to-end from ETL to training to deployment on CPU or GPU. Common deep learning frameworks are integrated such as TensorFlow (and PyTorch in the future). Among its key benefits are the easy-to-use and flexible APIs, availability of popular recsys architectures, accelerated training and evaluation with GPU and scaling to multi-GPU or multi-node systems.\n",
    "\n",
    "Merlin Models and NVTabular are components of Merlin. They are designed to work closely together. \n",
    "\n",
    "[Merlin Models](https://github.com/NVIDIA-Merlin/models/) is a library to make it easy for users in industry or academia to train and deploy recommender models with best practices baked into the library. Data Scientists and ML Engineers can easily train standard and state-of-the art models on their own dataset, getting high performance GPU accelerated models into production. Researchers can build custom models by incorporating standard components of deep learning recommender models and benchmark their new models on example offline datasets.\n",
    "\n",
    "[NVTabular](https://github.com/NVIDIA-Merlin/NVTabular/) is a feature engineering and preprocessing library for tabular data that is designed to easily manipulate terabyte scale datasets and train deep learning (DL) based recommender systems. It provides high-level abstraction to simplify code and accelerates computation on the GPU using the RAPIDS Dask-cuDF library under the hood.\n",
    "\n",
    "## Integration of NVTabular and Merlin Models\n",
    "\n",
    "<img src=\"images/schema.png\">\n",
    "\n",
    "In this notebook, we focus on an important piece of an ML pipeline: feature engineering and model training.\n",
    "\n",
    "If you use NVTabular for feature engineering, NVTabular will output (in addition to the preprocessed parquet files), a **schema** file describing the dataset structures. The schema contains columns statistics, tags and metadata collected by NVTabular. Here are some examples of such metadata computed by some NVTabular preprocessing ops:\n",
    "\n",
    "- **Categorify:** This op transforms categorical columns into contiguous integers (`0, ..., |C|`) for embedding layers. The columns that are processed by this op have save in the schema its cardinality `|C|` and are also tagged as **CATEGORICAL**.\n",
    "- **Normalize**: This op applies standardization to normalize continuous features. The mean and stddev of the columns are saved to the schema, also being tagged as **CONTINUOUS**.\n",
    "\n",
    "The users can also define their own tags in the preprocessing pipeline to group together related features, for further modeling purposes.\n",
    "\n",
    "**Let's take a look on the MovieLens 1M example.**"
   ]
  },
  {
   "cell_type": "code",
   "execution_count": 2,
   "id": "157fe18f",
   "metadata": {},
   "outputs": [
    {
     "name": "stderr",
     "output_type": "stream",
     "text": [
      "2022-10-19 16:27:55.626510: I tensorflow/core/util/util.cc:169] oneDNN custom operations are on. You may see slightly different numerical results due to floating-point round-off errors from different computation orders. To turn them off, set the environment variable `TF_ENABLE_ONEDNN_OPTS=0`.\n",
      "2022-10-19 16:27:57.186621: W tensorflow/stream_executor/platform/default/dso_loader.cc:64] Could not load dynamic library 'libcudnn.so.8'; dlerror: libcudnn.so.8: cannot open shared object file: No such file or directory\n",
      "2022-10-19 16:27:57.186648: W tensorflow/core/common_runtime/gpu/gpu_device.cc:1850] Cannot dlopen some GPU libraries. Please make sure the missing libraries mentioned above are installed properly if you would like to use GPU. Follow the guide at https://www.tensorflow.org/install/gpu for how to download and setup the required libraries for your platform.\n",
      "Skipping registering GPU devices...\n",
      "2022-10-19 16:27:57.226145: I tensorflow/core/platform/cpu_feature_guard.cc:193] This TensorFlow binary is optimized with oneAPI Deep Neural Network Library (oneDNN) to use the following CPU instructions in performance-critical operations:  AVX2 AVX512F AVX512_VNNI FMA\n",
      "To enable them in other operations, rebuild TensorFlow with the appropriate compiler flags.\n"
     ]
    }
   ],
   "source": [
    "import os\n",
    "import pandas as pd\n",
    "import nvtabular as nvt\n",
    "from merlin.models.utils.example_utils import workflow_fit_transform\n",
    "import merlin.io\n",
    "\n",
    "import merlin.models.tf as mm\n",
    "\n",
    "from nvtabular import ops\n",
    "from merlin.core.utils import download_file\n",
    "from merlin.datasets.entertainment import get_movielens\n",
    "from merlin.schema.tags import Tags"
   ]
  },
  {
   "cell_type": "markdown",
   "id": "382da96f",
   "metadata": {},
   "source": [
    "We will use the utils function to download, extract and preprocess the dataset."
   ]
  },
  {
   "cell_type": "code",
   "execution_count": 3,
   "id": "65ac055e",
   "metadata": {},
   "outputs": [
    {
     "name": "stderr",
     "output_type": "stream",
     "text": [
      "/home/alaiacano/.pyenv/versions/3.8.10/envs/merlin38/lib/python3.8/site-packages/merlin/io/dataset.py:251: UserWarning: Initializing an NVTabular Dataset in CPU mode.This is an experimental feature with extremely limited support!\n",
      "  warnings.warn(\n",
      "/home/alaiacano/.pyenv/versions/3.8.10/envs/merlin38/lib/python3.8/site-packages/merlin/schema/tags.py:148: UserWarning: Compound tags like Tags.USER_ID have been deprecated and will be removed in a future version. Please use the atomic versions of these tags, like [<Tags.USER: 'user'>, <Tags.ID: 'id'>].\n",
      "  warnings.warn(\n",
      "/home/alaiacano/.pyenv/versions/3.8.10/envs/merlin38/lib/python3.8/site-packages/merlin/schema/tags.py:148: UserWarning: Compound tags like Tags.ITEM_ID have been deprecated and will be removed in a future version. Please use the atomic versions of these tags, like [<Tags.ITEM: 'item'>, <Tags.ID: 'id'>].\n",
      "  warnings.warn(\n"
     ]
    }
   ],
   "source": [
    "input_path = os.environ.get(\"INPUT_DATA_DIR\", os.path.expanduser(\"~/merlin-models-data/movielens/\"))\n",
    "train, valid = get_movielens(variant=\"ml-1m\", path=input_path)"
   ]
  },
  {
   "cell_type": "markdown",
   "id": "01329e9e",
   "metadata": {},
   "source": [
    "P.s. You can also choose to generate synthetic data to test your models using `generate_data()`. The `input` argument can be either the name of one of the supported public datasets (e.g. \"movielens-1m\", \"criteo\") or the schema of a dataset (which is explained next). For example:\n",
    "\n",
    "```python\n",
    "from merlin.datasets.synthetic import generate_data\n",
    "train, valid = generate_data(input=\"movielens-1m\", num_rows=1000000, set_sizes=(0.8, 0.2))\n",
    "```"
   ]
  },
  {
   "cell_type": "markdown",
   "id": "24d956e4",
   "metadata": {},
   "source": [
    "## Understanding the Schema File and Structure"
   ]
  },
  {
   "cell_type": "markdown",
   "id": "5d9ba7f9",
   "metadata": {},
   "source": [
    "When NVTabular process the data, it will persist the schema as a file to disk. You can access the `schema` from the Merlin `Dataset` class (like below)."
   ]
  },
  {
   "cell_type": "markdown",
   "id": "16ceb1c9",
   "metadata": {},
   "source": [
    "The `schema` can be interpreted as a list of features in the dataset, where each element describes metadata of the feature. It contains the name, some properties (e.g. statistics) depending on the feature type and multiple tags. "
   ]
  },
  {
   "cell_type": "code",
   "execution_count": 4,
   "id": "b3bd70c3",
   "metadata": {},
   "outputs": [
    {
     "data": {
      "text/html": [
       "<div>\n",
       "<style scoped>\n",
       "    .dataframe tbody tr th:only-of-type {\n",
       "        vertical-align: middle;\n",
       "    }\n",
       "\n",
       "    .dataframe tbody tr th {\n",
       "        vertical-align: top;\n",
       "    }\n",
       "\n",
       "    .dataframe thead th {\n",
       "        text-align: right;\n",
       "    }\n",
       "</style>\n",
       "<table border=\"1\" class=\"dataframe\">\n",
       "  <thead>\n",
       "    <tr style=\"text-align: right;\">\n",
       "      <th></th>\n",
       "      <th>name</th>\n",
       "      <th>tags</th>\n",
       "      <th>dtype</th>\n",
       "      <th>is_list</th>\n",
       "      <th>is_ragged</th>\n",
       "      <th>properties.freq_threshold</th>\n",
       "      <th>properties.max_size</th>\n",
       "      <th>properties.cat_path</th>\n",
       "      <th>properties.num_buckets</th>\n",
       "      <th>properties.start_index</th>\n",
       "      <th>properties.embedding_sizes.cardinality</th>\n",
       "      <th>properties.embedding_sizes.dimension</th>\n",
       "      <th>properties.domain.min</th>\n",
       "      <th>properties.domain.max</th>\n",
       "      <th>properties.value_count.min</th>\n",
       "      <th>properties.value_count.max</th>\n",
       "    </tr>\n",
       "  </thead>\n",
       "  <tbody>\n",
       "    <tr>\n",
       "      <th>0</th>\n",
       "      <td>userId</td>\n",
       "      <td>(Tags.CATEGORICAL, Tags.USER_ID, Tags.USER, Ta...</td>\n",
       "      <td>int32</td>\n",
       "      <td>False</td>\n",
       "      <td>False</td>\n",
       "      <td>0.0</td>\n",
       "      <td>0.0</td>\n",
       "      <td>.//categories/unique.userId.parquet</td>\n",
       "      <td>NaN</td>\n",
       "      <td>0.0</td>\n",
       "      <td>6041.0</td>\n",
       "      <td>210.0</td>\n",
       "      <td>0.0</td>\n",
       "      <td>6040.0</td>\n",
       "      <td>NaN</td>\n",
       "      <td>NaN</td>\n",
       "    </tr>\n",
       "    <tr>\n",
       "      <th>1</th>\n",
       "      <td>movieId</td>\n",
       "      <td>(Tags.ITEM_ID, Tags.CATEGORICAL, Tags.ITEM, Ta...</td>\n",
       "      <td>int32</td>\n",
       "      <td>False</td>\n",
       "      <td>False</td>\n",
       "      <td>0.0</td>\n",
       "      <td>0.0</td>\n",
       "      <td>.//categories/unique.movieId.parquet</td>\n",
       "      <td>NaN</td>\n",
       "      <td>0.0</td>\n",
       "      <td>3677.0</td>\n",
       "      <td>159.0</td>\n",
       "      <td>0.0</td>\n",
       "      <td>3676.0</td>\n",
       "      <td>NaN</td>\n",
       "      <td>NaN</td>\n",
       "    </tr>\n",
       "    <tr>\n",
       "      <th>2</th>\n",
       "      <td>title</td>\n",
       "      <td>(Tags.CATEGORICAL)</td>\n",
       "      <td>int32</td>\n",
       "      <td>False</td>\n",
       "      <td>False</td>\n",
       "      <td>0.0</td>\n",
       "      <td>0.0</td>\n",
       "      <td>.//categories/unique.title.parquet</td>\n",
       "      <td>NaN</td>\n",
       "      <td>0.0</td>\n",
       "      <td>3677.0</td>\n",
       "      <td>159.0</td>\n",
       "      <td>0.0</td>\n",
       "      <td>3676.0</td>\n",
       "      <td>NaN</td>\n",
       "      <td>NaN</td>\n",
       "    </tr>\n",
       "    <tr>\n",
       "      <th>3</th>\n",
       "      <td>genres</td>\n",
       "      <td>(Tags.CATEGORICAL, Tags.ITEM)</td>\n",
       "      <td>int32</td>\n",
       "      <td>True</td>\n",
       "      <td>True</td>\n",
       "      <td>0.0</td>\n",
       "      <td>0.0</td>\n",
       "      <td>.//categories/unique.genres.parquet</td>\n",
       "      <td>NaN</td>\n",
       "      <td>0.0</td>\n",
       "      <td>19.0</td>\n",
       "      <td>16.0</td>\n",
       "      <td>0.0</td>\n",
       "      <td>18.0</td>\n",
       "      <td>1.0</td>\n",
       "      <td>6.0</td>\n",
       "    </tr>\n",
       "    <tr>\n",
       "      <th>4</th>\n",
       "      <td>gender</td>\n",
       "      <td>(Tags.CATEGORICAL)</td>\n",
       "      <td>int32</td>\n",
       "      <td>False</td>\n",
       "      <td>False</td>\n",
       "      <td>0.0</td>\n",
       "      <td>0.0</td>\n",
       "      <td>.//categories/unique.gender.parquet</td>\n",
       "      <td>NaN</td>\n",
       "      <td>0.0</td>\n",
       "      <td>3.0</td>\n",
       "      <td>16.0</td>\n",
       "      <td>0.0</td>\n",
       "      <td>2.0</td>\n",
       "      <td>NaN</td>\n",
       "      <td>NaN</td>\n",
       "    </tr>\n",
       "    <tr>\n",
       "      <th>5</th>\n",
       "      <td>age</td>\n",
       "      <td>(Tags.CATEGORICAL)</td>\n",
       "      <td>int32</td>\n",
       "      <td>False</td>\n",
       "      <td>False</td>\n",
       "      <td>0.0</td>\n",
       "      <td>0.0</td>\n",
       "      <td>.//categories/unique.age.parquet</td>\n",
       "      <td>NaN</td>\n",
       "      <td>0.0</td>\n",
       "      <td>8.0</td>\n",
       "      <td>16.0</td>\n",
       "      <td>0.0</td>\n",
       "      <td>7.0</td>\n",
       "      <td>NaN</td>\n",
       "      <td>NaN</td>\n",
       "    </tr>\n",
       "    <tr>\n",
       "      <th>6</th>\n",
       "      <td>occupation</td>\n",
       "      <td>(Tags.CATEGORICAL)</td>\n",
       "      <td>int32</td>\n",
       "      <td>False</td>\n",
       "      <td>False</td>\n",
       "      <td>0.0</td>\n",
       "      <td>0.0</td>\n",
       "      <td>.//categories/unique.occupation.parquet</td>\n",
       "      <td>NaN</td>\n",
       "      <td>0.0</td>\n",
       "      <td>22.0</td>\n",
       "      <td>16.0</td>\n",
       "      <td>0.0</td>\n",
       "      <td>21.0</td>\n",
       "      <td>NaN</td>\n",
       "      <td>NaN</td>\n",
       "    </tr>\n",
       "    <tr>\n",
       "      <th>7</th>\n",
       "      <td>zipcode</td>\n",
       "      <td>(Tags.CATEGORICAL)</td>\n",
       "      <td>int32</td>\n",
       "      <td>False</td>\n",
       "      <td>False</td>\n",
       "      <td>0.0</td>\n",
       "      <td>0.0</td>\n",
       "      <td>.//categories/unique.zipcode.parquet</td>\n",
       "      <td>NaN</td>\n",
       "      <td>0.0</td>\n",
       "      <td>3440.0</td>\n",
       "      <td>153.0</td>\n",
       "      <td>0.0</td>\n",
       "      <td>3439.0</td>\n",
       "      <td>NaN</td>\n",
       "      <td>NaN</td>\n",
       "    </tr>\n",
       "    <tr>\n",
       "      <th>8</th>\n",
       "      <td>TE_age_rating</td>\n",
       "      <td>(Tags.USER, Tags.CONTINUOUS)</td>\n",
       "      <td>float64</td>\n",
       "      <td>False</td>\n",
       "      <td>False</td>\n",
       "      <td>NaN</td>\n",
       "      <td>NaN</td>\n",
       "      <td>NaN</td>\n",
       "      <td>NaN</td>\n",
       "      <td>NaN</td>\n",
       "      <td>NaN</td>\n",
       "      <td>NaN</td>\n",
       "      <td>NaN</td>\n",
       "      <td>NaN</td>\n",
       "      <td>NaN</td>\n",
       "      <td>NaN</td>\n",
       "    </tr>\n",
       "    <tr>\n",
       "      <th>9</th>\n",
       "      <td>TE_gender_rating</td>\n",
       "      <td>(Tags.USER, Tags.CONTINUOUS)</td>\n",
       "      <td>float64</td>\n",
       "      <td>False</td>\n",
       "      <td>False</td>\n",
       "      <td>NaN</td>\n",
       "      <td>NaN</td>\n",
       "      <td>NaN</td>\n",
       "      <td>NaN</td>\n",
       "      <td>NaN</td>\n",
       "      <td>NaN</td>\n",
       "      <td>NaN</td>\n",
       "      <td>NaN</td>\n",
       "      <td>NaN</td>\n",
       "      <td>NaN</td>\n",
       "      <td>NaN</td>\n",
       "    </tr>\n",
       "    <tr>\n",
       "      <th>10</th>\n",
       "      <td>TE_occupation_rating</td>\n",
       "      <td>(Tags.USER, Tags.CONTINUOUS)</td>\n",
       "      <td>float64</td>\n",
       "      <td>False</td>\n",
       "      <td>False</td>\n",
       "      <td>NaN</td>\n",
       "      <td>NaN</td>\n",
       "      <td>NaN</td>\n",
       "      <td>NaN</td>\n",
       "      <td>NaN</td>\n",
       "      <td>NaN</td>\n",
       "      <td>NaN</td>\n",
       "      <td>NaN</td>\n",
       "      <td>NaN</td>\n",
       "      <td>NaN</td>\n",
       "      <td>NaN</td>\n",
       "    </tr>\n",
       "    <tr>\n",
       "      <th>11</th>\n",
       "      <td>TE_zipcode_rating</td>\n",
       "      <td>(Tags.USER, Tags.CONTINUOUS)</td>\n",
       "      <td>float64</td>\n",
       "      <td>False</td>\n",
       "      <td>False</td>\n",
       "      <td>NaN</td>\n",
       "      <td>NaN</td>\n",
       "      <td>NaN</td>\n",
       "      <td>NaN</td>\n",
       "      <td>NaN</td>\n",
       "      <td>NaN</td>\n",
       "      <td>NaN</td>\n",
       "      <td>NaN</td>\n",
       "      <td>NaN</td>\n",
       "      <td>NaN</td>\n",
       "      <td>NaN</td>\n",
       "    </tr>\n",
       "    <tr>\n",
       "      <th>12</th>\n",
       "      <td>TE_movieId_rating</td>\n",
       "      <td>(Tags.ITEM, Tags.CONTINUOUS)</td>\n",
       "      <td>float64</td>\n",
       "      <td>False</td>\n",
       "      <td>False</td>\n",
       "      <td>NaN</td>\n",
       "      <td>NaN</td>\n",
       "      <td>NaN</td>\n",
       "      <td>NaN</td>\n",
       "      <td>NaN</td>\n",
       "      <td>NaN</td>\n",
       "      <td>NaN</td>\n",
       "      <td>NaN</td>\n",
       "      <td>NaN</td>\n",
       "      <td>NaN</td>\n",
       "      <td>NaN</td>\n",
       "    </tr>\n",
       "    <tr>\n",
       "      <th>13</th>\n",
       "      <td>TE_userId_rating</td>\n",
       "      <td>(Tags.USER, Tags.CONTINUOUS)</td>\n",
       "      <td>float64</td>\n",
       "      <td>False</td>\n",
       "      <td>False</td>\n",
       "      <td>NaN</td>\n",
       "      <td>NaN</td>\n",
       "      <td>NaN</td>\n",
       "      <td>NaN</td>\n",
       "      <td>NaN</td>\n",
       "      <td>NaN</td>\n",
       "      <td>NaN</td>\n",
       "      <td>NaN</td>\n",
       "      <td>NaN</td>\n",
       "      <td>NaN</td>\n",
       "      <td>NaN</td>\n",
       "    </tr>\n",
       "    <tr>\n",
       "      <th>14</th>\n",
       "      <td>rating_binary</td>\n",
       "      <td>(Tags.BINARY_CLASSIFICATION, Tags.TARGET)</td>\n",
       "      <td>int32</td>\n",
       "      <td>False</td>\n",
       "      <td>False</td>\n",
       "      <td>NaN</td>\n",
       "      <td>NaN</td>\n",
       "      <td>NaN</td>\n",
       "      <td>NaN</td>\n",
       "      <td>NaN</td>\n",
       "      <td>NaN</td>\n",
       "      <td>NaN</td>\n",
       "      <td>NaN</td>\n",
       "      <td>NaN</td>\n",
       "      <td>NaN</td>\n",
       "      <td>NaN</td>\n",
       "    </tr>\n",
       "    <tr>\n",
       "      <th>15</th>\n",
       "      <td>rating</td>\n",
       "      <td>(Tags.REGRESSION, Tags.TARGET)</td>\n",
       "      <td>float32</td>\n",
       "      <td>False</td>\n",
       "      <td>False</td>\n",
       "      <td>NaN</td>\n",
       "      <td>NaN</td>\n",
       "      <td>NaN</td>\n",
       "      <td>NaN</td>\n",
       "      <td>NaN</td>\n",
       "      <td>NaN</td>\n",
       "      <td>NaN</td>\n",
       "      <td>NaN</td>\n",
       "      <td>NaN</td>\n",
       "      <td>NaN</td>\n",
       "      <td>NaN</td>\n",
       "    </tr>\n",
       "  </tbody>\n",
       "</table>\n",
       "</div>"
      ],
      "text/plain": [
       "[{'name': 'userId', 'tags': {<Tags.CATEGORICAL: 'categorical'>, <Tags.USER_ID: 'user_id'>, <Tags.USER: 'user'>, <Tags.ID: 'id'>}, 'properties': {'freq_threshold': 0.0, 'max_size': 0.0, 'cat_path': './/categories/unique.userId.parquet', 'num_buckets': None, 'start_index': 0.0, 'embedding_sizes': {'cardinality': 6041.0, 'dimension': 210.0}, 'domain': {'min': 0, 'max': 6040}}, 'dtype': dtype('int32'), 'is_list': False, 'is_ragged': False}, {'name': 'movieId', 'tags': {<Tags.ITEM_ID: 'item_id'>, <Tags.CATEGORICAL: 'categorical'>, <Tags.ITEM: 'item'>, <Tags.ID: 'id'>}, 'properties': {'cat_path': './/categories/unique.movieId.parquet', 'max_size': 0.0, 'embedding_sizes': {'dimension': 159.0, 'cardinality': 3677.0}, 'start_index': 0.0, 'num_buckets': None, 'freq_threshold': 0.0, 'domain': {'min': 0, 'max': 3676}}, 'dtype': dtype('int32'), 'is_list': False, 'is_ragged': False}, {'name': 'title', 'tags': {<Tags.CATEGORICAL: 'categorical'>}, 'properties': {'max_size': 0.0, 'start_index': 0.0, 'cat_path': './/categories/unique.title.parquet', 'num_buckets': None, 'freq_threshold': 0.0, 'embedding_sizes': {'cardinality': 3677.0, 'dimension': 159.0}, 'domain': {'min': 0, 'max': 3676}}, 'dtype': dtype('int32'), 'is_list': False, 'is_ragged': False}, {'name': 'genres', 'tags': {<Tags.CATEGORICAL: 'categorical'>, <Tags.ITEM: 'item'>}, 'properties': {'num_buckets': None, 'max_size': 0.0, 'cat_path': './/categories/unique.genres.parquet', 'embedding_sizes': {'cardinality': 19.0, 'dimension': 16.0}, 'start_index': 0.0, 'freq_threshold': 0.0, 'domain': {'min': 0, 'max': 18}, 'value_count': {'min': 1, 'max': 6}}, 'dtype': dtype('int32'), 'is_list': True, 'is_ragged': True}, {'name': 'gender', 'tags': {<Tags.CATEGORICAL: 'categorical'>}, 'properties': {'num_buckets': None, 'start_index': 0.0, 'cat_path': './/categories/unique.gender.parquet', 'max_size': 0.0, 'freq_threshold': 0.0, 'embedding_sizes': {'dimension': 16.0, 'cardinality': 3.0}, 'domain': {'min': 0, 'max': 2}}, 'dtype': dtype('int32'), 'is_list': False, 'is_ragged': False}, {'name': 'age', 'tags': {<Tags.CATEGORICAL: 'categorical'>}, 'properties': {'freq_threshold': 0.0, 'max_size': 0.0, 'embedding_sizes': {'dimension': 16.0, 'cardinality': 8.0}, 'cat_path': './/categories/unique.age.parquet', 'start_index': 0.0, 'num_buckets': None, 'domain': {'min': 0, 'max': 7}}, 'dtype': dtype('int32'), 'is_list': False, 'is_ragged': False}, {'name': 'occupation', 'tags': {<Tags.CATEGORICAL: 'categorical'>}, 'properties': {'start_index': 0.0, 'cat_path': './/categories/unique.occupation.parquet', 'num_buckets': None, 'max_size': 0.0, 'embedding_sizes': {'cardinality': 22.0, 'dimension': 16.0}, 'freq_threshold': 0.0, 'domain': {'min': 0, 'max': 21}}, 'dtype': dtype('int32'), 'is_list': False, 'is_ragged': False}, {'name': 'zipcode', 'tags': {<Tags.CATEGORICAL: 'categorical'>}, 'properties': {'embedding_sizes': {'dimension': 153.0, 'cardinality': 3440.0}, 'max_size': 0.0, 'cat_path': './/categories/unique.zipcode.parquet', 'start_index': 0.0, 'freq_threshold': 0.0, 'num_buckets': None, 'domain': {'min': 0, 'max': 3439}}, 'dtype': dtype('int32'), 'is_list': False, 'is_ragged': False}, {'name': 'TE_age_rating', 'tags': {<Tags.USER: 'user'>, <Tags.CONTINUOUS: 'continuous'>}, 'properties': {}, 'dtype': dtype('float64'), 'is_list': False, 'is_ragged': False}, {'name': 'TE_gender_rating', 'tags': {<Tags.USER: 'user'>, <Tags.CONTINUOUS: 'continuous'>}, 'properties': {}, 'dtype': dtype('float64'), 'is_list': False, 'is_ragged': False}, {'name': 'TE_occupation_rating', 'tags': {<Tags.USER: 'user'>, <Tags.CONTINUOUS: 'continuous'>}, 'properties': {}, 'dtype': dtype('float64'), 'is_list': False, 'is_ragged': False}, {'name': 'TE_zipcode_rating', 'tags': {<Tags.USER: 'user'>, <Tags.CONTINUOUS: 'continuous'>}, 'properties': {}, 'dtype': dtype('float64'), 'is_list': False, 'is_ragged': False}, {'name': 'TE_movieId_rating', 'tags': {<Tags.ITEM: 'item'>, <Tags.CONTINUOUS: 'continuous'>}, 'properties': {}, 'dtype': dtype('float64'), 'is_list': False, 'is_ragged': False}, {'name': 'TE_userId_rating', 'tags': {<Tags.USER: 'user'>, <Tags.CONTINUOUS: 'continuous'>}, 'properties': {}, 'dtype': dtype('float64'), 'is_list': False, 'is_ragged': False}, {'name': 'rating_binary', 'tags': {<Tags.BINARY_CLASSIFICATION: 'binary_classification'>, <Tags.TARGET: 'target'>}, 'properties': {}, 'dtype': dtype('int32'), 'is_list': False, 'is_ragged': False}, {'name': 'rating', 'tags': {<Tags.REGRESSION: 'regression'>, <Tags.TARGET: 'target'>}, 'properties': {}, 'dtype': dtype('float32'), 'is_list': False, 'is_ragged': False}]"
      ]
     },
     "execution_count": 4,
     "metadata": {},
     "output_type": "execute_result"
    }
   ],
   "source": [
    "train.schema"
   ]
  },
  {
   "cell_type": "markdown",
   "id": "61f74a04",
   "metadata": {},
   "source": [
    "We can select the features by **name**."
   ]
  },
  {
   "cell_type": "code",
   "execution_count": 5,
   "id": "9824190f",
   "metadata": {},
   "outputs": [
    {
     "data": {
      "text/html": [
       "<div>\n",
       "<style scoped>\n",
       "    .dataframe tbody tr th:only-of-type {\n",
       "        vertical-align: middle;\n",
       "    }\n",
       "\n",
       "    .dataframe tbody tr th {\n",
       "        vertical-align: top;\n",
       "    }\n",
       "\n",
       "    .dataframe thead th {\n",
       "        text-align: right;\n",
       "    }\n",
       "</style>\n",
       "<table border=\"1\" class=\"dataframe\">\n",
       "  <thead>\n",
       "    <tr style=\"text-align: right;\">\n",
       "      <th></th>\n",
       "      <th>name</th>\n",
       "      <th>tags</th>\n",
       "      <th>dtype</th>\n",
       "      <th>is_list</th>\n",
       "      <th>is_ragged</th>\n",
       "      <th>properties.freq_threshold</th>\n",
       "      <th>properties.max_size</th>\n",
       "      <th>properties.cat_path</th>\n",
       "      <th>properties.num_buckets</th>\n",
       "      <th>properties.start_index</th>\n",
       "      <th>properties.embedding_sizes.cardinality</th>\n",
       "      <th>properties.embedding_sizes.dimension</th>\n",
       "      <th>properties.domain.min</th>\n",
       "      <th>properties.domain.max</th>\n",
       "    </tr>\n",
       "  </thead>\n",
       "  <tbody>\n",
       "    <tr>\n",
       "      <th>0</th>\n",
       "      <td>userId</td>\n",
       "      <td>(Tags.CATEGORICAL, Tags.USER_ID, Tags.USER, Ta...</td>\n",
       "      <td>int32</td>\n",
       "      <td>False</td>\n",
       "      <td>False</td>\n",
       "      <td>0.0</td>\n",
       "      <td>0.0</td>\n",
       "      <td>.//categories/unique.userId.parquet</td>\n",
       "      <td>None</td>\n",
       "      <td>0.0</td>\n",
       "      <td>6041.0</td>\n",
       "      <td>210.0</td>\n",
       "      <td>0</td>\n",
       "      <td>6040</td>\n",
       "    </tr>\n",
       "  </tbody>\n",
       "</table>\n",
       "</div>"
      ],
      "text/plain": [
       "[{'name': 'userId', 'tags': {<Tags.CATEGORICAL: 'categorical'>, <Tags.USER_ID: 'user_id'>, <Tags.USER: 'user'>, <Tags.ID: 'id'>}, 'properties': {'freq_threshold': 0.0, 'max_size': 0.0, 'cat_path': './/categories/unique.userId.parquet', 'num_buckets': None, 'start_index': 0.0, 'embedding_sizes': {'cardinality': 6041.0, 'dimension': 210.0}, 'domain': {'min': 0, 'max': 6040}}, 'dtype': dtype('int32'), 'is_list': False, 'is_ragged': False}]"
      ]
     },
     "execution_count": 5,
     "metadata": {},
     "output_type": "execute_result"
    }
   ],
   "source": [
    "train.schema.select_by_name(\"userId\")"
   ]
  },
  {
   "cell_type": "markdown",
   "id": "7acc733d",
   "metadata": {},
   "source": [
    "We can also select features by **tags**. As we described earlier in the notebook, categorical and continuous features are automatically tagged when using ops like `Categorify()` and `Normalize()`.\n",
    "In our example preprocessing workflow for this dataset, we also set the `Tags` for the the `user` and `item` features, and also for the `user_id` and `item_id`, which are important for collaborative filtering architectures. "
   ]
  },
  {
   "cell_type": "markdown",
   "id": "8a9ece8e",
   "metadata": {},
   "source": [
    "Alternatively, we can select them by `Tag`. We add `column_names` to the object to receive only names without all the additional metadata."
   ]
  },
  {
   "cell_type": "code",
   "execution_count": 6,
   "id": "a6fc4e7e",
   "metadata": {},
   "outputs": [
    {
     "data": {
      "text/plain": [
       "['userId',\n",
       " 'movieId',\n",
       " 'title',\n",
       " 'genres',\n",
       " 'gender',\n",
       " 'age',\n",
       " 'occupation',\n",
       " 'zipcode']"
      ]
     },
     "execution_count": 6,
     "metadata": {},
     "output_type": "execute_result"
    }
   ],
   "source": [
    "# All categorical features\n",
    "train.schema.select_by_tag(Tags.CATEGORICAL).column_names"
   ]
  },
  {
   "cell_type": "code",
   "execution_count": 7,
   "id": "45ccda0c",
   "metadata": {},
   "outputs": [
    {
     "data": {
      "text/plain": [
       "['TE_age_rating',\n",
       " 'TE_gender_rating',\n",
       " 'TE_occupation_rating',\n",
       " 'TE_zipcode_rating',\n",
       " 'TE_movieId_rating',\n",
       " 'TE_userId_rating']"
      ]
     },
     "execution_count": 7,
     "metadata": {},
     "output_type": "execute_result"
    }
   ],
   "source": [
    "# All continuous features\n",
    "train.schema.select_by_tag(Tags.CONTINUOUS).column_names"
   ]
  },
  {
   "cell_type": "code",
   "execution_count": 8,
   "id": "2c3e7813",
   "metadata": {},
   "outputs": [
    {
     "data": {
      "text/plain": [
       "['rating_binary', 'rating']"
      ]
     },
     "execution_count": 8,
     "metadata": {},
     "output_type": "execute_result"
    }
   ],
   "source": [
    "# All targets\n",
    "train.schema.select_by_tag(Tags.TARGET).column_names"
   ]
  },
  {
   "cell_type": "code",
   "execution_count": 9,
   "id": "b1046b1f",
   "metadata": {},
   "outputs": [
    {
     "data": {
      "text/plain": [
       "['movieId', 'genres', 'TE_movieId_rating']"
      ]
     },
     "execution_count": 9,
     "metadata": {},
     "output_type": "execute_result"
    }
   ],
   "source": [
    "# All features related to the item\n",
    "train.schema.select_by_tag(Tags.ITEM).column_names"
   ]
  },
  {
   "cell_type": "code",
   "execution_count": 10,
   "id": "66e7559b",
   "metadata": {},
   "outputs": [
    {
     "data": {
      "text/plain": [
       "['movieId']"
      ]
     },
     "execution_count": 10,
     "metadata": {},
     "output_type": "execute_result"
    }
   ],
   "source": [
    "# The item id feature name\n",
    "train.schema.select_by_tag(Tags.ITEM_ID).column_names"
   ]
  },
  {
   "cell_type": "code",
   "execution_count": 11,
   "id": "2f0e26e9",
   "metadata": {},
   "outputs": [
    {
     "data": {
      "text/plain": [
       "['userId',\n",
       " 'TE_age_rating',\n",
       " 'TE_gender_rating',\n",
       " 'TE_occupation_rating',\n",
       " 'TE_zipcode_rating',\n",
       " 'TE_userId_rating']"
      ]
     },
     "execution_count": 11,
     "metadata": {},
     "output_type": "execute_result"
    }
   ],
   "source": [
    "# All features related to the user\n",
    "train.schema.select_by_tag(Tags.USER).column_names"
   ]
  },
  {
   "cell_type": "code",
   "execution_count": 12,
   "id": "e098f4c4",
   "metadata": {},
   "outputs": [
    {
     "data": {
      "text/plain": [
       "['userId']"
      ]
     },
     "execution_count": 12,
     "metadata": {},
     "output_type": "execute_result"
    }
   ],
   "source": [
    "# The user id feature name\n",
    "train.schema.select_by_tag(Tags.USER_ID).column_names"
   ]
  },
  {
   "cell_type": "markdown",
   "id": "e48dc304",
   "metadata": {},
   "source": [
    "We can also query all properties of a feature. Here we see that the cardinality (number of unique values) of the `movieId` feature is `3682`, which is an important information to build the corresponding embedding table."
   ]
  },
  {
   "cell_type": "code",
   "execution_count": 13,
   "id": "59f69c03",
   "metadata": {},
   "outputs": [
    {
     "data": {
      "text/html": [
       "<div>\n",
       "<style scoped>\n",
       "    .dataframe tbody tr th:only-of-type {\n",
       "        vertical-align: middle;\n",
       "    }\n",
       "\n",
       "    .dataframe tbody tr th {\n",
       "        vertical-align: top;\n",
       "    }\n",
       "\n",
       "    .dataframe thead th {\n",
       "        text-align: right;\n",
       "    }\n",
       "</style>\n",
       "<table border=\"1\" class=\"dataframe\">\n",
       "  <thead>\n",
       "    <tr style=\"text-align: right;\">\n",
       "      <th></th>\n",
       "      <th>name</th>\n",
       "      <th>tags</th>\n",
       "      <th>dtype</th>\n",
       "      <th>is_list</th>\n",
       "      <th>is_ragged</th>\n",
       "      <th>properties.cat_path</th>\n",
       "      <th>properties.max_size</th>\n",
       "      <th>properties.embedding_sizes.dimension</th>\n",
       "      <th>properties.embedding_sizes.cardinality</th>\n",
       "      <th>properties.start_index</th>\n",
       "      <th>properties.num_buckets</th>\n",
       "      <th>properties.freq_threshold</th>\n",
       "      <th>properties.domain.min</th>\n",
       "      <th>properties.domain.max</th>\n",
       "    </tr>\n",
       "  </thead>\n",
       "  <tbody>\n",
       "    <tr>\n",
       "      <th>0</th>\n",
       "      <td>movieId</td>\n",
       "      <td>(Tags.ITEM_ID, Tags.CATEGORICAL, Tags.ITEM, Ta...</td>\n",
       "      <td>int32</td>\n",
       "      <td>False</td>\n",
       "      <td>False</td>\n",
       "      <td>.//categories/unique.movieId.parquet</td>\n",
       "      <td>0.0</td>\n",
       "      <td>159.0</td>\n",
       "      <td>3677.0</td>\n",
       "      <td>0.0</td>\n",
       "      <td>None</td>\n",
       "      <td>0.0</td>\n",
       "      <td>0</td>\n",
       "      <td>3676</td>\n",
       "    </tr>\n",
       "  </tbody>\n",
       "</table>\n",
       "</div>"
      ],
      "text/plain": [
       "[{'name': 'movieId', 'tags': {<Tags.ITEM_ID: 'item_id'>, <Tags.CATEGORICAL: 'categorical'>, <Tags.ITEM: 'item'>, <Tags.ID: 'id'>}, 'properties': {'cat_path': './/categories/unique.movieId.parquet', 'max_size': 0.0, 'embedding_sizes': {'dimension': 159.0, 'cardinality': 3677.0}, 'start_index': 0.0, 'num_buckets': None, 'freq_threshold': 0.0, 'domain': {'min': 0, 'max': 3676}}, 'dtype': dtype('int32'), 'is_list': False, 'is_ragged': False}]"
      ]
     },
     "execution_count": 13,
     "metadata": {},
     "output_type": "execute_result"
    }
   ],
   "source": [
    "train.schema.select_by_tag(Tags.ITEM_ID)"
   ]
  },
  {
   "cell_type": "markdown",
   "id": "f361318c",
   "metadata": {},
   "source": [
    "The `schema` is a great interface between feature engineering and modeling libraries, describing the available features and their metadata/statistics. It makes it easy to build generic models definition, as the features names and types are automatically inferred from schema and represented properly in the neural networks architectures. That means that when the dataset changes (e.g. features are added or removed), you don't have to change the modeling code to leverage the new dataset!\n",
    "\n",
    "For example, the `DLRMModel` embeds categorical features and applies an MLP (called bottom MLP) to combine the continuous features. As another example, The `TwoTowerModel` (for retrieval) builds one MLP tower to combine user features and another MLP tower for the item features, factorizing both towers in the output."
   ]
  },
  {
   "cell_type": "markdown",
   "id": "1eaa0769",
   "metadata": {},
   "source": [
    "## Integrated pipeline with NVTabular and Merlin Models\n",
    "\n",
    "Now you have a solid understanding of the importance of the schema and how the schema works. \n",
    "\n",
    "The best way is to use [NVTabular](https://github.com/NVIDIA-Merlin/NVTabular/) for the feature engineering step, so that the schema file is automatically created for you. We will look on a minimal example for the MovieLens dataset."
   ]
  },
  {
   "cell_type": "markdown",
   "id": "cfa6e83c",
   "metadata": {},
   "source": [
    "### Download and prepare the data"
   ]
  },
  {
   "cell_type": "markdown",
   "id": "893b1e0b",
   "metadata": {},
   "source": [
    "We will download the dataset, if it is not already downloaded and cached locally."
   ]
  },
  {
   "cell_type": "code",
   "execution_count": 14,
   "id": "7588e8fd",
   "metadata": {},
   "outputs": [
    {
     "name": "stderr",
     "output_type": "stream",
     "text": [
      "unzipping files: 100%|██████████| 5/5 [00:00<00:00, 29.61files/s]\n"
     ]
    }
   ],
   "source": [
    "name = \"ml-1m\"\n",
    "download_file(\n",
    "    \"http://files.grouplens.org/datasets/movielens/ml-1m.zip\",\n",
    "    os.path.join(input_path, \"ml-1m.zip\"),\n",
    "    redownload=False,\n",
    ")"
   ]
  },
  {
   "cell_type": "markdown",
   "id": "c6070a68",
   "metadata": {},
   "source": [
    "We preprocess the dataset and split it into training and validation."
   ]
  },
  {
   "cell_type": "code",
   "execution_count": 15,
   "id": "2a324b56",
   "metadata": {},
   "outputs": [
    {
     "name": "stderr",
     "output_type": "stream",
     "text": [
      "/home/alaiacano/.pyenv/versions/3.8.10/envs/merlin38/lib/python3.8/site-packages/pandas/util/_decorators.py:311: ParserWarning: Falling back to the 'python' engine because the 'c' engine does not support regex separators (separators > 1 char and different from '\\s+' are interpreted as regex); you can avoid this warning by specifying engine='python'.\n",
      "  return func(*args, **kwargs)\n"
     ]
    }
   ],
   "source": [
    "ratings = pd.read_csv(\n",
    "    os.path.join(input_path, \"ml-1m/ratings.dat\"),\n",
    "    sep=\"::\",\n",
    "    names=[\"userId\", \"movieId\", \"rating\", \"timestamp\"],\n",
    ")\n",
    "# Shuffling rows\n",
    "ratings = ratings.sample(len(ratings), replace=False)\n",
    "\n",
    "num_valid = int(len(ratings) * 0.2)\n",
    "train = ratings[:-num_valid]\n",
    "valid = ratings[-num_valid:]\n",
    "train.to_parquet(os.path.join(input_path, name, \"train.parquet\"))\n",
    "valid.to_parquet(os.path.join(input_path, name, \"valid.parquet\"))"
   ]
  },
  {
   "cell_type": "markdown",
   "id": "58b8cca2",
   "metadata": {},
   "source": [
    "### Feature Engineering and Generating Schema File with NVTabular"
   ]
  },
  {
   "cell_type": "markdown",
   "id": "3356461f",
   "metadata": {},
   "source": [
    "We use NVTabular to define a preprocessing and feature engineering pipeline. \n",
    "\n",
    "NVTabular has already implemented multiple transformations, called `ops` that can be applied to a `ColumnGroup` from an overloaded `>>` operator.<br><br>\n",
    "**Example:**<br>\n",
    "```python\n",
    "features = [ column_name, ...] >> op1 >> op2 >> ...\n",
    "```\n",
    "\n",
    "We need to perform following steps:\n",
    "- Categorify userId and movieId, that the values are contiguous integers from 0 ... |C|\n",
    "- Transform the rating column ([1,5] interval) to a binary target by using as threshold the value `3`\n",
    "- Add Tags with `ops.AddMetadata` for `item_id`, `user_id`, `item`, `user` and `target`."
   ]
  },
  {
   "cell_type": "markdown",
   "id": "1de8ff5c",
   "metadata": {},
   "source": [
    "Categorify will transform categorical columns into contiguous integers (`0, ..., |C|`) for embedding layers. It collects the cardinality of the embedding table and tags it as categorical."
   ]
  },
  {
   "cell_type": "code",
   "execution_count": 16,
   "id": "d7ea1f71",
   "metadata": {},
   "outputs": [],
   "source": [
    "cat_features = [\"userId\", \"movieId\"] >> ops.Categorify(dtype=\"int32\", out_path=os.path.join(input_path, \"categories\"))"
   ]
  },
  {
   "cell_type": "markdown",
   "id": "6e3a2c63",
   "metadata": {},
   "source": [
    "The tags for `user`, `userId`, `item` and `itemId` cannot be inferred from the dataset. Therefore, we need to provide them manually during the NVTabular workflow. Actually, the `DLRMModel` does not differentiate between `user` and `item` features. But other architectures, such as the `TwoTowerModel` depends on the `user` and `item` features distinction. We will show how to tag features manually in a NVTabular workflow below. "
   ]
  },
  {
   "cell_type": "code",
   "execution_count": 17,
   "id": "565595ef",
   "metadata": {},
   "outputs": [],
   "source": [
    "feats_itemId = cat_features[\"movieId\"] >> ops.TagAsItemID()\n",
    "feats_userId = cat_features[\"userId\"] >> ops.TagAsUserID()\n",
    "feats_target = (\n",
    "    nvt.ColumnSelector([\"rating\"])\n",
    "    >> ops.LambdaOp(lambda col: (col > 3).astype(\"int32\"))\n",
    "    >> ops.AddTags([\"binary_classification\", \"target\"])\n",
    "    >> nvt.ops.Rename(name=\"rating_binary\")\n",
    ")\n",
    "output = feats_itemId + feats_userId + feats_target"
   ]
  },
  {
   "cell_type": "markdown",
   "id": "c13a384b",
   "metadata": {},
   "source": [
    "We fit the workflow to our train set and apply to the valid and test sets."
   ]
  },
  {
   "cell_type": "code",
   "execution_count": 18,
   "id": "e8881f3c",
   "metadata": {},
   "outputs": [
    {
     "name": "stderr",
     "output_type": "stream",
     "text": [
      "/home/alaiacano/.pyenv/versions/3.8.10/envs/merlin38/lib/python3.8/site-packages/merlin/io/dataset.py:251: UserWarning: Initializing an NVTabular Dataset in CPU mode.This is an experimental feature with extremely limited support!\n",
      "  warnings.warn(\n",
      "/home/alaiacano/.pyenv/versions/3.8.10/envs/merlin38/lib/python3.8/site-packages/merlin/schema/tags.py:148: UserWarning: Compound tags like Tags.ITEM_ID have been deprecated and will be removed in a future version. Please use the atomic versions of these tags, like [<Tags.ITEM: 'item'>, <Tags.ID: 'id'>].\n",
      "  warnings.warn(\n",
      "/home/alaiacano/.pyenv/versions/3.8.10/envs/merlin38/lib/python3.8/site-packages/merlin/schema/tags.py:148: UserWarning: Compound tags like Tags.USER_ID have been deprecated and will be removed in a future version. Please use the atomic versions of these tags, like [<Tags.USER: 'user'>, <Tags.ID: 'id'>].\n",
      "  warnings.warn(\n"
     ]
    },
    {
     "name": "stdout",
     "output_type": "stream",
     "text": [
      "CPU times: user 2.53 s, sys: 384 ms, total: 2.92 s\n",
      "Wall time: 2.73 s\n"
     ]
    }
   ],
   "source": [
    "%%time\n",
    "train_path = os.path.join(input_path, name, \"train.parquet\")\n",
    "valid_path = os.path.join(input_path, name, \"valid.parquet\")\n",
    "output_path = os.path.join(input_path, name + \"_integration\")\n",
    "\n",
    "workflow_fit_transform(output, train_path, valid_path, output_path)"
   ]
  },
  {
   "cell_type": "markdown",
   "id": "043c7bde",
   "metadata": {},
   "source": [
    "### Training a Recommender Model with Merlin Models"
   ]
  },
  {
   "cell_type": "markdown",
   "id": "13a09bb6",
   "metadata": {},
   "source": [
    "We can load the data as a Merlin Dataset object. The Dataset expect the schema as Protobuf text format (`.pbtxt`) file in the train/valid folder, which NVTabular automatically generates."
   ]
  },
  {
   "cell_type": "code",
   "execution_count": 19,
   "id": "e67f0b71",
   "metadata": {},
   "outputs": [],
   "source": [
    "train = merlin.io.Dataset(\n",
    "    os.path.join(input_path, name + \"_integration\", \"train\"), engine=\"parquet\"\n",
    ")\n",
    "valid = merlin.io.Dataset(\n",
    "    os.path.join(input_path, name + \"_integration\", \"valid\"), engine=\"parquet\"\n",
    ")"
   ]
  },
  {
   "cell_type": "markdown",
   "id": "3ee46b11",
   "metadata": {},
   "source": [
    "We can see that the `schema` object contains the features tags and the cardinalities of the categorical features.\n",
    "As we prepared only a minimal example, our schema has only tree features `movieId`, `userId` and `rating_binary`.|"
   ]
  },
  {
   "cell_type": "code",
   "execution_count": 20,
   "id": "f63da5d8",
   "metadata": {},
   "outputs": [
    {
     "data": {
      "text/plain": [
       "['movieId', 'userId', 'rating_binary']"
      ]
     },
     "execution_count": 20,
     "metadata": {},
     "output_type": "execute_result"
    }
   ],
   "source": [
    "train.schema.column_names"
   ]
  },
  {
   "cell_type": "code",
   "execution_count": 21,
   "id": "255f122a",
   "metadata": {},
   "outputs": [
    {
     "data": {
      "text/html": [
       "<div>\n",
       "<style scoped>\n",
       "    .dataframe tbody tr th:only-of-type {\n",
       "        vertical-align: middle;\n",
       "    }\n",
       "\n",
       "    .dataframe tbody tr th {\n",
       "        vertical-align: top;\n",
       "    }\n",
       "\n",
       "    .dataframe thead th {\n",
       "        text-align: right;\n",
       "    }\n",
       "</style>\n",
       "<table border=\"1\" class=\"dataframe\">\n",
       "  <thead>\n",
       "    <tr style=\"text-align: right;\">\n",
       "      <th></th>\n",
       "      <th>name</th>\n",
       "      <th>tags</th>\n",
       "      <th>dtype</th>\n",
       "      <th>is_list</th>\n",
       "      <th>is_ragged</th>\n",
       "      <th>properties.max_size</th>\n",
       "      <th>properties.embedding_sizes.cardinality</th>\n",
       "      <th>properties.embedding_sizes.dimension</th>\n",
       "      <th>properties.freq_threshold</th>\n",
       "      <th>properties.num_buckets</th>\n",
       "      <th>properties.start_index</th>\n",
       "      <th>properties.cat_path</th>\n",
       "      <th>properties.domain.min</th>\n",
       "      <th>properties.domain.max</th>\n",
       "    </tr>\n",
       "  </thead>\n",
       "  <tbody>\n",
       "    <tr>\n",
       "      <th>0</th>\n",
       "      <td>movieId</td>\n",
       "      <td>(Tags.CATEGORICAL, Tags.ITEM, Tags.ID, Tags.IT...</td>\n",
       "      <td>int32</td>\n",
       "      <td>False</td>\n",
       "      <td>False</td>\n",
       "      <td>0.0</td>\n",
       "      <td>3680.0</td>\n",
       "      <td>159.0</td>\n",
       "      <td>0.0</td>\n",
       "      <td>NaN</td>\n",
       "      <td>0.0</td>\n",
       "      <td>/tmp/pytest-of-alaiacano/pytest-2/test_example...</td>\n",
       "      <td>0.0</td>\n",
       "      <td>3679.0</td>\n",
       "    </tr>\n",
       "    <tr>\n",
       "      <th>1</th>\n",
       "      <td>userId</td>\n",
       "      <td>(Tags.CATEGORICAL, Tags.USER_ID, Tags.USER, Ta...</td>\n",
       "      <td>int32</td>\n",
       "      <td>False</td>\n",
       "      <td>False</td>\n",
       "      <td>0.0</td>\n",
       "      <td>6041.0</td>\n",
       "      <td>210.0</td>\n",
       "      <td>0.0</td>\n",
       "      <td>NaN</td>\n",
       "      <td>0.0</td>\n",
       "      <td>/tmp/pytest-of-alaiacano/pytest-2/test_example...</td>\n",
       "      <td>0.0</td>\n",
       "      <td>6040.0</td>\n",
       "    </tr>\n",
       "    <tr>\n",
       "      <th>2</th>\n",
       "      <td>rating_binary</td>\n",
       "      <td>(Tags.BINARY_CLASSIFICATION, Tags.TARGET)</td>\n",
       "      <td>int32</td>\n",
       "      <td>False</td>\n",
       "      <td>False</td>\n",
       "      <td>NaN</td>\n",
       "      <td>NaN</td>\n",
       "      <td>NaN</td>\n",
       "      <td>NaN</td>\n",
       "      <td>NaN</td>\n",
       "      <td>NaN</td>\n",
       "      <td>NaN</td>\n",
       "      <td>NaN</td>\n",
       "      <td>NaN</td>\n",
       "    </tr>\n",
       "  </tbody>\n",
       "</table>\n",
       "</div>"
      ],
      "text/plain": [
       "[{'name': 'movieId', 'tags': {<Tags.CATEGORICAL: 'categorical'>, <Tags.ITEM: 'item'>, <Tags.ID: 'id'>, <Tags.ITEM_ID: 'item_id'>}, 'properties': {'max_size': 0.0, 'embedding_sizes': {'cardinality': 3680.0, 'dimension': 159.0}, 'freq_threshold': 0.0, 'num_buckets': None, 'start_index': 0.0, 'cat_path': '/tmp/pytest-of-alaiacano/pytest-2/test_example_02_nvt_integratio0/categories/categories/unique.movieId.parquet', 'domain': {'min': 0, 'max': 3679}}, 'dtype': dtype('int32'), 'is_list': False, 'is_ragged': False}, {'name': 'userId', 'tags': {<Tags.CATEGORICAL: 'categorical'>, <Tags.USER_ID: 'user_id'>, <Tags.USER: 'user'>, <Tags.ID: 'id'>}, 'properties': {'start_index': 0.0, 'embedding_sizes': {'cardinality': 6041.0, 'dimension': 210.0}, 'max_size': 0.0, 'freq_threshold': 0.0, 'num_buckets': None, 'cat_path': '/tmp/pytest-of-alaiacano/pytest-2/test_example_02_nvt_integratio0/categories/categories/unique.userId.parquet', 'domain': {'min': 0, 'max': 6040}}, 'dtype': dtype('int32'), 'is_list': False, 'is_ragged': False}, {'name': 'rating_binary', 'tags': {<Tags.BINARY_CLASSIFICATION: 'binary_classification'>, <Tags.TARGET: 'target'>}, 'properties': {}, 'dtype': dtype('int32'), 'is_list': False, 'is_ragged': False}]"
      ]
     },
     "execution_count": 21,
     "metadata": {},
     "output_type": "execute_result"
    }
   ],
   "source": [
    "train.schema"
   ]
  },
  {
   "cell_type": "markdown",
   "id": "00fabd60",
   "metadata": {},
   "source": [
    "Here we train our model.  \n",
    "We use `BinaryOutput` because we want to train a binary classification task, and specify which column should be used as target. We could also have used `OutputBlock`, which automatically infers from schema which one target column is based on the tags. \n",
    "P.s. If there are multiple targets, `OutputBlock` would create a `ModelOutput` for each target column."
   ]
  },
  {
   "cell_type": "code",
   "execution_count": 22,
   "id": "aeda7ece",
   "metadata": {},
   "outputs": [
    {
     "name": "stdout",
     "output_type": "stream",
     "text": [
      "782/782 [==============================] - 11s 10ms/step - loss: 0.6152 - precision: 0.6412 - recall: 0.8850 - binary_accuracy: 0.6490 - auc: 0.6863 - regularization_loss: 0.0000e+00\n"
     ]
    },
    {
     "data": {
      "text/plain": [
       "<keras.callbacks.History at 0x7f202c4d4d60>"
      ]
     },
     "execution_count": 22,
     "metadata": {},
     "output_type": "execute_result"
    }
   ],
   "source": [
    "model = mm.DLRMModel(\n",
    "    train.schema,\n",
    "    embedding_dim=64,\n",
    "    bottom_block=mm.MLPBlock([128, 64]),\n",
    "    top_block=mm.MLPBlock([128, 64, 32]),\n",
    "    prediction_tasks=mm.BinaryOutput(\n",
    "        train.schema.select_by_tag(Tags.TARGET).column_names[0]\n",
    "    ),\n",
    ")\n",
    "\n",
    "model.compile(optimizer=\"adam\")\n",
    "model.fit(train, batch_size=1024)"
   ]
  },
  {
   "cell_type": "markdown",
   "id": "1e6295e4",
   "metadata": {},
   "source": [
    "Let's run the evaluation on validations set. We use by default typical binary classification metrics -- Precision, Recall, Accuracy and AUC. But you also can provide your own metrics list by setting `BinaryClassificationTask(..., metrics=[])`."
   ]
  },
  {
   "cell_type": "code",
   "execution_count": 23,
   "id": "54261d01",
   "metadata": {},
   "outputs": [
    {
     "name": "stdout",
     "output_type": "stream",
     "text": [
      "196/196 [==============================] - 2s 5ms/step - loss: 0.5430 - precision: 0.7248 - recall: 0.8316 - binary_accuracy: 0.7217 - auc: 0.7893 - regularization_loss: 0.0000e+00\n"
     ]
    }
   ],
   "source": [
    "metrics = model.evaluate(valid, batch_size=1024, return_dict=True)"
   ]
  },
  {
   "cell_type": "code",
   "execution_count": 24,
   "id": "c5d1f221",
   "metadata": {},
   "outputs": [
    {
     "data": {
      "text/plain": [
       "{'loss': 0.5429587364196777,\n",
       " 'precision': 0.7248351573944092,\n",
       " 'recall': 0.8315683603286743,\n",
       " 'binary_accuracy': 0.7216570377349854,\n",
       " 'auc': 0.789269208908081,\n",
       " 'regularization_loss': 0.0}"
      ]
     },
     "execution_count": 24,
     "metadata": {},
     "output_type": "execute_result"
    }
   ],
   "source": [
    "metrics"
   ]
  },
  {
   "cell_type": "markdown",
   "id": "36497b81",
   "metadata": {},
   "source": [
    "## Conclusion\n",
    "\n",
    "This example shows the easiness and flexilibity provided by the integration between NVTabular and Merlin Models.\n",
    "Feature engineering and model training are depending on each other. The `schema` object is a convient way to provide information from the available features for dynamically setting the model definition. It allows for the modeling code to capture changes in the available features and avoids hardcoding feature names.\n",
    "\n",
    "The dataset features are `tagged` automatically (and manually if needed) to group together features, for further modeling usage. \n",
    "\n",
    "The recommended practice is to use `NVTabular` for feature engineering, which generates a `schema` file. NVTabular can automatically add `Tags` for certrain operations. For example, the output of `Categorify` is always a categorical feature and will be tagged. Similar, the output of `Normalize` is always continuous. If you choose to use another preprocessing library, you can create the `schema` file manually, using either the Protobuf text format (`.pbtxt`) or `json` format.\n",
    "\n",
    "\n",
    "## Next Steps\n",
    "\n",
    "In the next notebooks, we will explore multiple ranking models with Merlin Models.\n",
    "\n",
    "You can learn more about NVTabular, its functionality and supported ops by visiting our [github repository](https://github.com/NVIDIA-Merlin/NVTabular/) or exploring the [examples](https://github.com/NVIDIA-Merlin/NVTabular/tree/main/examples), such as [`Getting Started MovieLens`](https://github.com/NVIDIA-Merlin/NVTabular/blob/main/examples/getting-started-movielens/02-ETL-with-NVTabular.ipynb) or [`Scaling Criteo`](https://github.com/NVIDIA-Merlin/NVTabular/tree/main/examples/scaling-criteo)."
   ]
  }
 ],
 "metadata": {
  "kernelspec": {
   "display_name": "Python 3 (ipykernel)",
   "language": "python",
   "name": "python3"
  },
  "language_info": {
   "codemirror_mode": {
    "name": "ipython",
    "version": 3
   },
   "file_extension": ".py",
   "mimetype": "text/x-python",
   "name": "python",
   "nbconvert_exporter": "python",
   "pygments_lexer": "ipython3",
   "version": "3.8.10"
  },
  "merlin": {
   "containers": [
    "nvcr.io/nvidia/merlin/merlin-tensorflow:latest"
   ]
  }
 },
 "nbformat": 4,
 "nbformat_minor": 5
}
