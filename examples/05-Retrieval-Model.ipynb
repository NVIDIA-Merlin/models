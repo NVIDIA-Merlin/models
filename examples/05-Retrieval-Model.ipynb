{
 "cells": [
  {
   "cell_type": "code",
   "execution_count": 1,
   "id": "63959d5a",
   "metadata": {
    "pycharm": {
     "name": "#%%\n"
    }
   },
   "outputs": [],
   "source": [
    "# Copyright 2021 NVIDIA Corporation. All Rights Reserved.\n",
    "#\n",
    "# Licensed under the Apache License, Version 2.0 (the \"License\");\n",
    "# you may not use this file except in compliance with the License.\n",
    "# You may obtain a copy of the License at\n",
    "#\n",
    "#     http://www.apache.org/licenses/LICENSE-2.0\n",
    "#\n",
    "# Unless required by applicable law or agreed to in writing, software\n",
    "# distributed under the License is distributed on an \"AS IS\" BASIS,\n",
    "# WITHOUT WARRANTIES OR CONDITIONS OF ANY KIND, either express or implied.\n",
    "# See the License for the specific language governing permissions and\n",
    "# limitations under the License.\n",
    "# ================================"
   ]
  },
  {
   "cell_type": "markdown",
   "id": "906fc19a",
   "metadata": {
    "pycharm": {
     "name": "#%% md\n"
    }
   },
   "source": [
    "<img src=\"https://developer.download.nvidia.com/notebooks/dlsw-notebooks/merlin_models_05-retrieval-model/nvidia_logo.png\" style=\"width: 90px; float: right;\">\n",
    "\n",
    "# Building a Retrieval Model with Merlin Models\n",
    "\n",
    "This notebook is created using the latest stable [merlin-tensorflow](https://catalog.ngc.nvidia.com/orgs/nvidia/teams/merlin/containers/merlin-tensorflow/tags) container. \n",
    "\n",
    "In large scale recommender systems pipelines, the size of the item catalog (number of unique items) might be in the order of millions. At such scale, a typical setup is having two-stage pipeline, where a faster candidate retrieval model quickly extracts thousands of relevant items and a then a more powerful ranking model (i.e. with more features and more powerful architecture) ranks the top-k items that are going to be displayed to the user. For ML-based candidate retrieval model, as it needs to quickly score millions of items for a given user, a popular choices are models that can produce recommendation scores by just computing the dot product the user embeddings and item embeddings. Popular choices of such models are **Matrix Factorization**, which learns low-rank user and item embeddings, and the **Two-Tower architecture**, which is a neural network with two MLP towers where both user and item features are fed to generate user and item embeddings in the output."
   ]
  },
  {
   "cell_type": "markdown",
   "id": "401daa6d",
   "metadata": {
    "pycharm": {
     "name": "#%% md\n"
    }
   },
   "source": [
    "\n",
    "### Dataset\n",
    "\n",
    "In this notebook, we are building a Two-Tower model for Item Retrieval task using synthetic datasets that are mimicking the real [Ali-CCP: Alibaba Click and Conversion Prediction](https://tianchi.aliyun.com/dataset/dataDetail?dataId=408#1) dataset.\n",
    "### Learning objectives\n",
    "- Preparing the data with NVTabular\n",
    "- Training and evaluating Two-Tower model with Merlin Models\n",
    "- Exporting the model for deployment\n",
    "- Generating the top K recommendations from the trained model"
   ]
  },
  {
   "cell_type": "markdown",
   "id": "cdac1fea",
   "metadata": {
    "pycharm": {
     "name": "#%% md\n"
    }
   },
   "source": [
    "### Importing Libraries"
   ]
  },
  {
   "cell_type": "code",
   "execution_count": 2,
   "id": "92aa8daa",
   "metadata": {
    "pycharm": {
     "name": "#%%\n"
    }
   },
   "outputs": [
    {
     "name": "stderr",
     "output_type": "stream",
     "text": [
      "/usr/lib/python3/dist-packages/requests/__init__.py:89: RequestsDependencyWarning: urllib3 (1.26.12) or chardet (3.0.4) doesn't match a supported version!\n",
      "  warnings.warn(\"urllib3 ({}) or chardet ({}) doesn't match a supported \"\n",
      "2022-11-29 18:57:44.192501: I tensorflow/core/platform/cpu_feature_guard.cc:194] This TensorFlow binary is optimized with oneAPI Deep Neural Network Library (oneDNN) to use the following CPU instructions in performance-critical operations:  SSE3 SSE4.1 SSE4.2 AVX\n",
      "To enable them in other operations, rebuild TensorFlow with the appropriate compiler flags.\n",
      "2022-11-29 18:57:45.381471: I tensorflow/core/common_runtime/gpu/gpu_device.cc:1532] Created device /job:localhost/replica:0/task:0/device:GPU:0 with 16254 MB memory:  -> device: 0, name: Quadro GV100, pci bus id: 0000:15:00.0, compute capability: 7.0\n",
      "/usr/local/lib/python3.8/dist-packages/tqdm/auto.py:22: TqdmWarning: IProgress not found. Please update jupyter and ipywidgets. See https://ipywidgets.readthedocs.io/en/stable/user_install.html\n",
      "  from .autonotebook import tqdm as notebook_tqdm\n"
     ]
    }
   ],
   "source": [
    "import os\n",
    "\n",
    "import nvtabular as nvt\n",
    "from nvtabular.ops import *\n",
    "from merlin.models.utils.example_utils import workflow_fit_transform\n",
    "\n",
    "from merlin.schema.tags import Tags\n",
    "\n",
    "import merlin.models.tf as mm\n",
    "from merlin.io.dataset import Dataset\n",
    "from merlin.models.utils.dataset import unique_rows_by_features\n",
    "\n",
    "import tensorflow as tf"
   ]
  },
  {
   "cell_type": "code",
   "execution_count": 3,
   "id": "126c8bb8",
   "metadata": {
    "pycharm": {
     "name": "#%%\n"
    }
   },
   "outputs": [],
   "source": [
    "# disable INFO and DEBUG logging everywhere\n",
    "import logging\n",
    "\n",
    "logging.disable(logging.WARNING)"
   ]
  },
  {
   "cell_type": "markdown",
   "id": "0ac0eef4",
   "metadata": {
    "pycharm": {
     "name": "#%% md\n"
    }
   },
   "source": [
    "### Feature Engineering with NVTabular"
   ]
  },
  {
   "cell_type": "markdown",
   "id": "d21e559b",
   "metadata": {
    "pycharm": {
     "name": "#%% md\n"
    }
   },
   "source": [
    "Let's generate synthetic train and validation dataset objects."
   ]
  },
  {
   "cell_type": "code",
   "execution_count": 4,
   "id": "870acd78",
   "metadata": {
    "pycharm": {
     "name": "#%%\n"
    }
   },
   "outputs": [
    {
     "name": "stderr",
     "output_type": "stream",
     "text": [
      "/usr/local/lib/python3.8/dist-packages/merlin/schema/tags.py:148: UserWarning: Compound tags like Tags.USER_ID have been deprecated and will be removed in a future version. Please use the atomic versions of these tags, like [<Tags.USER: 'user'>, <Tags.ID: 'id'>].\n",
      "  warnings.warn(\n",
      "/usr/local/lib/python3.8/dist-packages/merlin/schema/tags.py:148: UserWarning: Compound tags like Tags.ITEM_ID have been deprecated and will be removed in a future version. Please use the atomic versions of these tags, like [<Tags.ITEM: 'item'>, <Tags.ID: 'id'>].\n",
      "  warnings.warn(\n"
     ]
    }
   ],
   "source": [
    "from merlin.datasets.synthetic import generate_data\n",
    "\n",
    "DATA_FOLDER = os.environ.get(\"DATA_FOLDER\", \"/workspace/data/\")\n",
    "NUM_ROWS = os.environ.get(\"NUM_ROWS\", 1000000)\n",
    "SYNTHETIC_DATA = eval(os.environ.get(\"SYNTHETIC_DATA\", \"True\"))\n",
    "\n",
    "if SYNTHETIC_DATA:\n",
    "    train, valid = generate_data(\"aliccp-raw\", int(NUM_ROWS), set_sizes=(0.7, 0.3))\n",
    "else:\n",
    "    train = nvt.Dataset(DATA_FOLDER + \"/train/*.parquet\")\n",
    "    valid = nvt.Dataset(DATA_FOLDER + \"/valid/*.parquet\")"
   ]
  },
  {
   "cell_type": "code",
   "execution_count": 5,
   "id": "1dd757a3-2f93-495f-b2c5-5098c997d46e",
   "metadata": {},
   "outputs": [],
   "source": [
    "train = train.to_ddf().compute()\n",
    "valid = valid.to_ddf().compute()"
   ]
  },
  {
   "cell_type": "markdown",
   "id": "3f7b7387-7c6c-48c0-82d8-d39685f99e4c",
   "metadata": {},
   "source": [
    "We keep only positive interactions where clicks==1 in the dataset."
   ]
  },
  {
   "cell_type": "code",
   "execution_count": 6,
   "id": "4a0454c8-8eec-47cc-82e8-b45637b76d35",
   "metadata": {},
   "outputs": [],
   "source": [
    "train = train.loc[train['click']==1].reset_index(drop=True)\n",
    "valid = valid.loc[valid['click']==1].reset_index(drop=True)"
   ]
  },
  {
   "cell_type": "markdown",
   "id": "a1787e97-e7c2-4f2b-a728-6329b7d6a8c2",
   "metadata": {},
   "source": [
    "We can drop the target column since in this example we will only use positive interactions and then generate negative samples via negative sampling technique."
   ]
  },
  {
   "cell_type": "code",
   "execution_count": 7,
   "id": "202d150f-1a82-4001-b36b-8ef226222c52",
   "metadata": {},
   "outputs": [],
   "source": [
    "train = train.drop(['click', 'conversion'], axis=1)\n",
    "valid = valid.drop(['click', 'conversion'], axis=1)"
   ]
  },
  {
   "cell_type": "markdown",
   "id": "901b8e6d-0db4-4010-ac98-fbd2ec6a3b4b",
   "metadata": {},
   "source": [
    "Create Dataset objects"
   ]
  },
  {
   "cell_type": "code",
   "execution_count": 8,
   "id": "c6bd9c08-42c6-4aaa-9de5-494e0d5e8f0b",
   "metadata": {},
   "outputs": [],
   "source": [
    "train = Dataset(train)\n",
    "valid = Dataset(valid)"
   ]
  },
  {
   "cell_type": "markdown",
   "id": "ce4ef6b3-cb4c-4f8a-ad7d-b1a81ea4e1ec",
   "metadata": {},
   "source": [
    "Define output path for the processed parquet files"
   ]
  },
  {
   "cell_type": "code",
   "execution_count": 9,
   "id": "f23232bf-7822-498f-a036-23e44ef48e50",
   "metadata": {},
   "outputs": [],
   "source": [
    "output_path = os.path.join(DATA_FOLDER, \"processed\")"
   ]
  },
  {
   "cell_type": "code",
   "execution_count": 10,
   "id": "078593b4",
   "metadata": {
    "pycharm": {
     "name": "#%%\n"
    }
   },
   "outputs": [],
   "source": [
    "category_temp_directory = os.path.join(DATA_FOLDER, \"categories\")\n",
    "user_id = [\"user_id\"] >> Categorify(out_path=category_temp_directory) >> TagAsUserID()\n",
    "item_id = [\"item_id\"] >> Categorify(out_path=category_temp_directory) >> TagAsItemID()\n",
    "\n",
    "item_features = [\"item_category\", \"item_shop\", \"item_brand\"] >> Categorify(out_path=category_temp_directory) >> TagAsItemFeatures()\n",
    "\n",
    "user_features = (\n",
    "    [\n",
    "        \"user_shops\",\n",
    "        \"user_profile\",\n",
    "        \"user_group\",\n",
    "        \"user_gender\",\n",
    "        \"user_age\",\n",
    "        \"user_consumption_2\",\n",
    "        \"user_is_occupied\",\n",
    "        \"user_geography\",\n",
    "        \"user_intentions\",\n",
    "        \"user_brands\",\n",
    "        \"user_categories\",\n",
    "    ]\n",
    "    >> Categorify(out_path=category_temp_directory)\n",
    "    >> TagAsUserFeatures()\n",
    ")\n",
    "\n",
    "outputs = user_id + item_id + item_features + user_features"
   ]
  },
  {
   "cell_type": "markdown",
   "id": "2aa99f0b",
   "metadata": {
    "pycharm": {
     "name": "#%% md\n"
    }
   },
   "source": [
    "With `transform_aliccp` function, we can execute fit() and transform() on the raw dataset applying the operators defined in the NVTabular workflow pipeline above. The processed parquet files are saved to output_path."
   ]
  },
  {
   "cell_type": "code",
   "execution_count": 11,
   "id": "07ab4edc",
   "metadata": {
    "pycharm": {
     "name": "#%%\n"
    }
   },
   "outputs": [],
   "source": [
    "from merlin.datasets.ecommerce import transform_aliccp\n",
    "\n",
    "transform_aliccp((train, valid), output_path, nvt_workflow=outputs)"
   ]
  },
  {
   "cell_type": "markdown",
   "id": "df7be4a6",
   "metadata": {
    "pycharm": {
     "name": "#%% md\n"
    }
   },
   "source": [
    "## Building a Two-Tower Model with Merlin Models"
   ]
  },
  {
   "cell_type": "markdown",
   "id": "7f7e4a6b",
   "metadata": {
    "pycharm": {
     "name": "#%% md\n"
    }
   },
   "source": [
    "We will use Two-Tower Model for item retrieval task. Real-world large scale recommender systems have hundreds of millions of items (products) and users. Thus, these systems often composed of two stages: candidate generation (retrieval) and ranking (scoring the retrieved items). At candidate generation step, a subset of relevant items from large item corpus is retrieved. You can read more about two stage Recommender Systems here. In this example, we're going to focus on the retrieval stage.\n",
    "\n",
    "A Two-Tower Model consists of item (candidate) and user (query) encoder towers. With two towers, the model can learn representations (embeddings) for queries and candidates separately. \n",
    "\n",
    "<img src=\"./images/TwoTower.png\"  width=\"30%\">\n",
    "\n",
    "Image Adapted from: [Off-policy Learning in Two-stage Recommender Systems](https://dl.acm.org/doi/abs/10.1145/3366423.3380130)"
   ]
  },
  {
   "cell_type": "markdown",
   "id": "bb5f26a8",
   "metadata": {
    "pycharm": {
     "name": "#%% md\n"
    }
   },
   "source": [
    "We use the `schema` object to define our model."
   ]
  },
  {
   "cell_type": "code",
   "execution_count": 12,
   "id": "a7e0c257",
   "metadata": {
    "pycharm": {
     "name": "#%%\n"
    }
   },
   "outputs": [],
   "source": [
    "train = Dataset(os.path.join(output_path, \"train\", \"*.parquet\"))\n",
    "valid = Dataset(os.path.join(output_path, \"valid\", \"*.parquet\"))"
   ]
  },
  {
   "cell_type": "markdown",
   "id": "fcdb2dbc-9bbd-46ad-aede-44c3ffbaac9d",
   "metadata": {},
   "source": [
    "Select features with user and item tags, and be sure to exclude target column."
   ]
  },
  {
   "cell_type": "code",
   "execution_count": 13,
   "id": "94eb4048",
   "metadata": {
    "pycharm": {
     "name": "#%%\n"
    }
   },
   "outputs": [],
   "source": [
    "schema = train.schema.select_by_tag([Tags.ITEM_ID, Tags.USER_ID, Tags.ITEM, Tags.USER])\n",
    "train.schema = schema\n",
    "valid.schema = schema"
   ]
  },
  {
   "cell_type": "markdown",
   "id": "e3e3469c",
   "metadata": {
    "pycharm": {
     "name": "#%% md\n"
    }
   },
   "source": [
    "We can print out the feature column names."
   ]
  },
  {
   "cell_type": "code",
   "execution_count": 14,
   "id": "8b18bcf3-65c8-418a-aa43-55abb73a4542",
   "metadata": {},
   "outputs": [
    {
     "data": {
      "text/html": [
       "<div>\n",
       "<style scoped>\n",
       "    .dataframe tbody tr th:only-of-type {\n",
       "        vertical-align: middle;\n",
       "    }\n",
       "\n",
       "    .dataframe tbody tr th {\n",
       "        vertical-align: top;\n",
       "    }\n",
       "\n",
       "    .dataframe thead th {\n",
       "        text-align: right;\n",
       "    }\n",
       "</style>\n",
       "<table border=\"1\" class=\"dataframe\">\n",
       "  <thead>\n",
       "    <tr style=\"text-align: right;\">\n",
       "      <th></th>\n",
       "      <th>name</th>\n",
       "      <th>tags</th>\n",
       "      <th>dtype</th>\n",
       "      <th>is_list</th>\n",
       "      <th>is_ragged</th>\n",
       "      <th>properties.num_buckets</th>\n",
       "      <th>properties.freq_threshold</th>\n",
       "      <th>properties.max_size</th>\n",
       "      <th>properties.start_index</th>\n",
       "      <th>properties.cat_path</th>\n",
       "      <th>properties.embedding_sizes.cardinality</th>\n",
       "      <th>properties.embedding_sizes.dimension</th>\n",
       "      <th>properties.domain.min</th>\n",
       "      <th>properties.domain.max</th>\n",
       "      <th>properties.domain.name</th>\n",
       "    </tr>\n",
       "  </thead>\n",
       "  <tbody>\n",
       "    <tr>\n",
       "      <th>0</th>\n",
       "      <td>user_id</td>\n",
       "      <td>(Tags.USER, Tags.USER_ID, Tags.CATEGORICAL, Ta...</td>\n",
       "      <td>int64</td>\n",
       "      <td>False</td>\n",
       "      <td>False</td>\n",
       "      <td>None</td>\n",
       "      <td>0.0</td>\n",
       "      <td>0.0</td>\n",
       "      <td>0.0</td>\n",
       "      <td>/workspace/data/categories/categories/unique.u...</td>\n",
       "      <td>664.0</td>\n",
       "      <td>61.0</td>\n",
       "      <td>0</td>\n",
       "      <td>663</td>\n",
       "      <td>user_id</td>\n",
       "    </tr>\n",
       "    <tr>\n",
       "      <th>1</th>\n",
       "      <td>item_id</td>\n",
       "      <td>(Tags.CATEGORICAL, Tags.ITEM, Tags.ITEM_ID, Ta...</td>\n",
       "      <td>int64</td>\n",
       "      <td>False</td>\n",
       "      <td>False</td>\n",
       "      <td>None</td>\n",
       "      <td>0.0</td>\n",
       "      <td>0.0</td>\n",
       "      <td>0.0</td>\n",
       "      <td>/workspace/data/categories/categories/unique.i...</td>\n",
       "      <td>678.0</td>\n",
       "      <td>62.0</td>\n",
       "      <td>0</td>\n",
       "      <td>677</td>\n",
       "      <td>item_id</td>\n",
       "    </tr>\n",
       "    <tr>\n",
       "      <th>2</th>\n",
       "      <td>item_category</td>\n",
       "      <td>(Tags.CATEGORICAL, Tags.ITEM)</td>\n",
       "      <td>int64</td>\n",
       "      <td>False</td>\n",
       "      <td>False</td>\n",
       "      <td>None</td>\n",
       "      <td>0.0</td>\n",
       "      <td>0.0</td>\n",
       "      <td>0.0</td>\n",
       "      <td>/workspace/data/categories/categories/unique.i...</td>\n",
       "      <td>678.0</td>\n",
       "      <td>62.0</td>\n",
       "      <td>0</td>\n",
       "      <td>677</td>\n",
       "      <td>item_category</td>\n",
       "    </tr>\n",
       "    <tr>\n",
       "      <th>3</th>\n",
       "      <td>item_shop</td>\n",
       "      <td>(Tags.CATEGORICAL, Tags.ITEM)</td>\n",
       "      <td>int64</td>\n",
       "      <td>False</td>\n",
       "      <td>False</td>\n",
       "      <td>None</td>\n",
       "      <td>0.0</td>\n",
       "      <td>0.0</td>\n",
       "      <td>0.0</td>\n",
       "      <td>/workspace/data/categories/categories/unique.i...</td>\n",
       "      <td>678.0</td>\n",
       "      <td>62.0</td>\n",
       "      <td>0</td>\n",
       "      <td>677</td>\n",
       "      <td>item_shop</td>\n",
       "    </tr>\n",
       "    <tr>\n",
       "      <th>4</th>\n",
       "      <td>item_brand</td>\n",
       "      <td>(Tags.CATEGORICAL, Tags.ITEM)</td>\n",
       "      <td>int64</td>\n",
       "      <td>False</td>\n",
       "      <td>False</td>\n",
       "      <td>None</td>\n",
       "      <td>0.0</td>\n",
       "      <td>0.0</td>\n",
       "      <td>0.0</td>\n",
       "      <td>/workspace/data/categories/categories/unique.i...</td>\n",
       "      <td>678.0</td>\n",
       "      <td>62.0</td>\n",
       "      <td>0</td>\n",
       "      <td>677</td>\n",
       "      <td>item_brand</td>\n",
       "    </tr>\n",
       "    <tr>\n",
       "      <th>5</th>\n",
       "      <td>user_shops</td>\n",
       "      <td>(Tags.USER, Tags.CATEGORICAL)</td>\n",
       "      <td>int64</td>\n",
       "      <td>False</td>\n",
       "      <td>False</td>\n",
       "      <td>None</td>\n",
       "      <td>0.0</td>\n",
       "      <td>0.0</td>\n",
       "      <td>0.0</td>\n",
       "      <td>/workspace/data/categories/categories/unique.u...</td>\n",
       "      <td>664.0</td>\n",
       "      <td>61.0</td>\n",
       "      <td>0</td>\n",
       "      <td>663</td>\n",
       "      <td>user_shops</td>\n",
       "    </tr>\n",
       "    <tr>\n",
       "      <th>6</th>\n",
       "      <td>user_profile</td>\n",
       "      <td>(Tags.USER, Tags.CATEGORICAL)</td>\n",
       "      <td>int64</td>\n",
       "      <td>False</td>\n",
       "      <td>False</td>\n",
       "      <td>None</td>\n",
       "      <td>0.0</td>\n",
       "      <td>0.0</td>\n",
       "      <td>0.0</td>\n",
       "      <td>/workspace/data/categories/categories/unique.u...</td>\n",
       "      <td>45.0</td>\n",
       "      <td>16.0</td>\n",
       "      <td>0</td>\n",
       "      <td>44</td>\n",
       "      <td>user_profile</td>\n",
       "    </tr>\n",
       "    <tr>\n",
       "      <th>7</th>\n",
       "      <td>user_group</td>\n",
       "      <td>(Tags.USER, Tags.CATEGORICAL)</td>\n",
       "      <td>int64</td>\n",
       "      <td>False</td>\n",
       "      <td>False</td>\n",
       "      <td>None</td>\n",
       "      <td>0.0</td>\n",
       "      <td>0.0</td>\n",
       "      <td>0.0</td>\n",
       "      <td>/workspace/data/categories/categories/unique.u...</td>\n",
       "      <td>11.0</td>\n",
       "      <td>16.0</td>\n",
       "      <td>0</td>\n",
       "      <td>10</td>\n",
       "      <td>user_group</td>\n",
       "    </tr>\n",
       "    <tr>\n",
       "      <th>8</th>\n",
       "      <td>user_gender</td>\n",
       "      <td>(Tags.USER, Tags.CATEGORICAL)</td>\n",
       "      <td>int64</td>\n",
       "      <td>False</td>\n",
       "      <td>False</td>\n",
       "      <td>None</td>\n",
       "      <td>0.0</td>\n",
       "      <td>0.0</td>\n",
       "      <td>0.0</td>\n",
       "      <td>/workspace/data/categories/categories/unique.u...</td>\n",
       "      <td>3.0</td>\n",
       "      <td>16.0</td>\n",
       "      <td>0</td>\n",
       "      <td>2</td>\n",
       "      <td>user_gender</td>\n",
       "    </tr>\n",
       "    <tr>\n",
       "      <th>9</th>\n",
       "      <td>user_age</td>\n",
       "      <td>(Tags.USER, Tags.CATEGORICAL)</td>\n",
       "      <td>int64</td>\n",
       "      <td>False</td>\n",
       "      <td>False</td>\n",
       "      <td>None</td>\n",
       "      <td>0.0</td>\n",
       "      <td>0.0</td>\n",
       "      <td>0.0</td>\n",
       "      <td>/workspace/data/categories/categories/unique.u...</td>\n",
       "      <td>7.0</td>\n",
       "      <td>16.0</td>\n",
       "      <td>0</td>\n",
       "      <td>6</td>\n",
       "      <td>user_age</td>\n",
       "    </tr>\n",
       "    <tr>\n",
       "      <th>10</th>\n",
       "      <td>user_consumption_2</td>\n",
       "      <td>(Tags.USER, Tags.CATEGORICAL)</td>\n",
       "      <td>int64</td>\n",
       "      <td>False</td>\n",
       "      <td>False</td>\n",
       "      <td>None</td>\n",
       "      <td>0.0</td>\n",
       "      <td>0.0</td>\n",
       "      <td>0.0</td>\n",
       "      <td>/workspace/data/categories/categories/unique.u...</td>\n",
       "      <td>4.0</td>\n",
       "      <td>16.0</td>\n",
       "      <td>0</td>\n",
       "      <td>3</td>\n",
       "      <td>user_consumption_2</td>\n",
       "    </tr>\n",
       "    <tr>\n",
       "      <th>11</th>\n",
       "      <td>user_is_occupied</td>\n",
       "      <td>(Tags.USER, Tags.CATEGORICAL)</td>\n",
       "      <td>int64</td>\n",
       "      <td>False</td>\n",
       "      <td>False</td>\n",
       "      <td>None</td>\n",
       "      <td>0.0</td>\n",
       "      <td>0.0</td>\n",
       "      <td>0.0</td>\n",
       "      <td>/workspace/data/categories/categories/unique.u...</td>\n",
       "      <td>3.0</td>\n",
       "      <td>16.0</td>\n",
       "      <td>0</td>\n",
       "      <td>2</td>\n",
       "      <td>user_is_occupied</td>\n",
       "    </tr>\n",
       "    <tr>\n",
       "      <th>12</th>\n",
       "      <td>user_geography</td>\n",
       "      <td>(Tags.USER, Tags.CATEGORICAL)</td>\n",
       "      <td>int64</td>\n",
       "      <td>False</td>\n",
       "      <td>False</td>\n",
       "      <td>None</td>\n",
       "      <td>0.0</td>\n",
       "      <td>0.0</td>\n",
       "      <td>0.0</td>\n",
       "      <td>/workspace/data/categories/categories/unique.u...</td>\n",
       "      <td>5.0</td>\n",
       "      <td>16.0</td>\n",
       "      <td>0</td>\n",
       "      <td>4</td>\n",
       "      <td>user_geography</td>\n",
       "    </tr>\n",
       "    <tr>\n",
       "      <th>13</th>\n",
       "      <td>user_intentions</td>\n",
       "      <td>(Tags.USER, Tags.CATEGORICAL)</td>\n",
       "      <td>int64</td>\n",
       "      <td>False</td>\n",
       "      <td>False</td>\n",
       "      <td>None</td>\n",
       "      <td>0.0</td>\n",
       "      <td>0.0</td>\n",
       "      <td>0.0</td>\n",
       "      <td>/workspace/data/categories/categories/unique.u...</td>\n",
       "      <td>664.0</td>\n",
       "      <td>61.0</td>\n",
       "      <td>0</td>\n",
       "      <td>663</td>\n",
       "      <td>user_intentions</td>\n",
       "    </tr>\n",
       "    <tr>\n",
       "      <th>14</th>\n",
       "      <td>user_brands</td>\n",
       "      <td>(Tags.USER, Tags.CATEGORICAL)</td>\n",
       "      <td>int64</td>\n",
       "      <td>False</td>\n",
       "      <td>False</td>\n",
       "      <td>None</td>\n",
       "      <td>0.0</td>\n",
       "      <td>0.0</td>\n",
       "      <td>0.0</td>\n",
       "      <td>/workspace/data/categories/categories/unique.u...</td>\n",
       "      <td>664.0</td>\n",
       "      <td>61.0</td>\n",
       "      <td>0</td>\n",
       "      <td>663</td>\n",
       "      <td>user_brands</td>\n",
       "    </tr>\n",
       "    <tr>\n",
       "      <th>15</th>\n",
       "      <td>user_categories</td>\n",
       "      <td>(Tags.USER, Tags.CATEGORICAL)</td>\n",
       "      <td>int64</td>\n",
       "      <td>False</td>\n",
       "      <td>False</td>\n",
       "      <td>None</td>\n",
       "      <td>0.0</td>\n",
       "      <td>0.0</td>\n",
       "      <td>0.0</td>\n",
       "      <td>/workspace/data/categories/categories/unique.u...</td>\n",
       "      <td>664.0</td>\n",
       "      <td>61.0</td>\n",
       "      <td>0</td>\n",
       "      <td>663</td>\n",
       "      <td>user_categories</td>\n",
       "    </tr>\n",
       "  </tbody>\n",
       "</table>\n",
       "</div>"
      ],
      "text/plain": [
       "[{'name': 'user_id', 'tags': {<Tags.USER: 'user'>, <Tags.USER_ID: 'user_id'>, <Tags.CATEGORICAL: 'categorical'>, <Tags.ID: 'id'>}, 'properties': {'num_buckets': None, 'freq_threshold': 0.0, 'max_size': 0.0, 'start_index': 0.0, 'cat_path': '/workspace/data/categories/categories/unique.user_id.parquet', 'embedding_sizes': {'cardinality': 664.0, 'dimension': 61.0}, 'domain': {'min': 0, 'max': 663, 'name': 'user_id'}}, 'dtype': dtype('int64'), 'is_list': False, 'is_ragged': False}, {'name': 'item_id', 'tags': {<Tags.CATEGORICAL: 'categorical'>, <Tags.ITEM: 'item'>, <Tags.ITEM_ID: 'item_id'>, <Tags.ID: 'id'>}, 'properties': {'num_buckets': None, 'freq_threshold': 0.0, 'max_size': 0.0, 'start_index': 0.0, 'cat_path': '/workspace/data/categories/categories/unique.item_id.parquet', 'embedding_sizes': {'cardinality': 678.0, 'dimension': 62.0}, 'domain': {'min': 0, 'max': 677, 'name': 'item_id'}}, 'dtype': dtype('int64'), 'is_list': False, 'is_ragged': False}, {'name': 'item_category', 'tags': {<Tags.CATEGORICAL: 'categorical'>, <Tags.ITEM: 'item'>}, 'properties': {'num_buckets': None, 'freq_threshold': 0.0, 'max_size': 0.0, 'start_index': 0.0, 'cat_path': '/workspace/data/categories/categories/unique.item_category.parquet', 'embedding_sizes': {'cardinality': 678.0, 'dimension': 62.0}, 'domain': {'min': 0, 'max': 677, 'name': 'item_category'}}, 'dtype': dtype('int64'), 'is_list': False, 'is_ragged': False}, {'name': 'item_shop', 'tags': {<Tags.CATEGORICAL: 'categorical'>, <Tags.ITEM: 'item'>}, 'properties': {'num_buckets': None, 'freq_threshold': 0.0, 'max_size': 0.0, 'start_index': 0.0, 'cat_path': '/workspace/data/categories/categories/unique.item_shop.parquet', 'embedding_sizes': {'cardinality': 678.0, 'dimension': 62.0}, 'domain': {'min': 0, 'max': 677, 'name': 'item_shop'}}, 'dtype': dtype('int64'), 'is_list': False, 'is_ragged': False}, {'name': 'item_brand', 'tags': {<Tags.CATEGORICAL: 'categorical'>, <Tags.ITEM: 'item'>}, 'properties': {'num_buckets': None, 'freq_threshold': 0.0, 'max_size': 0.0, 'start_index': 0.0, 'cat_path': '/workspace/data/categories/categories/unique.item_brand.parquet', 'embedding_sizes': {'cardinality': 678.0, 'dimension': 62.0}, 'domain': {'min': 0, 'max': 677, 'name': 'item_brand'}}, 'dtype': dtype('int64'), 'is_list': False, 'is_ragged': False}, {'name': 'user_shops', 'tags': {<Tags.USER: 'user'>, <Tags.CATEGORICAL: 'categorical'>}, 'properties': {'num_buckets': None, 'freq_threshold': 0.0, 'max_size': 0.0, 'start_index': 0.0, 'cat_path': '/workspace/data/categories/categories/unique.user_shops.parquet', 'embedding_sizes': {'cardinality': 664.0, 'dimension': 61.0}, 'domain': {'min': 0, 'max': 663, 'name': 'user_shops'}}, 'dtype': dtype('int64'), 'is_list': False, 'is_ragged': False}, {'name': 'user_profile', 'tags': {<Tags.USER: 'user'>, <Tags.CATEGORICAL: 'categorical'>}, 'properties': {'num_buckets': None, 'freq_threshold': 0.0, 'max_size': 0.0, 'start_index': 0.0, 'cat_path': '/workspace/data/categories/categories/unique.user_profile.parquet', 'embedding_sizes': {'cardinality': 45.0, 'dimension': 16.0}, 'domain': {'min': 0, 'max': 44, 'name': 'user_profile'}}, 'dtype': dtype('int64'), 'is_list': False, 'is_ragged': False}, {'name': 'user_group', 'tags': {<Tags.USER: 'user'>, <Tags.CATEGORICAL: 'categorical'>}, 'properties': {'num_buckets': None, 'freq_threshold': 0.0, 'max_size': 0.0, 'start_index': 0.0, 'cat_path': '/workspace/data/categories/categories/unique.user_group.parquet', 'embedding_sizes': {'cardinality': 11.0, 'dimension': 16.0}, 'domain': {'min': 0, 'max': 10, 'name': 'user_group'}}, 'dtype': dtype('int64'), 'is_list': False, 'is_ragged': False}, {'name': 'user_gender', 'tags': {<Tags.USER: 'user'>, <Tags.CATEGORICAL: 'categorical'>}, 'properties': {'num_buckets': None, 'freq_threshold': 0.0, 'max_size': 0.0, 'start_index': 0.0, 'cat_path': '/workspace/data/categories/categories/unique.user_gender.parquet', 'embedding_sizes': {'cardinality': 3.0, 'dimension': 16.0}, 'domain': {'min': 0, 'max': 2, 'name': 'user_gender'}}, 'dtype': dtype('int64'), 'is_list': False, 'is_ragged': False}, {'name': 'user_age', 'tags': {<Tags.USER: 'user'>, <Tags.CATEGORICAL: 'categorical'>}, 'properties': {'num_buckets': None, 'freq_threshold': 0.0, 'max_size': 0.0, 'start_index': 0.0, 'cat_path': '/workspace/data/categories/categories/unique.user_age.parquet', 'embedding_sizes': {'cardinality': 7.0, 'dimension': 16.0}, 'domain': {'min': 0, 'max': 6, 'name': 'user_age'}}, 'dtype': dtype('int64'), 'is_list': False, 'is_ragged': False}, {'name': 'user_consumption_2', 'tags': {<Tags.USER: 'user'>, <Tags.CATEGORICAL: 'categorical'>}, 'properties': {'num_buckets': None, 'freq_threshold': 0.0, 'max_size': 0.0, 'start_index': 0.0, 'cat_path': '/workspace/data/categories/categories/unique.user_consumption_2.parquet', 'embedding_sizes': {'cardinality': 4.0, 'dimension': 16.0}, 'domain': {'min': 0, 'max': 3, 'name': 'user_consumption_2'}}, 'dtype': dtype('int64'), 'is_list': False, 'is_ragged': False}, {'name': 'user_is_occupied', 'tags': {<Tags.USER: 'user'>, <Tags.CATEGORICAL: 'categorical'>}, 'properties': {'num_buckets': None, 'freq_threshold': 0.0, 'max_size': 0.0, 'start_index': 0.0, 'cat_path': '/workspace/data/categories/categories/unique.user_is_occupied.parquet', 'embedding_sizes': {'cardinality': 3.0, 'dimension': 16.0}, 'domain': {'min': 0, 'max': 2, 'name': 'user_is_occupied'}}, 'dtype': dtype('int64'), 'is_list': False, 'is_ragged': False}, {'name': 'user_geography', 'tags': {<Tags.USER: 'user'>, <Tags.CATEGORICAL: 'categorical'>}, 'properties': {'num_buckets': None, 'freq_threshold': 0.0, 'max_size': 0.0, 'start_index': 0.0, 'cat_path': '/workspace/data/categories/categories/unique.user_geography.parquet', 'embedding_sizes': {'cardinality': 5.0, 'dimension': 16.0}, 'domain': {'min': 0, 'max': 4, 'name': 'user_geography'}}, 'dtype': dtype('int64'), 'is_list': False, 'is_ragged': False}, {'name': 'user_intentions', 'tags': {<Tags.USER: 'user'>, <Tags.CATEGORICAL: 'categorical'>}, 'properties': {'num_buckets': None, 'freq_threshold': 0.0, 'max_size': 0.0, 'start_index': 0.0, 'cat_path': '/workspace/data/categories/categories/unique.user_intentions.parquet', 'embedding_sizes': {'cardinality': 664.0, 'dimension': 61.0}, 'domain': {'min': 0, 'max': 663, 'name': 'user_intentions'}}, 'dtype': dtype('int64'), 'is_list': False, 'is_ragged': False}, {'name': 'user_brands', 'tags': {<Tags.USER: 'user'>, <Tags.CATEGORICAL: 'categorical'>}, 'properties': {'num_buckets': None, 'freq_threshold': 0.0, 'max_size': 0.0, 'start_index': 0.0, 'cat_path': '/workspace/data/categories/categories/unique.user_brands.parquet', 'embedding_sizes': {'cardinality': 664.0, 'dimension': 61.0}, 'domain': {'min': 0, 'max': 663, 'name': 'user_brands'}}, 'dtype': dtype('int64'), 'is_list': False, 'is_ragged': False}, {'name': 'user_categories', 'tags': {<Tags.USER: 'user'>, <Tags.CATEGORICAL: 'categorical'>}, 'properties': {'num_buckets': None, 'freq_threshold': 0.0, 'max_size': 0.0, 'start_index': 0.0, 'cat_path': '/workspace/data/categories/categories/unique.user_categories.parquet', 'embedding_sizes': {'cardinality': 664.0, 'dimension': 61.0}, 'domain': {'min': 0, 'max': 663, 'name': 'user_categories'}}, 'dtype': dtype('int64'), 'is_list': False, 'is_ragged': False}]"
      ]
     },
     "execution_count": 14,
     "metadata": {},
     "output_type": "execute_result"
    }
   ],
   "source": [
    "schema"
   ]
  },
  {
   "cell_type": "markdown",
   "id": "3095bd9b",
   "metadata": {
    "pycharm": {
     "name": "#%% md\n"
    }
   },
   "source": [
    "We expect the label names to be empty."
   ]
  },
  {
   "cell_type": "code",
   "execution_count": 15,
   "id": "68bf449f",
   "metadata": {
    "pycharm": {
     "name": "#%%\n"
    }
   },
   "outputs": [
    {
     "data": {
      "text/plain": [
       "[]"
      ]
     },
     "execution_count": 15,
     "metadata": {},
     "output_type": "execute_result"
    }
   ],
   "source": [
    "label_names = schema.select_by_tag(Tags.TARGET).column_names\n",
    "label_names"
   ]
  },
  {
   "cell_type": "markdown",
   "id": "dd210772-2930-433c-83c3-a1e2dad7d0f6",
   "metadata": {},
   "source": [
    "### Negative sampling\n",
    "\n",
    "Many datasets for recommender systems contain implicit feedback with logs of user interactions like clicks, add-to-cart, purchases, music listening events, rather than explicit ratings that reflects user preferences over items. To be able to learn from implicit feedback, we use the general (and naive) assumption that the interacted items are more relevant for the user than the non-interacted ones.\n",
    "In Merlin Models we provide some scalable negative sampling algorithms for the Item Retrieval Task. In particular, in this example, we use the `in-batch` sampling algorithm which uses the items interacted by other users as negatives within the same mini-batch."
   ]
  },
  {
   "cell_type": "markdown",
   "id": "994ddb84-fd90-4547-ae58-c8f678d3dcd7",
   "metadata": {},
   "source": [
    "### Building the Model\n",
    "\n",
    "Now, let's build our Two-Tower model. In a nutshell, we aggregate all user features to feed in user tower and feed the item features to the item tower. Then we compute the positive score by multiplying the user embedding with the item embedding and sample negative items (read more about negative sampling [here](https://openreview.net/pdf?id=824xC-SgWgU) and [here](https://medium.com/mlearning-ai/overview-negative-sampling-on-recommendation-systems-230a051c6cd7)), whose item embeddings are also multiplied by the user embedding. Then we apply the loss function on top of the positive and negative scores."
   ]
  },
  {
   "cell_type": "markdown",
   "id": "64745656-a678-48a3-a431-24b45f9119d9",
   "metadata": {},
   "source": [
    "We make sure that the mlp blocks used for the user and query towers have the same last dimension. This is needed because we will compute the dot product between the two towers' outputs to get the similarity scores."
   ]
  },
  {
   "cell_type": "code",
   "execution_count": 16,
   "id": "30446249-70e8-46c2-98eb-40a5e358d86e",
   "metadata": {},
   "outputs": [],
   "source": [
    "tower_dim = 64 \n",
    "\n",
    "# create user schema using USER tag\n",
    "user_schema = schema.select_by_tag(Tags.USER)\n",
    "# create user (query) tower input block\n",
    "user_inputs = mm.InputBlockV2(user_schema)\n",
    "# create user (query) encoder block\n",
    "query = mm.Encoder(user_inputs, mm.MLPBlock([128, tower_dim], no_activation_last_layer=True))\n",
    "\n",
    "# create item schema using ITEM tag\n",
    "item_schema = schema.select_by_tag(Tags.ITEM)\n",
    "# create item (candidate) tower input block\n",
    "item_inputs = mm.InputBlockV2(item_schema)\n",
    "# create item (candidate) encoder block\n",
    "candidate = mm.Encoder(item_inputs, mm.MLPBlock([128, tower_dim], no_activation_last_layer=True))"
   ]
  },
  {
   "cell_type": "markdown",
   "id": "25407870-5e59-4562-8c39-2869a13ac8bd",
   "metadata": {},
   "source": [
    "`no_activation_last_layer:` when set True, no activation is used for top hidden layer. Learn more [here](https://storage.googleapis.com/pub-tools-public-publication-data/pdf/b9f4e78a8830fe5afcf2f0452862fb3c0d6584ea.pdf)."
   ]
  },
  {
   "cell_type": "markdown",
   "id": "261f2f38-65f7-4473-aa42-1237b613cb84",
   "metadata": {},
   "source": [
    "Build the model class."
   ]
  },
  {
   "cell_type": "code",
   "execution_count": 17,
   "id": "64e02cc5-d966-400f-9b40-4ed18cbb6e49",
   "metadata": {},
   "outputs": [],
   "source": [
    "model = mm.TwoTowerModelV2(query, candidate)"
   ]
  },
  {
   "cell_type": "markdown",
   "id": "00108875",
   "metadata": {
    "pycharm": {
     "name": "#%% md\n"
    }
   },
   "source": [
    "Note that in the `TwoTowerModelV2` function we did not set `negative_samplers` arg, that means it is set to None. In that case, Two-tower model is trained with contrastive learning and `in-batch` negative sampling strategy.\n",
    "\n",
    "**Metrics:**\n",
    "\n",
    "The following information retrieval metrics are used to compute the Top-10 accuracy of recommendation lists containing all items:\n",
    "\n",
    "- **Normalized Discounted Cumulative Gain (NDCG@10)**: NDCG accounts for rank of the relevant item in the recommendation list and is a more fine-grained metric than HR, which only verifies whether the relevant item is among the top-k items.\n",
    "\n",
    "- **Recall@10**: Also known as HitRate@n when there is only one relevant item in the recommendation list. Recall just verifies whether the relevant item is among the top-n items."
   ]
  },
  {
   "cell_type": "markdown",
   "id": "3c7ec768",
   "metadata": {
    "pycharm": {
     "name": "#%% md\n"
    }
   },
   "source": [
    "We need to initialize the dataloaders."
   ]
  },
  {
   "cell_type": "code",
   "execution_count": 18,
   "id": "1280bb4f",
   "metadata": {
    "pycharm": {
     "name": "#%%\n"
    }
   },
   "outputs": [
    {
     "name": "stdout",
     "output_type": "stream",
     "text": [
      "Epoch 1/2\n",
      "86/86 [==============================] - 12s 48ms/step - loss: 8.2953 - recall_at_10: 0.0253 - ndcg_at_10: 0.0240 - regularization_loss: 0.0000e+00 - loss_batch: 8.2819 - val_loss: 8.2921 - val_recall_at_10: 0.0307 - val_ndcg_at_10: 0.0307 - val_regularization_loss: 0.0000e+00 - val_loss_batch: 7.8969\n",
      "Epoch 2/2\n",
      "86/86 [==============================] - 3s 34ms/step - loss: 8.2949 - recall_at_10: 0.0303 - ndcg_at_10: 0.0302 - regularization_loss: 0.0000e+00 - loss_batch: 8.2815 - val_loss: 8.2924 - val_recall_at_10: 0.0225 - val_ndcg_at_10: 0.0206 - val_regularization_loss: 0.0000e+00 - val_loss_batch: 7.8981\n"
     ]
    },
    {
     "data": {
      "text/plain": [
       "<keras.callbacks.History at 0x7f6a414fec10>"
      ]
     },
     "execution_count": 18,
     "metadata": {},
     "output_type": "execute_result"
    }
   ],
   "source": [
    "model.compile(optimizer=\"adam\", run_eagerly=False, metrics=[mm.RecallAt(10), mm.NDCGAt(10)])\n",
    "model.fit(train, validation_data=valid, batch_size=4096, epochs=2)"
   ]
  },
  {
   "cell_type": "markdown",
   "id": "8a417782-8c3f-4128-a888-f2f9d9974515",
   "metadata": {},
   "source": [
    "The validation metric values are calculated given the positive and negative scores in each batch, and then averaged over batches per epoch. That means validation metrics are not computed using the entire item catalog."
   ]
  },
  {
   "cell_type": "markdown",
   "id": "423c10c2-ae46-45bf-9623-6214c7570ac8",
   "metadata": {},
   "source": [
    "## Generate top-K recommendations"
   ]
  },
  {
   "cell_type": "markdown",
   "id": "a580ca70-c209-4e17-ac78-65136b4c6c34",
   "metadata": {},
   "source": [
    "We trained a model, now we can generate recommendations offline using `to_top_k_encoder` method. The `to_top_k_encoder()` is a method of the RetrievalModelV2 class that uses the pre-trained candidate and query encoders to initialize a top-k encoder model, called the `topk_model` in this example. Practically, this method applies the candidate_encoder on the provided candidate_features dataset to set the top-k index of the `topk_model`. Therefore, topk_model object is the one responsible of generating the top-k predictions."
   ]
  },
  {
   "cell_type": "code",
   "execution_count": 19,
   "id": "d4a15e73-4835-4720-bb64-1d745b3b3f61",
   "metadata": {},
   "outputs": [
    {
     "name": "stderr",
     "output_type": "stream",
     "text": [
      "/usr/local/lib/python3.8/dist-packages/merlin/schema/tags.py:148: UserWarning: Compound tags like Tags.ITEM_ID have been deprecated and will be removed in a future version. Please use the atomic versions of these tags, like [<Tags.ITEM: 'item'>, <Tags.ID: 'id'>].\n",
      "  warnings.warn(\n"
     ]
    }
   ],
   "source": [
    "# Top-K evaluation\n",
    "candidate_features = unique_rows_by_features(train, Tags.ITEM, Tags.ITEM_ID)\n",
    "topk_model = model.to_top_k_encoder(candidate_features, k=20, batch_size=128)\n",
    "\n",
    "# we can set `metrics` param in the `compile(), if we want\n",
    "topk_model.compile(run_eagerly=False)"
   ]
  },
  {
   "cell_type": "markdown",
   "id": "c7ac2018-f631-41a9-b3fe-53b890b03a52",
   "metadata": {},
   "source": [
    "Note that above when we  set `validation_data=valid` in the model.fit(), we compute evaluation metrics on validation set using the negative sampling strategy used for training. Below, by using the `topk_model` we can evaluate the trained retrieval model using the entire catalog. This is doing dot product for entire catalog, and by default it is brute force."
   ]
  },
  {
   "cell_type": "code",
   "execution_count": 20,
   "id": "eedfe1c5-f706-4713-ad6e-1cf0e92a3e8c",
   "metadata": {},
   "outputs": [
    {
     "name": "stdout",
     "output_type": "stream",
     "text": [
      "342/342 [==============================] - 7s 16ms/step - loss: 0.4353 - recall_at_10: 0.0987 - mrr_at_10: 0.0381 - ndcg_at_10: 0.0523 - map_at_10: 0.0381 - precision_at_10: 0.0099 - regularization_loss: 0.0000e+00 - loss_batch: 0.4353\n"
     ]
    },
    {
     "data": {
      "text/plain": [
       "{'loss': 0.4352704584598541,\n",
       " 'recall_at_10': 0.09865741431713104,\n",
       " 'mrr_at_10': 0.038072582334280014,\n",
       " 'ndcg_at_10': 0.05225344002246857,\n",
       " 'map_at_10': 0.038072582334280014,\n",
       " 'precision_at_10': 0.00986573938280344,\n",
       " 'regularization_loss': 0.0,\n",
       " 'loss_batch': 0.45253440737724304}"
      ]
     },
     "execution_count": 20,
     "metadata": {},
     "output_type": "execute_result"
    }
   ],
   "source": [
    "loader = mm.Loader(train, batch_size=1024, transform=mm.ToTarget(schema, \"item_id\"))\n",
    "\n",
    "metrics = topk_model.evaluate(loader, return_dict=True)\n",
    "metrics"
   ]
  },
  {
   "cell_type": "markdown",
   "id": "c792bdbf-655d-42fa-80e1-48ae85c97c31",
   "metadata": {},
   "source": [
    "Let's generate top-K (k=20 in our example) recommendations for a given batch of 8 samples. The `to_top_k_encoder()` method uses the index provided in the item (candidate) features dataset as the identifiers. The forward method of `topk_model` takes as the query features as input, and computes the dot product scores between the given query embeddings and all the candidates of the top-k index. Then, it returns the top-k (k=20) item ids with the highest scores. The output of the method is a named tuple `TopKPrediction`, where the first element is the dot product scores and the second element is the encoded item ids (not the original ids)."
   ]
  },
  {
   "cell_type": "code",
   "execution_count": 21,
   "id": "e9e3c032-0084-46c8-b61c-eb7b8595d71b",
   "metadata": {},
   "outputs": [],
   "source": [
    "loader = mm.Loader(valid, batch_size=8, shuffle=False)\n",
    "batch =next(iter(loader))"
   ]
  },
  {
   "cell_type": "markdown",
   "id": "b7198e12-1d29-49ac-bbc3-b12935ba9d08",
   "metadata": {},
   "source": [
    "Let's check the `user_id` column in a given batch."
   ]
  },
  {
   "cell_type": "code",
   "execution_count": 22,
   "id": "09f3ada5-eaa2-43cf-810c-97ccfe78f17d",
   "metadata": {},
   "outputs": [
    {
     "data": {
      "text/plain": [
       "<tf.Tensor: shape=(8, 1), dtype=int64, numpy=\n",
       "array([[54],\n",
       "       [33],\n",
       "       [46],\n",
       "       [17],\n",
       "       [ 2],\n",
       "       [13],\n",
       "       [45],\n",
       "       [ 6]])>"
      ]
     },
     "execution_count": 22,
     "metadata": {},
     "output_type": "execute_result"
    }
   ],
   "source": [
    "batch[0]['user_id']"
   ]
  },
  {
   "cell_type": "markdown",
   "id": "7b7b8048-1a90-4311-8d19-be6e8715fc7f",
   "metadata": {},
   "source": [
    "The recommended top 20 item ids are returned below."
   ]
  },
  {
   "cell_type": "code",
   "execution_count": 23,
   "id": "0e720af4-70cd-40c8-857b-75e127e7d867",
   "metadata": {},
   "outputs": [
    {
     "data": {
      "text/plain": [
       "TopKPrediction(scores=<tf.Tensor: shape=(8, 20), dtype=float32, numpy=\n",
       "array([[0.04311734, 0.03331283, 0.03179005, 0.03030831, 0.02860665,\n",
       "        0.02391566, 0.022619  , 0.02032381, 0.01994756, 0.01979393,\n",
       "        0.01941435, 0.01884781, 0.01881796, 0.01829395, 0.01812337,\n",
       "        0.0172695 , 0.01512221, 0.01476259, 0.0144832 , 0.01414051],\n",
       "       [0.06486996, 0.06063892, 0.05383713, 0.05328075, 0.05159207,\n",
       "        0.05023589, 0.0495996 , 0.04927944, 0.04905936, 0.04812177,\n",
       "        0.0475877 , 0.04532272, 0.04288622, 0.04199533, 0.04149817,\n",
       "        0.04040359, 0.0402691 , 0.0401251 , 0.03897774, 0.03877449],\n",
       "       [0.07392552, 0.03821031, 0.03790041, 0.03649426, 0.03353362,\n",
       "        0.03333894, 0.02991731, 0.02968454, 0.02873009, 0.02823401,\n",
       "        0.02703691, 0.02690915, 0.02670371, 0.02471804, 0.0238557 ,\n",
       "        0.02352481, 0.02219179, 0.02209403, 0.02101746, 0.01856286],\n",
       "       [0.02921886, 0.02902791, 0.02842918, 0.02763111, 0.02695863,\n",
       "        0.02537199, 0.02488535, 0.02445289, 0.02440337, 0.02390486,\n",
       "        0.02374311, 0.02148215, 0.02135682, 0.02078507, 0.02057499,\n",
       "        0.02025718, 0.01988521, 0.01966387, 0.01782503, 0.01773555],\n",
       "       [0.05384472, 0.04790001, 0.04291232, 0.03710256, 0.03697015,\n",
       "        0.03368548, 0.03254027, 0.03143701, 0.02930715, 0.02922691,\n",
       "        0.02787036, 0.02777701, 0.02767324, 0.02589704, 0.02557783,\n",
       "        0.02427446, 0.02385978, 0.02285507, 0.02207023, 0.02144267],\n",
       "       [0.0706692 , 0.06298741, 0.05708266, 0.05558681, 0.05522449,\n",
       "        0.0498493 , 0.04938302, 0.04880623, 0.04835859, 0.04726151,\n",
       "        0.04718313, 0.04686754, 0.04524614, 0.04430765, 0.04367685,\n",
       "        0.043507  , 0.04209969, 0.04208607, 0.04128026, 0.04044517],\n",
       "       [0.0785494 , 0.06630506, 0.06137047, 0.04679135, 0.046775  ,\n",
       "        0.04484498, 0.04043284, 0.03838316, 0.03558699, 0.03438614,\n",
       "        0.03426216, 0.03234006, 0.03046002, 0.02979068, 0.02941968,\n",
       "        0.02941009, 0.02931324, 0.02870104, 0.0279204 , 0.02789524],\n",
       "       [0.05486507, 0.04860964, 0.04430543, 0.04108923, 0.03943762,\n",
       "        0.03904681, 0.03815073, 0.03732551, 0.03706587, 0.03689394,\n",
       "        0.03680313, 0.03632756, 0.03570532, 0.0350815 , 0.03451773,\n",
       "        0.03359523, 0.03319809, 0.03306774, 0.03271566, 0.0326372 ]],\n",
       "      dtype=float32)>, identifiers=<tf.Tensor: shape=(8, 20), dtype=int32, numpy=\n",
       "array([[ 13, 137,  14,  28, 168,  49,   9, 398, 653, 197,  84,   7, 562,\n",
       "        559,  44,  15, 448, 437,   2,  37],\n",
       "       [291, 287, 299, 147, 179, 110,   7,   6, 417,  20,  45,  12, 132,\n",
       "         15, 116,  91,  56,  63, 261, 573],\n",
       "       [  9,  26, 328, 134, 459, 481, 263, 136, 269, 398, 520, 274, 142,\n",
       "        301, 415, 143, 366, 290, 470,   1],\n",
       "       [  4,  95,  18,   2, 198, 387, 196, 312, 463, 354,  88, 435, 612,\n",
       "        289,  11,   3, 284,  28, 260, 335],\n",
       "       [  6, 291,   7, 417,  20, 410,  12,  63, 614, 132,  56, 179, 287,\n",
       "        190, 538, 573,  19, 472, 147, 429],\n",
       "       [212,  11, 387,   1, 465,  18, 437,  50,  98,  86, 296, 100,  66,\n",
       "        163, 130, 480,  44, 204, 427,  14],\n",
       "       [  1,  11,  14,   9,  19,  24, 137, 562, 441, 465, 148, 230, 674,\n",
       "        114,  13, 232, 396, 509, 634, 172],\n",
       "       [ 35, 142, 125,  15, 105, 253,  16,  45, 379, 313,  58, 382, 674,\n",
       "        490, 261, 410,  62,  90, 459,  91]], dtype=int32)>)"
      ]
     },
     "execution_count": 23,
     "metadata": {},
     "output_type": "execute_result"
    }
   ],
   "source": [
    "topk_model(batch[0])"
   ]
  },
  {
   "cell_type": "markdown",
   "id": "b19062ef",
   "metadata": {
    "pycharm": {
     "name": "#%% md\n"
    }
   },
   "source": [
    "## Exporting Retrieval Models"
   ]
  },
  {
   "cell_type": "markdown",
   "id": "abf8cb35",
   "metadata": {
    "pycharm": {
     "name": "#%% md\n"
    }
   },
   "source": [
    "So far we have trained and evaluated our Retrieval model. Now, the next step is to deploy our model and generate top-K recommendations given a user (query). We can efficiently serve our model by indexing the trained item embeddings into an **Approximate Nearest Neighbors (ANN)** engine. Basically, for a given user query vector, that is generated passing the user features into user tower of retrieval model, we do an ANN search query to find the ids of nearby item vectors, and at serve time, we score user embeddings over all indexed top-K item embeddings within the ANN engine.\n",
    "\n",
    "In doing so, we need to export\n",
    " \n",
    "- user (query) tower\n",
    "- item and user features\n",
    "- item embeddings"
   ]
  },
  {
   "cell_type": "markdown",
   "id": "a01df11e",
   "metadata": {
    "pycharm": {
     "name": "#%% md\n"
    }
   },
   "source": [
    "#### Save and Load User (query) tower"
   ]
  },
  {
   "cell_type": "markdown",
   "id": "f4dc5e2c",
   "metadata": {
    "pycharm": {
     "name": "#%% md\n"
    }
   },
   "source": [
    "We are able to save the user tower model as a TF model to disk. The user tower model is needed to generate a user embedding vector when a user feature vector <i>x</i> is fed into that model."
   ]
  },
  {
   "cell_type": "code",
   "execution_count": 24,
   "id": "07c68eb4",
   "metadata": {
    "pycharm": {
     "name": "#%%\n"
    }
   },
   "outputs": [],
   "source": [
    "query_tower = model.query_encoder\n",
    "query_tower.save(os.path.join(DATA_FOLDER, \"query_tower\"))\n",
    "\n",
    "## we can load back the saved model via the following script.\n",
    "#query_tower_loaded = tf.keras.models.load_model(os.path.join(DATA_FOLDER, 'query_tower'))"
   ]
  },
  {
   "cell_type": "markdown",
   "id": "e4c031f8",
   "metadata": {
    "pycharm": {
     "name": "#%% md\n"
    }
   },
   "source": [
    "#### Extract and save User features"
   ]
  },
  {
   "cell_type": "markdown",
   "id": "9cdd88a9",
   "metadata": {
    "pycharm": {
     "name": "#%% md\n"
    }
   },
   "source": [
    "With `unique_rows_by_features` utility function we can easily extract both unique user and item features tables as cuDF dataframes. Note that for user features table, we use `USER` and `USER_ID` tags."
   ]
  },
  {
   "cell_type": "code",
   "execution_count": 26,
   "id": "1f861ac4",
   "metadata": {
    "pycharm": {
     "name": "#%%\n"
    }
   },
   "outputs": [],
   "source": [
    "user_features = (\n",
    "    unique_rows_by_features(train, Tags.USER, Tags.USER_ID).compute().reset_index(drop=True)\n",
    ")"
   ]
  },
  {
   "cell_type": "code",
   "execution_count": 27,
   "id": "f88fcb3a",
   "metadata": {
    "pycharm": {
     "name": "#%%\n"
    }
   },
   "outputs": [
    {
     "data": {
      "text/html": [
       "<div>\n",
       "<style scoped>\n",
       "    .dataframe tbody tr th:only-of-type {\n",
       "        vertical-align: middle;\n",
       "    }\n",
       "\n",
       "    .dataframe tbody tr th {\n",
       "        vertical-align: top;\n",
       "    }\n",
       "\n",
       "    .dataframe thead th {\n",
       "        text-align: right;\n",
       "    }\n",
       "</style>\n",
       "<table border=\"1\" class=\"dataframe\">\n",
       "  <thead>\n",
       "    <tr style=\"text-align: right;\">\n",
       "      <th></th>\n",
       "      <th>user_id</th>\n",
       "      <th>user_shops</th>\n",
       "      <th>user_profile</th>\n",
       "      <th>user_group</th>\n",
       "      <th>user_gender</th>\n",
       "      <th>user_age</th>\n",
       "      <th>user_consumption_2</th>\n",
       "      <th>user_is_occupied</th>\n",
       "      <th>user_geography</th>\n",
       "      <th>user_intentions</th>\n",
       "      <th>user_brands</th>\n",
       "      <th>user_categories</th>\n",
       "    </tr>\n",
       "  </thead>\n",
       "  <tbody>\n",
       "    <tr>\n",
       "      <th>0</th>\n",
       "      <td>1</td>\n",
       "      <td>1</td>\n",
       "      <td>1</td>\n",
       "      <td>1</td>\n",
       "      <td>1</td>\n",
       "      <td>1</td>\n",
       "      <td>1</td>\n",
       "      <td>1</td>\n",
       "      <td>1</td>\n",
       "      <td>1</td>\n",
       "      <td>1</td>\n",
       "      <td>1</td>\n",
       "    </tr>\n",
       "    <tr>\n",
       "      <th>1</th>\n",
       "      <td>2</td>\n",
       "      <td>2</td>\n",
       "      <td>1</td>\n",
       "      <td>1</td>\n",
       "      <td>1</td>\n",
       "      <td>1</td>\n",
       "      <td>1</td>\n",
       "      <td>1</td>\n",
       "      <td>1</td>\n",
       "      <td>2</td>\n",
       "      <td>2</td>\n",
       "      <td>2</td>\n",
       "    </tr>\n",
       "    <tr>\n",
       "      <th>2</th>\n",
       "      <td>3</td>\n",
       "      <td>3</td>\n",
       "      <td>1</td>\n",
       "      <td>1</td>\n",
       "      <td>1</td>\n",
       "      <td>1</td>\n",
       "      <td>1</td>\n",
       "      <td>1</td>\n",
       "      <td>1</td>\n",
       "      <td>3</td>\n",
       "      <td>3</td>\n",
       "      <td>3</td>\n",
       "    </tr>\n",
       "    <tr>\n",
       "      <th>3</th>\n",
       "      <td>4</td>\n",
       "      <td>4</td>\n",
       "      <td>1</td>\n",
       "      <td>1</td>\n",
       "      <td>1</td>\n",
       "      <td>1</td>\n",
       "      <td>1</td>\n",
       "      <td>1</td>\n",
       "      <td>1</td>\n",
       "      <td>4</td>\n",
       "      <td>4</td>\n",
       "      <td>4</td>\n",
       "    </tr>\n",
       "    <tr>\n",
       "      <th>4</th>\n",
       "      <td>5</td>\n",
       "      <td>5</td>\n",
       "      <td>1</td>\n",
       "      <td>1</td>\n",
       "      <td>1</td>\n",
       "      <td>1</td>\n",
       "      <td>1</td>\n",
       "      <td>1</td>\n",
       "      <td>1</td>\n",
       "      <td>5</td>\n",
       "      <td>5</td>\n",
       "      <td>5</td>\n",
       "    </tr>\n",
       "  </tbody>\n",
       "</table>\n",
       "</div>"
      ],
      "text/plain": [
       "   user_id  user_shops  user_profile  user_group  user_gender  user_age  \\\n",
       "0        1           1             1           1            1         1   \n",
       "1        2           2             1           1            1         1   \n",
       "2        3           3             1           1            1         1   \n",
       "3        4           4             1           1            1         1   \n",
       "4        5           5             1           1            1         1   \n",
       "\n",
       "   user_consumption_2  user_is_occupied  user_geography  user_intentions  \\\n",
       "0                   1                 1               1                1   \n",
       "1                   1                 1               1                2   \n",
       "2                   1                 1               1                3   \n",
       "3                   1                 1               1                4   \n",
       "4                   1                 1               1                5   \n",
       "\n",
       "   user_brands  user_categories  \n",
       "0            1                1  \n",
       "1            2                2  \n",
       "2            3                3  \n",
       "3            4                4  \n",
       "4            5                5  "
      ]
     },
     "execution_count": 27,
     "metadata": {},
     "output_type": "execute_result"
    }
   ],
   "source": [
    "user_features.head()"
   ]
  },
  {
   "cell_type": "code",
   "execution_count": 28,
   "id": "7479f68a",
   "metadata": {
    "pycharm": {
     "name": "#%%\n"
    }
   },
   "outputs": [
    {
     "data": {
      "text/plain": [
       "(670, 12)"
      ]
     },
     "execution_count": 28,
     "metadata": {},
     "output_type": "execute_result"
    }
   ],
   "source": [
    "user_features.shape"
   ]
  },
  {
   "cell_type": "code",
   "execution_count": 29,
   "id": "33758417",
   "metadata": {
    "pycharm": {
     "name": "#%%\n"
    }
   },
   "outputs": [],
   "source": [
    "# save to disk\n",
    "user_features.to_parquet(os.path.join(DATA_FOLDER, \"user_features.parquet\"))"
   ]
  },
  {
   "cell_type": "markdown",
   "id": "184f6cf6-cc5e-459e-9d87-5fdcd01d8c85",
   "metadata": {},
   "source": [
    "#### Generate Query embeddings for entire user catalog"
   ]
  },
  {
   "cell_type": "code",
   "execution_count": 30,
   "id": "5d31a12c-ca41-4b02-9288-7d6b31d54e39",
   "metadata": {},
   "outputs": [
    {
     "name": "stderr",
     "output_type": "stream",
     "text": [
      "/usr/local/lib/python3.8/dist-packages/merlin/schema/tags.py:148: UserWarning: Compound tags like Tags.USER_ID have been deprecated and will be removed in a future version. Please use the atomic versions of these tags, like [<Tags.USER: 'user'>, <Tags.ID: 'id'>].\n",
      "  warnings.warn(\n"
     ]
    }
   ],
   "source": [
    "queries = model.query_embeddings(Dataset(user_features, schema=schema), batch_size=1024, index=Tags.USER_ID)\n",
    "query_embs_df = queries.compute(scheduler=\"synchronous\").reset_index()"
   ]
  },
  {
   "cell_type": "code",
   "execution_count": 31,
   "id": "42b45f67-b3b3-42c3-8d76-b7ac0e391d7d",
   "metadata": {},
   "outputs": [
    {
     "data": {
      "text/html": [
       "<div>\n",
       "<style scoped>\n",
       "    .dataframe tbody tr th:only-of-type {\n",
       "        vertical-align: middle;\n",
       "    }\n",
       "\n",
       "    .dataframe tbody tr th {\n",
       "        vertical-align: top;\n",
       "    }\n",
       "\n",
       "    .dataframe thead th {\n",
       "        text-align: right;\n",
       "    }\n",
       "</style>\n",
       "<table border=\"1\" class=\"dataframe\">\n",
       "  <thead>\n",
       "    <tr style=\"text-align: right;\">\n",
       "      <th></th>\n",
       "      <th>user_id</th>\n",
       "      <th>0</th>\n",
       "      <th>1</th>\n",
       "      <th>2</th>\n",
       "      <th>3</th>\n",
       "      <th>4</th>\n",
       "      <th>5</th>\n",
       "      <th>6</th>\n",
       "      <th>7</th>\n",
       "      <th>8</th>\n",
       "      <th>...</th>\n",
       "      <th>54</th>\n",
       "      <th>55</th>\n",
       "      <th>56</th>\n",
       "      <th>57</th>\n",
       "      <th>58</th>\n",
       "      <th>59</th>\n",
       "      <th>60</th>\n",
       "      <th>61</th>\n",
       "      <th>62</th>\n",
       "      <th>63</th>\n",
       "    </tr>\n",
       "  </thead>\n",
       "  <tbody>\n",
       "    <tr>\n",
       "      <th>0</th>\n",
       "      <td>1</td>\n",
       "      <td>0.007236</td>\n",
       "      <td>-0.011091</td>\n",
       "      <td>0.031452</td>\n",
       "      <td>0.036042</td>\n",
       "      <td>-0.026632</td>\n",
       "      <td>-0.036503</td>\n",
       "      <td>-0.014497</td>\n",
       "      <td>0.030610</td>\n",
       "      <td>-0.070837</td>\n",
       "      <td>...</td>\n",
       "      <td>-0.059863</td>\n",
       "      <td>-0.062461</td>\n",
       "      <td>-0.073296</td>\n",
       "      <td>0.017011</td>\n",
       "      <td>-0.035493</td>\n",
       "      <td>-0.032378</td>\n",
       "      <td>0.038639</td>\n",
       "      <td>0.049368</td>\n",
       "      <td>0.090955</td>\n",
       "      <td>-0.040021</td>\n",
       "    </tr>\n",
       "    <tr>\n",
       "      <th>1</th>\n",
       "      <td>2</td>\n",
       "      <td>-0.058328</td>\n",
       "      <td>0.002314</td>\n",
       "      <td>-0.025751</td>\n",
       "      <td>0.120739</td>\n",
       "      <td>-0.063952</td>\n",
       "      <td>-0.036477</td>\n",
       "      <td>-0.019444</td>\n",
       "      <td>0.012032</td>\n",
       "      <td>-0.059189</td>\n",
       "      <td>...</td>\n",
       "      <td>-0.044379</td>\n",
       "      <td>-0.085005</td>\n",
       "      <td>-0.092929</td>\n",
       "      <td>0.055135</td>\n",
       "      <td>-0.004949</td>\n",
       "      <td>-0.041250</td>\n",
       "      <td>-0.028414</td>\n",
       "      <td>0.042066</td>\n",
       "      <td>0.053964</td>\n",
       "      <td>-0.059259</td>\n",
       "    </tr>\n",
       "    <tr>\n",
       "      <th>2</th>\n",
       "      <td>3</td>\n",
       "      <td>-0.070867</td>\n",
       "      <td>0.012901</td>\n",
       "      <td>-0.091407</td>\n",
       "      <td>0.106760</td>\n",
       "      <td>-0.045025</td>\n",
       "      <td>-0.113616</td>\n",
       "      <td>0.061266</td>\n",
       "      <td>-0.037255</td>\n",
       "      <td>-0.012828</td>\n",
       "      <td>...</td>\n",
       "      <td>-0.119775</td>\n",
       "      <td>-0.036340</td>\n",
       "      <td>-0.117950</td>\n",
       "      <td>-0.035277</td>\n",
       "      <td>0.044963</td>\n",
       "      <td>0.000867</td>\n",
       "      <td>-0.077500</td>\n",
       "      <td>0.061420</td>\n",
       "      <td>0.005309</td>\n",
       "      <td>-0.056231</td>\n",
       "    </tr>\n",
       "    <tr>\n",
       "      <th>3</th>\n",
       "      <td>4</td>\n",
       "      <td>-0.086403</td>\n",
       "      <td>0.028190</td>\n",
       "      <td>-0.045930</td>\n",
       "      <td>0.124974</td>\n",
       "      <td>-0.084398</td>\n",
       "      <td>-0.103136</td>\n",
       "      <td>-0.090093</td>\n",
       "      <td>0.072658</td>\n",
       "      <td>-0.076329</td>\n",
       "      <td>...</td>\n",
       "      <td>-0.024317</td>\n",
       "      <td>-0.012980</td>\n",
       "      <td>-0.039977</td>\n",
       "      <td>0.043651</td>\n",
       "      <td>-0.037770</td>\n",
       "      <td>0.016203</td>\n",
       "      <td>-0.063164</td>\n",
       "      <td>-0.038701</td>\n",
       "      <td>0.015971</td>\n",
       "      <td>-0.062238</td>\n",
       "    </tr>\n",
       "    <tr>\n",
       "      <th>4</th>\n",
       "      <td>5</td>\n",
       "      <td>-0.078594</td>\n",
       "      <td>-0.008169</td>\n",
       "      <td>0.050156</td>\n",
       "      <td>0.104960</td>\n",
       "      <td>-0.080393</td>\n",
       "      <td>0.039646</td>\n",
       "      <td>-0.074536</td>\n",
       "      <td>0.032025</td>\n",
       "      <td>-0.069479</td>\n",
       "      <td>...</td>\n",
       "      <td>-0.026055</td>\n",
       "      <td>0.003718</td>\n",
       "      <td>-0.033900</td>\n",
       "      <td>0.020597</td>\n",
       "      <td>-0.030418</td>\n",
       "      <td>0.019828</td>\n",
       "      <td>-0.022337</td>\n",
       "      <td>0.011041</td>\n",
       "      <td>0.086443</td>\n",
       "      <td>-0.098106</td>\n",
       "    </tr>\n",
       "  </tbody>\n",
       "</table>\n",
       "<p>5 rows × 65 columns</p>\n",
       "</div>"
      ],
      "text/plain": [
       "   user_id         0         1         2         3         4         5  \\\n",
       "0        1  0.007236 -0.011091  0.031452  0.036042 -0.026632 -0.036503   \n",
       "1        2 -0.058328  0.002314 -0.025751  0.120739 -0.063952 -0.036477   \n",
       "2        3 -0.070867  0.012901 -0.091407  0.106760 -0.045025 -0.113616   \n",
       "3        4 -0.086403  0.028190 -0.045930  0.124974 -0.084398 -0.103136   \n",
       "4        5 -0.078594 -0.008169  0.050156  0.104960 -0.080393  0.039646   \n",
       "\n",
       "          6         7         8  ...        54        55        56        57  \\\n",
       "0 -0.014497  0.030610 -0.070837  ... -0.059863 -0.062461 -0.073296  0.017011   \n",
       "1 -0.019444  0.012032 -0.059189  ... -0.044379 -0.085005 -0.092929  0.055135   \n",
       "2  0.061266 -0.037255 -0.012828  ... -0.119775 -0.036340 -0.117950 -0.035277   \n",
       "3 -0.090093  0.072658 -0.076329  ... -0.024317 -0.012980 -0.039977  0.043651   \n",
       "4 -0.074536  0.032025 -0.069479  ... -0.026055  0.003718 -0.033900  0.020597   \n",
       "\n",
       "         58        59        60        61        62        63  \n",
       "0 -0.035493 -0.032378  0.038639  0.049368  0.090955 -0.040021  \n",
       "1 -0.004949 -0.041250 -0.028414  0.042066  0.053964 -0.059259  \n",
       "2  0.044963  0.000867 -0.077500  0.061420  0.005309 -0.056231  \n",
       "3 -0.037770  0.016203 -0.063164 -0.038701  0.015971 -0.062238  \n",
       "4 -0.030418  0.019828 -0.022337  0.011041  0.086443 -0.098106  \n",
       "\n",
       "[5 rows x 65 columns]"
      ]
     },
     "execution_count": 31,
     "metadata": {},
     "output_type": "execute_result"
    }
   ],
   "source": [
    "query_embs_df.head()"
   ]
  },
  {
   "cell_type": "markdown",
   "id": "595b1578",
   "metadata": {
    "pycharm": {
     "name": "#%% md\n"
    }
   },
   "source": [
    "#### Extract and save Item features"
   ]
  },
  {
   "cell_type": "code",
   "execution_count": 32,
   "id": "3ae320ec",
   "metadata": {
    "pycharm": {
     "name": "#%%\n"
    }
   },
   "outputs": [],
   "source": [
    "item_features = (\n",
    "    unique_rows_by_features(train, Tags.ITEM, Tags.ITEM_ID).compute().reset_index(drop=True)\n",
    ")"
   ]
  },
  {
   "cell_type": "code",
   "execution_count": 33,
   "id": "8a24dcb8",
   "metadata": {
    "pycharm": {
     "name": "#%%\n"
    }
   },
   "outputs": [
    {
     "data": {
      "text/html": [
       "<div>\n",
       "<style scoped>\n",
       "    .dataframe tbody tr th:only-of-type {\n",
       "        vertical-align: middle;\n",
       "    }\n",
       "\n",
       "    .dataframe tbody tr th {\n",
       "        vertical-align: top;\n",
       "    }\n",
       "\n",
       "    .dataframe thead th {\n",
       "        text-align: right;\n",
       "    }\n",
       "</style>\n",
       "<table border=\"1\" class=\"dataframe\">\n",
       "  <thead>\n",
       "    <tr style=\"text-align: right;\">\n",
       "      <th></th>\n",
       "      <th>item_id</th>\n",
       "      <th>item_category</th>\n",
       "      <th>item_shop</th>\n",
       "      <th>item_brand</th>\n",
       "    </tr>\n",
       "  </thead>\n",
       "  <tbody>\n",
       "    <tr>\n",
       "      <th>0</th>\n",
       "      <td>1</td>\n",
       "      <td>1</td>\n",
       "      <td>1</td>\n",
       "      <td>1</td>\n",
       "    </tr>\n",
       "    <tr>\n",
       "      <th>1</th>\n",
       "      <td>2</td>\n",
       "      <td>2</td>\n",
       "      <td>2</td>\n",
       "      <td>2</td>\n",
       "    </tr>\n",
       "    <tr>\n",
       "      <th>2</th>\n",
       "      <td>3</td>\n",
       "      <td>3</td>\n",
       "      <td>3</td>\n",
       "      <td>3</td>\n",
       "    </tr>\n",
       "    <tr>\n",
       "      <th>3</th>\n",
       "      <td>4</td>\n",
       "      <td>4</td>\n",
       "      <td>4</td>\n",
       "      <td>4</td>\n",
       "    </tr>\n",
       "    <tr>\n",
       "      <th>4</th>\n",
       "      <td>5</td>\n",
       "      <td>5</td>\n",
       "      <td>5</td>\n",
       "      <td>5</td>\n",
       "    </tr>\n",
       "  </tbody>\n",
       "</table>\n",
       "</div>"
      ],
      "text/plain": [
       "   item_id  item_category  item_shop  item_brand\n",
       "0        1              1          1           1\n",
       "1        2              2          2           2\n",
       "2        3              3          3           3\n",
       "3        4              4          4           4\n",
       "4        5              5          5           5"
      ]
     },
     "execution_count": 33,
     "metadata": {},
     "output_type": "execute_result"
    }
   ],
   "source": [
    "item_features.head()"
   ]
  },
  {
   "cell_type": "code",
   "execution_count": 34,
   "id": "40102380",
   "metadata": {
    "pycharm": {
     "name": "#%%\n"
    }
   },
   "outputs": [],
   "source": [
    "# save to disk\n",
    "item_features.to_parquet(os.path.join(DATA_FOLDER, \"item_features.parquet\"))"
   ]
  },
  {
   "cell_type": "markdown",
   "id": "f57f5a3e",
   "metadata": {
    "pycharm": {
     "name": "#%% md\n"
    }
   },
   "source": [
    "#### Extract and save Item embeddings"
   ]
  },
  {
   "cell_type": "code",
   "execution_count": 35,
   "id": "30f50d2a-dbf3-4459-af46-1a8194730896",
   "metadata": {},
   "outputs": [
    {
     "name": "stderr",
     "output_type": "stream",
     "text": [
      "/usr/local/lib/python3.8/dist-packages/merlin/schema/tags.py:148: UserWarning: Compound tags like Tags.ITEM_ID have been deprecated and will be removed in a future version. Please use the atomic versions of these tags, like [<Tags.ITEM: 'item'>, <Tags.ID: 'id'>].\n",
      "  warnings.warn(\n"
     ]
    }
   ],
   "source": [
    "item_embs = model.candidate_embeddings(Dataset(item_features, schema=schema), batch_size=1024, index=Tags.ITEM_ID)"
   ]
  },
  {
   "cell_type": "code",
   "execution_count": 36,
   "id": "138678ae",
   "metadata": {
    "pycharm": {
     "name": "#%%\n"
    }
   },
   "outputs": [],
   "source": [
    "item_embs_df = item_embs.compute(scheduler=\"synchronous\")"
   ]
  },
  {
   "cell_type": "code",
   "execution_count": 37,
   "id": "a69694b0",
   "metadata": {
    "pycharm": {
     "name": "#%%\n"
    }
   },
   "outputs": [
    {
     "data": {
      "text/html": [
       "<div>\n",
       "<style scoped>\n",
       "    .dataframe tbody tr th:only-of-type {\n",
       "        vertical-align: middle;\n",
       "    }\n",
       "\n",
       "    .dataframe tbody tr th {\n",
       "        vertical-align: top;\n",
       "    }\n",
       "\n",
       "    .dataframe thead th {\n",
       "        text-align: right;\n",
       "    }\n",
       "</style>\n",
       "<table border=\"1\" class=\"dataframe\">\n",
       "  <thead>\n",
       "    <tr style=\"text-align: right;\">\n",
       "      <th></th>\n",
       "      <th>0</th>\n",
       "      <th>1</th>\n",
       "      <th>2</th>\n",
       "      <th>3</th>\n",
       "      <th>4</th>\n",
       "      <th>5</th>\n",
       "      <th>6</th>\n",
       "      <th>7</th>\n",
       "      <th>8</th>\n",
       "      <th>9</th>\n",
       "      <th>...</th>\n",
       "      <th>54</th>\n",
       "      <th>55</th>\n",
       "      <th>56</th>\n",
       "      <th>57</th>\n",
       "      <th>58</th>\n",
       "      <th>59</th>\n",
       "      <th>60</th>\n",
       "      <th>61</th>\n",
       "      <th>62</th>\n",
       "      <th>63</th>\n",
       "    </tr>\n",
       "    <tr>\n",
       "      <th>item_id</th>\n",
       "      <th></th>\n",
       "      <th></th>\n",
       "      <th></th>\n",
       "      <th></th>\n",
       "      <th></th>\n",
       "      <th></th>\n",
       "      <th></th>\n",
       "      <th></th>\n",
       "      <th></th>\n",
       "      <th></th>\n",
       "      <th></th>\n",
       "      <th></th>\n",
       "      <th></th>\n",
       "      <th></th>\n",
       "      <th></th>\n",
       "      <th></th>\n",
       "      <th></th>\n",
       "      <th></th>\n",
       "      <th></th>\n",
       "      <th></th>\n",
       "      <th></th>\n",
       "    </tr>\n",
       "  </thead>\n",
       "  <tbody>\n",
       "    <tr>\n",
       "      <th>1</th>\n",
       "      <td>0.069517</td>\n",
       "      <td>-0.104214</td>\n",
       "      <td>-0.075204</td>\n",
       "      <td>0.028716</td>\n",
       "      <td>-0.097462</td>\n",
       "      <td>-0.072198</td>\n",
       "      <td>0.019826</td>\n",
       "      <td>0.107861</td>\n",
       "      <td>-0.031005</td>\n",
       "      <td>-0.016088</td>\n",
       "      <td>...</td>\n",
       "      <td>-0.012549</td>\n",
       "      <td>0.043469</td>\n",
       "      <td>-0.009982</td>\n",
       "      <td>-0.065651</td>\n",
       "      <td>0.080480</td>\n",
       "      <td>0.009935</td>\n",
       "      <td>0.019771</td>\n",
       "      <td>0.014189</td>\n",
       "      <td>-0.027317</td>\n",
       "      <td>0.089973</td>\n",
       "    </tr>\n",
       "    <tr>\n",
       "      <th>2</th>\n",
       "      <td>-0.008808</td>\n",
       "      <td>0.025472</td>\n",
       "      <td>-0.016366</td>\n",
       "      <td>0.031776</td>\n",
       "      <td>0.015740</td>\n",
       "      <td>0.004447</td>\n",
       "      <td>0.067143</td>\n",
       "      <td>0.019933</td>\n",
       "      <td>0.019715</td>\n",
       "      <td>-0.084745</td>\n",
       "      <td>...</td>\n",
       "      <td>-0.063557</td>\n",
       "      <td>-0.049028</td>\n",
       "      <td>-0.020455</td>\n",
       "      <td>-0.050621</td>\n",
       "      <td>0.075051</td>\n",
       "      <td>-0.035535</td>\n",
       "      <td>-0.021190</td>\n",
       "      <td>0.061010</td>\n",
       "      <td>0.030041</td>\n",
       "      <td>0.098613</td>\n",
       "    </tr>\n",
       "    <tr>\n",
       "      <th>3</th>\n",
       "      <td>-0.014674</td>\n",
       "      <td>0.021853</td>\n",
       "      <td>-0.038137</td>\n",
       "      <td>0.070924</td>\n",
       "      <td>-0.027926</td>\n",
       "      <td>0.004813</td>\n",
       "      <td>-0.030839</td>\n",
       "      <td>0.077789</td>\n",
       "      <td>0.002299</td>\n",
       "      <td>0.039477</td>\n",
       "      <td>...</td>\n",
       "      <td>-0.002441</td>\n",
       "      <td>-0.003911</td>\n",
       "      <td>-0.045193</td>\n",
       "      <td>0.010367</td>\n",
       "      <td>0.020581</td>\n",
       "      <td>-0.002212</td>\n",
       "      <td>-0.045873</td>\n",
       "      <td>0.017771</td>\n",
       "      <td>-0.015072</td>\n",
       "      <td>0.049990</td>\n",
       "    </tr>\n",
       "    <tr>\n",
       "      <th>4</th>\n",
       "      <td>0.002860</td>\n",
       "      <td>0.028556</td>\n",
       "      <td>0.020693</td>\n",
       "      <td>0.037079</td>\n",
       "      <td>-0.019777</td>\n",
       "      <td>0.031904</td>\n",
       "      <td>-0.023743</td>\n",
       "      <td>0.041499</td>\n",
       "      <td>0.010521</td>\n",
       "      <td>0.024719</td>\n",
       "      <td>...</td>\n",
       "      <td>-0.034833</td>\n",
       "      <td>0.009799</td>\n",
       "      <td>-0.062456</td>\n",
       "      <td>0.000583</td>\n",
       "      <td>0.024885</td>\n",
       "      <td>-0.056013</td>\n",
       "      <td>-0.013155</td>\n",
       "      <td>0.003413</td>\n",
       "      <td>0.016525</td>\n",
       "      <td>0.066441</td>\n",
       "    </tr>\n",
       "    <tr>\n",
       "      <th>5</th>\n",
       "      <td>-0.035514</td>\n",
       "      <td>0.069924</td>\n",
       "      <td>-0.012289</td>\n",
       "      <td>0.056976</td>\n",
       "      <td>-0.041162</td>\n",
       "      <td>-0.077516</td>\n",
       "      <td>-0.053215</td>\n",
       "      <td>0.071526</td>\n",
       "      <td>-0.029758</td>\n",
       "      <td>0.061776</td>\n",
       "      <td>...</td>\n",
       "      <td>0.011410</td>\n",
       "      <td>0.021131</td>\n",
       "      <td>0.007661</td>\n",
       "      <td>0.058606</td>\n",
       "      <td>-0.076627</td>\n",
       "      <td>-0.029217</td>\n",
       "      <td>-0.006974</td>\n",
       "      <td>-0.034651</td>\n",
       "      <td>-0.072621</td>\n",
       "      <td>-0.006767</td>\n",
       "    </tr>\n",
       "    <tr>\n",
       "      <th>...</th>\n",
       "      <td>...</td>\n",
       "      <td>...</td>\n",
       "      <td>...</td>\n",
       "      <td>...</td>\n",
       "      <td>...</td>\n",
       "      <td>...</td>\n",
       "      <td>...</td>\n",
       "      <td>...</td>\n",
       "      <td>...</td>\n",
       "      <td>...</td>\n",
       "      <td>...</td>\n",
       "      <td>...</td>\n",
       "      <td>...</td>\n",
       "      <td>...</td>\n",
       "      <td>...</td>\n",
       "      <td>...</td>\n",
       "      <td>...</td>\n",
       "      <td>...</td>\n",
       "      <td>...</td>\n",
       "      <td>...</td>\n",
       "      <td>...</td>\n",
       "    </tr>\n",
       "    <tr>\n",
       "      <th>658</th>\n",
       "      <td>0.015395</td>\n",
       "      <td>0.002248</td>\n",
       "      <td>0.060358</td>\n",
       "      <td>0.021226</td>\n",
       "      <td>-0.023938</td>\n",
       "      <td>-0.014744</td>\n",
       "      <td>0.029260</td>\n",
       "      <td>0.045533</td>\n",
       "      <td>-0.019517</td>\n",
       "      <td>-0.034832</td>\n",
       "      <td>...</td>\n",
       "      <td>0.008409</td>\n",
       "      <td>0.025469</td>\n",
       "      <td>0.054268</td>\n",
       "      <td>0.030795</td>\n",
       "      <td>-0.073625</td>\n",
       "      <td>-0.035433</td>\n",
       "      <td>0.042152</td>\n",
       "      <td>0.000461</td>\n",
       "      <td>-0.061142</td>\n",
       "      <td>0.047165</td>\n",
       "    </tr>\n",
       "    <tr>\n",
       "      <th>659</th>\n",
       "      <td>-0.001080</td>\n",
       "      <td>-0.061183</td>\n",
       "      <td>0.039221</td>\n",
       "      <td>-0.003353</td>\n",
       "      <td>0.006636</td>\n",
       "      <td>0.018814</td>\n",
       "      <td>-0.010222</td>\n",
       "      <td>0.044349</td>\n",
       "      <td>-0.036747</td>\n",
       "      <td>0.000195</td>\n",
       "      <td>...</td>\n",
       "      <td>-0.019220</td>\n",
       "      <td>-0.025662</td>\n",
       "      <td>-0.011337</td>\n",
       "      <td>-0.002444</td>\n",
       "      <td>-0.013816</td>\n",
       "      <td>-0.036031</td>\n",
       "      <td>0.006682</td>\n",
       "      <td>0.016636</td>\n",
       "      <td>-0.038625</td>\n",
       "      <td>0.005651</td>\n",
       "    </tr>\n",
       "    <tr>\n",
       "      <th>660</th>\n",
       "      <td>0.001210</td>\n",
       "      <td>-0.043627</td>\n",
       "      <td>0.020973</td>\n",
       "      <td>-0.000975</td>\n",
       "      <td>-0.012985</td>\n",
       "      <td>-0.060766</td>\n",
       "      <td>0.032327</td>\n",
       "      <td>0.055184</td>\n",
       "      <td>0.011252</td>\n",
       "      <td>-0.051540</td>\n",
       "      <td>...</td>\n",
       "      <td>-0.010178</td>\n",
       "      <td>-0.001657</td>\n",
       "      <td>0.012095</td>\n",
       "      <td>-0.028837</td>\n",
       "      <td>-0.030117</td>\n",
       "      <td>-0.001157</td>\n",
       "      <td>0.017854</td>\n",
       "      <td>0.000087</td>\n",
       "      <td>-0.037736</td>\n",
       "      <td>0.038003</td>\n",
       "    </tr>\n",
       "    <tr>\n",
       "      <th>661</th>\n",
       "      <td>0.000551</td>\n",
       "      <td>0.017241</td>\n",
       "      <td>0.064678</td>\n",
       "      <td>0.024326</td>\n",
       "      <td>0.023493</td>\n",
       "      <td>0.042845</td>\n",
       "      <td>-0.042624</td>\n",
       "      <td>0.042588</td>\n",
       "      <td>0.004686</td>\n",
       "      <td>-0.029772</td>\n",
       "      <td>...</td>\n",
       "      <td>-0.007027</td>\n",
       "      <td>0.010878</td>\n",
       "      <td>-0.019116</td>\n",
       "      <td>0.025958</td>\n",
       "      <td>0.005568</td>\n",
       "      <td>-0.005658</td>\n",
       "      <td>0.006696</td>\n",
       "      <td>-0.000027</td>\n",
       "      <td>-0.026030</td>\n",
       "      <td>0.058248</td>\n",
       "    </tr>\n",
       "    <tr>\n",
       "      <th>662</th>\n",
       "      <td>-0.019830</td>\n",
       "      <td>0.029427</td>\n",
       "      <td>0.072742</td>\n",
       "      <td>0.027660</td>\n",
       "      <td>-0.024333</td>\n",
       "      <td>0.057351</td>\n",
       "      <td>-0.044384</td>\n",
       "      <td>0.061526</td>\n",
       "      <td>0.024393</td>\n",
       "      <td>-0.023027</td>\n",
       "      <td>...</td>\n",
       "      <td>0.038963</td>\n",
       "      <td>-0.015559</td>\n",
       "      <td>0.050686</td>\n",
       "      <td>0.005348</td>\n",
       "      <td>0.010406</td>\n",
       "      <td>0.019880</td>\n",
       "      <td>-0.032241</td>\n",
       "      <td>0.002801</td>\n",
       "      <td>0.025572</td>\n",
       "      <td>0.035036</td>\n",
       "    </tr>\n",
       "  </tbody>\n",
       "</table>\n",
       "<p>662 rows × 64 columns</p>\n",
       "</div>"
      ],
      "text/plain": [
       "                0         1         2         3         4         5         6  \\\n",
       "item_id                                                                         \n",
       "1        0.069517 -0.104214 -0.075204  0.028716 -0.097462 -0.072198  0.019826   \n",
       "2       -0.008808  0.025472 -0.016366  0.031776  0.015740  0.004447  0.067143   \n",
       "3       -0.014674  0.021853 -0.038137  0.070924 -0.027926  0.004813 -0.030839   \n",
       "4        0.002860  0.028556  0.020693  0.037079 -0.019777  0.031904 -0.023743   \n",
       "5       -0.035514  0.069924 -0.012289  0.056976 -0.041162 -0.077516 -0.053215   \n",
       "...           ...       ...       ...       ...       ...       ...       ...   \n",
       "658      0.015395  0.002248  0.060358  0.021226 -0.023938 -0.014744  0.029260   \n",
       "659     -0.001080 -0.061183  0.039221 -0.003353  0.006636  0.018814 -0.010222   \n",
       "660      0.001210 -0.043627  0.020973 -0.000975 -0.012985 -0.060766  0.032327   \n",
       "661      0.000551  0.017241  0.064678  0.024326  0.023493  0.042845 -0.042624   \n",
       "662     -0.019830  0.029427  0.072742  0.027660 -0.024333  0.057351 -0.044384   \n",
       "\n",
       "                7         8         9  ...        54        55        56  \\\n",
       "item_id                                ...                                 \n",
       "1        0.107861 -0.031005 -0.016088  ... -0.012549  0.043469 -0.009982   \n",
       "2        0.019933  0.019715 -0.084745  ... -0.063557 -0.049028 -0.020455   \n",
       "3        0.077789  0.002299  0.039477  ... -0.002441 -0.003911 -0.045193   \n",
       "4        0.041499  0.010521  0.024719  ... -0.034833  0.009799 -0.062456   \n",
       "5        0.071526 -0.029758  0.061776  ...  0.011410  0.021131  0.007661   \n",
       "...           ...       ...       ...  ...       ...       ...       ...   \n",
       "658      0.045533 -0.019517 -0.034832  ...  0.008409  0.025469  0.054268   \n",
       "659      0.044349 -0.036747  0.000195  ... -0.019220 -0.025662 -0.011337   \n",
       "660      0.055184  0.011252 -0.051540  ... -0.010178 -0.001657  0.012095   \n",
       "661      0.042588  0.004686 -0.029772  ... -0.007027  0.010878 -0.019116   \n",
       "662      0.061526  0.024393 -0.023027  ...  0.038963 -0.015559  0.050686   \n",
       "\n",
       "               57        58        59        60        61        62        63  \n",
       "item_id                                                                        \n",
       "1       -0.065651  0.080480  0.009935  0.019771  0.014189 -0.027317  0.089973  \n",
       "2       -0.050621  0.075051 -0.035535 -0.021190  0.061010  0.030041  0.098613  \n",
       "3        0.010367  0.020581 -0.002212 -0.045873  0.017771 -0.015072  0.049990  \n",
       "4        0.000583  0.024885 -0.056013 -0.013155  0.003413  0.016525  0.066441  \n",
       "5        0.058606 -0.076627 -0.029217 -0.006974 -0.034651 -0.072621 -0.006767  \n",
       "...           ...       ...       ...       ...       ...       ...       ...  \n",
       "658      0.030795 -0.073625 -0.035433  0.042152  0.000461 -0.061142  0.047165  \n",
       "659     -0.002444 -0.013816 -0.036031  0.006682  0.016636 -0.038625  0.005651  \n",
       "660     -0.028837 -0.030117 -0.001157  0.017854  0.000087 -0.037736  0.038003  \n",
       "661      0.025958  0.005568 -0.005658  0.006696 -0.000027 -0.026030  0.058248  \n",
       "662      0.005348  0.010406  0.019880 -0.032241  0.002801  0.025572  0.035036  \n",
       "\n",
       "[662 rows x 64 columns]"
      ]
     },
     "execution_count": 37,
     "metadata": {},
     "output_type": "execute_result"
    }
   ],
   "source": [
    "item_embs_df"
   ]
  },
  {
   "cell_type": "code",
   "execution_count": 38,
   "id": "5d152e82",
   "metadata": {
    "pycharm": {
     "name": "#%%\n"
    }
   },
   "outputs": [],
   "source": [
    "# save to disk\n",
    "item_embs_df.to_parquet(os.path.join(DATA_FOLDER, \"item_embeddings.parquet\"))"
   ]
  },
  {
   "cell_type": "markdown",
   "id": "1eed43c3",
   "metadata": {
    "pycharm": {
     "name": "#%% md\n"
    }
   },
   "source": [
    "That's it. You have learned how to train and evaluate your Two-Tower retrieval model, and then how to export the required components to be able to deploy this model to generate recommendations. In order to learn more on serving a model to [Triton Inference Server](https://github.com/triton-inference-server/server), please explore the examples in the [Merlin](https://github.com/NVIDIA-Merlin/Merlin) and [Merlin Systems](https://github.com/NVIDIA-Merlin/systems) repos."
   ]
  }
 ],
 "metadata": {
  "kernelspec": {
   "display_name": "Python 3 (ipykernel)",
   "language": "python",
   "name": "python3"
  },
  "language_info": {
   "codemirror_mode": {
    "name": "ipython",
    "version": 3
   },
   "file_extension": ".py",
   "mimetype": "text/x-python",
   "name": "python",
   "nbconvert_exporter": "python",
   "pygments_lexer": "ipython3",
   "version": "3.8.10"
  },
  "merlin": {
   "containers": [
    "nvcr.io/nvidia/merlin/merlin-tensorflow:latest"
   ]
  },
  "vscode": {
   "interpreter": {
    "hash": "a398807c5c2ed8e5ff9d9890488d007fa99cbabcec733962e21659a28c5da99b"
   }
  }
 },
 "nbformat": 4,
 "nbformat_minor": 5
}
