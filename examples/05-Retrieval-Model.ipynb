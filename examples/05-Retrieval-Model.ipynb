{
 "cells": [
  {
   "cell_type": "code",
   "execution_count": 1,
   "id": "63959d5a",
   "metadata": {},
   "outputs": [],
   "source": [
    "# Copyright 2021 NVIDIA Corporation. All Rights Reserved.\n",
    "#\n",
    "# Licensed under the Apache License, Version 2.0 (the \"License\");\n",
    "# you may not use this file except in compliance with the License.\n",
    "# You may obtain a copy of the License at\n",
    "#\n",
    "#     http://www.apache.org/licenses/LICENSE-2.0\n",
    "#\n",
    "# Unless required by applicable law or agreed to in writing, software\n",
    "# distributed under the License is distributed on an \"AS IS\" BASIS,\n",
    "# WITHOUT WARRANTIES OR CONDITIONS OF ANY KIND, either express or implied.\n",
    "# See the License for the specific language governing permissions and\n",
    "# limitations under the License.\n",
    "# ================================"
   ]
  },
  {
   "cell_type": "markdown",
   "id": "906fc19a",
   "metadata": {},
   "source": [
    "<img src=\"http://developer.download.nvidia.com/compute/machine-learning/frameworks/nvidia_logo.png\" style=\"width: 90px; float: right;\">\n",
    "\n",
    "## Two-Stage Recommender Systems\n",
    "\n",
    "In large scale recommender systems pipelines, the size of the item catalog (number of unique items) might be in the order of millions. At such scale, a typical setup is having two-stage pipeline, where a faster candidate retrieval model quickly extracts thousands of relevant items and a then a more powerful ranking model (i.e. with more features and more powerful architecture) ranks the top-k items that are going to be displayed to the user. For ML-based candidate retrieval model, as it needs to quickly score millions of items for a given user, a popular choices are models that can produce recommendation scores by just computing the dot product the user embeddings and item embeddings. Popular choices of such models are **Matrix Factorization**, which learns low-rank user and item embeddings, and the **Two-Tower architecture**, which is a neural network with two MLP towers where both user and item features are fed to generate user and item embeddings in the output."
   ]
  },
  {
   "cell_type": "markdown",
   "id": "401daa6d",
   "metadata": {},
   "source": [
    "\n",
    "### Dataset\n",
    "\n",
    "In this notebook, we are building a Two-Tower model for Item Retrieval task using synthetic datasets that are mimicking the real [Ali-CCP: Alibaba Click and Conversion Prediction](https://tianchi.aliyun.com/dataset/dataDetail?dataId=408#1) dataset.\n",
    "### Learning objectives\n",
    "- Preparing the data with NVTabular\n",
    "- Training and evaluating Two-Tower model with Merlin Models\n",
    "- Exporting the model for deployment"
   ]
  },
  {
   "cell_type": "markdown",
   "id": "cdac1fea",
   "metadata": {},
   "source": [
    "### Importing Libraries"
   ]
  },
  {
   "cell_type": "code",
   "execution_count": 2,
   "id": "92aa8daa",
   "metadata": {},
   "outputs": [
    {
     "name": "stderr",
     "output_type": "stream",
     "text": [
      "2022-04-05 16:17:19.854912: I tensorflow/core/platform/cpu_feature_guard.cc:151] This TensorFlow binary is optimized with oneAPI Deep Neural Network Library (oneDNN) to use the following CPU instructions in performance-critical operations:  AVX2 AVX512F FMA\n",
      "To enable them in other operations, rebuild TensorFlow with the appropriate compiler flags.\n",
      "2022-04-05 16:17:20.952592: I tensorflow/core/common_runtime/gpu/gpu_process_state.cc:214] Using CUDA malloc Async allocator for GPU: 0\n",
      "2022-04-05 16:17:20.952717: I tensorflow/core/common_runtime/gpu/gpu_device.cc:1525] Created device /job:localhost/replica:0/task:0/device:GPU:0 with 16254 MB memory:  -> device: 0, name: Quadro GV100, pci bus id: 0000:15:00.0, compute capability: 7.0\n"
     ]
    }
   ],
   "source": [
    "import os\n",
    "os.environ[\"TF_GPU_ALLOCATOR\"]=\"cuda_malloc_async\"\n",
    "import cudf\n",
    "\n",
    "import nvtabular as nvt\n",
    "from nvtabular.ops import *\n",
    "from merlin.models.utils.example_utils import workflow_fit_transform\n",
    "\n",
    "from merlin.schema.tags import Tags\n",
    "\n",
    "import merlin.models.tf as mm\n",
    "from merlin.io.dataset import Dataset\n",
    "\n",
    "import tensorflow as tf"
   ]
  },
  {
   "cell_type": "code",
   "execution_count": 3,
   "id": "4a91032d",
   "metadata": {},
   "outputs": [],
   "source": [
    "# disable INFO and DEBUG logging everywhere\n",
    "import logging\n",
    "logging.disable(logging.WARNING)"
   ]
  },
  {
   "cell_type": "markdown",
   "id": "fb681b07",
   "metadata": {},
   "source": [
    "### Feature Engineering with NVTabular"
   ]
  },
  {
   "cell_type": "markdown",
   "id": "547bd850",
   "metadata": {},
   "source": [
    "Let's generate synthetic train and validation dataset objects."
   ]
  },
  {
   "cell_type": "code",
   "execution_count": 4,
   "id": "3e2ab7e0",
   "metadata": {},
   "outputs": [],
   "source": [
    "from merlin.datasets.synthetic import generate_data\n",
    "\n",
    "DATA_FOLDER = os.environ.get(\"DATA_FOLDER\", \"/workspace/data/\")\n",
    "train, valid = generate_data(\"aliccp-raw\", 1000000, set_sizes=(0.7, 0.3))"
   ]
  },
  {
   "cell_type": "code",
   "execution_count": 5,
   "id": "591d08e2",
   "metadata": {},
   "outputs": [],
   "source": [
    "# define output path for the processed parquet files\n",
    "output_path = os.path.join(DATA_FOLDER, \"processed\")"
   ]
  },
  {
   "cell_type": "markdown",
   "id": "39ed4ed9",
   "metadata": {},
   "source": [
    "We keep only positive interactions where clicks==1 in the dataset with `Filter()` op."
   ]
  },
  {
   "cell_type": "code",
   "execution_count": 6,
   "id": "7d915f39",
   "metadata": {},
   "outputs": [],
   "source": [
    "user_id = [\"user_id\"] >> Categorify() >> TagAsUserID()\n",
    "item_id = [\"item_id\"] >> Categorify() >> TagAsItemID()\n",
    "\n",
    "item_features = [\"item_category\", \"item_shop\", \"item_brand\"] >> Categorify() >> TagAsItemFeatures()\n",
    "\n",
    "user_features = ['user_shops', 'user_profile', 'user_group', \n",
    "       'user_gender', 'user_age', 'user_consumption_2', 'user_is_occupied',\n",
    "       'user_geography', 'user_intentions', 'user_brands', 'user_categories'] \\\n",
    "        >> Categorify() >> TagAsUserFeatures()\n",
    "\n",
    "inputs = user_id + item_id + item_features + user_features + ['click'] \n",
    "\n",
    "outputs = inputs >> Filter(f=lambda df: df[\"click\"] == 1)"
   ]
  },
  {
   "cell_type": "markdown",
   "id": "293b9b13",
   "metadata": {},
   "source": [
    "With `transform_aliccp` function, we can execute fit() and transform() on the raw dataset applying the operators defined in the NVTabular workflow pipeline above. The processed parquet files are saved to output_path."
   ]
  },
  {
   "cell_type": "code",
   "execution_count": 7,
   "id": "6ba078cd",
   "metadata": {},
   "outputs": [
    {
     "name": "stderr",
     "output_type": "stream",
     "text": [
      "/usr/local/lib/python3.8/dist-packages/cudf/core/dataframe.py:1253: UserWarning: The deep parameter is ignored and is only included for pandas compatibility.\n",
      "  warnings.warn(\n"
     ]
    }
   ],
   "source": [
    "from merlin.datasets.ecommerce import transform_aliccp\n",
    "transform_aliccp((train, valid), output_path, nvt_workflow=outputs)"
   ]
  },
  {
   "cell_type": "markdown",
   "id": "7b37904e",
   "metadata": {
    "tags": []
   },
   "source": [
    "## Building a Two-Tower Model with Merlin Models"
   ]
  },
  {
   "cell_type": "markdown",
   "id": "80f926fc",
   "metadata": {},
   "source": [
    "We will use Two-Tower Model for item retrieval task. Real-world large scale recommender systems have hundreds of millions of items (products) and users. Thus, these systems often composed of two stages: candidate generation (retrieval) and ranking (scoring the retrieved items). At candidate generation step, a subset of relevant items from large item corpus is retrieved. You can read more about two stage Recommender Systems here. In this example, we're going to focus on the retrieval stage.\n",
    "\n",
    "A Two-Tower Model consists of item (candidate) and user (query) encoder towers. With two towers, the model can learn representations (embeddings) for queries and candidates separately. \n",
    "\n",
    "<img src=\"./images/TwoTower.png\"  width=\"30%\">\n",
    "\n",
    "Image Adapted from: [Off-policy Learning in Two-stage Recommender Systems](https://dl.acm.org/doi/abs/10.1145/3366423.3380130)"
   ]
  },
  {
   "cell_type": "markdown",
   "id": "f9180a5a",
   "metadata": {},
   "source": [
    "We use the `schema` object to define our model."
   ]
  },
  {
   "cell_type": "code",
   "execution_count": 8,
   "id": "8480150c",
   "metadata": {},
   "outputs": [
    {
     "data": {
      "text/plain": [
       "'/workspace/data/processed'"
      ]
     },
     "execution_count": 8,
     "metadata": {},
     "output_type": "execute_result"
    }
   ],
   "source": [
    "output_path"
   ]
  },
  {
   "cell_type": "code",
   "execution_count": 9,
   "id": "c316ac25",
   "metadata": {},
   "outputs": [],
   "source": [
    "train = Dataset(os.path.join(output_path, 'train', '*.parquet'))\n",
    "valid = Dataset(os.path.join(output_path, 'valid', '*.parquet'))\n",
    "\n",
    "schema = train.schema"
   ]
  },
  {
   "cell_type": "code",
   "execution_count": 10,
   "id": "951e04e1",
   "metadata": {},
   "outputs": [],
   "source": [
    "schema = schema.select_by_tag([Tags.ITEM_ID, Tags.USER_ID, Tags.ITEM, Tags.USER])"
   ]
  },
  {
   "cell_type": "markdown",
   "id": "25b2501b",
   "metadata": {},
   "source": [
    "We can print out the feature column names."
   ]
  },
  {
   "cell_type": "code",
   "execution_count": 11,
   "id": "d53b5333",
   "metadata": {},
   "outputs": [
    {
     "data": {
      "text/plain": [
       "['user_id',\n",
       " 'item_id',\n",
       " 'item_category',\n",
       " 'item_shop',\n",
       " 'item_brand',\n",
       " 'user_shops',\n",
       " 'user_profile',\n",
       " 'user_group',\n",
       " 'user_gender',\n",
       " 'user_age',\n",
       " 'user_consumption_2',\n",
       " 'user_is_occupied',\n",
       " 'user_geography',\n",
       " 'user_intentions',\n",
       " 'user_brands',\n",
       " 'user_categories']"
      ]
     },
     "execution_count": 11,
     "metadata": {},
     "output_type": "execute_result"
    }
   ],
   "source": [
    "schema.column_names"
   ]
  },
  {
   "cell_type": "markdown",
   "id": "28786102",
   "metadata": {},
   "source": [
    "We expect the label names to be empty."
   ]
  },
  {
   "cell_type": "code",
   "execution_count": 12,
   "id": "c26a9886",
   "metadata": {},
   "outputs": [
    {
     "data": {
      "text/plain": [
       "[]"
      ]
     },
     "execution_count": 12,
     "metadata": {},
     "output_type": "execute_result"
    }
   ],
   "source": [
    "label_names = schema.select_by_tag(Tags.TARGET).column_names\n",
    "label_names"
   ]
  },
  {
   "cell_type": "markdown",
   "id": "4422e4bd",
   "metadata": {},
   "source": [
    "### Negative sampling\n",
    "Many datasets for recommender systems contain implicit feedback with logs of user interactions like clicks, add-to-cart, purchases, music listening events, rather than explicit ratings that reflects user preferences over items. To be able to learn from implicit feedback, we use the general (and naive) assumption that the interacted items are more relevant for the user than the non-interacted ones.\n",
    "In Merlin Models we provide some scalable negative sampling algorithms for the Item Retrieval Task. In particular, we use in this example the in-batch sampling algorithm which uses the items interacted by other users as negatives within the same mini-batch."
   ]
  },
  {
   "cell_type": "markdown",
   "id": "62c92ae9",
   "metadata": {},
   "source": [
    "### Building the Model"
   ]
  },
  {
   "cell_type": "markdown",
   "id": "a22de444",
   "metadata": {},
   "source": [
    "Now, let's build our Two-Tower model. In a nutshell, we aggregate all user features to feed in user tower and feed the item features to the item tower. Then we compute the positive score by multiplying the user embedding with the item embedding and sample negative items (read more about negative sampling [here](https://openreview.net/pdf?id=824xC-SgWgU) and [here](https://medium.com/mlearning-ai/overview-negative-sampling-on-recommendation-systems-230a051c6cd7)), whose item embeddings are also multiplied by the user embedding. Then we apply the loss function on top of the positive and negative scores."
   ]
  },
  {
   "cell_type": "code",
   "execution_count": 13,
   "id": "2e01adda",
   "metadata": {},
   "outputs": [],
   "source": [
    "model = mm.TwoTowerModel(\n",
    "    schema,\n",
    "    query_tower=mm.MLPBlock([128, 64], no_activation_last_layer=True),        \n",
    "    loss=\"categorical_crossentropy\",  \n",
    "    samplers=[mm.InBatchSampler()],\n",
    "    embedding_options = mm.EmbeddingOptions(infer_embedding_sizes=True),\n",
    "    metrics=[mm.RecallAt(10), mm.NDCGAt(10)]\n",
    ")"
   ]
  },
  {
   "cell_type": "markdown",
   "id": "f4d88ef1",
   "metadata": {},
   "source": [
    "Let's explain the parameters in the TwoTowerModel():\n",
    "- no_activation_last_layer: when set True, no activation is used for top hidden layer. Learn more [here](https://storage.googleapis.com/pub-tools-public-publication-data/pdf/b9f4e78a8830fe5afcf2f0452862fb3c0d6584ea.pdf).\n",
    "- infer_embedding_sizes: when set True, automatically defines the embedding dimension from the feature cardinality in the schema\n",
    "\n",
    "**Metrics:**\n",
    "\n",
    "The following information retrieval metrics are used to compute the Top-10 accuracy of recommendation lists containing all items:\n",
    "\n",
    "- **Normalized Discounted Cumulative Gain (NDCG@10)**: NDCG accounts for rank of the relevant item in the recommendation list and is a more fine-grained metric than HR, which only verifies whether the relevant item is among the top-k items.\n",
    "\n",
    "- **Recall@10**: Also known as HitRate@n when there is only one relevant item in the recommendation list. Recall just verifies whether the relevant item is among the top-n items."
   ]
  },
  {
   "cell_type": "markdown",
   "id": "ca839ef1",
   "metadata": {},
   "source": [
    "We need to initialize the dataloaders."
   ]
  },
  {
   "cell_type": "code",
   "execution_count": 14,
   "id": "54fb5397",
   "metadata": {},
   "outputs": [
    {
     "name": "stderr",
     "output_type": "stream",
     "text": [
      "2022-04-05 16:17:25.278668: W tensorflow/python/util/util.cc:368] Sets are not currently considered sequences, but this may change in the future, so consider avoiding using them.\n"
     ]
    },
    {
     "name": "stdout",
     "output_type": "stream",
     "text": [
      "Epoch 1/3\n",
      "85/86 [============================>.] - ETA: 0s - recall_at_10: 0.0177 - ndcg_10: 0.0088 - loss: 8.3001 - regularization_loss: 0.0000e+00 - total_loss: 8.3001"
     ]
    },
    {
     "name": "stderr",
     "output_type": "stream",
     "text": [
      "2022-04-05 16:17:42.029046: W tensorflow/core/grappler/optimizers/loop_optimizer.cc:907] Skipping loop optimization for Merge node with control input: cond/then/_0/cond/cond/branch_executed/_185\n"
     ]
    },
    {
     "name": "stdout",
     "output_type": "stream",
     "text": [
      "86/86 [==============================] - 17s 110ms/step - recall_at_10: 0.0177 - ndcg_10: 0.0089 - loss: 8.2735 - regularization_loss: 0.0000e+00 - total_loss: 8.2735 - val_recall_at_10: 0.0252 - val_ndcg_10: 0.0142 - val_loss: 7.7711 - val_regularization_loss: 0.0000e+00 - val_total_loss: 7.7711\n",
      "Epoch 2/3\n",
      "86/86 [==============================] - 7s 85ms/step - recall_at_10: 0.0263 - ndcg_10: 0.0192 - loss: 8.2724 - regularization_loss: 0.0000e+00 - total_loss: 8.2724 - val_recall_at_10: 0.0245 - val_ndcg_10: 0.0202 - val_loss: 7.7719 - val_regularization_loss: 0.0000e+00 - val_total_loss: 7.7719\n",
      "Epoch 3/3\n",
      "86/86 [==============================] - 7s 81ms/step - recall_at_10: 0.0226 - ndcg_10: 0.0188 - loss: 8.2719 - regularization_loss: 0.0000e+00 - total_loss: 8.2719 - val_recall_at_10: 0.0203 - val_ndcg_10: 0.0164 - val_loss: 7.7722 - val_regularization_loss: 0.0000e+00 - val_total_loss: 7.7722\n"
     ]
    },
    {
     "data": {
      "text/plain": [
       "<keras.callbacks.History at 0x7f35dc1f5e50>"
      ]
     },
     "execution_count": 14,
     "metadata": {},
     "output_type": "execute_result"
    }
   ],
   "source": [
    "model.set_retrieval_candidates_for_evaluation(train)\n",
    "model.compile(optimizer='adam', run_eagerly=False)\n",
    "model.fit(train, validation_data=valid, batch_size=4096, epochs=3)"
   ]
  },
  {
   "cell_type": "markdown",
   "id": "0c9158d7",
   "metadata": {},
   "source": [
    "## Exporting Retrieval Models"
   ]
  },
  {
   "cell_type": "markdown",
   "id": "997f45da",
   "metadata": {},
   "source": [
    "So far we have trained and evaluated our Retrieval model. Now, the next step is to deploy our model and generate top-K recommendations given a user (query). We can efficiently serve our model by indexing the trained item embeddings into an **Approximate Nearest Neighbors (ANN)** engine. Basically, for a given user query vector, that is generated passing the user features into user tower of retrieval model, we do an ANN search query to find the ids of nearby item vectors, and at serve time, we score user embeddings over all indexed top-K item embeddings within the ANN engine.\n",
    "\n",
    "In doing so, we need to export\n",
    " \n",
    "- user (query) tower\n",
    "- item and user features\n",
    "- item embeddings"
   ]
  },
  {
   "cell_type": "markdown",
   "id": "98d1b6ca",
   "metadata": {},
   "source": [
    "#### Save User (query) tower"
   ]
  },
  {
   "cell_type": "markdown",
   "id": "6283c678",
   "metadata": {},
   "source": [
    "We are able to save the user tower model as a TF model to disk. The user tower model is needed to generate a user embedding vector when a user feature vector <i>x</i> is fed into that model."
   ]
  },
  {
   "cell_type": "code",
   "execution_count": 15,
   "id": "47824973",
   "metadata": {},
   "outputs": [],
   "source": [
    "query_tower = model.retrieval_block.query_block()\n",
    "query_tower.save('query_tower')"
   ]
  },
  {
   "cell_type": "markdown",
   "id": "bd44717b",
   "metadata": {},
   "source": [
    "#### Extract and save User features"
   ]
  },
  {
   "cell_type": "markdown",
   "id": "92a5ab56",
   "metadata": {},
   "source": [
    "With `unique_rows_by_features` utility function we can easily extract both unique user and item features tables as cuDF dataframes. Note that for user features table, we use `USER` and `USER_ID` tags."
   ]
  },
  {
   "cell_type": "code",
   "execution_count": 16,
   "id": "fc18c960",
   "metadata": {},
   "outputs": [],
   "source": [
    "from merlin.models.utils.dataset import unique_rows_by_features\n",
    "user_features = unique_rows_by_features(train, Tags.USER, Tags.USER_ID).compute().reset_index(drop=True)"
   ]
  },
  {
   "cell_type": "code",
   "execution_count": 17,
   "id": "e4b4656f",
   "metadata": {},
   "outputs": [
    {
     "data": {
      "text/html": [
       "<div>\n",
       "<style scoped>\n",
       "    .dataframe tbody tr th:only-of-type {\n",
       "        vertical-align: middle;\n",
       "    }\n",
       "\n",
       "    .dataframe tbody tr th {\n",
       "        vertical-align: top;\n",
       "    }\n",
       "\n",
       "    .dataframe thead th {\n",
       "        text-align: right;\n",
       "    }\n",
       "</style>\n",
       "<table border=\"1\" class=\"dataframe\">\n",
       "  <thead>\n",
       "    <tr style=\"text-align: right;\">\n",
       "      <th></th>\n",
       "      <th>user_id</th>\n",
       "      <th>user_shops</th>\n",
       "      <th>user_profile</th>\n",
       "      <th>user_group</th>\n",
       "      <th>user_gender</th>\n",
       "      <th>user_age</th>\n",
       "      <th>user_consumption_2</th>\n",
       "      <th>user_is_occupied</th>\n",
       "      <th>user_geography</th>\n",
       "      <th>user_intentions</th>\n",
       "      <th>user_brands</th>\n",
       "      <th>user_categories</th>\n",
       "    </tr>\n",
       "  </thead>\n",
       "  <tbody>\n",
       "    <tr>\n",
       "      <th>0</th>\n",
       "      <td>1</td>\n",
       "      <td>1</td>\n",
       "      <td>1</td>\n",
       "      <td>1</td>\n",
       "      <td>1</td>\n",
       "      <td>1</td>\n",
       "      <td>1</td>\n",
       "      <td>1</td>\n",
       "      <td>1</td>\n",
       "      <td>1</td>\n",
       "      <td>1</td>\n",
       "      <td>1</td>\n",
       "    </tr>\n",
       "    <tr>\n",
       "      <th>1</th>\n",
       "      <td>2</td>\n",
       "      <td>2</td>\n",
       "      <td>1</td>\n",
       "      <td>1</td>\n",
       "      <td>1</td>\n",
       "      <td>1</td>\n",
       "      <td>1</td>\n",
       "      <td>1</td>\n",
       "      <td>1</td>\n",
       "      <td>2</td>\n",
       "      <td>2</td>\n",
       "      <td>2</td>\n",
       "    </tr>\n",
       "    <tr>\n",
       "      <th>2</th>\n",
       "      <td>3</td>\n",
       "      <td>3</td>\n",
       "      <td>1</td>\n",
       "      <td>1</td>\n",
       "      <td>1</td>\n",
       "      <td>1</td>\n",
       "      <td>1</td>\n",
       "      <td>1</td>\n",
       "      <td>1</td>\n",
       "      <td>3</td>\n",
       "      <td>3</td>\n",
       "      <td>3</td>\n",
       "    </tr>\n",
       "    <tr>\n",
       "      <th>3</th>\n",
       "      <td>4</td>\n",
       "      <td>4</td>\n",
       "      <td>1</td>\n",
       "      <td>1</td>\n",
       "      <td>1</td>\n",
       "      <td>1</td>\n",
       "      <td>1</td>\n",
       "      <td>1</td>\n",
       "      <td>1</td>\n",
       "      <td>4</td>\n",
       "      <td>4</td>\n",
       "      <td>4</td>\n",
       "    </tr>\n",
       "    <tr>\n",
       "      <th>4</th>\n",
       "      <td>5</td>\n",
       "      <td>5</td>\n",
       "      <td>1</td>\n",
       "      <td>1</td>\n",
       "      <td>1</td>\n",
       "      <td>1</td>\n",
       "      <td>1</td>\n",
       "      <td>1</td>\n",
       "      <td>1</td>\n",
       "      <td>5</td>\n",
       "      <td>5</td>\n",
       "      <td>5</td>\n",
       "    </tr>\n",
       "  </tbody>\n",
       "</table>\n",
       "</div>"
      ],
      "text/plain": [
       "   user_id  user_shops  user_profile  user_group  user_gender  user_age  \\\n",
       "0        1           1             1           1            1         1   \n",
       "1        2           2             1           1            1         1   \n",
       "2        3           3             1           1            1         1   \n",
       "3        4           4             1           1            1         1   \n",
       "4        5           5             1           1            1         1   \n",
       "\n",
       "   user_consumption_2  user_is_occupied  user_geography  user_intentions  \\\n",
       "0                   1                 1               1                1   \n",
       "1                   1                 1               1                2   \n",
       "2                   1                 1               1                3   \n",
       "3                   1                 1               1                4   \n",
       "4                   1                 1               1                5   \n",
       "\n",
       "   user_brands  user_categories  \n",
       "0            1                1  \n",
       "1            2                2  \n",
       "2            3                3  \n",
       "3            4                4  \n",
       "4            5                5  "
      ]
     },
     "execution_count": 17,
     "metadata": {},
     "output_type": "execute_result"
    }
   ],
   "source": [
    "user_features.head()"
   ]
  },
  {
   "cell_type": "code",
   "execution_count": 18,
   "id": "2f6551e7",
   "metadata": {},
   "outputs": [
    {
     "data": {
      "text/plain": [
       "(646, 12)"
      ]
     },
     "execution_count": 18,
     "metadata": {},
     "output_type": "execute_result"
    }
   ],
   "source": [
    "user_features.shape"
   ]
  },
  {
   "cell_type": "code",
   "execution_count": 19,
   "id": "00656bea",
   "metadata": {},
   "outputs": [],
   "source": [
    "# save to disk\n",
    "user_features.to_parquet('user_features.parquet')"
   ]
  },
  {
   "cell_type": "markdown",
   "id": "0a4bf82c",
   "metadata": {},
   "source": [
    "#### Extract and save Item features"
   ]
  },
  {
   "cell_type": "code",
   "execution_count": 20,
   "id": "8f92f698",
   "metadata": {},
   "outputs": [],
   "source": [
    "item_features = unique_rows_by_features(train, Tags.ITEM, Tags.ITEM_ID).compute().reset_index(drop=True)"
   ]
  },
  {
   "cell_type": "code",
   "execution_count": 21,
   "id": "f408a48d",
   "metadata": {},
   "outputs": [
    {
     "data": {
      "text/html": [
       "<div>\n",
       "<style scoped>\n",
       "    .dataframe tbody tr th:only-of-type {\n",
       "        vertical-align: middle;\n",
       "    }\n",
       "\n",
       "    .dataframe tbody tr th {\n",
       "        vertical-align: top;\n",
       "    }\n",
       "\n",
       "    .dataframe thead th {\n",
       "        text-align: right;\n",
       "    }\n",
       "</style>\n",
       "<table border=\"1\" class=\"dataframe\">\n",
       "  <thead>\n",
       "    <tr style=\"text-align: right;\">\n",
       "      <th></th>\n",
       "      <th>item_id</th>\n",
       "      <th>item_category</th>\n",
       "      <th>item_shop</th>\n",
       "      <th>item_brand</th>\n",
       "    </tr>\n",
       "  </thead>\n",
       "  <tbody>\n",
       "    <tr>\n",
       "      <th>0</th>\n",
       "      <td>1</td>\n",
       "      <td>1</td>\n",
       "      <td>1</td>\n",
       "      <td>1</td>\n",
       "    </tr>\n",
       "    <tr>\n",
       "      <th>1</th>\n",
       "      <td>2</td>\n",
       "      <td>2</td>\n",
       "      <td>2</td>\n",
       "      <td>2</td>\n",
       "    </tr>\n",
       "    <tr>\n",
       "      <th>2</th>\n",
       "      <td>3</td>\n",
       "      <td>3</td>\n",
       "      <td>3</td>\n",
       "      <td>3</td>\n",
       "    </tr>\n",
       "    <tr>\n",
       "      <th>3</th>\n",
       "      <td>4</td>\n",
       "      <td>4</td>\n",
       "      <td>4</td>\n",
       "      <td>4</td>\n",
       "    </tr>\n",
       "    <tr>\n",
       "      <th>4</th>\n",
       "      <td>5</td>\n",
       "      <td>5</td>\n",
       "      <td>5</td>\n",
       "      <td>5</td>\n",
       "    </tr>\n",
       "  </tbody>\n",
       "</table>\n",
       "</div>"
      ],
      "text/plain": [
       "   item_id  item_category  item_shop  item_brand\n",
       "0        1              1          1           1\n",
       "1        2              2          2           2\n",
       "2        3              3          3           3\n",
       "3        4              4          4           4\n",
       "4        5              5          5           5"
      ]
     },
     "execution_count": 21,
     "metadata": {},
     "output_type": "execute_result"
    }
   ],
   "source": [
    "item_features.head()"
   ]
  },
  {
   "cell_type": "code",
   "execution_count": 22,
   "id": "bdbc50b7",
   "metadata": {},
   "outputs": [],
   "source": [
    "# save to disk\n",
    "item_features.to_parquet('item_features.parquet')"
   ]
  },
  {
   "cell_type": "markdown",
   "id": "e6df7923",
   "metadata": {},
   "source": [
    "#### Extract and save Item embeddings"
   ]
  },
  {
   "cell_type": "code",
   "execution_count": 23,
   "id": "4d21e047",
   "metadata": {},
   "outputs": [],
   "source": [
    "item_embs = model.item_embeddings(Dataset(item_features, schema=schema), batch_size=1024)\n",
    "item_embs_df = item_embs.compute(scheduler=\"synchronous\")"
   ]
  },
  {
   "cell_type": "code",
   "execution_count": 24,
   "id": "8bcb1252",
   "metadata": {},
   "outputs": [
    {
     "data": {
      "text/html": [
       "<div>\n",
       "<style scoped>\n",
       "    .dataframe tbody tr th:only-of-type {\n",
       "        vertical-align: middle;\n",
       "    }\n",
       "\n",
       "    .dataframe tbody tr th {\n",
       "        vertical-align: top;\n",
       "    }\n",
       "\n",
       "    .dataframe thead th {\n",
       "        text-align: right;\n",
       "    }\n",
       "</style>\n",
       "<table border=\"1\" class=\"dataframe\">\n",
       "  <thead>\n",
       "    <tr style=\"text-align: right;\">\n",
       "      <th></th>\n",
       "      <th>item_id</th>\n",
       "      <th>item_category</th>\n",
       "      <th>item_shop</th>\n",
       "      <th>item_brand</th>\n",
       "      <th>0</th>\n",
       "      <th>1</th>\n",
       "      <th>2</th>\n",
       "      <th>3</th>\n",
       "      <th>4</th>\n",
       "      <th>5</th>\n",
       "      <th>...</th>\n",
       "      <th>54</th>\n",
       "      <th>55</th>\n",
       "      <th>56</th>\n",
       "      <th>57</th>\n",
       "      <th>58</th>\n",
       "      <th>59</th>\n",
       "      <th>60</th>\n",
       "      <th>61</th>\n",
       "      <th>62</th>\n",
       "      <th>63</th>\n",
       "    </tr>\n",
       "  </thead>\n",
       "  <tbody>\n",
       "    <tr>\n",
       "      <th>0</th>\n",
       "      <td>1</td>\n",
       "      <td>1</td>\n",
       "      <td>1</td>\n",
       "      <td>1</td>\n",
       "      <td>0.119024</td>\n",
       "      <td>0.023623</td>\n",
       "      <td>-0.039086</td>\n",
       "      <td>-0.000039</td>\n",
       "      <td>0.070910</td>\n",
       "      <td>-0.005304</td>\n",
       "      <td>...</td>\n",
       "      <td>0.085932</td>\n",
       "      <td>-0.102355</td>\n",
       "      <td>-0.058122</td>\n",
       "      <td>-0.088331</td>\n",
       "      <td>0.059050</td>\n",
       "      <td>-0.025986</td>\n",
       "      <td>-0.023549</td>\n",
       "      <td>0.159494</td>\n",
       "      <td>0.311440</td>\n",
       "      <td>-0.172660</td>\n",
       "    </tr>\n",
       "    <tr>\n",
       "      <th>1</th>\n",
       "      <td>2</td>\n",
       "      <td>2</td>\n",
       "      <td>2</td>\n",
       "      <td>2</td>\n",
       "      <td>0.006361</td>\n",
       "      <td>0.003338</td>\n",
       "      <td>0.124567</td>\n",
       "      <td>-0.069380</td>\n",
       "      <td>0.122115</td>\n",
       "      <td>-0.201470</td>\n",
       "      <td>...</td>\n",
       "      <td>0.026831</td>\n",
       "      <td>-0.132266</td>\n",
       "      <td>0.129241</td>\n",
       "      <td>-0.088970</td>\n",
       "      <td>-0.108118</td>\n",
       "      <td>0.021614</td>\n",
       "      <td>-0.081004</td>\n",
       "      <td>0.124680</td>\n",
       "      <td>0.345408</td>\n",
       "      <td>-0.209228</td>\n",
       "    </tr>\n",
       "    <tr>\n",
       "      <th>2</th>\n",
       "      <td>3</td>\n",
       "      <td>3</td>\n",
       "      <td>3</td>\n",
       "      <td>3</td>\n",
       "      <td>0.074537</td>\n",
       "      <td>0.001323</td>\n",
       "      <td>0.090352</td>\n",
       "      <td>-0.175259</td>\n",
       "      <td>0.179352</td>\n",
       "      <td>-0.021959</td>\n",
       "      <td>...</td>\n",
       "      <td>-0.026903</td>\n",
       "      <td>-0.045079</td>\n",
       "      <td>0.189090</td>\n",
       "      <td>0.133597</td>\n",
       "      <td>-0.008829</td>\n",
       "      <td>-0.157224</td>\n",
       "      <td>0.050934</td>\n",
       "      <td>0.161178</td>\n",
       "      <td>0.242915</td>\n",
       "      <td>-0.130376</td>\n",
       "    </tr>\n",
       "    <tr>\n",
       "      <th>3</th>\n",
       "      <td>4</td>\n",
       "      <td>4</td>\n",
       "      <td>4</td>\n",
       "      <td>4</td>\n",
       "      <td>0.153636</td>\n",
       "      <td>-0.080778</td>\n",
       "      <td>-0.123449</td>\n",
       "      <td>-0.089321</td>\n",
       "      <td>0.139870</td>\n",
       "      <td>0.015942</td>\n",
       "      <td>...</td>\n",
       "      <td>-0.076668</td>\n",
       "      <td>-0.113005</td>\n",
       "      <td>0.069237</td>\n",
       "      <td>0.238331</td>\n",
       "      <td>0.085635</td>\n",
       "      <td>-0.083087</td>\n",
       "      <td>0.018781</td>\n",
       "      <td>0.139706</td>\n",
       "      <td>0.167688</td>\n",
       "      <td>-0.141418</td>\n",
       "    </tr>\n",
       "    <tr>\n",
       "      <th>4</th>\n",
       "      <td>5</td>\n",
       "      <td>5</td>\n",
       "      <td>5</td>\n",
       "      <td>5</td>\n",
       "      <td>-0.011768</td>\n",
       "      <td>0.018682</td>\n",
       "      <td>-0.025512</td>\n",
       "      <td>-0.085963</td>\n",
       "      <td>-0.134499</td>\n",
       "      <td>-0.186269</td>\n",
       "      <td>...</td>\n",
       "      <td>0.061904</td>\n",
       "      <td>-0.109536</td>\n",
       "      <td>0.095276</td>\n",
       "      <td>0.032400</td>\n",
       "      <td>-0.116568</td>\n",
       "      <td>0.061201</td>\n",
       "      <td>0.125158</td>\n",
       "      <td>-0.042238</td>\n",
       "      <td>0.208102</td>\n",
       "      <td>-0.167115</td>\n",
       "    </tr>\n",
       "    <tr>\n",
       "      <th>...</th>\n",
       "      <td>...</td>\n",
       "      <td>...</td>\n",
       "      <td>...</td>\n",
       "      <td>...</td>\n",
       "      <td>...</td>\n",
       "      <td>...</td>\n",
       "      <td>...</td>\n",
       "      <td>...</td>\n",
       "      <td>...</td>\n",
       "      <td>...</td>\n",
       "      <td>...</td>\n",
       "      <td>...</td>\n",
       "      <td>...</td>\n",
       "      <td>...</td>\n",
       "      <td>...</td>\n",
       "      <td>...</td>\n",
       "      <td>...</td>\n",
       "      <td>...</td>\n",
       "      <td>...</td>\n",
       "      <td>...</td>\n",
       "      <td>...</td>\n",
       "    </tr>\n",
       "    <tr>\n",
       "      <th>630</th>\n",
       "      <td>743</td>\n",
       "      <td>743</td>\n",
       "      <td>743</td>\n",
       "      <td>743</td>\n",
       "      <td>0.064798</td>\n",
       "      <td>-0.065997</td>\n",
       "      <td>-0.031717</td>\n",
       "      <td>-0.067496</td>\n",
       "      <td>-0.004143</td>\n",
       "      <td>-0.014273</td>\n",
       "      <td>...</td>\n",
       "      <td>0.060530</td>\n",
       "      <td>-0.230824</td>\n",
       "      <td>0.015961</td>\n",
       "      <td>0.040368</td>\n",
       "      <td>-0.074561</td>\n",
       "      <td>-0.002969</td>\n",
       "      <td>-0.199503</td>\n",
       "      <td>0.121633</td>\n",
       "      <td>0.207420</td>\n",
       "      <td>-0.342876</td>\n",
       "    </tr>\n",
       "    <tr>\n",
       "      <th>631</th>\n",
       "      <td>749</td>\n",
       "      <td>749</td>\n",
       "      <td>749</td>\n",
       "      <td>749</td>\n",
       "      <td>-0.008370</td>\n",
       "      <td>0.082715</td>\n",
       "      <td>0.117570</td>\n",
       "      <td>0.019689</td>\n",
       "      <td>0.087900</td>\n",
       "      <td>-0.079214</td>\n",
       "      <td>...</td>\n",
       "      <td>0.023555</td>\n",
       "      <td>-0.114855</td>\n",
       "      <td>-0.063390</td>\n",
       "      <td>0.111346</td>\n",
       "      <td>-0.263790</td>\n",
       "      <td>0.061215</td>\n",
       "      <td>0.143212</td>\n",
       "      <td>0.041604</td>\n",
       "      <td>0.319031</td>\n",
       "      <td>-0.119142</td>\n",
       "    </tr>\n",
       "    <tr>\n",
       "      <th>632</th>\n",
       "      <td>752</td>\n",
       "      <td>752</td>\n",
       "      <td>752</td>\n",
       "      <td>752</td>\n",
       "      <td>-0.109725</td>\n",
       "      <td>0.286749</td>\n",
       "      <td>-0.070979</td>\n",
       "      <td>-0.030827</td>\n",
       "      <td>-0.008561</td>\n",
       "      <td>-0.039951</td>\n",
       "      <td>...</td>\n",
       "      <td>-0.021042</td>\n",
       "      <td>-0.058173</td>\n",
       "      <td>-0.141470</td>\n",
       "      <td>-0.028167</td>\n",
       "      <td>-0.035519</td>\n",
       "      <td>-0.103719</td>\n",
       "      <td>0.089092</td>\n",
       "      <td>0.027004</td>\n",
       "      <td>0.279829</td>\n",
       "      <td>-0.315001</td>\n",
       "    </tr>\n",
       "    <tr>\n",
       "      <th>633</th>\n",
       "      <td>753</td>\n",
       "      <td>753</td>\n",
       "      <td>753</td>\n",
       "      <td>753</td>\n",
       "      <td>-0.048022</td>\n",
       "      <td>0.033861</td>\n",
       "      <td>-0.245225</td>\n",
       "      <td>-0.045610</td>\n",
       "      <td>0.033465</td>\n",
       "      <td>-0.101318</td>\n",
       "      <td>...</td>\n",
       "      <td>-0.165817</td>\n",
       "      <td>0.000217</td>\n",
       "      <td>0.043540</td>\n",
       "      <td>-0.102218</td>\n",
       "      <td>-0.152996</td>\n",
       "      <td>-0.059092</td>\n",
       "      <td>0.099988</td>\n",
       "      <td>-0.010920</td>\n",
       "      <td>0.136724</td>\n",
       "      <td>0.016220</td>\n",
       "    </tr>\n",
       "    <tr>\n",
       "      <th>634</th>\n",
       "      <td>761</td>\n",
       "      <td>761</td>\n",
       "      <td>761</td>\n",
       "      <td>761</td>\n",
       "      <td>0.061938</td>\n",
       "      <td>0.029517</td>\n",
       "      <td>-0.072761</td>\n",
       "      <td>-0.101128</td>\n",
       "      <td>0.080592</td>\n",
       "      <td>-0.028033</td>\n",
       "      <td>...</td>\n",
       "      <td>-0.049143</td>\n",
       "      <td>-0.149057</td>\n",
       "      <td>0.153742</td>\n",
       "      <td>-0.037752</td>\n",
       "      <td>-0.049190</td>\n",
       "      <td>-0.039576</td>\n",
       "      <td>0.111076</td>\n",
       "      <td>0.125575</td>\n",
       "      <td>0.472521</td>\n",
       "      <td>-0.132032</td>\n",
       "    </tr>\n",
       "  </tbody>\n",
       "</table>\n",
       "<p>635 rows × 68 columns</p>\n",
       "</div>"
      ],
      "text/plain": [
       "     item_id  item_category  item_shop  item_brand         0         1  \\\n",
       "0          1              1          1           1  0.119024  0.023623   \n",
       "1          2              2          2           2  0.006361  0.003338   \n",
       "2          3              3          3           3  0.074537  0.001323   \n",
       "3          4              4          4           4  0.153636 -0.080778   \n",
       "4          5              5          5           5 -0.011768  0.018682   \n",
       "..       ...            ...        ...         ...       ...       ...   \n",
       "630      743            743        743         743  0.064798 -0.065997   \n",
       "631      749            749        749         749 -0.008370  0.082715   \n",
       "632      752            752        752         752 -0.109725  0.286749   \n",
       "633      753            753        753         753 -0.048022  0.033861   \n",
       "634      761            761        761         761  0.061938  0.029517   \n",
       "\n",
       "            2         3         4         5  ...        54        55  \\\n",
       "0   -0.039086 -0.000039  0.070910 -0.005304  ...  0.085932 -0.102355   \n",
       "1    0.124567 -0.069380  0.122115 -0.201470  ...  0.026831 -0.132266   \n",
       "2    0.090352 -0.175259  0.179352 -0.021959  ... -0.026903 -0.045079   \n",
       "3   -0.123449 -0.089321  0.139870  0.015942  ... -0.076668 -0.113005   \n",
       "4   -0.025512 -0.085963 -0.134499 -0.186269  ...  0.061904 -0.109536   \n",
       "..        ...       ...       ...       ...  ...       ...       ...   \n",
       "630 -0.031717 -0.067496 -0.004143 -0.014273  ...  0.060530 -0.230824   \n",
       "631  0.117570  0.019689  0.087900 -0.079214  ...  0.023555 -0.114855   \n",
       "632 -0.070979 -0.030827 -0.008561 -0.039951  ... -0.021042 -0.058173   \n",
       "633 -0.245225 -0.045610  0.033465 -0.101318  ... -0.165817  0.000217   \n",
       "634 -0.072761 -0.101128  0.080592 -0.028033  ... -0.049143 -0.149057   \n",
       "\n",
       "           56        57        58        59        60        61        62  \\\n",
       "0   -0.058122 -0.088331  0.059050 -0.025986 -0.023549  0.159494  0.311440   \n",
       "1    0.129241 -0.088970 -0.108118  0.021614 -0.081004  0.124680  0.345408   \n",
       "2    0.189090  0.133597 -0.008829 -0.157224  0.050934  0.161178  0.242915   \n",
       "3    0.069237  0.238331  0.085635 -0.083087  0.018781  0.139706  0.167688   \n",
       "4    0.095276  0.032400 -0.116568  0.061201  0.125158 -0.042238  0.208102   \n",
       "..        ...       ...       ...       ...       ...       ...       ...   \n",
       "630  0.015961  0.040368 -0.074561 -0.002969 -0.199503  0.121633  0.207420   \n",
       "631 -0.063390  0.111346 -0.263790  0.061215  0.143212  0.041604  0.319031   \n",
       "632 -0.141470 -0.028167 -0.035519 -0.103719  0.089092  0.027004  0.279829   \n",
       "633  0.043540 -0.102218 -0.152996 -0.059092  0.099988 -0.010920  0.136724   \n",
       "634  0.153742 -0.037752 -0.049190 -0.039576  0.111076  0.125575  0.472521   \n",
       "\n",
       "           63  \n",
       "0   -0.172660  \n",
       "1   -0.209228  \n",
       "2   -0.130376  \n",
       "3   -0.141418  \n",
       "4   -0.167115  \n",
       "..        ...  \n",
       "630 -0.342876  \n",
       "631 -0.119142  \n",
       "632 -0.315001  \n",
       "633  0.016220  \n",
       "634 -0.132032  \n",
       "\n",
       "[635 rows x 68 columns]"
      ]
     },
     "execution_count": 24,
     "metadata": {},
     "output_type": "execute_result"
    }
   ],
   "source": [
    "item_embs_df"
   ]
  },
  {
   "cell_type": "code",
   "execution_count": 25,
   "id": "633f7fec",
   "metadata": {},
   "outputs": [],
   "source": [
    "# select only embedding columns\n",
    "item_embeddings = item_embs_df.iloc[:, 4:]"
   ]
  },
  {
   "cell_type": "code",
   "execution_count": 26,
   "id": "6b91e323",
   "metadata": {},
   "outputs": [
    {
     "data": {
      "text/html": [
       "<div>\n",
       "<style scoped>\n",
       "    .dataframe tbody tr th:only-of-type {\n",
       "        vertical-align: middle;\n",
       "    }\n",
       "\n",
       "    .dataframe tbody tr th {\n",
       "        vertical-align: top;\n",
       "    }\n",
       "\n",
       "    .dataframe thead th {\n",
       "        text-align: right;\n",
       "    }\n",
       "</style>\n",
       "<table border=\"1\" class=\"dataframe\">\n",
       "  <thead>\n",
       "    <tr style=\"text-align: right;\">\n",
       "      <th></th>\n",
       "      <th>0</th>\n",
       "      <th>1</th>\n",
       "      <th>2</th>\n",
       "      <th>3</th>\n",
       "      <th>4</th>\n",
       "      <th>5</th>\n",
       "      <th>6</th>\n",
       "      <th>7</th>\n",
       "      <th>8</th>\n",
       "      <th>9</th>\n",
       "      <th>...</th>\n",
       "      <th>54</th>\n",
       "      <th>55</th>\n",
       "      <th>56</th>\n",
       "      <th>57</th>\n",
       "      <th>58</th>\n",
       "      <th>59</th>\n",
       "      <th>60</th>\n",
       "      <th>61</th>\n",
       "      <th>62</th>\n",
       "      <th>63</th>\n",
       "    </tr>\n",
       "  </thead>\n",
       "  <tbody>\n",
       "    <tr>\n",
       "      <th>0</th>\n",
       "      <td>0.119024</td>\n",
       "      <td>0.023623</td>\n",
       "      <td>-0.039086</td>\n",
       "      <td>-0.000039</td>\n",
       "      <td>0.070910</td>\n",
       "      <td>-0.005304</td>\n",
       "      <td>-0.046084</td>\n",
       "      <td>-0.071140</td>\n",
       "      <td>0.053499</td>\n",
       "      <td>0.149303</td>\n",
       "      <td>...</td>\n",
       "      <td>0.085932</td>\n",
       "      <td>-0.102355</td>\n",
       "      <td>-0.058122</td>\n",
       "      <td>-0.088331</td>\n",
       "      <td>0.059050</td>\n",
       "      <td>-0.025986</td>\n",
       "      <td>-0.023549</td>\n",
       "      <td>0.159494</td>\n",
       "      <td>0.311440</td>\n",
       "      <td>-0.172660</td>\n",
       "    </tr>\n",
       "    <tr>\n",
       "      <th>1</th>\n",
       "      <td>0.006361</td>\n",
       "      <td>0.003338</td>\n",
       "      <td>0.124567</td>\n",
       "      <td>-0.069380</td>\n",
       "      <td>0.122115</td>\n",
       "      <td>-0.201470</td>\n",
       "      <td>-0.095038</td>\n",
       "      <td>0.078551</td>\n",
       "      <td>0.133017</td>\n",
       "      <td>-0.013526</td>\n",
       "      <td>...</td>\n",
       "      <td>0.026831</td>\n",
       "      <td>-0.132266</td>\n",
       "      <td>0.129241</td>\n",
       "      <td>-0.088970</td>\n",
       "      <td>-0.108118</td>\n",
       "      <td>0.021614</td>\n",
       "      <td>-0.081004</td>\n",
       "      <td>0.124680</td>\n",
       "      <td>0.345408</td>\n",
       "      <td>-0.209228</td>\n",
       "    </tr>\n",
       "    <tr>\n",
       "      <th>2</th>\n",
       "      <td>0.074537</td>\n",
       "      <td>0.001323</td>\n",
       "      <td>0.090352</td>\n",
       "      <td>-0.175259</td>\n",
       "      <td>0.179352</td>\n",
       "      <td>-0.021959</td>\n",
       "      <td>-0.197854</td>\n",
       "      <td>0.132899</td>\n",
       "      <td>0.135168</td>\n",
       "      <td>0.017511</td>\n",
       "      <td>...</td>\n",
       "      <td>-0.026903</td>\n",
       "      <td>-0.045079</td>\n",
       "      <td>0.189090</td>\n",
       "      <td>0.133597</td>\n",
       "      <td>-0.008829</td>\n",
       "      <td>-0.157224</td>\n",
       "      <td>0.050934</td>\n",
       "      <td>0.161178</td>\n",
       "      <td>0.242915</td>\n",
       "      <td>-0.130376</td>\n",
       "    </tr>\n",
       "    <tr>\n",
       "      <th>3</th>\n",
       "      <td>0.153636</td>\n",
       "      <td>-0.080778</td>\n",
       "      <td>-0.123449</td>\n",
       "      <td>-0.089321</td>\n",
       "      <td>0.139870</td>\n",
       "      <td>0.015942</td>\n",
       "      <td>-0.062343</td>\n",
       "      <td>-0.102844</td>\n",
       "      <td>0.021416</td>\n",
       "      <td>0.109875</td>\n",
       "      <td>...</td>\n",
       "      <td>-0.076668</td>\n",
       "      <td>-0.113005</td>\n",
       "      <td>0.069237</td>\n",
       "      <td>0.238331</td>\n",
       "      <td>0.085635</td>\n",
       "      <td>-0.083087</td>\n",
       "      <td>0.018781</td>\n",
       "      <td>0.139706</td>\n",
       "      <td>0.167688</td>\n",
       "      <td>-0.141418</td>\n",
       "    </tr>\n",
       "    <tr>\n",
       "      <th>4</th>\n",
       "      <td>-0.011768</td>\n",
       "      <td>0.018682</td>\n",
       "      <td>-0.025512</td>\n",
       "      <td>-0.085963</td>\n",
       "      <td>-0.134499</td>\n",
       "      <td>-0.186269</td>\n",
       "      <td>-0.103873</td>\n",
       "      <td>0.053713</td>\n",
       "      <td>0.100448</td>\n",
       "      <td>0.005378</td>\n",
       "      <td>...</td>\n",
       "      <td>0.061904</td>\n",
       "      <td>-0.109536</td>\n",
       "      <td>0.095276</td>\n",
       "      <td>0.032400</td>\n",
       "      <td>-0.116568</td>\n",
       "      <td>0.061201</td>\n",
       "      <td>0.125158</td>\n",
       "      <td>-0.042238</td>\n",
       "      <td>0.208102</td>\n",
       "      <td>-0.167115</td>\n",
       "    </tr>\n",
       "  </tbody>\n",
       "</table>\n",
       "<p>5 rows × 64 columns</p>\n",
       "</div>"
      ],
      "text/plain": [
       "          0         1         2         3         4         5         6  \\\n",
       "0  0.119024  0.023623 -0.039086 -0.000039  0.070910 -0.005304 -0.046084   \n",
       "1  0.006361  0.003338  0.124567 -0.069380  0.122115 -0.201470 -0.095038   \n",
       "2  0.074537  0.001323  0.090352 -0.175259  0.179352 -0.021959 -0.197854   \n",
       "3  0.153636 -0.080778 -0.123449 -0.089321  0.139870  0.015942 -0.062343   \n",
       "4 -0.011768  0.018682 -0.025512 -0.085963 -0.134499 -0.186269 -0.103873   \n",
       "\n",
       "          7         8         9  ...        54        55        56        57  \\\n",
       "0 -0.071140  0.053499  0.149303  ...  0.085932 -0.102355 -0.058122 -0.088331   \n",
       "1  0.078551  0.133017 -0.013526  ...  0.026831 -0.132266  0.129241 -0.088970   \n",
       "2  0.132899  0.135168  0.017511  ... -0.026903 -0.045079  0.189090  0.133597   \n",
       "3 -0.102844  0.021416  0.109875  ... -0.076668 -0.113005  0.069237  0.238331   \n",
       "4  0.053713  0.100448  0.005378  ...  0.061904 -0.109536  0.095276  0.032400   \n",
       "\n",
       "         58        59        60        61        62        63  \n",
       "0  0.059050 -0.025986 -0.023549  0.159494  0.311440 -0.172660  \n",
       "1 -0.108118  0.021614 -0.081004  0.124680  0.345408 -0.209228  \n",
       "2 -0.008829 -0.157224  0.050934  0.161178  0.242915 -0.130376  \n",
       "3  0.085635 -0.083087  0.018781  0.139706  0.167688 -0.141418  \n",
       "4 -0.116568  0.061201  0.125158 -0.042238  0.208102 -0.167115  \n",
       "\n",
       "[5 rows x 64 columns]"
      ]
     },
     "execution_count": 26,
     "metadata": {},
     "output_type": "execute_result"
    }
   ],
   "source": [
    "item_embeddings.head()"
   ]
  },
  {
   "cell_type": "code",
   "execution_count": 27,
   "id": "7930e78c",
   "metadata": {},
   "outputs": [],
   "source": [
    "# save to disk\n",
    "item_embeddings.to_parquet('item_embeddings.parquet')"
   ]
  },
  {
   "cell_type": "markdown",
   "id": "1eed43c3",
   "metadata": {},
   "source": [
    "That's it. You have learned how to train and evaluate your Two-Tower retrieval model, and then how to export the required components to be able to deploy this model to generate recommendations. In order to learn more on serving a model to [Triton Inference Server](https://github.com/triton-inference-server/server), please explore the examples in the [Merlin](https://github.com/NVIDIA-Merlin/Merlin) and [Merlin Systems](https://github.com/NVIDIA-Merlin/systems) repos."
   ]
  }
 ],
 "metadata": {
  "kernelspec": {
   "display_name": "Python 3 (ipykernel)",
   "language": "python",
   "name": "python3"
  },
  "language_info": {
   "codemirror_mode": {
    "name": "ipython",
    "version": 3
   },
   "file_extension": ".py",
   "mimetype": "text/x-python",
   "name": "python",
   "nbconvert_exporter": "python",
   "pygments_lexer": "ipython3",
   "version": "3.8.10"
  }
 },
 "nbformat": 4,
 "nbformat_minor": 5
}
