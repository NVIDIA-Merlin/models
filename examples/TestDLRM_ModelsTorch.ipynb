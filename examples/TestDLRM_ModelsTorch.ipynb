{
 "cells": [
  {
   "cell_type": "markdown",
   "id": "1e7f4fa0",
   "metadata": {},
   "source": [
    "To run this POC:\n",
    "1. Download and uncompress TenRec preprocessed dataset: https://drive.google.com/file/d/1OW6zIk2jUOyYiugr4fNDOCiYF86Nz4-O/view?usp=sharing  \n",
    "\n",
    "2. Run a Merlin PyT Docker container (adjusting the paths)\n",
    "```bash\n",
    "docker run --runtime=nvidia --rm -it --ipc=host --cap-add SYS_NICE -v /home/gmoreira/projects/nvidia/nvidia_merlin/:/merlin_dev/ -v /mnt/nvme0n1/datasets:/data -p 8888:8888 nvcr.io/nvidia/merlin/merlin-pytorch:23.06 /bin/bash\n",
    "```\n",
    "\n",
    "3. Pull latest code from main and pip install latest code from models \n",
    "```\n",
    "cd /models\n",
    "git config remote.origin.fetch \"+refs/heads/*:refs/remotes/origin/*\" && git fetch && git checkout main && pip install . --no-deps\n",
    "```\n",
    "\n",
    "4. Start Jupyter notebook\n",
    "```bash\n",
    "jupyter notebook --no-browser --ip 0.0.0.0 --no-browser --allow-root\n",
    "```"
   ]
  },
  {
   "cell_type": "code",
   "execution_count": 1,
   "id": "2bb43f63",
   "metadata": {},
   "outputs": [],
   "source": [
    "import os"
   ]
  },
  {
   "cell_type": "code",
   "execution_count": 2,
   "id": "50aa652d",
   "metadata": {},
   "outputs": [],
   "source": [
    "os.environ[\"CUDA_VISIBLE_DEVICES\"] = \"0\""
   ]
  },
  {
   "cell_type": "code",
   "execution_count": 3,
   "id": "70db5278",
   "metadata": {},
   "outputs": [],
   "source": [
    "from torch import nn\n",
    "import torch"
   ]
  },
  {
   "cell_type": "code",
   "execution_count": 4,
   "id": "147e9e13",
   "metadata": {},
   "outputs": [
    {
     "name": "stderr",
     "output_type": "stream",
     "text": [
      "/usr/local/lib/python3.8/dist-packages/tqdm/auto.py:21: TqdmWarning: IProgress not found. Please update jupyter and ipywidgets. See https://ipywidgets.readthedocs.io/en/stable/user_install.html\n",
      "  from .autonotebook import tqdm as notebook_tqdm\n"
     ]
    }
   ],
   "source": [
    "from pytorch_lightning.loggers import WandbLogger\n",
    "import pytorch_lightning as pl"
   ]
  },
  {
   "cell_type": "code",
   "execution_count": 5,
   "id": "3a1be7e7",
   "metadata": {},
   "outputs": [
    {
     "name": "stderr",
     "output_type": "stream",
     "text": [
      "/usr/local/lib/python3.8/dist-packages/merlin/dtypes/mappings/tf.py:52: UserWarning: Tensorflow dtype mappings did not load successfully due to an error: No module named 'tensorflow'\n",
      "  warn(f\"Tensorflow dtype mappings did not load successfully due to an error: {exc.msg}\")\n"
     ]
    }
   ],
   "source": [
    "import merlin.models.torch as mm\n",
    "from merlin.dataloader.torch import Loader\n",
    "from merlin.io.dataset import Dataset\n",
    "from merlin.schema import ColumnSchema"
   ]
  },
  {
   "cell_type": "code",
   "execution_count": 6,
   "id": "45a70d22",
   "metadata": {},
   "outputs": [],
   "source": [
    "config = dict(\n",
    "    epochs=1,\n",
    "    batch_size=16384,\n",
    "    embedding_dim = 64,\n",
    "    bottom_mlp = [64],\n",
    "    top_mlp = [256,128,64],\n",
    "    dropout = 0.18033334331720113,\n",
    "    l2_reg = 1e-6, #3.5665386015190466e-05,\n",
    "    LR=0.001,\n",
    "    #LR_decay_factor=0.98,\n",
    "    #LR_decay_steps=100,\n",
    "    positive_class_weight=9.0\n",
    ")"
   ]
  },
  {
   "cell_type": "code",
   "execution_count": 7,
   "id": "13fad1fd",
   "metadata": {},
   "outputs": [
    {
     "name": "stderr",
     "output_type": "stream",
     "text": [
      "\u001b[34m\u001b[1mwandb\u001b[0m: Currently logged in as: \u001b[33mgspmoreira\u001b[0m. Use \u001b[1m`wandb login --relogin`\u001b[0m to force relogin\n"
     ]
    },
    {
     "data": {
      "text/html": [
       "wandb version 0.15.5 is available!  To upgrade, please run:\n",
       " $ pip install wandb --upgrade"
      ],
      "text/plain": [
       "<IPython.core.display.HTML object>"
      ]
     },
     "metadata": {},
     "output_type": "display_data"
    },
    {
     "data": {
      "text/html": [
       "Tracking run with wandb version 0.15.4"
      ],
      "text/plain": [
       "<IPython.core.display.HTML object>"
      ]
     },
     "metadata": {},
     "output_type": "display_data"
    },
    {
     "data": {
      "text/html": [
       "Run data is saved locally in <code>./wandb/run-20230706_032227-b4zurm6f</code>"
      ],
      "text/plain": [
       "<IPython.core.display.HTML object>"
      ]
     },
     "metadata": {},
     "output_type": "display_data"
    },
    {
     "data": {
      "text/html": [
       "Syncing run <strong><a href='https://wandb.ai/gspmoreira/lightning_logs/runs/b4zurm6f' target=\"_blank\">visionary-lion-5</a></strong> to <a href='https://wandb.ai/gspmoreira/lightning_logs' target=\"_blank\">Weights & Biases</a> (<a href='https://wandb.me/run' target=\"_blank\">docs</a>)<br/>"
      ],
      "text/plain": [
       "<IPython.core.display.HTML object>"
      ]
     },
     "metadata": {},
     "output_type": "display_data"
    },
    {
     "data": {
      "text/html": [
       " View project at <a href='https://wandb.ai/gspmoreira/lightning_logs' target=\"_blank\">https://wandb.ai/gspmoreira/lightning_logs</a>"
      ],
      "text/plain": [
       "<IPython.core.display.HTML object>"
      ]
     },
     "metadata": {},
     "output_type": "display_data"
    },
    {
     "data": {
      "text/html": [
       " View run at <a href='https://wandb.ai/gspmoreira/lightning_logs/runs/b4zurm6f' target=\"_blank\">https://wandb.ai/gspmoreira/lightning_logs/runs/b4zurm6f</a>"
      ],
      "text/plain": [
       "<IPython.core.display.HTML object>"
      ]
     },
     "metadata": {},
     "output_type": "display_data"
    }
   ],
   "source": [
    "wandb_logger = WandbLogger()\n",
    "wandb_logger.experiment.config.update(config)"
   ]
  },
  {
   "cell_type": "code",
   "execution_count": 8,
   "id": "a2047be6",
   "metadata": {},
   "outputs": [],
   "source": [
    "train_dataset = Dataset(\"/data/tenrec/tenrec_preproc_v01/ranking/train/*.parquet\")\n",
    "valid_dataset = Dataset(\"/data/tenrec/tenrec_preproc_v01/ranking/valid/*.parquet\")\n",
    "schema = train_dataset.schema"
   ]
  },
  {
   "cell_type": "code",
   "execution_count": 9,
   "id": "f83aa098",
   "metadata": {},
   "outputs": [],
   "source": [
    "def bce_with_class_weight(pos_weight, neg_weight=1.0):\n",
    "    bce_loss = nn.BCELoss(reduction='none')\n",
    "    return lambda pred, target: ((target*pos_weight + (1-target)*neg_weight) * bce_loss(pred, target)).mean()"
   ]
  },
  {
   "cell_type": "code",
   "execution_count": 10,
   "id": "9d7cd3b6",
   "metadata": {},
   "outputs": [
    {
     "name": "stderr",
     "output_type": "stream",
     "text": [
      "/usr/local/lib/python3.8/dist-packages/torch/nn/modules/lazy.py:180: UserWarning: Lazy modules are a new feature under heavy development so changes to the API or functionality can happen at any moment.\n",
      "  warnings.warn('Lazy modules are a new feature under heavy development '\n"
     ]
    }
   ],
   "source": [
    "output_block = mm.BinaryOutput(ColumnSchema(\"click\"), \n",
    "                               loss=bce_with_class_weight(pos_weight=config[\"positive_class_weight\"])\n",
    "                              )\n",
    "model = mm.DLRMModel(\n",
    "    schema,\n",
    "    dim=config[\"embedding_dim\"],\n",
    "    bottom_block=mm.MLPBlock(config[\"bottom_mlp\"], dropout=config[\"dropout\"]),\n",
    "    top_block=mm.MLPBlock(config[\"top_mlp\"],dropout=config[\"dropout\"]),\n",
    "    output_block=output_block\n",
    ")"
   ]
  },
  {
   "cell_type": "code",
   "execution_count": 11,
   "id": "b3dd0337",
   "metadata": {},
   "outputs": [
    {
     "data": {
      "text/plain": [
       "DLRMModel(\n",
       "  (0): DLRMBlock(\n",
       "    (0): DLRMInputBlock(\n",
       "      (categorical): EmbeddingTables(\n",
       "          (pre): Block(\n",
       "            (0): SelectKeys(user_id, item_id, video_category, gender, age)\n",
       "          )\n",
       "          (branches): (\n",
       "            (user_id): Block(\n",
       "              (0): EmbeddingTable(\n",
       "                features: user_id\n",
       "                (table): Embedding(2633852, 64)\n",
       "              )\n",
       "            )\n",
       "            (item_id): Block(\n",
       "              (0): EmbeddingTable(\n",
       "                features: item_id\n",
       "                (table): Embedding(179281, 64)\n",
       "              )\n",
       "            )\n",
       "            (video_category): Block(\n",
       "              (0): EmbeddingTable(\n",
       "                features: video_category\n",
       "                (table): Embedding(6, 64)\n",
       "              )\n",
       "            )\n",
       "            (gender): Block(\n",
       "              (0): EmbeddingTable(\n",
       "                features: gender\n",
       "                (table): Embedding(6, 64)\n",
       "              )\n",
       "            )\n",
       "            (age): Block(\n",
       "              (0): EmbeddingTable(\n",
       "                features: age\n",
       "                (table): Embedding(11, 64)\n",
       "              )\n",
       "            )\n",
       "          )\n",
       "      )\n",
       "    )\n",
       "    (1): InteractionBlock(\n",
       "      (0): Stack()\n",
       "      (1): DLRMInteraction()\n",
       "    )\n",
       "    (2): MLPBlock(\n",
       "      (0): MaybeAgg(\n",
       "        (0): Concat()\n",
       "      )\n",
       "      (1): LazyLinear(in_features=0, out_features=256, bias=True)\n",
       "      (2): ReLU()\n",
       "      (3): Dropout(p=0.18033334331720113, inplace=False)\n",
       "      (4): LazyLinear(in_features=0, out_features=128, bias=True)\n",
       "      (5): ReLU()\n",
       "      (6): Dropout(p=0.18033334331720113, inplace=False)\n",
       "      (7): LazyLinear(in_features=0, out_features=64, bias=True)\n",
       "      (8): ReLU()\n",
       "      (9): Dropout(p=0.18033334331720113, inplace=False)\n",
       "    )\n",
       "  )\n",
       "  (1): BinaryOutput(\n",
       "    (0): LazyLinear(in_features=0, out_features=1, bias=True)\n",
       "    (1): Sigmoid()\n",
       "  )\n",
       ")"
      ]
     },
     "execution_count": 11,
     "metadata": {},
     "output_type": "execute_result"
    }
   ],
   "source": [
    "model"
   ]
  },
  {
   "cell_type": "code",
   "execution_count": 12,
   "id": "8cb68e4f",
   "metadata": {},
   "outputs": [],
   "source": [
    "model.optimizer = torch.optim.Adam(model.parameters(), lr=config[\"LR\"], weight_decay=config[\"l2_reg\"])\n",
    "#model.scheduler = torch.optim.lr_scheduler.StepLR(model.optimizer, \n",
    "#                                                  step_size=config[\"LR_decay_steps\"], \n",
    "#                                                  gamma=config[\"LR_decay_factor\"])"
   ]
  },
  {
   "cell_type": "code",
   "execution_count": 13,
   "id": "6e2fb184",
   "metadata": {
    "scrolled": true
   },
   "outputs": [
    {
     "name": "stderr",
     "output_type": "stream",
     "text": [
      "GPU available: True (cuda), used: True\n",
      "TPU available: False, using: 0 TPU cores\n",
      "IPU available: False, using: 0 IPUs\n",
      "HPU available: False, using: 0 HPUs\n",
      "/usr/local/lib/python3.8/dist-packages/pytorch_lightning/trainer/configuration_validator.py:70: PossibleUserWarning: You defined a `validation_step` but have no `val_dataloader`. Skipping val loop.\n",
      "  rank_zero_warn(\n",
      "LOCAL_RANK: 0 - CUDA_VISIBLE_DEVICES: [0]\n",
      "\n",
      "  | Name   | Type       | Params\n",
      "--------------------------------------\n",
      "0 | values | ModuleList | 180 M \n",
      "--------------------------------------\n",
      "180 M     Trainable params\n",
      "0         Non-trainable params\n",
      "180 M     Total params\n",
      "720.344   Total estimated model params size (MB)\n"
     ]
    },
    {
     "name": "stdout",
     "output_type": "stream",
     "text": [
      "Epoch 0: 100%|██████████████████| 9229/9229 [06:10<00:00, 24.93it/s, v_num=rm6f]"
     ]
    },
    {
     "name": "stderr",
     "output_type": "stream",
     "text": [
      "`Trainer.fit` stopped: `max_epochs=1` reached.\n"
     ]
    },
    {
     "name": "stdout",
     "output_type": "stream",
     "text": [
      "Epoch 0: 100%|██████████████████| 9229/9229 [06:13<00:00, 24.70it/s, v_num=rm6f]\n",
      "CPU times: user 7min 9s, sys: 36.3 s, total: 7min 45s\n",
      "Wall time: 6min 16s\n"
     ]
    }
   ],
   "source": [
    "%%time\n",
    "trainer = pl.Trainer(devices=1, max_epochs=config[\"epochs\"], #max_steps=1000, \n",
    "                    val_check_interval=1000, limit_val_batches=100,  #check_val_every_n_epoch=None,\n",
    "                    logger=wandb_logger\n",
    "                    )\n",
    "\n",
    "with Loader(train_dataset, batch_size=config[\"batch_size\"]) as train_loader, \\\n",
    "      Loader(valid_dataset, batch_size=config[\"batch_size\"]) as valid_loader:\n",
    "    model.initialize(train_loader)\n",
    "    trainer.fit(model, train_loader, #val_dataloaders=valid_loader\n",
    "               )"
   ]
  },
  {
   "cell_type": "code",
   "execution_count": 14,
   "id": "cb3ff92d",
   "metadata": {},
   "outputs": [
    {
     "data": {
      "text/plain": [
       "{'train_loss': tensor(1.4949),\n",
       " 'train_binary_accuracy': tensor(0.4096),\n",
       " 'train_binary_auroc': tensor(0.7442),\n",
       " 'train_binary_precision': tensor(0.3254),\n",
       " 'train_binary_recall': tensor(0.9713)}"
      ]
     },
     "execution_count": 14,
     "metadata": {},
     "output_type": "execute_result"
    }
   ],
   "source": [
    "trainer.logged_metrics"
   ]
  },
  {
   "cell_type": "code",
   "execution_count": 15,
   "id": "afe3d059",
   "metadata": {},
   "outputs": [
    {
     "name": "stderr",
     "output_type": "stream",
     "text": [
      "LOCAL_RANK: 0 - CUDA_VISIBLE_DEVICES: [0]\n"
     ]
    },
    {
     "name": "stdout",
     "output_type": "stream",
     "text": [
      "Validation DataLoader 0: 100%|███████████████| 100/100 [00:00<00:00, 108.10it/s]\n",
      "────────────────────────────────────────────────────────────────────────────────────────────────────────────────────────\n",
      "     Validate metric           DataLoader 0\n",
      "────────────────────────────────────────────────────────────────────────────────────────────────────────────────────────\n",
      "   val_binary_accuracy      0.41141846776008606\n",
      "    val_binary_auroc        0.7365943789482117\n",
      "  val_binary_precision      0.34194207191467285\n",
      "    val_binary_recall       0.9782023429870605\n",
      "        val_loss            1.5347142219543457\n",
      "────────────────────────────────────────────────────────────────────────────────────────────────────────────────────────\n",
      "CPU times: user 1.95 s, sys: 712 ms, total: 2.66 s\n",
      "Wall time: 2.56 s\n"
     ]
    }
   ],
   "source": [
    "%%time\n",
    "metrics = trainer.validate(model, valid_loader)"
   ]
  },
  {
   "cell_type": "code",
   "execution_count": null,
   "id": "aa8e0942",
   "metadata": {},
   "outputs": [],
   "source": []
  }
 ],
 "metadata": {
  "kernelspec": {
   "display_name": "Python 3 (ipykernel)",
   "language": "python",
   "name": "python3"
  },
  "language_info": {
   "codemirror_mode": {
    "name": "ipython",
    "version": 3
   },
   "file_extension": ".py",
   "mimetype": "text/x-python",
   "name": "python",
   "nbconvert_exporter": "python",
   "pygments_lexer": "ipython3",
   "version": "3.8.10"
  }
 },
 "nbformat": 4,
 "nbformat_minor": 5
}
