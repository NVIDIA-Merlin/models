{
 "cells": [
  {
   "cell_type": "code",
   "execution_count": null,
   "id": "ef302738",
   "metadata": {},
   "outputs": [],
   "source": [
    "# Copyright 2021 NVIDIA Corporation. All Rights Reserved.\n",
    "#\n",
    "# Licensed under the Apache License, Version 2.0 (the \"License\");\n",
    "# you may not use this file except in compliance with the License.\n",
    "# You may obtain a copy of the License at\n",
    "#\n",
    "#     http://www.apache.org/licenses/LICENSE-2.0\n",
    "#\n",
    "# Unless required by applicable law or agreed to in writing, software\n",
    "# distributed under the License is distributed on an \"AS IS\" BASIS,\n",
    "# WITHOUT WARRANTIES OR CONDITIONS OF ANY KIND, either express or implied.\n",
    "# See the License for the specific language governing permissions and\n",
    "# limitations under the License.\n",
    "# ================================"
   ]
  },
  {
   "cell_type": "markdown",
   "id": "0a724490",
   "metadata": {},
   "source": [
    "<img src=\"http://developer.download.nvidia.com/compute/machine-learning/frameworks/nvidia_logo.png\" style=\"width: 90px; float: right;\">\n",
    "\n",
    "# Iterating over Deep Learning Models using Merlin Models\n",
    "\n",
    "In this example, we'll define several popular deep learning-based model architectures, train, and evaluate them and show how Merlin Models simplifies and eases this common and iterative process.\n",
    "\n",
    "In this example notebook, we use synthetic dataset that is mimicking the Ali-CCP: Alibaba Click and Conversion Prediction dataset to build our recommender system models. ALI-CCP is a dataset gathered from real-world traffic logs of the recommender system in Taobao, the largest online retail platform in the world. To download the raw Ali-CCP training and test datasets visit [tianchi.aliyun.com](https://tianchi.aliyun.com/dataset/dataDetail?dataId=408#1). You can curate the raw dataset via this [get_aliccp() function](https://github.com/NVIDIA-Merlin/models/blob/main/merlin/datasets/ecommerce/aliccp/dataset.py#L43) and generated the parquet files to be used in this example.\n",
    "\n",
    "### Learning objectives\n",
    "- Preparing the data with NVTabular\n",
    "- Training different deep learning-based recommender models with Merlin Models"
   ]
  },
  {
   "cell_type": "markdown",
   "id": "0cfb32ef",
   "metadata": {},
   "source": [
    "## Importing Libraries"
   ]
  },
  {
   "cell_type": "markdown",
   "id": "0173bb0e",
   "metadata": {},
   "source": [
    "Let's start with importing the libraries that we'll use in this notebook."
   ]
  },
  {
   "cell_type": "code",
   "execution_count": 2,
   "id": "a24a33d8",
   "metadata": {},
   "outputs": [
    {
     "name": "stderr",
     "output_type": "stream",
     "text": [
      "2022-04-26 15:40:59.411817: I tensorflow/core/platform/cpu_feature_guard.cc:152] This TensorFlow binary is optimized with oneAPI Deep Neural Network Library (oneDNN) to use the following CPU instructions in performance-critical operations:  SSE3 SSE4.1 SSE4.2 AVX\n",
      "To enable them in other operations, rebuild TensorFlow with the appropriate compiler flags.\n",
      "2022-04-26 15:41:01.362871: I tensorflow/core/common_runtime/gpu/gpu_device.cc:1525] Created device /job:localhost/replica:0/task:0/device:GPU:0 with 16254 MB memory:  -> device: 0, name: Quadro GV100, pci bus id: 0000:15:00.0, compute capability: 7.0\n",
      "2022-04-26 15:41:01.363612: I tensorflow/core/common_runtime/gpu/gpu_device.cc:1525] Created device /job:localhost/replica:0/task:0/device:GPU:1 with 30390 MB memory:  -> device: 1, name: Quadro GV100, pci bus id: 0000:2d:00.0, compute capability: 7.0\n"
     ]
    }
   ],
   "source": [
    "import os\n",
    "import numpy as np\n",
    "\n",
    "from nvtabular.loader.tf_utils import configure_tensorflow\n",
    "configure_tensorflow()\n",
    "\n",
    "import nvtabular as nvt\n",
    "from nvtabular.ops import *\n",
    "from merlin.models.utils.example_utils import workflow_fit_transform, save_results\n",
    "\n",
    "from merlin.schema.tags import Tags\n",
    "\n",
    "import merlin.models.tf as mm\n",
    "from merlin.io.dataset import Dataset\n",
    "\n",
    "import tensorflow as tf"
   ]
  },
  {
   "cell_type": "markdown",
   "id": "3adcecb9",
   "metadata": {},
   "source": [
    "## Feature Engineering with NVTabular"
   ]
  },
  {
   "cell_type": "markdown",
   "id": "8da282c0",
   "metadata": {},
   "source": [
    "When we work on a new recommender systems, we explore the dataset, first. In doing so, we define our input and output paths. We will use the parquet files in the test folder to validate our trained model."
   ]
  },
  {
   "cell_type": "code",
   "execution_count": 3,
   "id": "d5b5f289",
   "metadata": {},
   "outputs": [
    {
     "data": {
      "text/plain": [
       "(None,)"
      ]
     },
     "execution_count": 3,
     "metadata": {},
     "output_type": "execute_result"
    }
   ],
   "source": [
    "from merlin.datasets.synthetic import generate_data\n",
    "\n",
    "DATA_FOLDER = os.environ.get(\"DATA_FOLDER\", \"/workspace/data/\")\n",
    "NUM_ROWS = os.environ.get(\"NUM_ROWS\", 1000000)\n",
    "\n",
    "train, valid = generate_data(\"aliccp-raw\", int(NUM_ROWS), set_sizes=(0.7, 0.3))\n",
    "\n",
    "# save the datasets as parquet files\n",
    "train.to_ddf().to_parquet(os.path.join(DATA_FOLDER, \"train\"))\n",
    "valid.to_ddf().to_parquet(os.path.join(DATA_FOLDER, \"valid\"))"
   ]
  },
  {
   "cell_type": "code",
   "execution_count": 4,
   "id": "ee4798a6",
   "metadata": {},
   "outputs": [],
   "source": [
    "train_path = os.path.join(DATA_FOLDER, \"train\", \"part.0.parquet\")\n",
    "valid_path = os.path.join(DATA_FOLDER, \"valid\", \"part.0.parquet\")\n",
    "output_path = os.path.join(DATA_FOLDER, \"processed\")"
   ]
  },
  {
   "cell_type": "markdown",
   "id": "b1223034",
   "metadata": {},
   "source": [
    "Our dataset has only categorical features. Below, we create continuous features using target encoding (TE) technique. Target Encoding calculates the statistics from a target variable grouped by the unique values of one or more categorical features. For example, in a binary classification problem, TE calculates the conditional probability that the target is true for each category value- a simple mean. To learn more about TE, visit this [medium blog](https://medium.com/rapids-ai/target-encoding-with-rapids-cuml-do-more-with-your-categorical-data-8c762c79e784).\n",
    "\n",
    "Note that the `Ali-CCP` dataset has `click` and `conversion` target columns but we only focus on building different ranking models with binary target column `click`."
   ]
  },
  {
   "cell_type": "markdown",
   "id": "e83ee3fc",
   "metadata": {},
   "source": [
    "We use a utility function, `workflow_fit_transform` perform to fit and transform steps on the raw dataset applying the operators defined in the NVTabular workflow pipeline below, and also save our workflow model. After fit and transform, the processed parquet files are saved to `output_path`."
   ]
  },
  {
   "cell_type": "code",
   "execution_count": 5,
   "id": "d9a57940",
   "metadata": {},
   "outputs": [
    {
     "name": "stderr",
     "output_type": "stream",
     "text": [
      "/usr/local/lib/python3.8/dist-packages/cudf/core/dataframe.py:1292: UserWarning: The deep parameter is ignored and is only included for pandas compatibility.\n",
      "  warnings.warn(\n"
     ]
    },
    {
     "name": "stdout",
     "output_type": "stream",
     "text": [
      "CPU times: user 2.57 s, sys: 1.25 s, total: 3.82 s\n",
      "Wall time: 3.82 s\n"
     ]
    }
   ],
   "source": [
    "%%time\n",
    "\n",
    "user_id = [\"user_id\"] >> Categorify(freq_threshold=5) >> TagAsUserID()\n",
    "item_id = [\"item_id\"] >> Categorify(freq_threshold=5) >> TagAsItemID()\n",
    "add_feat = [\"user_item_categories\", \"user_item_shops\", \"user_item_brands\", \n",
    "            \"user_item_intentions\",\"item_category\", \"item_shop\", \"item_brand\"\n",
    "           ] >> Categorify()\n",
    "\n",
    "te_feat = (\n",
    "    [\"user_id\", \"item_id\"] + add_feat >>\n",
    "    TargetEncoding(\n",
    "        ['click'],\n",
    "        kfold=1,\n",
    "        p_smooth=20\n",
    "    ) >>\n",
    "    Normalize()\n",
    ")\n",
    "\n",
    "targets = [\"click\"] >> AddMetadata(tags=[Tags.BINARY_CLASSIFICATION, \"target\"])\n",
    "\n",
    "outputs = user_id + item_id + targets + add_feat + te_feat\n",
    "\n",
    "# Remove rows where item_id==0 and user_id==0\n",
    "outputs = outputs>> Filter(f=lambda df: (df[\"item_id\"] != 0) & (df[\"user_id\"] != 0))\n",
    "\n",
    "workflow_fit_transform(outputs, train_path, valid_path, output_path)"
   ]
  },
  {
   "cell_type": "markdown",
   "id": "619a99f3",
   "metadata": {
    "tags": []
   },
   "source": [
    "## Training Recommender Models"
   ]
  },
  {
   "cell_type": "markdown",
   "id": "40eef64a",
   "metadata": {},
   "source": [
    "NVTabular exported the schema file of our processed dataset. The `schema.pbtxt` is a protobuf text file contains features metadata, including statistics about features such as cardinality, min and max values and also tags based on their characteristics and dtypes (e.g., categorical, continuous, list, item_id). The metadata information is loaded from schema and their tags are used to automatically set the parameters of Merlin Models. In other words, Merlin Models relies on the schema object to automatically build all necessary input and output layers."
   ]
  },
  {
   "cell_type": "code",
   "execution_count": 6,
   "id": "a808f397",
   "metadata": {},
   "outputs": [
    {
     "name": "stderr",
     "output_type": "stream",
     "text": [
      "/usr/local/lib/python3.8/dist-packages/cudf/core/dataframe.py:1292: UserWarning: The deep parameter is ignored and is only included for pandas compatibility.\n",
      "  warnings.warn(\n"
     ]
    }
   ],
   "source": [
    "train = Dataset(os.path.join(output_path, 'train', '*.parquet'), part_size=\"500MB\")\n",
    "valid = Dataset(os.path.join(output_path, 'valid', '*.parquet'), part_size=\"500MB\")\n",
    "\n",
    "# define schema object\n",
    "schema = train.schema"
   ]
  },
  {
   "cell_type": "code",
   "execution_count": 7,
   "id": "f038450e",
   "metadata": {},
   "outputs": [
    {
     "data": {
      "text/plain": [
       "'click'"
      ]
     },
     "execution_count": 7,
     "metadata": {},
     "output_type": "execute_result"
    }
   ],
   "source": [
    "target_column = schema.select_by_tag(Tags.TARGET).column_names[0]\n",
    "target_column"
   ]
  },
  {
   "cell_type": "markdown",
   "id": "d1c507b0",
   "metadata": {},
   "source": [
    "We can print out all the features that are included in the `schema.pbtxt` file."
   ]
  },
  {
   "cell_type": "code",
   "execution_count": 8,
   "id": "a15fbf6d",
   "metadata": {},
   "outputs": [
    {
     "data": {
      "text/plain": [
       "['user_id',\n",
       " 'item_id',\n",
       " 'click',\n",
       " 'user_item_categories',\n",
       " 'user_item_shops',\n",
       " 'user_item_brands',\n",
       " 'user_item_intentions',\n",
       " 'item_category',\n",
       " 'item_shop',\n",
       " 'item_brand',\n",
       " 'TE_user_item_categories_click',\n",
       " 'TE_user_item_shops_click',\n",
       " 'TE_user_item_brands_click',\n",
       " 'TE_user_item_intentions_click',\n",
       " 'TE_item_category_click',\n",
       " 'TE_item_shop_click',\n",
       " 'TE_item_brand_click',\n",
       " 'TE_user_id_click',\n",
       " 'TE_item_id_click']"
      ]
     },
     "execution_count": 8,
     "metadata": {},
     "output_type": "execute_result"
    }
   ],
   "source": [
    "schema.column_names"
   ]
  },
  {
   "cell_type": "markdown",
   "id": "f28f819b",
   "metadata": {},
   "source": [
    "### Initialize Dataloaders"
   ]
  },
  {
   "cell_type": "markdown",
   "id": "27b5c6fe",
   "metadata": {},
   "source": [
    "We're ready to start training, for that, we create our dataset objects, and under the hood we use Merlin `BatchedDataset` class for reading chunks of parquet files. `BatchedDataset` asynchronously iterate through CSV or Parquet dataframes on GPU by leveraging an NVTabular `Dataset`. To read more about Merlin optimized dataloaders visit [here](https://github.com/NVIDIA-Merlin/models/blob/main/merlin/models/tf/dataset.py#L141)."
   ]
  },
  {
   "cell_type": "markdown",
   "id": "17dcc08b",
   "metadata": {},
   "source": [
    "### NCF Model"
   ]
  },
  {
   "cell_type": "markdown",
   "id": "96eba89c",
   "metadata": {},
   "source": [
    "We will first build and train a Neural Collaborative Filtering (NCF) model. Neural Collaborative Filtering [(NCF)](https://arxiv.org/pdf/1708.05031.pdf) Model  architecture explores neural network architectures for collaborative filtering, in other words explores the use of deep neural networks for learning the interaction function from data.\n",
    "\n",
    "NCF feed categorical features into embedding layer, concat the embedding outputs and add multiple hidden layers via its MLP layer tower as seen in the figure. GMF and MLP uses separate user and item embeddings, and then outputs of their interactions from GMF Layer and MLP Layer are concatenated and fed to the final NeuMF (Neural Matrix Factorisation) layer."
   ]
  },
  {
   "cell_type": "markdown",
   "id": "44d3bf89",
   "metadata": {},
   "source": [
    "<img src=\"./images/ncf.png\"  width=\"30%\">\n",
    "\n",
    "<a href=\"https://arxiv.org/pdf/1708.05031.pdf\">Image Source: NCF paper</a>"
   ]
  },
  {
   "cell_type": "markdown",
   "id": "6fb7e3d5",
   "metadata": {},
   "source": [
    "With `schema` object we enable NCF model easily to recognize item_id and user_id columns (defined in the schema.pbtxt with corresponding tags). Input block of embedding layers will be generated using item_id and user_id as seen in the Figure."
   ]
  },
  {
   "cell_type": "code",
   "execution_count": 9,
   "id": "ad53cbfc",
   "metadata": {},
   "outputs": [],
   "source": [
    "model = mm.benchmark.NCFModel(\n",
    "    schema,\n",
    "    embedding_dim=64,\n",
    "    mlp_block=mm.MLPBlock([128, 64]),\n",
    "    prediction_tasks=mm.BinaryClassificationTask(target_column, metrics=[tf.keras.metrics.AUC()]),\n",
    ")"
   ]
  },
  {
   "cell_type": "code",
   "execution_count": 10,
   "id": "d27fe3c6",
   "metadata": {},
   "outputs": [
    {
     "name": "stderr",
     "output_type": "stream",
     "text": [
      "2022-04-26 15:41:08.253663: W tensorflow/python/util/util.cc:368] Sets are not currently considered sequences, but this may change in the future, so consider avoiding using them.\n"
     ]
    },
    {
     "name": "stdout",
     "output_type": "stream",
     "text": [
      "41/43 [===========================>..] - ETA: 0s - auc: 0.4997 - loss: 0.6932 - regularization_loss: 0.0000e+00 - total_loss: 0.6932"
     ]
    },
    {
     "name": "stderr",
     "output_type": "stream",
     "text": [
      "2022-04-26 15:41:15.285478: W tensorflow/core/grappler/optimizers/loop_optimizer.cc:907] Skipping loop optimization for Merge node with control input: cond/branch_executed/_13\n"
     ]
    },
    {
     "name": "stdout",
     "output_type": "stream",
     "text": [
      "43/43 [==============================] - 6s 36ms/step - auc: 0.4996 - loss: 0.6932 - regularization_loss: 0.0000e+00 - total_loss: 0.6932 - val_auc: 0.4987 - val_loss: 0.6931 - val_regularization_loss: 0.0000e+00 - val_total_loss: 0.6931\n",
      "CPU times: user 7.87 s, sys: 850 ms, total: 8.72 s\n",
      "Wall time: 7.64 s\n"
     ]
    },
    {
     "data": {
      "text/plain": [
       "<keras.callbacks.History at 0x7f0010210820>"
      ]
     },
     "execution_count": 10,
     "metadata": {},
     "output_type": "execute_result"
    }
   ],
   "source": [
    "%%time\n",
    "batch_size = 16*1024\n",
    "LR=0.003\n",
    "\n",
    "opt = tf.keras.optimizers.Adagrad(learning_rate=LR)\n",
    "model.compile(optimizer=opt, run_eagerly=False)\n",
    "model.fit(train, validation_data=valid, batch_size=batch_size)"
   ]
  },
  {
   "cell_type": "markdown",
   "id": "08997f89",
   "metadata": {},
   "source": [
    "Let's save our accuracy results"
   ]
  },
  {
   "cell_type": "code",
   "execution_count": 11,
   "id": "3ba87d1a",
   "metadata": {},
   "outputs": [],
   "source": [
    "save_results('NCF', model)"
   ]
  },
  {
   "cell_type": "markdown",
   "id": "352073cf",
   "metadata": {},
   "source": [
    "### MLP Model"
   ]
  },
  {
   "cell_type": "markdown",
   "id": "f28c4300",
   "metadata": {},
   "source": [
    "Now we will change our model to Multi-Layer Percepton (MLP) model. MLP models feed categorical features into embedding layer, concat the embedding outputs and add multiple hidden layers."
   ]
  },
  {
   "cell_type": "markdown",
   "id": "3ee74dcf",
   "metadata": {},
   "source": [
    "<img src=\"./images/mlp.png\"  width=\"30%\">\n",
    "\n",
    "Steps:\n",
    "\n",
    "- Change the model to MLP model\n",
    "- Rerun the pipeline from there from model.fit"
   ]
  },
  {
   "cell_type": "code",
   "execution_count": 12,
   "id": "497bdea2",
   "metadata": {},
   "outputs": [],
   "source": [
    "# uses default embedding_dim = 64\n",
    "model = mm.MLPBlock([64, 32]).to_model(\n",
    "    schema, \n",
    "    prediction_tasks=mm.BinaryClassificationTask(target_column, metrics=[tf.keras.metrics.AUC()])\n",
    ")"
   ]
  },
  {
   "cell_type": "code",
   "execution_count": 13,
   "id": "c7321d4b",
   "metadata": {},
   "outputs": [
    {
     "name": "stdout",
     "output_type": "stream",
     "text": [
      "41/43 [===========================>..] - ETA: 0s - auc_1: 0.5812 - loss: 0.6890 - regularization_loss: 0.0000e+00 - total_loss: 0.6890"
     ]
    },
    {
     "name": "stderr",
     "output_type": "stream",
     "text": [
      "2022-04-26 15:41:19.050008: W tensorflow/core/grappler/optimizers/loop_optimizer.cc:907] Skipping loop optimization for Merge node with control input: cond/branch_executed/_13\n"
     ]
    },
    {
     "name": "stdout",
     "output_type": "stream",
     "text": [
      "43/43 [==============================] - 3s 43ms/step - auc_1: 0.5871 - loss: 0.6883 - regularization_loss: 0.0000e+00 - total_loss: 0.6883 - val_auc_1: 0.5006 - val_loss: 0.6932 - val_regularization_loss: 0.0000e+00 - val_total_loss: 0.6932\n",
      "CPU times: user 4.52 s, sys: 702 ms, total: 5.22 s\n",
      "Wall time: 3.74 s\n"
     ]
    },
    {
     "data": {
      "text/plain": [
       "<keras.callbacks.History at 0x7effa03c17c0>"
      ]
     },
     "execution_count": 13,
     "metadata": {},
     "output_type": "execute_result"
    }
   ],
   "source": [
    "%%time\n",
    "\n",
    "opt = tf.keras.optimizers.Adagrad(learning_rate=LR)\n",
    "model.compile(optimizer=opt, run_eagerly=False)\n",
    "model.fit(train, validation_data=valid, batch_size=batch_size)"
   ]
  },
  {
   "cell_type": "code",
   "execution_count": 14,
   "id": "e4f76cd5",
   "metadata": {},
   "outputs": [],
   "source": [
    "save_results('MLP', model)"
   ]
  },
  {
   "cell_type": "markdown",
   "id": "26875449",
   "metadata": {},
   "source": [
    "### DLRM Model"
   ]
  },
  {
   "cell_type": "markdown",
   "id": "b6983ff0",
   "metadata": {},
   "source": [
    "Deep Learning Recommendation Model [(DLRM)](https://arxiv.org/abs/1906.00091) architecture is a popular neural network model originally proposed by Facebook in 2019 as a personalization deep learning model.\n",
    "\n",
    "![DLRM](./images/DLRM.png)\n",
    "\n",
    "\n",
    "DLRM accepts two types of features: categorical and numerical. \n",
    "- For each categorical feature, an embedding table is used to provide dense representation to each unique value. \n",
    "- For numerical features, they are fed to model as dense features, and then transformed by a simple neural network referred to as \"bottom MLP\". This part of the network consists of a series of linear layers with ReLU activations. \n",
    "- The output of the bottom MLP and the embedding vectors are then fed into the dot product interaction operation (see Pairwise interaction step). The output of \"dot interaction\" is then concatenated with the features resulting from the bottom MLP (we apply a skip-connection there) and fed into the \"top MLP\" which is also a series of dense layers with activations ((a fully connected NN). \n",
    "- The model outputs a single number (here we use sigmoid function to generate probabilities) which can be interpreted as a likelihood of a certain user clicking on an ad, watching a movie, or viewing a news page.\n",
    "\n",
    "\n",
    "Steps:<br>\n",
    "* Change the model to `DLRMModel`\n",
    "* Rerun the pipeline from there from model.fit"
   ]
  },
  {
   "cell_type": "code",
   "execution_count": 15,
   "id": "87b43430",
   "metadata": {},
   "outputs": [],
   "source": [
    "model = mm.DLRMModel(\n",
    "    schema,\n",
    "    embedding_dim=64,\n",
    "    bottom_block=mm.MLPBlock([128, 64]),\n",
    "    top_block=mm.MLPBlock([128, 64, 32]),\n",
    "    prediction_tasks=mm.BinaryClassificationTask(target_column, metrics=[tf.keras.metrics.AUC()])\n",
    ")"
   ]
  },
  {
   "cell_type": "code",
   "execution_count": 16,
   "id": "84b5210f",
   "metadata": {},
   "outputs": [
    {
     "name": "stdout",
     "output_type": "stream",
     "text": [
      "43/43 [==============================] - ETA: 0s - auc_2: 0.5698 - loss: 0.6919 - regularization_loss: 0.0000e+00 - total_loss: 0.6919"
     ]
    },
    {
     "name": "stderr",
     "output_type": "stream",
     "text": [
      "2022-04-26 15:41:23.973784: W tensorflow/core/grappler/optimizers/loop_optimizer.cc:907] Skipping loop optimization for Merge node with control input: cond/branch_executed/_13\n"
     ]
    },
    {
     "name": "stdout",
     "output_type": "stream",
     "text": [
      "43/43 [==============================] - 4s 52ms/step - auc_2: 0.5698 - loss: 0.6918 - regularization_loss: 0.0000e+00 - total_loss: 0.6918 - val_auc_2: 0.5008 - val_loss: 0.6933 - val_regularization_loss: 0.0000e+00 - val_total_loss: 0.6933\n",
      "CPU times: user 5.62 s, sys: 783 ms, total: 6.4 s\n",
      "Wall time: 4.97 s\n"
     ]
    },
    {
     "data": {
      "text/plain": [
       "<keras.callbacks.History at 0x7efb63b57fd0>"
      ]
     },
     "execution_count": 16,
     "metadata": {},
     "output_type": "execute_result"
    }
   ],
   "source": [
    "%%time\n",
    "opt = tf.keras.optimizers.Adagrad(learning_rate=LR)\n",
    "model.compile(optimizer=opt, run_eagerly=False)\n",
    "model.fit(train, validation_data=valid, batch_size=batch_size)"
   ]
  },
  {
   "cell_type": "code",
   "execution_count": 17,
   "id": "709d6a03",
   "metadata": {},
   "outputs": [],
   "source": [
    "save_results(\"DLRM\", model)"
   ]
  },
  {
   "cell_type": "markdown",
   "id": "9df3e837",
   "metadata": {},
   "source": [
    "### DCN Model"
   ]
  },
  {
   "cell_type": "markdown",
   "id": "f5b07945",
   "metadata": {},
   "source": [
    "DCN-V2 is an architecture proposed as an improvement upon the original [DCN model](https://arxiv.org/pdf/1708.05123.pdf). The explicit feature interactions of the inputs are learned through cross layers, and then combined with a deep network to learn complementary implicit interactions. The overall model architecture is depicted in Figure below, with two ways to combine the cross network with the deep network: (1) stacked and (2) parallel. The output of the embbedding layer is the concatenation of all the embedded vectors and the normalized dense features: x<sub>0</sub> = [x<sub>embed,1</sub>; . . . ; x<sub>embed,𝑛</sub>; 𝑥<sub>dense</sub>].\n",
    "\n",
    "![DCN](./images/DCN.png)\n",
    "\n",
    "<a href=\"https://arxiv.org/abs/2008.13535\">Image Source: DCN V2 paper</a>\n",
    "\n",
    "In this example, we build `DCN-v2 stacked` architecture. \n",
    "\n",
    "Steps:<br>\n",
    "* Change the model to `DCNModel`\n",
    "* Rerun the pipeline from there to model.fit"
   ]
  },
  {
   "cell_type": "code",
   "execution_count": 18,
   "id": "ee6355a6",
   "metadata": {},
   "outputs": [],
   "source": [
    "model = mm.DCNModel(\n",
    "    schema,\n",
    "    depth=2,\n",
    "    deep_block=mm.MLPBlock([64, 32]),\n",
    "    prediction_tasks=mm.BinaryClassificationTask(target_column, metrics=[tf.keras.metrics.AUC()])\n",
    ")"
   ]
  },
  {
   "cell_type": "code",
   "execution_count": 19,
   "id": "d7e26fad",
   "metadata": {},
   "outputs": [
    {
     "name": "stdout",
     "output_type": "stream",
     "text": [
      "43/43 [==============================] - ETA: 0s - auc_3: 0.5987 - loss: 0.6871 - regularization_loss: 0.0000e+00 - total_loss: 0.6871"
     ]
    },
    {
     "name": "stderr",
     "output_type": "stream",
     "text": [
      "2022-04-26 15:41:28.698272: W tensorflow/core/grappler/optimizers/loop_optimizer.cc:907] Skipping loop optimization for Merge node with control input: cond/branch_executed/_13\n"
     ]
    },
    {
     "name": "stdout",
     "output_type": "stream",
     "text": [
      "43/43 [==============================] - 4s 47ms/step - auc_3: 0.5987 - loss: 0.6869 - regularization_loss: 0.0000e+00 - total_loss: 0.6869 - val_auc_3: 0.5002 - val_loss: 0.6943 - val_regularization_loss: 0.0000e+00 - val_total_loss: 0.6943\n",
      "CPU times: user 5.3 s, sys: 760 ms, total: 6.06 s\n",
      "Wall time: 4.58 s\n"
     ]
    },
    {
     "data": {
      "text/plain": [
       "<keras.callbacks.History at 0x7efb62cf33a0>"
      ]
     },
     "execution_count": 19,
     "metadata": {},
     "output_type": "execute_result"
    }
   ],
   "source": [
    "%%time\n",
    "opt = tf.keras.optimizers.Adagrad(learning_rate=LR)\n",
    "model.compile(optimizer=opt, run_eagerly=False)\n",
    "model.fit(train, validation_data=valid, batch_size=batch_size)"
   ]
  },
  {
   "cell_type": "code",
   "execution_count": 20,
   "id": "cae68a96",
   "metadata": {},
   "outputs": [],
   "source": [
    "save_results(\"DCN\", model)"
   ]
  },
  {
   "cell_type": "markdown",
   "id": "b4990008",
   "metadata": {},
   "source": [
    "Let's check out the model evaluation scores"
   ]
  },
  {
   "cell_type": "code",
   "execution_count": 21,
   "id": "25b38b2e",
   "metadata": {},
   "outputs": [
    {
     "name": "stdout",
     "output_type": "stream",
     "text": [
      "293/293 [==============================] - 3s 9ms/step - auc_3: 0.5002 - loss: 0.6954 - regularization_loss: 0.0000e+00 - total_loss: 0.6954\n"
     ]
    },
    {
     "data": {
      "text/plain": [
       "{'auc_3': 0.5002349019050598,\n",
       " 'loss': 0.6948450207710266,\n",
       " 'regularization_loss': 0.0,\n",
       " 'total_loss': 0.6948450207710266}"
      ]
     },
     "execution_count": 21,
     "metadata": {},
     "output_type": "execute_result"
    }
   ],
   "source": [
    "metrics = model.evaluate(valid, batch_size=1024, return_dict=True)\n",
    "metrics"
   ]
  },
  {
   "cell_type": "markdown",
   "id": "c829c43c",
   "metadata": {},
   "source": [
    "Note that the evaluate() progress bar shows the loss score for every batch, whereas the final loss stored in the dictionary represents the total loss across all batches."
   ]
  },
  {
   "cell_type": "markdown",
   "id": "bab4f2b4",
   "metadata": {},
   "source": [
    "Let's visualize our model validation accuracy values. Since we did not do any hyper-parameter optimization or extensive feature engineering here, we do not come up with a final conclusion that one model is superior to another."
   ]
  },
  {
   "cell_type": "code",
   "execution_count": 22,
   "id": "215c4c71",
   "metadata": {},
   "outputs": [],
   "source": [
    "import matplotlib.pyplot as plt\n",
    "def create_bar_chart(text_file_name, models_name):\n",
    "    \"\"\"a func to plot barcharts via parsing the  accuracy results in a text file\"\"\"\n",
    "    auc = []\n",
    "    with open(text_file_name, \"r\") as infile:\n",
    "        for line in infile:\n",
    "            if \"auc\" in line:\n",
    "                data = [line.rstrip().split(\":\")]\n",
    "                key, value = zip(*data)\n",
    "                auc.append(float(value[0]))\n",
    "\n",
    "    X_axis = np.arange(len(models_name))\n",
    "\n",
    "    plt.title(\"Models' accuracy metrics comparison\", pad=20)\n",
    "    plt.bar(X_axis - 0.2, auc, 0.4, label=\"AUC\")\n",
    "\n",
    "    plt.xticks(X_axis, models_name)\n",
    "    plt.xlabel(\"Models\")\n",
    "    plt.ylabel(\"AUC\")\n",
    "    plt.show()"
   ]
  },
  {
   "cell_type": "code",
   "execution_count": 23,
   "id": "94fbe390",
   "metadata": {},
   "outputs": [
    {
     "data": {
      "image/png": "[encoded data removed]",
      "text/plain": [
       "<Figure size 432x288 with 1 Axes>"
      ]
     },
     "metadata": {
      "needs_background": "light"
     },
     "output_type": "display_data"
    }
   ],
   "source": [
    "models_name = [\"NCF\", \"MLP\", \"DLRM\", \"DCN\"]\n",
    "create_bar_chart(\"results.txt\", models_name)"
   ]
  }
 ],
 "metadata": {
  "kernelspec": {
   "display_name": "Python 3 (ipykernel)",
   "language": "python",
   "name": "python3"
  },
  "language_info": {
   "codemirror_mode": {
    "name": "ipython",
    "version": 3
   },
   "file_extension": ".py",
   "mimetype": "text/x-python",
   "name": "python",
   "nbconvert_exporter": "python",
   "pygments_lexer": "ipython3",
   "version": "3.8.10"
  }
 },
 "nbformat": 4,
 "nbformat_minor": 5
}
