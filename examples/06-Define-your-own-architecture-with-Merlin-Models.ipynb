{
 "cells": [
  {
   "cell_type": "code",
   "execution_count": 1,
   "id": "f9be6e1c",
   "metadata": {
    "pycharm": {
     "name": "#%%\n"
    }
   },
   "outputs": [],
   "source": [
    "# Copyright 2021 NVIDIA Corporation. All Rights Reserved.\n",
    "#\n",
    "# Licensed under the Apache License, Version 2.0 (the \"License\");\n",
    "# you may not use this file except in compliance with the License.\n",
    "# You may obtain a copy of the License at\n",
    "#\n",
    "#     http://www.apache.org/licenses/LICENSE-2.0\n",
    "#\n",
    "# Unless required by applicable law or agreed to in writing, software\n",
    "# distributed under the License is distributed on an \"AS IS\" BASIS,\n",
    "# WITHOUT WARRANTIES OR CONDITIONS OF ANY KIND, either express or implied.\n",
    "# See the License for the specific language governing permissions and\n",
    "# limitations under the License.\n",
    "# ================================"
   ]
  },
  {
   "cell_type": "markdown",
   "id": "1399da61",
   "metadata": {
    "pycharm": {
     "name": "#%% md\n"
    }
   },
   "source": [
    "<img src=\"https://developer.download.nvidia.com/notebooks/dlsw-notebooks/merlin_models_06-define-your-own-architecture-with-merlin-models/nvidia_logo.png\" style=\"width: 90px; float: right;\">\n",
    "\n",
    "# Taking the Next Step with Merlin Models: Define Your Own Architecture\n",
    "\n",
    "This notebook is created using the latest stable [merlin-tensorflow](https://catalog.ngc.nvidia.com/orgs/nvidia/teams/merlin/containers/merlin-tensorflow/tags) container. \n",
    "\n",
    "In [Iterating over Deep Learning Models using Merlin Models](https://nvidia-merlin.github.io/models/main/examples/03-Exploring-different-models.html), we conducted a benchmark of standard and deep learning-based ranking models provided by the high-level Merlin Models API. The library also includes the standard components of deep learning that let recsys practitioners and researchers to define custom models, train and export them for inference.\n",
    "\n",
    "\n",
    "In this example, we combine pre-existing blocks and demonstrate how to create the [DLRM](https://arxiv.org/abs/1906.00091) architecture.\n",
    "\n",
    "\n",
    "### Learning objectives\n",
    "- Understand the building blocks of Merlin Models\n",
    "- Define a model architecture from scratch"
   ]
  },
  {
   "cell_type": "markdown",
   "id": "6b33d04c",
   "metadata": {
    "pycharm": {
     "name": "#%% md\n"
    }
   },
   "source": [
    "### Introduction to Merlin-models core building blocks"
   ]
  },
  {
   "cell_type": "markdown",
   "id": "75302fa1",
   "metadata": {
    "pycharm": {
     "name": "#%% md\n"
    }
   },
   "source": [
    "The [Block](https://nvidia-merlin.github.io/models/review/pr-294/generated/merlin.models.tf.Block.html#merlin.models.tf.Block) is the core abstraction in Merlin Models and is the class from which all blocks inherit.\n",
    "The class extends the [tf.keras.layers.Layer](https://www.tensorflow.org/api_docs/python/tf/keras/layers/Layer) base class and implements a number of properties that simplify the creation of custom blocks and models. These properties include the `Schema` object for determining the embedding dimensions, input shapes, and output shapes. Additionally, the `Block` has a `ModelContext` instance to store and retrieve public variables and share them with other blocks in the same model as additional meta-data. \n",
    "\n",
    "Before deep-diving into the definition of the DLRM architecture, let's start by listing the core components you need to know to define a model from scratch:"
   ]
  },
  {
   "cell_type": "markdown",
   "id": "68fd2a3f",
   "metadata": {
    "pycharm": {
     "name": "#%% md\n"
    }
   },
   "source": [
    "#### Features Blocks"
   ]
  },
  {
   "cell_type": "markdown",
   "id": "adf3e494",
   "metadata": {
    "pycharm": {
     "name": "#%% md\n"
    }
   },
   "source": [
    "They include input blocks to process various inputs based on their types and shapes. Merlin Models supports three main blocks: \n",
    "- `EmbeddingFeatures`: Input block for embedding-lookups for categorical features.\n",
    "- `SequenceEmbeddingFeatures`: Input block for embedding-lookups for sequential categorical features (3D tensors).\n",
    "- `ContinuousFeatures`: Input block for continuous features."
   ]
  },
  {
   "cell_type": "markdown",
   "id": "24c9e7bb",
   "metadata": {
    "pycharm": {
     "name": "#%% md\n"
    }
   },
   "source": [
    "#### Transformations Blocks"
   ]
  },
  {
   "cell_type": "markdown",
   "id": "4bee72b1",
   "metadata": {
    "pycharm": {
     "name": "#%% md\n"
    }
   },
   "source": [
    "They include various operators commonly used to transform tensors in various parts of the model, such as: \n",
    "\n",
    "- `ToDense`: It takes a dictionary of raw input tensors and transforms the sparse tensors into dense tensors.\n",
    "- `L2Norm`: It takes a single or a dictionary of hidden tensors and applies an L2-normalization along a given axis. \n",
    "- `LogitsTemperatureScaler`: It scales the output tensor of predicted logits to lower the model's confidence. "
   ]
  },
  {
   "cell_type": "markdown",
   "id": "cd9d24c3",
   "metadata": {
    "pycharm": {
     "name": "#%% md\n"
    }
   },
   "source": [
    "#### Aggregations Blocks"
   ]
  },
  {
   "cell_type": "markdown",
   "id": "4519b6b9",
   "metadata": {
    "pycharm": {
     "name": "#%% md\n"
    }
   },
   "source": [
    "They include common aggregation operations to combine multiple tensors, such as:\n",
    "- `ConcatFeatures`: Concatenate dictionary of tensors along a given dimension.\n",
    "- `StackFeatures`: Stack dictionary of tensors along a given dimension.\n",
    "- `CosineSimilarity`: Calculate the cosine similarity between two tensors. \n"
   ]
  },
  {
   "cell_type": "markdown",
   "id": "2fc30b6d",
   "metadata": {
    "pycharm": {
     "name": "#%% md\n"
    }
   },
   "source": [
    "#### Connects Methods"
   ]
  },
  {
   "cell_type": "markdown",
   "id": "4266112b",
   "metadata": {
    "pycharm": {
     "name": "#%% md\n"
    }
   },
   "source": [
    "The base class `Block` implements different connects methods that control how to link a given block to other blocks: \n",
    "\n",
    "- `connect`: Connect the block to other blocks sequentially. The output is a tensor returned by the last block. \n",
    "- `connect_branch`: Link the block to other blocks in parallel. The output is a dictionary containing the output tensor of each block.\n",
    "- `connect_with_shortcut`: Connect the block to other blocks sequentially and apply a skip connection with the block's output. \n",
    "- `connect_with_residual`: Connect the block to other blocks sequentially and apply a residual sum with the block's output."
   ]
  },
  {
   "cell_type": "markdown",
   "id": "d60fe383",
   "metadata": {
    "pycharm": {
     "name": "#%% md\n"
    }
   },
   "source": [
    "#### Prediction Tasks"
   ]
  },
  {
   "cell_type": "markdown",
   "id": "2673a0a5",
   "metadata": {
    "pycharm": {
     "name": "#%% md\n"
    }
   },
   "source": [
    "Merlin Models introduces the `PredictionTask` layer that defines the necessary blocks and transformation operations to compute the final prediction scores. It also provides the default loss and metrics related to the given prediction task.\\\n",
    "Merlin Models supports the core tasks:  `BinaryClassificationTask`, `MultiClassClassificationTask`, and`RegressionTask`. In addition to the preceding tasks, Merlin Models provides tasks that are specific to recommender systems: `NextItemPredictionTask`, and `ItemRetrievalTask`.\n",
    "\n",
    "\n"
   ]
  },
  {
   "cell_type": "markdown",
   "id": "6cd80356",
   "metadata": {
    "pycharm": {
     "name": "#%% md\n"
    }
   },
   "source": [
    "### Implement the DLRM model with MovieLens-1M data"
   ]
  },
  {
   "cell_type": "markdown",
   "id": "37eaae67",
   "metadata": {
    "pycharm": {
     "name": "#%% md\n"
    }
   },
   "source": [
    "Now that we have introduced the core blocks of Merlin Models, let's take a look at how we can combine them to define the DLRM architecture:"
   ]
  },
  {
   "cell_type": "code",
   "execution_count": 2,
   "id": "863eb0c6",
   "metadata": {
    "pycharm": {
     "name": "#%%\n"
    }
   },
   "outputs": [
    {
     "name": "stderr",
     "output_type": "stream",
     "text": [
      "2022-09-14 20:23:06.071868: I tensorflow/core/platform/cpu_feature_guard.cc:194] This TensorFlow binary is optimized with oneAPI Deep Neural Network Library (oneDNN) to use the following CPU instructions in performance-critical operations:  SSE3 SSE4.1 SSE4.2 AVX\n",
      "To enable them in other operations, rebuild TensorFlow with the appropriate compiler flags.\n",
      "2022-09-14 20:23:07.207541: I tensorflow/core/common_runtime/gpu/gpu_device.cc:1532] Created device /job:localhost/replica:0/task:0/device:GPU:0 with 16249 MB memory:  -> device: 0, name: Quadro GV100, pci bus id: 0000:2d:00.0, compute capability: 7.0\n"
     ]
    }
   ],
   "source": [
    "import tensorflow as tf\n",
    "import merlin.models.tf as mm\n",
    "\n",
    "from merlin.datasets.entertainment import get_movielens\n",
    "from merlin.schema.tags import Tags"
   ]
  },
  {
   "cell_type": "markdown",
   "id": "4dc9457f",
   "metadata": {
    "pycharm": {
     "name": "#%% md\n"
    }
   },
   "source": [
    "We use the `get_movielens` function to download, extract, and preprocess the MovieLens 1M  dataset:"
   ]
  },
  {
   "cell_type": "code",
   "execution_count": 3,
   "id": "3c342cb6",
   "metadata": {
    "pycharm": {
     "name": "#%%\n"
    }
   },
   "outputs": [
    {
     "name": "stderr",
     "output_type": "stream",
     "text": [
      "/usr/local/lib/python3.8/dist-packages/cudf/core/frame.py:384: UserWarning: The deep parameter is ignored and is only included for pandas compatibility.\n",
      "  warnings.warn(\n",
      "/usr/local/lib/python3.8/dist-packages/merlin/schema/tags.py:148: UserWarning: Compound tags like Tags.USER_ID have been deprecated and will be removed in a future version. Please use the atomic versions of these tags, like [<Tags.USER: 'user'>, <Tags.ID: 'id'>].\n",
      "  warnings.warn(\n",
      "/usr/local/lib/python3.8/dist-packages/merlin/schema/tags.py:148: UserWarning: Compound tags like Tags.ITEM_ID have been deprecated and will be removed in a future version. Please use the atomic versions of these tags, like [<Tags.ITEM: 'item'>, <Tags.ID: 'id'>].\n",
      "  warnings.warn(\n"
     ]
    }
   ],
   "source": [
    "train, valid = get_movielens(variant=\"ml-1m\")"
   ]
  },
  {
   "cell_type": "markdown",
   "id": "210ccab6",
   "metadata": {
    "pycharm": {
     "name": "#%% md\n"
    }
   },
   "source": [
    "We display the first five rows of the validation data and use them to check the outputs of each building block: "
   ]
  },
  {
   "cell_type": "code",
   "execution_count": 4,
   "id": "bc3da2e9",
   "metadata": {
    "pycharm": {
     "name": "#%%\n"
    }
   },
   "outputs": [
    {
     "data": {
      "text/html": [
       "<div>\n",
       "<style scoped>\n",
       "    .dataframe tbody tr th:only-of-type {\n",
       "        vertical-align: middle;\n",
       "    }\n",
       "\n",
       "    .dataframe tbody tr th {\n",
       "        vertical-align: top;\n",
       "    }\n",
       "\n",
       "    .dataframe thead th {\n",
       "        text-align: right;\n",
       "    }\n",
       "</style>\n",
       "<table border=\"1\" class=\"dataframe\">\n",
       "  <thead>\n",
       "    <tr style=\"text-align: right;\">\n",
       "      <th></th>\n",
       "      <th>userId</th>\n",
       "      <th>movieId</th>\n",
       "      <th>title</th>\n",
       "      <th>genres</th>\n",
       "      <th>gender</th>\n",
       "      <th>age</th>\n",
       "      <th>occupation</th>\n",
       "      <th>zipcode</th>\n",
       "      <th>TE_age_rating</th>\n",
       "      <th>TE_gender_rating</th>\n",
       "      <th>TE_occupation_rating</th>\n",
       "      <th>TE_zipcode_rating</th>\n",
       "      <th>TE_movieId_rating</th>\n",
       "      <th>TE_userId_rating</th>\n",
       "      <th>rating_binary</th>\n",
       "      <th>rating</th>\n",
       "    </tr>\n",
       "  </thead>\n",
       "  <tbody>\n",
       "    <tr>\n",
       "      <th>0</th>\n",
       "      <td>1332</td>\n",
       "      <td>724</td>\n",
       "      <td>726</td>\n",
       "      <td>[2]</td>\n",
       "      <td>1</td>\n",
       "      <td>5</td>\n",
       "      <td>7</td>\n",
       "      <td>76</td>\n",
       "      <td>1.992826</td>\n",
       "      <td>-0.580296</td>\n",
       "      <td>1.166594</td>\n",
       "      <td>1.093124</td>\n",
       "      <td>0.526717</td>\n",
       "      <td>1.030316</td>\n",
       "      <td>1</td>\n",
       "      <td>5.0</td>\n",
       "    </tr>\n",
       "    <tr>\n",
       "      <th>1</th>\n",
       "      <td>4320</td>\n",
       "      <td>102</td>\n",
       "      <td>102</td>\n",
       "      <td>[2]</td>\n",
       "      <td>1</td>\n",
       "      <td>5</td>\n",
       "      <td>3</td>\n",
       "      <td>1424</td>\n",
       "      <td>1.985156</td>\n",
       "      <td>-0.599401</td>\n",
       "      <td>0.337638</td>\n",
       "      <td>0.394303</td>\n",
       "      <td>0.875647</td>\n",
       "      <td>1.060459</td>\n",
       "      <td>1</td>\n",
       "      <td>4.0</td>\n",
       "    </tr>\n",
       "    <tr>\n",
       "      <th>2</th>\n",
       "      <td>1351</td>\n",
       "      <td>581</td>\n",
       "      <td>583</td>\n",
       "      <td>[3, 7, 1]</td>\n",
       "      <td>1</td>\n",
       "      <td>5</td>\n",
       "      <td>16</td>\n",
       "      <td>1107</td>\n",
       "      <td>1.949597</td>\n",
       "      <td>-0.534489</td>\n",
       "      <td>0.687319</td>\n",
       "      <td>-0.252332</td>\n",
       "      <td>-0.630569</td>\n",
       "      <td>-0.574388</td>\n",
       "      <td>0</td>\n",
       "      <td>2.0</td>\n",
       "    </tr>\n",
       "    <tr>\n",
       "      <th>3</th>\n",
       "      <td>700</td>\n",
       "      <td>1070</td>\n",
       "      <td>1074</td>\n",
       "      <td>[7, 10, 2]</td>\n",
       "      <td>1</td>\n",
       "      <td>3</td>\n",
       "      <td>1</td>\n",
       "      <td>316</td>\n",
       "      <td>-1.045463</td>\n",
       "      <td>-0.576565</td>\n",
       "      <td>-0.751345</td>\n",
       "      <td>0.135090</td>\n",
       "      <td>-1.847183</td>\n",
       "      <td>0.218730</td>\n",
       "      <td>0</td>\n",
       "      <td>3.0</td>\n",
       "    </tr>\n",
       "    <tr>\n",
       "      <th>4</th>\n",
       "      <td>2366</td>\n",
       "      <td>130</td>\n",
       "      <td>130</td>\n",
       "      <td>[1]</td>\n",
       "      <td>1</td>\n",
       "      <td>4</td>\n",
       "      <td>4</td>\n",
       "      <td>1848</td>\n",
       "      <td>0.774309</td>\n",
       "      <td>-0.599401</td>\n",
       "      <td>-0.098956</td>\n",
       "      <td>0.586722</td>\n",
       "      <td>0.945900</td>\n",
       "      <td>0.524332</td>\n",
       "      <td>1</td>\n",
       "      <td>5.0</td>\n",
       "    </tr>\n",
       "  </tbody>\n",
       "</table>\n",
       "</div>"
      ],
      "text/plain": [
       "   userId  movieId  title      genres  gender  age  occupation  zipcode  \\\n",
       "0    1332      724    726         [2]       1    5           7       76   \n",
       "1    4320      102    102         [2]       1    5           3     1424   \n",
       "2    1351      581    583   [3, 7, 1]       1    5          16     1107   \n",
       "3     700     1070   1074  [7, 10, 2]       1    3           1      316   \n",
       "4    2366      130    130         [1]       1    4           4     1848   \n",
       "\n",
       "   TE_age_rating  TE_gender_rating  TE_occupation_rating  TE_zipcode_rating  \\\n",
       "0       1.992826         -0.580296              1.166594           1.093124   \n",
       "1       1.985156         -0.599401              0.337638           0.394303   \n",
       "2       1.949597         -0.534489              0.687319          -0.252332   \n",
       "3      -1.045463         -0.576565             -0.751345           0.135090   \n",
       "4       0.774309         -0.599401             -0.098956           0.586722   \n",
       "\n",
       "   TE_movieId_rating  TE_userId_rating  rating_binary  rating  \n",
       "0           0.526717          1.030316              1     5.0  \n",
       "1           0.875647          1.060459              1     4.0  \n",
       "2          -0.630569         -0.574388              0     2.0  \n",
       "3          -1.847183          0.218730              0     3.0  \n",
       "4           0.945900          0.524332              1     5.0  "
      ]
     },
     "execution_count": 4,
     "metadata": {},
     "output_type": "execute_result"
    }
   ],
   "source": [
    "valid.head()"
   ]
  },
  {
   "cell_type": "markdown",
   "id": "2044225b",
   "metadata": {
    "pycharm": {
     "name": "#%% md\n"
    }
   },
   "source": [
    "We convert the first five rows of the `valid` dataset to a batch of input tensors:  "
   ]
  },
  {
   "cell_type": "code",
   "execution_count": 5,
   "id": "932d878e",
   "metadata": {
    "pycharm": {
     "name": "#%%\n"
    }
   },
   "outputs": [
    {
     "data": {
      "text/plain": [
       "<tf.Tensor: shape=(5, 1), dtype=int32, numpy=\n",
       "array([[1332],\n",
       "       [4320],\n",
       "       [1351],\n",
       "       [ 700],\n",
       "       [2366]], dtype=int32)>"
      ]
     },
     "execution_count": 5,
     "metadata": {},
     "output_type": "execute_result"
    }
   ],
   "source": [
    "batch = mm.sample_batch(valid, batch_size=5, shuffle=False, include_targets=False)\n",
    "batch[\"userId\"]"
   ]
  },
  {
   "cell_type": "markdown",
   "id": "064ea3e2",
   "metadata": {
    "pycharm": {
     "name": "#%% md\n"
    }
   },
   "source": [
    "#### Define the inputs block"
   ]
  },
  {
   "cell_type": "markdown",
   "id": "7e66aa30",
   "metadata": {
    "pycharm": {
     "name": "#%% md\n"
    }
   },
   "source": [
    "For the sake of simplicity, let's create a schema with a subset of the following continuous and categorical features: "
   ]
  },
  {
   "cell_type": "code",
   "execution_count": 6,
   "id": "0534f548",
   "metadata": {
    "pycharm": {
     "name": "#%%\n"
    }
   },
   "outputs": [],
   "source": [
    "sub_schema = train.schema.select_by_name(\n",
    "    [\n",
    "        \"userId\",\n",
    "        \"movieId\",\n",
    "        \"title\",\n",
    "        \"gender\",\n",
    "        \"TE_zipcode_rating\",\n",
    "        \"TE_movieId_rating\",\n",
    "        \"rating_binary\",\n",
    "    ]\n",
    ")"
   ]
  },
  {
   "cell_type": "markdown",
   "id": "573bc018",
   "metadata": {
    "pycharm": {
     "name": "#%% md\n"
    }
   },
   "source": [
    "We define the continuous layer based on the schema:"
   ]
  },
  {
   "cell_type": "code",
   "execution_count": 7,
   "id": "3a9dede5",
   "metadata": {
    "pycharm": {
     "name": "#%%\n"
    }
   },
   "outputs": [],
   "source": [
    "continuous_block = mm.ContinuousFeatures.from_schema(sub_schema, tags=Tags.CONTINUOUS)"
   ]
  },
  {
   "cell_type": "markdown",
   "id": "16320ff1",
   "metadata": {
    "pycharm": {
     "name": "#%% md\n"
    }
   },
   "source": [
    "We display the output tensor of the continuous block by using the data from the first batch. We can see the raw tensors of the continuous features:"
   ]
  },
  {
   "cell_type": "code",
   "execution_count": 8,
   "id": "ed672405",
   "metadata": {
    "pycharm": {
     "name": "#%%\n"
    }
   },
   "outputs": [
    {
     "data": {
      "text/plain": [
       "{'TE_zipcode_rating': <tf.Tensor: shape=(5, 1), dtype=float32, numpy=\n",
       " array([[ 1.0931238 ],\n",
       "        [ 0.39430296],\n",
       "        [-0.25233188],\n",
       "        [ 0.13508965],\n",
       "        [ 0.5867218 ]], dtype=float32)>,\n",
       " 'TE_movieId_rating': <tf.Tensor: shape=(5, 1), dtype=float32, numpy=\n",
       " array([[ 0.5267168],\n",
       "        [ 0.8756474],\n",
       "        [-0.6305694],\n",
       "        [-1.8471828],\n",
       "        [ 0.9459003]], dtype=float32)>}"
      ]
     },
     "execution_count": 8,
     "metadata": {},
     "output_type": "execute_result"
    }
   ],
   "source": [
    "continuous_block(batch)"
   ]
  },
  {
   "cell_type": "markdown",
   "id": "cc168c68",
   "metadata": {
    "pycharm": {
     "name": "#%% md\n"
    }
   },
   "source": [
    "We connect the continuous block to a `MLPBlock` instance to project them into the same dimensionality as the embedding width of categorical features:"
   ]
  },
  {
   "cell_type": "code",
   "execution_count": 9,
   "id": "98d68924",
   "metadata": {
    "pycharm": {
     "name": "#%%\n"
    }
   },
   "outputs": [
    {
     "data": {
      "text/plain": [
       "TensorShape([5, 64])"
      ]
     },
     "execution_count": 9,
     "metadata": {},
     "output_type": "execute_result"
    }
   ],
   "source": [
    "deep_continuous_block = continuous_block.connect(mm.MLPBlock([64]))\n",
    "deep_continuous_block(batch).shape"
   ]
  },
  {
   "cell_type": "markdown",
   "id": "edbe7006",
   "metadata": {
    "pycharm": {
     "name": "#%% md\n"
    }
   },
   "source": [
    "We define the categorical embedding block based on the schema:"
   ]
  },
  {
   "cell_type": "code",
   "execution_count": 10,
   "id": "c291ab58",
   "metadata": {
    "pycharm": {
     "name": "#%%\n"
    }
   },
   "outputs": [],
   "source": [
    "embedding_block = mm.EmbeddingFeatures.from_schema(sub_schema)"
   ]
  },
  {
   "cell_type": "markdown",
   "id": "7453628f",
   "metadata": {
    "pycharm": {
     "name": "#%% md\n"
    }
   },
   "source": [
    "We display the output tensor of the categorical embedding block using the data from the first batch. We can see the embeddings tensors of categorical features with a default dimension of 64:"
   ]
  },
  {
   "cell_type": "code",
   "execution_count": 11,
   "id": "fc0e02da",
   "metadata": {
    "pycharm": {
     "name": "#%%\n"
    }
   },
   "outputs": [
    {
     "data": {
      "text/plain": [
       "(dict_keys(['userId', 'movieId', 'title', 'gender']), TensorShape([5, 64]))"
      ]
     },
     "execution_count": 11,
     "metadata": {},
     "output_type": "execute_result"
    }
   ],
   "source": [
    "embeddings = embedding_block(batch)\n",
    "embeddings.keys(), embeddings[\"userId\"].shape"
   ]
  },
  {
   "cell_type": "markdown",
   "id": "8c4a6d1b",
   "metadata": {
    "pycharm": {
     "name": "#%% md\n"
    }
   },
   "source": [
    "Let's store the continuous and categorical representations in a single dictionary using a `ParallelBlock` instance:"
   ]
  },
  {
   "cell_type": "code",
   "execution_count": 12,
   "id": "5f2b0a00",
   "metadata": {
    "pycharm": {
     "name": "#%%\n"
    }
   },
   "outputs": [
    {
     "name": "stdout",
     "output_type": "stream",
     "text": [
      "Output shapes of DLRM input block:\n",
      "\tuserId : (5, 64)\n",
      "\tmovieId : (5, 64)\n",
      "\ttitle : (5, 64)\n",
      "\tgender : (5, 64)\n",
      "\tdeep_continuous : (5, 64)\n"
     ]
    }
   ],
   "source": [
    "dlrm_input_block = mm.ParallelBlock(\n",
    "    {\"embeddings\": embedding_block, \"deep_continuous\": deep_continuous_block}\n",
    ")\n",
    "print(\"Output shapes of DLRM input block:\")\n",
    "for key, val in dlrm_input_block(batch).items():\n",
    "    print(\"\\t%s : %s\" % (key, val.shape))"
   ]
  },
  {
   "cell_type": "markdown",
   "id": "33287714",
   "metadata": {
    "pycharm": {
     "name": "#%% md\n"
    }
   },
   "source": [
    "By looking at the output, we can see that the `ParallelBlock` class applies embedding and continuous blocks, in parallel, to the same input batch.  Additionally, it merges the resulting tensors into one dictionary."
   ]
  },
  {
   "cell_type": "markdown",
   "id": "524fd103",
   "metadata": {
    "pycharm": {
     "name": "#%% md\n"
    }
   },
   "source": [
    "#### Define the interaction block"
   ]
  },
  {
   "cell_type": "markdown",
   "id": "f8a34684",
   "metadata": {
    "pycharm": {
     "name": "#%% md\n"
    }
   },
   "source": [
    "Now that we have a vector representation of each input feature, we will create the DLRM interaction block. It consists of three operations: \n",
    "- Apply a dot product between all continuous and categorical features to learn pairwise interactions. \n",
    "- Concat the resulting pairwise interaction with the deep representation of conitnuous features (skip-connection). \n",
    "- Apply an `MLPBlock` with a series of dense layers to the concatenated tensor. "
   ]
  },
  {
   "cell_type": "markdown",
   "id": "3f895068",
   "metadata": {
    "pycharm": {
     "name": "#%% md\n"
    }
   },
   "source": [
    "First, we use the `connect_with_shortcut` method to create first two operations of the DLRM interaction block:"
   ]
  },
  {
   "cell_type": "code",
   "execution_count": 13,
   "id": "8218fc1a",
   "metadata": {
    "pycharm": {
     "name": "#%%\n"
    }
   },
   "outputs": [],
   "source": [
    "from merlin.models.tf.blocks.dlrm import DotProductInteractionBlock\n",
    "\n",
    "dlrm_interaction = dlrm_input_block.connect_with_shortcut(\n",
    "    DotProductInteractionBlock(), shortcut_filter=mm.Filter(\"deep_continuous\"), aggregation=\"concat\"\n",
    ")"
   ]
  },
  {
   "cell_type": "markdown",
   "id": "522dce49",
   "metadata": {
    "pycharm": {
     "name": "#%% md\n"
    }
   },
   "source": [
    "The `Filter` operation allows us to select the `deep_continuous` tensor from the `dlrm_input_block` outputs. "
   ]
  },
  {
   "cell_type": "markdown",
   "id": "731a613b",
   "metadata": {
    "pycharm": {
     "name": "#%% md\n"
    }
   },
   "source": [
    "The following diagram provides a visualization of the operations that we constructed in the `dlrm_interaction` object.\n",
    "\n",
    "<img src=\"./images/residual_interaction.png\"  width=\"30%\">\n"
   ]
  },
  {
   "cell_type": "code",
   "execution_count": 14,
   "id": "f2671a01",
   "metadata": {
    "pycharm": {
     "name": "#%%\n"
    }
   },
   "outputs": [
    {
     "data": {
      "text/plain": [
       "<tf.Tensor: shape=(5, 74), dtype=float32, numpy=\n",
       "array([[ 2.30220780e-02,  0.00000000e+00,  0.00000000e+00,\n",
       "         7.56775588e-02,  0.00000000e+00,  0.00000000e+00,\n",
       "         0.00000000e+00,  2.28175014e-01,  0.00000000e+00,\n",
       "         3.19941580e-01,  0.00000000e+00,  2.78777480e-02,\n",
       "         0.00000000e+00,  4.73161668e-01,  7.64442533e-02,\n",
       "         2.35672563e-01,  2.91652471e-01,  1.66354105e-01,\n",
       "         3.41646910e-01,  0.00000000e+00,  2.71705240e-01,\n",
       "         1.37824044e-01,  0.00000000e+00,  2.48484939e-01,\n",
       "         0.00000000e+00,  0.00000000e+00,  0.00000000e+00,\n",
       "         1.39127672e-01,  0.00000000e+00,  0.00000000e+00,\n",
       "         0.00000000e+00,  0.00000000e+00,  0.00000000e+00,\n",
       "         3.48613858e-02,  1.25599518e-01,  0.00000000e+00,\n",
       "         4.45570499e-02,  0.00000000e+00,  0.00000000e+00,\n",
       "         0.00000000e+00,  1.99817121e-02,  1.44250020e-02,\n",
       "         0.00000000e+00,  1.90662712e-01,  0.00000000e+00,\n",
       "         0.00000000e+00,  6.26910478e-02,  0.00000000e+00,\n",
       "         0.00000000e+00,  2.94190586e-01,  1.50031894e-01,\n",
       "         0.00000000e+00,  1.84342951e-01,  0.00000000e+00,\n",
       "         0.00000000e+00,  0.00000000e+00,  0.00000000e+00,\n",
       "         0.00000000e+00,  1.04685947e-01,  6.66037053e-02,\n",
       "         4.16741706e-03,  0.00000000e+00,  0.00000000e+00,\n",
       "         0.00000000e+00,  4.50987183e-02, -2.46724137e-03,\n",
       "        -6.76170439e-02, -9.77967530e-02, -9.46517102e-03,\n",
       "         9.14053060e-03, -2.63647735e-02, -1.81730222e-02,\n",
       "        -3.92094720e-03,  3.92234437e-02],\n",
       "       [ 0.00000000e+00,  0.00000000e+00,  0.00000000e+00,\n",
       "         0.00000000e+00,  3.07496935e-02,  9.01977122e-02,\n",
       "         0.00000000e+00,  6.98774904e-02,  0.00000000e+00,\n",
       "         1.15502082e-01,  0.00000000e+00,  0.00000000e+00,\n",
       "         0.00000000e+00,  3.65737498e-01,  9.89171788e-02,\n",
       "         2.00192884e-01,  2.92842209e-01,  0.00000000e+00,\n",
       "         1.84250385e-01,  0.00000000e+00,  4.24410552e-02,\n",
       "         1.90225601e-01,  1.20380744e-01,  1.70127630e-01,\n",
       "         1.58379674e-01,  0.00000000e+00,  0.00000000e+00,\n",
       "         9.06804949e-03,  7.82235116e-02,  0.00000000e+00,\n",
       "         0.00000000e+00,  0.00000000e+00,  1.78655088e-01,\n",
       "         0.00000000e+00,  0.00000000e+00,  0.00000000e+00,\n",
       "         1.76252164e-02,  3.10025290e-02,  0.00000000e+00,\n",
       "         0.00000000e+00,  2.63492391e-02,  1.61362186e-01,\n",
       "         0.00000000e+00,  0.00000000e+00,  0.00000000e+00,\n",
       "         0.00000000e+00,  4.64269891e-03,  0.00000000e+00,\n",
       "         9.54076052e-02,  2.13437006e-01,  1.52400732e-01,\n",
       "         0.00000000e+00,  1.64790913e-01,  6.50010034e-02,\n",
       "         0.00000000e+00,  0.00000000e+00,  0.00000000e+00,\n",
       "         0.00000000e+00,  2.11483538e-01,  0.00000000e+00,\n",
       "         7.20069092e-03,  1.05328977e-01,  0.00000000e+00,\n",
       "         0.00000000e+00, -5.07842051e-03, -3.00218947e-02,\n",
       "         4.93249968e-02,  6.40595555e-02,  2.05376633e-02,\n",
       "        -3.37055735e-02,  2.52429601e-02,  3.80666833e-03,\n",
       "        -2.01439932e-02, -5.69556700e-03],\n",
       "       [ 2.18789969e-02,  3.36510167e-02,  1.95350796e-01,\n",
       "         6.10727519e-02,  0.00000000e+00,  0.00000000e+00,\n",
       "         1.02285758e-01,  0.00000000e+00,  4.84003574e-02,\n",
       "         0.00000000e+00,  1.55193418e-01,  1.38503924e-01,\n",
       "         7.77052790e-02,  0.00000000e+00,  0.00000000e+00,\n",
       "         0.00000000e+00,  0.00000000e+00,  6.71746209e-03,\n",
       "         0.00000000e+00,  1.04955822e-01,  0.00000000e+00,\n",
       "         0.00000000e+00,  0.00000000e+00,  0.00000000e+00,\n",
       "         0.00000000e+00,  1.85306251e-01,  6.36328012e-02,\n",
       "         0.00000000e+00,  0.00000000e+00,  0.00000000e+00,\n",
       "         2.10280612e-01,  1.58533588e-01,  0.00000000e+00,\n",
       "         5.32950163e-02,  9.59217921e-03,  2.31691465e-01,\n",
       "         0.00000000e+00,  0.00000000e+00,  1.55598149e-01,\n",
       "         0.00000000e+00,  0.00000000e+00,  0.00000000e+00,\n",
       "         5.84047437e-02,  2.57161334e-02,  1.14955440e-01,\n",
       "         7.11445585e-02,  0.00000000e+00,  6.75121546e-02,\n",
       "         0.00000000e+00,  0.00000000e+00,  0.00000000e+00,\n",
       "         1.76699877e-01,  0.00000000e+00,  0.00000000e+00,\n",
       "         3.69086601e-02,  0.00000000e+00,  1.93824619e-03,\n",
       "         4.37308550e-02,  0.00000000e+00,  1.04565844e-01,\n",
       "         0.00000000e+00,  0.00000000e+00,  1.72027379e-01,\n",
       "         1.87704325e-01, -6.01736642e-03, -9.64383222e-03,\n",
       "         1.43044777e-02,  2.08113343e-04, -1.79108307e-02,\n",
       "         4.82701696e-04, -1.83034837e-02, -3.67737515e-03,\n",
       "        -3.17467004e-02, -3.01161502e-03],\n",
       "       [ 1.05011471e-01,  0.00000000e+00,  5.52209735e-01,\n",
       "         3.04437160e-01,  0.00000000e+00,  0.00000000e+00,\n",
       "         2.06330895e-01,  6.28595725e-02,  7.87643418e-02,\n",
       "         3.92730497e-02,  2.44794011e-01,  5.47987223e-01,\n",
       "         8.38067681e-02,  0.00000000e+00,  0.00000000e+00,\n",
       "         0.00000000e+00,  0.00000000e+00,  1.90068081e-01,\n",
       "         0.00000000e+00,  3.45876396e-01,  1.88550934e-01,\n",
       "         0.00000000e+00,  0.00000000e+00,  0.00000000e+00,\n",
       "         0.00000000e+00,  3.29886556e-01,  2.34476715e-01,\n",
       "         1.31867975e-01,  0.00000000e+00,  0.00000000e+00,\n",
       "         3.70391816e-01,  3.36082906e-01,  0.00000000e+00,\n",
       "         2.34773606e-01,  1.60487220e-01,  5.28671205e-01,\n",
       "         1.17527368e-03,  0.00000000e+00,  1.98144943e-01,\n",
       "         0.00000000e+00,  0.00000000e+00,  0.00000000e+00,\n",
       "         1.11697763e-01,  2.85532802e-01,  2.98117757e-01,\n",
       "         1.21483751e-01,  5.78673929e-02,  2.20516354e-01,\n",
       "         0.00000000e+00,  0.00000000e+00,  0.00000000e+00,\n",
       "         3.86492640e-01,  0.00000000e+00,  0.00000000e+00,\n",
       "         1.85204111e-02,  0.00000000e+00,  0.00000000e+00,\n",
       "         0.00000000e+00,  0.00000000e+00,  4.58851695e-01,\n",
       "         0.00000000e+00,  0.00000000e+00,  3.30851346e-01,\n",
       "         5.57816863e-01, -7.11362436e-03,  4.32709344e-02,\n",
       "        -3.88916172e-02, -1.30204365e-01,  1.82463657e-02,\n",
       "        -1.38023719e-02, -2.07279958e-02, -1.39129860e-02,\n",
       "        -1.52076939e-02,  1.52949709e-03],\n",
       "       [ 0.00000000e+00,  0.00000000e+00,  0.00000000e+00,\n",
       "         0.00000000e+00,  3.72213125e-03,  8.35260451e-02,\n",
       "         0.00000000e+00,  1.10449523e-01,  0.00000000e+00,\n",
       "         1.71817169e-01,  0.00000000e+00,  0.00000000e+00,\n",
       "         0.00000000e+00,  4.42635894e-01,  1.10036075e-01,\n",
       "         2.37903923e-01,  3.38033378e-01,  3.05014253e-02,\n",
       "         2.42390379e-01,  0.00000000e+00,  9.20888484e-02,\n",
       "         2.09882915e-01,  9.92736742e-02,  2.11230367e-01,\n",
       "         1.30059257e-01,  0.00000000e+00,  0.00000000e+00,\n",
       "         3.49052809e-02,  6.48877323e-02,  0.00000000e+00,\n",
       "         0.00000000e+00,  0.00000000e+00,  1.62512243e-01,\n",
       "         0.00000000e+00,  1.71390176e-02,  0.00000000e+00,\n",
       "         2.54175626e-02,  0.00000000e+00,  0.00000000e+00,\n",
       "         0.00000000e+00,  2.92394385e-02,  1.58785328e-01,\n",
       "         0.00000000e+00,  1.14827603e-02,  0.00000000e+00,\n",
       "         0.00000000e+00,  1.62667409e-02,  0.00000000e+00,\n",
       "         8.40894058e-02,  2.61706412e-01,  1.75590441e-01,\n",
       "         0.00000000e+00,  1.94019809e-01,  4.01518792e-02,\n",
       "         0.00000000e+00,  0.00000000e+00,  0.00000000e+00,\n",
       "         0.00000000e+00,  2.24219605e-01,  0.00000000e+00,\n",
       "         7.74760824e-03,  9.18345302e-02,  0.00000000e+00,\n",
       "         0.00000000e+00,  4.90122102e-03, -2.59129852e-02,\n",
       "        -2.30328739e-02,  1.15348995e-02,  1.12771615e-02,\n",
       "        -3.55871092e-03, -3.02606113e-02,  2.49744840e-02,\n",
       "         1.98186152e-02,  1.06542893e-02]], dtype=float32)>"
      ]
     },
     "execution_count": 14,
     "metadata": {},
     "output_type": "execute_result"
    }
   ],
   "source": [
    "dlrm_interaction(batch)"
   ]
  },
  {
   "cell_type": "markdown",
   "id": "2a0fe1ef",
   "metadata": {
    "pycharm": {
     "name": "#%% md\n"
    }
   },
   "source": [
    "Then, we project the learned interaction using a series of dense layers:"
   ]
  },
  {
   "cell_type": "code",
   "execution_count": 15,
   "id": "adc0c81b",
   "metadata": {
    "pycharm": {
     "name": "#%%\n"
    }
   },
   "outputs": [
    {
     "data": {
      "text/plain": [
       "<tf.Tensor: shape=(5, 512), dtype=float32, numpy=\n",
       "array([[0.        , 0.        , 0.06550899, ..., 0.00943315, 0.        ,\n",
       "        0.02917717],\n",
       "       [0.        , 0.00613478, 0.02798904, ..., 0.00486526, 0.        ,\n",
       "        0.0473245 ],\n",
       "       [0.        , 0.        , 0.04229244, ..., 0.        , 0.        ,\n",
       "        0.02768494],\n",
       "       [0.        , 0.        , 0.09441784, ..., 0.        , 0.        ,\n",
       "        0.04710757],\n",
       "       [0.        , 0.        , 0.03271887, ..., 0.00290654, 0.        ,\n",
       "        0.04926534]], dtype=float32)>"
      ]
     },
     "execution_count": 15,
     "metadata": {},
     "output_type": "execute_result"
    }
   ],
   "source": [
    "deep_dlrm_interaction = dlrm_interaction.connect(mm.MLPBlock([64, 128, 512]))\n",
    "deep_dlrm_interaction(batch)"
   ]
  },
  {
   "cell_type": "markdown",
   "id": "d51615b0",
   "metadata": {
    "pycharm": {
     "name": "#%% md\n"
    }
   },
   "source": [
    "#### Define the Prediction block"
   ]
  },
  {
   "cell_type": "markdown",
   "id": "7dd62b7b",
   "metadata": {
    "pycharm": {
     "name": "#%% md\n"
    }
   },
   "source": [
    "At this stage, we have created the DLRM block that accepts a dictionary of categorical and continuous tensors as input. The output of this block is the interaction representation vector of shape `512`. The next step is to use this hidden representation to conduct a given prediction task. In our case, we use the label `rating_binary` and the objective is: to predict if a user `A` will give a high rating to a movie `B` or not. "
   ]
  },
  {
   "cell_type": "markdown",
   "id": "88115591",
   "metadata": {
    "pycharm": {
     "name": "#%% md\n"
    }
   },
   "source": [
    "We use the `BinaryClassificationTask` class and evaluate the performances using the `AUC` metric. We also use the `LogitsTemperatureScaler` block as a pre-transformation operation that scales the logits returned by the task before computing the loss and metrics:"
   ]
  },
  {
   "cell_type": "code",
   "execution_count": 16,
   "id": "42ad7eb7",
   "metadata": {
    "pycharm": {
     "name": "#%%\n"
    }
   },
   "outputs": [],
   "source": [
    "from merlin.models.tf.transforms.bias import LogitsTemperatureScaler\n",
    "\n",
    "binary_task = mm.BinaryClassificationTask(\n",
    "    sub_schema,\n",
    "    pre=LogitsTemperatureScaler(temperature=2),\n",
    ")"
   ]
  },
  {
   "cell_type": "markdown",
   "id": "a4912355",
   "metadata": {
    "pycharm": {
     "name": "#%% md\n"
    }
   },
   "source": [
    "#### Define, train, and evaluate the final DLRM Model"
   ]
  },
  {
   "cell_type": "markdown",
   "id": "bc44495a",
   "metadata": {
    "pycharm": {
     "name": "#%% md\n"
    }
   },
   "source": [
    "We connect the deep DLRM interaction to the binary task and the method automatically generates the `Model` class for us.\n",
    "We note that the `Model` class inherits from [tf.keras.Model](https://keras.io/api/models/model/) class:"
   ]
  },
  {
   "cell_type": "code",
   "execution_count": 17,
   "id": "87df4596",
   "metadata": {
    "pycharm": {
     "name": "#%%\n"
    }
   },
   "outputs": [
    {
     "data": {
      "text/plain": [
       "merlin.models.tf.models.base.Model"
      ]
     },
     "execution_count": 17,
     "metadata": {},
     "output_type": "execute_result"
    }
   ],
   "source": [
    "model = mm.Model(deep_dlrm_interaction, binary_task)\n",
    "type(model)"
   ]
  },
  {
   "cell_type": "markdown",
   "id": "8e280dc4",
   "metadata": {
    "pycharm": {
     "name": "#%% md\n"
    }
   },
   "source": [
    "We train the model using the built-in tf.keras `fit` method: "
   ]
  },
  {
   "cell_type": "code",
   "execution_count": 18,
   "id": "1de1489c",
   "metadata": {
    "pycharm": {
     "name": "#%%\n"
    }
   },
   "outputs": [
    {
     "name": "stdout",
     "output_type": "stream",
     "text": [
      "782/782 [==============================] - 16s 14ms/step - loss: 0.6473 - auc: 0.7240 - regularization_loss: 0.0000e+00\n"
     ]
    },
    {
     "data": {
      "text/plain": [
       "<keras.callbacks.History at 0x7f3f5856f250>"
      ]
     },
     "execution_count": 18,
     "metadata": {},
     "output_type": "execute_result"
    }
   ],
   "source": [
    "model.compile(optimizer=\"adam\", metrics=[tf.keras.metrics.AUC()])\n",
    "model.fit(train, batch_size=1024, epochs=1)"
   ]
  },
  {
   "cell_type": "markdown",
   "id": "e0c3dacb",
   "metadata": {
    "pycharm": {
     "name": "#%% md\n"
    }
   },
   "source": [
    "Let's check out the model evaluation scores:"
   ]
  },
  {
   "cell_type": "code",
   "execution_count": 19,
   "id": "07c8ba33",
   "metadata": {
    "pycharm": {
     "name": "#%%\n"
    }
   },
   "outputs": [
    {
     "name": "stdout",
     "output_type": "stream",
     "text": [
      "196/196 [==============================] - 3s 9ms/step - loss: 0.6393 - auc: 0.7334 - regularization_loss: 0.0000e+00\n"
     ]
    },
    {
     "data": {
      "text/plain": [
       "{'loss': 0.6393412947654724,\n",
       " 'auc': 0.7334249019622803,\n",
       " 'regularization_loss': 0.0}"
      ]
     },
     "execution_count": 19,
     "metadata": {},
     "output_type": "execute_result"
    }
   ],
   "source": [
    "metrics = model.evaluate(valid, batch_size=1024, return_dict=True)\n",
    "metrics"
   ]
  },
  {
   "cell_type": "markdown",
   "id": "f2c7e334",
   "metadata": {
    "pycharm": {
     "name": "#%% md\n"
    }
   },
   "source": [
    "Note that the `evaluate()` progress bar shows the loss score for every batch, whereas the final loss stored in the dictionary represents the total loss across all batches. "
   ]
  },
  {
   "cell_type": "markdown",
   "id": "83d793d0",
   "metadata": {
    "pycharm": {
     "name": "#%% md\n"
    }
   },
   "source": [
    "Save the model so we can use it for serving predictions in production or for resuming training with new observations:"
   ]
  },
  {
   "cell_type": "code",
   "execution_count": 20,
   "id": "fb89d842",
   "metadata": {
    "pycharm": {
     "name": "#%%\n"
    }
   },
   "outputs": [
    {
     "name": "stderr",
     "output_type": "stream",
     "text": [
      "WARNING:absl:Function `_wrapped_model` contains input name(s) TE_age_rating, TE_gender_rating, TE_movieId_rating, TE_occupation_rating, TE_userId_rating, TE_zipcode_rating, movieId, userId with unsupported characters which will be renamed to te_age_rating, te_gender_rating, te_movieid_rating, te_occupation_rating, te_userid_rating, te_zipcode_rating, movieid, userid in the SavedModel.\n",
      "WARNING:absl:Found untraced functions such as model_context_layer_call_fn, model_context_layer_call_and_return_conditional_losses, logits_temperature_scaler_layer_call_fn, logits_temperature_scaler_layer_call_and_return_conditional_losses, output_layer_layer_call_fn while saving (showing 5 of 66). These functions will not be directly callable after loading.\n"
     ]
    },
    {
     "name": "stdout",
     "output_type": "stream",
     "text": [
      "INFO:tensorflow:Assets written to: custom_dlrm/assets\n"
     ]
    },
    {
     "name": "stderr",
     "output_type": "stream",
     "text": [
      "INFO:tensorflow:Assets written to: custom_dlrm/assets\n"
     ]
    }
   ],
   "source": [
    "model.save(\"custom_dlrm\")"
   ]
  },
  {
   "cell_type": "markdown",
   "id": "b3d4aaa3",
   "metadata": {
    "pycharm": {
     "name": "#%% md\n"
    }
   },
   "source": [
    "## Conclusion \n",
    "\n",
    "Merlin Models provides common and state-of-the-art RecSys architectures in a high-level API as well as all the required low-level building blocks for you to create your own architecture (input blocks, MLP layers, prediction tasks, loss functions, etc.). In this example, we explored a subset of these pre-existing blocks to create the DLRM model, but you can view our [documentation](https://nvidia-merlin.github.io/models/main/) to discover more. You can also [contribute](https://github.com/NVIDIA-Merlin/models/blob/main/CONTRIBUTING.md) to the library by submitting new RecSys architectures and custom building Blocks.  \n",
    "\n",
    "\n",
    "\n",
    "## Next steps\n",
    "To learn more about how to deploy the trained DLRM model, please visit [Merlin Systems](https://github.com/NVIDIA-Merlin/systems) library and execute the `Serving-Ranking-Models-With-Merlin-Systems.ipynb` notebook that deploys an ensemble of a [NVTabular](https://github.com/NVIDIA-Merlin/NVTabular) Workflow and a trained model from Merlin Models to [Triton Inference Server](https://github.com/triton-inference-server/server). \n",
    "\n",
    "\n"
   ]
  }
 ],
 "metadata": {
  "kernelspec": {
   "display_name": "Python 3 (ipykernel)",
   "language": "python",
   "name": "python3"
  },
  "language_info": {
   "codemirror_mode": {
    "name": "ipython",
    "version": 3
   },
   "file_extension": ".py",
   "mimetype": "text/x-python",
   "name": "python",
   "nbconvert_exporter": "python",
   "pygments_lexer": "ipython3",
   "version": "3.8.10"
  },
  "merlin": {
   "containers": [
    "nvcr.io/nvidia/merlin/merlin-tensorflow:latest"
   ]
  },
  "vscode": {
   "interpreter": {
    "hash": "ab403bb43341787581f43b51cdd291d61392c89ddb0f92179de653921d4e05db"
   }
  }
 },
 "nbformat": 4,
 "nbformat_minor": 5
}
