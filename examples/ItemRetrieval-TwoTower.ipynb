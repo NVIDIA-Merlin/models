{
 "cells": [
  {
   "cell_type": "code",
   "execution_count": null,
   "id": "773ea555",
   "metadata": {},
   "outputs": [],
   "source": [
    "# Copyright 2021 NVIDIA Corporation. All Rights Reserved.\n",
    "#\n",
    "# Licensed under the Apache License, Version 2.0 (the \"License\");\n",
    "# you may not use this file except in compliance with the License.\n",
    "# You may obtain a copy of the License at\n",
    "#\n",
    "#     http://www.apache.org/licenses/LICENSE-2.0\n",
    "#\n",
    "# Unless required by applicable law or agreed to in writing, software\n",
    "# distributed under the License is distributed on an \"AS IS\" BASIS,\n",
    "# WITHOUT WARRANTIES OR CONDITIONS OF ANY KIND, either express or implied.\n",
    "# See the License for the specific language governing permissions and\n",
    "# limitations under the License.\n",
    "# ================================"
   ]
  },
  {
   "cell_type": "markdown",
   "id": "37e32893",
   "metadata": {},
   "source": [
    "## Building Retrieval Models easily with Merlin Models\n",
    "\n",
    "In large scale recommender systems pipelines, the size of the item catalog (number of unique items) might be in the order of millions. At such scale, a typical setup is having two-stage pipeline, where a faster candidate retrieval model quickly extracts thousands of relevant items and a then a more powerful ranking model (i.e. with more features and more powerful architecture) ranks the top-k items that are going to be displayed to the user. For ML-based candidate retrieval model, as it needs to quickly score millions of items for a given user, a popular choices are models that can produce recommendation scores by just computing the dot product the user embeddings and item embeddings. Popular choices of such models are **Matrix Factorization**, which learns low-rank user and item embeddings, and the **Two-Tower architecture**, which is a neural network with two MLP towers where both user and item features are fed to generate user and item embeddings in the output. Such models can be efficiently served by indexing the trained item embeddings into an **Approximate Nearest Neighbors (ANN)** engine and during inference scoring user embeddings over all indexed item embeddings within the engine.In this notebook we will build a Two-Tower architecture for item retrieval.\n"
   ]
  },
  {
   "cell_type": "markdown",
   "id": "60716e39",
   "metadata": {},
   "source": [
    "\n",
    "### Dataset\n",
    "\n",
    "In this notebook, we are building a Two-Tower model for Item Retrieval task using the Ali-CCP: Alibaba Click and Conversion Prediction dataset. To download the training and test datasets visit Ali-CCP: Alibaba Click and Conversion Prediction at [tianchi.aliyun.com](https://tianchi.aliyun.com/dataset/dataDetail?dataId=408#1). We have curated the raw dataset via using this [script]() and generated the parquet files that we will use for this example.\n",
    "\n",
    "### Learning objectives\n",
    "- Preparing the data with NVTabular\n",
    "- Training and evaluating Two-Tower model with Merlin Models\n",
    "- Perform prediction for a given user query"
   ]
  },
  {
   "cell_type": "markdown",
   "id": "9a850811",
   "metadata": {},
   "source": [
    "### Feature Engineering with NVTabular"
   ]
  },
  {
   "cell_type": "code",
   "execution_count": 2,
   "id": "97b1be5d",
   "metadata": {},
   "outputs": [
    {
     "name": "stderr",
     "output_type": "stream",
     "text": [
      "2022-03-22 20:55:13.766145: I tensorflow/core/platform/cpu_feature_guard.cc:151] This TensorFlow binary is optimized with oneAPI Deep Neural Network Library (oneDNN) to use the following CPU instructions in performance-critical operations:  AVX2 AVX512F FMA\n",
      "To enable them in other operations, rebuild TensorFlow with the appropriate compiler flags.\n",
      "2022-03-22 20:55:15.178604: I tensorflow/core/common_runtime/gpu/gpu_process_state.cc:214] Using CUDA malloc Async allocator for GPU: 0\n",
      "2022-03-22 20:55:15.178737: I tensorflow/core/common_runtime/gpu/gpu_device.cc:1525] Created device /job:localhost/replica:0/task:0/device:GPU:0 with 16254 MB memory:  -> device: 0, name: Quadro GV100, pci bus id: 0000:15:00.0, compute capability: 7.0\n"
     ]
    }
   ],
   "source": [
    "import os\n",
    "os.environ[\"TF_GPU_ALLOCATOR\"]=\"cuda_malloc_async\"\n",
    "import cudf\n",
    "import glob\n",
    "import gc\n",
    "\n",
    "import nvtabular as nvt\n",
    "from nvtabular.ops import *\n",
    "from example_utils import workflow_fit_transform\n",
    "\n",
    "from merlin.schema.tags import Tags\n",
    "from merlin.schema import Schema\n",
    "\n",
    "import merlin.models.tf as mm\n",
    "import merlin.models.tf.dataset as tf_dataloader\n",
    "\n",
    "from merlin.io.dataset import Dataset\n",
    "from merlin.schema.io.tensorflow_metadata import TensorflowMetadata\n",
    "from merlin.models.tf.blocks.core.aggregation import CosineSimilarity\n",
    "\n",
    "import tensorflow as tf"
   ]
  },
  {
   "cell_type": "markdown",
   "id": "1b7f9425",
   "metadata": {},
   "source": [
    "First, we define our input and output paths."
   ]
  },
  {
   "cell_type": "code",
   "execution_count": 3,
   "id": "912d216d",
   "metadata": {},
   "outputs": [],
   "source": [
    "train_path = '/workspace/data/train/*.parquet'\n",
    "test_path = '/workspace/data/test/*.parquet'\n",
    "output_path = '/workspace/retrieval/processed/'"
   ]
  },
  {
   "cell_type": "markdown",
   "id": "1f96f56c",
   "metadata": {},
   "source": [
    "ETL Workflow"
   ]
  },
  {
   "cell_type": "markdown",
   "id": "38a4d2b1",
   "metadata": {},
   "source": [
    "We select only positive interaction rows therefore we remove rows where `click==0` from the dataset with `Filter()` op."
   ]
  },
  {
   "cell_type": "code",
   "execution_count": 4,
   "id": "3ed79ff3",
   "metadata": {},
   "outputs": [
    {
     "name": "stderr",
     "output_type": "stream",
     "text": [
      "/usr/local/lib/python3.8/dist-packages/cudf/core/dataframe.py:1253: UserWarning: The deep parameter is ignored and is only included for pandas compatibility.\n",
      "  warnings.warn(\n"
     ]
    }
   ],
   "source": [
    "user_id = [\"user_id\"] >> Categorify() >> AddMetadata(tags=[Tags.USER_ID, Tags.USER])\n",
    "item_id = [\"item_id\"] >> Categorify() >> AddMetadata(tags=[Tags.ITEM_ID, Tags.ITEM]) \n",
    "\n",
    "item_features = [\"item_category\", \"item_shop\", \"item_brand\"] \\\n",
    "     >> AddMetadata(tags=[Tags.ITEM]) >> nvt.ops.Categorify()\n",
    "\n",
    "user_features = ['user_shops', 'user_profile', 'user_group', \n",
    "       'user_gender', 'user_age', 'user_consumption_2', 'user_is_occupied',\n",
    "       'user_geography', 'user_intentions', 'user_brands', 'user_categories'] \\\n",
    "    >> AddMetadata(tags=[Tags.USER]) >> nvt.ops.Categorify()\n",
    "\n",
    "inputs = user_id + item_id + item_features + user_features + ['click'] \n",
    "\n",
    "outputs = inputs >> Filter(f=lambda df: df[\"click\"] == 1)\n",
    "\n",
    "workflow_fit_transform(outputs, train_path, test_path, output_path)"
   ]
  },
  {
   "cell_type": "markdown",
   "id": "781dd53c",
   "metadata": {
    "tags": []
   },
   "source": [
    "## Building Two-Tower Model"
   ]
  },
  {
   "cell_type": "markdown",
   "id": "6d48bcef",
   "metadata": {},
   "source": [
    "We will use Two-Tower Model for Item retrieval task. Real-world large scale recommender systems have hundreds of millions of items (products) and users. It is Thus, these systems are often composed of two stages: candidate generation (retrieval) and ranking (scoring the retrieved items). You can read more about two stage Recommender Systems [here](https://static.googleusercontent.com/media/research.google.com/en//pubs/archive/45530.pdf). In this example, we're going to focus on the retrieval stage.\n",
    "\n",
    "A Two-Tower Model consists of item (candidate) and user (query) encoder towers. With two towers, the model can learn representations (embeddings) for queries and candidates separately. \n",
    "\n",
    "<img src=\"./images/TwoTower.png\"  width=\"30%\">\n",
    "\n",
    "Image Adapted from: [Off-policy Learning in Two-stage Recommender Systems](https://dl.acm.org/doi/abs/10.1145/3366423.3380130)"
   ]
  },
  {
   "cell_type": "markdown",
   "id": "cf2af29c",
   "metadata": {},
   "source": [
    "We use the `schema` object to define our model."
   ]
  },
  {
   "cell_type": "code",
   "execution_count": 5,
   "id": "d23ed8b9",
   "metadata": {},
   "outputs": [],
   "source": [
    "schema = TensorflowMetadata.from_proto_text_file('/workspace/retrieval/processed/train/').to_merlin_schema()"
   ]
  },
  {
   "cell_type": "code",
   "execution_count": 6,
   "id": "367163ee",
   "metadata": {},
   "outputs": [],
   "source": [
    "schema = schema.select_by_tag([Tags.ITEM_ID, Tags.USER_ID, Tags.ITEM, Tags.USER])"
   ]
  },
  {
   "cell_type": "markdown",
   "id": "2550ed14",
   "metadata": {},
   "source": [
    "We expect the label names to be empty."
   ]
  },
  {
   "cell_type": "code",
   "execution_count": 7,
   "id": "8fb486b2",
   "metadata": {},
   "outputs": [
    {
     "data": {
      "text/plain": [
       "[]"
      ]
     },
     "execution_count": 7,
     "metadata": {},
     "output_type": "execute_result"
    }
   ],
   "source": [
    "label_names = schema.select_by_tag(Tags.TARGET).column_names\n",
    "label_names"
   ]
  },
  {
   "cell_type": "markdown",
   "id": "c89e6acf",
   "metadata": {},
   "source": [
    "### Negative sampling\n",
    "Many datasets for recommender systems contains implicit feedback, with logs of user interactions like clicks, add-to-cart, purchases, music listening events, rather than explicit ratings that reflects user preferences over items. To be able to learn from implicit feedback, we use the general (and naive) assumption that the interacted items are more relevant for the user than the non-interacted ones.\n",
    "In Merlin Models we provide some scalable negative sampling algorithms for the Item Retrieval Task. In particular, we use in this example the in-batch sampling algorithm which uses the items interacted by other users as negatives within the same mini-batch."
   ]
  },
  {
   "cell_type": "markdown",
   "id": "84961ec9",
   "metadata": {},
   "source": [
    "### Building the Model"
   ]
  },
  {
   "cell_type": "markdown",
   "id": "6d2cc47d",
   "metadata": {},
   "source": [
    "Now, let's build our Two-Tower model. In a nutshell, we aggregate all user features to feed in user tower and feed the item features to the item tower. Then we compute the positive score by multiplying the user embedding with the item embedding and sample negative items (read more about negative sampling [here](https://openreview.net/pdf?id=824xC-SgWgU) and [here](https://medium.com/mlearning-ai/overview-negative-sampling-on-recommendation-systems-230a051c6cd7)), whose item embeddings are also multiplied by the user embedding. Then we apply the loss function on top of the positive and negative scores."
   ]
  },
  {
   "cell_type": "code",
   "execution_count": 8,
   "id": "340187d3",
   "metadata": {},
   "outputs": [],
   "source": [
    "model = mm.TwoTowerModel(\n",
    "    schema,\n",
    "    query_tower=mm.MLPBlock([128, 64], no_activation_last_layer=True),        \n",
    "    loss=\"categorical_crossentropy\",  \n",
    "    samplers=[mm.InBatchSampler()],\n",
    "    embedding_options = mm.EmbeddingOptions(infer_embedding_sizes=True),\n",
    "    metrics=[mm.RecallAt(10), mm.NDCGAt(10)]\n",
    ")"
   ]
  },
  {
   "cell_type": "markdown",
   "id": "46ae6a00",
   "metadata": {},
   "source": [
    "Let's explain the parameters in the TwoTowerModel():\n",
    "- no_activation_last_layer: when set True, no activation is used for top hidden layer. Learn more [here](https://storage.googleapis.com/pub-tools-public-publication-data/pdf/b9f4e78a8830fe5afcf2f0452862fb3c0d6584ea.pdf).\n",
    "- infer_embedding_sizes: when set True, automatically defines the embedding dimension from the feature cardinality in the schema\n",
    "\n",
    "**Metrics:**\n",
    "\n",
    "The following information retrieval metrics are used to compute the Top-10 accuracy of recommendation lists containing all items:\n",
    "\n",
    "- **Normalized Discounted Cumulative Gain (NDCG@10)**: NDCG accounts for rank of the relevant item in the recommendation list and is a more fine-grained metric than HR, which only verifies whether the relevant item is among the top-k items.\n",
    "\n",
    "- **Recall@10**: Also known as HitRate@n when there is only one relevant item in the recommendation list. Recall just verifies whether the relevant item is among the top-n items."
   ]
  },
  {
   "cell_type": "markdown",
   "id": "470af032",
   "metadata": {},
   "source": [
    "We need to initialize the dataloaders."
   ]
  },
  {
   "cell_type": "code",
   "execution_count": 9,
   "id": "c3cca9a5",
   "metadata": {},
   "outputs": [],
   "source": [
    "batch_size = 4096\n",
    "\n",
    "train = Dataset(os.path.join(output_path + '/train/*.parquet'), part_size=\"500MB\")\n",
    "valid = Dataset(os.path.join(output_path + '/test/*.parquet'), part_size=\"500MB\")"
   ]
  },
  {
   "cell_type": "code",
   "execution_count": 10,
   "id": "6129b34e",
   "metadata": {},
   "outputs": [
    {
     "name": "stderr",
     "output_type": "stream",
     "text": [
      "2022-03-22 20:56:02.012540: W tensorflow/python/util/util.cc:368] Sets are not currently considered sequences, but this may change in the future, so consider avoiding using them.\n"
     ]
    },
    {
     "name": "stdout",
     "output_type": "stream",
     "text": [
      "Epoch 1/3\n",
      "WARNING:tensorflow:AutoGraph could not transform <bound method Socket.send of <zmq.Socket(zmq.PUSH) at 0x7f3c781396a0>> and will run it as-is.\n",
      "Please report this to the TensorFlow team. When filing the bug, set the verbosity to 10 (on Linux, `export AUTOGRAPH_VERBOSITY=10`) and attach the full output.\n",
      "Cause: module, class, method, function, traceback, frame, or code object was expected, got cython_function_or_method\n",
      "To silence this warning, decorate the function with @tf.autograph.experimental.do_not_convert\n",
      "WARNING: AutoGraph could not transform <bound method Socket.send of <zmq.Socket(zmq.PUSH) at 0x7f3c781396a0>> and will run it as-is.\n",
      "Please report this to the TensorFlow team. When filing the bug, set the verbosity to 10 (on Linux, `export AUTOGRAPH_VERBOSITY=10`) and attach the full output.\n",
      "Cause: module, class, method, function, traceback, frame, or code object was expected, got cython_function_or_method\n",
      "To silence this warning, decorate the function with @tf.autograph.experimental.do_not_convert\n"
     ]
    },
    {
     "name": "stderr",
     "output_type": "stream",
     "text": [
      "The sampler InBatchSampler returned no samples for this batch.\n"
     ]
    },
    {
     "name": "stdout",
     "output_type": "stream",
     "text": [
      "383/384 [============================>.] - ETA: 0s - recall_at_10: 0.0025 - ndcg_10: 0.0012 - loss: 8.3228 - regularization_loss: 0.0000e+00 - total_loss: 8.3228"
     ]
    },
    {
     "name": "stderr",
     "output_type": "stream",
     "text": [
      "WARNING:absl:Found untraced functions such as block_context_layer_call_fn, block_context_layer_call_and_return_conditional_losses, sequential_block_6_layer_call_fn, sequential_block_6_layer_call_and_return_conditional_losses, l2_norm_layer_call_fn while saving (showing 5 of 26). These functions will not be directly callable after loading.\n"
     ]
    },
    {
     "name": "stdout",
     "output_type": "stream",
     "text": [
      "INFO:tensorflow:Assets written to: /tmp/tmpubcby9_u/assets\n"
     ]
    },
    {
     "name": "stderr",
     "output_type": "stream",
     "text": [
      "INFO:tensorflow:Assets written to: /tmp/tmpubcby9_u/assets\n"
     ]
    },
    {
     "name": "stdout",
     "output_type": "stream",
     "text": [
      "WARNING:tensorflow:No training configuration found in save file, so the model was *not* compiled. Compile it manually.\n"
     ]
    },
    {
     "name": "stderr",
     "output_type": "stream",
     "text": [
      "WARNING:tensorflow:No training configuration found in save file, so the model was *not* compiled. Compile it manually.\n",
      "2022-03-22 20:56:38.478956: W tensorflow/core/grappler/optimizers/loop_optimizer.cc:907] Skipping loop optimization for Merge node with control input: cond/then/_0/cond/cond/branch_executed/_184\n"
     ]
    },
    {
     "name": "stdout",
     "output_type": "stream",
     "text": [
      "384/384 [==============================] - 42s 86ms/step - recall_at_10: 0.0025 - ndcg_10: 0.0012 - loss: 8.3199 - regularization_loss: 0.0000e+00 - total_loss: 8.3199 - val_recall_at_10: 0.0025 - val_ndcg_10: 0.0011 - val_loss: 7.4226 - val_regularization_loss: 0.0000e+00 - val_total_loss: 7.4226\n",
      "Epoch 2/3\n",
      "383/384 [============================>.] - ETA: 0s - recall_at_10: 0.0025 - ndcg_10: 0.0012 - loss: 8.3220 - regularization_loss: 0.0000e+00 - total_loss: 8.3220"
     ]
    },
    {
     "name": "stderr",
     "output_type": "stream",
     "text": [
      "WARNING:absl:Found untraced functions such as block_context_layer_call_fn, block_context_layer_call_and_return_conditional_losses, sequential_block_6_layer_call_fn, sequential_block_6_layer_call_and_return_conditional_losses, l2_norm_layer_call_fn while saving (showing 5 of 26). These functions will not be directly callable after loading.\n"
     ]
    },
    {
     "name": "stdout",
     "output_type": "stream",
     "text": [
      "INFO:tensorflow:Assets written to: /tmp/tmpijams9ux/assets\n"
     ]
    },
    {
     "name": "stderr",
     "output_type": "stream",
     "text": [
      "INFO:tensorflow:Assets written to: /tmp/tmpijams9ux/assets\n"
     ]
    },
    {
     "name": "stdout",
     "output_type": "stream",
     "text": [
      "WARNING:tensorflow:No training configuration found in save file, so the model was *not* compiled. Compile it manually.\n"
     ]
    },
    {
     "name": "stderr",
     "output_type": "stream",
     "text": [
      "WARNING:tensorflow:No training configuration found in save file, so the model was *not* compiled. Compile it manually.\n"
     ]
    },
    {
     "name": "stdout",
     "output_type": "stream",
     "text": [
      "384/384 [==============================] - 30s 78ms/step - recall_at_10: 0.0025 - ndcg_10: 0.0012 - loss: 8.3190 - regularization_loss: 0.0000e+00 - total_loss: 8.3190 - val_recall_at_10: 0.0025 - val_ndcg_10: 0.0011 - val_loss: 7.4219 - val_regularization_loss: 0.0000e+00 - val_total_loss: 7.4219\n",
      "Epoch 3/3\n",
      "384/384 [==============================] - ETA: 0s - recall_at_10: 0.0026 - ndcg_10: 0.0012 - loss: 8.3198 - regularization_loss: 0.0000e+00 - total_loss: 8.3198"
     ]
    },
    {
     "name": "stderr",
     "output_type": "stream",
     "text": [
      "WARNING:absl:Found untraced functions such as block_context_layer_call_fn, block_context_layer_call_and_return_conditional_losses, sequential_block_6_layer_call_fn, sequential_block_6_layer_call_and_return_conditional_losses, l2_norm_layer_call_fn while saving (showing 5 of 26). These functions will not be directly callable after loading.\n"
     ]
    },
    {
     "name": "stdout",
     "output_type": "stream",
     "text": [
      "INFO:tensorflow:Assets written to: /tmp/tmpg34wc9x8/assets\n"
     ]
    },
    {
     "name": "stderr",
     "output_type": "stream",
     "text": [
      "INFO:tensorflow:Assets written to: /tmp/tmpg34wc9x8/assets\n"
     ]
    },
    {
     "name": "stdout",
     "output_type": "stream",
     "text": [
      "WARNING:tensorflow:No training configuration found in save file, so the model was *not* compiled. Compile it manually.\n"
     ]
    },
    {
     "name": "stderr",
     "output_type": "stream",
     "text": [
      "WARNING:tensorflow:No training configuration found in save file, so the model was *not* compiled. Compile it manually.\n"
     ]
    },
    {
     "name": "stdout",
     "output_type": "stream",
     "text": [
      "384/384 [==============================] - 31s 79ms/step - recall_at_10: 0.0026 - ndcg_10: 0.0012 - loss: 8.3184 - regularization_loss: 0.0000e+00 - total_loss: 8.3184 - val_recall_at_10: 0.0025 - val_ndcg_10: 0.0012 - val_loss: 7.4213 - val_regularization_loss: 0.0000e+00 - val_total_loss: 7.4213\n"
     ]
    },
    {
     "data": {
      "text/plain": [
       "<keras.callbacks.History at 0x7f3b10020e80>"
      ]
     },
     "execution_count": 10,
     "metadata": {},
     "output_type": "execute_result"
    }
   ],
   "source": [
    "model.set_retrieval_candidates_for_evaluation(train)\n",
    "\n",
    "opt = tf.keras.optimizers.Adagrad(learning_rate=0.003)\n",
    "model.compile(optimizer=opt, run_eagerly=False)\n",
    "model.fit(train, validation_data=valid, batch_size=batch_size, epochs=3)"
   ]
  },
  {
   "cell_type": "markdown",
   "id": "1042390e",
   "metadata": {},
   "source": [
    "In batch sampling is prone to popularity-bias. since different users might have interacted same items. # in the fit method we are only using the negative sampling in each batch and the final score is avg over all the batches. \n",
    "for each batch we aer comparing only the items in the given batch. in the `.evaluate()` we are considering entire item catalog for each positive item. generate the scores for all items and check the position of the positive item in the list of scores."
   ]
  },
  {
   "cell_type": "code",
   "execution_count": 11,
   "id": "43743cff",
   "metadata": {},
   "outputs": [],
   "source": [
    "#model.evaluate(valid, return_dict=True, batch_size=1024)"
   ]
  },
  {
   "cell_type": "markdown",
   "id": "9362c99e",
   "metadata": {},
   "source": [
    "## Exporting Retrieval Models"
   ]
  },
  {
   "cell_type": "markdown",
   "id": "af314c25",
   "metadata": {},
   "source": [
    "#### Save user (query) tower"
   ]
  },
  {
   "cell_type": "code",
   "execution_count": 12,
   "id": "5ff09e43",
   "metadata": {},
   "outputs": [
    {
     "name": "stderr",
     "output_type": "stream",
     "text": [
      "WARNING:absl:Found untraced functions such as block_context_layer_call_fn, block_context_layer_call_and_return_conditional_losses, sequential_block_9_layer_call_fn, sequential_block_9_layer_call_and_return_conditional_losses, l2_norm_1_layer_call_fn while saving (showing 5 of 26). These functions will not be directly callable after loading.\n"
     ]
    },
    {
     "name": "stdout",
     "output_type": "stream",
     "text": [
      "INFO:tensorflow:Assets written to: query_tower/assets\n"
     ]
    },
    {
     "name": "stderr",
     "output_type": "stream",
     "text": [
      "INFO:tensorflow:Assets written to: query_tower/assets\n"
     ]
    }
   ],
   "source": [
    "query_tower = model.retrieval_block.query_block()\n",
    "query_tower.save('query_tower')"
   ]
  },
  {
   "cell_type": "markdown",
   "id": "34949b72",
   "metadata": {},
   "source": [
    "#### Extract and save user features"
   ]
  },
  {
   "cell_type": "code",
   "execution_count": 25,
   "id": "33e57dc3",
   "metadata": {},
   "outputs": [
    {
     "name": "stderr",
     "output_type": "stream",
     "text": [
      "/usr/local/lib/python3.8/dist-packages/cudf/core/dataframe.py:1253: UserWarning: The deep parameter is ignored and is only included for pandas compatibility.\n",
      "  warnings.warn(\n"
     ]
    }
   ],
   "source": [
    "from merlin.models.utils.dataset import unique_rows_by_features\n",
    "user_features = unique_rows_by_features(Dataset('/workspace/retrieval/processed/train/*.parquet'), Tags.USER, Tags.USER_ID).compute().reset_index(drop=True)"
   ]
  },
  {
   "cell_type": "code",
   "execution_count": 26,
   "id": "5e0a95e4",
   "metadata": {},
   "outputs": [
    {
     "data": {
      "text/html": [
       "<div>\n",
       "<style scoped>\n",
       "    .dataframe tbody tr th:only-of-type {\n",
       "        vertical-align: middle;\n",
       "    }\n",
       "\n",
       "    .dataframe tbody tr th {\n",
       "        vertical-align: top;\n",
       "    }\n",
       "\n",
       "    .dataframe thead th {\n",
       "        text-align: right;\n",
       "    }\n",
       "</style>\n",
       "<table border=\"1\" class=\"dataframe\">\n",
       "  <thead>\n",
       "    <tr style=\"text-align: right;\">\n",
       "      <th></th>\n",
       "      <th>user_id</th>\n",
       "      <th>user_shops</th>\n",
       "      <th>user_profile</th>\n",
       "      <th>user_group</th>\n",
       "      <th>user_gender</th>\n",
       "      <th>user_age</th>\n",
       "      <th>user_consumption_2</th>\n",
       "      <th>user_is_occupied</th>\n",
       "      <th>user_geography</th>\n",
       "      <th>user_intentions</th>\n",
       "      <th>user_brands</th>\n",
       "      <th>user_categories</th>\n",
       "    </tr>\n",
       "  </thead>\n",
       "  <tbody>\n",
       "    <tr>\n",
       "      <th>0</th>\n",
       "      <td>0</td>\n",
       "      <td>0</td>\n",
       "      <td>1</td>\n",
       "      <td>4</td>\n",
       "      <td>1</td>\n",
       "      <td>3</td>\n",
       "      <td>2</td>\n",
       "      <td>1</td>\n",
       "      <td>0</td>\n",
       "      <td>0</td>\n",
       "      <td>0</td>\n",
       "      <td>0</td>\n",
       "    </tr>\n",
       "    <tr>\n",
       "      <th>1</th>\n",
       "      <td>1</td>\n",
       "      <td>109</td>\n",
       "      <td>0</td>\n",
       "      <td>0</td>\n",
       "      <td>0</td>\n",
       "      <td>0</td>\n",
       "      <td>0</td>\n",
       "      <td>0</td>\n",
       "      <td>0</td>\n",
       "      <td>69</td>\n",
       "      <td>131</td>\n",
       "      <td>9</td>\n",
       "    </tr>\n",
       "    <tr>\n",
       "      <th>2</th>\n",
       "      <td>2</td>\n",
       "      <td>301</td>\n",
       "      <td>1</td>\n",
       "      <td>1</td>\n",
       "      <td>1</td>\n",
       "      <td>1</td>\n",
       "      <td>1</td>\n",
       "      <td>1</td>\n",
       "      <td>2</td>\n",
       "      <td>57</td>\n",
       "      <td>4709</td>\n",
       "      <td>57</td>\n",
       "    </tr>\n",
       "    <tr>\n",
       "      <th>3</th>\n",
       "      <td>3</td>\n",
       "      <td>1876</td>\n",
       "      <td>23</td>\n",
       "      <td>7</td>\n",
       "      <td>2</td>\n",
       "      <td>3</td>\n",
       "      <td>1</td>\n",
       "      <td>1</td>\n",
       "      <td>1</td>\n",
       "      <td>5</td>\n",
       "      <td>63</td>\n",
       "      <td>3</td>\n",
       "    </tr>\n",
       "    <tr>\n",
       "      <th>4</th>\n",
       "      <td>4</td>\n",
       "      <td>534</td>\n",
       "      <td>1</td>\n",
       "      <td>2</td>\n",
       "      <td>1</td>\n",
       "      <td>2</td>\n",
       "      <td>1</td>\n",
       "      <td>1</td>\n",
       "      <td>0</td>\n",
       "      <td>40</td>\n",
       "      <td>22</td>\n",
       "      <td>108</td>\n",
       "    </tr>\n",
       "  </tbody>\n",
       "</table>\n",
       "</div>"
      ],
      "text/plain": [
       "   user_id  user_shops  user_profile  user_group  user_gender  user_age  \\\n",
       "0        0           0             1           4            1         3   \n",
       "1        1         109             0           0            0         0   \n",
       "2        2         301             1           1            1         1   \n",
       "3        3        1876            23           7            2         3   \n",
       "4        4         534             1           2            1         2   \n",
       "\n",
       "   user_consumption_2  user_is_occupied  user_geography  user_intentions  \\\n",
       "0                   2                 1               0                0   \n",
       "1                   0                 0               0               69   \n",
       "2                   1                 1               2               57   \n",
       "3                   1                 1               1                5   \n",
       "4                   1                 1               0               40   \n",
       "\n",
       "   user_brands  user_categories  \n",
       "0            0                0  \n",
       "1          131                9  \n",
       "2         4709               57  \n",
       "3           63                3  \n",
       "4           22              108  "
      ]
     },
     "execution_count": 26,
     "metadata": {},
     "output_type": "execute_result"
    }
   ],
   "source": [
    "user_features.head()"
   ]
  },
  {
   "cell_type": "code",
   "execution_count": 27,
   "id": "bcd5fa22",
   "metadata": {},
   "outputs": [
    {
     "data": {
      "text/plain": [
       "(214994, 12)"
      ]
     },
     "execution_count": 27,
     "metadata": {},
     "output_type": "execute_result"
    }
   ],
   "source": [
    "user_features.shape"
   ]
  },
  {
   "cell_type": "code",
   "execution_count": 28,
   "id": "2080b127",
   "metadata": {},
   "outputs": [],
   "source": [
    "#user_features.to_parquet('user_features.parquet')"
   ]
  },
  {
   "cell_type": "markdown",
   "id": "60e80cf5",
   "metadata": {},
   "source": [
    "#### Extract and save item features"
   ]
  },
  {
   "cell_type": "code",
   "execution_count": 29,
   "id": "80333dcd",
   "metadata": {},
   "outputs": [
    {
     "name": "stderr",
     "output_type": "stream",
     "text": [
      "/usr/local/lib/python3.8/dist-packages/cudf/core/dataframe.py:1253: UserWarning: The deep parameter is ignored and is only included for pandas compatibility.\n",
      "  warnings.warn(\n"
     ]
    }
   ],
   "source": [
    "# train path should be the path for the processed parquet files.\n",
    "item_features = unique_rows_by_features(Dataset('/workspace/retrieval/processed/train/*.parquet'), Tags.ITEM, Tags.ITEM_ID).compute().reset_index(drop=True)"
   ]
  },
  {
   "cell_type": "code",
   "execution_count": 30,
   "id": "f658a480",
   "metadata": {},
   "outputs": [
    {
     "data": {
      "text/html": [
       "<div>\n",
       "<style scoped>\n",
       "    .dataframe tbody tr th:only-of-type {\n",
       "        vertical-align: middle;\n",
       "    }\n",
       "\n",
       "    .dataframe tbody tr th {\n",
       "        vertical-align: top;\n",
       "    }\n",
       "\n",
       "    .dataframe thead th {\n",
       "        text-align: right;\n",
       "    }\n",
       "</style>\n",
       "<table border=\"1\" class=\"dataframe\">\n",
       "  <thead>\n",
       "    <tr style=\"text-align: right;\">\n",
       "      <th></th>\n",
       "      <th>item_id</th>\n",
       "      <th>item_category</th>\n",
       "      <th>item_shop</th>\n",
       "      <th>item_brand</th>\n",
       "    </tr>\n",
       "  </thead>\n",
       "  <tbody>\n",
       "    <tr>\n",
       "      <th>0</th>\n",
       "      <td>0</td>\n",
       "      <td>0</td>\n",
       "      <td>0</td>\n",
       "      <td>0</td>\n",
       "    </tr>\n",
       "    <tr>\n",
       "      <th>1</th>\n",
       "      <td>1</td>\n",
       "      <td>441</td>\n",
       "      <td>432</td>\n",
       "      <td>474</td>\n",
       "    </tr>\n",
       "    <tr>\n",
       "      <th>2</th>\n",
       "      <td>2</td>\n",
       "      <td>193</td>\n",
       "      <td>1159</td>\n",
       "      <td>125</td>\n",
       "    </tr>\n",
       "    <tr>\n",
       "      <th>3</th>\n",
       "      <td>3</td>\n",
       "      <td>3</td>\n",
       "      <td>1463</td>\n",
       "      <td>872</td>\n",
       "    </tr>\n",
       "    <tr>\n",
       "      <th>4</th>\n",
       "      <td>4</td>\n",
       "      <td>282</td>\n",
       "      <td>2479</td>\n",
       "      <td>555</td>\n",
       "    </tr>\n",
       "  </tbody>\n",
       "</table>\n",
       "</div>"
      ],
      "text/plain": [
       "   item_id  item_category  item_shop  item_brand\n",
       "0        0              0          0           0\n",
       "1        1            441        432         474\n",
       "2        2            193       1159         125\n",
       "3        3              3       1463         872\n",
       "4        4            282       2479         555"
      ]
     },
     "execution_count": 30,
     "metadata": {},
     "output_type": "execute_result"
    }
   ],
   "source": [
    "item_features.head()"
   ]
  },
  {
   "cell_type": "code",
   "execution_count": 31,
   "id": "ade021c1",
   "metadata": {},
   "outputs": [],
   "source": [
    "#item_features.to_parquet('item_features.parquet')"
   ]
  },
  {
   "cell_type": "markdown",
   "id": "655996c6",
   "metadata": {},
   "source": [
    "#### Extract and save item embeddings"
   ]
  },
  {
   "cell_type": "code",
   "execution_count": 32,
   "id": "758ca6aa",
   "metadata": {},
   "outputs": [
    {
     "name": "stderr",
     "output_type": "stream",
     "text": [
      "WARNING:absl:Found untraced functions such as block_context_layer_call_fn, block_context_layer_call_and_return_conditional_losses, sequential_block_6_layer_call_fn, sequential_block_6_layer_call_and_return_conditional_losses, l2_norm_layer_call_fn while saving (showing 5 of 26). These functions will not be directly callable after loading.\n"
     ]
    },
    {
     "name": "stdout",
     "output_type": "stream",
     "text": [
      "INFO:tensorflow:Assets written to: /tmp/tmp1nx5vchy/assets\n"
     ]
    },
    {
     "name": "stderr",
     "output_type": "stream",
     "text": [
      "INFO:tensorflow:Assets written to: /tmp/tmp1nx5vchy/assets\n"
     ]
    },
    {
     "name": "stdout",
     "output_type": "stream",
     "text": [
      "WARNING:tensorflow:No training configuration found in save file, so the model was *not* compiled. Compile it manually.\n"
     ]
    },
    {
     "name": "stderr",
     "output_type": "stream",
     "text": [
      "WARNING:tensorflow:No training configuration found in save file, so the model was *not* compiled. Compile it manually.\n"
     ]
    }
   ],
   "source": [
    "item_embs = model.item_embeddings(Dataset(item_features, schema=schema), batch_size=1024)\n",
    "item_embs_df = item_embs.compute(scheduler=\"synchronous\")"
   ]
  },
  {
   "cell_type": "code",
   "execution_count": 33,
   "id": "95b59622",
   "metadata": {},
   "outputs": [
    {
     "data": {
      "text/html": [
       "<div>\n",
       "<style scoped>\n",
       "    .dataframe tbody tr th:only-of-type {\n",
       "        vertical-align: middle;\n",
       "    }\n",
       "\n",
       "    .dataframe tbody tr th {\n",
       "        vertical-align: top;\n",
       "    }\n",
       "\n",
       "    .dataframe thead th {\n",
       "        text-align: right;\n",
       "    }\n",
       "</style>\n",
       "<table border=\"1\" class=\"dataframe\">\n",
       "  <thead>\n",
       "    <tr style=\"text-align: right;\">\n",
       "      <th></th>\n",
       "      <th>item_id</th>\n",
       "      <th>item_category</th>\n",
       "      <th>item_shop</th>\n",
       "      <th>item_brand</th>\n",
       "      <th>0</th>\n",
       "      <th>1</th>\n",
       "      <th>2</th>\n",
       "      <th>3</th>\n",
       "      <th>4</th>\n",
       "      <th>5</th>\n",
       "      <th>...</th>\n",
       "      <th>54</th>\n",
       "      <th>55</th>\n",
       "      <th>56</th>\n",
       "      <th>57</th>\n",
       "      <th>58</th>\n",
       "      <th>59</th>\n",
       "      <th>60</th>\n",
       "      <th>61</th>\n",
       "      <th>62</th>\n",
       "      <th>63</th>\n",
       "    </tr>\n",
       "  </thead>\n",
       "  <tbody>\n",
       "    <tr>\n",
       "      <th>0</th>\n",
       "      <td>0</td>\n",
       "      <td>0</td>\n",
       "      <td>0</td>\n",
       "      <td>0</td>\n",
       "      <td>-0.035471</td>\n",
       "      <td>-0.092948</td>\n",
       "      <td>-0.162513</td>\n",
       "      <td>0.051653</td>\n",
       "      <td>-0.081698</td>\n",
       "      <td>-0.011199</td>\n",
       "      <td>...</td>\n",
       "      <td>-0.082671</td>\n",
       "      <td>0.149540</td>\n",
       "      <td>-0.037409</td>\n",
       "      <td>-0.029979</td>\n",
       "      <td>0.330735</td>\n",
       "      <td>-0.138205</td>\n",
       "      <td>0.103216</td>\n",
       "      <td>0.158921</td>\n",
       "      <td>-0.151992</td>\n",
       "      <td>-0.119814</td>\n",
       "    </tr>\n",
       "    <tr>\n",
       "      <th>1</th>\n",
       "      <td>1</td>\n",
       "      <td>441</td>\n",
       "      <td>432</td>\n",
       "      <td>474</td>\n",
       "      <td>0.293629</td>\n",
       "      <td>-0.004668</td>\n",
       "      <td>-0.100611</td>\n",
       "      <td>-0.252162</td>\n",
       "      <td>-0.219130</td>\n",
       "      <td>0.028827</td>\n",
       "      <td>...</td>\n",
       "      <td>-0.211181</td>\n",
       "      <td>0.040126</td>\n",
       "      <td>0.022910</td>\n",
       "      <td>-0.144738</td>\n",
       "      <td>0.313601</td>\n",
       "      <td>-0.093773</td>\n",
       "      <td>-0.076630</td>\n",
       "      <td>0.008872</td>\n",
       "      <td>0.079040</td>\n",
       "      <td>-0.165187</td>\n",
       "    </tr>\n",
       "    <tr>\n",
       "      <th>2</th>\n",
       "      <td>2</td>\n",
       "      <td>193</td>\n",
       "      <td>1159</td>\n",
       "      <td>125</td>\n",
       "      <td>0.126375</td>\n",
       "      <td>-0.113511</td>\n",
       "      <td>0.035486</td>\n",
       "      <td>-0.191057</td>\n",
       "      <td>-0.100485</td>\n",
       "      <td>-0.069106</td>\n",
       "      <td>...</td>\n",
       "      <td>0.182612</td>\n",
       "      <td>0.034946</td>\n",
       "      <td>0.131176</td>\n",
       "      <td>0.016516</td>\n",
       "      <td>0.140971</td>\n",
       "      <td>-0.142058</td>\n",
       "      <td>-0.222311</td>\n",
       "      <td>0.054083</td>\n",
       "      <td>-0.269620</td>\n",
       "      <td>-0.145560</td>\n",
       "    </tr>\n",
       "    <tr>\n",
       "      <th>3</th>\n",
       "      <td>3</td>\n",
       "      <td>3</td>\n",
       "      <td>1463</td>\n",
       "      <td>872</td>\n",
       "      <td>0.039960</td>\n",
       "      <td>-0.129235</td>\n",
       "      <td>0.095869</td>\n",
       "      <td>0.000588</td>\n",
       "      <td>-0.065913</td>\n",
       "      <td>-0.011629</td>\n",
       "      <td>...</td>\n",
       "      <td>-0.139102</td>\n",
       "      <td>0.038123</td>\n",
       "      <td>0.023675</td>\n",
       "      <td>-0.073021</td>\n",
       "      <td>-0.023763</td>\n",
       "      <td>-0.251495</td>\n",
       "      <td>-0.103316</td>\n",
       "      <td>0.156044</td>\n",
       "      <td>-0.221559</td>\n",
       "      <td>-0.405354</td>\n",
       "    </tr>\n",
       "    <tr>\n",
       "      <th>4</th>\n",
       "      <td>4</td>\n",
       "      <td>282</td>\n",
       "      <td>2479</td>\n",
       "      <td>555</td>\n",
       "      <td>0.017206</td>\n",
       "      <td>-0.043477</td>\n",
       "      <td>0.049604</td>\n",
       "      <td>0.150207</td>\n",
       "      <td>-0.111438</td>\n",
       "      <td>0.136317</td>\n",
       "      <td>...</td>\n",
       "      <td>-0.072897</td>\n",
       "      <td>0.046393</td>\n",
       "      <td>0.079116</td>\n",
       "      <td>0.099039</td>\n",
       "      <td>-0.023284</td>\n",
       "      <td>0.019531</td>\n",
       "      <td>0.059016</td>\n",
       "      <td>-0.038120</td>\n",
       "      <td>-0.199234</td>\n",
       "      <td>-0.313679</td>\n",
       "    </tr>\n",
       "    <tr>\n",
       "      <th>...</th>\n",
       "      <td>...</td>\n",
       "      <td>...</td>\n",
       "      <td>...</td>\n",
       "      <td>...</td>\n",
       "      <td>...</td>\n",
       "      <td>...</td>\n",
       "      <td>...</td>\n",
       "      <td>...</td>\n",
       "      <td>...</td>\n",
       "      <td>...</td>\n",
       "      <td>...</td>\n",
       "      <td>...</td>\n",
       "      <td>...</td>\n",
       "      <td>...</td>\n",
       "      <td>...</td>\n",
       "      <td>...</td>\n",
       "      <td>...</td>\n",
       "      <td>...</td>\n",
       "      <td>...</td>\n",
       "      <td>...</td>\n",
       "      <td>...</td>\n",
       "    </tr>\n",
       "    <tr>\n",
       "      <th>568842</th>\n",
       "      <td>3078159</td>\n",
       "      <td>1764</td>\n",
       "      <td>365864</td>\n",
       "      <td>121053</td>\n",
       "      <td>0.251918</td>\n",
       "      <td>0.001146</td>\n",
       "      <td>-0.009754</td>\n",
       "      <td>-0.133443</td>\n",
       "      <td>-0.280002</td>\n",
       "      <td>-0.120191</td>\n",
       "      <td>...</td>\n",
       "      <td>0.085881</td>\n",
       "      <td>0.082907</td>\n",
       "      <td>0.088727</td>\n",
       "      <td>0.095871</td>\n",
       "      <td>0.002160</td>\n",
       "      <td>-0.010803</td>\n",
       "      <td>-0.087407</td>\n",
       "      <td>0.029755</td>\n",
       "      <td>-0.075418</td>\n",
       "      <td>-0.291222</td>\n",
       "    </tr>\n",
       "    <tr>\n",
       "      <th>568843</th>\n",
       "      <td>3078210</td>\n",
       "      <td>377</td>\n",
       "      <td>97495</td>\n",
       "      <td>116656</td>\n",
       "      <td>-0.073524</td>\n",
       "      <td>-0.110021</td>\n",
       "      <td>-0.028398</td>\n",
       "      <td>-0.097701</td>\n",
       "      <td>-0.238075</td>\n",
       "      <td>-0.169089</td>\n",
       "      <td>...</td>\n",
       "      <td>0.055080</td>\n",
       "      <td>-0.002275</td>\n",
       "      <td>-0.071681</td>\n",
       "      <td>0.276715</td>\n",
       "      <td>0.271313</td>\n",
       "      <td>-0.186708</td>\n",
       "      <td>-0.095671</td>\n",
       "      <td>0.106745</td>\n",
       "      <td>-0.037785</td>\n",
       "      <td>-0.314436</td>\n",
       "    </tr>\n",
       "    <tr>\n",
       "      <th>568844</th>\n",
       "      <td>3078270</td>\n",
       "      <td>3817</td>\n",
       "      <td>577371</td>\n",
       "      <td>80796</td>\n",
       "      <td>0.141514</td>\n",
       "      <td>-0.178248</td>\n",
       "      <td>-0.072934</td>\n",
       "      <td>0.010046</td>\n",
       "      <td>-0.127190</td>\n",
       "      <td>-0.175243</td>\n",
       "      <td>...</td>\n",
       "      <td>0.032672</td>\n",
       "      <td>-0.062497</td>\n",
       "      <td>-0.175352</td>\n",
       "      <td>0.117554</td>\n",
       "      <td>0.094920</td>\n",
       "      <td>-0.074599</td>\n",
       "      <td>-0.038968</td>\n",
       "      <td>0.340473</td>\n",
       "      <td>-0.296917</td>\n",
       "      <td>-0.268433</td>\n",
       "    </tr>\n",
       "    <tr>\n",
       "      <th>568845</th>\n",
       "      <td>3078283</td>\n",
       "      <td>551</td>\n",
       "      <td>201089</td>\n",
       "      <td>85172</td>\n",
       "      <td>0.175509</td>\n",
       "      <td>0.050898</td>\n",
       "      <td>0.066930</td>\n",
       "      <td>0.012926</td>\n",
       "      <td>-0.028945</td>\n",
       "      <td>-0.044987</td>\n",
       "      <td>...</td>\n",
       "      <td>-0.031746</td>\n",
       "      <td>-0.000695</td>\n",
       "      <td>0.060886</td>\n",
       "      <td>0.178592</td>\n",
       "      <td>0.005817</td>\n",
       "      <td>-0.079405</td>\n",
       "      <td>-0.299065</td>\n",
       "      <td>-0.036055</td>\n",
       "      <td>-0.201436</td>\n",
       "      <td>-0.027930</td>\n",
       "    </tr>\n",
       "    <tr>\n",
       "      <th>568846</th>\n",
       "      <td>3078304</td>\n",
       "      <td>475</td>\n",
       "      <td>255840</td>\n",
       "      <td>335</td>\n",
       "      <td>0.034998</td>\n",
       "      <td>-0.185007</td>\n",
       "      <td>-0.026603</td>\n",
       "      <td>-0.042327</td>\n",
       "      <td>-0.113366</td>\n",
       "      <td>-0.142310</td>\n",
       "      <td>...</td>\n",
       "      <td>0.154110</td>\n",
       "      <td>0.075231</td>\n",
       "      <td>0.108766</td>\n",
       "      <td>0.035937</td>\n",
       "      <td>0.297402</td>\n",
       "      <td>-0.076441</td>\n",
       "      <td>-0.049586</td>\n",
       "      <td>0.078558</td>\n",
       "      <td>-0.012405</td>\n",
       "      <td>-0.064869</td>\n",
       "    </tr>\n",
       "  </tbody>\n",
       "</table>\n",
       "<p>568847 rows × 68 columns</p>\n",
       "</div>"
      ],
      "text/plain": [
       "        item_id  item_category  item_shop  item_brand         0         1  \\\n",
       "0             0              0          0           0 -0.035471 -0.092948   \n",
       "1             1            441        432         474  0.293629 -0.004668   \n",
       "2             2            193       1159         125  0.126375 -0.113511   \n",
       "3             3              3       1463         872  0.039960 -0.129235   \n",
       "4             4            282       2479         555  0.017206 -0.043477   \n",
       "...         ...            ...        ...         ...       ...       ...   \n",
       "568842  3078159           1764     365864      121053  0.251918  0.001146   \n",
       "568843  3078210            377      97495      116656 -0.073524 -0.110021   \n",
       "568844  3078270           3817     577371       80796  0.141514 -0.178248   \n",
       "568845  3078283            551     201089       85172  0.175509  0.050898   \n",
       "568846  3078304            475     255840         335  0.034998 -0.185007   \n",
       "\n",
       "               2         3         4         5  ...        54        55  \\\n",
       "0      -0.162513  0.051653 -0.081698 -0.011199  ... -0.082671  0.149540   \n",
       "1      -0.100611 -0.252162 -0.219130  0.028827  ... -0.211181  0.040126   \n",
       "2       0.035486 -0.191057 -0.100485 -0.069106  ...  0.182612  0.034946   \n",
       "3       0.095869  0.000588 -0.065913 -0.011629  ... -0.139102  0.038123   \n",
       "4       0.049604  0.150207 -0.111438  0.136317  ... -0.072897  0.046393   \n",
       "...          ...       ...       ...       ...  ...       ...       ...   \n",
       "568842 -0.009754 -0.133443 -0.280002 -0.120191  ...  0.085881  0.082907   \n",
       "568843 -0.028398 -0.097701 -0.238075 -0.169089  ...  0.055080 -0.002275   \n",
       "568844 -0.072934  0.010046 -0.127190 -0.175243  ...  0.032672 -0.062497   \n",
       "568845  0.066930  0.012926 -0.028945 -0.044987  ... -0.031746 -0.000695   \n",
       "568846 -0.026603 -0.042327 -0.113366 -0.142310  ...  0.154110  0.075231   \n",
       "\n",
       "              56        57        58        59        60        61        62  \\\n",
       "0      -0.037409 -0.029979  0.330735 -0.138205  0.103216  0.158921 -0.151992   \n",
       "1       0.022910 -0.144738  0.313601 -0.093773 -0.076630  0.008872  0.079040   \n",
       "2       0.131176  0.016516  0.140971 -0.142058 -0.222311  0.054083 -0.269620   \n",
       "3       0.023675 -0.073021 -0.023763 -0.251495 -0.103316  0.156044 -0.221559   \n",
       "4       0.079116  0.099039 -0.023284  0.019531  0.059016 -0.038120 -0.199234   \n",
       "...          ...       ...       ...       ...       ...       ...       ...   \n",
       "568842  0.088727  0.095871  0.002160 -0.010803 -0.087407  0.029755 -0.075418   \n",
       "568843 -0.071681  0.276715  0.271313 -0.186708 -0.095671  0.106745 -0.037785   \n",
       "568844 -0.175352  0.117554  0.094920 -0.074599 -0.038968  0.340473 -0.296917   \n",
       "568845  0.060886  0.178592  0.005817 -0.079405 -0.299065 -0.036055 -0.201436   \n",
       "568846  0.108766  0.035937  0.297402 -0.076441 -0.049586  0.078558 -0.012405   \n",
       "\n",
       "              63  \n",
       "0      -0.119814  \n",
       "1      -0.165187  \n",
       "2      -0.145560  \n",
       "3      -0.405354  \n",
       "4      -0.313679  \n",
       "...          ...  \n",
       "568842 -0.291222  \n",
       "568843 -0.314436  \n",
       "568844 -0.268433  \n",
       "568845 -0.027930  \n",
       "568846 -0.064869  \n",
       "\n",
       "[568847 rows x 68 columns]"
      ]
     },
     "execution_count": 33,
     "metadata": {},
     "output_type": "execute_result"
    }
   ],
   "source": [
    "item_embs_df"
   ]
  },
  {
   "cell_type": "code",
   "execution_count": 34,
   "id": "1fd95cec",
   "metadata": {},
   "outputs": [],
   "source": [
    "item_embeddings = item_embs_df.iloc[:, 4:]"
   ]
  },
  {
   "cell_type": "code",
   "execution_count": 35,
   "id": "68a05d51",
   "metadata": {},
   "outputs": [
    {
     "data": {
      "text/html": [
       "<div>\n",
       "<style scoped>\n",
       "    .dataframe tbody tr th:only-of-type {\n",
       "        vertical-align: middle;\n",
       "    }\n",
       "\n",
       "    .dataframe tbody tr th {\n",
       "        vertical-align: top;\n",
       "    }\n",
       "\n",
       "    .dataframe thead th {\n",
       "        text-align: right;\n",
       "    }\n",
       "</style>\n",
       "<table border=\"1\" class=\"dataframe\">\n",
       "  <thead>\n",
       "    <tr style=\"text-align: right;\">\n",
       "      <th></th>\n",
       "      <th>0</th>\n",
       "      <th>1</th>\n",
       "      <th>2</th>\n",
       "      <th>3</th>\n",
       "      <th>4</th>\n",
       "      <th>5</th>\n",
       "      <th>6</th>\n",
       "      <th>7</th>\n",
       "      <th>8</th>\n",
       "      <th>9</th>\n",
       "      <th>...</th>\n",
       "      <th>54</th>\n",
       "      <th>55</th>\n",
       "      <th>56</th>\n",
       "      <th>57</th>\n",
       "      <th>58</th>\n",
       "      <th>59</th>\n",
       "      <th>60</th>\n",
       "      <th>61</th>\n",
       "      <th>62</th>\n",
       "      <th>63</th>\n",
       "    </tr>\n",
       "  </thead>\n",
       "  <tbody>\n",
       "    <tr>\n",
       "      <th>0</th>\n",
       "      <td>-0.035471</td>\n",
       "      <td>-0.092948</td>\n",
       "      <td>-0.162513</td>\n",
       "      <td>0.051653</td>\n",
       "      <td>-0.081698</td>\n",
       "      <td>-0.011199</td>\n",
       "      <td>0.060544</td>\n",
       "      <td>-0.004139</td>\n",
       "      <td>-0.064105</td>\n",
       "      <td>-0.154147</td>\n",
       "      <td>...</td>\n",
       "      <td>-0.082671</td>\n",
       "      <td>0.149540</td>\n",
       "      <td>-0.037409</td>\n",
       "      <td>-0.029979</td>\n",
       "      <td>0.330735</td>\n",
       "      <td>-0.138205</td>\n",
       "      <td>0.103216</td>\n",
       "      <td>0.158921</td>\n",
       "      <td>-0.151992</td>\n",
       "      <td>-0.119814</td>\n",
       "    </tr>\n",
       "    <tr>\n",
       "      <th>1</th>\n",
       "      <td>0.293629</td>\n",
       "      <td>-0.004668</td>\n",
       "      <td>-0.100611</td>\n",
       "      <td>-0.252162</td>\n",
       "      <td>-0.219130</td>\n",
       "      <td>0.028827</td>\n",
       "      <td>0.022169</td>\n",
       "      <td>-0.066528</td>\n",
       "      <td>0.090813</td>\n",
       "      <td>-0.058673</td>\n",
       "      <td>...</td>\n",
       "      <td>-0.211181</td>\n",
       "      <td>0.040126</td>\n",
       "      <td>0.022910</td>\n",
       "      <td>-0.144738</td>\n",
       "      <td>0.313601</td>\n",
       "      <td>-0.093773</td>\n",
       "      <td>-0.076630</td>\n",
       "      <td>0.008872</td>\n",
       "      <td>0.079040</td>\n",
       "      <td>-0.165187</td>\n",
       "    </tr>\n",
       "    <tr>\n",
       "      <th>2</th>\n",
       "      <td>0.126375</td>\n",
       "      <td>-0.113511</td>\n",
       "      <td>0.035486</td>\n",
       "      <td>-0.191057</td>\n",
       "      <td>-0.100485</td>\n",
       "      <td>-0.069106</td>\n",
       "      <td>-0.056850</td>\n",
       "      <td>-0.085665</td>\n",
       "      <td>-0.136583</td>\n",
       "      <td>-0.082392</td>\n",
       "      <td>...</td>\n",
       "      <td>0.182612</td>\n",
       "      <td>0.034946</td>\n",
       "      <td>0.131176</td>\n",
       "      <td>0.016516</td>\n",
       "      <td>0.140971</td>\n",
       "      <td>-0.142058</td>\n",
       "      <td>-0.222311</td>\n",
       "      <td>0.054083</td>\n",
       "      <td>-0.269620</td>\n",
       "      <td>-0.145560</td>\n",
       "    </tr>\n",
       "    <tr>\n",
       "      <th>3</th>\n",
       "      <td>0.039960</td>\n",
       "      <td>-0.129235</td>\n",
       "      <td>0.095869</td>\n",
       "      <td>0.000588</td>\n",
       "      <td>-0.065913</td>\n",
       "      <td>-0.011629</td>\n",
       "      <td>-0.000011</td>\n",
       "      <td>-0.207328</td>\n",
       "      <td>-0.051968</td>\n",
       "      <td>0.056846</td>\n",
       "      <td>...</td>\n",
       "      <td>-0.139102</td>\n",
       "      <td>0.038123</td>\n",
       "      <td>0.023675</td>\n",
       "      <td>-0.073021</td>\n",
       "      <td>-0.023763</td>\n",
       "      <td>-0.251495</td>\n",
       "      <td>-0.103316</td>\n",
       "      <td>0.156044</td>\n",
       "      <td>-0.221559</td>\n",
       "      <td>-0.405354</td>\n",
       "    </tr>\n",
       "    <tr>\n",
       "      <th>4</th>\n",
       "      <td>0.017206</td>\n",
       "      <td>-0.043477</td>\n",
       "      <td>0.049604</td>\n",
       "      <td>0.150207</td>\n",
       "      <td>-0.111438</td>\n",
       "      <td>0.136317</td>\n",
       "      <td>-0.076041</td>\n",
       "      <td>-0.038415</td>\n",
       "      <td>0.020472</td>\n",
       "      <td>-0.053883</td>\n",
       "      <td>...</td>\n",
       "      <td>-0.072897</td>\n",
       "      <td>0.046393</td>\n",
       "      <td>0.079116</td>\n",
       "      <td>0.099039</td>\n",
       "      <td>-0.023284</td>\n",
       "      <td>0.019531</td>\n",
       "      <td>0.059016</td>\n",
       "      <td>-0.038120</td>\n",
       "      <td>-0.199234</td>\n",
       "      <td>-0.313679</td>\n",
       "    </tr>\n",
       "  </tbody>\n",
       "</table>\n",
       "<p>5 rows × 64 columns</p>\n",
       "</div>"
      ],
      "text/plain": [
       "          0         1         2         3         4         5         6  \\\n",
       "0 -0.035471 -0.092948 -0.162513  0.051653 -0.081698 -0.011199  0.060544   \n",
       "1  0.293629 -0.004668 -0.100611 -0.252162 -0.219130  0.028827  0.022169   \n",
       "2  0.126375 -0.113511  0.035486 -0.191057 -0.100485 -0.069106 -0.056850   \n",
       "3  0.039960 -0.129235  0.095869  0.000588 -0.065913 -0.011629 -0.000011   \n",
       "4  0.017206 -0.043477  0.049604  0.150207 -0.111438  0.136317 -0.076041   \n",
       "\n",
       "          7         8         9  ...        54        55        56        57  \\\n",
       "0 -0.004139 -0.064105 -0.154147  ... -0.082671  0.149540 -0.037409 -0.029979   \n",
       "1 -0.066528  0.090813 -0.058673  ... -0.211181  0.040126  0.022910 -0.144738   \n",
       "2 -0.085665 -0.136583 -0.082392  ...  0.182612  0.034946  0.131176  0.016516   \n",
       "3 -0.207328 -0.051968  0.056846  ... -0.139102  0.038123  0.023675 -0.073021   \n",
       "4 -0.038415  0.020472 -0.053883  ... -0.072897  0.046393  0.079116  0.099039   \n",
       "\n",
       "         58        59        60        61        62        63  \n",
       "0  0.330735 -0.138205  0.103216  0.158921 -0.151992 -0.119814  \n",
       "1  0.313601 -0.093773 -0.076630  0.008872  0.079040 -0.165187  \n",
       "2  0.140971 -0.142058 -0.222311  0.054083 -0.269620 -0.145560  \n",
       "3 -0.023763 -0.251495 -0.103316  0.156044 -0.221559 -0.405354  \n",
       "4 -0.023284  0.019531  0.059016 -0.038120 -0.199234 -0.313679  \n",
       "\n",
       "[5 rows x 64 columns]"
      ]
     },
     "execution_count": 35,
     "metadata": {},
     "output_type": "execute_result"
    }
   ],
   "source": [
    "item_embeddings.head()"
   ]
  },
  {
   "cell_type": "code",
   "execution_count": 24,
   "id": "30109fd0",
   "metadata": {},
   "outputs": [],
   "source": [
    "#item_embeddings.to_parquet('item_embeddings')"
   ]
  },
  {
   "cell_type": "code",
   "execution_count": 39,
   "id": "9d8b46d2",
   "metadata": {},
   "outputs": [
    {
     "data": {
      "text/html": [
       "<div>\n",
       "<style scoped>\n",
       "    .dataframe tbody tr th:only-of-type {\n",
       "        vertical-align: middle;\n",
       "    }\n",
       "\n",
       "    .dataframe tbody tr th {\n",
       "        vertical-align: top;\n",
       "    }\n",
       "\n",
       "    .dataframe thead th {\n",
       "        text-align: right;\n",
       "    }\n",
       "</style>\n",
       "<table border=\"1\" class=\"dataframe\">\n",
       "  <thead>\n",
       "    <tr style=\"text-align: right;\">\n",
       "      <th></th>\n",
       "      <th>item_intention</th>\n",
       "      <th>position</th>\n",
       "      <th>item_id</th>\n",
       "      <th>item_category</th>\n",
       "      <th>item_shop</th>\n",
       "      <th>user_item_categories</th>\n",
       "      <th>user_categories</th>\n",
       "      <th>user_intentions</th>\n",
       "      <th>user_id</th>\n",
       "      <th>user_brands</th>\n",
       "      <th>...</th>\n",
       "      <th>user_item_brands</th>\n",
       "      <th>user_item_intentions</th>\n",
       "      <th>user_gender</th>\n",
       "      <th>user_age</th>\n",
       "      <th>user_consumption_1</th>\n",
       "      <th>user_consumption_2</th>\n",
       "      <th>user_is_occupied</th>\n",
       "      <th>user_geography</th>\n",
       "      <th>user_group</th>\n",
       "      <th>user_profile</th>\n",
       "    </tr>\n",
       "  </thead>\n",
       "  <tbody>\n",
       "    <tr>\n",
       "      <th>0</th>\n",
       "      <td>9069229</td>\n",
       "      <td>9351665</td>\n",
       "      <td>5236823</td>\n",
       "      <td>8315701</td>\n",
       "      <td>8927579</td>\n",
       "      <td>9354021</td>\n",
       "      <td>450937</td>\n",
       "      <td>3942527</td>\n",
       "      <td>354229</td>\n",
       "      <td>3488451</td>\n",
       "      <td>...</td>\n",
       "      <td>&lt;NA&gt;</td>\n",
       "      <td>&lt;NA&gt;</td>\n",
       "      <td>&lt;NA&gt;</td>\n",
       "      <td>&lt;NA&gt;</td>\n",
       "      <td>&lt;NA&gt;</td>\n",
       "      <td>&lt;NA&gt;</td>\n",
       "      <td>&lt;NA&gt;</td>\n",
       "      <td>&lt;NA&gt;</td>\n",
       "      <td>&lt;NA&gt;</td>\n",
       "      <td>&lt;NA&gt;</td>\n",
       "    </tr>\n",
       "    <tr>\n",
       "      <th>1</th>\n",
       "      <td>9036102</td>\n",
       "      <td>9351665</td>\n",
       "      <td>5369565</td>\n",
       "      <td>8313377</td>\n",
       "      <td>8794331</td>\n",
       "      <td>9351963</td>\n",
       "      <td>450937</td>\n",
       "      <td>3942527</td>\n",
       "      <td>354229</td>\n",
       "      <td>3488451</td>\n",
       "      <td>...</td>\n",
       "      <td>&lt;NA&gt;</td>\n",
       "      <td>&lt;NA&gt;</td>\n",
       "      <td>&lt;NA&gt;</td>\n",
       "      <td>&lt;NA&gt;</td>\n",
       "      <td>&lt;NA&gt;</td>\n",
       "      <td>&lt;NA&gt;</td>\n",
       "      <td>&lt;NA&gt;</td>\n",
       "      <td>&lt;NA&gt;</td>\n",
       "      <td>&lt;NA&gt;</td>\n",
       "      <td>&lt;NA&gt;</td>\n",
       "    </tr>\n",
       "    <tr>\n",
       "      <th>2</th>\n",
       "      <td>9025172</td>\n",
       "      <td>9351665</td>\n",
       "      <td>5643280</td>\n",
       "      <td>8317268</td>\n",
       "      <td>8722017</td>\n",
       "      <td>&lt;NA&gt;</td>\n",
       "      <td>450937</td>\n",
       "      <td>3942527</td>\n",
       "      <td>354229</td>\n",
       "      <td>3488451</td>\n",
       "      <td>...</td>\n",
       "      <td>&lt;NA&gt;</td>\n",
       "      <td>&lt;NA&gt;</td>\n",
       "      <td>&lt;NA&gt;</td>\n",
       "      <td>&lt;NA&gt;</td>\n",
       "      <td>&lt;NA&gt;</td>\n",
       "      <td>&lt;NA&gt;</td>\n",
       "      <td>&lt;NA&gt;</td>\n",
       "      <td>&lt;NA&gt;</td>\n",
       "      <td>&lt;NA&gt;</td>\n",
       "      <td>&lt;NA&gt;</td>\n",
       "    </tr>\n",
       "    <tr>\n",
       "      <th>3</th>\n",
       "      <td>9112773</td>\n",
       "      <td>9351665</td>\n",
       "      <td>5730129</td>\n",
       "      <td>8313131</td>\n",
       "      <td>8821712</td>\n",
       "      <td>9351731</td>\n",
       "      <td>450937</td>\n",
       "      <td>3942527</td>\n",
       "      <td>354229</td>\n",
       "      <td>3488451</td>\n",
       "      <td>...</td>\n",
       "      <td>9886929</td>\n",
       "      <td>&lt;NA&gt;</td>\n",
       "      <td>&lt;NA&gt;</td>\n",
       "      <td>&lt;NA&gt;</td>\n",
       "      <td>&lt;NA&gt;</td>\n",
       "      <td>&lt;NA&gt;</td>\n",
       "      <td>&lt;NA&gt;</td>\n",
       "      <td>&lt;NA&gt;</td>\n",
       "      <td>&lt;NA&gt;</td>\n",
       "      <td>&lt;NA&gt;</td>\n",
       "    </tr>\n",
       "    <tr>\n",
       "      <th>4</th>\n",
       "      <td>9031696</td>\n",
       "      <td>9351665</td>\n",
       "      <td>5732064</td>\n",
       "      <td>8313213</td>\n",
       "      <td>8695141</td>\n",
       "      <td>9351810</td>\n",
       "      <td>450937</td>\n",
       "      <td>3942527</td>\n",
       "      <td>354229</td>\n",
       "      <td>3488451</td>\n",
       "      <td>...</td>\n",
       "      <td>&lt;NA&gt;</td>\n",
       "      <td>&lt;NA&gt;</td>\n",
       "      <td>&lt;NA&gt;</td>\n",
       "      <td>&lt;NA&gt;</td>\n",
       "      <td>&lt;NA&gt;</td>\n",
       "      <td>&lt;NA&gt;</td>\n",
       "      <td>&lt;NA&gt;</td>\n",
       "      <td>&lt;NA&gt;</td>\n",
       "      <td>&lt;NA&gt;</td>\n",
       "      <td>&lt;NA&gt;</td>\n",
       "    </tr>\n",
       "  </tbody>\n",
       "</table>\n",
       "<p>5 rows × 25 columns</p>\n",
       "</div>"
      ],
      "text/plain": [
       "  item_intention position  item_id item_category item_shop  \\\n",
       "0        9069229  9351665  5236823       8315701   8927579   \n",
       "1        9036102  9351665  5369565       8313377   8794331   \n",
       "2        9025172  9351665  5643280       8317268   8722017   \n",
       "3        9112773  9351665  5730129       8313131   8821712   \n",
       "4        9031696  9351665  5732064       8313213   8695141   \n",
       "\n",
       "  user_item_categories user_categories user_intentions user_id user_brands  \\\n",
       "0              9354021          450937         3942527  354229     3488451   \n",
       "1              9351963          450937         3942527  354229     3488451   \n",
       "2                 <NA>          450937         3942527  354229     3488451   \n",
       "3              9351731          450937         3942527  354229     3488451   \n",
       "4              9351810          450937         3942527  354229     3488451   \n",
       "\n",
       "   ... user_item_brands user_item_intentions user_gender user_age  \\\n",
       "0  ...             <NA>                 <NA>        <NA>     <NA>   \n",
       "1  ...             <NA>                 <NA>        <NA>     <NA>   \n",
       "2  ...             <NA>                 <NA>        <NA>     <NA>   \n",
       "3  ...          9886929                 <NA>        <NA>     <NA>   \n",
       "4  ...             <NA>                 <NA>        <NA>     <NA>   \n",
       "\n",
       "  user_consumption_1 user_consumption_2 user_is_occupied user_geography  \\\n",
       "0               <NA>               <NA>             <NA>           <NA>   \n",
       "1               <NA>               <NA>             <NA>           <NA>   \n",
       "2               <NA>               <NA>             <NA>           <NA>   \n",
       "3               <NA>               <NA>             <NA>           <NA>   \n",
       "4               <NA>               <NA>             <NA>           <NA>   \n",
       "\n",
       "  user_group user_profile  \n",
       "0       <NA>         <NA>  \n",
       "1       <NA>         <NA>  \n",
       "2       <NA>         <NA>  \n",
       "3       <NA>         <NA>  \n",
       "4       <NA>         <NA>  \n",
       "\n",
       "[5 rows x 25 columns]"
      ]
     },
     "execution_count": 39,
     "metadata": {},
     "output_type": "execute_result"
    }
   ],
   "source": [
    "train = cudf.concat([cudf.read_parquet(x) for x in glob.glob(train_path)])\n",
    "train.head()"
   ]
  },
  {
   "cell_type": "code",
   "execution_count": 50,
   "id": "d8fb4f74",
   "metadata": {},
   "outputs": [
    {
     "data": {
      "text/plain": [
       "90671"
      ]
     },
     "execution_count": 50,
     "metadata": {},
     "output_type": "execute_result"
    }
   ],
   "source": [
    "train['user_id'].isnull().sum()"
   ]
  },
  {
   "cell_type": "code",
   "execution_count": 42,
   "id": "f7f65d72",
   "metadata": {},
   "outputs": [],
   "source": [
    "tr = train[train['click']==1]"
   ]
  },
  {
   "cell_type": "code",
   "execution_count": 52,
   "id": "cf8e0865",
   "metadata": {},
   "outputs": [
    {
     "data": {
      "text/plain": [
       "2501"
      ]
     },
     "execution_count": 52,
     "metadata": {},
     "output_type": "execute_result"
    }
   ],
   "source": [
    "tr['user_id'].isnull().sum()"
   ]
  }
 ],
 "metadata": {
  "kernelspec": {
   "display_name": "Python 3 (ipykernel)",
   "language": "python",
   "name": "python3"
  },
  "language_info": {
   "codemirror_mode": {
    "name": "ipython",
    "version": 3
   },
   "file_extension": ".py",
   "mimetype": "text/x-python",
   "name": "python",
   "nbconvert_exporter": "python",
   "pygments_lexer": "ipython3",
   "version": "3.8.10"
  }
 },
 "nbformat": 4,
 "nbformat_minor": 5
}
