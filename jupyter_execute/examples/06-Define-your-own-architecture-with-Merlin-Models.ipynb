{
 "cells": [
  {
   "cell_type": "code",
   "execution_count": 1,
   "id": "f9be6e1c",
   "metadata": {
    "pycharm": {
     "name": "#%%\n"
    }
   },
   "outputs": [],
   "source": [
    "# Copyright 2021 NVIDIA Corporation. All Rights Reserved.\n",
    "#\n",
    "# Licensed under the Apache License, Version 2.0 (the \"License\");\n",
    "# you may not use this file except in compliance with the License.\n",
    "# You may obtain a copy of the License at\n",
    "#\n",
    "#     http://www.apache.org/licenses/LICENSE-2.0\n",
    "#\n",
    "# Unless required by applicable law or agreed to in writing, software\n",
    "# distributed under the License is distributed on an \"AS IS\" BASIS,\n",
    "# WITHOUT WARRANTIES OR CONDITIONS OF ANY KIND, either express or implied.\n",
    "# See the License for the specific language governing permissions and\n",
    "# limitations under the License.\n",
    "# ================================\n",
    "\n",
    "# Each user is responsible for checking the content of datasets and the\n",
    "# applicable licenses and determining if suitable for the intended use."
   ]
  },
  {
   "cell_type": "markdown",
   "id": "1399da61",
   "metadata": {
    "pycharm": {
     "name": "#%% md\n"
    }
   },
   "source": [
    "<img src=\"https://developer.download.nvidia.com/notebooks/dlsw-notebooks/merlin_models_06-define-your-own-architecture-with-merlin-models/nvidia_logo.png\" style=\"width: 90px; float: right;\">\n",
    "\n",
    "# Taking the Next Step with Merlin Models: Define Your Own Architecture\n",
    "\n",
    "This notebook is created using the latest stable [merlin-tensorflow](https://catalog.ngc.nvidia.com/orgs/nvidia/teams/merlin/containers/merlin-tensorflow/tags) container. \n",
    "\n",
    "In [Iterating over Deep Learning Models using Merlin Models](https://nvidia-merlin.github.io/models/stable/examples/03-Exploring-different-models.html), we conducted a benchmark of standard and deep learning-based ranking models provided by the high-level Merlin Models API. The library also includes the standard components of deep learning that let recsys practitioners and researchers to define custom models, train and export them for inference.\n",
    "\n",
    "\n",
    "In this example, we combine pre-existing blocks and demonstrate how to create the [DLRM](https://arxiv.org/abs/1906.00091) architecture.\n",
    "\n",
    "\n",
    "### Learning objectives\n",
    "- Understand the building blocks of Merlin Models\n",
    "- Define a model architecture from scratch"
   ]
  },
  {
   "cell_type": "markdown",
   "id": "6b33d04c",
   "metadata": {
    "pycharm": {
     "name": "#%% md\n"
    }
   },
   "source": [
    "### Introduction to Merlin-models core building blocks"
   ]
  },
  {
   "cell_type": "markdown",
   "id": "75302fa1",
   "metadata": {
    "pycharm": {
     "name": "#%% md\n"
    }
   },
   "source": [
    "The [Block](https://nvidia-merlin.github.io/models/review/pr-294/generated/merlin.models.tf.Block.html#merlin.models.tf.Block) is the core abstraction in Merlin Models and is the class from which all blocks inherit.\n",
    "The class extends the [tf.keras.layers.Layer](https://www.tensorflow.org/api_docs/python/tf/keras/layers/Layer) base class and implements a number of properties that simplify the creation of custom blocks and models. These properties include the `Schema` object for determining the embedding dimensions, input shapes, and output shapes. Additionally, the `Block` has a `ModelContext` instance to store and retrieve public variables and share them with other blocks in the same model as additional meta-data. \n",
    "\n",
    "Before deep-diving into the definition of the DLRM architecture, let's start by listing the core components you need to know to define a model from scratch:"
   ]
  },
  {
   "cell_type": "markdown",
   "id": "68fd2a3f",
   "metadata": {
    "pycharm": {
     "name": "#%% md\n"
    }
   },
   "source": [
    "#### Features Blocks"
   ]
  },
  {
   "cell_type": "markdown",
   "id": "adf3e494",
   "metadata": {
    "pycharm": {
     "name": "#%% md\n"
    }
   },
   "source": [
    "They include input blocks to process various inputs based on their types and shapes. Merlin Models supports three main blocks: \n",
    "- `EmbeddingFeatures`: Input block for embedding-lookups for categorical features.\n",
    "- `SequenceEmbeddingFeatures`: Input block for embedding-lookups for sequential categorical features (3D tensors).\n",
    "- `ContinuousFeatures`: Input block for continuous features."
   ]
  },
  {
   "cell_type": "markdown",
   "id": "24c9e7bb",
   "metadata": {
    "pycharm": {
     "name": "#%% md\n"
    }
   },
   "source": [
    "#### Transformations Blocks"
   ]
  },
  {
   "cell_type": "markdown",
   "id": "4bee72b1",
   "metadata": {
    "pycharm": {
     "name": "#%% md\n"
    }
   },
   "source": [
    "They include various operators commonly used to transform tensors in various parts of the model, such as: \n",
    "\n",
    "- `ToDense`: It takes a dictionary of raw input tensors and transforms the sparse tensors into dense tensors.\n",
    "- `L2Norm`: It takes a single or a dictionary of hidden tensors and applies an L2-normalization along a given axis. \n",
    "- `LogitsTemperatureScaler`: It scales the output tensor of predicted logits to lower the model's confidence. "
   ]
  },
  {
   "cell_type": "markdown",
   "id": "cd9d24c3",
   "metadata": {
    "pycharm": {
     "name": "#%% md\n"
    }
   },
   "source": [
    "#### Aggregations Blocks"
   ]
  },
  {
   "cell_type": "markdown",
   "id": "4519b6b9",
   "metadata": {
    "pycharm": {
     "name": "#%% md\n"
    }
   },
   "source": [
    "They include common aggregation operations to combine multiple tensors, such as:\n",
    "- `ConcatFeatures`: Concatenate dictionary of tensors along a given dimension.\n",
    "- `StackFeatures`: Stack dictionary of tensors along a given dimension.\n",
    "- `CosineSimilarity`: Calculate the cosine similarity between two tensors. \n"
   ]
  },
  {
   "cell_type": "markdown",
   "id": "2fc30b6d",
   "metadata": {
    "pycharm": {
     "name": "#%% md\n"
    }
   },
   "source": [
    "#### Connects Methods"
   ]
  },
  {
   "cell_type": "markdown",
   "id": "4266112b",
   "metadata": {
    "pycharm": {
     "name": "#%% md\n"
    }
   },
   "source": [
    "The base class `Block` implements different connects methods that control how to link a given block to other blocks: \n",
    "\n",
    "- `connect`: Connect the block to other blocks sequentially. The output is a tensor returned by the last block. \n",
    "- `connect_branch`: Link the block to other blocks in parallel. The output is a dictionary containing the output tensor of each block.\n",
    "- `connect_with_shortcut`: Connect the block to other blocks sequentially and apply a skip connection with the block's output. \n",
    "- `connect_with_residual`: Connect the block to other blocks sequentially and apply a residual sum with the block's output."
   ]
  },
  {
   "cell_type": "markdown",
   "id": "d60fe383",
   "metadata": {
    "pycharm": {
     "name": "#%% md\n"
    }
   },
   "source": [
    "#### Prediction Output Blocks"
   ]
  },
  {
   "cell_type": "markdown",
   "id": "2673a0a5",
   "metadata": {
    "pycharm": {
     "name": "#%% md\n"
    }
   },
   "source": [
    "Merlin Models provides the base `ModelOutput` class that consists of one head of the model. It comprises a default loss and metrics related to the given prediction task. Merlin Models provides these blocks inheriting from `ModelOutput` for ranking models:  `BinaryOutput`, `CategoricalOutput`, and`RegressionOutput`. "
   ]
  },
  {
   "cell_type": "markdown",
   "id": "6cd80356",
   "metadata": {
    "pycharm": {
     "name": "#%% md\n"
    }
   },
   "source": [
    "### Implement the DLRM model with MovieLens-1M data"
   ]
  },
  {
   "cell_type": "markdown",
   "id": "37eaae67",
   "metadata": {
    "pycharm": {
     "name": "#%% md\n"
    }
   },
   "source": [
    "Now that we have introduced the core blocks of Merlin Models, let's take a look at how we can combine them to define the DLRM architecture:"
   ]
  },
  {
   "cell_type": "code",
   "execution_count": 2,
   "id": "863eb0c6",
   "metadata": {
    "pycharm": {
     "name": "#%%\n"
    }
   },
   "outputs": [
    {
     "name": "stderr",
     "output_type": "stream",
     "text": [
      "2023-01-10 01:48:02.407367: I tensorflow/core/util/util.cc:169] oneDNN custom operations are on. You may see slightly different numerical results due to floating-point round-off errors from different computation orders. To turn them off, set the environment variable `TF_ENABLE_ONEDNN_OPTS=0`.\n",
      "2023-01-10 01:48:04.740498: I tensorflow/core/platform/cpu_feature_guard.cc:193] This TensorFlow binary is optimized with oneAPI Deep Neural Network Library (oneDNN) to use the following CPU instructions in performance-critical operations:  AVX2 AVX512F AVX512_VNNI FMA\n",
      "To enable them in other operations, rebuild TensorFlow with the appropriate compiler flags.\n",
      "2023-01-10 01:48:06.833825: I tensorflow/core/common_runtime/gpu/gpu_device.cc:1532] Created device /job:localhost/replica:0/task:0/device:GPU:0 with 16249 MB memory:  -> device: 0, name: Quadro GV100, pci bus id: 0000:15:00.0, compute capability: 7.0\n",
      "2023-01-10 01:48:06.834836: I tensorflow/core/common_runtime/gpu/gpu_device.cc:1532] Created device /job:localhost/replica:0/task:0/device:GPU:1 with 30625 MB memory:  -> device: 1, name: Quadro GV100, pci bus id: 0000:2d:00.0, compute capability: 7.0\n"
     ]
    }
   ],
   "source": [
    "import os\n",
    "import tensorflow as tf\n",
    "import merlin.models.tf as mm\n",
    "\n",
    "from merlin.datasets.entertainment import get_movielens\n",
    "from merlin.schema.tags import Tags"
   ]
  },
  {
   "cell_type": "markdown",
   "id": "4dc9457f",
   "metadata": {
    "pycharm": {
     "name": "#%% md\n"
    }
   },
   "source": [
    "We use the `get_movielens` function to download, extract, and preprocess the MovieLens 1M  dataset:"
   ]
  },
  {
   "cell_type": "code",
   "execution_count": 3,
   "id": "3c342cb6",
   "metadata": {
    "pycharm": {
     "name": "#%%\n"
    }
   },
   "outputs": [
    {
     "name": "stderr",
     "output_type": "stream",
     "text": []
    }
   ],
   "source": [
    "DATA_FOLDER = os.getenv(\"DATA_FOLDER\", \"/workspace/data\")\n",
    "train, valid = get_movielens(variant=\"ml-1m\")"
   ]
  },
  {
   "cell_type": "markdown",
   "id": "210ccab6",
   "metadata": {
    "pycharm": {
     "name": "#%% md\n"
    }
   },
   "source": [
    "We display the first five rows of the validation data and use them to check the outputs of each building block: "
   ]
  },
  {
   "cell_type": "code",
   "execution_count": 4,
   "id": "bc3da2e9",
   "metadata": {
    "pycharm": {
     "name": "#%%\n"
    }
   },
   "outputs": [
    {
     "data": {
      "text/html": [
       "<div>\n",
       "<style scoped>\n",
       "    .dataframe tbody tr th:only-of-type {\n",
       "        vertical-align: middle;\n",
       "    }\n",
       "\n",
       "    .dataframe tbody tr th {\n",
       "        vertical-align: top;\n",
       "    }\n",
       "\n",
       "    .dataframe thead th {\n",
       "        text-align: right;\n",
       "    }\n",
       "</style>\n",
       "<table border=\"1\" class=\"dataframe\">\n",
       "  <thead>\n",
       "    <tr style=\"text-align: right;\">\n",
       "      <th></th>\n",
       "      <th>userId</th>\n",
       "      <th>movieId</th>\n",
       "      <th>title</th>\n",
       "      <th>genres</th>\n",
       "      <th>gender</th>\n",
       "      <th>age</th>\n",
       "      <th>occupation</th>\n",
       "      <th>zipcode</th>\n",
       "      <th>TE_age_rating</th>\n",
       "      <th>TE_gender_rating</th>\n",
       "      <th>TE_occupation_rating</th>\n",
       "      <th>TE_zipcode_rating</th>\n",
       "      <th>TE_movieId_rating</th>\n",
       "      <th>TE_userId_rating</th>\n",
       "      <th>rating_binary</th>\n",
       "      <th>rating</th>\n",
       "    </tr>\n",
       "  </thead>\n",
       "  <tbody>\n",
       "    <tr>\n",
       "      <th>0</th>\n",
       "      <td>2171</td>\n",
       "      <td>212</td>\n",
       "      <td>212</td>\n",
       "      <td>[3, 1, 8, 2]</td>\n",
       "      <td>1</td>\n",
       "      <td>1</td>\n",
       "      <td>5</td>\n",
       "      <td>1761</td>\n",
       "      <td>-0.531961</td>\n",
       "      <td>-0.565476</td>\n",
       "      <td>0.562521</td>\n",
       "      <td>-0.715586</td>\n",
       "      <td>-0.161680</td>\n",
       "      <td>-0.602049</td>\n",
       "      <td>0</td>\n",
       "      <td>3.0</td>\n",
       "    </tr>\n",
       "    <tr>\n",
       "      <th>1</th>\n",
       "      <td>140</td>\n",
       "      <td>696</td>\n",
       "      <td>696</td>\n",
       "      <td>[9, 4]</td>\n",
       "      <td>2</td>\n",
       "      <td>3</td>\n",
       "      <td>1</td>\n",
       "      <td>235</td>\n",
       "      <td>-1.102670</td>\n",
       "      <td>1.796455</td>\n",
       "      <td>-0.789295</td>\n",
       "      <td>-1.167663</td>\n",
       "      <td>-1.261503</td>\n",
       "      <td>-1.086495</td>\n",
       "      <td>0</td>\n",
       "      <td>3.0</td>\n",
       "    </tr>\n",
       "    <tr>\n",
       "      <th>2</th>\n",
       "      <td>345</td>\n",
       "      <td>944</td>\n",
       "      <td>943</td>\n",
       "      <td>[3, 5]</td>\n",
       "      <td>1</td>\n",
       "      <td>2</td>\n",
       "      <td>3</td>\n",
       "      <td>564</td>\n",
       "      <td>0.579212</td>\n",
       "      <td>-0.608484</td>\n",
       "      <td>0.323336</td>\n",
       "      <td>-1.677755</td>\n",
       "      <td>-3.698747</td>\n",
       "      <td>-1.434602</td>\n",
       "      <td>0</td>\n",
       "      <td>1.0</td>\n",
       "    </tr>\n",
       "    <tr>\n",
       "      <th>3</th>\n",
       "      <td>1528</td>\n",
       "      <td>107</td>\n",
       "      <td>107</td>\n",
       "      <td>[1, 6]</td>\n",
       "      <td>1</td>\n",
       "      <td>2</td>\n",
       "      <td>5</td>\n",
       "      <td>1391</td>\n",
       "      <td>0.597252</td>\n",
       "      <td>-0.487549</td>\n",
       "      <td>0.589000</td>\n",
       "      <td>0.173592</td>\n",
       "      <td>1.103607</td>\n",
       "      <td>0.167345</td>\n",
       "      <td>0</td>\n",
       "      <td>2.0</td>\n",
       "    </tr>\n",
       "    <tr>\n",
       "      <th>4</th>\n",
       "      <td>749</td>\n",
       "      <td>577</td>\n",
       "      <td>577</td>\n",
       "      <td>[1, 6]</td>\n",
       "      <td>2</td>\n",
       "      <td>1</td>\n",
       "      <td>12</td>\n",
       "      <td>6</td>\n",
       "      <td>-0.535291</td>\n",
       "      <td>1.796455</td>\n",
       "      <td>1.259219</td>\n",
       "      <td>-0.481290</td>\n",
       "      <td>0.149841</td>\n",
       "      <td>0.614107</td>\n",
       "      <td>1</td>\n",
       "      <td>4.0</td>\n",
       "    </tr>\n",
       "  </tbody>\n",
       "</table>\n",
       "</div>"
      ],
      "text/plain": [
       "   userId  movieId  title        genres  gender  age  occupation  zipcode  \\\n",
       "0    2171      212    212  [3, 1, 8, 2]       1    1           5     1761   \n",
       "1     140      696    696        [9, 4]       2    3           1      235   \n",
       "2     345      944    943        [3, 5]       1    2           3      564   \n",
       "3    1528      107    107        [1, 6]       1    2           5     1391   \n",
       "4     749      577    577        [1, 6]       2    1          12        6   \n",
       "\n",
       "   TE_age_rating  TE_gender_rating  TE_occupation_rating  TE_zipcode_rating  \\\n",
       "0      -0.531961         -0.565476              0.562521          -0.715586   \n",
       "1      -1.102670          1.796455             -0.789295          -1.167663   \n",
       "2       0.579212         -0.608484              0.323336          -1.677755   \n",
       "3       0.597252         -0.487549              0.589000           0.173592   \n",
       "4      -0.535291          1.796455              1.259219          -0.481290   \n",
       "\n",
       "   TE_movieId_rating  TE_userId_rating  rating_binary  rating  \n",
       "0          -0.161680         -0.602049              0     3.0  \n",
       "1          -1.261503         -1.086495              0     3.0  \n",
       "2          -3.698747         -1.434602              0     1.0  \n",
       "3           1.103607          0.167345              0     2.0  \n",
       "4           0.149841          0.614107              1     4.0  "
      ]
     },
     "execution_count": 4,
     "metadata": {},
     "output_type": "execute_result"
    }
   ],
   "source": [
    "valid.head()"
   ]
  },
  {
   "cell_type": "markdown",
   "id": "2044225b",
   "metadata": {
    "pycharm": {
     "name": "#%% md\n"
    }
   },
   "source": [
    "We convert the first five rows of the `valid` dataset to a batch of input tensors:  "
   ]
  },
  {
   "cell_type": "code",
   "execution_count": 5,
   "id": "932d878e",
   "metadata": {
    "pycharm": {
     "name": "#%%\n"
    }
   },
   "outputs": [
    {
     "name": "stderr",
     "output_type": "stream",
     "text": []
    },
    {
     "data": {
      "text/plain": [
       "<tf.Tensor: shape=(5, 1), dtype=int32, numpy=\n",
       "array([[2171],\n",
       "       [ 140],\n",
       "       [ 345],\n",
       "       [1528],\n",
       "       [ 749]], dtype=int32)>"
      ]
     },
     "execution_count": 5,
     "metadata": {},
     "output_type": "execute_result"
    }
   ],
   "source": [
    "batch = mm.sample_batch(valid, batch_size=5, shuffle=False, include_targets=False)\n",
    "batch[\"userId\"]"
   ]
  },
  {
   "cell_type": "markdown",
   "id": "064ea3e2",
   "metadata": {
    "pycharm": {
     "name": "#%% md\n"
    }
   },
   "source": [
    "#### Define the inputs block"
   ]
  },
  {
   "cell_type": "markdown",
   "id": "7e66aa30",
   "metadata": {
    "pycharm": {
     "name": "#%% md\n"
    }
   },
   "source": [
    "For the sake of simplicity, let's create a schema with a subset of the following continuous and categorical features: "
   ]
  },
  {
   "cell_type": "code",
   "execution_count": 6,
   "id": "0534f548",
   "metadata": {
    "pycharm": {
     "name": "#%%\n"
    }
   },
   "outputs": [],
   "source": [
    "sub_schema = train.schema.select_by_name(\n",
    "    [\n",
    "        \"userId\",\n",
    "        \"movieId\",\n",
    "        \"title\",\n",
    "        \"gender\",\n",
    "        \"TE_zipcode_rating\",\n",
    "        \"TE_movieId_rating\",\n",
    "        \"rating_binary\",\n",
    "    ]\n",
    ")"
   ]
  },
  {
   "cell_type": "markdown",
   "id": "573bc018",
   "metadata": {
    "pycharm": {
     "name": "#%% md\n"
    }
   },
   "source": [
    "We define the continuous layer based on the schema:"
   ]
  },
  {
   "cell_type": "code",
   "execution_count": 7,
   "id": "3a9dede5",
   "metadata": {
    "pycharm": {
     "name": "#%%\n"
    }
   },
   "outputs": [],
   "source": [
    "continuous_block = mm.ContinuousFeatures.from_schema(sub_schema, tags=Tags.CONTINUOUS)"
   ]
  },
  {
   "cell_type": "markdown",
   "id": "16320ff1",
   "metadata": {
    "pycharm": {
     "name": "#%% md\n"
    }
   },
   "source": [
    "We display the output tensor of the continuous block by using the data from the first batch. We can see the raw tensors of the continuous features:"
   ]
  },
  {
   "cell_type": "code",
   "execution_count": 8,
   "id": "ed672405",
   "metadata": {
    "pycharm": {
     "name": "#%%\n"
    }
   },
   "outputs": [
    {
     "data": {
      "text/plain": [
       "{'TE_zipcode_rating': <tf.Tensor: shape=(5, 1), dtype=float32, numpy=\n",
       " array([[-0.71558595],\n",
       "        [-1.1676626 ],\n",
       "        [-1.6777554 ],\n",
       "        [ 0.1735921 ],\n",
       "        [-0.48128992]], dtype=float32)>,\n",
       " 'TE_movieId_rating': <tf.Tensor: shape=(5, 1), dtype=float32, numpy=\n",
       " array([[-0.1616803 ],\n",
       "        [-1.2615032 ],\n",
       "        [-3.698747  ],\n",
       "        [ 1.103607  ],\n",
       "        [ 0.14984077]], dtype=float32)>}"
      ]
     },
     "execution_count": 8,
     "metadata": {},
     "output_type": "execute_result"
    }
   ],
   "source": [
    "continuous_block(batch)"
   ]
  },
  {
   "cell_type": "markdown",
   "id": "cc168c68",
   "metadata": {
    "pycharm": {
     "name": "#%% md\n"
    }
   },
   "source": [
    "We connect the continuous block to a `MLPBlock` instance to project them into the same dimensionality as the embedding width of categorical features:"
   ]
  },
  {
   "cell_type": "code",
   "execution_count": 9,
   "id": "98d68924",
   "metadata": {
    "pycharm": {
     "name": "#%%\n"
    }
   },
   "outputs": [
    {
     "data": {
      "text/plain": [
       "TensorShape([5, 64])"
      ]
     },
     "execution_count": 9,
     "metadata": {},
     "output_type": "execute_result"
    }
   ],
   "source": [
    "deep_continuous_block = continuous_block.connect(mm.MLPBlock([64]))\n",
    "deep_continuous_block(batch).shape"
   ]
  },
  {
   "cell_type": "markdown",
   "id": "edbe7006",
   "metadata": {
    "pycharm": {
     "name": "#%% md\n"
    }
   },
   "source": [
    "We define the categorical embedding block based on the schema:"
   ]
  },
  {
   "cell_type": "code",
   "execution_count": 10,
   "id": "c291ab58",
   "metadata": {
    "pycharm": {
     "name": "#%%\n"
    }
   },
   "outputs": [],
   "source": [
    "embedding_block = mm.EmbeddingFeatures.from_schema(sub_schema)"
   ]
  },
  {
   "cell_type": "markdown",
   "id": "7453628f",
   "metadata": {
    "pycharm": {
     "name": "#%% md\n"
    }
   },
   "source": [
    "We display the output tensor of the categorical embedding block using the data from the first batch. We can see the embeddings tensors of categorical features with a default dimension of 64:"
   ]
  },
  {
   "cell_type": "code",
   "execution_count": 11,
   "id": "fc0e02da",
   "metadata": {
    "pycharm": {
     "name": "#%%\n"
    }
   },
   "outputs": [
    {
     "data": {
      "text/plain": [
       "(dict_keys(['userId', 'movieId', 'title', 'gender']), TensorShape([5, 64]))"
      ]
     },
     "execution_count": 11,
     "metadata": {},
     "output_type": "execute_result"
    }
   ],
   "source": [
    "embeddings = embedding_block(batch)\n",
    "embeddings.keys(), embeddings[\"userId\"].shape"
   ]
  },
  {
   "cell_type": "markdown",
   "id": "8c4a6d1b",
   "metadata": {
    "pycharm": {
     "name": "#%% md\n"
    }
   },
   "source": [
    "Let's store the continuous and categorical representations in a single dictionary using a `ParallelBlock` instance:"
   ]
  },
  {
   "cell_type": "code",
   "execution_count": 12,
   "id": "5f2b0a00",
   "metadata": {
    "pycharm": {
     "name": "#%%\n"
    }
   },
   "outputs": [
    {
     "name": "stdout",
     "output_type": "stream",
     "text": [
      "Output shapes of DLRM input block:\n",
      "\tuserId : (5, 64)\n",
      "\tmovieId : (5, 64)\n",
      "\ttitle : (5, 64)\n",
      "\tgender : (5, 64)\n",
      "\tdeep_continuous : (5, 64)\n"
     ]
    }
   ],
   "source": [
    "dlrm_input_block = mm.ParallelBlock(\n",
    "    {\"embeddings\": embedding_block, \"deep_continuous\": deep_continuous_block}\n",
    ")\n",
    "print(\"Output shapes of DLRM input block:\")\n",
    "for key, val in dlrm_input_block(batch).items():\n",
    "    print(\"\\t%s : %s\" % (key, val.shape))"
   ]
  },
  {
   "cell_type": "markdown",
   "id": "33287714",
   "metadata": {
    "pycharm": {
     "name": "#%% md\n"
    }
   },
   "source": [
    "By looking at the output, we can see that the `ParallelBlock` class applies embedding and continuous blocks, in parallel, to the same input batch.  Additionally, it merges the resulting tensors into one dictionary."
   ]
  },
  {
   "cell_type": "markdown",
   "id": "524fd103",
   "metadata": {
    "pycharm": {
     "name": "#%% md\n"
    }
   },
   "source": [
    "#### Define the interaction block"
   ]
  },
  {
   "cell_type": "markdown",
   "id": "f8a34684",
   "metadata": {
    "pycharm": {
     "name": "#%% md\n"
    }
   },
   "source": [
    "Now that we have a vector representation of each input feature, we will create the DLRM interaction block. It consists of three operations: \n",
    "- Apply a dot product between all continuous and categorical features to learn pairwise interactions. \n",
    "- Concat the resulting pairwise interaction with the deep representation of conitnuous features (skip-connection). \n",
    "- Apply an `MLPBlock` with a series of dense layers to the concatenated tensor. "
   ]
  },
  {
   "cell_type": "markdown",
   "id": "3f895068",
   "metadata": {
    "pycharm": {
     "name": "#%% md\n"
    }
   },
   "source": [
    "First, we use the `connect_with_shortcut` method to create first two operations of the DLRM interaction block:"
   ]
  },
  {
   "cell_type": "code",
   "execution_count": 13,
   "id": "8218fc1a",
   "metadata": {
    "pycharm": {
     "name": "#%%\n"
    }
   },
   "outputs": [],
   "source": [
    "from merlin.models.tf.blocks.dlrm import DotProductInteractionBlock\n",
    "\n",
    "dlrm_interaction = dlrm_input_block.connect_with_shortcut(\n",
    "    DotProductInteractionBlock(), shortcut_filter=mm.Filter(\"deep_continuous\"), aggregation=\"concat\"\n",
    ")"
   ]
  },
  {
   "cell_type": "markdown",
   "id": "522dce49",
   "metadata": {
    "pycharm": {
     "name": "#%% md\n"
    }
   },
   "source": [
    "The `Filter` operation allows us to select the `deep_continuous` tensor from the `dlrm_input_block` outputs. "
   ]
  },
  {
   "cell_type": "markdown",
   "id": "731a613b",
   "metadata": {
    "pycharm": {
     "name": "#%% md\n"
    }
   },
   "source": [
    "The following diagram provides a visualization of the operations that we constructed in the `dlrm_interaction` object.\n",
    "\n",
    "<img src=\"./images/residual_interaction.png\"  width=\"30%\">\n"
   ]
  },
  {
   "cell_type": "code",
   "execution_count": 14,
   "id": "f2671a01",
   "metadata": {
    "pycharm": {
     "name": "#%%\n"
    }
   },
   "outputs": [
    {
     "data": {
      "text/plain": [
       "<tf.Tensor: shape=(5, 74), dtype=float32, numpy=\n",
       "array([[ 0.00000000e+00,  0.00000000e+00,  1.93288565e-01,\n",
       "         0.00000000e+00,  1.85869589e-01,  9.73711610e-02,\n",
       "         0.00000000e+00,  1.33227274e-01,  1.27707481e-01,\n",
       "         3.35276127e-04,  0.00000000e+00,  4.16821837e-02,\n",
       "         0.00000000e+00,  0.00000000e+00,  4.43421155e-02,\n",
       "         1.52445361e-01,  0.00000000e+00,  0.00000000e+00,\n",
       "         9.79247019e-02,  0.00000000e+00,  1.10079162e-03,\n",
       "         0.00000000e+00,  2.71281973e-03,  0.00000000e+00,\n",
       "         1.37151897e-01,  1.02079846e-01,  0.00000000e+00,\n",
       "         7.99615458e-02,  0.00000000e+00,  9.27205235e-02,\n",
       "         1.23061799e-03,  0.00000000e+00,  1.70713902e-01,\n",
       "         0.00000000e+00,  8.71599466e-02,  9.89967491e-03,\n",
       "         0.00000000e+00,  0.00000000e+00,  1.57242239e-01,\n",
       "         1.39202520e-01,  0.00000000e+00,  2.11612321e-02,\n",
       "         0.00000000e+00,  0.00000000e+00,  6.19618222e-02,\n",
       "         0.00000000e+00,  0.00000000e+00,  6.24348633e-02,\n",
       "         0.00000000e+00,  1.06878214e-01,  8.67929161e-02,\n",
       "         0.00000000e+00,  0.00000000e+00,  1.24249667e-01,\n",
       "         0.00000000e+00,  1.47114575e-01,  1.84176058e-01,\n",
       "         0.00000000e+00,  0.00000000e+00,  0.00000000e+00,\n",
       "         0.00000000e+00,  0.00000000e+00,  0.00000000e+00,\n",
       "         0.00000000e+00,  1.58287250e-02, -2.52369717e-02,\n",
       "        -7.51519576e-04, -5.56226037e-02, -9.16401204e-03,\n",
       "         4.34023421e-03, -8.31933506e-03, -2.02858588e-03,\n",
       "        -3.44855748e-02, -1.77974012e-02],\n",
       "       [ 1.44472644e-02,  5.74837774e-02,  5.21238685e-01,\n",
       "         0.00000000e+00,  3.75555277e-01,  0.00000000e+00,\n",
       "         2.21605808e-01,  3.27489704e-01,  6.30696416e-02,\n",
       "         0.00000000e+00,  1.29231408e-01,  1.55529499e-01,\n",
       "         0.00000000e+00,  0.00000000e+00,  0.00000000e+00,\n",
       "         4.20304537e-01,  0.00000000e+00,  0.00000000e+00,\n",
       "         9.14298892e-02,  1.28251910e-02,  0.00000000e+00,\n",
       "         0.00000000e+00,  0.00000000e+00,  0.00000000e+00,\n",
       "         2.70413011e-02,  3.29245478e-01,  0.00000000e+00,\n",
       "         2.87215173e-01,  0.00000000e+00,  0.00000000e+00,\n",
       "         0.00000000e+00,  2.03175247e-02,  3.15539926e-01,\n",
       "         0.00000000e+00,  4.37261343e-01,  4.43734266e-02,\n",
       "         0.00000000e+00,  0.00000000e+00,  4.72378850e-01,\n",
       "         0.00000000e+00,  0.00000000e+00,  1.28135398e-01,\n",
       "         0.00000000e+00,  1.36180833e-01,  6.16933256e-02,\n",
       "         0.00000000e+00,  0.00000000e+00,  0.00000000e+00,\n",
       "         0.00000000e+00,  2.91504920e-01,  4.14837003e-01,\n",
       "         9.94684696e-02,  0.00000000e+00,  3.01295727e-01,\n",
       "         0.00000000e+00,  5.25920212e-01,  4.81699675e-01,\n",
       "         0.00000000e+00,  3.81952226e-02,  0.00000000e+00,\n",
       "         0.00000000e+00,  1.51182577e-01,  0.00000000e+00,\n",
       "         0.00000000e+00, -4.86001372e-02, -1.03169922e-02,\n",
       "         5.37233204e-02, -7.83294365e-02,  9.15671606e-03,\n",
       "        -2.17590109e-03,  4.70164232e-02,  3.75321857e-03,\n",
       "        -6.75947173e-04, -4.17014165e-03],\n",
       "       [ 7.08196908e-02,  3.78650129e-01,  1.13808835e+00,\n",
       "         0.00000000e+00,  6.76229239e-01,  0.00000000e+00,\n",
       "         8.02692711e-01,  6.78692877e-01,  0.00000000e+00,\n",
       "         0.00000000e+00,  7.43867755e-01,  3.88921946e-01,\n",
       "         0.00000000e+00,  0.00000000e+00,  0.00000000e+00,\n",
       "         9.28238153e-01,  0.00000000e+00,  3.58849168e-01,\n",
       "         2.13456154e-03,  3.99174988e-01,  0.00000000e+00,\n",
       "         0.00000000e+00,  0.00000000e+00,  0.00000000e+00,\n",
       "         0.00000000e+00,  7.80621946e-01,  0.00000000e+00,\n",
       "         7.09003448e-01,  0.00000000e+00,  0.00000000e+00,\n",
       "         0.00000000e+00,  4.19765949e-01,  5.23288488e-01,\n",
       "         0.00000000e+00,  1.18605947e+00,  1.17108203e-01,\n",
       "         0.00000000e+00,  0.00000000e+00,  1.08671188e+00,\n",
       "         0.00000000e+00,  0.00000000e+00,  3.61076236e-01,\n",
       "         0.00000000e+00,  7.03222573e-01,  1.41314417e-02,\n",
       "         1.45038813e-01,  0.00000000e+00,  0.00000000e+00,\n",
       "         0.00000000e+00,  6.40241742e-01,  1.11257720e+00,\n",
       "         5.72651088e-01,  0.00000000e+00,  6.19230390e-01,\n",
       "         0.00000000e+00,  1.29610789e+00,  1.03463769e+00,\n",
       "         6.19799495e-02,  4.49257553e-01,  2.95641482e-01,\n",
       "         0.00000000e+00,  6.30545497e-01,  0.00000000e+00,\n",
       "         0.00000000e+00, -4.93167564e-02, -3.15470368e-01,\n",
       "         4.43703122e-02,  2.02106684e-02,  6.62924116e-03,\n",
       "        -1.07413772e-02, -1.98644400e-02,  8.39072280e-03,\n",
       "         2.27249265e-02,  1.71127990e-02],\n",
       "       [ 0.00000000e+00,  0.00000000e+00,  0.00000000e+00,\n",
       "         2.75904983e-01,  0.00000000e+00,  1.75966650e-01,\n",
       "         0.00000000e+00,  0.00000000e+00,  1.24053761e-01,\n",
       "         1.83343604e-01,  0.00000000e+00,  0.00000000e+00,\n",
       "         3.19434971e-01,  7.49713704e-02,  2.17855021e-01,\n",
       "         0.00000000e+00,  9.64960903e-02,  0.00000000e+00,\n",
       "         4.91746925e-02,  0.00000000e+00,  1.73377842e-01,\n",
       "         1.21430777e-01,  2.52151430e-01,  0.00000000e+00,\n",
       "         1.76641256e-01,  0.00000000e+00,  0.00000000e+00,\n",
       "         0.00000000e+00,  2.71520436e-01,  1.72208488e-01,\n",
       "         9.38300714e-02,  0.00000000e+00,  0.00000000e+00,\n",
       "         3.11371863e-01,  0.00000000e+00,  0.00000000e+00,\n",
       "         0.00000000e+00,  2.84701586e-02,  0.00000000e+00,\n",
       "         2.60322720e-01,  3.97734344e-03,  0.00000000e+00,\n",
       "         0.00000000e+00,  0.00000000e+00,  2.70173680e-02,\n",
       "         0.00000000e+00,  9.43048000e-02,  2.34453753e-01,\n",
       "         1.85419053e-01,  0.00000000e+00,  0.00000000e+00,\n",
       "         0.00000000e+00,  0.00000000e+00,  0.00000000e+00,\n",
       "         1.92810968e-01,  0.00000000e+00,  0.00000000e+00,\n",
       "         0.00000000e+00,  0.00000000e+00,  0.00000000e+00,\n",
       "         1.20894253e-01,  0.00000000e+00,  2.14165330e-01,\n",
       "         4.32761833e-02,  1.70429442e-02,  2.62627210e-02,\n",
       "        -4.32948992e-02,  6.26194626e-02, -3.39646228e-02,\n",
       "         1.45400483e-02,  7.81465042e-03, -8.72325525e-03,\n",
       "        -4.10041586e-03, -7.54561136e-03],\n",
       "       [ 0.00000000e+00,  0.00000000e+00,  7.66519830e-02,\n",
       "         0.00000000e+00,  1.06283434e-01,  1.13978274e-01,\n",
       "         0.00000000e+00,  6.10711798e-02,  1.23557970e-01,\n",
       "         4.47871238e-02,  0.00000000e+00,  5.35226148e-03,\n",
       "         0.00000000e+00,  0.00000000e+00,  8.53631198e-02,\n",
       "         5.80685399e-02,  0.00000000e+00,  0.00000000e+00,\n",
       "         8.35801065e-02,  0.00000000e+00,  4.29260135e-02,\n",
       "         2.06196308e-02,  6.32426515e-02,  0.00000000e+00,\n",
       "         1.43242419e-01,  2.64938213e-02,  0.00000000e+00,\n",
       "         1.31566655e-02,  0.00000000e+00,  1.09663248e-01,\n",
       "         2.36954838e-02,  0.00000000e+00,  1.05235331e-01,\n",
       "         0.00000000e+00,  0.00000000e+00,  0.00000000e+00,\n",
       "         0.00000000e+00,  0.00000000e+00,  4.98266704e-02,\n",
       "         1.65072232e-01,  0.00000000e+00,  0.00000000e+00,\n",
       "         0.00000000e+00,  0.00000000e+00,  5.18897325e-02,\n",
       "         0.00000000e+00,  0.00000000e+00,  1.02630779e-01,\n",
       "         0.00000000e+00,  4.15322781e-02,  0.00000000e+00,\n",
       "         0.00000000e+00,  0.00000000e+00,  5.80252223e-02,\n",
       "         0.00000000e+00,  2.48545967e-02,  7.69171044e-02,\n",
       "         0.00000000e+00,  0.00000000e+00,  0.00000000e+00,\n",
       "         0.00000000e+00,  0.00000000e+00,  0.00000000e+00,\n",
       "         0.00000000e+00,  2.96171978e-02, -4.01923805e-03,\n",
       "        -4.99690371e-03,  3.31057608e-02,  4.45843022e-03,\n",
       "         8.83976556e-03,  2.08980199e-02, -7.50811957e-03,\n",
       "        -1.51779782e-03,  1.19984746e-02]], dtype=float32)>"
      ]
     },
     "execution_count": 14,
     "metadata": {},
     "output_type": "execute_result"
    }
   ],
   "source": [
    "dlrm_interaction(batch)"
   ]
  },
  {
   "cell_type": "markdown",
   "id": "2a0fe1ef",
   "metadata": {
    "pycharm": {
     "name": "#%% md\n"
    }
   },
   "source": [
    "Then, we project the learned interaction using a series of dense layers:"
   ]
  },
  {
   "cell_type": "code",
   "execution_count": 15,
   "id": "adc0c81b",
   "metadata": {
    "pycharm": {
     "name": "#%%\n"
    }
   },
   "outputs": [
    {
     "data": {
      "text/plain": [
       "<tf.Tensor: shape=(5, 512), dtype=float32, numpy=\n",
       "array([[0.01001836, 0.        , 0.01265244, ..., 0.        , 0.01403767,\n",
       "        0.00218583],\n",
       "       [0.01719608, 0.        , 0.04947397, ..., 0.        , 0.01777297,\n",
       "        0.        ],\n",
       "       [0.07588126, 0.01986357, 0.18251413, ..., 0.        , 0.07191433,\n",
       "        0.        ],\n",
       "       [0.06161645, 0.        , 0.04086253, ..., 0.        , 0.01395844,\n",
       "        0.00620432],\n",
       "       [0.00864568, 0.        , 0.00794316, ..., 0.        , 0.01518907,\n",
       "        0.        ]], dtype=float32)>"
      ]
     },
     "execution_count": 15,
     "metadata": {},
     "output_type": "execute_result"
    }
   ],
   "source": [
    "deep_dlrm_interaction = dlrm_interaction.connect(mm.MLPBlock([64, 128, 512]))\n",
    "deep_dlrm_interaction(batch)"
   ]
  },
  {
   "cell_type": "markdown",
   "id": "d51615b0",
   "metadata": {
    "pycharm": {
     "name": "#%% md\n"
    }
   },
   "source": [
    "#### Define the Prediction block"
   ]
  },
  {
   "cell_type": "markdown",
   "id": "7dd62b7b",
   "metadata": {
    "pycharm": {
     "name": "#%% md\n"
    }
   },
   "source": [
    "At this stage, we have created the DLRM block that accepts a dictionary of categorical and continuous tensors as input. The output of this block is the interaction representation vector of shape `512`. The next step is to use this hidden representation to conduct a given prediction task. In our case, we use the label `rating_binary` and the objective is: to predict if a user `A` will give a high rating to a movie `B` or not. "
   ]
  },
  {
   "cell_type": "markdown",
   "id": "88115591",
   "metadata": {
    "pycharm": {
     "name": "#%% md\n"
    }
   },
   "source": [
    "We use the `BinaryOutput` class and evaluate the performances using the `AUC` metric."
   ]
  },
  {
   "cell_type": "code",
   "execution_count": 16,
   "id": "53ace5a2",
   "metadata": {},
   "outputs": [],
   "source": [
    "binary_task = mm.BinaryOutput(\"rating_binary\")"
   ]
  },
  {
   "cell_type": "markdown",
   "id": "a4912355",
   "metadata": {
    "pycharm": {
     "name": "#%% md\n"
    }
   },
   "source": [
    "#### Define, train, and evaluate the final DLRM Model"
   ]
  },
  {
   "cell_type": "markdown",
   "id": "bc44495a",
   "metadata": {
    "pycharm": {
     "name": "#%% md\n"
    }
   },
   "source": [
    "We connect the deep DLRM interaction to the binary task and the method automatically generates the `Model` class for us.\n",
    "We note that the `Model` class inherits from [tf.keras.Model](https://keras.io/api/models/model/) class:"
   ]
  },
  {
   "cell_type": "code",
   "execution_count": 17,
   "id": "87df4596",
   "metadata": {
    "pycharm": {
     "name": "#%%\n"
    }
   },
   "outputs": [
    {
     "data": {
      "text/plain": [
       "merlin.models.tf.models.base.Model"
      ]
     },
     "execution_count": 17,
     "metadata": {},
     "output_type": "execute_result"
    }
   ],
   "source": [
    "model = mm.Model(deep_dlrm_interaction, binary_task)\n",
    "type(model)"
   ]
  },
  {
   "cell_type": "markdown",
   "id": "8e280dc4",
   "metadata": {
    "pycharm": {
     "name": "#%% md\n"
    }
   },
   "source": [
    "We train the model using the built-in tf.keras `fit` method: "
   ]
  },
  {
   "cell_type": "code",
   "execution_count": 18,
   "id": "1de1489c",
   "metadata": {
    "pycharm": {
     "name": "#%%\n"
    }
   },
   "outputs": [
    {
     "name": "stderr",
     "output_type": "stream",
     "text": []
    },
    {
     "name": "stdout",
     "output_type": "stream",
     "text": [
      "782/782 [==============================] - 12s 12ms/step - loss: 0.5460 - auc: 0.7847 - regularization_loss: 0.0000e+00 - loss_batch: 0.5460\n"
     ]
    },
    {
     "data": {
      "text/plain": [
       "<keras.callbacks.History at 0x7efc3935e130>"
      ]
     },
     "execution_count": 18,
     "metadata": {},
     "output_type": "execute_result"
    }
   ],
   "source": [
    "model.compile(optimizer=\"adam\", metrics=[tf.keras.metrics.AUC()])\n",
    "model.fit(train, batch_size=1024, epochs=1)"
   ]
  },
  {
   "cell_type": "markdown",
   "id": "e0c3dacb",
   "metadata": {
    "pycharm": {
     "name": "#%% md\n"
    }
   },
   "source": [
    "Let's check out the model evaluation scores:"
   ]
  },
  {
   "cell_type": "code",
   "execution_count": 19,
   "id": "07c8ba33",
   "metadata": {
    "pycharm": {
     "name": "#%%\n"
    }
   },
   "outputs": [
    {
     "name": "stdout",
     "output_type": "stream",
     "text": [
      "196/196 [==============================] - 2s 8ms/step - loss: 0.5355 - auc: 0.7957 - regularization_loss: 0.0000e+00 - loss_batch: 0.5356\n"
     ]
    },
    {
     "data": {
      "text/plain": [
       "{'loss': 0.535469651222229,\n",
       " 'auc': 0.7957208752632141,\n",
       " 'regularization_loss': 0.0,\n",
       " 'loss_batch': 0.5560060143470764}"
      ]
     },
     "execution_count": 19,
     "metadata": {},
     "output_type": "execute_result"
    }
   ],
   "source": [
    "metrics = model.evaluate(valid, batch_size=1024, return_dict=True)\n",
    "metrics"
   ]
  },
  {
   "cell_type": "markdown",
   "id": "f2c7e334",
   "metadata": {
    "pycharm": {
     "name": "#%% md\n"
    }
   },
   "source": [
    "Note that the `evaluate()` progress bar shows the loss score for every batch, whereas the final loss stored in the dictionary represents the total loss across all batches. "
   ]
  },
  {
   "cell_type": "markdown",
   "id": "83d793d0",
   "metadata": {
    "pycharm": {
     "name": "#%% md\n"
    }
   },
   "source": [
    "Save the model so we can use it for serving predictions in production or for resuming training with new observations:"
   ]
  },
  {
   "cell_type": "code",
   "execution_count": 20,
   "id": "fb89d842",
   "metadata": {
    "pycharm": {
     "name": "#%%\n"
    }
   },
   "outputs": [
    {
     "name": "stdout",
     "output_type": "stream",
     "text": []
    },
    {
     "name": "stderr",
     "output_type": "stream",
     "text": []
    },
    {
     "name": "stdout",
     "output_type": "stream",
     "text": []
    },
    {
     "name": "stderr",
     "output_type": "stream",
     "text": []
    },
    {
     "name": "stdout",
     "output_type": "stream",
     "text": [
      "INFO:tensorflow:Assets written to: workspace/data/custom_dlrm/assets\n"
     ]
    },
    {
     "name": "stderr",
     "output_type": "stream",
     "text": []
    }
   ],
   "source": [
    "model.save(os.path.join(DATA_FOLDER, \"custom_dlrm\"))"
   ]
  },
  {
   "cell_type": "markdown",
   "id": "b3d4aaa3",
   "metadata": {
    "pycharm": {
     "name": "#%% md\n"
    }
   },
   "source": [
    "## Conclusion \n",
    "\n",
    "Merlin Models provides common and state-of-the-art RecSys architectures in a high-level API as well as all the required low-level building blocks for you to create your own architecture (input blocks, MLP layers, output blocks, loss functions, etc.). In this example, we explored a subset of these pre-existing blocks to create the DLRM model, but you can view our [documentation](https://nvidia-merlin.github.io/models/stable/) to discover more. You can also [contribute](https://github.com/NVIDIA-Merlin/models/blob/stable/CONTRIBUTING.md) to the library by submitting new RecSys architectures and custom building Blocks.  \n",
    "\n",
    "\n",
    "\n",
    "## Next steps\n",
    "To learn more about how to deploy the trained DLRM model, please visit [Merlin Systems](https://github.com/NVIDIA-Merlin/systems) library and execute the `Serving-Ranking-Models-With-Merlin-Systems.ipynb` notebook that deploys an ensemble of a [NVTabular](https://github.com/NVIDIA-Merlin/NVTabular) Workflow and a trained model from Merlin Models to [Triton Inference Server](https://github.com/triton-inference-server/server). \n",
    "\n",
    "\n"
   ]
  }
 ],
 "metadata": {
  "kernelspec": {
   "display_name": "Python 3 (ipykernel)",
   "language": "python",
   "name": "python3"
  },
  "language_info": {
   "codemirror_mode": {
    "name": "ipython",
    "version": 3
   },
   "file_extension": ".py",
   "mimetype": "text/x-python",
   "name": "python",
   "nbconvert_exporter": "python",
   "pygments_lexer": "ipython3",
   "version": "3.8.10"
  },
  "merlin": {
   "containers": [
    "nvcr.io/nvidia/merlin/merlin-tensorflow:latest"
   ]
  },
  "vscode": {
   "interpreter": {
    "hash": "a398807c5c2ed8e5ff9d9890488d007fa99cbabcec733962e21659a28c5da99b"
   }
  }
 },
 "nbformat": 4,
 "nbformat_minor": 5
}