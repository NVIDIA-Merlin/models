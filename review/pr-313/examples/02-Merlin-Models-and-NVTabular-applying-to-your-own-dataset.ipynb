{
 "cells": [
  {
   "cell_type": "code",
   "execution_count": 1,
   "id": "50385353",
   "metadata": {},
   "outputs": [],
   "source": [
    "# Copyright 2022 NVIDIA Corporation. All Rights Reserved.\n",
    "#\n",
    "# Licensed under the Apache License, Version 2.0 (the \"License\");\n",
    "# you may not use this file except in compliance with the License.\n",
    "# You may obtain a copy of the License at\n",
    "#\n",
    "#     http://www.apache.org/licenses/LICENSE-2.0\n",
    "#\n",
    "# Unless required by applicable law or agreed to in writing, software\n",
    "# distributed under the License is distributed on an \"AS IS\" BASIS,\n",
    "# WITHOUT WARRANTIES OR CONDITIONS OF ANY KIND, either express or implied.\n",
    "# See the License for the specific language governing permissions and\n",
    "# limitations under the License.\n",
    "# =============================================================================="
   ]
  },
  {
   "cell_type": "markdown",
   "id": "5f459bc8",
   "metadata": {},
   "source": [
    "<img src=\"http://developer.download.nvidia.com/compute/machine-learning/frameworks/nvidia_logo.png\" style=\"width: 90px; float: right;\">\n",
    "\n",
    "# Merlin Models and NVTabular integration example\n",
    "\n",
    "## Overview\n",
    "\n",
    "In [01-Getting-started.ipynb](01-Getting-started.ipynb), we provide a getting started example to train a DLRM model on the MovieLens 1M dataset. In this notebook, we will explore how Merlin Models uses the ETL output from [NVTabular](https://github.com/NVIDIA-Merlin/NVTabular/).<br><br>\n",
    "\n",
    "### Learning objectives\n",
    "\n",
    "This notebook provides details on how NVTabular and Merlin Models are linked together. We will discuss the concept of the `schema` file.\n",
    "\n",
    "## Merlin\n",
    "\n",
    "[Merlin](https://developer.nvidia.com/nvidia-merlin) is an open-source framework for building large-scale (deep learning) recommender systems. It is designed to support recommender systems end-to-end from ETL to training to deployment on CPU or GPU. Common deep learning frameworks are integrated such as TensorFlow (and PyTorch in the future). Among its key benefits are the easy-to-use and flexible APIs, availability of popular recsys architectures, accelerated training and evaluation with GPU and scaling to multi-GPU or multi-node systems.\n",
    "\n",
    "Merlin Models and NVTabular are components of Merlin. They are designed to work closely together. \n",
    "\n",
    "[Merlin Models](https://github.com/NVIDIA-Merlin/models/) is a library to make it easy for users in industry or academia to train and deploy recommender models with best practices baked into the library. Data Scientists and ML Engineers can easily train standard and state-of-the art models on their own dataset, getting high performance GPU accelerated models into production. Researchers can build custom models by incorporating standard components of deep learning recommender models and benchmark their new models on example offline datasets.\n",
    "\n",
    "[NVTabular](https://github.com/NVIDIA-Merlin/NVTabular/) is a feature engineering and preprocessing library for tabular data that is designed to easily manipulate terabyte scale datasets and train deep learning (DL) based recommender systems. It provides high-level abstraction to simplify code and accelerates computation on the GPU using the RAPIDS Dask-cuDF library under the hood.\n",
    "\n",
    "## Integration of NVTabular and Merlin Models\n",
    "\n",
    "<img src=\"images/schema.png\">\n",
    "\n",
    "In this notebook, we focus on an important piece of an ML pipeline: feature engineering and model training.\n",
    "\n",
    "If you use NVTabular for feature engineering, NVTabular will output (in addition to the preprocessed parquet files), a **schema** file describing the dataset structures. The schema contains columns statistics, tags and metadata collected by NVTabular. Here are some examples of such metadata computed by some NVTabular preprocessing ops:\n",
    "\n",
    "- **Categorify:** This op transforms categorical columns into contiguous integers (`0, ..., |C|`) for embedding layers. The columns that are processed by this op have save in the schema its cardinality `|C|` and are also tagged as **CATEGORICAL**.\n",
    "- **Normalize**: This op applies standardization to normalize continuous features. The mean and stddev of the columns are saved to the schema, also being tagged as **CONTINUOUS**.\n",
    "\n",
    "The users can also define their own tags in the preprocessing pipeline to group together related features, for further modeling purposes.\n",
    "\n",
    "**Let's take a look on the MovieLens 1M example.**"
   ]
  },
  {
   "cell_type": "code",
   "execution_count": 2,
   "id": "157fe18f",
   "metadata": {},
   "outputs": [
    {
     "name": "stderr",
     "output_type": "stream",
     "text": [
      "/home/gmoreira/projects/nvidia/nvidia_merlin/NVTabular/nvtabular/graph.py:23: FutureWarning: The `nvtabular.graph` module has moved to `merlin.dag`. Support for importing from `nvtabular.graph` is deprecated, and will be removed in a future version. Please update your imports to import from `merlin.dag`.\n",
      "  warnings.warn(\n",
      "/home/gmoreira/projects/nvidia/nvidia_merlin/NVTabular/nvtabular/io.py:23: FutureWarning: The `nvtabular.io` module has moved to `merlin.io`. Support for importing from `nvtabular.io` is deprecated, and will be removed in a future version. Please update your imports to import from `merlin.io`.\n",
      "  warnings.warn(\n",
      "/home/gmoreira/projects/nvidia/nvidia_merlin/NVTabular/nvtabular/utils.py:23: FutureWarning: The `nvtabular.utils` module has moved to `merlin.core.utils`. Support for importing from `nvtabular.utils` is deprecated, and will be removed in a future version. Please update your imports to import from `merlin.core.utils`.\n",
      "  warnings.warn(\n",
      "/home/gmoreira/projects/nvidia/nvidia_merlin/NVTabular/nvtabular/dispatch.py:23: FutureWarning: The `nvtabular.dispatch` module has moved to `merlin.core.dispatch`. Support for importing from `nvtabular.dispatch` is deprecated, and will be removed in a future version. Please update your imports to import from `merlin.core.dispatch`.\n",
      "  warnings.warn(\n",
      "2022-03-30 16:13:48.806422: I tensorflow/core/platform/cpu_feature_guard.cc:151] This TensorFlow binary is optimized with oneAPI Deep Neural Network Library (oneDNN) to use the following CPU instructions in performance-critical operations:  AVX2 AVX512F FMA\n",
      "To enable them in other operations, rebuild TensorFlow with the appropriate compiler flags.\n",
      "2022-03-30 16:13:50.977040: I tensorflow/core/common_runtime/gpu/gpu_device.cc:1525] Created device /job:localhost/replica:0/task:0/device:GPU:0 with 16249 MB memory:  -> device: 0, name: Quadro GV100, pci bus id: 0000:15:00.0, compute capability: 7.0\n",
      "2022-03-30 16:13:50.978170: I tensorflow/core/common_runtime/gpu/gpu_device.cc:1525] Created device /job:localhost/replica:0/task:0/device:GPU:1 with 30611 MB memory:  -> device: 1, name: Quadro GV100, pci bus id: 0000:2d:00.0, compute capability: 7.0\n"
     ]
    }
   ],
   "source": [
    "import os\n",
    "import shutil\n",
    "import pandas as pd\n",
    "import nvtabular as nvt\n",
    "from merlin.models.utils.example_utils import workflow_fit_transform\n",
    "import merlin.io\n",
    "\n",
    "import merlin.models.tf as mm\n",
    "\n",
    "from os import path\n",
    "from nvtabular import ops\n",
    "from merlin.core.utils import download_file\n",
    "from merlin.models.data.movielens import get_movielens\n",
    "from merlin.schema.tags import Tags"
   ]
  },
  {
   "cell_type": "markdown",
   "id": "382da96f",
   "metadata": {},
   "source": [
    "We will use the utils function to download, extract and preprocess the dataset."
   ]
  },
  {
   "cell_type": "code",
   "execution_count": 3,
   "id": "65ac055e",
   "metadata": {},
   "outputs": [
    {
     "name": "stderr",
     "output_type": "stream",
     "text": [
      "/home/gmoreira/miniconda3/envs/merlin_22.04_dev/lib/python3.8/site-packages/cudf/core/dataframe.py:1253: UserWarning: The deep parameter is ignored and is only included for pandas compatibility.\n",
      "  warnings.warn(\n"
     ]
    }
   ],
   "source": [
    "train, valid = get_movielens(variant=\"ml-1m\")"
   ]
  },
  {
   "cell_type": "markdown",
   "id": "24d956e4",
   "metadata": {},
   "source": [
    "## Understanding the Schema File and Structure"
   ]
  },
  {
   "cell_type": "markdown",
   "id": "5d9ba7f9",
   "metadata": {},
   "source": [
    "When NVTabular process the data, it will persist the schema as a file to disk. You can access the `schema` from the Merlin `Dataset` class (like below)."
   ]
  },
  {
   "cell_type": "markdown",
   "id": "16ceb1c9",
   "metadata": {},
   "source": [
    "The `schema` can be interpreted as a list of features in the dataset, where each element describes metadata of the feature. It contains the name, some properties (e.g. statistics) depending on the feature type and multiple tags. "
   ]
  },
  {
   "cell_type": "code",
   "execution_count": 4,
   "id": "b3bd70c3",
   "metadata": {},
   "outputs": [
    {
     "data": {
      "text/plain": [
       "[{'name': 'movieId', 'tags': {<Tags.CATEGORICAL: 'categorical'>, <Tags.ITEM: 'item'>, <Tags.ITEM_ID: 'item_id'>}, 'properties': {'freq_threshold': 0.0, 'start_index': 0.0, 'cat_path': './/categories/unique.movieId.parquet', 'embedding_sizes': {'cardinality': 3679.0, 'dimension': 159.0}, 'max_size': 0.0, 'num_buckets': None, 'domain': {'min': 0, 'max': 3679}}, 'dtype': dtype('int32'), 'is_list': False, 'is_ragged': False}, {'name': 'userId', 'tags': {<Tags.CATEGORICAL: 'categorical'>, <Tags.USER: 'user'>, <Tags.USER_ID: 'user_id'>}, 'properties': {'num_buckets': None, 'start_index': 0.0, 'max_size': 0.0, 'freq_threshold': 0.0, 'cat_path': './/categories/unique.userId.parquet', 'embedding_sizes': {'cardinality': 6041.0, 'dimension': 210.0}, 'domain': {'min': 0, 'max': 6041}}, 'dtype': dtype('int32'), 'is_list': False, 'is_ragged': False}, {'name': 'rating_binary', 'tags': {<Tags.BINARY_CLASSIFICATION: 'binary_classification'>, <Tags.TARGET: 'target'>}, 'properties': {}, 'dtype': dtype('int32'), 'is_list': False, 'is_ragged': False}]"
      ]
     },
     "execution_count": 4,
     "metadata": {},
     "output_type": "execute_result"
    }
   ],
   "source": [
    "train.schema"
   ]
  },
  {
   "cell_type": "markdown",
   "id": "61f74a04",
   "metadata": {},
   "source": [
    "We can select the features by **name**."
   ]
  },
  {
   "cell_type": "code",
   "execution_count": 5,
   "id": "9824190f",
   "metadata": {},
   "outputs": [
    {
     "data": {
      "text/plain": [
       "[{'name': 'userId', 'tags': {<Tags.CATEGORICAL: 'categorical'>, <Tags.USER: 'user'>, <Tags.USER_ID: 'user_id'>}, 'properties': {'num_buckets': None, 'start_index': 0.0, 'max_size': 0.0, 'freq_threshold': 0.0, 'cat_path': './/categories/unique.userId.parquet', 'embedding_sizes': {'cardinality': 6041.0, 'dimension': 210.0}, 'domain': {'min': 0, 'max': 6041}}, 'dtype': dtype('int32'), 'is_list': False, 'is_ragged': False}]"
      ]
     },
     "execution_count": 5,
     "metadata": {},
     "output_type": "execute_result"
    }
   ],
   "source": [
    "train.schema.select_by_name(\"userId\")"
   ]
  },
  {
   "cell_type": "markdown",
   "id": "7acc733d",
   "metadata": {},
   "source": [
    "We can also select features by **tags**. As we described earlier in the notebook, categorical and continuous features are automatically tagged when using ops like `Categorify()` and `Normalize()`.\n",
    "In our example preprocessing workflow for this dataset, we also set the `Tags` for the the `user` and `item` features, and also for the `user_id` and `item_id`, which are important for collaborative filtering architectures. "
   ]
  },
  {
   "cell_type": "markdown",
   "id": "8a9ece8e",
   "metadata": {},
   "source": [
    "Alternatively, we can select them by `Tag`. We add `column_names` to the object to receive only names without all the additional metadata."
   ]
  },
  {
   "cell_type": "code",
   "execution_count": 6,
   "id": "a6fc4e7e",
   "metadata": {},
   "outputs": [
    {
     "data": {
      "text/plain": [
       "['movieId', 'userId']"
      ]
     },
     "execution_count": 6,
     "metadata": {},
     "output_type": "execute_result"
    }
   ],
   "source": [
    "# All categorical features\n",
    "train.schema.select_by_tag(Tags.CATEGORICAL).column_names"
   ]
  },
  {
   "cell_type": "code",
   "execution_count": 7,
   "id": "45ccda0c",
   "metadata": {},
   "outputs": [
    {
     "data": {
      "text/plain": [
       "[]"
      ]
     },
     "execution_count": 7,
     "metadata": {},
     "output_type": "execute_result"
    }
   ],
   "source": [
    "# All continuous features\n",
    "train.schema.select_by_tag(Tags.CONTINUOUS).column_names"
   ]
  },
  {
   "cell_type": "code",
   "execution_count": 8,
   "id": "2c3e7813",
   "metadata": {},
   "outputs": [
    {
     "data": {
      "text/plain": [
       "['rating_binary']"
      ]
     },
     "execution_count": 8,
     "metadata": {},
     "output_type": "execute_result"
    }
   ],
   "source": [
    "# All targets\n",
    "train.schema.select_by_tag(Tags.TARGET).column_names"
   ]
  },
  {
   "cell_type": "code",
   "execution_count": 9,
   "id": "b1046b1f",
   "metadata": {},
   "outputs": [
    {
     "data": {
      "text/plain": [
       "['movieId']"
      ]
     },
     "execution_count": 9,
     "metadata": {},
     "output_type": "execute_result"
    }
   ],
   "source": [
    "# All features related to the item\n",
    "train.schema.select_by_tag(Tags.ITEM).column_names"
   ]
  },
  {
   "cell_type": "code",
   "execution_count": 10,
   "id": "66e7559b",
   "metadata": {},
   "outputs": [
    {
     "data": {
      "text/plain": [
       "['movieId']"
      ]
     },
     "execution_count": 10,
     "metadata": {},
     "output_type": "execute_result"
    }
   ],
   "source": [
    "# The item id feature name\n",
    "train.schema.select_by_tag(Tags.ITEM_ID).column_names"
   ]
  },
  {
   "cell_type": "code",
   "execution_count": 11,
   "id": "2f0e26e9",
   "metadata": {},
   "outputs": [
    {
     "data": {
      "text/plain": [
       "['userId']"
      ]
     },
     "execution_count": 11,
     "metadata": {},
     "output_type": "execute_result"
    }
   ],
   "source": [
    "# All features related to the user\n",
    "train.schema.select_by_tag(Tags.USER).column_names"
   ]
  },
  {
   "cell_type": "code",
   "execution_count": 12,
   "id": "e098f4c4",
   "metadata": {},
   "outputs": [
    {
     "data": {
      "text/plain": [
       "['userId']"
      ]
     },
     "execution_count": 12,
     "metadata": {},
     "output_type": "execute_result"
    }
   ],
   "source": [
    "# The user id feature name\n",
    "train.schema.select_by_tag(Tags.USER_ID).column_names"
   ]
  },
  {
   "cell_type": "markdown",
   "id": "e48dc304",
   "metadata": {},
   "source": [
    "We can also query all properties of a feature. Here we see that the cardinality (number of unique values) of the `movieId` feature is `3682`, which is an important information to build the corresponding embedding table."
   ]
  },
  {
   "cell_type": "code",
   "execution_count": 13,
   "id": "59f69c03",
   "metadata": {},
   "outputs": [
    {
     "data": {
      "text/plain": [
       "[{'name': 'movieId', 'tags': {<Tags.CATEGORICAL: 'categorical'>, <Tags.ITEM: 'item'>, <Tags.ITEM_ID: 'item_id'>}, 'properties': {'freq_threshold': 0.0, 'start_index': 0.0, 'cat_path': './/categories/unique.movieId.parquet', 'embedding_sizes': {'cardinality': 3679.0, 'dimension': 159.0}, 'max_size': 0.0, 'num_buckets': None, 'domain': {'min': 0, 'max': 3679}}, 'dtype': dtype('int32'), 'is_list': False, 'is_ragged': False}]"
      ]
     },
     "execution_count": 13,
     "metadata": {},
     "output_type": "execute_result"
    }
   ],
   "source": [
    "train.schema.select_by_tag(Tags.ITEM_ID)"
   ]
  },
  {
   "cell_type": "markdown",
   "id": "f361318c",
   "metadata": {},
   "source": [
    "The `schema` is a great interface between feature engineering and modeling libraries, describing the available features and their metadata/statistics. It makes it easy to build generic models definition, as the features names and types are automatically inferred from schema and represented properly in the neural networks architectures. That means that when the dataset changes (e.g. features are added or removed), you don't have to change the modeling code to leverage the new dataset!\n",
    "\n",
    "For example, the `DLRMModel` embeds categorical features and applies an MLP (called bottom MLP) to combine the continuous features. As another example, The `TwoTowerModel` (for retrieval) builds one MLP tower to combine user features and another MLP tower for the item features, factorizing both towers in the output."
   ]
  },
  {
   "cell_type": "markdown",
   "id": "1eaa0769",
   "metadata": {},
   "source": [
    "## Integrated pipeline with NVTabular and Merlin Models\n",
    "\n",
    "Now you have a solid understanding of the importance of the schema and how the schema works. \n",
    "\n",
    "The best way is to use [NVTabular](https://github.com/NVIDIA-Merlin/NVTabular/) for the feature engineering step, so that the schema file is automatically created for you. We will look on a minimal example for the MovieLens dataset."
   ]
  },
  {
   "cell_type": "markdown",
   "id": "cfa6e83c",
   "metadata": {},
   "source": [
    "### Download and prepare the data"
   ]
  },
  {
   "cell_type": "markdown",
   "id": "893b1e0b",
   "metadata": {},
   "source": [
    "We will download the dataset, if it is not already downloaded and cached locally."
   ]
  },
  {
   "cell_type": "code",
   "execution_count": 14,
   "id": "7588e8fd",
   "metadata": {},
   "outputs": [
    {
     "name": "stderr",
     "output_type": "stream",
     "text": [
      "downloading ml-1m.zip: 5.93MB [00:05, 1.07MB/s]                                 \n",
      "unzipping files: 100%|█████████████████████████| 5/5 [00:00<00:00, 43.21files/s]\n"
     ]
    }
   ],
   "source": [
    "input_path = os.environ.get(\n",
    "    \"INPUT_DATA_DIR\",\n",
    "    os.path.expanduser(\"~/merlin-models-data/movielens/\")\n",
    ")\n",
    "name = \"ml-1m\"\n",
    "download_file(\n",
    "    \"http://files.grouplens.org/datasets/movielens/ml-1m.zip\",\n",
    "    os.path.join(input_path, \"ml-1m.zip\"),\n",
    ")"
   ]
  },
  {
   "cell_type": "markdown",
   "id": "c6070a68",
   "metadata": {},
   "source": [
    "We preprocess the dataset and split it into training and validation."
   ]
  },
  {
   "cell_type": "code",
   "execution_count": 15,
   "id": "2a324b56",
   "metadata": {},
   "outputs": [
    {
     "name": "stderr",
     "output_type": "stream",
     "text": [
      "/home/gmoreira/miniconda3/envs/merlin_22.04_dev/lib/python3.8/site-packages/pandas/util/_decorators.py:311: ParserWarning: Falling back to the 'python' engine because the 'c' engine does not support regex separators (separators > 1 char and different from '\\s+' are interpreted as regex); you can avoid this warning by specifying engine='python'.\n",
      "  return func(*args, **kwargs)\n"
     ]
    }
   ],
   "source": [
    "ratings = pd.read_csv(\n",
    "    os.path.join(input_path, \"ml-1m/ratings.dat\"),\n",
    "    sep=\"::\",\n",
    "    names=[\"userId\", \"movieId\", \"rating\", \"timestamp\"],\n",
    ")\n",
    "# Shuffling rows\n",
    "ratings = ratings.sample(len(ratings), replace=False)\n",
    "\n",
    "num_valid = int(len(ratings) * 0.2)\n",
    "train = ratings[:-num_valid]\n",
    "valid = ratings[-num_valid:]\n",
    "train.to_parquet(os.path.join(input_path, name, \"train.parquet\"))\n",
    "valid.to_parquet(os.path.join(input_path, name, \"valid.parquet\"))"
   ]
  },
  {
   "cell_type": "markdown",
   "id": "58b8cca2",
   "metadata": {},
   "source": [
    "### Feature Engineering and Generating Schema File with NVTabular"
   ]
  },
  {
   "cell_type": "markdown",
   "id": "3356461f",
   "metadata": {},
   "source": [
    "We use NVTabular to define a preprocessing and feature engineering pipeline. \n",
    "\n",
    "NVTabular has already implemented multiple transformations, called `ops` that can be applied to a `ColumnGroup` from an overloaded `>>` operator.<br><br>\n",
    "**Example:**<br>\n",
    "```python\n",
    "features = [ column_name, ...] >> op1 >> op2 >> ...\n",
    "```\n",
    "\n",
    "We need to perform following steps:\n",
    "- Categorify userId and movieId, that the values are contiguous integers from 0 ... |C|\n",
    "- Transform the rating column ([1,5] interval) to a binary target by using as threshold the value `3`\n",
    "- Add Tags with `ops.AddMetadata` for `item_id`, `user_id`, `item`, `user` and `target`."
   ]
  },
  {
   "cell_type": "markdown",
   "id": "1de8ff5c",
   "metadata": {},
   "source": [
    "Categorify will transform categorical columns into contiguous integers (`0, ..., |C|`) for embedding layers. It collects the cardinality of the embedding table and tags it as categorical."
   ]
  },
  {
   "cell_type": "code",
   "execution_count": 16,
   "id": "d7ea1f71",
   "metadata": {},
   "outputs": [],
   "source": [
    "cat_features = [\"userId\", \"movieId\"] >> ops.Categorify(dtype=\"int32\")"
   ]
  },
  {
   "cell_type": "markdown",
   "id": "6e3a2c63",
   "metadata": {},
   "source": [
    "The tags for `user`, `userId`, `item` and `itemId` cannot be inferred from the dataset. Therefore, we need to provide them manually during the NVTabular workflow. Actually, the `DLRMModel` does not differentiate between `user` and `item` features. But other architectures, such as the `TwoTowerModel` depends on the `user` and `item` features distinction. We will show how to tag features manually in a NVTabular workflow below. "
   ]
  },
  {
   "cell_type": "code",
   "execution_count": 17,
   "id": "565595ef",
   "metadata": {},
   "outputs": [],
   "source": [
    "feats_itemId = cat_features[\"movieId\"] >> ops.TagAsItemID()\n",
    "feats_userId = cat_features[\"userId\"] >> ops.TagAsUserID()\n",
    "feats_target = (\n",
    "    nvt.ColumnSelector([\"rating\"])\n",
    "    >> ops.LambdaOp(lambda col: (col > 3).astype(\"int32\"))\n",
    "    >> ops.AddTags([\"binary_classification\", \"target\"])\n",
    "    >> nvt.ops.Rename(name=\"rating_binary\")\n",
    ")\n",
    "output = feats_itemId + feats_userId + feats_target"
   ]
  },
  {
   "cell_type": "markdown",
   "id": "c13a384b",
   "metadata": {},
   "source": [
    "We fit the workflow to our train set and apply to the valid and test sets."
   ]
  },
  {
   "cell_type": "code",
   "execution_count": 18,
   "id": "e8881f3c",
   "metadata": {},
   "outputs": [
    {
     "name": "stdout",
     "output_type": "stream",
     "text": [
      "CPU times: user 746 ms, sys: 109 ms, total: 855 ms\n",
      "Wall time: 904 ms\n"
     ]
    }
   ],
   "source": [
    "%%time\n",
    "train_path = os.path.join(input_path, name, \"train.parquet\")\n",
    "valid_path = os.path.join(input_path, name, \"valid.parquet\")\n",
    "output_path = os.path.join(input_path, name+\"_02\")\n",
    "\n",
    "workflow_fit_transform(output, train_path, valid_path, output_path)"
   ]
  },
  {
   "cell_type": "markdown",
   "id": "043c7bde",
   "metadata": {},
   "source": [
    "### Training a Recommender Model with Merlin Models"
   ]
  },
  {
   "cell_type": "markdown",
   "id": "13a09bb6",
   "metadata": {},
   "source": [
    "We can load the data as a Merlin Dataset object. The Dataset expect the schema as Protobuf text format (`.pbtxt`) file in the train/valid folder, which NVTabular automatically generates."
   ]
  },
  {
   "cell_type": "code",
   "execution_count": 19,
   "id": "e67f0b71",
   "metadata": {},
   "outputs": [],
   "source": [
    "train = merlin.io.Dataset(\n",
    "    os.path.join(input_path, name, \"train\"), engine=\"parquet\"\n",
    ")\n",
    "valid = merlin.io.Dataset(\n",
    "    os.path.join(input_path, name, \"valid\"), engine=\"parquet\"\n",
    ")"
   ]
  },
  {
   "cell_type": "markdown",
   "id": "3ee46b11",
   "metadata": {},
   "source": [
    "We can see that the `schema` object contains the features tags and the cardinalities of the categorical features.\n",
    "As we prepared only a minimal example, our schema has only tree features `movieId`, `userId` and `rating_binary`.|"
   ]
  },
  {
   "cell_type": "code",
   "execution_count": 20,
   "id": "f63da5d8",
   "metadata": {},
   "outputs": [
    {
     "data": {
      "text/plain": [
       "['movieId', 'userId', 'rating_binary']"
      ]
     },
     "execution_count": 20,
     "metadata": {},
     "output_type": "execute_result"
    }
   ],
   "source": [
    "train.schema.column_names"
   ]
  },
  {
   "cell_type": "code",
   "execution_count": 21,
   "id": "255f122a",
   "metadata": {},
   "outputs": [
    {
     "data": {
      "text/plain": [
       "[{'name': 'movieId', 'tags': {<Tags.CATEGORICAL: 'categorical'>, <Tags.ITEM: 'item'>, <Tags.ITEM_ID: 'item_id'>}, 'properties': {'embedding_sizes': {'dimension': 159.0, 'cardinality': 3679.0}, 'num_buckets': None, 'cat_path': './/categories/unique.movieId.parquet', 'start_index': 0.0, 'freq_threshold': 0.0, 'max_size': 0.0, 'domain': {'min': 0, 'max': 3679}}, 'dtype': dtype('int32'), 'is_list': False, 'is_ragged': False}, {'name': 'userId', 'tags': {<Tags.CATEGORICAL: 'categorical'>, <Tags.USER: 'user'>, <Tags.USER_ID: 'user_id'>}, 'properties': {'freq_threshold': 0.0, 'start_index': 0.0, 'embedding_sizes': {'dimension': 210.0, 'cardinality': 6041.0}, 'max_size': 0.0, 'num_buckets': None, 'cat_path': './/categories/unique.userId.parquet', 'domain': {'min': 0, 'max': 6041}}, 'dtype': dtype('int32'), 'is_list': False, 'is_ragged': False}, {'name': 'rating_binary', 'tags': {<Tags.BINARY_CLASSIFICATION: 'binary_classification'>, <Tags.TARGET: 'target'>}, 'properties': {}, 'dtype': dtype('int32'), 'is_list': False, 'is_ragged': False}]"
      ]
     },
     "execution_count": 21,
     "metadata": {},
     "output_type": "execute_result"
    }
   ],
   "source": [
    "train.schema"
   ]
  },
  {
   "cell_type": "markdown",
   "id": "00fabd60",
   "metadata": {},
   "source": [
    "Here we train our model."
   ]
  },
  {
   "cell_type": "code",
   "execution_count": 22,
   "id": "aeda7ece",
   "metadata": {},
   "outputs": [
    {
     "name": "stderr",
     "output_type": "stream",
     "text": [
      "2022-03-30 16:14:02.934419: W tensorflow/python/util/util.cc:368] Sets are not currently considered sequences, but this may change in the future, so consider avoiding using them.\n"
     ]
    },
    {
     "name": "stdout",
     "output_type": "stream",
     "text": [
      "782/782 [==============================] - 10s 10ms/step - rating_binary/binary_classification_task/precision: 0.7123 - rating_binary/binary_classification_task/recall: 0.8237 - rating_binary/binary_classification_task/binary_accuracy: 0.7073 - rating_binary/binary_classification_task/auc: 0.7696 - loss: 0.5618 - regularization_loss: 0.0000e+00 - total_loss: 0.5618\n"
     ]
    },
    {
     "data": {
      "text/plain": [
       "<keras.callbacks.History at 0x7f5c25972f70>"
      ]
     },
     "execution_count": 22,
     "metadata": {},
     "output_type": "execute_result"
    }
   ],
   "source": [
    "model = mm.DLRMModel(\n",
    "    train.schema,\n",
    "    embedding_dim=64,\n",
    "    bottom_block=mm.MLPBlock([128, 64]),\n",
    "    top_block=mm.MLPBlock([128, 64, 32]),\n",
    "    prediction_tasks=mm.BinaryClassificationTask(\n",
    "        train.schema.select_by_tag(Tags.TARGET).column_names[0]\n",
    "    ),\n",
    ")\n",
    "\n",
    "model.compile(optimizer=\"adam\")\n",
    "model.fit(train, batch_size=1024)"
   ]
  },
  {
   "cell_type": "markdown",
   "id": "1e6295e4",
   "metadata": {},
   "source": [
    "Let's run the evaluation on validations set. We use by default typical binary classification metrics -- Precision, Recall, Accuracy and AUC. But you also can provide your own metrics list by setting `BinaryClassificationTask(..., metrics=[])`."
   ]
  },
  {
   "cell_type": "code",
   "execution_count": 23,
   "id": "54261d01",
   "metadata": {},
   "outputs": [
    {
     "name": "stdout",
     "output_type": "stream",
     "text": [
      "\r",
      "  1/196 [..............................] - ETA: 2:25 - rating_binary/binary_classification_task/precision: 0.7256 - rating_binary/binary_classification_task/recall: 0.8053 - rating_binary/binary_classification_task/binary_accuracy: 0.7070 - rating_binary/binary_classification_task/auc: 0.7758 - loss: 0.5479 - regularization_loss: 0.0000e+00 - total_loss: 0.5479"
     ]
    },
    {
     "name": "stderr",
     "output_type": "stream",
     "text": [
      "2022-03-30 16:14:13.809903: W tensorflow/core/grappler/optimizers/loop_optimizer.cc:907] Skipping loop optimization for Merge node with control input: cond/then/_0/cond/cond/branch_executed/_101\n"
     ]
    },
    {
     "name": "stdout",
     "output_type": "stream",
     "text": [
      "196/196 [==============================] - 2s 8ms/step - rating_binary/binary_classification_task/precision: 0.7301 - rating_binary/binary_classification_task/recall: 0.8287 - rating_binary/binary_classification_task/binary_accuracy: 0.7249 - rating_binary/binary_classification_task/auc: 0.7889 - loss: 0.5419 - regularization_loss: 0.0000e+00 - total_loss: 0.5419\n"
     ]
    },
    {
     "data": {
      "text/plain": [
       "{'rating_binary/binary_classification_task/precision': 0.7300803065299988,\n",
       " 'rating_binary/binary_classification_task/recall': 0.828685998916626,\n",
       " 'rating_binary/binary_classification_task/binary_accuracy': 0.7249264121055603,\n",
       " 'rating_binary/binary_classification_task/auc': 0.7889100909233093,\n",
       " 'loss': 0.507973313331604,\n",
       " 'regularization_loss': 0.0,\n",
       " 'total_loss': 0.507973313331604}"
      ]
     },
     "execution_count": 23,
     "metadata": {},
     "output_type": "execute_result"
    }
   ],
   "source": [
    "metrics = model.evaluate(valid, batch_size=1024, return_dict=True)\n",
    "metrics"
   ]
  },
  {
   "cell_type": "markdown",
   "id": "36497b81",
   "metadata": {},
   "source": [
    "## Conclusion\n",
    "\n",
    "This example shows the easiness and flexilibity provided by the integration between NVTabular and Merlin Models.\n",
    "Feature engineering and model training are depending on each other. The `schema` object is a convient way to provide information from the available features for dynamically setting the model definition. It allows for the modeling code to capture changes in the available features and avoids hardcoding feature names.\n",
    "\n",
    "The dataset features are `tagged` automatically (and manually if needed) to group together features, for further modeling usage. \n",
    "\n",
    "The recommended practice is to use `NVTabular` for feature engineering, which generates a `schema` file. NVTabular can automatically add `Tags` for certrain operations. For example, the output of `Categorify` is always a categorical feature and will be tagged. Similar, the output of `Normalize` is always continuous. If you choose to use another preprocessing library, you can create the `schema` file manually, using either the Protobuf text format (`.pbtxt`) or `json` format.\n",
    "\n",
    "\n",
    "## Next Steps\n",
    "\n",
    "In the next notebooks, we will explore multiple ranking models with Merlin Models.\n",
    "\n",
    "You can learn more about NVTabular, its functionality and supported ops by visiting our [github repository](https://github.com/NVIDIA-Merlin/NVTabular/) or exploring the [examples](https://github.com/NVIDIA-Merlin/NVTabular/tree/main/examples), such as [`Getting Started MovieLens`](https://github.com/NVIDIA-Merlin/NVTabular/blob/main/examples/getting-started-movielens/02-ETL-with-NVTabular.ipynb) or [`Scaling Criteo`](https://github.com/NVIDIA-Merlin/NVTabular/tree/main/examples/scaling-criteo)."
   ]
  },
  {
   "cell_type": "code",
   "execution_count": null,
   "id": "f58cd570",
   "metadata": {},
   "outputs": [],
   "source": []
  }
 ],
 "metadata": {
  "kernelspec": {
   "display_name": "Python 3 (ipykernel)",
   "language": "python",
   "name": "python3"
  },
  "language_info": {
   "codemirror_mode": {
    "name": "ipython",
    "version": 3
   },
   "file_extension": ".py",
   "mimetype": "text/x-python",
   "name": "python",
   "nbconvert_exporter": "python",
   "pygments_lexer": "ipython3",
   "version": "3.8.13"
  }
 },
 "nbformat": 4,
 "nbformat_minor": 5
}
