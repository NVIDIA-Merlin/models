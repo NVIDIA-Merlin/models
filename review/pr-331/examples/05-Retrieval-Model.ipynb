{
 "cells": [
  {
   "cell_type": "code",
   "execution_count": 1,
   "id": "c4b5dbee",
   "metadata": {},
   "outputs": [],
   "source": [
    "# Copyright 2021 NVIDIA Corporation. All Rights Reserved.\n",
    "#\n",
    "# Licensed under the Apache License, Version 2.0 (the \"License\");\n",
    "# you may not use this file except in compliance with the License.\n",
    "# You may obtain a copy of the License at\n",
    "#\n",
    "#     http://www.apache.org/licenses/LICENSE-2.0\n",
    "#\n",
    "# Unless required by applicable law or agreed to in writing, software\n",
    "# distributed under the License is distributed on an \"AS IS\" BASIS,\n",
    "# WITHOUT WARRANTIES OR CONDITIONS OF ANY KIND, either express or implied.\n",
    "# See the License for the specific language governing permissions and\n",
    "# limitations under the License.\n",
    "# ================================"
   ]
  },
  {
   "cell_type": "markdown",
   "id": "6b97ee6f",
   "metadata": {},
   "source": [
    "## Two-Stage Recommender Systems\n",
    "\n",
    "In large scale recommender systems pipelines, the size of the item catalog (number of unique items) might be in the order of millions. At such scale, a typical setup is having two-stage pipeline, where a faster candidate retrieval model quickly extracts thousands of relevant items and a then a more powerful ranking model (i.e. with more features and more powerful architecture) ranks the top-k items that are going to be displayed to the user. For ML-based candidate retrieval model, as it needs to quickly score millions of items for a given user, a popular choices are models that can produce recommendation scores by just computing the dot product the user embeddings and item embeddings. Popular choices of such models are **Matrix Factorization**, which learns low-rank user and item embeddings, and the **Two-Tower architecture**, which is a neural network with two MLP towers where both user and item features are fed to generate user and item embeddings in the output."
   ]
  },
  {
   "cell_type": "markdown",
   "id": "f9d96b9c",
   "metadata": {},
   "source": [
    "\n",
    "### Dataset\n",
    "\n",
    "In this notebook, we are building a Two-Tower model for Item Retrieval task using the Ali-CCP: Alibaba Click and Conversion Prediction dataset. To download the Ali-CCP training and test datasets visit [tianchi.aliyun.com](https://tianchi.aliyun.com/dataset/dataDetail?dataId=408#1) website. We have curated the raw dataset using this [script]() and generated the parquet files that we will use for this example.\n",
    "\n",
    "### Learning objectives\n",
    "- Preparing the data with NVTabular\n",
    "- Training and evaluating Two-Tower model with Merlin Models\n",
    "- Exporting the model for deployment"
   ]
  },
  {
   "cell_type": "markdown",
   "id": "1e85d64a",
   "metadata": {},
   "source": [
    "### Feature Engineering with NVTabular"
   ]
  },
  {
   "cell_type": "code",
   "execution_count": 2,
   "id": "40288cdc",
   "metadata": {},
   "outputs": [
    {
     "name": "stderr",
     "output_type": "stream",
     "text": [
      "2022-03-25 18:21:09.740734: I tensorflow/core/platform/cpu_feature_guard.cc:151] This TensorFlow binary is optimized with oneAPI Deep Neural Network Library (oneDNN) to use the following CPU instructions in performance-critical operations:  AVX2 AVX512F FMA\n",
      "To enable them in other operations, rebuild TensorFlow with the appropriate compiler flags.\n",
      "2022-03-25 18:21:10.876420: I tensorflow/core/common_runtime/gpu/gpu_process_state.cc:214] Using CUDA malloc Async allocator for GPU: 0\n",
      "2022-03-25 18:21:10.876553: I tensorflow/core/common_runtime/gpu/gpu_device.cc:1525] Created device /job:localhost/replica:0/task:0/device:GPU:0 with 16254 MB memory:  -> device: 0, name: Quadro GV100, pci bus id: 0000:15:00.0, compute capability: 7.0\n"
     ]
    }
   ],
   "source": [
    "import os\n",
    "\n",
    "os.environ[\"TF_GPU_ALLOCATOR\"] = \"cuda_malloc_async\"\n",
    "import cudf\n",
    "import glob\n",
    "import gc\n",
    "\n",
    "import nvtabular as nvt\n",
    "from nvtabular.ops import *\n",
    "from merlin.models.utils.example_utils import workflow_fit_transform\n",
    "\n",
    "from merlin.schema.tags import Tags\n",
    "from merlin.schema import Schema\n",
    "\n",
    "import merlin.models.tf as mm\n",
    "import merlin.models.tf.dataset as tf_dataloader\n",
    "\n",
    "from merlin.io.dataset import Dataset\n",
    "from merlin.schema.io.tensorflow_metadata import TensorflowMetadata\n",
    "from merlin.models.tf.blocks.core.aggregation import CosineSimilarity\n",
    "\n",
    "import tensorflow as tf"
   ]
  },
  {
   "cell_type": "code",
   "execution_count": 3,
   "id": "8b84adfa",
   "metadata": {},
   "outputs": [],
   "source": [
    "# disable INFO and DEBUG logging everywhere\n",
    "import logging\n",
    "\n",
    "logging.disable(logging.WARNING)"
   ]
  },
  {
   "cell_type": "markdown",
   "id": "b6c86be5",
   "metadata": {},
   "source": [
    "First, we define our input and output paths. We will use the parquet files in the test folder to validate our trained model."
   ]
  },
  {
   "cell_type": "code",
   "execution_count": 4,
   "id": "6ee65a80",
   "metadata": {},
   "outputs": [],
   "source": [
    "DATA_FOLDER = os.environ.get(\"DATA_FOLDER\", \"/workspace/data/\")\n",
    "train_path = os.path.join(DATA_FOLDER, \"train\", \"*.parquet\")\n",
    "valid_path = os.path.join(DATA_FOLDER, \"test\", \"*.parquet\")\n",
    "output_path = \"/workspace/data/processed/\""
   ]
  },
  {
   "cell_type": "markdown",
   "id": "507e153d",
   "metadata": {},
   "source": [
    "ETL Workflow"
   ]
  },
  {
   "cell_type": "markdown",
   "id": "fd747798",
   "metadata": {},
   "source": [
    "We keep only positive interactions where clicks==1 in the dataset with `Filter()` op."
   ]
  },
  {
   "cell_type": "code",
   "execution_count": 5,
   "id": "6deb8960",
   "metadata": {},
   "outputs": [
    {
     "name": "stderr",
     "output_type": "stream",
     "text": [
      "/usr/local/lib/python3.8/dist-packages/cudf/core/dataframe.py:1253: UserWarning: The deep parameter is ignored and is only included for pandas compatibility.\n",
      "  warnings.warn(\n"
     ]
    }
   ],
   "source": [
    "user_id = [\"user_id\"] >> Categorify() >> TagAsUserID()\n",
    "item_id = [\"item_id\"] >> Categorify() >> TagAsItemID()\n",
    "\n",
    "item_features = [\"item_category\", \"item_shop\", \"item_brand\"] >> Categorify() >> TagAsItemFeatures()\n",
    "\n",
    "user_features = (\n",
    "    [\n",
    "        \"user_shops\",\n",
    "        \"user_profile\",\n",
    "        \"user_group\",\n",
    "        \"user_gender\",\n",
    "        \"user_age\",\n",
    "        \"user_consumption_2\",\n",
    "        \"user_is_occupied\",\n",
    "        \"user_geography\",\n",
    "        \"user_intentions\",\n",
    "        \"user_brands\",\n",
    "        \"user_categories\",\n",
    "    ]\n",
    "    >> Categorify()\n",
    "    >> TagAsUserFeatures()\n",
    ")\n",
    "\n",
    "inputs = user_id + item_id + item_features + user_features + [\"click\"]\n",
    "\n",
    "outputs = inputs >> Filter(f=lambda df: df[\"click\"] == 1)\n",
    "\n",
    "workflow_fit_transform(outputs, train_path, valid_path, output_path)"
   ]
  },
  {
   "cell_type": "markdown",
   "id": "d075989f",
   "metadata": {
    "tags": []
   },
   "source": [
    "## Building a Two-Tower Model with Merlin Models"
   ]
  },
  {
   "cell_type": "markdown",
   "id": "5a50fa43",
   "metadata": {},
   "source": [
    "We will use Two-Tower Model for item retrieval task. Real-world large scale recommender systems have hundreds of millions of items (products) and users. Thus, these systems often composed of two stages: candidate generation (retrieval) and ranking (scoring the retrieved items). At candidate generation step, a subset of relevant items from large item corpus is retrieved. You can read more about two stage Recommender Systems here. In this example, we're going to focus on the retrieval stage.\n",
    "\n",
    "A Two-Tower Model consists of item (candidate) and user (query) encoder towers. With two towers, the model can learn representations (embeddings) for queries and candidates separately. \n",
    "\n",
    "<img src=\"./images/TwoTower.png\"  width=\"30%\">\n",
    "\n",
    "Image Adapted from: [Off-policy Learning in Two-stage Recommender Systems](https://dl.acm.org/doi/abs/10.1145/3366423.3380130)"
   ]
  },
  {
   "cell_type": "markdown",
   "id": "b9fd9c08",
   "metadata": {},
   "source": [
    "We use the `schema` object to define our model."
   ]
  },
  {
   "cell_type": "code",
   "execution_count": 6,
   "id": "d11ad9d7",
   "metadata": {},
   "outputs": [],
   "source": [
    "train = Dataset(os.path.join(output_path, \"train\", \"*.parquet\"), part_size=\"500MB\")\n",
    "valid = Dataset(os.path.join(output_path, \"valid\", \"*.parquet\"), part_size=\"500MB\")\n",
    "\n",
    "schema = train.schema"
   ]
  },
  {
   "cell_type": "code",
   "execution_count": 7,
   "id": "affd12f2",
   "metadata": {},
   "outputs": [],
   "source": [
    "schema = schema.select_by_tag([Tags.ITEM_ID, Tags.USER_ID, Tags.ITEM, Tags.USER])"
   ]
  },
  {
   "cell_type": "markdown",
   "id": "e1ad27ba",
   "metadata": {},
   "source": [
    "We can print out the feature column names."
   ]
  },
  {
   "cell_type": "code",
   "execution_count": 8,
   "id": "90c74f55",
   "metadata": {},
   "outputs": [
    {
     "data": {
      "text/plain": [
       "['user_id',\n",
       " 'item_id',\n",
       " 'item_category',\n",
       " 'item_shop',\n",
       " 'item_brand',\n",
       " 'user_shops',\n",
       " 'user_profile',\n",
       " 'user_group',\n",
       " 'user_gender',\n",
       " 'user_age',\n",
       " 'user_consumption_2',\n",
       " 'user_is_occupied',\n",
       " 'user_geography',\n",
       " 'user_intentions',\n",
       " 'user_brands',\n",
       " 'user_categories']"
      ]
     },
     "execution_count": 8,
     "metadata": {},
     "output_type": "execute_result"
    }
   ],
   "source": [
    "schema.column_names"
   ]
  },
  {
   "cell_type": "markdown",
   "id": "e63f259d",
   "metadata": {},
   "source": [
    "We expect the label names to be empty."
   ]
  },
  {
   "cell_type": "code",
   "execution_count": 9,
   "id": "eb4e5c0a",
   "metadata": {},
   "outputs": [
    {
     "data": {
      "text/plain": [
       "[]"
      ]
     },
     "execution_count": 9,
     "metadata": {},
     "output_type": "execute_result"
    }
   ],
   "source": [
    "label_names = schema.select_by_tag(Tags.TARGET).column_names\n",
    "label_names"
   ]
  },
  {
   "cell_type": "markdown",
   "id": "66d58a44",
   "metadata": {},
   "source": [
    "### Negative sampling\n",
    "Many datasets for recommender systems contains implicit feedback, with logs of user interactions like clicks, add-to-cart, purchases, music listening events, rather than explicit ratings that reflects user preferences over items. To be able to learn from implicit feedback, we use the general (and naive) assumption that the interacted items are more relevant for the user than the non-interacted ones.\n",
    "In Merlin Models we provide some scalable negative sampling algorithms for the Item Retrieval Task. In particular, we use in this example the in-batch sampling algorithm which uses the items interacted by other users as negatives within the same mini-batch."
   ]
  },
  {
   "cell_type": "markdown",
   "id": "3b9db0ce",
   "metadata": {},
   "source": [
    "### Building the Model"
   ]
  },
  {
   "cell_type": "markdown",
   "id": "08ff63bd",
   "metadata": {},
   "source": [
    "Now, let's build our Two-Tower model. In a nutshell, we aggregate all user features to feed in user tower and feed the item features to the item tower. Then we compute the positive score by multiplying the user embedding with the item embedding and sample negative items (read more about negative sampling [here](https://openreview.net/pdf?id=824xC-SgWgU) and [here](https://medium.com/mlearning-ai/overview-negative-sampling-on-recommendation-systems-230a051c6cd7)), whose item embeddings are also multiplied by the user embedding. Then we apply the loss function on top of the positive and negative scores."
   ]
  },
  {
   "cell_type": "code",
   "execution_count": 10,
   "id": "dd13f885",
   "metadata": {},
   "outputs": [],
   "source": [
    "model = mm.TwoTowerModel(\n",
    "    schema,\n",
    "    query_tower=mm.MLPBlock([128, 64], no_activation_last_layer=True),\n",
    "    loss=\"categorical_crossentropy\",\n",
    "    samplers=[mm.InBatchSampler()],\n",
    "    embedding_options=mm.EmbeddingOptions(infer_embedding_sizes=True),\n",
    "    metrics=[mm.RecallAt(10), mm.NDCGAt(10)],\n",
    ")"
   ]
  },
  {
   "cell_type": "markdown",
   "id": "ac6b8342",
   "metadata": {},
   "source": [
    "Let's explain the parameters in the TwoTowerModel():\n",
    "- no_activation_last_layer: when set True, no activation is used for top hidden layer. Learn more [here](https://storage.googleapis.com/pub-tools-public-publication-data/pdf/b9f4e78a8830fe5afcf2f0452862fb3c0d6584ea.pdf).\n",
    "- infer_embedding_sizes: when set True, automatically defines the embedding dimension from the feature cardinality in the schema\n",
    "\n",
    "**Metrics:**\n",
    "\n",
    "The following information retrieval metrics are used to compute the Top-10 accuracy of recommendation lists containing all items:\n",
    "\n",
    "- **Normalized Discounted Cumulative Gain (NDCG@10)**: NDCG accounts for rank of the relevant item in the recommendation list and is a more fine-grained metric than HR, which only verifies whether the relevant item is among the top-k items.\n",
    "\n",
    "- **Recall@10**: Also known as HitRate@n when there is only one relevant item in the recommendation list. Recall just verifies whether the relevant item is among the top-n items."
   ]
  },
  {
   "cell_type": "markdown",
   "id": "9f8c8cd0",
   "metadata": {},
   "source": [
    "We need to initialize the dataloaders."
   ]
  },
  {
   "cell_type": "code",
   "execution_count": 11,
   "id": "9a618889",
   "metadata": {},
   "outputs": [
    {
     "name": "stderr",
     "output_type": "stream",
     "text": [
      "2022-03-25 18:21:49.247382: W tensorflow/python/util/util.cc:368] Sets are not currently considered sequences, but this may change in the future, so consider avoiding using them.\n"
     ]
    },
    {
     "name": "stdout",
     "output_type": "stream",
     "text": [
      "Epoch 1/5\n",
      "382/384 [============================>.] - ETA: 0s - recall_at_10: 0.0024 - ndcg_10: 0.0011 - loss: 8.3225 - regularization_loss: 0.0000e+00 - total_loss: 8.3225"
     ]
    },
    {
     "name": "stderr",
     "output_type": "stream",
     "text": [
      "2022-03-25 18:22:08.000481: W tensorflow/core/framework/cpu_allocator_impl.cc:82] Allocation of 1034311152 exceeds 10% of free system memory.\n",
      "2022-03-25 18:22:11.491670: W tensorflow/core/framework/cpu_allocator_impl.cc:82] Allocation of 1034311152 exceeds 10% of free system memory.\n",
      "2022-03-25 18:22:21.411679: W tensorflow/core/grappler/optimizers/loop_optimizer.cc:907] Skipping loop optimization for Merge node with control input: cond/then/_0/cond/cond/branch_executed/_184\n"
     ]
    },
    {
     "name": "stdout",
     "output_type": "stream",
     "text": [
      "384/384 [==============================] - 37s 80ms/step - recall_at_10: 0.0024 - ndcg_10: 0.0011 - loss: 8.3196 - regularization_loss: 0.0000e+00 - total_loss: 8.3196 - val_recall_at_10: 0.0025 - val_ndcg_10: 0.0011 - val_loss: 7.4208 - val_regularization_loss: 0.0000e+00 - val_total_loss: 7.4208\n",
      "Epoch 2/5\n",
      "382/384 [============================>.] - ETA: 0s - recall_at_10: 0.0024 - ndcg_10: 0.0011 - loss: 8.3217 - regularization_loss: 0.0000e+00 - total_loss: 8.3217"
     ]
    },
    {
     "name": "stderr",
     "output_type": "stream",
     "text": [
      "2022-03-25 18:22:38.212795: W tensorflow/core/framework/cpu_allocator_impl.cc:82] Allocation of 1034311152 exceeds 10% of free system memory.\n",
      "2022-03-25 18:22:41.619888: W tensorflow/core/framework/cpu_allocator_impl.cc:82] Allocation of 1034311152 exceeds 10% of free system memory.\n"
     ]
    },
    {
     "name": "stdout",
     "output_type": "stream",
     "text": [
      "384/384 [==============================] - 28s 71ms/step - recall_at_10: 0.0024 - ndcg_10: 0.0011 - loss: 8.3188 - regularization_loss: 0.0000e+00 - total_loss: 8.3188 - val_recall_at_10: 0.0025 - val_ndcg_10: 0.0012 - val_loss: 7.4200 - val_regularization_loss: 0.0000e+00 - val_total_loss: 7.4200\n",
      "Epoch 3/5\n",
      "382/384 [============================>.] - ETA: 0s - recall_at_10: 0.0024 - ndcg_10: 0.0011 - loss: 8.3210 - regularization_loss: 0.0000e+00 - total_loss: 8.3210"
     ]
    },
    {
     "name": "stderr",
     "output_type": "stream",
     "text": [
      "2022-03-25 18:23:05.813015: W tensorflow/core/framework/cpu_allocator_impl.cc:82] Allocation of 1034311152 exceeds 10% of free system memory.\n"
     ]
    },
    {
     "name": "stdout",
     "output_type": "stream",
     "text": [
      "384/384 [==============================] - 28s 72ms/step - recall_at_10: 0.0024 - ndcg_10: 0.0011 - loss: 8.3181 - regularization_loss: 0.0000e+00 - total_loss: 8.3181 - val_recall_at_10: 0.0025 - val_ndcg_10: 0.0012 - val_loss: 7.4193 - val_regularization_loss: 0.0000e+00 - val_total_loss: 7.4193\n",
      "Epoch 4/5\n",
      "384/384 [==============================] - 28s 72ms/step - recall_at_10: 0.0025 - ndcg_10: 0.0011 - loss: 8.3175 - regularization_loss: 0.0000e+00 - total_loss: 8.3175 - val_recall_at_10: 0.0026 - val_ndcg_10: 0.0012 - val_loss: 7.4187 - val_regularization_loss: 0.0000e+00 - val_total_loss: 7.4187\n",
      "Epoch 5/5\n",
      "384/384 [==============================] - 28s 72ms/step - recall_at_10: 0.0025 - ndcg_10: 0.0011 - loss: 8.3169 - regularization_loss: 0.0000e+00 - total_loss: 8.3169 - val_recall_at_10: 0.0026 - val_ndcg_10: 0.0012 - val_loss: 7.4182 - val_regularization_loss: 0.0000e+00 - val_total_loss: 7.4182\n"
     ]
    },
    {
     "data": {
      "text/plain": [
       "<keras.callbacks.History at 0x7f743c3be640>"
      ]
     },
     "execution_count": 11,
     "metadata": {},
     "output_type": "execute_result"
    }
   ],
   "source": [
    "model.set_retrieval_candidates_for_evaluation(train)\n",
    "\n",
    "opt = tf.keras.optimizers.Adagrad(learning_rate=0.003)\n",
    "model.compile(optimizer=opt, run_eagerly=False)\n",
    "model.fit(train, validation_data=valid, batch_size=4096, epochs=5)"
   ]
  },
  {
   "cell_type": "markdown",
   "id": "80ad2d6b",
   "metadata": {},
   "source": [
    "In batch sampling is prone to popularity-bias. since different users might have interacted same items. # in the fit method we are only using the negative sampling in each batch and the final score is avg over all the batches. \n",
    "for each batch we aer comparing only the items in the given batch. in the `.evaluate()` we are considering entire item catalog for each positive item. generate the scores for all items and check the position of the positive item in the list of scores."
   ]
  },
  {
   "cell_type": "code",
   "execution_count": 12,
   "id": "d75b9a22",
   "metadata": {},
   "outputs": [
    {
     "name": "stdout",
     "output_type": "stream",
     "text": [
      "1542/1542 [==============================] - 46s 29ms/step - recall_at_10: 2.2805e-05 - ndcg_10: 9.9212e-06 - loss: 5.2483e-05 - regularization_loss: 0.0000e+00 - total_loss: 5.2483e-05\n"
     ]
    },
    {
     "data": {
      "text/plain": [
       "{'recall_at_10': 2.280459739267826e-05,\n",
       " 'ndcg_10': 9.921227501763497e-06,\n",
       " 'loss': 0.0,\n",
       " 'regularization_loss': 0.0,\n",
       " 'total_loss': 0.0}"
      ]
     },
     "execution_count": 12,
     "metadata": {},
     "output_type": "execute_result"
    }
   ],
   "source": [
    "model.evaluate(valid, return_dict=True, batch_size=1024)"
   ]
  },
  {
   "cell_type": "markdown",
   "id": "b8b1694d",
   "metadata": {},
   "source": [
    "## Exporting Retrieval Models"
   ]
  },
  {
   "cell_type": "markdown",
   "id": "a75ccf27",
   "metadata": {},
   "source": [
    "So far we have trained and evaluated our Retrieval model. Now, the next step is to deploy our model and generate top-K recommendations given a user (query). We can efficiently serve our model by indexing the trained item embeddings into an **Approximate Nearest Neighbors (ANN)** engine. Basically, for a given user query vector, that is generated passing the user features into user tower of retrieval model, we do an ANN search query to find the ids of nearby item vectors, and at serve time, we score user embeddings over all indexed top-K item embeddings within the ANN engine.\n",
    "\n",
    "In doing so, we need to export\n",
    " \n",
    "- user (query) tower\n",
    "- item and user features\n",
    "- item embeddings"
   ]
  },
  {
   "cell_type": "markdown",
   "id": "ac93e963",
   "metadata": {},
   "source": [
    "#### Save User (query) tower"
   ]
  },
  {
   "cell_type": "markdown",
   "id": "338438fa",
   "metadata": {},
   "source": [
    "We are able to save the user tower model as a TF model to disk. The user tower model is needed to generate a user embedding vector when a user feature vector <i>x</i> is fed into that model."
   ]
  },
  {
   "cell_type": "code",
   "execution_count": 13,
   "id": "bf7585b8",
   "metadata": {},
   "outputs": [],
   "source": [
    "query_tower = model.retrieval_block.query_block()\n",
    "query_tower.save(\"query_tower\")"
   ]
  },
  {
   "cell_type": "markdown",
   "id": "c83c0ae5",
   "metadata": {},
   "source": [
    "#### Extract and save User features"
   ]
  },
  {
   "cell_type": "markdown",
   "id": "9d4eb11d",
   "metadata": {},
   "source": [
    "With `unique_rows_by_features` utility function we can easily extract both unique user and item features tables as cuDF dataframes. Note that for user features table, we use `USER` and `USER_ID` tags."
   ]
  },
  {
   "cell_type": "code",
   "execution_count": 14,
   "id": "2024d43d",
   "metadata": {},
   "outputs": [],
   "source": [
    "from merlin.models.utils.dataset import unique_rows_by_features\n",
    "\n",
    "user_features = (\n",
    "    unique_rows_by_features(train, Tags.USER, Tags.USER_ID).compute().reset_index(drop=True)\n",
    ")"
   ]
  },
  {
   "cell_type": "code",
   "execution_count": 15,
   "id": "750bafa9",
   "metadata": {},
   "outputs": [
    {
     "data": {
      "text/html": [
       "<div>\n",
       "<style scoped>\n",
       "    .dataframe tbody tr th:only-of-type {\n",
       "        vertical-align: middle;\n",
       "    }\n",
       "\n",
       "    .dataframe tbody tr th {\n",
       "        vertical-align: top;\n",
       "    }\n",
       "\n",
       "    .dataframe thead th {\n",
       "        text-align: right;\n",
       "    }\n",
       "</style>\n",
       "<table border=\"1\" class=\"dataframe\">\n",
       "  <thead>\n",
       "    <tr style=\"text-align: right;\">\n",
       "      <th></th>\n",
       "      <th>user_id</th>\n",
       "      <th>user_shops</th>\n",
       "      <th>user_profile</th>\n",
       "      <th>user_group</th>\n",
       "      <th>user_gender</th>\n",
       "      <th>user_age</th>\n",
       "      <th>user_consumption_2</th>\n",
       "      <th>user_is_occupied</th>\n",
       "      <th>user_geography</th>\n",
       "      <th>user_intentions</th>\n",
       "      <th>user_brands</th>\n",
       "      <th>user_categories</th>\n",
       "    </tr>\n",
       "  </thead>\n",
       "  <tbody>\n",
       "    <tr>\n",
       "      <th>0</th>\n",
       "      <td>0</td>\n",
       "      <td>0</td>\n",
       "      <td>1</td>\n",
       "      <td>4</td>\n",
       "      <td>1</td>\n",
       "      <td>3</td>\n",
       "      <td>2</td>\n",
       "      <td>1</td>\n",
       "      <td>0</td>\n",
       "      <td>0</td>\n",
       "      <td>0</td>\n",
       "      <td>0</td>\n",
       "    </tr>\n",
       "    <tr>\n",
       "      <th>1</th>\n",
       "      <td>1</td>\n",
       "      <td>109</td>\n",
       "      <td>0</td>\n",
       "      <td>0</td>\n",
       "      <td>0</td>\n",
       "      <td>0</td>\n",
       "      <td>0</td>\n",
       "      <td>0</td>\n",
       "      <td>0</td>\n",
       "      <td>69</td>\n",
       "      <td>131</td>\n",
       "      <td>9</td>\n",
       "    </tr>\n",
       "    <tr>\n",
       "      <th>2</th>\n",
       "      <td>2</td>\n",
       "      <td>301</td>\n",
       "      <td>1</td>\n",
       "      <td>1</td>\n",
       "      <td>1</td>\n",
       "      <td>1</td>\n",
       "      <td>1</td>\n",
       "      <td>1</td>\n",
       "      <td>2</td>\n",
       "      <td>57</td>\n",
       "      <td>4709</td>\n",
       "      <td>57</td>\n",
       "    </tr>\n",
       "    <tr>\n",
       "      <th>3</th>\n",
       "      <td>3</td>\n",
       "      <td>1876</td>\n",
       "      <td>23</td>\n",
       "      <td>7</td>\n",
       "      <td>2</td>\n",
       "      <td>3</td>\n",
       "      <td>1</td>\n",
       "      <td>1</td>\n",
       "      <td>1</td>\n",
       "      <td>5</td>\n",
       "      <td>63</td>\n",
       "      <td>3</td>\n",
       "    </tr>\n",
       "    <tr>\n",
       "      <th>4</th>\n",
       "      <td>4</td>\n",
       "      <td>534</td>\n",
       "      <td>1</td>\n",
       "      <td>2</td>\n",
       "      <td>1</td>\n",
       "      <td>2</td>\n",
       "      <td>1</td>\n",
       "      <td>1</td>\n",
       "      <td>0</td>\n",
       "      <td>40</td>\n",
       "      <td>22</td>\n",
       "      <td>108</td>\n",
       "    </tr>\n",
       "  </tbody>\n",
       "</table>\n",
       "</div>"
      ],
      "text/plain": [
       "   user_id  user_shops  user_profile  user_group  user_gender  user_age  \\\n",
       "0        0           0             1           4            1         3   \n",
       "1        1         109             0           0            0         0   \n",
       "2        2         301             1           1            1         1   \n",
       "3        3        1876            23           7            2         3   \n",
       "4        4         534             1           2            1         2   \n",
       "\n",
       "   user_consumption_2  user_is_occupied  user_geography  user_intentions  \\\n",
       "0                   2                 1               0                0   \n",
       "1                   0                 0               0               69   \n",
       "2                   1                 1               2               57   \n",
       "3                   1                 1               1                5   \n",
       "4                   1                 1               0               40   \n",
       "\n",
       "   user_brands  user_categories  \n",
       "0            0                0  \n",
       "1          131                9  \n",
       "2         4709               57  \n",
       "3           63                3  \n",
       "4           22              108  "
      ]
     },
     "execution_count": 15,
     "metadata": {},
     "output_type": "execute_result"
    }
   ],
   "source": [
    "user_features.head()"
   ]
  },
  {
   "cell_type": "code",
   "execution_count": 16,
   "id": "1d985762",
   "metadata": {},
   "outputs": [
    {
     "data": {
      "text/plain": [
       "(214994, 12)"
      ]
     },
     "execution_count": 16,
     "metadata": {},
     "output_type": "execute_result"
    }
   ],
   "source": [
    "user_features.shape"
   ]
  },
  {
   "cell_type": "code",
   "execution_count": 17,
   "id": "15af96ab",
   "metadata": {},
   "outputs": [],
   "source": [
    "# save to disk\n",
    "user_features.to_parquet(\"user_features.parquet\")"
   ]
  },
  {
   "cell_type": "markdown",
   "id": "8307c391",
   "metadata": {},
   "source": [
    "#### Extract and save Item features"
   ]
  },
  {
   "cell_type": "code",
   "execution_count": 18,
   "id": "e934c9c2",
   "metadata": {},
   "outputs": [],
   "source": [
    "item_features = (\n",
    "    unique_rows_by_features(train, Tags.ITEM, Tags.ITEM_ID).compute().reset_index(drop=True)\n",
    ")"
   ]
  },
  {
   "cell_type": "code",
   "execution_count": 19,
   "id": "2a5fc33d",
   "metadata": {},
   "outputs": [
    {
     "data": {
      "text/html": [
       "<div>\n",
       "<style scoped>\n",
       "    .dataframe tbody tr th:only-of-type {\n",
       "        vertical-align: middle;\n",
       "    }\n",
       "\n",
       "    .dataframe tbody tr th {\n",
       "        vertical-align: top;\n",
       "    }\n",
       "\n",
       "    .dataframe thead th {\n",
       "        text-align: right;\n",
       "    }\n",
       "</style>\n",
       "<table border=\"1\" class=\"dataframe\">\n",
       "  <thead>\n",
       "    <tr style=\"text-align: right;\">\n",
       "      <th></th>\n",
       "      <th>item_id</th>\n",
       "      <th>item_category</th>\n",
       "      <th>item_shop</th>\n",
       "      <th>item_brand</th>\n",
       "    </tr>\n",
       "  </thead>\n",
       "  <tbody>\n",
       "    <tr>\n",
       "      <th>0</th>\n",
       "      <td>0</td>\n",
       "      <td>0</td>\n",
       "      <td>0</td>\n",
       "      <td>0</td>\n",
       "    </tr>\n",
       "    <tr>\n",
       "      <th>1</th>\n",
       "      <td>1</td>\n",
       "      <td>441</td>\n",
       "      <td>432</td>\n",
       "      <td>474</td>\n",
       "    </tr>\n",
       "    <tr>\n",
       "      <th>2</th>\n",
       "      <td>2</td>\n",
       "      <td>193</td>\n",
       "      <td>1159</td>\n",
       "      <td>125</td>\n",
       "    </tr>\n",
       "    <tr>\n",
       "      <th>3</th>\n",
       "      <td>3</td>\n",
       "      <td>3</td>\n",
       "      <td>1463</td>\n",
       "      <td>872</td>\n",
       "    </tr>\n",
       "    <tr>\n",
       "      <th>4</th>\n",
       "      <td>4</td>\n",
       "      <td>282</td>\n",
       "      <td>2479</td>\n",
       "      <td>555</td>\n",
       "    </tr>\n",
       "  </tbody>\n",
       "</table>\n",
       "</div>"
      ],
      "text/plain": [
       "   item_id  item_category  item_shop  item_brand\n",
       "0        0              0          0           0\n",
       "1        1            441        432         474\n",
       "2        2            193       1159         125\n",
       "3        3              3       1463         872\n",
       "4        4            282       2479         555"
      ]
     },
     "execution_count": 19,
     "metadata": {},
     "output_type": "execute_result"
    }
   ],
   "source": [
    "item_features.head()"
   ]
  },
  {
   "cell_type": "code",
   "execution_count": 20,
   "id": "6ae8abf6",
   "metadata": {},
   "outputs": [],
   "source": [
    "# save to disk\n",
    "item_features.to_parquet(\"item_features.parquet\")"
   ]
  },
  {
   "cell_type": "markdown",
   "id": "8338a4f4",
   "metadata": {},
   "source": [
    "#### Extract and save Item embeddings"
   ]
  },
  {
   "cell_type": "code",
   "execution_count": 21,
   "id": "1f650082",
   "metadata": {},
   "outputs": [],
   "source": [
    "item_embs = model.item_embeddings(Dataset(item_features, schema=schema), batch_size=1024)\n",
    "item_embs_df = item_embs.compute(scheduler=\"synchronous\")"
   ]
  },
  {
   "cell_type": "code",
   "execution_count": 22,
   "id": "ac756941",
   "metadata": {},
   "outputs": [
    {
     "data": {
      "text/html": [
       "<div>\n",
       "<style scoped>\n",
       "    .dataframe tbody tr th:only-of-type {\n",
       "        vertical-align: middle;\n",
       "    }\n",
       "\n",
       "    .dataframe tbody tr th {\n",
       "        vertical-align: top;\n",
       "    }\n",
       "\n",
       "    .dataframe thead th {\n",
       "        text-align: right;\n",
       "    }\n",
       "</style>\n",
       "<table border=\"1\" class=\"dataframe\">\n",
       "  <thead>\n",
       "    <tr style=\"text-align: right;\">\n",
       "      <th></th>\n",
       "      <th>item_id</th>\n",
       "      <th>item_category</th>\n",
       "      <th>item_shop</th>\n",
       "      <th>item_brand</th>\n",
       "      <th>0</th>\n",
       "      <th>1</th>\n",
       "      <th>2</th>\n",
       "      <th>3</th>\n",
       "      <th>4</th>\n",
       "      <th>5</th>\n",
       "      <th>...</th>\n",
       "      <th>54</th>\n",
       "      <th>55</th>\n",
       "      <th>56</th>\n",
       "      <th>57</th>\n",
       "      <th>58</th>\n",
       "      <th>59</th>\n",
       "      <th>60</th>\n",
       "      <th>61</th>\n",
       "      <th>62</th>\n",
       "      <th>63</th>\n",
       "    </tr>\n",
       "  </thead>\n",
       "  <tbody>\n",
       "    <tr>\n",
       "      <th>0</th>\n",
       "      <td>0</td>\n",
       "      <td>0</td>\n",
       "      <td>0</td>\n",
       "      <td>0</td>\n",
       "      <td>0.100480</td>\n",
       "      <td>-0.101183</td>\n",
       "      <td>0.038712</td>\n",
       "      <td>-0.069887</td>\n",
       "      <td>0.055463</td>\n",
       "      <td>0.187399</td>\n",
       "      <td>...</td>\n",
       "      <td>-0.136141</td>\n",
       "      <td>0.092087</td>\n",
       "      <td>0.000309</td>\n",
       "      <td>0.012232</td>\n",
       "      <td>0.004694</td>\n",
       "      <td>0.185416</td>\n",
       "      <td>-0.175290</td>\n",
       "      <td>-0.113102</td>\n",
       "      <td>0.046894</td>\n",
       "      <td>-0.095183</td>\n",
       "    </tr>\n",
       "    <tr>\n",
       "      <th>1</th>\n",
       "      <td>1</td>\n",
       "      <td>441</td>\n",
       "      <td>432</td>\n",
       "      <td>474</td>\n",
       "      <td>0.106592</td>\n",
       "      <td>-0.140783</td>\n",
       "      <td>0.187643</td>\n",
       "      <td>0.116384</td>\n",
       "      <td>-0.117863</td>\n",
       "      <td>0.151208</td>\n",
       "      <td>...</td>\n",
       "      <td>-0.078249</td>\n",
       "      <td>0.098082</td>\n",
       "      <td>0.033912</td>\n",
       "      <td>0.028970</td>\n",
       "      <td>0.004288</td>\n",
       "      <td>0.182896</td>\n",
       "      <td>-0.049048</td>\n",
       "      <td>0.088471</td>\n",
       "      <td>0.095434</td>\n",
       "      <td>-0.031751</td>\n",
       "    </tr>\n",
       "    <tr>\n",
       "      <th>2</th>\n",
       "      <td>2</td>\n",
       "      <td>193</td>\n",
       "      <td>1159</td>\n",
       "      <td>125</td>\n",
       "      <td>-0.028713</td>\n",
       "      <td>-0.173785</td>\n",
       "      <td>-0.056876</td>\n",
       "      <td>0.034120</td>\n",
       "      <td>-0.056204</td>\n",
       "      <td>0.311673</td>\n",
       "      <td>...</td>\n",
       "      <td>-0.129029</td>\n",
       "      <td>0.144884</td>\n",
       "      <td>-0.012147</td>\n",
       "      <td>0.056141</td>\n",
       "      <td>-0.024954</td>\n",
       "      <td>0.147257</td>\n",
       "      <td>-0.034835</td>\n",
       "      <td>0.065109</td>\n",
       "      <td>0.052829</td>\n",
       "      <td>-0.073503</td>\n",
       "    </tr>\n",
       "    <tr>\n",
       "      <th>3</th>\n",
       "      <td>3</td>\n",
       "      <td>3</td>\n",
       "      <td>1463</td>\n",
       "      <td>872</td>\n",
       "      <td>0.087634</td>\n",
       "      <td>-0.136825</td>\n",
       "      <td>0.128481</td>\n",
       "      <td>0.016375</td>\n",
       "      <td>0.066299</td>\n",
       "      <td>-0.077430</td>\n",
       "      <td>...</td>\n",
       "      <td>-0.183097</td>\n",
       "      <td>0.093180</td>\n",
       "      <td>0.074107</td>\n",
       "      <td>-0.220991</td>\n",
       "      <td>0.077473</td>\n",
       "      <td>0.183373</td>\n",
       "      <td>-0.085114</td>\n",
       "      <td>-0.160506</td>\n",
       "      <td>-0.069322</td>\n",
       "      <td>0.011579</td>\n",
       "    </tr>\n",
       "    <tr>\n",
       "      <th>4</th>\n",
       "      <td>4</td>\n",
       "      <td>282</td>\n",
       "      <td>2479</td>\n",
       "      <td>555</td>\n",
       "      <td>0.044352</td>\n",
       "      <td>-0.185963</td>\n",
       "      <td>-0.060681</td>\n",
       "      <td>-0.028867</td>\n",
       "      <td>0.046313</td>\n",
       "      <td>0.220343</td>\n",
       "      <td>...</td>\n",
       "      <td>-0.085646</td>\n",
       "      <td>0.063820</td>\n",
       "      <td>-0.137686</td>\n",
       "      <td>-0.071112</td>\n",
       "      <td>-0.161351</td>\n",
       "      <td>0.150922</td>\n",
       "      <td>-0.066201</td>\n",
       "      <td>-0.178179</td>\n",
       "      <td>0.023789</td>\n",
       "      <td>-0.196832</td>\n",
       "    </tr>\n",
       "    <tr>\n",
       "      <th>...</th>\n",
       "      <td>...</td>\n",
       "      <td>...</td>\n",
       "      <td>...</td>\n",
       "      <td>...</td>\n",
       "      <td>...</td>\n",
       "      <td>...</td>\n",
       "      <td>...</td>\n",
       "      <td>...</td>\n",
       "      <td>...</td>\n",
       "      <td>...</td>\n",
       "      <td>...</td>\n",
       "      <td>...</td>\n",
       "      <td>...</td>\n",
       "      <td>...</td>\n",
       "      <td>...</td>\n",
       "      <td>...</td>\n",
       "      <td>...</td>\n",
       "      <td>...</td>\n",
       "      <td>...</td>\n",
       "      <td>...</td>\n",
       "      <td>...</td>\n",
       "    </tr>\n",
       "    <tr>\n",
       "      <th>568842</th>\n",
       "      <td>3078159</td>\n",
       "      <td>1764</td>\n",
       "      <td>365864</td>\n",
       "      <td>121053</td>\n",
       "      <td>-0.181527</td>\n",
       "      <td>0.013411</td>\n",
       "      <td>0.059540</td>\n",
       "      <td>0.030576</td>\n",
       "      <td>0.007284</td>\n",
       "      <td>0.240745</td>\n",
       "      <td>...</td>\n",
       "      <td>-0.156806</td>\n",
       "      <td>0.170368</td>\n",
       "      <td>0.061671</td>\n",
       "      <td>-0.153007</td>\n",
       "      <td>-0.216809</td>\n",
       "      <td>0.114002</td>\n",
       "      <td>0.040904</td>\n",
       "      <td>-0.152487</td>\n",
       "      <td>0.138781</td>\n",
       "      <td>0.004465</td>\n",
       "    </tr>\n",
       "    <tr>\n",
       "      <th>568843</th>\n",
       "      <td>3078210</td>\n",
       "      <td>377</td>\n",
       "      <td>97495</td>\n",
       "      <td>116656</td>\n",
       "      <td>-0.000746</td>\n",
       "      <td>-0.059242</td>\n",
       "      <td>0.196628</td>\n",
       "      <td>0.018706</td>\n",
       "      <td>0.065176</td>\n",
       "      <td>0.227332</td>\n",
       "      <td>...</td>\n",
       "      <td>-0.049041</td>\n",
       "      <td>0.105531</td>\n",
       "      <td>-0.003052</td>\n",
       "      <td>0.104010</td>\n",
       "      <td>-0.052346</td>\n",
       "      <td>-0.033157</td>\n",
       "      <td>-0.106754</td>\n",
       "      <td>-0.065986</td>\n",
       "      <td>0.317890</td>\n",
       "      <td>-0.063438</td>\n",
       "    </tr>\n",
       "    <tr>\n",
       "      <th>568844</th>\n",
       "      <td>3078270</td>\n",
       "      <td>3817</td>\n",
       "      <td>577371</td>\n",
       "      <td>80796</td>\n",
       "      <td>-0.073659</td>\n",
       "      <td>-0.020232</td>\n",
       "      <td>-0.099983</td>\n",
       "      <td>-0.005017</td>\n",
       "      <td>-0.238924</td>\n",
       "      <td>0.178821</td>\n",
       "      <td>...</td>\n",
       "      <td>-0.213560</td>\n",
       "      <td>0.130538</td>\n",
       "      <td>0.054929</td>\n",
       "      <td>-0.038743</td>\n",
       "      <td>-0.068914</td>\n",
       "      <td>0.062025</td>\n",
       "      <td>0.089917</td>\n",
       "      <td>0.031116</td>\n",
       "      <td>0.102875</td>\n",
       "      <td>-0.180703</td>\n",
       "    </tr>\n",
       "    <tr>\n",
       "      <th>568845</th>\n",
       "      <td>3078283</td>\n",
       "      <td>551</td>\n",
       "      <td>201089</td>\n",
       "      <td>85172</td>\n",
       "      <td>-0.013963</td>\n",
       "      <td>-0.047382</td>\n",
       "      <td>0.124333</td>\n",
       "      <td>0.055950</td>\n",
       "      <td>0.104881</td>\n",
       "      <td>0.094359</td>\n",
       "      <td>...</td>\n",
       "      <td>0.186676</td>\n",
       "      <td>0.136704</td>\n",
       "      <td>0.101370</td>\n",
       "      <td>-0.016214</td>\n",
       "      <td>-0.030931</td>\n",
       "      <td>0.129269</td>\n",
       "      <td>-0.069209</td>\n",
       "      <td>-0.014182</td>\n",
       "      <td>0.144155</td>\n",
       "      <td>-0.062910</td>\n",
       "    </tr>\n",
       "    <tr>\n",
       "      <th>568846</th>\n",
       "      <td>3078304</td>\n",
       "      <td>475</td>\n",
       "      <td>255840</td>\n",
       "      <td>335</td>\n",
       "      <td>-0.191559</td>\n",
       "      <td>-0.092710</td>\n",
       "      <td>0.025378</td>\n",
       "      <td>-0.024475</td>\n",
       "      <td>0.079726</td>\n",
       "      <td>0.079302</td>\n",
       "      <td>...</td>\n",
       "      <td>0.044710</td>\n",
       "      <td>0.082819</td>\n",
       "      <td>0.032549</td>\n",
       "      <td>-0.024786</td>\n",
       "      <td>-0.024001</td>\n",
       "      <td>0.074184</td>\n",
       "      <td>-0.074518</td>\n",
       "      <td>-0.077085</td>\n",
       "      <td>0.170670</td>\n",
       "      <td>0.116576</td>\n",
       "    </tr>\n",
       "  </tbody>\n",
       "</table>\n",
       "<p>568847 rows × 68 columns</p>\n",
       "</div>"
      ],
      "text/plain": [
       "        item_id  item_category  item_shop  item_brand         0         1  \\\n",
       "0             0              0          0           0  0.100480 -0.101183   \n",
       "1             1            441        432         474  0.106592 -0.140783   \n",
       "2             2            193       1159         125 -0.028713 -0.173785   \n",
       "3             3              3       1463         872  0.087634 -0.136825   \n",
       "4             4            282       2479         555  0.044352 -0.185963   \n",
       "...         ...            ...        ...         ...       ...       ...   \n",
       "568842  3078159           1764     365864      121053 -0.181527  0.013411   \n",
       "568843  3078210            377      97495      116656 -0.000746 -0.059242   \n",
       "568844  3078270           3817     577371       80796 -0.073659 -0.020232   \n",
       "568845  3078283            551     201089       85172 -0.013963 -0.047382   \n",
       "568846  3078304            475     255840         335 -0.191559 -0.092710   \n",
       "\n",
       "               2         3         4         5  ...        54        55  \\\n",
       "0       0.038712 -0.069887  0.055463  0.187399  ... -0.136141  0.092087   \n",
       "1       0.187643  0.116384 -0.117863  0.151208  ... -0.078249  0.098082   \n",
       "2      -0.056876  0.034120 -0.056204  0.311673  ... -0.129029  0.144884   \n",
       "3       0.128481  0.016375  0.066299 -0.077430  ... -0.183097  0.093180   \n",
       "4      -0.060681 -0.028867  0.046313  0.220343  ... -0.085646  0.063820   \n",
       "...          ...       ...       ...       ...  ...       ...       ...   \n",
       "568842  0.059540  0.030576  0.007284  0.240745  ... -0.156806  0.170368   \n",
       "568843  0.196628  0.018706  0.065176  0.227332  ... -0.049041  0.105531   \n",
       "568844 -0.099983 -0.005017 -0.238924  0.178821  ... -0.213560  0.130538   \n",
       "568845  0.124333  0.055950  0.104881  0.094359  ...  0.186676  0.136704   \n",
       "568846  0.025378 -0.024475  0.079726  0.079302  ...  0.044710  0.082819   \n",
       "\n",
       "              56        57        58        59        60        61        62  \\\n",
       "0       0.000309  0.012232  0.004694  0.185416 -0.175290 -0.113102  0.046894   \n",
       "1       0.033912  0.028970  0.004288  0.182896 -0.049048  0.088471  0.095434   \n",
       "2      -0.012147  0.056141 -0.024954  0.147257 -0.034835  0.065109  0.052829   \n",
       "3       0.074107 -0.220991  0.077473  0.183373 -0.085114 -0.160506 -0.069322   \n",
       "4      -0.137686 -0.071112 -0.161351  0.150922 -0.066201 -0.178179  0.023789   \n",
       "...          ...       ...       ...       ...       ...       ...       ...   \n",
       "568842  0.061671 -0.153007 -0.216809  0.114002  0.040904 -0.152487  0.138781   \n",
       "568843 -0.003052  0.104010 -0.052346 -0.033157 -0.106754 -0.065986  0.317890   \n",
       "568844  0.054929 -0.038743 -0.068914  0.062025  0.089917  0.031116  0.102875   \n",
       "568845  0.101370 -0.016214 -0.030931  0.129269 -0.069209 -0.014182  0.144155   \n",
       "568846  0.032549 -0.024786 -0.024001  0.074184 -0.074518 -0.077085  0.170670   \n",
       "\n",
       "              63  \n",
       "0      -0.095183  \n",
       "1      -0.031751  \n",
       "2      -0.073503  \n",
       "3       0.011579  \n",
       "4      -0.196832  \n",
       "...          ...  \n",
       "568842  0.004465  \n",
       "568843 -0.063438  \n",
       "568844 -0.180703  \n",
       "568845 -0.062910  \n",
       "568846  0.116576  \n",
       "\n",
       "[568847 rows x 68 columns]"
      ]
     },
     "execution_count": 22,
     "metadata": {},
     "output_type": "execute_result"
    }
   ],
   "source": [
    "item_embs_df"
   ]
  },
  {
   "cell_type": "code",
   "execution_count": 23,
   "id": "4ae3535c",
   "metadata": {},
   "outputs": [],
   "source": [
    "# select only embedding columns\n",
    "item_embeddings = item_embs_df.iloc[:, 4:]"
   ]
  },
  {
   "cell_type": "code",
   "execution_count": 24,
   "id": "c45e3a89",
   "metadata": {},
   "outputs": [
    {
     "data": {
      "text/html": [
       "<div>\n",
       "<style scoped>\n",
       "    .dataframe tbody tr th:only-of-type {\n",
       "        vertical-align: middle;\n",
       "    }\n",
       "\n",
       "    .dataframe tbody tr th {\n",
       "        vertical-align: top;\n",
       "    }\n",
       "\n",
       "    .dataframe thead th {\n",
       "        text-align: right;\n",
       "    }\n",
       "</style>\n",
       "<table border=\"1\" class=\"dataframe\">\n",
       "  <thead>\n",
       "    <tr style=\"text-align: right;\">\n",
       "      <th></th>\n",
       "      <th>0</th>\n",
       "      <th>1</th>\n",
       "      <th>2</th>\n",
       "      <th>3</th>\n",
       "      <th>4</th>\n",
       "      <th>5</th>\n",
       "      <th>6</th>\n",
       "      <th>7</th>\n",
       "      <th>8</th>\n",
       "      <th>9</th>\n",
       "      <th>...</th>\n",
       "      <th>54</th>\n",
       "      <th>55</th>\n",
       "      <th>56</th>\n",
       "      <th>57</th>\n",
       "      <th>58</th>\n",
       "      <th>59</th>\n",
       "      <th>60</th>\n",
       "      <th>61</th>\n",
       "      <th>62</th>\n",
       "      <th>63</th>\n",
       "    </tr>\n",
       "  </thead>\n",
       "  <tbody>\n",
       "    <tr>\n",
       "      <th>0</th>\n",
       "      <td>0.100480</td>\n",
       "      <td>-0.101183</td>\n",
       "      <td>0.038712</td>\n",
       "      <td>-0.069887</td>\n",
       "      <td>0.055463</td>\n",
       "      <td>0.187399</td>\n",
       "      <td>0.088853</td>\n",
       "      <td>-0.251354</td>\n",
       "      <td>0.069880</td>\n",
       "      <td>-0.046955</td>\n",
       "      <td>...</td>\n",
       "      <td>-0.136141</td>\n",
       "      <td>0.092087</td>\n",
       "      <td>0.000309</td>\n",
       "      <td>0.012232</td>\n",
       "      <td>0.004694</td>\n",
       "      <td>0.185416</td>\n",
       "      <td>-0.175290</td>\n",
       "      <td>-0.113102</td>\n",
       "      <td>0.046894</td>\n",
       "      <td>-0.095183</td>\n",
       "    </tr>\n",
       "    <tr>\n",
       "      <th>1</th>\n",
       "      <td>0.106592</td>\n",
       "      <td>-0.140783</td>\n",
       "      <td>0.187643</td>\n",
       "      <td>0.116384</td>\n",
       "      <td>-0.117863</td>\n",
       "      <td>0.151208</td>\n",
       "      <td>0.165833</td>\n",
       "      <td>-0.152995</td>\n",
       "      <td>-0.071885</td>\n",
       "      <td>0.057338</td>\n",
       "      <td>...</td>\n",
       "      <td>-0.078249</td>\n",
       "      <td>0.098082</td>\n",
       "      <td>0.033912</td>\n",
       "      <td>0.028970</td>\n",
       "      <td>0.004288</td>\n",
       "      <td>0.182896</td>\n",
       "      <td>-0.049048</td>\n",
       "      <td>0.088471</td>\n",
       "      <td>0.095434</td>\n",
       "      <td>-0.031751</td>\n",
       "    </tr>\n",
       "    <tr>\n",
       "      <th>2</th>\n",
       "      <td>-0.028713</td>\n",
       "      <td>-0.173785</td>\n",
       "      <td>-0.056876</td>\n",
       "      <td>0.034120</td>\n",
       "      <td>-0.056204</td>\n",
       "      <td>0.311673</td>\n",
       "      <td>0.211417</td>\n",
       "      <td>-0.058011</td>\n",
       "      <td>0.129465</td>\n",
       "      <td>-0.073758</td>\n",
       "      <td>...</td>\n",
       "      <td>-0.129029</td>\n",
       "      <td>0.144884</td>\n",
       "      <td>-0.012147</td>\n",
       "      <td>0.056141</td>\n",
       "      <td>-0.024954</td>\n",
       "      <td>0.147257</td>\n",
       "      <td>-0.034835</td>\n",
       "      <td>0.065109</td>\n",
       "      <td>0.052829</td>\n",
       "      <td>-0.073503</td>\n",
       "    </tr>\n",
       "    <tr>\n",
       "      <th>3</th>\n",
       "      <td>0.087634</td>\n",
       "      <td>-0.136825</td>\n",
       "      <td>0.128481</td>\n",
       "      <td>0.016375</td>\n",
       "      <td>0.066299</td>\n",
       "      <td>-0.077430</td>\n",
       "      <td>0.176676</td>\n",
       "      <td>-0.230770</td>\n",
       "      <td>0.042750</td>\n",
       "      <td>-0.019357</td>\n",
       "      <td>...</td>\n",
       "      <td>-0.183097</td>\n",
       "      <td>0.093180</td>\n",
       "      <td>0.074107</td>\n",
       "      <td>-0.220991</td>\n",
       "      <td>0.077473</td>\n",
       "      <td>0.183373</td>\n",
       "      <td>-0.085114</td>\n",
       "      <td>-0.160506</td>\n",
       "      <td>-0.069322</td>\n",
       "      <td>0.011579</td>\n",
       "    </tr>\n",
       "    <tr>\n",
       "      <th>4</th>\n",
       "      <td>0.044352</td>\n",
       "      <td>-0.185963</td>\n",
       "      <td>-0.060681</td>\n",
       "      <td>-0.028867</td>\n",
       "      <td>0.046313</td>\n",
       "      <td>0.220343</td>\n",
       "      <td>0.015842</td>\n",
       "      <td>-0.183577</td>\n",
       "      <td>0.102639</td>\n",
       "      <td>-0.070050</td>\n",
       "      <td>...</td>\n",
       "      <td>-0.085646</td>\n",
       "      <td>0.063820</td>\n",
       "      <td>-0.137686</td>\n",
       "      <td>-0.071112</td>\n",
       "      <td>-0.161351</td>\n",
       "      <td>0.150922</td>\n",
       "      <td>-0.066201</td>\n",
       "      <td>-0.178179</td>\n",
       "      <td>0.023789</td>\n",
       "      <td>-0.196832</td>\n",
       "    </tr>\n",
       "  </tbody>\n",
       "</table>\n",
       "<p>5 rows × 64 columns</p>\n",
       "</div>"
      ],
      "text/plain": [
       "          0         1         2         3         4         5         6  \\\n",
       "0  0.100480 -0.101183  0.038712 -0.069887  0.055463  0.187399  0.088853   \n",
       "1  0.106592 -0.140783  0.187643  0.116384 -0.117863  0.151208  0.165833   \n",
       "2 -0.028713 -0.173785 -0.056876  0.034120 -0.056204  0.311673  0.211417   \n",
       "3  0.087634 -0.136825  0.128481  0.016375  0.066299 -0.077430  0.176676   \n",
       "4  0.044352 -0.185963 -0.060681 -0.028867  0.046313  0.220343  0.015842   \n",
       "\n",
       "          7         8         9  ...        54        55        56        57  \\\n",
       "0 -0.251354  0.069880 -0.046955  ... -0.136141  0.092087  0.000309  0.012232   \n",
       "1 -0.152995 -0.071885  0.057338  ... -0.078249  0.098082  0.033912  0.028970   \n",
       "2 -0.058011  0.129465 -0.073758  ... -0.129029  0.144884 -0.012147  0.056141   \n",
       "3 -0.230770  0.042750 -0.019357  ... -0.183097  0.093180  0.074107 -0.220991   \n",
       "4 -0.183577  0.102639 -0.070050  ... -0.085646  0.063820 -0.137686 -0.071112   \n",
       "\n",
       "         58        59        60        61        62        63  \n",
       "0  0.004694  0.185416 -0.175290 -0.113102  0.046894 -0.095183  \n",
       "1  0.004288  0.182896 -0.049048  0.088471  0.095434 -0.031751  \n",
       "2 -0.024954  0.147257 -0.034835  0.065109  0.052829 -0.073503  \n",
       "3  0.077473  0.183373 -0.085114 -0.160506 -0.069322  0.011579  \n",
       "4 -0.161351  0.150922 -0.066201 -0.178179  0.023789 -0.196832  \n",
       "\n",
       "[5 rows x 64 columns]"
      ]
     },
     "execution_count": 24,
     "metadata": {},
     "output_type": "execute_result"
    }
   ],
   "source": [
    "item_embeddings.head()"
   ]
  },
  {
   "cell_type": "code",
   "execution_count": 25,
   "id": "12ba0cdd",
   "metadata": {},
   "outputs": [],
   "source": [
    "# save to disk\n",
    "item_embeddings.to_parquet(\"item_embeddings.parquet\")"
   ]
  },
  {
   "cell_type": "markdown",
   "id": "cb8fcbe8",
   "metadata": {},
   "source": [
    "That's it. You have learned how to train and evaluate your Two-Tower retrieval model, and then how to export the required components to be able to deploy this model to generate recommendations. In order to learn more on serving a model to [Triton Inference Server](https://github.com/triton-inference-server/server), please explore the examples in the [Merlin](https://github.com/NVIDIA-Merlin/Merlin) and [Merlin Systems](https://github.com/NVIDIA-Merlin/systems) repos."
   ]
  }
 ],
 "metadata": {
  "kernelspec": {
   "display_name": "Python 3 (ipykernel)",
   "language": "python",
   "name": "python3"
  },
  "language_info": {
   "codemirror_mode": {
    "name": "ipython",
    "version": 3
   },
   "file_extension": ".py",
   "mimetype": "text/x-python",
   "name": "python",
   "nbconvert_exporter": "python",
   "pygments_lexer": "ipython3",
   "version": "3.8.10"
  }
 },
 "nbformat": 4,
 "nbformat_minor": 5
}
