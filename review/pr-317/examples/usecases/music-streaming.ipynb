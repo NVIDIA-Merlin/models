{
 "cells": [
  {
   "cell_type": "code",
   "execution_count": 1,
   "metadata": {},
   "outputs": [
    {
     "name": "stderr",
     "output_type": "stream",
     "text": [
      "2022-02-17 10:39:50.372430: I tensorflow/core/platform/cpu_feature_guard.cc:151] This TensorFlow binary is optimized with oneAPI Deep Neural Network Library (oneDNN) to use the following CPU instructions in performance-critical operations:  AVX2 FMA\n",
      "To enable them in other operations, rebuild TensorFlow with the appropriate compiler flags.\n",
      "2022-02-17 10:39:51.892410: I tensorflow/core/common_runtime/gpu/gpu_device.cc:1525] Created device /job:localhost/replica:0/task:0/device:GPU:0 with 46352 MB memory:  -> device: 0, name: NVIDIA RTX A6000, pci bus id: 0000:01:00.0, compute capability: 8.6\n",
      "2022-02-17 10:39:51.893841: I tensorflow/core/common_runtime/gpu/gpu_device.cc:1525] Created device /job:localhost/replica:0/task:0/device:GPU:1 with 46363 MB memory:  -> device: 1, name: NVIDIA RTX A6000, pci bus id: 0000:21:00.0, compute capability: 8.6\n"
     ]
    },
    {
     "data": {
      "text/html": [
       "<div>\n",
       "<style scoped>\n",
       "    .dataframe tbody tr th:only-of-type {\n",
       "        vertical-align: middle;\n",
       "    }\n",
       "\n",
       "    .dataframe tbody tr th {\n",
       "        vertical-align: top;\n",
       "    }\n",
       "\n",
       "    .dataframe thead th {\n",
       "        text-align: right;\n",
       "    }\n",
       "</style>\n",
       "<table border=\"1\" class=\"dataframe\">\n",
       "  <thead>\n",
       "    <tr style=\"text-align: right;\">\n",
       "      <th></th>\n",
       "      <th>session_id</th>\n",
       "      <th>user_id</th>\n",
       "      <th>country</th>\n",
       "      <th>user_age</th>\n",
       "      <th>user_genres</th>\n",
       "      <th>item_id</th>\n",
       "      <th>item_category</th>\n",
       "      <th>item_recency</th>\n",
       "      <th>item_genres</th>\n",
       "      <th>click</th>\n",
       "      <th>like</th>\n",
       "      <th>position</th>\n",
       "      <th>play_percentage</th>\n",
       "    </tr>\n",
       "  </thead>\n",
       "  <tbody>\n",
       "    <tr>\n",
       "      <th>0</th>\n",
       "      <td>35</td>\n",
       "      <td>4</td>\n",
       "      <td>2</td>\n",
       "      <td>1</td>\n",
       "      <td>[26, 98, 53, 29, 92, 26, 78, 61, 61, 65, 15, 6...</td>\n",
       "      <td>17</td>\n",
       "      <td>8</td>\n",
       "      <td>0.786646</td>\n",
       "      <td>[46, 41, 42, 94, 73, 1, 91, 96, 84, 58, 42, 13...</td>\n",
       "      <td>0</td>\n",
       "      <td>1</td>\n",
       "      <td>80</td>\n",
       "      <td>0.0</td>\n",
       "    </tr>\n",
       "    <tr>\n",
       "      <th>1</th>\n",
       "      <td>33</td>\n",
       "      <td>8</td>\n",
       "      <td>4</td>\n",
       "      <td>2</td>\n",
       "      <td>[72, 31, 9, 39, 73, 3, 36, 71, 92, 25, 63, 61,...</td>\n",
       "      <td>23</td>\n",
       "      <td>10</td>\n",
       "      <td>0.745052</td>\n",
       "      <td>[42, 72, 18, 79, 51, 66, 71, 79, 18, 18, 21, 5...</td>\n",
       "      <td>1</td>\n",
       "      <td>0</td>\n",
       "      <td>66</td>\n",
       "      <td>0.0</td>\n",
       "    </tr>\n",
       "    <tr>\n",
       "      <th>2</th>\n",
       "      <td>4</td>\n",
       "      <td>16</td>\n",
       "      <td>8</td>\n",
       "      <td>4</td>\n",
       "      <td>[1, 96, 50, 26, 99, 64, 57, 75, 94, 45, 10, 8,...</td>\n",
       "      <td>33</td>\n",
       "      <td>15</td>\n",
       "      <td>0.321432</td>\n",
       "      <td>[56, 15, 22, 71, 74, 28, 33, 97, 68, 35, 15, 7...</td>\n",
       "      <td>1</td>\n",
       "      <td>0</td>\n",
       "      <td>15</td>\n",
       "      <td>0.0</td>\n",
       "    </tr>\n",
       "    <tr>\n",
       "      <th>3</th>\n",
       "      <td>25</td>\n",
       "      <td>16</td>\n",
       "      <td>8</td>\n",
       "      <td>4</td>\n",
       "      <td>[67, 72, 48, 19, 83, 71, 49, 15, 1, 26, 34, 54...</td>\n",
       "      <td>8</td>\n",
       "      <td>3</td>\n",
       "      <td>0.668958</td>\n",
       "      <td>[71, 37, 73, 99, 56, 34, 9, 42, 73, 88, 53, 5,...</td>\n",
       "      <td>1</td>\n",
       "      <td>0</td>\n",
       "      <td>11</td>\n",
       "      <td>0.0</td>\n",
       "    </tr>\n",
       "    <tr>\n",
       "      <th>4</th>\n",
       "      <td>29</td>\n",
       "      <td>35</td>\n",
       "      <td>18</td>\n",
       "      <td>9</td>\n",
       "      <td>[55, 29, 84, 10, 18, 89, 84, 86, 75, 72, 74, 5...</td>\n",
       "      <td>26</td>\n",
       "      <td>12</td>\n",
       "      <td>0.537415</td>\n",
       "      <td>[74, 9, 8, 98, 94, 26, 8, 17, 97, 70, 75, 81, ...</td>\n",
       "      <td>0</td>\n",
       "      <td>1</td>\n",
       "      <td>51</td>\n",
       "      <td>0.0</td>\n",
       "    </tr>\n",
       "    <tr>\n",
       "      <th>...</th>\n",
       "      <td>...</td>\n",
       "      <td>...</td>\n",
       "      <td>...</td>\n",
       "      <td>...</td>\n",
       "      <td>...</td>\n",
       "      <td>...</td>\n",
       "      <td>...</td>\n",
       "      <td>...</td>\n",
       "      <td>...</td>\n",
       "      <td>...</td>\n",
       "      <td>...</td>\n",
       "      <td>...</td>\n",
       "      <td>...</td>\n",
       "    </tr>\n",
       "    <tr>\n",
       "      <th>95</th>\n",
       "      <td>19</td>\n",
       "      <td>156</td>\n",
       "      <td>81</td>\n",
       "      <td>40</td>\n",
       "      <td>[34, 68, 66, 20, 8, 66, 40, 37, 25, 96, 47, 44...</td>\n",
       "      <td>27</td>\n",
       "      <td>12</td>\n",
       "      <td>0.466365</td>\n",
       "      <td>[49, 20, 26, 10, 97, 86, 79, 75, 20, 39, 14, 1...</td>\n",
       "      <td>0</td>\n",
       "      <td>0</td>\n",
       "      <td>8</td>\n",
       "      <td>0.0</td>\n",
       "    </tr>\n",
       "    <tr>\n",
       "      <th>96</th>\n",
       "      <td>20</td>\n",
       "      <td>17</td>\n",
       "      <td>9</td>\n",
       "      <td>5</td>\n",
       "      <td>[66, 51, 62, 63, 11, 31, 40, 79, 32, 97, 39, 5...</td>\n",
       "      <td>5</td>\n",
       "      <td>2</td>\n",
       "      <td>0.137007</td>\n",
       "      <td>[53, 79, 51, 62, 79, 57, 54, 36, 75, 94, 38, 8...</td>\n",
       "      <td>1</td>\n",
       "      <td>0</td>\n",
       "      <td>94</td>\n",
       "      <td>0.0</td>\n",
       "    </tr>\n",
       "    <tr>\n",
       "      <th>97</th>\n",
       "      <td>17</td>\n",
       "      <td>3</td>\n",
       "      <td>2</td>\n",
       "      <td>1</td>\n",
       "      <td>[8, 16, 81, 15, 26, 75, 94, 83, 77, 87, 3, 3, ...</td>\n",
       "      <td>90</td>\n",
       "      <td>42</td>\n",
       "      <td>0.950070</td>\n",
       "      <td>[54, 22, 17, 92, 71, 97, 37, 3, 41, 85, 93, 20...</td>\n",
       "      <td>1</td>\n",
       "      <td>0</td>\n",
       "      <td>53</td>\n",
       "      <td>0.0</td>\n",
       "    </tr>\n",
       "    <tr>\n",
       "      <th>98</th>\n",
       "      <td>40</td>\n",
       "      <td>10</td>\n",
       "      <td>5</td>\n",
       "      <td>3</td>\n",
       "      <td>[86, 82, 93, 81, 41, 56, 84, 91, 11, 98, 48, 5...</td>\n",
       "      <td>3</td>\n",
       "      <td>1</td>\n",
       "      <td>0.256286</td>\n",
       "      <td>[3, 87, 39, 22, 86, 44, 92, 49, 47, 77, 79, 17...</td>\n",
       "      <td>1</td>\n",
       "      <td>1</td>\n",
       "      <td>44</td>\n",
       "      <td>0.0</td>\n",
       "    </tr>\n",
       "    <tr>\n",
       "      <th>99</th>\n",
       "      <td>91</td>\n",
       "      <td>8</td>\n",
       "      <td>4</td>\n",
       "      <td>2</td>\n",
       "      <td>[80, 85, 65, 13, 23, 83, 34, 93, 9, 46, 78, 9,...</td>\n",
       "      <td>10</td>\n",
       "      <td>4</td>\n",
       "      <td>0.291558</td>\n",
       "      <td>[25, 90, 17, 90, 9, 54, 89, 76, 49, 49, 1, 67,...</td>\n",
       "      <td>0</td>\n",
       "      <td>1</td>\n",
       "      <td>41</td>\n",
       "      <td>0.0</td>\n",
       "    </tr>\n",
       "  </tbody>\n",
       "</table>\n",
       "<p>100 rows × 13 columns</p>\n",
       "</div>"
      ],
      "text/plain": [
       "    session_id  user_id  country  user_age  \\\n",
       "0           35        4        2         1   \n",
       "1           33        8        4         2   \n",
       "2            4       16        8         4   \n",
       "3           25       16        8         4   \n",
       "4           29       35       18         9   \n",
       "..         ...      ...      ...       ...   \n",
       "95          19      156       81        40   \n",
       "96          20       17        9         5   \n",
       "97          17        3        2         1   \n",
       "98          40       10        5         3   \n",
       "99          91        8        4         2   \n",
       "\n",
       "                                          user_genres  item_id  item_category  \\\n",
       "0   [26, 98, 53, 29, 92, 26, 78, 61, 61, 65, 15, 6...       17              8   \n",
       "1   [72, 31, 9, 39, 73, 3, 36, 71, 92, 25, 63, 61,...       23             10   \n",
       "2   [1, 96, 50, 26, 99, 64, 57, 75, 94, 45, 10, 8,...       33             15   \n",
       "3   [67, 72, 48, 19, 83, 71, 49, 15, 1, 26, 34, 54...        8              3   \n",
       "4   [55, 29, 84, 10, 18, 89, 84, 86, 75, 72, 74, 5...       26             12   \n",
       "..                                                ...      ...            ...   \n",
       "95  [34, 68, 66, 20, 8, 66, 40, 37, 25, 96, 47, 44...       27             12   \n",
       "96  [66, 51, 62, 63, 11, 31, 40, 79, 32, 97, 39, 5...        5              2   \n",
       "97  [8, 16, 81, 15, 26, 75, 94, 83, 77, 87, 3, 3, ...       90             42   \n",
       "98  [86, 82, 93, 81, 41, 56, 84, 91, 11, 98, 48, 5...        3              1   \n",
       "99  [80, 85, 65, 13, 23, 83, 34, 93, 9, 46, 78, 9,...       10              4   \n",
       "\n",
       "    item_recency                                        item_genres  click  \\\n",
       "0       0.786646  [46, 41, 42, 94, 73, 1, 91, 96, 84, 58, 42, 13...      0   \n",
       "1       0.745052  [42, 72, 18, 79, 51, 66, 71, 79, 18, 18, 21, 5...      1   \n",
       "2       0.321432  [56, 15, 22, 71, 74, 28, 33, 97, 68, 35, 15, 7...      1   \n",
       "3       0.668958  [71, 37, 73, 99, 56, 34, 9, 42, 73, 88, 53, 5,...      1   \n",
       "4       0.537415  [74, 9, 8, 98, 94, 26, 8, 17, 97, 70, 75, 81, ...      0   \n",
       "..           ...                                                ...    ...   \n",
       "95      0.466365  [49, 20, 26, 10, 97, 86, 79, 75, 20, 39, 14, 1...      0   \n",
       "96      0.137007  [53, 79, 51, 62, 79, 57, 54, 36, 75, 94, 38, 8...      1   \n",
       "97      0.950070  [54, 22, 17, 92, 71, 97, 37, 3, 41, 85, 93, 20...      1   \n",
       "98      0.256286  [3, 87, 39, 22, 86, 44, 92, 49, 47, 77, 79, 17...      1   \n",
       "99      0.291558  [25, 90, 17, 90, 9, 54, 89, 76, 49, 49, 1, 67,...      0   \n",
       "\n",
       "    like  position  play_percentage  \n",
       "0      1        80              0.0  \n",
       "1      0        66              0.0  \n",
       "2      0        15              0.0  \n",
       "3      0        11              0.0  \n",
       "4      1        51              0.0  \n",
       "..   ...       ...              ...  \n",
       "95     0         8              0.0  \n",
       "96     0        94              0.0  \n",
       "97     0        53              0.0  \n",
       "98     1        44              0.0  \n",
       "99     1        41              0.0  \n",
       "\n",
       "[100 rows x 13 columns]"
      ]
     },
     "execution_count": 1,
     "metadata": {},
     "output_type": "execute_result"
    }
   ],
   "source": [
    "import merlin.models.tf as ml\n",
    "from merlin.models.data.synthetic import SyntheticData\n",
    "\n",
    "music_data = SyntheticData(\"music-streaming\")\n",
    "\n",
    "music_data.dataframe"
   ]
  },
  {
   "cell_type": "markdown",
   "metadata": {
    "pycharm": {
     "name": "#%% md\n"
    }
   },
   "source": [
    "## Retrieval"
   ]
  },
  {
   "cell_type": "code",
   "execution_count": 2,
   "metadata": {
    "pycharm": {
     "name": "#%%\n"
    }
   },
   "outputs": [
    {
     "name": "stdout",
     "output_type": "stream",
     "text": [
      "Epoch 1/2\n"
     ]
    },
    {
     "name": "stderr",
     "output_type": "stream",
     "text": [
      "2022-02-17 10:39:56.968088: W tensorflow/python/util/util.cc:368] Sets are not currently considered sequences, but this may change in the future, so consider avoiding using them.\n",
      "2022-02-17 10:39:57.905631: I tensorflow/stream_executor/cuda/cuda_blas.cc:1774] TensorFloat-32 will be used for the matrix multiplication. This will only be logged once.\n"
     ]
    },
    {
     "name": "stdout",
     "output_type": "stream",
     "text": [
      "WARNING:tensorflow:AutoGraph could not transform <bound method Socket.send of <zmq.Socket(zmq.PUSH) at 0x7fa17c6cf100>> and will run it as-is.\n",
      "Please report this to the TensorFlow team. When filing the bug, set the verbosity to 10 (on Linux, `export AUTOGRAPH_VERBOSITY=10`) and attach the full output.\n",
      "Cause: module, class, method, function, traceback, frame, or code object was expected, got cython_function_or_method\n",
      "To silence this warning, decorate the function with @tf.autograph.experimental.do_not_convert\n",
      "WARNING: AutoGraph could not transform <bound method Socket.send of <zmq.Socket(zmq.PUSH) at 0x7fa17c6cf100>> and will run it as-is.\n",
      "Please report this to the TensorFlow team. When filing the bug, set the verbosity to 10 (on Linux, `export AUTOGRAPH_VERBOSITY=10`) and attach the full output.\n",
      "Cause: module, class, method, function, traceback, frame, or code object was expected, got cython_function_or_method\n",
      "To silence this warning, decorate the function with @tf.autograph.experimental.do_not_convert\n"
     ]
    },
    {
     "name": "stderr",
     "output_type": "stream",
     "text": [
      "The sampler InBatchSampler returned no samples for this batch.\n"
     ]
    },
    {
     "name": "stdout",
     "output_type": "stream",
     "text": [
      "2/2 [==============================] - 4s 202ms/step - ndcg_at_1_10: 0.0818 - ndcg_at_1_20: 0.1347 - recall_at_1_10: 0.1733 - recall_at_1_20: 0.3800 - avg_precision_at_1_10: 0.0543 - avg_precision_at_1_20: 0.0692 - loss: 3.8906 - regularization_loss: 0.0000e+00 - total_loss: 3.8906\n",
      "Epoch 2/2\n",
      "2/2 [==============================] - 0s 197ms/step - ndcg_at_1_10: 0.3223 - ndcg_at_1_20: 0.3710 - recall_at_1_10: 0.5067 - recall_at_1_20: 0.7000 - avg_precision_at_1_10: 0.2664 - avg_precision_at_1_20: 0.2796 - loss: 3.8514 - regularization_loss: 0.0000e+00 - total_loss: 3.8514\n",
      "Number of parameters: 421682\n"
     ]
    }
   ],
   "source": [
    "retrieval_model = ml.TwoTowerModel(music_data.schema, query_tower=ml.MLPBlock([512, 256]))\n",
    "\n",
    "retrieval_model.compile(optimizer=\"adam\", run_eagerly=True)\n",
    "retrieval_model.fit(music_data.tf_dataloader(batch_size=50), epochs=2)\n",
    "\n",
    "print(f\"Number of parameters: {retrieval_model.count_params()}\")"
   ]
  },
  {
   "cell_type": "markdown",
   "metadata": {
    "pycharm": {
     "name": "#%% md\n"
    }
   },
   "source": [
    "## Ranking"
   ]
  },
  {
   "cell_type": "code",
   "execution_count": 3,
   "metadata": {
    "pycharm": {
     "name": "#%%\n"
    }
   },
   "outputs": [
    {
     "name": "stdout",
     "output_type": "stream",
     "text": [
      "Epoch 1/2\n",
      "2/2 [==============================] - 0s 45ms/step - click/binary_classification_task/precision: 0.5263 - click/binary_classification_task/recall: 0.9615 - click/binary_classification_task/binary_accuracy: 0.5300 - click/binary_classification_task/auc: 0.5325 - like/binary_classification_task/precision: 0.0000e+00 - like/binary_classification_task/recall: 0.0000e+00 - like/binary_classification_task/binary_accuracy: 0.5400 - like/binary_classification_task/auc: 0.4960 - play_percentage/regression_task/root_mean_squared_error: 157.5840 - loss: 10030.4986 - regularization_loss: 0.0000e+00 - total_loss: 10030.4986\n",
      "Epoch 2/2\n",
      "2/2 [==============================] - 0s 44ms/step - click/binary_classification_task/precision: 0.5376 - click/binary_classification_task/recall: 0.9615 - click/binary_classification_task/binary_accuracy: 0.5500 - click/binary_classification_task/auc: 0.5254 - like/binary_classification_task/precision: 0.0000e+00 - like/binary_classification_task/recall: 0.0000e+00 - like/binary_classification_task/binary_accuracy: 0.5400 - like/binary_classification_task/auc: 0.5068 - play_percentage/regression_task/root_mean_squared_error: 74.0623 - loss: 1298.9336 - regularization_loss: 0.0000e+00 - total_loss: 1298.9336\n",
      "Number of parameters: 2004483\n"
     ]
    }
   ],
   "source": [
    "ranking_model = ml.DLRMModel(\n",
    "    music_data.schema,\n",
    "    embedding_dim=64,\n",
    "    bottom_block=ml.MLPBlock([64]),\n",
    "    top_block=ml.MLPBlock([32])\n",
    ")\n",
    "\n",
    "ranking_model.compile(optimizer=\"adam\", run_eagerly=True)\n",
    "ranking_model.fit(music_data.tf_dataloader(batch_size=50), epochs=2)\n",
    "\n",
    "print(f\"Number of parameters: {ranking_model.count_params()}\")"
   ]
  },
  {
   "cell_type": "code",
   "execution_count": null,
   "metadata": {},
   "outputs": [],
   "source": []
  }
 ],
 "metadata": {
  "kernelspec": {
   "display_name": "merlin-tf",
   "language": "python",
   "name": "merlin-tf"
  },
  "language_info": {
   "codemirror_mode": {
    "name": "ipython",
    "version": 3
   },
   "file_extension": ".py",
   "mimetype": "text/x-python",
   "name": "python",
   "nbconvert_exporter": "python",
   "pygments_lexer": "ipython3",
   "version": "3.8.12"
  }
 },
 "nbformat": 4,
 "nbformat_minor": 1
}
