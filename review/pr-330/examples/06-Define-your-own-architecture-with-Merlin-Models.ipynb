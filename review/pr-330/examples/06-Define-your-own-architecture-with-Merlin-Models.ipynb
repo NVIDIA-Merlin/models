{
 "cells": [
  {
   "cell_type": "code",
   "execution_count": 1,
   "id": "437fb3d0",
   "metadata": {},
   "outputs": [],
   "source": [
    "# Copyright 2021 NVIDIA Corporation. All Rights Reserved.\n",
    "#\n",
    "# Licensed under the Apache License, Version 2.0 (the \"License\");\n",
    "# you may not use this file except in compliance with the License.\n",
    "# You may obtain a copy of the License at\n",
    "#\n",
    "#     http://www.apache.org/licenses/LICENSE-2.0\n",
    "#\n",
    "# Unless required by applicable law or agreed to in writing, software\n",
    "# distributed under the License is distributed on an \"AS IS\" BASIS,\n",
    "# WITHOUT WARRANTIES OR CONDITIONS OF ANY KIND, either express or implied.\n",
    "# See the License for the specific language governing permissions and\n",
    "# limitations under the License.\n",
    "# ================================"
   ]
  },
  {
   "cell_type": "markdown",
   "id": "3d1cdb55",
   "metadata": {},
   "source": [
    "## Taking the Next Step with Merlin Models: Define Your Own Architecture\n",
    "\n",
    "In [explore-different-models](https://github.com/NVIDIA-Merlin/models/blob/main/examples/Exploring-different-models.ipynb), we conducted a benchmark of standard and deep learning-based ranking models provided by the high-level Merlin Models API. The library also includes the standard components of deep learning that let recsys practioners and researchers to define custom models, train and export them for inference.  \n",
    "\n",
    "\n",
    "In this example, we combine pre-existing blocks and demonstrate how to create the [DLRM](https://arxiv.org/abs/1906.00091) architecture.\n",
    "\n",
    "\n",
    "### Learning objectives\n",
    "- Understand the building blocks of Merlin Models\n",
    "- Define a model architecture from scratch"
   ]
  },
  {
   "cell_type": "markdown",
   "id": "c3484745",
   "metadata": {},
   "source": [
    "### Introduction to Merlin-models core building blocks"
   ]
  },
  {
   "cell_type": "markdown",
   "id": "38064434",
   "metadata": {},
   "source": [
    "The [Block](https://nvidia-merlin.github.io/models/review/pr-294/generated/merlin.models.tf.Block.html#merlin.models.tf.Block) is the core abstraction in Merlin Models and is the class from which all blocks inherit.\n",
    "The class extends the [tf.keras.layers.Layer](https://www.tensorflow.org/api_docs/python/tf/keras/layers/Layer) base class and implements a number of properties that simplify the creation of custom blocks and models. These properties include the `Schema` object for determining the embedding dimensions, input shapes, and output shapes. Additionally, the `Block` has a `BlockContext` instance to store and retrieve public variables and share them with other blocks in the same model as additional meta-data. \n",
    "\n",
    "Before deep-diving into the definition of the DLRM architecture, let's start by listing the core components you need to know to define a model from scratch:"
   ]
  },
  {
   "cell_type": "markdown",
   "id": "4a55518e",
   "metadata": {},
   "source": [
    "#### Features Blocks"
   ]
  },
  {
   "cell_type": "markdown",
   "id": "2722cfc9",
   "metadata": {},
   "source": [
    "They include input blocks to process various inputs based on their types and shapes. Merlin Models supports three main blocks: \n",
    "- `EmbeddingFeatures`: Input block for embedding-lookups for categorical features.\n",
    "- `SequenceEmbeddingFeatures`: Input block for embedding-lookups for sequential categorical features (3D tensors).\n",
    "- `ContinuousFeatures`: Input block for continuous features."
   ]
  },
  {
   "cell_type": "markdown",
   "id": "aefb7b6f",
   "metadata": {},
   "source": [
    "#### Transformations Blocks"
   ]
  },
  {
   "cell_type": "markdown",
   "id": "20e25507",
   "metadata": {},
   "source": [
    "They include various operators commonly used to transform tensors in various parts of the model, such as: \n",
    "\n",
    "- `AsDenseFeatures`: It takes a dictionary of raw input tensors and transforms the sparse tensors into dense tensors.\n",
    "- `L2Norm`: It takes a single or a dictionary of hidden tensors and applies an L2-normalization along a given axis. \n",
    "- `LogitsTemperatureScaler`: It scales the output tensor of predicted logits to lower the model's confidence. "
   ]
  },
  {
   "cell_type": "markdown",
   "id": "7e59a846",
   "metadata": {},
   "source": [
    "#### Aggregations Blocks"
   ]
  },
  {
   "cell_type": "markdown",
   "id": "c9ace1c2",
   "metadata": {},
   "source": [
    "They inlude common aggregation operations to combine multiple tensors, such as: \n",
    "- `ConcatFeatures`: Concatenate dictionary of tensors along a given dimension.\n",
    "- `StackFeatures`: Stack dictionary of tensors along a given dimension.\n",
    "- `CosineSimilarity`: Calculate the cosine similarity between two tensors. \n"
   ]
  },
  {
   "cell_type": "markdown",
   "id": "17e828ca",
   "metadata": {},
   "source": [
    "#### Connects Methods"
   ]
  },
  {
   "cell_type": "markdown",
   "id": "e2a96ea3",
   "metadata": {},
   "source": [
    "The base class `Block` implements different connects methods that control how to link a given block to other blocks: \n",
    "\n",
    "- `connect`: Connect the block to other blocks sequentially. The output is a tensor returned by the last block. \n",
    "- `connect_branch`: Link the block to other blocks in parallel. The output is a dictionary containing the output tensor of each block.\n",
    "- `connect_with_shortcut`: Connect the block to other blocks sequentially and apply a skip connection with the block's output. \n",
    "- `connect_with_residual`: Connect the block to other blocks sequentially and apply a residual sum with the block's output."
   ]
  },
  {
   "cell_type": "markdown",
   "id": "a8f152bd",
   "metadata": {},
   "source": [
    "#### Prediction Tasks"
   ]
  },
  {
   "cell_type": "markdown",
   "id": "a1495fa5",
   "metadata": {},
   "source": [
    "Merlin Models introduces the `PredictionTask` layer that defines the necessary blocks and transformation operations to compute the final prediction scores. It also provides the default loss and metrics related to the given prediction task.\\\n",
    "Merlin Models supports the core tasks:  `BinaryClassificationTask`, `MultiClassClassificationTask`, and`RegressionTask`. In addition to the preceding tasks, Merlin Models provides tasks that are specific to recommender systems: `NextItemPredictionTask`, and `ItemRetrievalTask`.\n",
    "\n",
    "\n"
   ]
  },
  {
   "cell_type": "markdown",
   "id": "af3135f5",
   "metadata": {},
   "source": [
    "### Implement the DLRM model with MovieLens-1M data"
   ]
  },
  {
   "cell_type": "markdown",
   "id": "035b716f",
   "metadata": {},
   "source": [
    "Now that we have introduced the core blocks of Merlin Models, let's take a look at how we can combine them to define the DLRM architecture:"
   ]
  },
  {
   "cell_type": "code",
   "execution_count": 2,
   "id": "9727acf9",
   "metadata": {},
   "outputs": [
    {
     "name": "stderr",
     "output_type": "stream",
     "text": [
      "2022-03-29 18:19:36.705822: I tensorflow/core/common_runtime/gpu/gpu_device.cc:1525] Created device /job:localhost/replica:0/task:0/device:GPU:0 with 24570 MB memory:  -> device: 0, name: NVIDIA RTX A6000, pci bus id: 0000:65:00.0, compute capability: 8.6\n",
      "/nvtabular/nvtabular/graph.py:23: FutureWarning: The `nvtabular.graph` module has moved to `merlin.dag`. Support for importing from `nvtabular.graph` is deprecated, and will be removed in a future version. Please update your imports to import from `merlin.dag`.\n",
      "  warnings.warn(\n",
      "/nvtabular/nvtabular/io.py:23: FutureWarning: The `nvtabular.io` module has moved to `merlin.io`. Support for importing from `nvtabular.io` is deprecated, and will be removed in a future version. Please update your imports to import from `merlin.io`.\n",
      "  warnings.warn(\n",
      "/nvtabular/nvtabular/utils.py:23: FutureWarning: The `nvtabular.utils` module has moved to `merlin.core.utils`. Support for importing from `nvtabular.utils` is deprecated, and will be removed in a future version. Please update your imports to import from `merlin.core.utils`.\n",
      "  warnings.warn(\n",
      "/nvtabular/nvtabular/dispatch.py:23: FutureWarning: The `nvtabular.dispatch` module has moved to `merlin.core.dispatch`. Support for importing from `nvtabular.dispatch` is deprecated, and will be removed in a future version. Please update your imports to import from `merlin.core.dispatch`.\n",
      "  warnings.warn(\n"
     ]
    }
   ],
   "source": [
    "import tensorflow as tf\n",
    "import merlin.models.tf as mm\n",
    "\n",
    "from merlin.models.data.movielens import get_movielens\n",
    "from merlin.schema.tags import Tags"
   ]
  },
  {
   "cell_type": "markdown",
   "id": "afdf0070",
   "metadata": {},
   "source": [
    "We use the `get_movielens` function to download, extract, and preprocess the MovieLens 1M  dataset:"
   ]
  },
  {
   "cell_type": "code",
   "execution_count": 3,
   "id": "8392476d",
   "metadata": {},
   "outputs": [
    {
     "name": "stderr",
     "output_type": "stream",
     "text": [
      "downloading ml-1m.zip: 5.93MB [00:00, 6.12MB/s]                                                                                                                               \n",
      "unzipping files: 100%|███████████████████████████████████████████████████████████████████████████████████████████████████████████████████████| 5/5 [00:00<00:00, 46.40files/s]\n",
      "/models/merlin/models/data/movielens.py:298: ParserWarning: Falling back to the 'python' engine because the 'c' engine does not support regex separators (separators > 1 char and different from '\\s+' are interpreted as regex); you can avoid this warning by specifying engine='python'.\n",
      "  users = pd.read_csv(\n",
      "/models/merlin/models/data/movielens.py:303: ParserWarning: Falling back to the 'python' engine because the 'c' engine does not support regex separators (separators > 1 char and different from '\\s+' are interpreted as regex); you can avoid this warning by specifying engine='python'.\n",
      "  ratings = pd.read_csv(\n",
      "/models/merlin/models/data/movielens.py:308: ParserWarning: Falling back to the 'python' engine because the 'c' engine does not support regex separators (separators > 1 char and different from '\\s+' are interpreted as regex); you can avoid this warning by specifying engine='python'.\n",
      "  movies = pd.read_csv(\n",
      "INFO:merlin.models.data.movielens:starting ETL..\n",
      "/usr/local/lib/python3.8/dist-packages/cudf/core/dataframe.py:1253: UserWarning: The deep parameter is ignored and is only included for pandas compatibility.\n",
      "  warnings.warn(\n",
      "/usr/local/lib/python3.8/dist-packages/cudf/core/dataframe.py:1253: UserWarning: The deep parameter is ignored and is only included for pandas compatibility.\n",
      "  warnings.warn(\n",
      "INFO:merlin.models.data.movielens:saving the workflow..\n",
      "/usr/local/lib/python3.8/dist-packages/cudf/core/dataframe.py:1253: UserWarning: The deep parameter is ignored and is only included for pandas compatibility.\n",
      "  warnings.warn(\n"
     ]
    }
   ],
   "source": [
    "train, valid = get_movielens(variant=\"ml-1m\")"
   ]
  },
  {
   "cell_type": "markdown",
   "id": "8a1ab265",
   "metadata": {},
   "source": [
    "We display the first five rows of the validation data and use them to check the outputs of each building block: "
   ]
  },
  {
   "cell_type": "code",
   "execution_count": 4,
   "id": "1e9f9a9c",
   "metadata": {},
   "outputs": [
    {
     "data": {
      "text/html": [
       "<div>\n",
       "<style scoped>\n",
       "    .dataframe tbody tr th:only-of-type {\n",
       "        vertical-align: middle;\n",
       "    }\n",
       "\n",
       "    .dataframe tbody tr th {\n",
       "        vertical-align: top;\n",
       "    }\n",
       "\n",
       "    .dataframe thead th {\n",
       "        text-align: right;\n",
       "    }\n",
       "</style>\n",
       "<table border=\"1\" class=\"dataframe\">\n",
       "  <thead>\n",
       "    <tr style=\"text-align: right;\">\n",
       "      <th></th>\n",
       "      <th>userId</th>\n",
       "      <th>movieId</th>\n",
       "      <th>title</th>\n",
       "      <th>genres</th>\n",
       "      <th>gender</th>\n",
       "      <th>age</th>\n",
       "      <th>occupation</th>\n",
       "      <th>zipcode</th>\n",
       "      <th>TE_age_rating</th>\n",
       "      <th>TE_gender_rating</th>\n",
       "      <th>TE_occupation_rating</th>\n",
       "      <th>TE_zipcode_rating</th>\n",
       "      <th>TE_movieId_rating</th>\n",
       "      <th>TE_userId_rating</th>\n",
       "      <th>rating_binary</th>\n",
       "      <th>rating</th>\n",
       "    </tr>\n",
       "  </thead>\n",
       "  <tbody>\n",
       "    <tr>\n",
       "      <th>0</th>\n",
       "      <td>1206</td>\n",
       "      <td>399</td>\n",
       "      <td>399</td>\n",
       "      <td>[7, 11]</td>\n",
       "      <td>1</td>\n",
       "      <td>4</td>\n",
       "      <td>8</td>\n",
       "      <td>388</td>\n",
       "      <td>0.490789</td>\n",
       "      <td>0.013363</td>\n",
       "      <td>0.435233</td>\n",
       "      <td>0.612872</td>\n",
       "      <td>0.918907</td>\n",
       "      <td>0.732432</td>\n",
       "      <td>1</td>\n",
       "      <td>5.0</td>\n",
       "    </tr>\n",
       "    <tr>\n",
       "      <th>1</th>\n",
       "      <td>3545</td>\n",
       "      <td>31</td>\n",
       "      <td>31</td>\n",
       "      <td>[3, 4]</td>\n",
       "      <td>1</td>\n",
       "      <td>3</td>\n",
       "      <td>1</td>\n",
       "      <td>2128</td>\n",
       "      <td>0.009513</td>\n",
       "      <td>0.024117</td>\n",
       "      <td>0.349702</td>\n",
       "      <td>0.801575</td>\n",
       "      <td>0.836451</td>\n",
       "      <td>0.800441</td>\n",
       "      <td>1</td>\n",
       "      <td>4.0</td>\n",
       "    </tr>\n",
       "    <tr>\n",
       "      <th>2</th>\n",
       "      <td>3690</td>\n",
       "      <td>331</td>\n",
       "      <td>330</td>\n",
       "      <td>[1, 9]</td>\n",
       "      <td>1</td>\n",
       "      <td>3</td>\n",
       "      <td>1</td>\n",
       "      <td>547</td>\n",
       "      <td>0.018086</td>\n",
       "      <td>0.006682</td>\n",
       "      <td>0.346261</td>\n",
       "      <td>0.669338</td>\n",
       "      <td>0.544529</td>\n",
       "      <td>0.730000</td>\n",
       "      <td>1</td>\n",
       "      <td>5.0</td>\n",
       "    </tr>\n",
       "    <tr>\n",
       "      <th>3</th>\n",
       "      <td>1821</td>\n",
       "      <td>1253</td>\n",
       "      <td>1253</td>\n",
       "      <td>[18]</td>\n",
       "      <td>1</td>\n",
       "      <td>2</td>\n",
       "      <td>3</td>\n",
       "      <td>1563</td>\n",
       "      <td>0.424777</td>\n",
       "      <td>0.000000</td>\n",
       "      <td>0.500179</td>\n",
       "      <td>0.719966</td>\n",
       "      <td>0.858095</td>\n",
       "      <td>0.748005</td>\n",
       "      <td>1</td>\n",
       "      <td>4.0</td>\n",
       "    </tr>\n",
       "    <tr>\n",
       "      <th>4</th>\n",
       "      <td>598</td>\n",
       "      <td>20</td>\n",
       "      <td>20</td>\n",
       "      <td>[2, 11]</td>\n",
       "      <td>2</td>\n",
       "      <td>7</td>\n",
       "      <td>13</td>\n",
       "      <td>423</td>\n",
       "      <td>0.178997</td>\n",
       "      <td>0.981566</td>\n",
       "      <td>0.341244</td>\n",
       "      <td>0.558114</td>\n",
       "      <td>0.974683</td>\n",
       "      <td>0.597522</td>\n",
       "      <td>1</td>\n",
       "      <td>5.0</td>\n",
       "    </tr>\n",
       "  </tbody>\n",
       "</table>\n",
       "</div>"
      ],
      "text/plain": [
       "   userId  movieId  title   genres  gender  age  occupation  zipcode  \\\n",
       "0    1206      399    399  [7, 11]       1    4           8      388   \n",
       "1    3545       31     31   [3, 4]       1    3           1     2128   \n",
       "2    3690      331    330   [1, 9]       1    3           1      547   \n",
       "3    1821     1253   1253     [18]       1    2           3     1563   \n",
       "4     598       20     20  [2, 11]       2    7          13      423   \n",
       "\n",
       "   TE_age_rating  TE_gender_rating  TE_occupation_rating  TE_zipcode_rating  \\\n",
       "0       0.490789          0.013363              0.435233           0.612872   \n",
       "1       0.009513          0.024117              0.349702           0.801575   \n",
       "2       0.018086          0.006682              0.346261           0.669338   \n",
       "3       0.424777          0.000000              0.500179           0.719966   \n",
       "4       0.178997          0.981566              0.341244           0.558114   \n",
       "\n",
       "   TE_movieId_rating  TE_userId_rating  rating_binary  rating  \n",
       "0           0.918907          0.732432              1     5.0  \n",
       "1           0.836451          0.800441              1     4.0  \n",
       "2           0.544529          0.730000              1     5.0  \n",
       "3           0.858095          0.748005              1     4.0  \n",
       "4           0.974683          0.597522              1     5.0  "
      ]
     },
     "execution_count": 4,
     "metadata": {},
     "output_type": "execute_result"
    }
   ],
   "source": [
    "valid.head()"
   ]
  },
  {
   "cell_type": "markdown",
   "id": "2776ee8f",
   "metadata": {},
   "source": [
    "We convert the first five rows of the `valid` dataset to a batch of input tensors:  "
   ]
  },
  {
   "cell_type": "code",
   "execution_count": 5,
   "id": "f6d3f0a0",
   "metadata": {},
   "outputs": [
    {
     "data": {
      "text/plain": [
       "<tf.Tensor: shape=(5, 1), dtype=int32, numpy=\n",
       "array([[1206],\n",
       "       [3545],\n",
       "       [3690],\n",
       "       [1821],\n",
       "       [ 598]], dtype=int32)>"
      ]
     },
     "execution_count": 5,
     "metadata": {},
     "output_type": "execute_result"
    }
   ],
   "source": [
    "batch = mm.sample_batch(valid, batch_size=5, shuffle=False)\n",
    "batch[\"userId\"]"
   ]
  },
  {
   "cell_type": "markdown",
   "id": "e617b868",
   "metadata": {},
   "source": [
    "#### Define the inputs block"
   ]
  },
  {
   "cell_type": "markdown",
   "id": "ff681186",
   "metadata": {},
   "source": [
    "For the sake of simplicity, let's create a schema with a subset of the following continuous and categorical features: "
   ]
  },
  {
   "cell_type": "code",
   "execution_count": 6,
   "id": "bfa83221",
   "metadata": {},
   "outputs": [],
   "source": [
    "sub_schema = train.schema.select_by_name(\n",
    "    [\n",
    "        \"userId\",\n",
    "        \"movieId\",\n",
    "        \"title\",\n",
    "        \"gender\",\n",
    "        \"TE_zipcode_rating\",\n",
    "        \"TE_movieId_rating\",\n",
    "        \"rating_binary\",\n",
    "    ]\n",
    ")"
   ]
  },
  {
   "cell_type": "markdown",
   "id": "83ad5158",
   "metadata": {},
   "source": [
    "We define the continuous layer based on the schema:"
   ]
  },
  {
   "cell_type": "code",
   "execution_count": 7,
   "id": "99ebc4e7",
   "metadata": {},
   "outputs": [],
   "source": [
    "continuous_block = mm.ContinuousFeatures.from_schema(sub_schema, tags=Tags.CONTINUOUS)"
   ]
  },
  {
   "cell_type": "markdown",
   "id": "33ea9598",
   "metadata": {},
   "source": [
    "We display the output tensor of the continuous block by using the data from the first batch. We can see the raw tensors of the continuous features:"
   ]
  },
  {
   "cell_type": "code",
   "execution_count": 8,
   "id": "949ddfff",
   "metadata": {},
   "outputs": [
    {
     "data": {
      "text/plain": [
       "{'TE_zipcode_rating': <tf.Tensor: shape=(5, 1), dtype=float32, numpy=\n",
       " array([[0.6128716 ],\n",
       "        [0.8015746 ],\n",
       "        [0.66933787],\n",
       "        [0.719966  ],\n",
       "        [0.55811405]], dtype=float32)>,\n",
       " 'TE_movieId_rating': <tf.Tensor: shape=(5, 1), dtype=float32, numpy=\n",
       " array([[0.91890687],\n",
       "        [0.83645064],\n",
       "        [0.5445293 ],\n",
       "        [0.8580947 ],\n",
       "        [0.97468275]], dtype=float32)>}"
      ]
     },
     "execution_count": 8,
     "metadata": {},
     "output_type": "execute_result"
    }
   ],
   "source": [
    "continuous_block(batch)"
   ]
  },
  {
   "cell_type": "markdown",
   "id": "ec1d6814",
   "metadata": {},
   "source": [
    "We connect the continuous block to a `MLPBlock` instance to project them into the same dimensionality as the embedding width of categorical features:"
   ]
  },
  {
   "cell_type": "code",
   "execution_count": 9,
   "id": "dab54918",
   "metadata": {},
   "outputs": [
    {
     "name": "stderr",
     "output_type": "stream",
     "text": [
      "2022-03-29 18:20:07.818244: I tensorflow/stream_executor/cuda/cuda_blas.cc:1792] TensorFloat-32 will be used for the matrix multiplication. This will only be logged once.\n"
     ]
    },
    {
     "data": {
      "text/plain": [
       "TensorShape([5, 64])"
      ]
     },
     "execution_count": 9,
     "metadata": {},
     "output_type": "execute_result"
    }
   ],
   "source": [
    "deep_continuous_block = continuous_block.connect(mm.MLPBlock([64]))\n",
    "deep_continuous_block(batch).shape"
   ]
  },
  {
   "cell_type": "markdown",
   "id": "3c99b0e7",
   "metadata": {},
   "source": [
    "We define the categorical embedding block based on the schema:"
   ]
  },
  {
   "cell_type": "code",
   "execution_count": 10,
   "id": "a05faa08",
   "metadata": {},
   "outputs": [],
   "source": [
    "embedding_block = mm.EmbeddingFeatures.from_schema(sub_schema)"
   ]
  },
  {
   "cell_type": "markdown",
   "id": "bbd9ea00",
   "metadata": {},
   "source": [
    "We display the output tensor of the categorical embedding block using the data from the first batch. We can see the embeddings tensors of categorical features with a default dimension of 64:"
   ]
  },
  {
   "cell_type": "code",
   "execution_count": 11,
   "id": "ada6756a",
   "metadata": {},
   "outputs": [
    {
     "data": {
      "text/plain": [
       "(dict_keys(['userId', 'movieId', 'title', 'gender']), TensorShape([5, 64]))"
      ]
     },
     "execution_count": 11,
     "metadata": {},
     "output_type": "execute_result"
    }
   ],
   "source": [
    "embeddings = embedding_block(batch)\n",
    "embeddings.keys(), embeddings[\"userId\"].shape"
   ]
  },
  {
   "cell_type": "markdown",
   "id": "e780b32d",
   "metadata": {},
   "source": [
    "Let's store the continuous and categorical representations in a single dictionary using a `ParallelBlock` instance:"
   ]
  },
  {
   "cell_type": "code",
   "execution_count": 12,
   "id": "36f9ba1f",
   "metadata": {},
   "outputs": [
    {
     "name": "stdout",
     "output_type": "stream",
     "text": [
      "Output shapes of DLRM input block:\n",
      "\tuserId : (5, 64)\n",
      "\tmovieId : (5, 64)\n",
      "\ttitle : (5, 64)\n",
      "\tgender : (5, 64)\n",
      "\tdeep_continuous : (5, 64)\n"
     ]
    }
   ],
   "source": [
    "dlrm_input_block = mm.ParallelBlock(\n",
    "    {\"embeddings\": embedding_block, \"deep_continuous\": deep_continuous_block}\n",
    ")\n",
    "print(\"Output shapes of DLRM input block:\")\n",
    "for key, val in dlrm_input_block(batch).items():\n",
    "    print(\"\\t%s : %s\" % (key, val.shape))"
   ]
  },
  {
   "cell_type": "markdown",
   "id": "3ca18d20",
   "metadata": {},
   "source": [
    "By looking at the output, we can see that the `ParallelBlock` class applies embedding and continuous blocks, in parallel, to the same input batch.  Additionally, it merges the resulting tensors into one dictionary."
   ]
  },
  {
   "cell_type": "markdown",
   "id": "dce64319",
   "metadata": {},
   "source": [
    "#### Define the interaction block"
   ]
  },
  {
   "cell_type": "markdown",
   "id": "e42a91dd",
   "metadata": {},
   "source": [
    "Now that we have a vector representation of each input feature, we will create the DLRM interaction block. It consists of three operations: \n",
    "- Apply a dot product between all continuous and categorical features to learn pairwise interactions. \n",
    "- Concat the resulting pairwise interaction with the deep representation of conitnuous features (skip-connection). \n",
    "- Apply an `MLPBlock` with a series of dense layers to the concatenated tensor. "
   ]
  },
  {
   "cell_type": "markdown",
   "id": "e3fd1dad",
   "metadata": {},
   "source": [
    "First, we will use the `connect_with_shortcut` method to create first two operations of the DLRM interaction block:"
   ]
  },
  {
   "cell_type": "code",
   "execution_count": 13,
   "id": "b55fddef",
   "metadata": {},
   "outputs": [],
   "source": [
    "from merlin.models.tf.blocks.dlrm import DotProductInteractionBlock\n",
    "\n",
    "dlrm_interaction = dlrm_input_block.connect_with_shortcut(\n",
    "    DotProductInteractionBlock(), shortcut_filter=mm.Filter(\"deep_continuous\"), aggregation=\"concat\"\n",
    ")"
   ]
  },
  {
   "cell_type": "markdown",
   "id": "ebd5979a",
   "metadata": {},
   "source": [
    "The following diagram provides a visualization of the operations that we constructed in the `dlrm_interaction` object.\n",
    "\n",
    "<img src=\"./images/residual_interaction.png\"  width=\"30%\">\n"
   ]
  },
  {
   "cell_type": "code",
   "execution_count": 14,
   "id": "9a958774",
   "metadata": {},
   "outputs": [
    {
     "data": {
      "text/plain": [
       "<tf.Tensor: shape=(5, 2080), dtype=float32, numpy=\n",
       "array([[ 0.29670617,  0.17453526,  0.08847345, ..., -0.00228415,\n",
       "        -0.02754709, -0.01667024],\n",
       "       [ 0.30812162,  0.17272592,  0.13340692, ..., -0.00852957,\n",
       "         0.011024  , -0.01246084],\n",
       "       [ 0.22361305,  0.12082947,  0.11885215, ..., -0.01039359,\n",
       "        -0.02479763, -0.00856052],\n",
       "       [ 0.30011836,  0.17137763,  0.11465316, ..., -0.01257536,\n",
       "         0.00821264, -0.01441752],\n",
       "       [ 0.3003616 ,  0.17990217,  0.07389256, ...,  0.00241253,\n",
       "         0.00440571,  0.03609017]], dtype=float32)>"
      ]
     },
     "execution_count": 14,
     "metadata": {},
     "output_type": "execute_result"
    }
   ],
   "source": [
    "dlrm_interaction(batch)"
   ]
  },
  {
   "cell_type": "markdown",
   "id": "c1f5c74f",
   "metadata": {},
   "source": [
    "Then, we project the learned interaction using a series of dense layers:"
   ]
  },
  {
   "cell_type": "code",
   "execution_count": 15,
   "id": "368998d8",
   "metadata": {},
   "outputs": [
    {
     "data": {
      "text/plain": [
       "<tf.Tensor: shape=(5, 512), dtype=float32, numpy=\n",
       "array([[0.01519031, 0.        , 0.00602788, ..., 0.        , 0.00327193,\n",
       "        0.00345114],\n",
       "       [0.01459008, 0.        , 0.00501918, ..., 0.        , 0.        ,\n",
       "        0.00335501],\n",
       "       [0.00564237, 0.00361753, 0.01140465, ..., 0.        , 0.        ,\n",
       "        0.        ],\n",
       "       [0.01802476, 0.01410608, 0.00600051, ..., 0.        , 0.00427519,\n",
       "        0.00106162],\n",
       "       [0.        , 0.        , 0.        , ..., 0.        , 0.        ,\n",
       "        0.01305524]], dtype=float32)>"
      ]
     },
     "execution_count": 15,
     "metadata": {},
     "output_type": "execute_result"
    }
   ],
   "source": [
    "deep_dlrm_interaction = dlrm_interaction.connect(mm.MLPBlock([64, 128, 512]))\n",
    "deep_dlrm_interaction(batch)"
   ]
  },
  {
   "cell_type": "markdown",
   "id": "12bae1e5",
   "metadata": {},
   "source": [
    "#### Define the Prediction block"
   ]
  },
  {
   "cell_type": "markdown",
   "id": "56c35692",
   "metadata": {},
   "source": [
    "At this stage, we have created the DLRM block that accepts a dictionary of categorical and continuous tensors as input. The output of this block is the interaction representation vector of shape `512`. The next step is to use this hidden representation to conduct a given prediction task. In our case, we use the label `rating_binary` and the objective is: to predict if a user `A` will give a high rating to a movie `B` or not. "
   ]
  },
  {
   "cell_type": "markdown",
   "id": "caae0dd1",
   "metadata": {},
   "source": [
    "We use the `BinaryClassificationTask` class and evaluate the performances using the `AUC` metric. We also use the `LogitsTemperatureScaler` block as a pre-transformation operation that scales the logits returned by the task before computing the loss and metrics:"
   ]
  },
  {
   "cell_type": "code",
   "execution_count": 16,
   "id": "47a675c5",
   "metadata": {},
   "outputs": [],
   "source": [
    "from merlin.models.tf.blocks.core.transformations import LogitsTemperatureScaler\n",
    "\n",
    "binary_task = mm.BinaryClassificationTask(\n",
    "    target_name=sub_schema.select_by_tag(Tags.TARGET).column_names[0],\n",
    "    metrics=[tf.keras.metrics.AUC],\n",
    "    pre=LogitsTemperatureScaler(temperature=2),\n",
    ")"
   ]
  },
  {
   "cell_type": "markdown",
   "id": "b681f374",
   "metadata": {},
   "source": [
    "#### Define, train, and evaluate the final DLRM Model"
   ]
  },
  {
   "cell_type": "markdown",
   "id": "c538ea99",
   "metadata": {},
   "source": [
    "We connect the deep DLRM interaction to the binary task and the method automatically generates the `Model` class for us.\n",
    "We note that the `Model` class inherits from [tf.keras.Model](https://keras.io/api/models/model/) class:"
   ]
  },
  {
   "cell_type": "code",
   "execution_count": 17,
   "id": "bce4f641",
   "metadata": {},
   "outputs": [
    {
     "data": {
      "text/plain": [
       "merlin.models.tf.models.base.Model"
      ]
     },
     "execution_count": 17,
     "metadata": {},
     "output_type": "execute_result"
    }
   ],
   "source": [
    "model = deep_dlrm_interaction.connect(binary_task)\n",
    "type(model)"
   ]
  },
  {
   "cell_type": "markdown",
   "id": "f94480a6",
   "metadata": {},
   "source": [
    "We train the model using the built-in Keras `fit` method: "
   ]
  },
  {
   "cell_type": "code",
   "execution_count": 18,
   "id": "47ab320c",
   "metadata": {},
   "outputs": [
    {
     "name": "stderr",
     "output_type": "stream",
     "text": [
      "2022-03-29 18:20:08.648590: W tensorflow/python/util/util.cc:368] Sets are not currently considered sequences, but this may change in the future, so consider avoiding using them.\n"
     ]
    },
    {
     "name": "stdout",
     "output_type": "stream",
     "text": [
      "Epoch 1/5\n",
      "WARNING:tensorflow:Gradients do not exist for variables ['embedding_features/userId:0', 'embedding_features/movieId:0', 'embedding_features/title:0', 'embedding_features/gender:0', 'parallel_block/userId:0', 'parallel_block/movieId:0', 'parallel_block/title:0', 'parallel_block/gender:0', 'sequential_block_7/userId:0', 'sequential_block_7/movieId:0', 'sequential_block_7/title:0', 'sequential_block_7/gender:0', 'sequential_block_9/userId:0', 'sequential_block_9/movieId:0', 'sequential_block_9/title:0', 'sequential_block_9/gender:0'] when minimizing the loss. If you're using `model.compile()`, did you forget to provide a `loss`argument?\n"
     ]
    },
    {
     "name": "stderr",
     "output_type": "stream",
     "text": [
      "WARNING:tensorflow:Gradients do not exist for variables ['embedding_features/userId:0', 'embedding_features/movieId:0', 'embedding_features/title:0', 'embedding_features/gender:0', 'parallel_block/userId:0', 'parallel_block/movieId:0', 'parallel_block/title:0', 'parallel_block/gender:0', 'sequential_block_7/userId:0', 'sequential_block_7/movieId:0', 'sequential_block_7/title:0', 'sequential_block_7/gender:0', 'sequential_block_9/userId:0', 'sequential_block_9/movieId:0', 'sequential_block_9/title:0', 'sequential_block_9/gender:0'] when minimizing the loss. If you're using `model.compile()`, did you forget to provide a `loss`argument?\n"
     ]
    },
    {
     "name": "stdout",
     "output_type": "stream",
     "text": [
      "WARNING:tensorflow:Gradients do not exist for variables ['embedding_features/userId:0', 'embedding_features/movieId:0', 'embedding_features/title:0', 'embedding_features/gender:0', 'parallel_block/userId:0', 'parallel_block/movieId:0', 'parallel_block/title:0', 'parallel_block/gender:0', 'sequential_block_7/userId:0', 'sequential_block_7/movieId:0', 'sequential_block_7/title:0', 'sequential_block_7/gender:0', 'sequential_block_9/userId:0', 'sequential_block_9/movieId:0', 'sequential_block_9/title:0', 'sequential_block_9/gender:0'] when minimizing the loss. If you're using `model.compile()`, did you forget to provide a `loss`argument?\n"
     ]
    },
    {
     "name": "stderr",
     "output_type": "stream",
     "text": [
      "WARNING:tensorflow:Gradients do not exist for variables ['embedding_features/userId:0', 'embedding_features/movieId:0', 'embedding_features/title:0', 'embedding_features/gender:0', 'parallel_block/userId:0', 'parallel_block/movieId:0', 'parallel_block/title:0', 'parallel_block/gender:0', 'sequential_block_7/userId:0', 'sequential_block_7/movieId:0', 'sequential_block_7/title:0', 'sequential_block_7/gender:0', 'sequential_block_9/userId:0', 'sequential_block_9/movieId:0', 'sequential_block_9/title:0', 'sequential_block_9/gender:0'] when minimizing the loss. If you're using `model.compile()`, did you forget to provide a `loss`argument?\n"
     ]
    },
    {
     "name": "stdout",
     "output_type": "stream",
     "text": [
      "782/782 [==============================] - 13s 12ms/step - rating_binary/binary_classification_task/auc: 0.5315 - loss: 0.6891 - regularization_loss: 0.0000e+00 - total_loss: 0.6891\n",
      "Epoch 2/5\n",
      "782/782 [==============================] - 10s 12ms/step - rating_binary/binary_classification_task/auc: 0.7239 - loss: 0.6427 - regularization_loss: 0.0000e+00 - total_loss: 0.6427\n",
      "Epoch 3/5\n",
      "782/782 [==============================] - 10s 12ms/step - rating_binary/binary_classification_task/auc: 0.7256 - loss: 0.6361 - regularization_loss: 0.0000e+00 - total_loss: 0.6361\n",
      "Epoch 4/5\n",
      "782/782 [==============================] - 10s 12ms/step - rating_binary/binary_classification_task/auc: 0.7260 - loss: 0.6330 - regularization_loss: 0.0000e+00 - total_loss: 0.6330\n",
      "Epoch 5/5\n",
      "782/782 [==============================] - 10s 12ms/step - rating_binary/binary_classification_task/auc: 0.7252 - loss: 0.6308 - regularization_loss: 0.0000e+00 - total_loss: 0.6308\n"
     ]
    },
    {
     "data": {
      "text/plain": [
       "<keras.callbacks.History at 0x7f25bf685c10>"
      ]
     },
     "execution_count": 18,
     "metadata": {},
     "output_type": "execute_result"
    }
   ],
   "source": [
    "model.compile(optimizer=\"adam\")\n",
    "model.fit(train, batch_size=1024, epochs=5)"
   ]
  },
  {
   "cell_type": "markdown",
   "id": "b9228cbf",
   "metadata": {},
   "source": [
    "We view the evaluation scores:"
   ]
  },
  {
   "cell_type": "code",
   "execution_count": 19,
   "id": "35dcf029",
   "metadata": {},
   "outputs": [
    {
     "name": "stderr",
     "output_type": "stream",
     "text": [
      "2022-03-29 18:21:02.127986: W tensorflow/core/grappler/optimizers/loop_optimizer.cc:907] Skipping loop optimization for Merge node with control input: cond/then/_0/cond/cond/branch_executed/_128\n"
     ]
    },
    {
     "name": "stdout",
     "output_type": "stream",
     "text": [
      "196/196 [==============================] - 3s 8ms/step - rating_binary/binary_classification_task/auc: 0.7268 - loss: 3.4001 - regularization_loss: 0.0000e+00 - total_loss: 3.4001\n"
     ]
    },
    {
     "data": {
      "text/plain": [
       "{'rating_binary/binary_classification_task/auc': 0.7267963290214539,\n",
       " 'loss': 4.002350330352783,\n",
       " 'regularization_loss': 0.0,\n",
       " 'total_loss': 4.002350330352783}"
      ]
     },
     "execution_count": 19,
     "metadata": {},
     "output_type": "execute_result"
    }
   ],
   "source": [
    "model.evaluate(valid, batch_size=1024, return_dict=True)"
   ]
  },
  {
   "cell_type": "markdown",
   "id": "085a4dea",
   "metadata": {},
   "source": [
    "Save the model so we can use it for serving predictions in production or for resuming training with new observations:"
   ]
  },
  {
   "cell_type": "code",
   "execution_count": 20,
   "id": "13e3825b",
   "metadata": {},
   "outputs": [
    {
     "name": "stderr",
     "output_type": "stream",
     "text": [
      "WARNING:absl:Function `_wrapped_model` contains input name(s) TE_age_rating, TE_gender_rating, TE_movieId_rating, TE_occupation_rating, TE_userId_rating, TE_zipcode_rating, movieId, userId with unsupported characters which will be renamed to te_age_rating, te_gender_rating, te_movieid_rating, te_occupation_rating, te_userid_rating, te_zipcode_rating, movieid, userid in the SavedModel.\n",
      "WARNING:absl:Found untraced functions such as sequential_block_9_layer_call_fn, sequential_block_9_layer_call_and_return_conditional_losses, binary_classification_task_layer_call_fn, binary_classification_task_layer_call_and_return_conditional_losses, sequential_block_9_layer_call_fn while saving (showing 5 of 155). These functions will not be directly callable after loading.\n"
     ]
    },
    {
     "name": "stdout",
     "output_type": "stream",
     "text": [
      "INFO:tensorflow:Assets written to: custom_dlrm/assets\n"
     ]
    },
    {
     "name": "stderr",
     "output_type": "stream",
     "text": [
      "INFO:tensorflow:Assets written to: custom_dlrm/assets\n"
     ]
    }
   ],
   "source": [
    "model.save(\"custom_dlrm\")"
   ]
  },
  {
   "cell_type": "markdown",
   "id": "30ec20d0",
   "metadata": {},
   "source": [
    "## Conclusion \n",
    "\n",
    "Merlin Models provides common and state-of-the-art RecSys architectures in a high-level API as well as all the required low-level building blocks for you to create your own architecture (input blocks, MLP layers, prediction tasks, loss functions, etc.). In this example, we explored a subset of these pre-existing blocks to create the DLRM model, but you can view our [documentation](https://nvidia-merlin.github.io/models/main/) to discover more. You can also [contribute](https://github.com/NVIDIA-Merlin/models/blob/main/CONTRIBUTING.md) to the library by submitting new RecSys architectures and custom building Blocks.  \n",
    "\n",
    "\n",
    "\n",
    "## Next steps\n",
    "To learn more about how to deploy the trained DLRM model, please visit [Merlin Systems](https://github.com/NVIDIA-Merlin/systems) library and execute the `Getting-started-with-Merlin-Systems` notebook that deploys a [NVTabular](https://github.com/NVIDIA-Merlin/NVTabular) Workflow and a trained model from Merlin Models to [Triton Inference Server](https://github.com/triton-inference-server/server). \n",
    "\n",
    "\n"
   ]
  }
 ],
 "metadata": {
  "kernelspec": {
   "display_name": "Python 3 (ipykernel)",
   "language": "python",
   "name": "python3"
  },
  "language_info": {
   "codemirror_mode": {
    "name": "ipython",
    "version": 3
   },
   "file_extension": ".py",
   "mimetype": "text/x-python",
   "name": "python",
   "nbconvert_exporter": "python",
   "pygments_lexer": "ipython3",
   "version": "3.8.10"
  }
 },
 "nbformat": 4,
 "nbformat_minor": 5
}
