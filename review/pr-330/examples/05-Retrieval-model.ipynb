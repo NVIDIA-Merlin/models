{
 "cells": [
  {
   "cell_type": "code",
   "execution_count": 1,
   "id": "3c70c52e",
   "metadata": {},
   "outputs": [],
   "source": [
    "# Copyright 2021 NVIDIA Corporation. All Rights Reserved.\n",
    "#\n",
    "# Licensed under the Apache License, Version 2.0 (the \"License\");\n",
    "# you may not use this file except in compliance with the License.\n",
    "# You may obtain a copy of the License at\n",
    "#\n",
    "#     http://www.apache.org/licenses/LICENSE-2.0\n",
    "#\n",
    "# Unless required by applicable law or agreed to in writing, software\n",
    "# distributed under the License is distributed on an \"AS IS\" BASIS,\n",
    "# WITHOUT WARRANTIES OR CONDITIONS OF ANY KIND, either express or implied.\n",
    "# See the License for the specific language governing permissions and\n",
    "# limitations under the License.\n",
    "# ================================"
   ]
  },
  {
   "cell_type": "markdown",
   "id": "9e70a5bc",
   "metadata": {},
   "source": [
    "<img src=\"http://developer.download.nvidia.com/compute/machine-learning/frameworks/nvidia_logo.png\" style=\"width: 90px; float: right;\">\n",
    "\n",
    "## Two-Stage Recommender Systems\n",
    "\n",
    "In large scale recommender systems pipelines, the size of the item catalog (number of unique items) might be in the order of millions. At such scale, a typical setup is having two-stage pipeline, where a faster candidate retrieval model quickly extracts thousands of relevant items and a then a more powerful ranking model (i.e. with more features and more powerful architecture) ranks the top-k items that are going to be displayed to the user. For ML-based candidate retrieval model, as it needs to quickly score millions of items for a given user, a popular choices are models that can produce recommendation scores by just computing the dot product the user embeddings and item embeddings. Popular choices of such models are **Matrix Factorization**, which learns low-rank user and item embeddings, and the **Two-Tower architecture**, which is a neural network with two MLP towers where both user and item features are fed to generate user and item embeddings in the output."
   ]
  },
  {
   "cell_type": "markdown",
   "id": "f6f6c388",
   "metadata": {},
   "source": [
    "\n",
    "### Dataset\n",
    "\n",
    "In this notebook, we are building a Two-Tower model for Item Retrieval task using synthetic datasets that are mimicking the real [Ali-CCP: Alibaba Click and Conversion Prediction](https://tianchi.aliyun.com/dataset/dataDetail?dataId=408#1) dataset.\n",
    "### Learning objectives\n",
    "- Preparing the data with NVTabular\n",
    "- Training and evaluating Two-Tower model with Merlin Models\n",
    "- Exporting the model for deployment"
   ]
  },
  {
   "cell_type": "markdown",
   "id": "0f44217b",
   "metadata": {},
   "source": [
    "### Importing Libraries"
   ]
  },
  {
   "cell_type": "code",
   "execution_count": 2,
   "id": "78a111a3",
   "metadata": {},
   "outputs": [
    {
     "name": "stderr",
     "output_type": "stream",
     "text": [
      "2022-04-05 01:38:59.433065: I tensorflow/core/platform/cpu_feature_guard.cc:151] This TensorFlow binary is optimized with oneAPI Deep Neural Network Library (oneDNN) to use the following CPU instructions in performance-critical operations:  AVX2 AVX512F FMA\n",
      "To enable them in other operations, rebuild TensorFlow with the appropriate compiler flags.\n",
      "2022-04-05 01:39:00.549719: I tensorflow/core/common_runtime/gpu/gpu_process_state.cc:214] Using CUDA malloc Async allocator for GPU: 0\n",
      "2022-04-05 01:39:00.549854: I tensorflow/core/common_runtime/gpu/gpu_device.cc:1525] Created device /job:localhost/replica:0/task:0/device:GPU:0 with 16254 MB memory:  -> device: 0, name: Quadro GV100, pci bus id: 0000:15:00.0, compute capability: 7.0\n"
     ]
    }
   ],
   "source": [
    "import os\n",
    "os.environ[\"TF_GPU_ALLOCATOR\"]=\"cuda_malloc_async\"\n",
    "import cudf\n",
    "\n",
    "import nvtabular as nvt\n",
    "from nvtabular.ops import *\n",
    "from merlin.models.utils.example_utils import workflow_fit_transform\n",
    "\n",
    "from merlin.schema.tags import Tags\n",
    "from merlin.schema import Schema\n",
    "\n",
    "import merlin.models.tf as mm\n",
    "from merlin.io.dataset import Dataset\n",
    "\n",
    "import tensorflow as tf"
   ]
  },
  {
   "cell_type": "code",
   "execution_count": 3,
   "id": "2f07f75b",
   "metadata": {},
   "outputs": [],
   "source": [
    "# disable INFO and DEBUG logging everywhere\n",
    "import logging\n",
    "logging.disable(logging.WARNING)"
   ]
  },
  {
   "cell_type": "markdown",
   "id": "1b6f4350",
   "metadata": {},
   "source": [
    "### Feature Engineering with NVTabular"
   ]
  },
  {
   "cell_type": "markdown",
   "id": "4a99bbd3",
   "metadata": {},
   "source": [
    "Let's generate synthetic train and validation dataset objects."
   ]
  },
  {
   "cell_type": "code",
   "execution_count": 4,
   "id": "ffcf0c83",
   "metadata": {},
   "outputs": [
    {
     "data": {
      "text/plain": [
       "(None,)"
      ]
     },
     "execution_count": 4,
     "metadata": {},
     "output_type": "execute_result"
    }
   ],
   "source": [
    "from merlin.models.data.synthetic import generate_data\n",
    "\n",
    "DATA_FOLDER = os.environ.get(\"DATA_FOLDER\", \"/workspace/data/\")\n",
    "\n",
    "train = generate_data(\"aliccp-raw\", 1000000)\n",
    "valid = generate_data(\"aliccp-raw\", 1000000)\n",
    "\n",
    "# save the datasets as parquet files\n",
    "train.to_ddf().to_parquet(os.path.join(DATA_FOLDER, 'train'))\n",
    "valid.to_ddf().to_parquet(os.path.join(DATA_FOLDER, 'valid'))"
   ]
  },
  {
   "cell_type": "code",
   "execution_count": 7,
   "id": "bf9c069d",
   "metadata": {},
   "outputs": [],
   "source": [
    "# define paths for the raw parquet files\n",
    "train_path = os.path.join(DATA_FOLDER, \"train\", \"part.0.parquet\")\n",
    "valid_path = os.path.join(DATA_FOLDER, \"valid\", \"part.0.parquet\")\n",
    "output_path =os.path.join(DATA_FOLDER, \"processed\")"
   ]
  },
  {
   "cell_type": "markdown",
   "id": "1ebede95",
   "metadata": {},
   "source": [
    "We keep only positive interactions where clicks==1 in the dataset with `Filter()` op."
   ]
  },
  {
   "cell_type": "code",
   "execution_count": 8,
   "id": "95599f2f",
   "metadata": {},
   "outputs": [
    {
     "name": "stderr",
     "output_type": "stream",
     "text": [
      "/usr/local/lib/python3.8/dist-packages/cudf/core/dataframe.py:1253: UserWarning: The deep parameter is ignored and is only included for pandas compatibility.\n",
      "  warnings.warn(\n"
     ]
    }
   ],
   "source": [
    "user_id = [\"user_id\"] >> Categorify() >> TagAsUserID()\n",
    "item_id = [\"item_id\"] >> Categorify() >> TagAsItemID()\n",
    "\n",
    "item_features = [\"item_category\", \"item_shop\", \"item_brand\"] >> Categorify() >> TagAsItemFeatures()\n",
    "\n",
    "user_features = ['user_shops', 'user_profile', 'user_group', \n",
    "       'user_gender', 'user_age', 'user_consumption_2', 'user_is_occupied',\n",
    "       'user_geography', 'user_intentions', 'user_brands', 'user_categories'] \\\n",
    "        >> Categorify() >> TagAsUserFeatures()\n",
    "\n",
    "inputs = user_id + item_id + item_features + user_features + ['click'] \n",
    "\n",
    "outputs = inputs >> Filter(f=lambda df: df[\"click\"] == 1)\n",
    "\n",
    "workflow_fit_transform(outputs, train_path, valid_path, output_path)"
   ]
  },
  {
   "cell_type": "markdown",
   "id": "e1ebccc2",
   "metadata": {
    "tags": []
   },
   "source": [
    "## Building a Two-Tower Model with Merlin Models"
   ]
  },
  {
   "cell_type": "markdown",
   "id": "3d46b095",
   "metadata": {},
   "source": [
    "We will use Two-Tower Model for item retrieval task. Real-world large scale recommender systems have hundreds of millions of items (products) and users. Thus, these systems often composed of two stages: candidate generation (retrieval) and ranking (scoring the retrieved items). At candidate generation step, a subset of relevant items from large item corpus is retrieved. You can read more about two stage Recommender Systems here. In this example, we're going to focus on the retrieval stage.\n",
    "\n",
    "A Two-Tower Model consists of item (candidate) and user (query) encoder towers. With two towers, the model can learn representations (embeddings) for queries and candidates separately. \n",
    "\n",
    "<img src=\"./images/TwoTower.png\"  width=\"30%\">\n",
    "\n",
    "Image Adapted from: [Off-policy Learning in Two-stage Recommender Systems](https://dl.acm.org/doi/abs/10.1145/3366423.3380130)"
   ]
  },
  {
   "cell_type": "markdown",
   "id": "50b89e19",
   "metadata": {},
   "source": [
    "We use the `schema` object to define our model."
   ]
  },
  {
   "cell_type": "code",
   "execution_count": 9,
   "id": "2df22024",
   "metadata": {},
   "outputs": [],
   "source": [
    "train = Dataset(os.path.join(output_path, 'train', '*.parquet'))\n",
    "valid = Dataset(os.path.join(output_path, 'valid', '*.parquet'))\n",
    "\n",
    "schema = train.schema"
   ]
  },
  {
   "cell_type": "code",
   "execution_count": 10,
   "id": "05603b21",
   "metadata": {},
   "outputs": [],
   "source": [
    "schema = schema.select_by_tag([Tags.ITEM_ID, Tags.USER_ID, Tags.ITEM, Tags.USER])"
   ]
  },
  {
   "cell_type": "markdown",
   "id": "8269eaee",
   "metadata": {},
   "source": [
    "We can print out the feature column names."
   ]
  },
  {
   "cell_type": "code",
   "execution_count": 11,
   "id": "6288b197",
   "metadata": {},
   "outputs": [
    {
     "data": {
      "text/plain": [
       "['user_id',\n",
       " 'item_id',\n",
       " 'item_category',\n",
       " 'item_shop',\n",
       " 'item_brand',\n",
       " 'user_shops',\n",
       " 'user_profile',\n",
       " 'user_group',\n",
       " 'user_gender',\n",
       " 'user_age',\n",
       " 'user_consumption_2',\n",
       " 'user_is_occupied',\n",
       " 'user_geography',\n",
       " 'user_intentions',\n",
       " 'user_brands',\n",
       " 'user_categories']"
      ]
     },
     "execution_count": 11,
     "metadata": {},
     "output_type": "execute_result"
    }
   ],
   "source": [
    "schema.column_names"
   ]
  },
  {
   "cell_type": "markdown",
   "id": "b067de80",
   "metadata": {},
   "source": [
    "We expect the label names to be empty."
   ]
  },
  {
   "cell_type": "code",
   "execution_count": 12,
   "id": "ba8a0b6b",
   "metadata": {},
   "outputs": [
    {
     "data": {
      "text/plain": [
       "[]"
      ]
     },
     "execution_count": 12,
     "metadata": {},
     "output_type": "execute_result"
    }
   ],
   "source": [
    "label_names = schema.select_by_tag(Tags.TARGET).column_names\n",
    "label_names"
   ]
  },
  {
   "cell_type": "markdown",
   "id": "7ba2df24",
   "metadata": {},
   "source": [
    "### Negative sampling\n",
    "Many datasets for recommender systems contain implicit feedback with logs of user interactions like clicks, add-to-cart, purchases, music listening events, rather than explicit ratings that reflects user preferences over items. To be able to learn from implicit feedback, we use the general (and naive) assumption that the interacted items are more relevant for the user than the non-interacted ones.\n",
    "In Merlin Models we provide some scalable negative sampling algorithms for the Item Retrieval Task. In particular, we use in this example the in-batch sampling algorithm which uses the items interacted by other users as negatives within the same mini-batch."
   ]
  },
  {
   "cell_type": "markdown",
   "id": "4818dbbf",
   "metadata": {},
   "source": [
    "### Building the Model"
   ]
  },
  {
   "cell_type": "markdown",
   "id": "b3262d1d",
   "metadata": {},
   "source": [
    "Now, let's build our Two-Tower model. In a nutshell, we aggregate all user features to feed in user tower and feed the item features to the item tower. Then we compute the positive score by multiplying the user embedding with the item embedding and sample negative items (read more about negative sampling [here](https://openreview.net/pdf?id=824xC-SgWgU) and [here](https://medium.com/mlearning-ai/overview-negative-sampling-on-recommendation-systems-230a051c6cd7)), whose item embeddings are also multiplied by the user embedding. Then we apply the loss function on top of the positive and negative scores."
   ]
  },
  {
   "cell_type": "code",
   "execution_count": 13,
   "id": "af328337",
   "metadata": {},
   "outputs": [],
   "source": [
    "model = mm.TwoTowerModel(\n",
    "    schema,\n",
    "    query_tower=mm.MLPBlock([128, 64], no_activation_last_layer=True),        \n",
    "    loss=\"categorical_crossentropy\",  \n",
    "    samplers=[mm.InBatchSampler()],\n",
    "    embedding_options = mm.EmbeddingOptions(infer_embedding_sizes=True),\n",
    "    metrics=[mm.RecallAt(10), mm.NDCGAt(10)]\n",
    ")"
   ]
  },
  {
   "cell_type": "markdown",
   "id": "b1e3ca9a",
   "metadata": {},
   "source": [
    "Let's explain the parameters in the TwoTowerModel():\n",
    "- no_activation_last_layer: when set True, no activation is used for top hidden layer. Learn more [here](https://storage.googleapis.com/pub-tools-public-publication-data/pdf/b9f4e78a8830fe5afcf2f0452862fb3c0d6584ea.pdf).\n",
    "- infer_embedding_sizes: when set True, automatically defines the embedding dimension from the feature cardinality in the schema\n",
    "\n",
    "**Metrics:**\n",
    "\n",
    "The following information retrieval metrics are used to compute the Top-10 accuracy of recommendation lists containing all items:\n",
    "\n",
    "- **Normalized Discounted Cumulative Gain (NDCG@10)**: NDCG accounts for rank of the relevant item in the recommendation list and is a more fine-grained metric than HR, which only verifies whether the relevant item is among the top-k items.\n",
    "\n",
    "- **Recall@10**: Also known as HitRate@n when there is only one relevant item in the recommendation list. Recall just verifies whether the relevant item is among the top-n items."
   ]
  },
  {
   "cell_type": "markdown",
   "id": "6d84ad59",
   "metadata": {},
   "source": [
    "We need to initialize the dataloaders."
   ]
  },
  {
   "cell_type": "code",
   "execution_count": 14,
   "id": "1ca39de3",
   "metadata": {},
   "outputs": [
    {
     "name": "stderr",
     "output_type": "stream",
     "text": [
      "2022-04-05 01:39:29.887002: W tensorflow/python/util/util.cc:368] Sets are not currently considered sequences, but this may change in the future, so consider avoiding using them.\n"
     ]
    },
    {
     "name": "stdout",
     "output_type": "stream",
     "text": [
      "Epoch 1/3\n",
      "121/123 [============================>.] - ETA: 0s - recall_at_10: 0.0055 - ndcg_10: 0.0040 - loss: 8.3060 - regularization_loss: 0.0000e+00 - total_loss: 8.3060"
     ]
    },
    {
     "name": "stderr",
     "output_type": "stream",
     "text": [
      "2022-04-05 01:39:46.143709: W tensorflow/core/grappler/optimizers/loop_optimizer.cc:907] Skipping loop optimization for Merge node with control input: cond/then/_0/cond/cond/branch_executed/_185\n"
     ]
    },
    {
     "name": "stdout",
     "output_type": "stream",
     "text": [
      "123/123 [==============================] - 17s 90ms/step - recall_at_10: 0.0055 - ndcg_10: 0.0040 - loss: 8.2864 - regularization_loss: 0.0000e+00 - total_loss: 8.2864 - val_recall_at_10: 0.0044 - val_ndcg_10: 0.0021 - val_loss: 8.2752 - val_regularization_loss: 0.0000e+00 - val_total_loss: 8.2752\n",
      "Epoch 2/3\n",
      "123/123 [==============================] - 9s 69ms/step - recall_at_10: 0.0047 - ndcg_10: 0.0034 - loss: 8.2853 - regularization_loss: 0.0000e+00 - total_loss: 8.2853 - val_recall_at_10: 0.0048 - val_ndcg_10: 0.0022 - val_loss: 8.2750 - val_regularization_loss: 0.0000e+00 - val_total_loss: 8.2750\n",
      "Epoch 3/3\n",
      "123/123 [==============================] - 9s 73ms/step - recall_at_10: 0.0047 - ndcg_10: 0.0033 - loss: 8.2846 - regularization_loss: 0.0000e+00 - total_loss: 8.2846 - val_recall_at_10: 0.0048 - val_ndcg_10: 0.0022 - val_loss: 8.2749 - val_regularization_loss: 0.0000e+00 - val_total_loss: 8.2749\n"
     ]
    },
    {
     "data": {
      "text/plain": [
       "<keras.callbacks.History at 0x7f82947eaf40>"
      ]
     },
     "execution_count": 14,
     "metadata": {},
     "output_type": "execute_result"
    }
   ],
   "source": [
    "model.set_retrieval_candidates_for_evaluation(train)\n",
    "\n",
    "opt = tf.keras.optimizers.Adagrad(learning_rate=0.003)\n",
    "model.compile(optimizer=opt, run_eagerly=False)\n",
    "model.fit(train, validation_data=valid, batch_size=4096, epochs=3)"
   ]
  },
  {
   "cell_type": "markdown",
   "id": "713b2d65",
   "metadata": {},
   "source": [
    "## Exporting Retrieval Models"
   ]
  },
  {
   "cell_type": "markdown",
   "id": "cfcd6b17",
   "metadata": {},
   "source": [
    "So far we have trained and evaluated our Retrieval model. Now, the next step is to deploy our model and generate top-K recommendations given a user (query). We can efficiently serve our model by indexing the trained item embeddings into an **Approximate Nearest Neighbors (ANN)** engine. Basically, for a given user query vector, that is generated passing the user features into user tower of retrieval model, we do an ANN search query to find the ids of nearby item vectors, and at serve time, we score user embeddings over all indexed top-K item embeddings within the ANN engine.\n",
    "\n",
    "In doing so, we need to export\n",
    " \n",
    "- user (query) tower\n",
    "- item and user features\n",
    "- item embeddings"
   ]
  },
  {
   "cell_type": "markdown",
   "id": "ab28a0a2",
   "metadata": {},
   "source": [
    "#### Save User (query) tower"
   ]
  },
  {
   "cell_type": "markdown",
   "id": "49769002",
   "metadata": {},
   "source": [
    "We are able to save the user tower model as a TF model to disk. The user tower model is needed to generate a user embedding vector when a user feature vector <i>x</i> is fed into that model."
   ]
  },
  {
   "cell_type": "code",
   "execution_count": 16,
   "id": "a0c193fb",
   "metadata": {},
   "outputs": [],
   "source": [
    "query_tower = model.retrieval_block.query_block()\n",
    "query_tower.save('query_tower')"
   ]
  },
  {
   "cell_type": "markdown",
   "id": "d4dce21d",
   "metadata": {},
   "source": [
    "#### Extract and save User features"
   ]
  },
  {
   "cell_type": "markdown",
   "id": "907b475e",
   "metadata": {},
   "source": [
    "With `unique_rows_by_features` utility function we can easily extract both unique user and item features tables as cuDF dataframes. Note that for user features table, we use `USER` and `USER_ID` tags."
   ]
  },
  {
   "cell_type": "code",
   "execution_count": 17,
   "id": "ab959cea",
   "metadata": {},
   "outputs": [],
   "source": [
    "from merlin.models.utils.dataset import unique_rows_by_features\n",
    "user_features = unique_rows_by_features(train, Tags.USER, Tags.USER_ID).compute().reset_index(drop=True)"
   ]
  },
  {
   "cell_type": "code",
   "execution_count": 18,
   "id": "f7d31756",
   "metadata": {},
   "outputs": [
    {
     "data": {
      "text/html": [
       "<div>\n",
       "<style scoped>\n",
       "    .dataframe tbody tr th:only-of-type {\n",
       "        vertical-align: middle;\n",
       "    }\n",
       "\n",
       "    .dataframe tbody tr th {\n",
       "        vertical-align: top;\n",
       "    }\n",
       "\n",
       "    .dataframe thead th {\n",
       "        text-align: right;\n",
       "    }\n",
       "</style>\n",
       "<table border=\"1\" class=\"dataframe\">\n",
       "  <thead>\n",
       "    <tr style=\"text-align: right;\">\n",
       "      <th></th>\n",
       "      <th>user_id</th>\n",
       "      <th>user_shops</th>\n",
       "      <th>user_profile</th>\n",
       "      <th>user_group</th>\n",
       "      <th>user_gender</th>\n",
       "      <th>user_age</th>\n",
       "      <th>user_consumption_2</th>\n",
       "      <th>user_is_occupied</th>\n",
       "      <th>user_geography</th>\n",
       "      <th>user_intentions</th>\n",
       "      <th>user_brands</th>\n",
       "      <th>user_categories</th>\n",
       "    </tr>\n",
       "  </thead>\n",
       "  <tbody>\n",
       "    <tr>\n",
       "      <th>0</th>\n",
       "      <td>1</td>\n",
       "      <td>1</td>\n",
       "      <td>1</td>\n",
       "      <td>1</td>\n",
       "      <td>1</td>\n",
       "      <td>1</td>\n",
       "      <td>1</td>\n",
       "      <td>1</td>\n",
       "      <td>1</td>\n",
       "      <td>1</td>\n",
       "      <td>1</td>\n",
       "      <td>1</td>\n",
       "    </tr>\n",
       "    <tr>\n",
       "      <th>1</th>\n",
       "      <td>2</td>\n",
       "      <td>2</td>\n",
       "      <td>1</td>\n",
       "      <td>1</td>\n",
       "      <td>1</td>\n",
       "      <td>1</td>\n",
       "      <td>1</td>\n",
       "      <td>1</td>\n",
       "      <td>1</td>\n",
       "      <td>2</td>\n",
       "      <td>2</td>\n",
       "      <td>2</td>\n",
       "    </tr>\n",
       "    <tr>\n",
       "      <th>2</th>\n",
       "      <td>3</td>\n",
       "      <td>3</td>\n",
       "      <td>1</td>\n",
       "      <td>1</td>\n",
       "      <td>1</td>\n",
       "      <td>1</td>\n",
       "      <td>1</td>\n",
       "      <td>1</td>\n",
       "      <td>1</td>\n",
       "      <td>3</td>\n",
       "      <td>3</td>\n",
       "      <td>3</td>\n",
       "    </tr>\n",
       "    <tr>\n",
       "      <th>3</th>\n",
       "      <td>4</td>\n",
       "      <td>4</td>\n",
       "      <td>1</td>\n",
       "      <td>1</td>\n",
       "      <td>1</td>\n",
       "      <td>1</td>\n",
       "      <td>1</td>\n",
       "      <td>1</td>\n",
       "      <td>1</td>\n",
       "      <td>4</td>\n",
       "      <td>4</td>\n",
       "      <td>4</td>\n",
       "    </tr>\n",
       "    <tr>\n",
       "      <th>4</th>\n",
       "      <td>5</td>\n",
       "      <td>5</td>\n",
       "      <td>1</td>\n",
       "      <td>1</td>\n",
       "      <td>1</td>\n",
       "      <td>1</td>\n",
       "      <td>1</td>\n",
       "      <td>1</td>\n",
       "      <td>1</td>\n",
       "      <td>5</td>\n",
       "      <td>5</td>\n",
       "      <td>5</td>\n",
       "    </tr>\n",
       "  </tbody>\n",
       "</table>\n",
       "</div>"
      ],
      "text/plain": [
       "   user_id  user_shops  user_profile  user_group  user_gender  user_age  \\\n",
       "0        1           1             1           1            1         1   \n",
       "1        2           2             1           1            1         1   \n",
       "2        3           3             1           1            1         1   \n",
       "3        4           4             1           1            1         1   \n",
       "4        5           5             1           1            1         1   \n",
       "\n",
       "   user_consumption_2  user_is_occupied  user_geography  user_intentions  \\\n",
       "0                   1                 1               1                1   \n",
       "1                   1                 1               1                2   \n",
       "2                   1                 1               1                3   \n",
       "3                   1                 1               1                4   \n",
       "4                   1                 1               1                5   \n",
       "\n",
       "   user_brands  user_categories  \n",
       "0            1                1  \n",
       "1            2                2  \n",
       "2            3                3  \n",
       "3            4                4  \n",
       "4            5                5  "
      ]
     },
     "execution_count": 18,
     "metadata": {},
     "output_type": "execute_result"
    }
   ],
   "source": [
    "user_features.head()"
   ]
  },
  {
   "cell_type": "code",
   "execution_count": 19,
   "id": "e68fd733",
   "metadata": {},
   "outputs": [
    {
     "data": {
      "text/plain": [
       "(725, 12)"
      ]
     },
     "execution_count": 19,
     "metadata": {},
     "output_type": "execute_result"
    }
   ],
   "source": [
    "user_features.shape"
   ]
  },
  {
   "cell_type": "code",
   "execution_count": 20,
   "id": "f5257b65",
   "metadata": {},
   "outputs": [],
   "source": [
    "# save to disk\n",
    "user_features.to_parquet('user_features.parquet')"
   ]
  },
  {
   "cell_type": "markdown",
   "id": "afb1d72f",
   "metadata": {},
   "source": [
    "#### Extract and save Item features"
   ]
  },
  {
   "cell_type": "code",
   "execution_count": 21,
   "id": "a424acc1",
   "metadata": {},
   "outputs": [],
   "source": [
    "item_features = unique_rows_by_features(train, Tags.ITEM, Tags.ITEM_ID).compute().reset_index(drop=True)"
   ]
  },
  {
   "cell_type": "code",
   "execution_count": 22,
   "id": "14995436",
   "metadata": {},
   "outputs": [
    {
     "data": {
      "text/html": [
       "<div>\n",
       "<style scoped>\n",
       "    .dataframe tbody tr th:only-of-type {\n",
       "        vertical-align: middle;\n",
       "    }\n",
       "\n",
       "    .dataframe tbody tr th {\n",
       "        vertical-align: top;\n",
       "    }\n",
       "\n",
       "    .dataframe thead th {\n",
       "        text-align: right;\n",
       "    }\n",
       "</style>\n",
       "<table border=\"1\" class=\"dataframe\">\n",
       "  <thead>\n",
       "    <tr style=\"text-align: right;\">\n",
       "      <th></th>\n",
       "      <th>item_id</th>\n",
       "      <th>item_category</th>\n",
       "      <th>item_shop</th>\n",
       "      <th>item_brand</th>\n",
       "    </tr>\n",
       "  </thead>\n",
       "  <tbody>\n",
       "    <tr>\n",
       "      <th>0</th>\n",
       "      <td>1</td>\n",
       "      <td>1</td>\n",
       "      <td>1</td>\n",
       "      <td>1</td>\n",
       "    </tr>\n",
       "    <tr>\n",
       "      <th>1</th>\n",
       "      <td>2</td>\n",
       "      <td>2</td>\n",
       "      <td>2</td>\n",
       "      <td>2</td>\n",
       "    </tr>\n",
       "    <tr>\n",
       "      <th>2</th>\n",
       "      <td>3</td>\n",
       "      <td>3</td>\n",
       "      <td>3</td>\n",
       "      <td>3</td>\n",
       "    </tr>\n",
       "    <tr>\n",
       "      <th>3</th>\n",
       "      <td>4</td>\n",
       "      <td>4</td>\n",
       "      <td>4</td>\n",
       "      <td>4</td>\n",
       "    </tr>\n",
       "    <tr>\n",
       "      <th>4</th>\n",
       "      <td>5</td>\n",
       "      <td>5</td>\n",
       "      <td>5</td>\n",
       "      <td>5</td>\n",
       "    </tr>\n",
       "  </tbody>\n",
       "</table>\n",
       "</div>"
      ],
      "text/plain": [
       "   item_id  item_category  item_shop  item_brand\n",
       "0        1              1          1           1\n",
       "1        2              2          2           2\n",
       "2        3              3          3           3\n",
       "3        4              4          4           4\n",
       "4        5              5          5           5"
      ]
     },
     "execution_count": 22,
     "metadata": {},
     "output_type": "execute_result"
    }
   ],
   "source": [
    "item_features.head()"
   ]
  },
  {
   "cell_type": "code",
   "execution_count": 23,
   "id": "05c3ae59",
   "metadata": {},
   "outputs": [],
   "source": [
    "# save to disk\n",
    "item_features.to_parquet('item_features.parquet')"
   ]
  },
  {
   "cell_type": "markdown",
   "id": "f6b96477",
   "metadata": {},
   "source": [
    "#### Extract and save Item embeddings"
   ]
  },
  {
   "cell_type": "code",
   "execution_count": 24,
   "id": "2683996b",
   "metadata": {},
   "outputs": [],
   "source": [
    "item_embs = model.item_embeddings(Dataset(item_features, schema=schema), batch_size=1024)\n",
    "item_embs_df = item_embs.compute(scheduler=\"synchronous\")"
   ]
  },
  {
   "cell_type": "code",
   "execution_count": 25,
   "id": "70f1acba",
   "metadata": {},
   "outputs": [
    {
     "data": {
      "text/html": [
       "<div>\n",
       "<style scoped>\n",
       "    .dataframe tbody tr th:only-of-type {\n",
       "        vertical-align: middle;\n",
       "    }\n",
       "\n",
       "    .dataframe tbody tr th {\n",
       "        vertical-align: top;\n",
       "    }\n",
       "\n",
       "    .dataframe thead th {\n",
       "        text-align: right;\n",
       "    }\n",
       "</style>\n",
       "<table border=\"1\" class=\"dataframe\">\n",
       "  <thead>\n",
       "    <tr style=\"text-align: right;\">\n",
       "      <th></th>\n",
       "      <th>item_id</th>\n",
       "      <th>item_category</th>\n",
       "      <th>item_shop</th>\n",
       "      <th>item_brand</th>\n",
       "      <th>0</th>\n",
       "      <th>1</th>\n",
       "      <th>2</th>\n",
       "      <th>3</th>\n",
       "      <th>4</th>\n",
       "      <th>5</th>\n",
       "      <th>...</th>\n",
       "      <th>54</th>\n",
       "      <th>55</th>\n",
       "      <th>56</th>\n",
       "      <th>57</th>\n",
       "      <th>58</th>\n",
       "      <th>59</th>\n",
       "      <th>60</th>\n",
       "      <th>61</th>\n",
       "      <th>62</th>\n",
       "      <th>63</th>\n",
       "    </tr>\n",
       "  </thead>\n",
       "  <tbody>\n",
       "    <tr>\n",
       "      <th>0</th>\n",
       "      <td>1</td>\n",
       "      <td>1</td>\n",
       "      <td>1</td>\n",
       "      <td>1</td>\n",
       "      <td>-0.080138</td>\n",
       "      <td>0.164991</td>\n",
       "      <td>-0.088390</td>\n",
       "      <td>-0.084368</td>\n",
       "      <td>-0.170704</td>\n",
       "      <td>-0.194693</td>\n",
       "      <td>...</td>\n",
       "      <td>-0.121886</td>\n",
       "      <td>-0.160051</td>\n",
       "      <td>0.239783</td>\n",
       "      <td>0.190130</td>\n",
       "      <td>0.294039</td>\n",
       "      <td>0.173054</td>\n",
       "      <td>-0.091124</td>\n",
       "      <td>0.053051</td>\n",
       "      <td>-0.061462</td>\n",
       "      <td>0.001636</td>\n",
       "    </tr>\n",
       "    <tr>\n",
       "      <th>1</th>\n",
       "      <td>2</td>\n",
       "      <td>2</td>\n",
       "      <td>2</td>\n",
       "      <td>2</td>\n",
       "      <td>0.065198</td>\n",
       "      <td>0.008223</td>\n",
       "      <td>-0.026139</td>\n",
       "      <td>0.027760</td>\n",
       "      <td>0.026469</td>\n",
       "      <td>-0.109828</td>\n",
       "      <td>...</td>\n",
       "      <td>0.008733</td>\n",
       "      <td>0.114419</td>\n",
       "      <td>-0.173410</td>\n",
       "      <td>0.064015</td>\n",
       "      <td>0.073164</td>\n",
       "      <td>0.176540</td>\n",
       "      <td>-0.061230</td>\n",
       "      <td>0.010753</td>\n",
       "      <td>0.053984</td>\n",
       "      <td>-0.101455</td>\n",
       "    </tr>\n",
       "    <tr>\n",
       "      <th>2</th>\n",
       "      <td>3</td>\n",
       "      <td>3</td>\n",
       "      <td>3</td>\n",
       "      <td>3</td>\n",
       "      <td>0.169136</td>\n",
       "      <td>-0.035362</td>\n",
       "      <td>-0.027654</td>\n",
       "      <td>-0.284353</td>\n",
       "      <td>-0.017567</td>\n",
       "      <td>-0.139145</td>\n",
       "      <td>...</td>\n",
       "      <td>-0.092729</td>\n",
       "      <td>-0.018937</td>\n",
       "      <td>-0.090321</td>\n",
       "      <td>0.180357</td>\n",
       "      <td>-0.110631</td>\n",
       "      <td>0.102139</td>\n",
       "      <td>0.148058</td>\n",
       "      <td>0.170666</td>\n",
       "      <td>0.267043</td>\n",
       "      <td>-0.112293</td>\n",
       "    </tr>\n",
       "    <tr>\n",
       "      <th>3</th>\n",
       "      <td>4</td>\n",
       "      <td>4</td>\n",
       "      <td>4</td>\n",
       "      <td>4</td>\n",
       "      <td>0.037014</td>\n",
       "      <td>-0.062965</td>\n",
       "      <td>-0.050965</td>\n",
       "      <td>-0.014348</td>\n",
       "      <td>0.046101</td>\n",
       "      <td>-0.081345</td>\n",
       "      <td>...</td>\n",
       "      <td>0.066225</td>\n",
       "      <td>-0.069351</td>\n",
       "      <td>-0.109032</td>\n",
       "      <td>0.094101</td>\n",
       "      <td>0.144096</td>\n",
       "      <td>0.140754</td>\n",
       "      <td>-0.050377</td>\n",
       "      <td>-0.034933</td>\n",
       "      <td>-0.107016</td>\n",
       "      <td>-0.070730</td>\n",
       "    </tr>\n",
       "    <tr>\n",
       "      <th>4</th>\n",
       "      <td>5</td>\n",
       "      <td>5</td>\n",
       "      <td>5</td>\n",
       "      <td>5</td>\n",
       "      <td>-0.248760</td>\n",
       "      <td>0.086720</td>\n",
       "      <td>-0.268344</td>\n",
       "      <td>-0.252266</td>\n",
       "      <td>-0.225200</td>\n",
       "      <td>-0.004744</td>\n",
       "      <td>...</td>\n",
       "      <td>0.099194</td>\n",
       "      <td>-0.215265</td>\n",
       "      <td>0.187329</td>\n",
       "      <td>0.281703</td>\n",
       "      <td>-0.058103</td>\n",
       "      <td>0.114930</td>\n",
       "      <td>0.012834</td>\n",
       "      <td>-0.011960</td>\n",
       "      <td>0.095858</td>\n",
       "      <td>-0.030840</td>\n",
       "    </tr>\n",
       "    <tr>\n",
       "      <th>...</th>\n",
       "      <td>...</td>\n",
       "      <td>...</td>\n",
       "      <td>...</td>\n",
       "      <td>...</td>\n",
       "      <td>...</td>\n",
       "      <td>...</td>\n",
       "      <td>...</td>\n",
       "      <td>...</td>\n",
       "      <td>...</td>\n",
       "      <td>...</td>\n",
       "      <td>...</td>\n",
       "      <td>...</td>\n",
       "      <td>...</td>\n",
       "      <td>...</td>\n",
       "      <td>...</td>\n",
       "      <td>...</td>\n",
       "      <td>...</td>\n",
       "      <td>...</td>\n",
       "      <td>...</td>\n",
       "      <td>...</td>\n",
       "      <td>...</td>\n",
       "    </tr>\n",
       "    <tr>\n",
       "      <th>712</th>\n",
       "      <td>832</td>\n",
       "      <td>832</td>\n",
       "      <td>832</td>\n",
       "      <td>832</td>\n",
       "      <td>-0.037588</td>\n",
       "      <td>0.013589</td>\n",
       "      <td>-0.106824</td>\n",
       "      <td>0.052419</td>\n",
       "      <td>-0.213757</td>\n",
       "      <td>-0.084607</td>\n",
       "      <td>...</td>\n",
       "      <td>0.049071</td>\n",
       "      <td>0.032056</td>\n",
       "      <td>-0.157333</td>\n",
       "      <td>0.045341</td>\n",
       "      <td>-0.004577</td>\n",
       "      <td>0.090677</td>\n",
       "      <td>0.000008</td>\n",
       "      <td>-0.018588</td>\n",
       "      <td>0.047204</td>\n",
       "      <td>-0.206918</td>\n",
       "    </tr>\n",
       "    <tr>\n",
       "      <th>713</th>\n",
       "      <td>833</td>\n",
       "      <td>833</td>\n",
       "      <td>833</td>\n",
       "      <td>833</td>\n",
       "      <td>-0.040116</td>\n",
       "      <td>0.084456</td>\n",
       "      <td>-0.076909</td>\n",
       "      <td>-0.302175</td>\n",
       "      <td>-0.031607</td>\n",
       "      <td>-0.291037</td>\n",
       "      <td>...</td>\n",
       "      <td>-0.191154</td>\n",
       "      <td>-0.099356</td>\n",
       "      <td>0.167159</td>\n",
       "      <td>0.195780</td>\n",
       "      <td>0.089412</td>\n",
       "      <td>0.183644</td>\n",
       "      <td>-0.032043</td>\n",
       "      <td>0.196099</td>\n",
       "      <td>0.203973</td>\n",
       "      <td>-0.063994</td>\n",
       "    </tr>\n",
       "    <tr>\n",
       "      <th>714</th>\n",
       "      <td>835</td>\n",
       "      <td>835</td>\n",
       "      <td>835</td>\n",
       "      <td>835</td>\n",
       "      <td>-0.036690</td>\n",
       "      <td>0.196705</td>\n",
       "      <td>-0.051777</td>\n",
       "      <td>-0.022180</td>\n",
       "      <td>-0.044232</td>\n",
       "      <td>-0.145672</td>\n",
       "      <td>...</td>\n",
       "      <td>0.100373</td>\n",
       "      <td>0.045667</td>\n",
       "      <td>-0.038770</td>\n",
       "      <td>0.013661</td>\n",
       "      <td>-0.031325</td>\n",
       "      <td>-0.074642</td>\n",
       "      <td>-0.047355</td>\n",
       "      <td>-0.111672</td>\n",
       "      <td>0.076764</td>\n",
       "      <td>-0.086005</td>\n",
       "    </tr>\n",
       "    <tr>\n",
       "      <th>715</th>\n",
       "      <td>838</td>\n",
       "      <td>838</td>\n",
       "      <td>838</td>\n",
       "      <td>838</td>\n",
       "      <td>-0.068956</td>\n",
       "      <td>0.110597</td>\n",
       "      <td>-0.170252</td>\n",
       "      <td>-0.230961</td>\n",
       "      <td>0.004850</td>\n",
       "      <td>-0.214517</td>\n",
       "      <td>...</td>\n",
       "      <td>-0.043954</td>\n",
       "      <td>-0.141380</td>\n",
       "      <td>-0.073150</td>\n",
       "      <td>0.262040</td>\n",
       "      <td>-0.020642</td>\n",
       "      <td>0.301193</td>\n",
       "      <td>-0.005274</td>\n",
       "      <td>-0.043695</td>\n",
       "      <td>0.093276</td>\n",
       "      <td>-0.091933</td>\n",
       "    </tr>\n",
       "    <tr>\n",
       "      <th>716</th>\n",
       "      <td>839</td>\n",
       "      <td>839</td>\n",
       "      <td>839</td>\n",
       "      <td>839</td>\n",
       "      <td>0.025882</td>\n",
       "      <td>0.011618</td>\n",
       "      <td>-0.184902</td>\n",
       "      <td>-0.206569</td>\n",
       "      <td>-0.105444</td>\n",
       "      <td>-0.140094</td>\n",
       "      <td>...</td>\n",
       "      <td>-0.072793</td>\n",
       "      <td>-0.265209</td>\n",
       "      <td>0.084260</td>\n",
       "      <td>0.116827</td>\n",
       "      <td>0.130272</td>\n",
       "      <td>0.071097</td>\n",
       "      <td>0.041765</td>\n",
       "      <td>-0.029909</td>\n",
       "      <td>-0.030447</td>\n",
       "      <td>-0.093579</td>\n",
       "    </tr>\n",
       "  </tbody>\n",
       "</table>\n",
       "<p>717 rows × 68 columns</p>\n",
       "</div>"
      ],
      "text/plain": [
       "     item_id  item_category  item_shop  item_brand         0         1  \\\n",
       "0          1              1          1           1 -0.080138  0.164991   \n",
       "1          2              2          2           2  0.065198  0.008223   \n",
       "2          3              3          3           3  0.169136 -0.035362   \n",
       "3          4              4          4           4  0.037014 -0.062965   \n",
       "4          5              5          5           5 -0.248760  0.086720   \n",
       "..       ...            ...        ...         ...       ...       ...   \n",
       "712      832            832        832         832 -0.037588  0.013589   \n",
       "713      833            833        833         833 -0.040116  0.084456   \n",
       "714      835            835        835         835 -0.036690  0.196705   \n",
       "715      838            838        838         838 -0.068956  0.110597   \n",
       "716      839            839        839         839  0.025882  0.011618   \n",
       "\n",
       "            2         3         4         5  ...        54        55  \\\n",
       "0   -0.088390 -0.084368 -0.170704 -0.194693  ... -0.121886 -0.160051   \n",
       "1   -0.026139  0.027760  0.026469 -0.109828  ...  0.008733  0.114419   \n",
       "2   -0.027654 -0.284353 -0.017567 -0.139145  ... -0.092729 -0.018937   \n",
       "3   -0.050965 -0.014348  0.046101 -0.081345  ...  0.066225 -0.069351   \n",
       "4   -0.268344 -0.252266 -0.225200 -0.004744  ...  0.099194 -0.215265   \n",
       "..        ...       ...       ...       ...  ...       ...       ...   \n",
       "712 -0.106824  0.052419 -0.213757 -0.084607  ...  0.049071  0.032056   \n",
       "713 -0.076909 -0.302175 -0.031607 -0.291037  ... -0.191154 -0.099356   \n",
       "714 -0.051777 -0.022180 -0.044232 -0.145672  ...  0.100373  0.045667   \n",
       "715 -0.170252 -0.230961  0.004850 -0.214517  ... -0.043954 -0.141380   \n",
       "716 -0.184902 -0.206569 -0.105444 -0.140094  ... -0.072793 -0.265209   \n",
       "\n",
       "           56        57        58        59        60        61        62  \\\n",
       "0    0.239783  0.190130  0.294039  0.173054 -0.091124  0.053051 -0.061462   \n",
       "1   -0.173410  0.064015  0.073164  0.176540 -0.061230  0.010753  0.053984   \n",
       "2   -0.090321  0.180357 -0.110631  0.102139  0.148058  0.170666  0.267043   \n",
       "3   -0.109032  0.094101  0.144096  0.140754 -0.050377 -0.034933 -0.107016   \n",
       "4    0.187329  0.281703 -0.058103  0.114930  0.012834 -0.011960  0.095858   \n",
       "..        ...       ...       ...       ...       ...       ...       ...   \n",
       "712 -0.157333  0.045341 -0.004577  0.090677  0.000008 -0.018588  0.047204   \n",
       "713  0.167159  0.195780  0.089412  0.183644 -0.032043  0.196099  0.203973   \n",
       "714 -0.038770  0.013661 -0.031325 -0.074642 -0.047355 -0.111672  0.076764   \n",
       "715 -0.073150  0.262040 -0.020642  0.301193 -0.005274 -0.043695  0.093276   \n",
       "716  0.084260  0.116827  0.130272  0.071097  0.041765 -0.029909 -0.030447   \n",
       "\n",
       "           63  \n",
       "0    0.001636  \n",
       "1   -0.101455  \n",
       "2   -0.112293  \n",
       "3   -0.070730  \n",
       "4   -0.030840  \n",
       "..        ...  \n",
       "712 -0.206918  \n",
       "713 -0.063994  \n",
       "714 -0.086005  \n",
       "715 -0.091933  \n",
       "716 -0.093579  \n",
       "\n",
       "[717 rows x 68 columns]"
      ]
     },
     "execution_count": 25,
     "metadata": {},
     "output_type": "execute_result"
    }
   ],
   "source": [
    "item_embs_df"
   ]
  },
  {
   "cell_type": "code",
   "execution_count": 26,
   "id": "14ce5f84",
   "metadata": {},
   "outputs": [],
   "source": [
    "# select only embedding columns\n",
    "item_embeddings = item_embs_df.iloc[:, 4:]"
   ]
  },
  {
   "cell_type": "code",
   "execution_count": 27,
   "id": "d86f194c",
   "metadata": {},
   "outputs": [
    {
     "data": {
      "text/html": [
       "<div>\n",
       "<style scoped>\n",
       "    .dataframe tbody tr th:only-of-type {\n",
       "        vertical-align: middle;\n",
       "    }\n",
       "\n",
       "    .dataframe tbody tr th {\n",
       "        vertical-align: top;\n",
       "    }\n",
       "\n",
       "    .dataframe thead th {\n",
       "        text-align: right;\n",
       "    }\n",
       "</style>\n",
       "<table border=\"1\" class=\"dataframe\">\n",
       "  <thead>\n",
       "    <tr style=\"text-align: right;\">\n",
       "      <th></th>\n",
       "      <th>0</th>\n",
       "      <th>1</th>\n",
       "      <th>2</th>\n",
       "      <th>3</th>\n",
       "      <th>4</th>\n",
       "      <th>5</th>\n",
       "      <th>6</th>\n",
       "      <th>7</th>\n",
       "      <th>8</th>\n",
       "      <th>9</th>\n",
       "      <th>...</th>\n",
       "      <th>54</th>\n",
       "      <th>55</th>\n",
       "      <th>56</th>\n",
       "      <th>57</th>\n",
       "      <th>58</th>\n",
       "      <th>59</th>\n",
       "      <th>60</th>\n",
       "      <th>61</th>\n",
       "      <th>62</th>\n",
       "      <th>63</th>\n",
       "    </tr>\n",
       "  </thead>\n",
       "  <tbody>\n",
       "    <tr>\n",
       "      <th>0</th>\n",
       "      <td>-0.080138</td>\n",
       "      <td>0.164991</td>\n",
       "      <td>-0.088390</td>\n",
       "      <td>-0.084368</td>\n",
       "      <td>-0.170704</td>\n",
       "      <td>-0.194693</td>\n",
       "      <td>0.028913</td>\n",
       "      <td>-0.058403</td>\n",
       "      <td>-0.246632</td>\n",
       "      <td>0.034682</td>\n",
       "      <td>...</td>\n",
       "      <td>-0.121886</td>\n",
       "      <td>-0.160051</td>\n",
       "      <td>0.239783</td>\n",
       "      <td>0.190130</td>\n",
       "      <td>0.294039</td>\n",
       "      <td>0.173054</td>\n",
       "      <td>-0.091124</td>\n",
       "      <td>0.053051</td>\n",
       "      <td>-0.061462</td>\n",
       "      <td>0.001636</td>\n",
       "    </tr>\n",
       "    <tr>\n",
       "      <th>1</th>\n",
       "      <td>0.065198</td>\n",
       "      <td>0.008223</td>\n",
       "      <td>-0.026139</td>\n",
       "      <td>0.027760</td>\n",
       "      <td>0.026469</td>\n",
       "      <td>-0.109828</td>\n",
       "      <td>0.081742</td>\n",
       "      <td>0.146817</td>\n",
       "      <td>-0.034586</td>\n",
       "      <td>-0.161586</td>\n",
       "      <td>...</td>\n",
       "      <td>0.008733</td>\n",
       "      <td>0.114419</td>\n",
       "      <td>-0.173410</td>\n",
       "      <td>0.064015</td>\n",
       "      <td>0.073164</td>\n",
       "      <td>0.176540</td>\n",
       "      <td>-0.061230</td>\n",
       "      <td>0.010753</td>\n",
       "      <td>0.053984</td>\n",
       "      <td>-0.101455</td>\n",
       "    </tr>\n",
       "    <tr>\n",
       "      <th>2</th>\n",
       "      <td>0.169136</td>\n",
       "      <td>-0.035362</td>\n",
       "      <td>-0.027654</td>\n",
       "      <td>-0.284353</td>\n",
       "      <td>-0.017567</td>\n",
       "      <td>-0.139145</td>\n",
       "      <td>0.066012</td>\n",
       "      <td>0.218829</td>\n",
       "      <td>-0.029755</td>\n",
       "      <td>-0.065688</td>\n",
       "      <td>...</td>\n",
       "      <td>-0.092729</td>\n",
       "      <td>-0.018937</td>\n",
       "      <td>-0.090321</td>\n",
       "      <td>0.180357</td>\n",
       "      <td>-0.110631</td>\n",
       "      <td>0.102139</td>\n",
       "      <td>0.148058</td>\n",
       "      <td>0.170666</td>\n",
       "      <td>0.267043</td>\n",
       "      <td>-0.112293</td>\n",
       "    </tr>\n",
       "    <tr>\n",
       "      <th>3</th>\n",
       "      <td>0.037014</td>\n",
       "      <td>-0.062965</td>\n",
       "      <td>-0.050965</td>\n",
       "      <td>-0.014348</td>\n",
       "      <td>0.046101</td>\n",
       "      <td>-0.081345</td>\n",
       "      <td>-0.232820</td>\n",
       "      <td>-0.091644</td>\n",
       "      <td>0.239366</td>\n",
       "      <td>-0.126221</td>\n",
       "      <td>...</td>\n",
       "      <td>0.066225</td>\n",
       "      <td>-0.069351</td>\n",
       "      <td>-0.109032</td>\n",
       "      <td>0.094101</td>\n",
       "      <td>0.144096</td>\n",
       "      <td>0.140754</td>\n",
       "      <td>-0.050377</td>\n",
       "      <td>-0.034933</td>\n",
       "      <td>-0.107016</td>\n",
       "      <td>-0.070730</td>\n",
       "    </tr>\n",
       "    <tr>\n",
       "      <th>4</th>\n",
       "      <td>-0.248760</td>\n",
       "      <td>0.086720</td>\n",
       "      <td>-0.268344</td>\n",
       "      <td>-0.252266</td>\n",
       "      <td>-0.225200</td>\n",
       "      <td>-0.004744</td>\n",
       "      <td>0.036384</td>\n",
       "      <td>-0.143048</td>\n",
       "      <td>-0.153263</td>\n",
       "      <td>-0.088398</td>\n",
       "      <td>...</td>\n",
       "      <td>0.099194</td>\n",
       "      <td>-0.215265</td>\n",
       "      <td>0.187329</td>\n",
       "      <td>0.281703</td>\n",
       "      <td>-0.058103</td>\n",
       "      <td>0.114930</td>\n",
       "      <td>0.012834</td>\n",
       "      <td>-0.011960</td>\n",
       "      <td>0.095858</td>\n",
       "      <td>-0.030840</td>\n",
       "    </tr>\n",
       "  </tbody>\n",
       "</table>\n",
       "<p>5 rows × 64 columns</p>\n",
       "</div>"
      ],
      "text/plain": [
       "          0         1         2         3         4         5         6  \\\n",
       "0 -0.080138  0.164991 -0.088390 -0.084368 -0.170704 -0.194693  0.028913   \n",
       "1  0.065198  0.008223 -0.026139  0.027760  0.026469 -0.109828  0.081742   \n",
       "2  0.169136 -0.035362 -0.027654 -0.284353 -0.017567 -0.139145  0.066012   \n",
       "3  0.037014 -0.062965 -0.050965 -0.014348  0.046101 -0.081345 -0.232820   \n",
       "4 -0.248760  0.086720 -0.268344 -0.252266 -0.225200 -0.004744  0.036384   \n",
       "\n",
       "          7         8         9  ...        54        55        56        57  \\\n",
       "0 -0.058403 -0.246632  0.034682  ... -0.121886 -0.160051  0.239783  0.190130   \n",
       "1  0.146817 -0.034586 -0.161586  ...  0.008733  0.114419 -0.173410  0.064015   \n",
       "2  0.218829 -0.029755 -0.065688  ... -0.092729 -0.018937 -0.090321  0.180357   \n",
       "3 -0.091644  0.239366 -0.126221  ...  0.066225 -0.069351 -0.109032  0.094101   \n",
       "4 -0.143048 -0.153263 -0.088398  ...  0.099194 -0.215265  0.187329  0.281703   \n",
       "\n",
       "         58        59        60        61        62        63  \n",
       "0  0.294039  0.173054 -0.091124  0.053051 -0.061462  0.001636  \n",
       "1  0.073164  0.176540 -0.061230  0.010753  0.053984 -0.101455  \n",
       "2 -0.110631  0.102139  0.148058  0.170666  0.267043 -0.112293  \n",
       "3  0.144096  0.140754 -0.050377 -0.034933 -0.107016 -0.070730  \n",
       "4 -0.058103  0.114930  0.012834 -0.011960  0.095858 -0.030840  \n",
       "\n",
       "[5 rows x 64 columns]"
      ]
     },
     "execution_count": 27,
     "metadata": {},
     "output_type": "execute_result"
    }
   ],
   "source": [
    "item_embeddings.head()"
   ]
  },
  {
   "cell_type": "code",
   "execution_count": 28,
   "id": "cb3cdf4f",
   "metadata": {},
   "outputs": [],
   "source": [
    "# save to disk\n",
    "item_embeddings.to_parquet('item_embeddings.parquet')"
   ]
  },
  {
   "cell_type": "markdown",
   "id": "b0611ec7",
   "metadata": {},
   "source": [
    "That's it. You have learned how to train and evaluate your Two-Tower retrieval model, and then how to export the required components to be able to deploy this model to generate recommendations. In order to learn more on serving a model to [Triton Inference Server](https://github.com/triton-inference-server/server), please explore the examples in the [Merlin](https://github.com/NVIDIA-Merlin/Merlin) and [Merlin Systems](https://github.com/NVIDIA-Merlin/systems) repos."
   ]
  }
 ],
 "metadata": {
  "kernelspec": {
   "display_name": "Python 3 (ipykernel)",
   "language": "python",
   "name": "python3"
  },
  "language_info": {
   "codemirror_mode": {
    "name": "ipython",
    "version": 3
   },
   "file_extension": ".py",
   "mimetype": "text/x-python",
   "name": "python",
   "nbconvert_exporter": "python",
   "pygments_lexer": "ipython3",
   "version": "3.8.10"
  }
 },
 "nbformat": 4,
 "nbformat_minor": 5
}
