{
 "cells": [
  {
   "cell_type": "code",
   "execution_count": 1,
   "metadata": {},
   "outputs": [
    {
     "data": {
      "text/html": [
       "<div>\n",
       "<style scoped>\n",
       "    .dataframe tbody tr th:only-of-type {\n",
       "        vertical-align: middle;\n",
       "    }\n",
       "\n",
       "    .dataframe tbody tr th {\n",
       "        vertical-align: top;\n",
       "    }\n",
       "\n",
       "    .dataframe thead th {\n",
       "        text-align: right;\n",
       "    }\n",
       "</style>\n",
       "<table border=\"1\" class=\"dataframe\">\n",
       "  <thead>\n",
       "    <tr style=\"text-align: right;\">\n",
       "      <th></th>\n",
       "      <th>name</th>\n",
       "      <th>tags</th>\n",
       "      <th>dtype</th>\n",
       "      <th>is_list</th>\n",
       "      <th>is_ragged</th>\n",
       "      <th>properties.domain.min</th>\n",
       "      <th>properties.domain.max</th>\n",
       "      <th>properties.domain.name</th>\n",
       "      <th>properties.value_count.min</th>\n",
       "      <th>properties.value_count.max</th>\n",
       "    </tr>\n",
       "  </thead>\n",
       "  <tbody>\n",
       "    <tr>\n",
       "      <th>0</th>\n",
       "      <td>session_id</td>\n",
       "      <td>(Tags.CATEGORICAL, Tags.SESSION_ID, Tags.SESSI...</td>\n",
       "      <td>DType(name='int64', element_type=&lt;ElementType....</td>\n",
       "      <td>False</td>\n",
       "      <td>False</td>\n",
       "      <td>0.0</td>\n",
       "      <td>10000.0</td>\n",
       "      <td>session_id</td>\n",
       "      <td>NaN</td>\n",
       "      <td>NaN</td>\n",
       "    </tr>\n",
       "    <tr>\n",
       "      <th>1</th>\n",
       "      <td>item_id</td>\n",
       "      <td>(Tags.CATEGORICAL, Tags.ID, Tags.ITEM, Tags.IT...</td>\n",
       "      <td>DType(name='int64', element_type=&lt;ElementType....</td>\n",
       "      <td>False</td>\n",
       "      <td>False</td>\n",
       "      <td>0.0</td>\n",
       "      <td>10000.0</td>\n",
       "      <td>item_id</td>\n",
       "      <td>NaN</td>\n",
       "      <td>NaN</td>\n",
       "    </tr>\n",
       "    <tr>\n",
       "      <th>2</th>\n",
       "      <td>item_category</td>\n",
       "      <td>(Tags.CATEGORICAL, Tags.ITEM)</td>\n",
       "      <td>DType(name='int64', element_type=&lt;ElementType....</td>\n",
       "      <td>False</td>\n",
       "      <td>False</td>\n",
       "      <td>0.0</td>\n",
       "      <td>100.0</td>\n",
       "      <td>item_category</td>\n",
       "      <td>NaN</td>\n",
       "      <td>NaN</td>\n",
       "    </tr>\n",
       "    <tr>\n",
       "      <th>3</th>\n",
       "      <td>item_recency</td>\n",
       "      <td>(Tags.ITEM, Tags.CONTINUOUS)</td>\n",
       "      <td>DType(name='float64', element_type=&lt;ElementTyp...</td>\n",
       "      <td>False</td>\n",
       "      <td>False</td>\n",
       "      <td>0.0</td>\n",
       "      <td>1.0</td>\n",
       "      <td>item_recency</td>\n",
       "      <td>NaN</td>\n",
       "      <td>NaN</td>\n",
       "    </tr>\n",
       "    <tr>\n",
       "      <th>4</th>\n",
       "      <td>item_genres</td>\n",
       "      <td>(Tags.CATEGORICAL, Tags.ITEM)</td>\n",
       "      <td>DType(name='int64', element_type=&lt;ElementType....</td>\n",
       "      <td>True</td>\n",
       "      <td>True</td>\n",
       "      <td>0.0</td>\n",
       "      <td>100.0</td>\n",
       "      <td>genres</td>\n",
       "      <td>4.0</td>\n",
       "      <td>NaN</td>\n",
       "    </tr>\n",
       "    <tr>\n",
       "      <th>5</th>\n",
       "      <td>user_id</td>\n",
       "      <td>(Tags.CATEGORICAL, Tags.USER_ID, Tags.ID, Tags...</td>\n",
       "      <td>DType(name='int64', element_type=&lt;ElementType....</td>\n",
       "      <td>False</td>\n",
       "      <td>False</td>\n",
       "      <td>0.0</td>\n",
       "      <td>10000.0</td>\n",
       "      <td>user_id</td>\n",
       "      <td>NaN</td>\n",
       "      <td>NaN</td>\n",
       "    </tr>\n",
       "    <tr>\n",
       "      <th>6</th>\n",
       "      <td>country</td>\n",
       "      <td>(Tags.CATEGORICAL, Tags.USER)</td>\n",
       "      <td>DType(name='int64', element_type=&lt;ElementType....</td>\n",
       "      <td>False</td>\n",
       "      <td>False</td>\n",
       "      <td>0.0</td>\n",
       "      <td>100.0</td>\n",
       "      <td>country</td>\n",
       "      <td>NaN</td>\n",
       "      <td>NaN</td>\n",
       "    </tr>\n",
       "    <tr>\n",
       "      <th>7</th>\n",
       "      <td>user_age</td>\n",
       "      <td>(Tags.CONTINUOUS, Tags.USER)</td>\n",
       "      <td>DType(name='int64', element_type=&lt;ElementType....</td>\n",
       "      <td>False</td>\n",
       "      <td>False</td>\n",
       "      <td>18.0</td>\n",
       "      <td>50.0</td>\n",
       "      <td>user_age</td>\n",
       "      <td>NaN</td>\n",
       "      <td>NaN</td>\n",
       "    </tr>\n",
       "    <tr>\n",
       "      <th>8</th>\n",
       "      <td>user_genres</td>\n",
       "      <td>(Tags.CATEGORICAL, Tags.USER)</td>\n",
       "      <td>DType(name='int64', element_type=&lt;ElementType....</td>\n",
       "      <td>True</td>\n",
       "      <td>True</td>\n",
       "      <td>0.0</td>\n",
       "      <td>100.0</td>\n",
       "      <td>genres</td>\n",
       "      <td>4.0</td>\n",
       "      <td>NaN</td>\n",
       "    </tr>\n",
       "    <tr>\n",
       "      <th>9</th>\n",
       "      <td>position</td>\n",
       "      <td>(bias, Tags.CONTINUOUS)</td>\n",
       "      <td>DType(name='int64', element_type=&lt;ElementType....</td>\n",
       "      <td>False</td>\n",
       "      <td>False</td>\n",
       "      <td>1.0</td>\n",
       "      <td>100.0</td>\n",
       "      <td>position</td>\n",
       "      <td>NaN</td>\n",
       "      <td>NaN</td>\n",
       "    </tr>\n",
       "    <tr>\n",
       "      <th>10</th>\n",
       "      <td>click</td>\n",
       "      <td>(Tags.BINARY_CLASSIFICATION, Tags.TARGET)</td>\n",
       "      <td>DType(name='int64', element_type=&lt;ElementType....</td>\n",
       "      <td>False</td>\n",
       "      <td>False</td>\n",
       "      <td>NaN</td>\n",
       "      <td>NaN</td>\n",
       "      <td>NaN</td>\n",
       "      <td>NaN</td>\n",
       "      <td>NaN</td>\n",
       "    </tr>\n",
       "    <tr>\n",
       "      <th>11</th>\n",
       "      <td>play_percentage</td>\n",
       "      <td>(Tags.REGRESSION, Tags.TARGET)</td>\n",
       "      <td>DType(name='float64', element_type=&lt;ElementTyp...</td>\n",
       "      <td>False</td>\n",
       "      <td>False</td>\n",
       "      <td>NaN</td>\n",
       "      <td>NaN</td>\n",
       "      <td>NaN</td>\n",
       "      <td>NaN</td>\n",
       "      <td>NaN</td>\n",
       "    </tr>\n",
       "    <tr>\n",
       "      <th>12</th>\n",
       "      <td>like</td>\n",
       "      <td>(Tags.BINARY_CLASSIFICATION, Tags.TARGET)</td>\n",
       "      <td>DType(name='int64', element_type=&lt;ElementType....</td>\n",
       "      <td>False</td>\n",
       "      <td>False</td>\n",
       "      <td>NaN</td>\n",
       "      <td>NaN</td>\n",
       "      <td>NaN</td>\n",
       "      <td>NaN</td>\n",
       "      <td>NaN</td>\n",
       "    </tr>\n",
       "  </tbody>\n",
       "</table>\n",
       "</div>"
      ],
      "text/plain": [
       "[{'name': 'session_id', 'tags': {<Tags.CATEGORICAL: 'categorical'>, <Tags.SESSION_ID: 'session_id'>, <Tags.SESSION: 'session'>, <Tags.ID: 'id'>}, 'properties': {'domain': {'min': 0, 'max': 10000, 'name': 'session_id'}}, 'dtype': DType(name='int64', element_type=<ElementType.Int: 'int'>, element_size=64, element_unit=None, signed=True, shape=Shape(dims=None)), 'is_list': False, 'is_ragged': False}, {'name': 'item_id', 'tags': {<Tags.CATEGORICAL: 'categorical'>, <Tags.ID: 'id'>, <Tags.ITEM: 'item'>, <Tags.ITEM_ID: 'item_id'>}, 'properties': {'domain': {'min': 0, 'max': 10000, 'name': 'item_id'}}, 'dtype': DType(name='int64', element_type=<ElementType.Int: 'int'>, element_size=64, element_unit=None, signed=True, shape=Shape(dims=None)), 'is_list': False, 'is_ragged': False}, {'name': 'item_category', 'tags': {<Tags.CATEGORICAL: 'categorical'>, <Tags.ITEM: 'item'>}, 'properties': {'domain': {'min': 0, 'max': 100, 'name': 'item_category'}}, 'dtype': DType(name='int64', element_type=<ElementType.Int: 'int'>, element_size=64, element_unit=None, signed=True, shape=Shape(dims=None)), 'is_list': False, 'is_ragged': False}, {'name': 'item_recency', 'tags': {<Tags.ITEM: 'item'>, <Tags.CONTINUOUS: 'continuous'>}, 'properties': {'domain': {'min': 0.0, 'max': 1.0, 'name': 'item_recency'}}, 'dtype': DType(name='float64', element_type=<ElementType.Float: 'float'>, element_size=64, element_unit=None, signed=True, shape=Shape(dims=None)), 'is_list': False, 'is_ragged': False}, {'name': 'item_genres', 'tags': {<Tags.CATEGORICAL: 'categorical'>, <Tags.ITEM: 'item'>}, 'properties': {'domain': {'min': 0, 'max': 100, 'name': 'genres'}, 'value_count': {'min': 4, 'max': None}}, 'dtype': DType(name='int64', element_type=<ElementType.Int: 'int'>, element_size=64, element_unit=None, signed=True, shape=Shape(dims=(Dimension(min=0, max=None), Dimension(min=4, max=None)))), 'is_list': True, 'is_ragged': True}, {'name': 'user_id', 'tags': {<Tags.CATEGORICAL: 'categorical'>, <Tags.USER_ID: 'user_id'>, <Tags.ID: 'id'>, <Tags.USER: 'user'>}, 'properties': {'domain': {'min': 0, 'max': 10000, 'name': 'user_id'}}, 'dtype': DType(name='int64', element_type=<ElementType.Int: 'int'>, element_size=64, element_unit=None, signed=True, shape=Shape(dims=None)), 'is_list': False, 'is_ragged': False}, {'name': 'country', 'tags': {<Tags.CATEGORICAL: 'categorical'>, <Tags.USER: 'user'>}, 'properties': {'domain': {'min': 0, 'max': 100, 'name': 'country'}}, 'dtype': DType(name='int64', element_type=<ElementType.Int: 'int'>, element_size=64, element_unit=None, signed=True, shape=Shape(dims=None)), 'is_list': False, 'is_ragged': False}, {'name': 'user_age', 'tags': {<Tags.CONTINUOUS: 'continuous'>, <Tags.USER: 'user'>}, 'properties': {'domain': {'min': 18, 'max': 50, 'name': 'user_age'}}, 'dtype': DType(name='int64', element_type=<ElementType.Int: 'int'>, element_size=64, element_unit=None, signed=True, shape=Shape(dims=None)), 'is_list': False, 'is_ragged': False}, {'name': 'user_genres', 'tags': {<Tags.CATEGORICAL: 'categorical'>, <Tags.USER: 'user'>}, 'properties': {'domain': {'min': 0, 'max': 100, 'name': 'genres'}, 'value_count': {'min': 4, 'max': None}}, 'dtype': DType(name='int64', element_type=<ElementType.Int: 'int'>, element_size=64, element_unit=None, signed=True, shape=Shape(dims=(Dimension(min=0, max=None), Dimension(min=4, max=None)))), 'is_list': True, 'is_ragged': True}, {'name': 'position', 'tags': {'bias', <Tags.CONTINUOUS: 'continuous'>}, 'properties': {'domain': {'min': 1, 'max': 100, 'name': 'position'}}, 'dtype': DType(name='int64', element_type=<ElementType.Int: 'int'>, element_size=64, element_unit=None, signed=True, shape=Shape(dims=None)), 'is_list': False, 'is_ragged': False}, {'name': 'click', 'tags': {<Tags.BINARY_CLASSIFICATION: 'binary_classification'>, <Tags.TARGET: 'target'>}, 'properties': {}, 'dtype': DType(name='int64', element_type=<ElementType.Int: 'int'>, element_size=64, element_unit=None, signed=True, shape=Shape(dims=None)), 'is_list': False, 'is_ragged': False}, {'name': 'play_percentage', 'tags': {<Tags.REGRESSION: 'regression'>, <Tags.TARGET: 'target'>}, 'properties': {}, 'dtype': DType(name='float64', element_type=<ElementType.Float: 'float'>, element_size=64, element_unit=None, signed=True, shape=Shape(dims=None)), 'is_list': False, 'is_ragged': False}, {'name': 'like', 'tags': {<Tags.BINARY_CLASSIFICATION: 'binary_classification'>, <Tags.TARGET: 'target'>}, 'properties': {}, 'dtype': DType(name='int64', element_type=<ElementType.Int: 'int'>, element_size=64, element_unit=None, signed=True, shape=Shape(dims=None)), 'is_list': False, 'is_ragged': False}]"
      ]
     },
     "execution_count": 1,
     "metadata": {},
     "output_type": "execute_result"
    }
   ],
   "source": [
    "import warnings\n",
    "warnings.filterwarnings(\"ignore\")\n",
    "\n",
    "import torch\n",
    "from torch import nn\n",
    "\n",
    "from merlin.schema import Schema, ColumnSchema, Tags\n",
    "from merlin.datasets.synthetic import generate_data\n",
    "import merlin.models.torch as mm\n",
    "\n",
    "\n",
    "train = generate_data(\"music-streaming\", num_rows=1000)\n",
    "schema = train.schema\n",
    "\n",
    "schema"
   ]
  },
  {
   "attachments": {},
   "cell_type": "markdown",
   "metadata": {},
   "source": [
    "### Core Abstractions\n",
    "- Batch\n",
    "- Link\n",
    "- Block\n",
    "- ParallelBlock\n",
    "- Model"
   ]
  },
  {
   "attachments": {},
   "cell_type": "markdown",
   "metadata": {},
   "source": [
    "#### ParallelBlock"
   ]
  },
  {
   "cell_type": "code",
   "execution_count": 5,
   "metadata": {},
   "outputs": [
    {
     "data": {
      "text/html": [
       "<pre style=\"white-space:pre;overflow-x:auto;line-height:normal;font-family:Menlo,'DejaVu Sans Mono',consolas,'Courier New',monospace\">ParallelBlock\n",
       "├── pre\n",
       "│   └── PlusOne()\n",
       "├── <span style=\"font-style: italic\">branches                         </span>\n",
       "│   ┏━━━━━━━━━━━━━━━┳━━━━━━━━━━━━━━━┓\n",
       "│   ┃<span style=\"font-weight: bold\"> a             </span>┃<span style=\"font-weight: bold\"> b             </span>┃\n",
       "│   ┡━━━━━━━━━━━━━━━╇━━━━━━━━━━━━━━━┩\n",
       "│   │ branch-a      │ branch-b      │\n",
       "│   │ └── PlusOne() │ └── PlusOne() │\n",
       "│   └───────────────┴───────────────┘\n",
       "└── post\n",
       "    └── PlusOne()\n",
       "</pre>\n"
      ],
      "text/plain": [
       "ParallelBlock\n",
       "├── pre\n",
       "│   └── PlusOne()\n",
       "├── \u001b[3mbranches                         \u001b[0m\n",
       "│   ┏━━━━━━━━━━━━━━━┳━━━━━━━━━━━━━━━┓\n",
       "│   ┃\u001b[1m \u001b[0m\u001b[1ma            \u001b[0m\u001b[1m \u001b[0m┃\u001b[1m \u001b[0m\u001b[1mb            \u001b[0m\u001b[1m \u001b[0m┃\n",
       "│   ┡━━━━━━━━━━━━━━━╇━━━━━━━━━━━━━━━┩\n",
       "│   │ branch-a      │ branch-b      │\n",
       "│   │ └── PlusOne() │ └── PlusOne() │\n",
       "│   └───────────────┴───────────────┘\n",
       "└── post\n",
       "    └── PlusOne()\n"
      ]
     },
     "metadata": {},
     "output_type": "display_data"
    }
   ],
   "source": [
    "class PlusOne(nn.Module):\n",
    "    def forward(self, inputs: torch.Tensor) -> torch.Tensor:\n",
    "        return inputs + 1\n",
    "    \n",
    "block = mm.ParallelBlock({\"a\": PlusOne(), \"b\": PlusOne()})\n",
    "block.prepend(PlusOne())\n",
    "block.append(PlusOne())\n",
    "block.rich_print()"
   ]
  },
  {
   "attachments": {},
   "cell_type": "markdown",
   "metadata": {},
   "source": [
    "## Retrieval"
   ]
  },
  {
   "attachments": {},
   "cell_type": "markdown",
   "metadata": {},
   "source": [
    "#### Matrix Factorization"
   ]
  },
  {
   "attachments": {},
   "cell_type": "markdown",
   "metadata": {},
   "source": [
    "![mf](img/mf.png)"
   ]
  },
  {
   "cell_type": "code",
   "execution_count": 6,
   "metadata": {},
   "outputs": [
    {
     "ename": "NotSupportedError",
     "evalue": "Comprehension ifs are not supported yet:\n  File \"/home/marc/anaconda3/envs/torchrec-pip/lib/python3.9/site-packages/merlin/schema/schema.py\", line 634\n        # must account for same columns in both schemas,\n        # use the one with more information for each field\n        keys_self_not_other = [\n            col_name for col_name in self.column_names if col_name not in other.column_names\n        ]\n'__torch__.merlin.schema.schema.Schema' is being compiled since it was called from 'EmbeddingTable.forward'\n  File \"/home/marc/src/merlin/models/merlin/models/torch/block.py\", line 389\n    def setup_schema(self, schema: Schema):\n    ~~~~~~~~~~~~~~~~~~~~~~~~~~~~~~~~~~~~~~~\n        self.schema = schema\n        ~~~~~~~~~~~~~~~~~~~~ <--- HERE\n",
     "output_type": "error",
     "traceback": [
      "\u001b[0;31m---------------------------------------------------------------------------\u001b[0m",
      "\u001b[0;31mNotSupportedError\u001b[0m                         Traceback (most recent call last)",
      "Cell \u001b[0;32mIn[6], line 2\u001b[0m\n\u001b[1;32m      1\u001b[0m mf_inputs \u001b[39m=\u001b[39m mm\u001b[39m.\u001b[39mTabularInputBlock(schema)\n\u001b[0;32m----> 2\u001b[0m mf_inputs\u001b[39m.\u001b[39;49madd_for_each([Tags\u001b[39m.\u001b[39;49mUSER_ID, Tags\u001b[39m.\u001b[39;49mITEM_ID], mm\u001b[39m.\u001b[39;49mEmbeddingTable(\u001b[39m100\u001b[39;49m))\n\u001b[1;32m      3\u001b[0m \u001b[39m# output = mm.ContrastiveOutput((Tags.USER_ID, Tags.ITEM_ID), schema=schema)\u001b[39;00m\n\u001b[1;32m      4\u001b[0m \u001b[39m# model = mm.Model(mf_inputs, output)\u001b[39;00m\n\u001b[1;32m      6\u001b[0m mf_inputs\n",
      "File \u001b[0;32m~/src/merlin/models/merlin/models/torch/block.py:246\u001b[0m, in \u001b[0;36mRouterBlock.add_for_each\u001b[0;34m(self, selection, module, shared)\u001b[0m\n\u001b[1;32m    244\u001b[0m \u001b[39mif\u001b[39;00m \u001b[39misinstance\u001b[39m(selection, (\u001b[39mlist\u001b[39m, \u001b[39mtuple\u001b[39m)):\n\u001b[1;32m    245\u001b[0m     \u001b[39mfor\u001b[39;00m sel \u001b[39min\u001b[39;00m selection:\n\u001b[0;32m--> 246\u001b[0m         \u001b[39mself\u001b[39;49m\u001b[39m.\u001b[39;49madd_for_each(sel, module, shared\u001b[39m=\u001b[39;49mshared)\n\u001b[1;32m    248\u001b[0m     \u001b[39mreturn\u001b[39;00m \u001b[39mself\u001b[39m\n\u001b[1;32m    250\u001b[0m selected \u001b[39m=\u001b[39m select_schema(\u001b[39mself\u001b[39m\u001b[39m.\u001b[39mselectable\u001b[39m.\u001b[39mschema, selection)\n",
      "File \u001b[0;32m~/src/merlin/models/merlin/models/torch/block.py:257\u001b[0m, in \u001b[0;36mRouterBlock.add_for_each\u001b[0;34m(self, selection, module, shared)\u001b[0m\n\u001b[1;32m    254\u001b[0m     \u001b[39mif\u001b[39;00m \u001b[39mhasattr\u001b[39m(col_module, \u001b[39m\"\u001b[39m\u001b[39msetup_schema\u001b[39m\u001b[39m\"\u001b[39m):\n\u001b[1;32m    255\u001b[0m         col_module\u001b[39m.\u001b[39msetup_schema(selected)\n\u001b[0;32m--> 257\u001b[0m     \u001b[39mself\u001b[39;49m\u001b[39m.\u001b[39;49madd(col, col_module, name\u001b[39m=\u001b[39;49mcol\u001b[39m.\u001b[39;49mname)\n\u001b[1;32m    259\u001b[0m \u001b[39mreturn\u001b[39;00m \u001b[39mself\u001b[39m\n",
      "File \u001b[0;32m~/src/merlin/models/merlin/models/torch/block.py:231\u001b[0m, in \u001b[0;36mRouterBlock.add\u001b[0;34m(self, selection, module, name, encoder)\u001b[0m\n\u001b[1;32m    229\u001b[0m         \u001b[39mraise\u001b[39;00m \u001b[39mNotImplementedError\u001b[39;00m()\n\u001b[1;32m    230\u001b[0m     \u001b[39melse\u001b[39;00m:\n\u001b[0;32m--> 231\u001b[0m         branch\u001b[39m.\u001b[39;49mappend(module)\n\u001b[1;32m    233\u001b[0m \u001b[39mself\u001b[39m\u001b[39m.\u001b[39mbranches[name] \u001b[39m=\u001b[39m branch\n\u001b[1;32m    235\u001b[0m \u001b[39mreturn\u001b[39;00m \u001b[39mself\u001b[39m\n",
      "File \u001b[0;32m~/src/merlin/models/merlin/models/torch/container.py:27\u001b[0m, in \u001b[0;36mBlockContainer.append\u001b[0;34m(self, module, link)\u001b[0m\n\u001b[1;32m     25\u001b[0m \u001b[39mdef\u001b[39;00m \u001b[39mappend\u001b[39m(\u001b[39mself\u001b[39m, module: nn\u001b[39m.\u001b[39mModule, link: Optional[Union[Link, \u001b[39mstr\u001b[39m]] \u001b[39m=\u001b[39m \u001b[39mNone\u001b[39;00m):\n\u001b[1;32m     26\u001b[0m     _module \u001b[39m=\u001b[39m \u001b[39mself\u001b[39m\u001b[39m.\u001b[39m_check_link(module, link\u001b[39m=\u001b[39mlink)\n\u001b[0;32m---> 27\u001b[0m     \u001b[39mself\u001b[39m\u001b[39m.\u001b[39mvalues\u001b[39m.\u001b[39mappend(\u001b[39mself\u001b[39;49m\u001b[39m.\u001b[39;49mwrap_module(_module))\n\u001b[1;32m     29\u001b[0m     \u001b[39mreturn\u001b[39;00m \u001b[39mself\u001b[39m\n",
      "File \u001b[0;32m~/src/merlin/models/merlin/models/torch/container.py:60\u001b[0m, in \u001b[0;36mBlockContainer.wrap_module\u001b[0;34m(self, module)\u001b[0m\n\u001b[1;32m     53\u001b[0m \u001b[39mif\u001b[39;00m \u001b[39misinstance\u001b[39m(module, (\n\u001b[1;32m     54\u001b[0m     BlockContainer, \n\u001b[1;32m     55\u001b[0m     BlockContainerDict,\n\u001b[1;32m     56\u001b[0m     torchscript_utils\u001b[39m.\u001b[39mTorchScriptWrapper\n\u001b[1;32m     57\u001b[0m )):\n\u001b[1;32m     58\u001b[0m     \u001b[39mreturn\u001b[39;00m module\n\u001b[0;32m---> 60\u001b[0m \u001b[39mreturn\u001b[39;00m torchscript_utils\u001b[39m.\u001b[39;49mTorchScriptWrapper(module)\n",
      "File \u001b[0;32m~/src/merlin/models/merlin/models/torch/utils/torchscript_utils.py:22\u001b[0m, in \u001b[0;36mTorchScriptWrapper.__init__\u001b[0;34m(self, to_wrap, strict)\u001b[0m\n\u001b[1;32m     20\u001b[0m     \u001b[39mself\u001b[39m\u001b[39m.\u001b[39maccepts_dict \u001b[39m=\u001b[39m \u001b[39mTrue\u001b[39;00m\n\u001b[1;32m     21\u001b[0m \u001b[39melse\u001b[39;00m:\n\u001b[0;32m---> 22\u001b[0m     \u001b[39mself\u001b[39m\u001b[39m.\u001b[39maccepts_dict \u001b[39m=\u001b[39m _parallel_check_strict(to_wrap) \u001b[39mif\u001b[39;00m strict \u001b[39melse\u001b[39;00m \u001b[39mFalse\u001b[39;00m\n",
      "File \u001b[0;32m~/src/merlin/models/merlin/models/torch/utils/torchscript_utils.py:99\u001b[0m, in \u001b[0;36m_parallel_check_strict\u001b[0;34m(parallel, pre, post)\u001b[0m\n\u001b[1;32m     96\u001b[0m parallel_output_types \u001b[39m=\u001b[39m {}\n\u001b[1;32m     98\u001b[0m \u001b[39mfor\u001b[39;00m name, module \u001b[39min\u001b[39;00m parallel\u001b[39m.\u001b[39mitems():\n\u001b[0;32m---> 99\u001b[0m     input_type, output_type \u001b[39m=\u001b[39m module_utils\u001b[39m.\u001b[39;49mtorchscript_io_types(module)\n\u001b[1;32m    100\u001b[0m     parallel_input_types[name] \u001b[39m=\u001b[39m input_type\n\u001b[1;32m    101\u001b[0m     parallel_output_types[name] \u001b[39m=\u001b[39m output_type\n",
      "File \u001b[0;32m~/src/merlin/models/merlin/models/torch/utils/module_utils.py:65\u001b[0m, in \u001b[0;36mtorchscript_io_types\u001b[0;34m(module)\u001b[0m\n\u001b[1;32m     64\u001b[0m \u001b[39mdef\u001b[39;00m \u001b[39mtorchscript_io_types\u001b[39m(module: nn\u001b[39m.\u001b[39mModule) \u001b[39m-\u001b[39m\u001b[39m>\u001b[39m Tuple[\u001b[39mstr\u001b[39m, \u001b[39mstr\u001b[39m]:\n\u001b[0;32m---> 65\u001b[0m     compiled \u001b[39m=\u001b[39m torch\u001b[39m.\u001b[39;49mjit\u001b[39m.\u001b[39;49mscript(module)\n\u001b[1;32m     67\u001b[0m     \u001b[39m# Compile regular expression patterns to match the input and output\u001b[39;00m\n\u001b[1;32m     68\u001b[0m     \u001b[39m# type annotations in a function signature\u001b[39;00m\n\u001b[1;32m     69\u001b[0m     input_pattern \u001b[39m=\u001b[39m re\u001b[39m.\u001b[39mcompile(\n\u001b[1;32m     70\u001b[0m         \u001b[39mr\u001b[39m\u001b[39m\"\u001b[39m\u001b[39mdef .+?\u001b[39m\u001b[39m\\\u001b[39m\u001b[39m(.*?self,\u001b[39m\u001b[39m\\\u001b[39m\u001b[39ms*?[a-zA-Z_][a-zA-Z0-9_]*:\u001b[39m\u001b[39m\\\u001b[39m\u001b[39ms+((?:[a-zA-Z_][a-zA-Z0-9_]*)(?:\u001b[39m\u001b[39m\\\u001b[39m\u001b[39m[[^\u001b[39m\u001b[39m\\\u001b[39m\u001b[39m]]*\u001b[39m\u001b[39m\\\u001b[39m\u001b[39m])?)\u001b[39m\u001b[39m\"\u001b[39m  \u001b[39m# noqa: E501\u001b[39;00m\n\u001b[1;32m     71\u001b[0m     )\n",
      "File \u001b[0;32m~/anaconda3/envs/torchrec-pip/lib/python3.9/site-packages/torch/jit/_script.py:1284\u001b[0m, in \u001b[0;36mscript\u001b[0;34m(obj, optimize, _frames_up, _rcb, example_inputs)\u001b[0m\n\u001b[1;32m   1282\u001b[0m \u001b[39mif\u001b[39;00m \u001b[39misinstance\u001b[39m(obj, torch\u001b[39m.\u001b[39mnn\u001b[39m.\u001b[39mModule):\n\u001b[1;32m   1283\u001b[0m     obj \u001b[39m=\u001b[39m call_prepare_scriptable_func(obj)\n\u001b[0;32m-> 1284\u001b[0m     \u001b[39mreturn\u001b[39;00m torch\u001b[39m.\u001b[39;49mjit\u001b[39m.\u001b[39;49m_recursive\u001b[39m.\u001b[39;49mcreate_script_module(\n\u001b[1;32m   1285\u001b[0m         obj, torch\u001b[39m.\u001b[39;49mjit\u001b[39m.\u001b[39;49m_recursive\u001b[39m.\u001b[39;49minfer_methods_to_compile\n\u001b[1;32m   1286\u001b[0m     )\n\u001b[1;32m   1288\u001b[0m \u001b[39mif\u001b[39;00m \u001b[39misinstance\u001b[39m(obj, \u001b[39mdict\u001b[39m):\n\u001b[1;32m   1289\u001b[0m     \u001b[39mreturn\u001b[39;00m create_script_dict(obj)\n",
      "File \u001b[0;32m~/anaconda3/envs/torchrec-pip/lib/python3.9/site-packages/torch/jit/_recursive.py:480\u001b[0m, in \u001b[0;36mcreate_script_module\u001b[0;34m(nn_module, stubs_fn, share_types, is_tracing)\u001b[0m\n\u001b[1;32m    478\u001b[0m \u001b[39mif\u001b[39;00m \u001b[39mnot\u001b[39;00m is_tracing:\n\u001b[1;32m    479\u001b[0m     AttributeTypeIsSupportedChecker()\u001b[39m.\u001b[39mcheck(nn_module)\n\u001b[0;32m--> 480\u001b[0m \u001b[39mreturn\u001b[39;00m create_script_module_impl(nn_module, concrete_type, stubs_fn)\n",
      "File \u001b[0;32m~/anaconda3/envs/torchrec-pip/lib/python3.9/site-packages/torch/jit/_recursive.py:546\u001b[0m, in \u001b[0;36mcreate_script_module_impl\u001b[0;34m(nn_module, concrete_type, stubs_fn)\u001b[0m\n\u001b[1;32m    544\u001b[0m \u001b[39m# Compile methods if necessary\u001b[39;00m\n\u001b[1;32m    545\u001b[0m \u001b[39mif\u001b[39;00m concrete_type \u001b[39mnot\u001b[39;00m \u001b[39min\u001b[39;00m concrete_type_store\u001b[39m.\u001b[39mmethods_compiled:\n\u001b[0;32m--> 546\u001b[0m     create_methods_and_properties_from_stubs(concrete_type, method_stubs, property_stubs)\n\u001b[1;32m    547\u001b[0m     \u001b[39m# Create hooks after methods to ensure no name collisions between hooks and methods.\u001b[39;00m\n\u001b[1;32m    548\u001b[0m     \u001b[39m# If done before, hooks can overshadow methods that aren't exported.\u001b[39;00m\n\u001b[1;32m    549\u001b[0m     create_hooks_from_stubs(concrete_type, hook_stubs, pre_hook_stubs)\n",
      "File \u001b[0;32m~/anaconda3/envs/torchrec-pip/lib/python3.9/site-packages/torch/jit/_recursive.py:397\u001b[0m, in \u001b[0;36mcreate_methods_and_properties_from_stubs\u001b[0;34m(concrete_type, method_stubs, property_stubs)\u001b[0m\n\u001b[1;32m    394\u001b[0m property_defs \u001b[39m=\u001b[39m [p\u001b[39m.\u001b[39mdef_ \u001b[39mfor\u001b[39;00m p \u001b[39min\u001b[39;00m property_stubs]\n\u001b[1;32m    395\u001b[0m property_rcbs \u001b[39m=\u001b[39m [p\u001b[39m.\u001b[39mresolution_callback \u001b[39mfor\u001b[39;00m p \u001b[39min\u001b[39;00m property_stubs]\n\u001b[0;32m--> 397\u001b[0m concrete_type\u001b[39m.\u001b[39;49m_create_methods_and_properties(property_defs, property_rcbs, method_defs, method_rcbs, method_defaults)\n",
      "File \u001b[0;32m~/anaconda3/envs/torchrec-pip/lib/python3.9/site-packages/torch/jit/annotations.py:410\u001b[0m, in \u001b[0;36mtry_ann_to_type\u001b[0;34m(ann, loc)\u001b[0m\n\u001b[1;32m    408\u001b[0m         \u001b[39mreturn\u001b[39;00m maybe_script_class\n\u001b[1;32m    409\u001b[0m     \u001b[39mif\u001b[39;00m torch\u001b[39m.\u001b[39m_jit_internal\u001b[39m.\u001b[39mcan_compile_class(ann):\n\u001b[0;32m--> 410\u001b[0m         \u001b[39mreturn\u001b[39;00m torch\u001b[39m.\u001b[39;49mjit\u001b[39m.\u001b[39;49m_script\u001b[39m.\u001b[39;49m_recursive_compile_class(ann, loc)\n\u001b[1;32m    412\u001b[0m \u001b[39m# Maybe resolve a NamedTuple to a Tuple Type\u001b[39;00m\n\u001b[1;32m    413\u001b[0m \u001b[39mdef\u001b[39;00m \u001b[39mfake_rcb\u001b[39m(key):\n",
      "File \u001b[0;32m~/anaconda3/envs/torchrec-pip/lib/python3.9/site-packages/torch/jit/_script.py:1466\u001b[0m, in \u001b[0;36m_recursive_compile_class\u001b[0;34m(obj, loc)\u001b[0m\n\u001b[1;32m   1464\u001b[0m error_stack \u001b[39m=\u001b[39m torch\u001b[39m.\u001b[39m_C\u001b[39m.\u001b[39mCallStack(_qual_name, loc)\n\u001b[1;32m   1465\u001b[0m rcb \u001b[39m=\u001b[39m _jit_internal\u001b[39m.\u001b[39mcreateResolutionCallbackForClassMethods(obj)\n\u001b[0;32m-> 1466\u001b[0m \u001b[39mreturn\u001b[39;00m _compile_and_register_class(obj, rcb, _qual_name)\n",
      "File \u001b[0;32m~/anaconda3/envs/torchrec-pip/lib/python3.9/site-packages/torch/jit/_recursive.py:49\u001b[0m, in \u001b[0;36m_compile_and_register_class\u001b[0;34m(obj, rcb, qualified_name)\u001b[0m\n\u001b[1;32m     46\u001b[0m script_class \u001b[39m=\u001b[39m _get_script_class(obj)\n\u001b[1;32m     48\u001b[0m \u001b[39mif\u001b[39;00m \u001b[39mnot\u001b[39;00m script_class:\n\u001b[0;32m---> 49\u001b[0m     ast \u001b[39m=\u001b[39m get_jit_class_def(obj, obj\u001b[39m.\u001b[39;49m\u001b[39m__name__\u001b[39;49m)\n\u001b[1;32m     50\u001b[0m     defaults \u001b[39m=\u001b[39m torch\u001b[39m.\u001b[39mjit\u001b[39m.\u001b[39mfrontend\u001b[39m.\u001b[39mget_default_args_for_class(obj)\n\u001b[1;32m     51\u001b[0m     script_class \u001b[39m=\u001b[39m torch\u001b[39m.\u001b[39m_C\u001b[39m.\u001b[39m_jit_script_class_compile(qualified_name, ast, defaults, rcb)\n",
      "File \u001b[0;32m~/anaconda3/envs/torchrec-pip/lib/python3.9/site-packages/torch/jit/frontend.py:234\u001b[0m, in \u001b[0;36mget_jit_class_def\u001b[0;34m(cls, self_name)\u001b[0m\n\u001b[1;32m    231\u001b[0m             func \u001b[39m=\u001b[39m \u001b[39mgetattr\u001b[39m(\u001b[39mcls\u001b[39m, name)\n\u001b[1;32m    232\u001b[0m             _jit_internal\u001b[39m.\u001b[39mloader\u001b[39m.\u001b[39mcache(func, parsed_def\u001b[39m.\u001b[39msource)\n\u001b[0;32m--> 234\u001b[0m method_defs \u001b[39m=\u001b[39m [\n\u001b[1;32m    235\u001b[0m     get_jit_def(obj, name, self_name\u001b[39m=\u001b[39mself_name, is_classmethod\u001b[39m=\u001b[39mis_classmethod(obj))\n\u001b[1;32m    236\u001b[0m     \u001b[39mfor\u001b[39;00m (name, obj) \u001b[39min\u001b[39;00m methods\n\u001b[1;32m    237\u001b[0m ]\n\u001b[1;32m    238\u001b[0m properties \u001b[39m=\u001b[39m get_class_properties(\u001b[39mcls\u001b[39m, self_name)\n\u001b[1;32m    240\u001b[0m leading_whitespace_len \u001b[39m=\u001b[39m \u001b[39mlen\u001b[39m(source\u001b[39m.\u001b[39msplit(\u001b[39m'\u001b[39m\u001b[39m\\n\u001b[39;00m\u001b[39m'\u001b[39m, \u001b[39m1\u001b[39m)[\u001b[39m0\u001b[39m]) \u001b[39m-\u001b[39m \u001b[39mlen\u001b[39m(dedent_src\u001b[39m.\u001b[39msplit(\u001b[39m'\u001b[39m\u001b[39m\\n\u001b[39;00m\u001b[39m'\u001b[39m, \u001b[39m1\u001b[39m)[\u001b[39m0\u001b[39m])\n",
      "File \u001b[0;32m~/anaconda3/envs/torchrec-pip/lib/python3.9/site-packages/torch/jit/frontend.py:235\u001b[0m, in \u001b[0;36m<listcomp>\u001b[0;34m(.0)\u001b[0m\n\u001b[1;32m    231\u001b[0m             func \u001b[39m=\u001b[39m \u001b[39mgetattr\u001b[39m(\u001b[39mcls\u001b[39m, name)\n\u001b[1;32m    232\u001b[0m             _jit_internal\u001b[39m.\u001b[39mloader\u001b[39m.\u001b[39mcache(func, parsed_def\u001b[39m.\u001b[39msource)\n\u001b[1;32m    234\u001b[0m method_defs \u001b[39m=\u001b[39m [\n\u001b[0;32m--> 235\u001b[0m     get_jit_def(obj, name, self_name\u001b[39m=\u001b[39;49mself_name, is_classmethod\u001b[39m=\u001b[39;49mis_classmethod(obj))\n\u001b[1;32m    236\u001b[0m     \u001b[39mfor\u001b[39;00m (name, obj) \u001b[39min\u001b[39;00m methods\n\u001b[1;32m    237\u001b[0m ]\n\u001b[1;32m    238\u001b[0m properties \u001b[39m=\u001b[39m get_class_properties(\u001b[39mcls\u001b[39m, self_name)\n\u001b[1;32m    240\u001b[0m leading_whitespace_len \u001b[39m=\u001b[39m \u001b[39mlen\u001b[39m(source\u001b[39m.\u001b[39msplit(\u001b[39m'\u001b[39m\u001b[39m\\n\u001b[39;00m\u001b[39m'\u001b[39m, \u001b[39m1\u001b[39m)[\u001b[39m0\u001b[39m]) \u001b[39m-\u001b[39m \u001b[39mlen\u001b[39m(dedent_src\u001b[39m.\u001b[39msplit(\u001b[39m'\u001b[39m\u001b[39m\\n\u001b[39;00m\u001b[39m'\u001b[39m, \u001b[39m1\u001b[39m)[\u001b[39m0\u001b[39m])\n",
      "File \u001b[0;32m~/anaconda3/envs/torchrec-pip/lib/python3.9/site-packages/torch/jit/frontend.py:297\u001b[0m, in \u001b[0;36mget_jit_def\u001b[0;34m(fn, def_name, self_name, is_classmethod)\u001b[0m\n\u001b[1;32m    294\u001b[0m     qualname \u001b[39m=\u001b[39m get_qualified_name(fn)\n\u001b[1;32m    295\u001b[0m     pdt_arg_types \u001b[39m=\u001b[39m type_trace_db\u001b[39m.\u001b[39mget_args_types(qualname)\n\u001b[0;32m--> 297\u001b[0m \u001b[39mreturn\u001b[39;00m build_def(parsed_def\u001b[39m.\u001b[39;49mctx, fn_def, type_line, def_name, self_name\u001b[39m=\u001b[39;49mself_name, pdt_arg_types\u001b[39m=\u001b[39;49mpdt_arg_types)\n",
      "File \u001b[0;32m~/anaconda3/envs/torchrec-pip/lib/python3.9/site-packages/torch/jit/frontend.py:348\u001b[0m, in \u001b[0;36mbuild_def\u001b[0;34m(ctx, py_def, type_line, def_name, self_name, pdt_arg_types)\u001b[0m\n\u001b[1;32m    343\u001b[0m     type_comment_decl \u001b[39m=\u001b[39m torch\u001b[39m.\u001b[39m_C\u001b[39m.\u001b[39mparse_type_comment(type_line)\n\u001b[1;32m    344\u001b[0m     decl \u001b[39m=\u001b[39m torch\u001b[39m.\u001b[39m_C\u001b[39m.\u001b[39mmerge_type_from_type_comment(decl, type_comment_decl, is_method)\n\u001b[1;32m    346\u001b[0m \u001b[39mreturn\u001b[39;00m Def(Ident(r, def_name),\n\u001b[1;32m    347\u001b[0m            decl,\n\u001b[0;32m--> 348\u001b[0m            build_stmts(ctx, body))\n",
      "File \u001b[0;32m~/anaconda3/envs/torchrec-pip/lib/python3.9/site-packages/torch/jit/frontend.py:141\u001b[0m, in \u001b[0;36mbuild_stmts\u001b[0;34m(ctx, stmts)\u001b[0m\n\u001b[1;32m    140\u001b[0m \u001b[39mdef\u001b[39;00m \u001b[39mbuild_stmts\u001b[39m(ctx, stmts):\n\u001b[0;32m--> 141\u001b[0m     stmts \u001b[39m=\u001b[39m [build_stmt(ctx, s) \u001b[39mfor\u001b[39;00m s \u001b[39min\u001b[39;00m stmts]\n\u001b[1;32m    142\u001b[0m     \u001b[39mreturn\u001b[39;00m \u001b[39mlist\u001b[39m(\u001b[39mfilter\u001b[39m(\u001b[39mNone\u001b[39;00m, stmts))\n",
      "File \u001b[0;32m~/anaconda3/envs/torchrec-pip/lib/python3.9/site-packages/torch/jit/frontend.py:141\u001b[0m, in \u001b[0;36m<listcomp>\u001b[0;34m(.0)\u001b[0m\n\u001b[1;32m    140\u001b[0m \u001b[39mdef\u001b[39;00m \u001b[39mbuild_stmts\u001b[39m(ctx, stmts):\n\u001b[0;32m--> 141\u001b[0m     stmts \u001b[39m=\u001b[39m [build_stmt(ctx, s) \u001b[39mfor\u001b[39;00m s \u001b[39min\u001b[39;00m stmts]\n\u001b[1;32m    142\u001b[0m     \u001b[39mreturn\u001b[39;00m \u001b[39mlist\u001b[39m(\u001b[39mfilter\u001b[39m(\u001b[39mNone\u001b[39;00m, stmts))\n",
      "File \u001b[0;32m~/anaconda3/envs/torchrec-pip/lib/python3.9/site-packages/torch/jit/frontend.py:320\u001b[0m, in \u001b[0;36mBuilder.__call__\u001b[0;34m(self, ctx, node)\u001b[0m\n\u001b[1;32m    318\u001b[0m \u001b[39mif\u001b[39;00m method \u001b[39mis\u001b[39;00m \u001b[39mNone\u001b[39;00m:\n\u001b[1;32m    319\u001b[0m     \u001b[39mraise\u001b[39;00m UnsupportedNodeError(ctx, node)\n\u001b[0;32m--> 320\u001b[0m \u001b[39mreturn\u001b[39;00m method(ctx, node)\n",
      "File \u001b[0;32m~/anaconda3/envs/torchrec-pip/lib/python3.9/site-packages/torch/jit/frontend.py:558\u001b[0m, in \u001b[0;36mStmtBuilder.build_Assign\u001b[0;34m(ctx, stmt)\u001b[0m\n\u001b[1;32m    556\u001b[0m \u001b[39m@staticmethod\u001b[39m\n\u001b[1;32m    557\u001b[0m \u001b[39mdef\u001b[39;00m \u001b[39mbuild_Assign\u001b[39m(ctx, stmt):\n\u001b[0;32m--> 558\u001b[0m     rhs \u001b[39m=\u001b[39m build_expr(ctx, stmt\u001b[39m.\u001b[39;49mvalue)\n\u001b[1;32m    559\u001b[0m     lhs \u001b[39m=\u001b[39m [build_expr(ctx, x) \u001b[39mfor\u001b[39;00m x \u001b[39min\u001b[39;00m stmt\u001b[39m.\u001b[39mtargets]\n\u001b[1;32m    560\u001b[0m     \u001b[39mreturn\u001b[39;00m Assign(lhs, rhs)\n",
      "File \u001b[0;32m~/anaconda3/envs/torchrec-pip/lib/python3.9/site-packages/torch/jit/frontend.py:320\u001b[0m, in \u001b[0;36mBuilder.__call__\u001b[0;34m(self, ctx, node)\u001b[0m\n\u001b[1;32m    318\u001b[0m \u001b[39mif\u001b[39;00m method \u001b[39mis\u001b[39;00m \u001b[39mNone\u001b[39;00m:\n\u001b[1;32m    319\u001b[0m     \u001b[39mraise\u001b[39;00m UnsupportedNodeError(ctx, node)\n\u001b[0;32m--> 320\u001b[0m \u001b[39mreturn\u001b[39;00m method(ctx, node)\n",
      "File \u001b[0;32m~/anaconda3/envs/torchrec-pip/lib/python3.9/site-packages/torch/jit/frontend.py:1015\u001b[0m, in \u001b[0;36mExprBuilder.build_ListComp\u001b[0;34m(ctx, stmt)\u001b[0m\n\u001b[1;32m   1012\u001b[0m     \u001b[39mraise\u001b[39;00m NotSupportedError(r, \u001b[39m\"\u001b[39m\u001b[39mOnly a single generator is currently supported\u001b[39m\u001b[39m\"\u001b[39m)\n\u001b[1;32m   1014\u001b[0m \u001b[39mif\u001b[39;00m (\u001b[39mlen\u001b[39m(stmt\u001b[39m.\u001b[39mgenerators[\u001b[39m0\u001b[39m]\u001b[39m.\u001b[39mifs) \u001b[39m!=\u001b[39m \u001b[39m0\u001b[39m):\n\u001b[0;32m-> 1015\u001b[0m     \u001b[39mraise\u001b[39;00m NotSupportedError(r, \u001b[39m\"\u001b[39m\u001b[39mComprehension ifs are not supported yet\u001b[39m\u001b[39m\"\u001b[39m)\n\u001b[1;32m   1017\u001b[0m elt_expr \u001b[39m=\u001b[39m build_expr(ctx, stmt\u001b[39m.\u001b[39melt)\n\u001b[1;32m   1018\u001b[0m target_expr \u001b[39m=\u001b[39m build_expr(ctx, stmt\u001b[39m.\u001b[39mgenerators[\u001b[39m0\u001b[39m]\u001b[39m.\u001b[39mtarget)\n",
      "\u001b[0;31mNotSupportedError\u001b[0m: Comprehension ifs are not supported yet:\n  File \"/home/marc/anaconda3/envs/torchrec-pip/lib/python3.9/site-packages/merlin/schema/schema.py\", line 634\n        # must account for same columns in both schemas,\n        # use the one with more information for each field\n        keys_self_not_other = [\n            col_name for col_name in self.column_names if col_name not in other.column_names\n        ]\n'__torch__.merlin.schema.schema.Schema' is being compiled since it was called from 'EmbeddingTable.forward'\n  File \"/home/marc/src/merlin/models/merlin/models/torch/block.py\", line 389\n    def setup_schema(self, schema: Schema):\n    ~~~~~~~~~~~~~~~~~~~~~~~~~~~~~~~~~~~~~~~\n        self.schema = schema\n        ~~~~~~~~~~~~~~~~~~~~ <--- HERE\n"
     ]
    }
   ],
   "source": [
    "mf_inputs = mm.TabularInputBlock(schema)\n",
    "mf_inputs.add_for_each([Tags.USER_ID, Tags.ITEM_ID], mm.EmbeddingTable(100))\n",
    "# output = mm.ContrastiveOutput((Tags.USER_ID, Tags.ITEM_ID), schema=schema)\n",
    "# model = mm.Model(mf_inputs, output)\n",
    "\n",
    "mf_inputs"
   ]
  },
  {
   "attachments": {},
   "cell_type": "markdown",
   "metadata": {},
   "source": [
    "#### Two tower"
   ]
  },
  {
   "attachments": {},
   "cell_type": "markdown",
   "metadata": {},
   "source": [
    "![tt](img/two-tower.png)"
   ]
  },
  {
   "cell_type": "code",
   "execution_count": null,
   "metadata": {},
   "outputs": [],
   "source": []
  },
  {
   "attachments": {},
   "cell_type": "markdown",
   "metadata": {},
   "source": [
    "#### Youtube DNN Retrieval"
   ]
  },
  {
   "attachments": {},
   "cell_type": "markdown",
   "metadata": {},
   "source": [
    "![yt](img/youtube-dnn.png)"
   ]
  },
  {
   "cell_type": "code",
   "execution_count": null,
   "metadata": {},
   "outputs": [],
   "source": [
    "inputs = TabularInputBlock(schema, init=\"defaults\")\n",
    "output = ContrastiveOutput(Tags.ITEM_ID, schema=schema)\n",
    "model = Model(inputs, MLPBlock([512, 256]), output)"
   ]
  },
  {
   "attachments": {},
   "cell_type": "markdown",
   "metadata": {},
   "source": [
    "## Ranking"
   ]
  },
  {
   "attachments": {},
   "cell_type": "markdown",
   "metadata": {},
   "source": [
    "#### DLRM"
   ]
  },
  {
   "attachments": {},
   "cell_type": "markdown",
   "metadata": {},
   "source": [
    "![dlrm](img/dlrm.png)"
   ]
  },
  {
   "cell_type": "code",
   "execution_count": null,
   "metadata": {},
   "outputs": [],
   "source": [
    "class ShortcutConcatContinuous(Link):\n",
    "    def forward(self, inputs: Dict[str, torch.Tensor]) -> torch.Tensor:\n",
    "        intermediate_output = self.output(inputs)\n",
    "\n",
    "        return torch.cat((inputs[\"continuous\"], intermediate_output), dim=1)\n",
    "\n",
    "\n",
    "bottom_block = MLPBlock([256, 128])\n",
    "top_block = MLPBlock([256, 128])\n",
    "\n",
    "dlrm = TabularInputBlock(schema)\n",
    "dlrm.add(Tags.CATEGORICAL, Embeddings(128))\n",
    "dlrm.add(Tags.CONTINUOUS, bottom_block, name=\"continuous\")\n",
    "dlrm.append(DLRMInteraction(), link=ShortcutConcatContinuous())\n",
    "# dlrm.append(DLRMInteraction(), link=Shortcut(post_fn=lambda x: torch.cat((x[\"output\"], x[\"continuous\"]), dim=1)))\n",
    "dlrm.append(top_block)\n",
    "\n",
    "model = Model(dlrm, BinaryOutput())"
   ]
  },
  {
   "attachments": {},
   "cell_type": "markdown",
   "metadata": {},
   "source": [
    "#### DCN-V2"
   ]
  },
  {
   "attachments": {},
   "cell_type": "markdown",
   "metadata": {},
   "source": [
    "![dcn](img/dcn-v2.png)"
   ]
  },
  {
   "cell_type": "code",
   "execution_count": null,
   "metadata": {},
   "outputs": [],
   "source": [
    "class DenseMaybeLowRank(nn.Module):\n",
    "    ...\n",
    "\n",
    "class Cross(Link):\n",
    "    def forward(self, x: torch.Tensor) -> torch.Tensor:\n",
    "        x0 = x\n",
    "        current = x\n",
    "        for module in self.output.values:\n",
    "            current = x0 * module(current) + current\n",
    "\n",
    "        return current\n",
    "\n",
    "\n",
    "def CrossBlock(n: int, low_rank_dim: Optional[int] = None):\n",
    "    cross_modules = Block(DenseMaybeLowRank(low_rank_dim)).repeat(n)\n",
    "\n",
    "    return Block(name=\"CrossBlock\").append(cross_modules, link=Cross()))\n",
    "\n",
    "\n",
    "inputs = TabularInputBlock(schema, init=\"defaults\")\n",
    "\n",
    "dcn_parallel = ParallelBlock(name=\"DCNParallel\")\n",
    "dcn_parallel.prepend(\"concat\")\n",
    "dnc_parallel.branches[\"cross\"] = CrossBlock(5)\n",
    "dcn_parallel.branches[\"deep\"] = MLPBlock([256, 128])\n",
    "dcn_parallel.append(\"concat\")\n",
    "\n",
    "dcn_parallel = ParallelBlock(\n",
    "    {\"cross\": CrossBlock(5), \"deep\": MLPBlock([256, 128])},\n",
    "    name=\"DCNParallel\",\n",
    "    pre=\"concat\",\n",
    "    post=\"concat\",\n",
    ")\n",
    "\n",
    "\n",
    "dcn_stacked = Block(CrossBlock(5), name=\"DCNStacked\").append(MLPBlock([256, 128]))"
   ]
  },
  {
   "attachments": {},
   "cell_type": "markdown",
   "metadata": {},
   "source": [
    "#### Multi-task"
   ]
  },
  {
   "attachments": {},
   "cell_type": "markdown",
   "metadata": {},
   "source": [
    "![mmoe](img/mmoe.png)"
   ]
  },
  {
   "cell_type": "code",
   "execution_count": null,
   "metadata": {},
   "outputs": [],
   "source": [
    "expert = MLPBlock([256, 128])\n",
    "outputs = OutputBlock(schema, init=\"defaults\")\n",
    "outputs.prepend_for_each(MLPBlock([256, 128]))\n",
    "\n",
    "experts = ParallelBlock({\n",
    "    \"experts\": Block.parse(expert).repeat_parallel(5, agg=\"stack\")\n",
    "}, shortcut=True)\n",
    "\n",
    "# This will output create a ParallelBlock with a gate for each output\n",
    "gates = Block(ExpertGate(pre_gate, len(outputs))).repeat_parallel_like(outputs)\n",
    "\n",
    "mmoe = Block(experts, gates, outputs)"
   ]
  },
  {
   "attachments": {},
   "cell_type": "markdown",
   "metadata": {},
   "source": [
    "## Session based"
   ]
  },
  {
   "attachments": {},
   "cell_type": "markdown",
   "metadata": {},
   "source": [
    "#### Current"
   ]
  },
  {
   "cell_type": "code",
   "execution_count": null,
   "metadata": {},
   "outputs": [],
   "source": [
    "class BroadcastToSequence:\n",
    "    def __init__(\n",
    "        self,\n",
    "        context_selection=Tags.CONTEXT,\n",
    "        sequence_selection=Tags.SEQUENCE,\n",
    "        schema: Optional[Schema] = None\n",
    "    ):\n",
    "        ...\n",
    "\n",
    "    def setup_schema(self, schema: Schema):\n",
    "        ...\n",
    "\n",
    "\n",
    "inputs = TabularInputBlock(schema)\n",
    "inputs.add(Tags.CONTINUOUS)\n",
    "inputs.add(Tags.CATEGORICAL, Embeddings(128))\n",
    "inputs.append(BroadcastToSequence())"
   ]
  },
  {
   "attachments": {},
   "cell_type": "markdown",
   "metadata": {},
   "source": [
    "#### Proposed alternative"
   ]
  },
  {
   "cell_type": "code",
   "execution_count": null,
   "metadata": {},
   "outputs": [],
   "source": [
    "class ConditionedTransformer(nn.Module):\n",
    "    def __init__(\n",
    "        self,\n",
    "        input_key: str = \"inputs\",\n",
    "        conditioning_key: str = \"context\",\n",
    "        d_model: int = 512,\n",
    "        nhead: int = 8,\n",
    "        num_layers: int = 6,\n",
    "        dim_feedforward: int = 2048,\n",
    "        dropout: float = 0.1,\n",
    "    ):\n",
    "        super(ConditionedTransformer, self).__init__()\n",
    "\n",
    "        # Initialize cross attention layer\n",
    "        self.cross_attention = nn.MultiheadAttention(d_model, nhead, dropout)\n",
    "\n",
    "        # Initialize self attention layers\n",
    "        encoder_layer = nn.TransformerEncoderLayer(d_model, nhead, dim_feedforward, dropout)\n",
    "        self.transformer = nn.TransformerEncoder(encoder_layer, num_layers)\n",
    "\n",
    "        # Store input and conditioning keys\n",
    "        self.input_key = input_key\n",
    "        self.conditioning_key = conditioning_key\n",
    "\n",
    "    def forward(self, input_dict: dict):\n",
    "        # Extract inputs and context from the input dictionary\n",
    "        inputs = input_dict[self.input_key]\n",
    "        context = input_dict[self.conditioning_key]\n",
    "\n",
    "        # Perform cross-attention on context\n",
    "        cross_att_output, _ = self.cross_attention(inputs, context, context)\n",
    "\n",
    "        # Perform self-attention on input_key (inputs)\n",
    "        self_att_output = self.transformer(cross_att_output)\n",
    "\n",
    "        return self_att_output\n",
    "\n",
    "\n",
    "inputs = TabularInputBlock(schema, init=\"embeddings-128\")\n",
    "encoder = inputs.to_router()\n",
    "encoder.add(Tags.CONTEXT, Block(\"stack\", nn.LayerNorm(128), nn.Transformer(d_model=128)), name=\"context\")\n",
    "encoder.add(Tags.SEQUENCE, Block(\"stack\"), name=\"inputs\")\n",
    "encoder.append(ConditionedTransformer(), link=\"residual\")"
   ]
  },
  {
   "attachments": {},
   "cell_type": "markdown",
   "metadata": {},
   "source": [
    "## Tabular Transformers"
   ]
  },
  {
   "attachments": {},
   "cell_type": "markdown",
   "metadata": {},
   "source": [
    "#### ExcelFormer"
   ]
  },
  {
   "attachments": {},
   "cell_type": "markdown",
   "metadata": {},
   "source": [
    "![excel](img/excelformer.png)"
   ]
  },
  {
   "cell_type": "code",
   "execution_count": null,
   "metadata": {},
   "outputs": [],
   "source": [
    "class ExcelEmbeddings(nn.Module):\n",
    "    def __init__(self, dim: int, schema: Optional[Schema] = None):\n",
    "        super(ExcelEmbeddings, self).__init__()\n",
    "        self.dim = dim\n",
    "        self.concat = Concat()\n",
    "\n",
    "    def setup_schema(self, schema: Schema):\n",
    "        num_features = len(schema)\n",
    "\n",
    "        self.W1 = nn.Parameter(torch.empty(num_features, self.dim))\n",
    "        self.W2 = nn.Parameter(torch.empty(num_features, self.dim))\n",
    "        self.b1 = nn.Parameter(torch.empty(num_features, self.dim))\n",
    "        self.b2 = nn.Parameter(torch.empty(num_features, self.dim))\n",
    "\n",
    "        self._reset_parameters()\n",
    "\n",
    "    def _reset_parameters(self):\n",
    "        nn.init.kaiming_uniform_(self.W1, a=math.sqrt(5))\n",
    "        nn.init.kaiming_uniform_(self.W2, a=math.sqrt(5))\n",
    "        fan_in, _ = nn.init._calculate_fan_in_and_fan_out(self.W1)\n",
    "        bound = 1 / math.sqrt(fan_in)\n",
    "        nn.init.uniform_(self.b1, -bound, bound)\n",
    "        nn.init.uniform_(self.b2, -bound, bound)\n",
    "\n",
    "    def forward(self, inputs: Dict[str, torch.Tensor]) -> torch.Tensor:\n",
    "        x = self.concat(inputs)\n",
    "\n",
    "        # x: Input tensor of shape (batch_size, num_features)\n",
    "        z1 = torch.tanh(torch.matmul(x.unsqueeze(1), self.W1) + self.b1)\n",
    "        z2 = torch.matmul(x.unsqueeze(1), self.W2) + self.b2\n",
    "        z = z1 * z2\n",
    "        return z.squeeze(1)"
   ]
  },
  {
   "cell_type": "code",
   "execution_count": null,
   "metadata": {},
   "outputs": [],
   "source": []
  },
  {
   "attachments": {},
   "cell_type": "markdown",
   "metadata": {},
   "source": []
  }
 ],
 "metadata": {
  "kernelspec": {
   "display_name": "torchrec-pip",
   "language": "python",
   "name": "python3"
  },
  "language_info": {
   "codemirror_mode": {
    "name": "ipython",
    "version": 3
   },
   "file_extension": ".py",
   "mimetype": "text/x-python",
   "name": "python",
   "nbconvert_exporter": "python",
   "pygments_lexer": "ipython3",
   "version": "3.9.16"
  },
  "orig_nbformat": 4
 },
 "nbformat": 4,
 "nbformat_minor": 2
}
